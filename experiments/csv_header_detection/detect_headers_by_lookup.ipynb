{
 "cells": [
  {
   "cell_type": "code",
   "execution_count": 20,
   "id": "931bc5f0",
   "metadata": {
    "pycharm": {
     "name": "#%%\n"
    }
   },
   "outputs": [],
   "source": [
    "import gzip\n",
    "import json\n",
    "import os\n",
    "import csv\n",
    "import numpy as np\n",
    "from scipy import stats"
   ]
  },
  {
   "cell_type": "code",
   "execution_count": null,
   "id": "af57bb3f",
   "metadata": {
    "pycharm": {
     "name": "#%%\n"
    }
   },
   "outputs": [],
   "source": []
  },
  {
   "cell_type": "code",
   "execution_count": 21,
   "id": "26f2c419",
   "metadata": {
    "pycharm": {
     "name": "#%%\n"
    }
   },
   "outputs": [],
   "source": [
    "# prepare column names data lookup dicts"
   ]
  },
  {
   "cell_type": "code",
   "execution_count": 22,
   "id": "8dfc6a65",
   "metadata": {
    "pycharm": {
     "name": "#%%\n"
    }
   },
   "outputs": [],
   "source": [
    "with gzip.open(\"../../data/schemapile.json.gz\", 'r') as f:\n",
    "    schemapile = json.loads(f.read().decode('utf-8'))"
   ]
  },
  {
   "cell_type": "code",
   "execution_count": 24,
   "id": "2dff3a95",
   "metadata": {
    "pycharm": {
     "name": "#%%\n"
    }
   },
   "outputs": [],
   "source": [
    "from collections import Counter\n",
    "\n",
    "column_names = []\n",
    "tables_count = 0\n",
    "for schema in schemapile:\n",
    "    for table in schemapile[schema][\"TABLES\"]:\n",
    "        for column_name in schemapile[schema][\"TABLES\"][table][\"COLUMNS\"]:\n",
    "            column_names.append(column_name.lower())\n",
    "        tables_count += 1\n",
    "column_names_schemapile = Counter(column_names)"
   ]
  },
  {
   "cell_type": "code",
   "execution_count": null,
   "id": "8802ca44",
   "metadata": {
    "pycharm": {
     "name": "#%%\n"
    }
   },
   "outputs": [],
   "source": []
  },
  {
   "cell_type": "code",
   "execution_count": null,
   "id": "d3fe44cb",
   "metadata": {
    "pycharm": {
     "name": "#%%\n"
    }
   },
   "outputs": [],
   "source": [
    "# load ground truth labels"
   ]
  },
  {
   "cell_type": "code",
   "execution_count": 25,
   "id": "12745e78",
   "metadata": {
    "pycharm": {
     "name": "#%%\n"
    }
   },
   "outputs": [],
   "source": [
    "pollock_folder = \"pollock/\""
   ]
  },
  {
   "cell_type": "code",
   "execution_count": 26,
   "id": "dedb9237",
   "metadata": {
    "pycharm": {
     "name": "#%%\n"
    }
   },
   "outputs": [],
   "source": [
    "import os\n",
    "pollock_eval = {}\n",
    "for file in sorted(os.listdir(pollock_folder+\"csv/\")):\n",
    "    pollock_params = json.load(open(f\"{pollock_folder}/parameters/{file}_parameters.json\"))\n",
    "    ground_truth = int(pollock_params[\"header_lines\"])+int(pollock_params[\"preamble_lines\"])\n",
    "    pollock_eval[pollock_folder+\"csv/\"+file] = ground_truth"
   ]
  },
  {
   "cell_type": "code",
   "execution_count": null,
   "id": "656f24b0",
   "metadata": {
    "pycharm": {
     "name": "#%%\n"
    }
   },
   "outputs": [],
   "source": []
  },
  {
   "cell_type": "code",
   "execution_count": null,
   "id": "5a7d9172",
   "metadata": {
    "pycharm": {
     "name": "#%%\n"
    }
   },
   "outputs": [],
   "source": [
    "# schemapile lookup method"
   ]
  },
  {
   "cell_type": "code",
   "execution_count": 28,
   "id": "0c47108d",
   "metadata": {
    "pycharm": {
     "name": "#%%\n"
    }
   },
   "outputs": [],
   "source": [
    "def find_outliers(data):\n",
    "    sorted_indices = list(np.argsort(data))\n",
    "    if len(sorted_indices) >2:\n",
    "        # Check if the maximum value is significantly larger than the mean of the other values\n",
    "        if sorted_indices[-1]+1 < len(sorted_indices) and data[sorted_indices[-1]] > 10*data[sorted_indices[-1]+1]:\n",
    "            outlier_index = [sorted_indices[-1]]\n",
    "        else:\n",
    "            outlier_index = []\n",
    "    else:\n",
    "        outlier_index = []\n",
    "    return outlier_index\n",
    "\n",
    "\n",
    "def get_header_row_by_lookup(file_content):\n",
    "    matches_per_row = []\n",
    "    max_match_count = 0\n",
    "\n",
    "    rows = file_content.replace(\";\", \",\").replace(\"\\\"\", \"\").replace(\"\\t\", \",\").replace(\"'\",\"\").replace(\" \",\"_\").lower().split(\"\\n\")\n",
    "    for i, row in enumerate(rows):   \n",
    "        if i > 20:\n",
    "            break\n",
    "            \n",
    "        if len(row.split()) == 0:\n",
    "            continue\n",
    "\n",
    "        column_values = row.split(\",\")\n",
    "                \n",
    "        total_match_count = 0\n",
    "        for column_value in column_values:\n",
    "            total_match_count += column_names_schemapile[column_value]\n",
    "\n",
    "        matches_per_row.append(total_match_count)\n",
    "    \n",
    "    # testing the function\n",
    "    potentials_headers = find_outliers(matches_per_row)\n",
    "    if len(potentials_headers):\n",
    "        return max(potentials_headers) + 1, matches_per_row\n",
    "    else:\n",
    "        return 0, matches_per_row"
   ]
  },
  {
   "cell_type": "code",
   "execution_count": 29,
   "id": "e9dbe8a4",
   "metadata": {
    "scrolled": true,
    "pycharm": {
     "name": "#%%\n"
    }
   },
   "outputs": [],
   "source": [
    "def evaluate(eval_data):\n",
    "    matches_lookup = 0\n",
    "    matches_py_csv = 0\n",
    "    matches_hybrid = 0\n",
    "    for csv_file_name in eval_data:\n",
    "        ground_truth = eval_data[csv_file_name]\n",
    "\n",
    "        with open(csv_file_name, newline='') as csv_file:\n",
    "            csv_file_content = csv_file.read()[:10000]\n",
    "            lookup, matches_per_row = get_header_row_by_lookup(csv_file_content)\n",
    "\n",
    "            try:    \n",
    "                pycsv = csv.Sniffer().has_header(csv_file_content)\n",
    "            except Exception as e:\n",
    "                pycsv = None\n",
    "                \n",
    "            hybrid = 1 if pycsv==1 else lookup\n",
    "\n",
    "        if ground_truth == lookup:\n",
    "            matches_lookup += 1\n",
    "        if ground_truth == pycsv:\n",
    "            matches_py_csv += 1\n",
    "        if ground_truth == hybrid:\n",
    "            matches_hybrid += 1\n",
    "            \n",
    "    print(f\"matches lookup: {matches_lookup}/100\")\n",
    "    print(f\"matches py_csv: {matches_py_csv}/100\")\n",
    "    print(f\"matches hybrid: {matches_hybrid}/100\")"
   ]
  },
  {
   "cell_type": "code",
   "execution_count": null,
   "id": "61789603",
   "metadata": {
    "pycharm": {
     "name": "#%%\n"
    }
   },
   "outputs": [],
   "source": []
  },
  {
   "cell_type": "code",
   "execution_count": null,
   "id": "04eed8b8",
   "metadata": {
    "pycharm": {
     "name": "#%%\n"
    }
   },
   "outputs": [],
   "source": [
    "# evaluate approaches"
   ]
  },
  {
   "cell_type": "code",
   "execution_count": null,
   "id": "467f3deb",
   "metadata": {
    "pycharm": {
     "name": "#%%\n"
    }
   },
   "outputs": [],
   "source": [
    "evaluate(pollock_eval)"
   ]
  }
 ],
 "metadata": {
  "kernelspec": {
   "display_name": "Python 3 (ipykernel)",
   "language": "python",
   "name": "python3"
  },
  "language_info": {
   "codemirror_mode": {
    "name": "ipython",
    "version": 3
   },
   "file_extension": ".py",
   "mimetype": "text/x-python",
   "name": "python",
   "nbconvert_exporter": "python",
   "pygments_lexer": "ipython3",
   "version": "3.10.11"
  }
 },
 "nbformat": 4,
 "nbformat_minor": 5
}