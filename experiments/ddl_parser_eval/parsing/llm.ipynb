{
 "cells": [
  {
   "cell_type": "code",
   "execution_count": 156,
   "metadata": {
    "pycharm": {
     "name": "#%%\n"
    }
   },
   "outputs": [],
   "source": [
    "import os\n",
    "import openai\n",
    "\n",
    "import pandas as pd\n",
    "import numpy as np\n",
    "import matplotlib.pyplot as plt\n",
    "import uuid\n",
    "import json\n",
    "import regex\n",
    "\n",
    "from tenacity import (\n",
    "    retry,\n",
    "    stop_after_attempt,\n",
    "    wait_random_exponential,\n",
    ")  # for exponential backoff\n",
    "\n",
    "import sys\n",
    "sys.path.insert(0,'..')\n",
    "from utils import get_file_encodings\n",
    "\n",
    "from FileHandler import FileHandler\n",
    "\n",
    "openai.organization = \"\"\n",
    "openai.api_key = \"\""
   ]
  },
  {
   "cell_type": "code",
   "execution_count": 157,
   "metadata": {
    "pycharm": {
     "name": "#%%\n"
    }
   },
   "outputs": [],
   "source": [
    "@retry(wait=wait_random_exponential(min=1, max=60), stop=stop_after_attempt(6))\n",
    "def completion_with_backoff(**kwargs):\n",
    "    return openai.ChatCompletion.create(**kwargs)\n",
    "\n",
    "def call_chatgpt(file_contents):\n",
    "    response = completion_with_backoff(\n",
    "    model=\"gpt-3.5-turbo\",\n",
    "    messages=[\n",
    "            {\"role\": \"system\", \"content\": \"Consider this SQL file: \" + file_contents},\n",
    "            {\"role\": \"user\", \"content\": \"Return one JSON object with the following keys: '1' and '2'. First, for json key '1', in JSON format, find and return the following from the SQL file: 1) a list of distinct table names using JSON key 'tables' ; 2) a list of distinct column names using JSON key 'columns' (do not link the columns to the tables) ; 3) a list of distinct database names using JSON key 'dbs' ; 3) a  list of distinct schema names using JSON key 'schemas'; 4) a list of distinct view names using JSON key 'views'. Do not return any other text in the response other than the JSON object. Then, separately, for json key '2', in JSON format: find and return the following from the SQL file: 1) number of columns that have a NOT NULL constraint using JSON key 'num_ctr_notnull' ; 2) number of columns that have a primary key constraint using JSON key 'num_ctr_pk' ; 3) number of columns that have a unique constraint using JSON key 'num_ctr_uk' ; 4) number of columns that are foreign keys using JSON key 'num_ctr_fk'. Do not return any other text in the response other than the JSON object.\"}\n",
    "        ]\n",
    "    )\n",
    "\n",
    "    return response\n",
    "\n",
    "def count_tokens_from_response(response):\n",
    "    try:\n",
    "       out = response['usage']['total_tokens']\n",
    "    except KeyError:\n",
    "       out = 0\n",
    "    return out \n",
    "    \n",
    "def parse_response(response):\n",
    "    try:\n",
    "        results = json.loads(response['choices'][0]['message']['content'])\n",
    "    except json.JSONDecodeError:\n",
    "        try:\n",
    "            pattern = regex.compile(r'\\{(?:[^{}]|(?R))*\\}')\n",
    "            results = json.loads(pattern.findall(response['choices'][0]['message']['content'])[0])\n",
    "        except:\n",
    "            results = None\n",
    "    except KeyError:\n",
    "        results = None\n",
    "    except TypeError:\n",
    "        results = None\n",
    "\n",
    "    table_list = []\n",
    "    col_list = []\n",
    "    db_list = []\n",
    "    sch_list = []\n",
    "    vw_list = []\n",
    "\n",
    "    nn = 0\n",
    "    fk = 0\n",
    "    pk = 0\n",
    "    uk = 0\n",
    "\n",
    "    if results is not None:\n",
    "        try:\n",
    "            interm = results['1']\n",
    "            table_list = list(set([item.upper() for item in (interm['tables'] or []) if item is not None]))\n",
    "            col_list = list(set([item.upper() for item in (interm['columns'] or []) if item is not None]))\n",
    "            db_list = list(set([item.upper() for item in (interm['dbs'] or []) if item is not None]))\n",
    "            sch_list = list(set([item.upper() for item in (interm['schemas'] or []) if item is not None]))\n",
    "            vw_list = list(set([item.upper() for item in (interm['views'] or []) if item is not None]))\n",
    "        except KeyError:\n",
    "            pass\n",
    "\n",
    "        try:\n",
    "            interm = results['2']\n",
    "            nn = interm['num_ctr_notnull']\n",
    "            pk = interm['num_ctr_pk']\n",
    "            uk = interm['num_ctr_uk']\n",
    "            fk = interm['num_ctr_fk']\n",
    "        except KeyError:\n",
    "            pass\n",
    "\n",
    "    return table_list,col_list,db_list,sch_list,vw_list, nn,fk,pk,uk"
   ]
  },
  {
   "cell_type": "code",
   "execution_count": 158,
   "metadata": {
    "pycharm": {
     "name": "#%%\n"
    }
   },
   "outputs": [
    {
     "data": {
      "text/plain": [
       "<Axes: >"
      ]
     },
     "execution_count": 158,
     "metadata": {},
     "output_type": "execute_result"
    },
    {
     "data": {
      "image/png": "[encoded data removed]",
      "text/plain": [
       "<Figure size 1500x1000 with 1 Axes>"
      ]
     },
     "metadata": {},
     "output_type": "display_data"
    }
   ],
   "source": [
    "token_count = pd.read_csv('token_count.csv',dtype={'a':str,'file_id': str,'file_path':str,'n_tokens':np.int64})\n",
    "\n",
    "# 5432\n",
    "candidates = pd.read_csv('files_parsable_only_by_pglast.csv',dtype={'file_id':str})\n",
    "candidates = candidates.merge(token_count,on=['file_id'],how='inner')\n",
    "import matplotlib.pyplot as plt\n",
    "plt.figure(figsize=(15, 10))\n",
    "candidates['n_tokens'].hist(bins=7)"
   ]
  },
  {
   "cell_type": "code",
   "execution_count": 159,
   "metadata": {
    "pycharm": {
     "name": "#%%\n"
    }
   },
   "outputs": [
    {
     "data": {
      "text/plain": [
       "3554853"
      ]
     },
     "execution_count": 159,
     "metadata": {},
     "output_type": "execute_result"
    }
   ],
   "source": [
    "candidates[candidates.n_tokens<4000]['n_tokens'].sum()\n",
    "\n",
    "# 19 081 177 sum of tokens (ALL)\n",
    "# 3 554 853 sum of tokens (n_tokens < 4000)"
   ]
  },
  {
   "cell_type": "code",
   "execution_count": 160,
   "metadata": {
    "pycharm": {
     "name": "#%%\n"
    }
   },
   "outputs": [
    {
     "data": {
      "text/plain": [
       "file_id         2374\n",
       "Unnamed: 0_x    2374\n",
       "file_path_x     2374\n",
       "n_tokens_x      2374\n",
       "Unnamed: 0_y       0\n",
       "file_path_y        0\n",
       "n_tokens_y         0\n",
       "_merge          2374\n",
       "dtype: int64"
      ]
     },
     "execution_count": 160,
     "metadata": {},
     "output_type": "execute_result"
    }
   ],
   "source": [
    "encodings = get_file_encodings('../../data/filedetails/')\n",
    "\n",
    "\n",
    "to_remove = pd.read_csv('already_parsed.csv',dtype={'file_id':str})\n",
    "to_remove = to_remove.merge(token_count,on=['file_id'],how='inner')\n",
    "already_done_tokens = to_remove['n_tokens'].sum()\n",
    "\n",
    "candidates = candidates.merge(to_remove, on=['file_id'], \n",
    "                   how='left', indicator=True)\n",
    "\n",
    "candidates = candidates[candidates['_merge'] == 'left_only']\n",
    "\n",
    "# 4096 max, 280 other prompt => \n",
    "candidates = candidates[candidates.n_tokens_x < 2800]\n",
    "\n",
    "random_samples = candidates.sample(n=candidates.shape[0], random_state=1)\n",
    "to_parse = random_samples[random_samples.n_tokens_x.cumsum() < 4000000 - already_done_tokens*1.5]\n",
    "\n",
    "to_parse.reset_index(drop=True,inplace=True)\n",
    "to_parse.count()"
   ]
  },
  {
   "cell_type": "code",
   "execution_count": null,
   "metadata": {
    "pycharm": {
     "name": "#%%\n",
     "is_executing": true
    }
   },
   "outputs": [],
   "source": [
    "done = []\n",
    "\n",
    "token_counter = 0\n",
    "file_counter = 0\n",
    "\n",
    "for index, row in to_parse.iterrows():\n",
    "\n",
    "    f = FileHandler(row['file_path_x'])\n",
    "    f.file_open(file_encoding=encodings[row['file_id']])\n",
    "    f.file_read()\n",
    "    f.file_close()\n",
    "    \n",
    "    result = {'file_id': row['file_id'],\n",
    "              'error': 0}\n",
    "\n",
    "    response = call_chatgpt(f.file_contents)\n",
    "    result['finish_reason'] = response['choices'][0]['finish_reason']\n",
    "    result['orig_response'] = str(response)\n",
    "    result['used_tokens'] = count_tokens_from_response(response)\n",
    "    token_counter += result['used_tokens']\n",
    "\n",
    "    if result['finish_reason'] == 'length':\n",
    "        table_list,col_list,db_list,sch_list,vw_list, nn,fk,pk,uk = parse_response(None)\n",
    "        result['error'] = 2\n",
    "    else:\n",
    "        try:\n",
    "            table_list,col_list,db_list,sch_list,vw_list, nn,fk,pk,uk = parse_response(response)\n",
    "        except Exception as e:\n",
    "            if \"sorry\" in response['choices'][0]['message']['content'].lower():\n",
    "                table_list,col_list,db_list,sch_list,vw_list, nn,fk,pk,uk = parse_response(None)\n",
    "                result['error'] = 1\n",
    "            else:\n",
    "                table_list,col_list,db_list,sch_list,vw_list, nn,fk,pk,uk = parse_response(None)\n",
    "                result['error'] = 1\n",
    "                print(response)\n",
    "                print(\"===\")\n",
    "                print(e)\n",
    "                break\n",
    "    \n",
    "    result['table_list'] = table_list\n",
    "    result['column_list'] = col_list\n",
    "    result['schema_list'] = sch_list\n",
    "    result['db_list'] = db_list\n",
    "    result['view_list'] = vw_list\n",
    "\n",
    "    result['num_ctr_notnull'] = nn\n",
    "    result['num_ctr_unique'] = uk\n",
    "    result['num_ctr_primary'] = pk\n",
    "    result['num_ctr_foreign'] = fk\n",
    "    \n",
    "    out_file_path = '../../data/chatgpt/' + str(uuid.uuid4()) + '.json'\n",
    "\n",
    "    with open(out_file_path, 'w+', encoding='utf-8') as outf:\n",
    "        json.dump(result, outf, ensure_ascii=False, indent=4)\n",
    "\n",
    "    done.append({'file_id': row['file_id']})\n",
    "    file_counter += 1\n",
    "\n",
    "    # 500k tokens = 1 $\n",
    "    if file_counter % 10 == 0:\n",
    "        print(str(file_counter) + '|' + str(token_counter))\n",
    "\n",
    "    if index > 500:\n",
    "        break\n",
    "\n",
    "    already_parsed = pd.DataFrame([{'file_id': row['file_id']}])\n",
    "    already_parsed.to_csv('already_parsed.csv', mode='a', header=False,index=False)"
   ]
  }
 ],
 "metadata": {
  "kernelspec": {
   "display_name": "windows",
   "language": "python",
   "name": "python3"
  },
  "language_info": {
   "codemirror_mode": {
    "name": "ipython",
    "version": 3
   },
   "file_extension": ".py",
   "mimetype": "text/x-python",
   "name": "python",
   "nbconvert_exporter": "python",
   "pygments_lexer": "ipython3",
   "version": "3.8.10"
  },
  "orig_nbformat": 4
 },
 "nbformat": 4,
 "nbformat_minor": 2
}