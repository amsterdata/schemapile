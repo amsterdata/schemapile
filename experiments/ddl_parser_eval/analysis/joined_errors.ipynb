{
 "cells": [
  {
   "cell_type": "markdown",
   "metadata": {
    "pycharm": {
     "name": "#%% md\n"
    }
   },
   "source": [
    "# Imports and file details"
   ]
  },
  {
   "cell_type": "code",
   "execution_count": 1,
   "metadata": {
    "pycharm": {
     "name": "#%%\n"
    }
   },
   "outputs": [
    {
     "name": "stderr",
     "output_type": "stream",
     "text": [
      "C:\\Users\\geacu\\AppData\\Local\\Temp\\ipykernel_15152\\1209008593.py:27: FutureWarning: Passing a negative integer is deprecated in version 1.0 and will not be supported in future version. Instead, use None to not limit the column width.\n",
      "  pd.set_option('max_colwidth', -1)\n"
     ]
    }
   ],
   "source": [
    "import pyarrow as pa\n",
    "import pyarrow.parquet as pq\n",
    "import pyarrow.compute as pc\n",
    "\n",
    "import matplotlib.pyplot as plt\n",
    "import seaborn as sns\n",
    "\n",
    "sns.set_theme()\n",
    "sns.set_style(\"ticks\")\n",
    "\n",
    "import os\n",
    "import sys\n",
    "sys.path.insert(0,'..')\n",
    "\n",
    "import pandas as pd\n",
    "import json\n",
    "import numpy as np\n",
    "\n",
    "import dask.dataframe as dd\n",
    "from dask.dataframe.utils import make_meta\n",
    "\n",
    "pd.set_option('display.max_rows', 500)\n",
    "pd.set_option('display.max_columns', 500)\n",
    "pd.set_option('display.width', 1000)\n",
    "pd.set_option('display.max_columns', None)\n",
    "pd.set_option('display.expand_frame_repr', False)\n",
    "pd.set_option('max_colwidth', -1)\n",
    "\n",
    "from src.utils import SQLParserSchema, PGLastSchema, get_file_encodings, SQLGlotSchema, SimpleDDLParserSchema,TIDBMysqlSchema\n",
    "\n",
    "from dask.diagnostics import ProgressBar\n",
    "ProgressBar().register()"
   ]
  },
  {
   "cell_type": "code",
   "execution_count": 4,
   "metadata": {
    "pycharm": {
     "name": "#%%\n"
    }
   },
   "outputs": [],
   "source": [
    "def read_partial(parser, schema_type, cols):\n",
    "    _outdir = '../out/'\n",
    "\n",
    "    if parser == 'sqlparser':\n",
    "        p = SQLParserSchema()\n",
    "        _outdir += 'sqlparser'\n",
    "    elif parser == 'pglast':\n",
    "        p = PGLastSchema()\n",
    "        _outdir += 'pglast'\n",
    "    elif parser == 'sqlglot':\n",
    "        p = SQLGlotSchema()\n",
    "        _outdir += 'sqlglot'\n",
    "    elif parser == 'simple':\n",
    "        p = SimpleDDLParserSchema()\n",
    "        _outdir += 'simpleddlparser'\n",
    "    elif parser == 'tidb':\n",
    "        p = TIDBMysqlSchema()\n",
    "        _outdir += 'tidb_mysql'\n",
    "    \n",
    "    if schema_type == 'file':\n",
    "        _schema = p.file_level_schema\n",
    "        _outdir += '/'\n",
    "    elif schema_type == 'stmt':\n",
    "        _schema = p.statement_list_sch\n",
    "        _outdir += '_details/'\n",
    "    \n",
    "    ddf = dd.read_parquet(_outdir,columns=cols, schema=_schema, split_row_groups=True, calculate_divisions=True,engine='pyarrow')\n",
    "    return ddf"
   ]
  },
  {
   "cell_type": "code",
   "execution_count": 6,
   "metadata": {
    "pycharm": {
     "name": "#%%\n"
    }
   },
   "outputs": [],
   "source": [
    "# Read file details\n",
    "fd = []\n",
    "for file in os.listdir('../out/filedetails/'):\n",
    "        full_filename = \"%s/%s\" % ('../out/filedetails/', file)\n",
    "        with open(full_filename,'r') as fi:\n",
    "            dict = json.load(fi)\n",
    "            for item in dict:\n",
    "                  fd.append(item)\n",
    "\n",
    "filedetails_df = pd.DataFrame.from_dict(fd)\n",
    "del fd"
   ]
  },
  {
   "attachments": {},
   "cell_type": "markdown",
   "metadata": {
    "pycharm": {
     "name": "#%% md\n"
    }
   },
   "source": [
    "# Trying to join errors"
   ]
  },
  {
   "cell_type": "code",
   "execution_count": 5,
   "metadata": {
    "pycharm": {
     "name": "#%%\n"
    }
   },
   "outputs": [],
   "source": [
    "pglast_details = read_partial('pglast','stmt',PGLastSchema().statement_list_sch.names)\n",
    "sqlglot_details = read_partial('sqlglot','stmt',SQLGlotSchema().statement_list_sch.names)"
   ]
  },
  {
   "attachments": {},
   "cell_type": "markdown",
   "metadata": {
    "pycharm": {
     "name": "#%% md\n"
    }
   },
   "source": [
    "Number of statements parsable by both pglast and sqlglot : 6775428"
   ]
  },
  {
   "cell_type": "code",
   "execution_count": null,
   "metadata": {
    "pycharm": {
     "name": "#%%\n"
    }
   },
   "outputs": [],
   "source": [
    "pglast_joined_sqlglot = dd.merge(\n",
    "    read_partial('pglast','stmt',['file_id','statement_nr','parsed']),\n",
    "    read_partial('sqlglot','stmt',['file_id','statement_nr','parsed']),\n",
    "    on=['file_id','statement_nr'],\n",
    "    how='inner',indicator=True,suffixes=['_pglast','_sqlglot'])\n",
    "\n",
    "pglast_joined_sqlglot[(pglast_joined_sqlglot.parsed_pglast == 1) & (pglast_joined_sqlglot.parsed_sqlglot == 1)].count().compute()"
   ]
  },
  {
   "attachments": {},
   "cell_type": "markdown",
   "metadata": {
    "pycharm": {
     "name": "#%% md\n"
    }
   },
   "source": [
    "Statements parsed by sqlglot using postgres and not parsed by pglast: only 60893"
   ]
  },
  {
   "cell_type": "code",
   "execution_count": null,
   "metadata": {
    "pycharm": {
     "name": "#%%\n"
    }
   },
   "outputs": [],
   "source": [
    "pglast_joined_sqlglot = dd.merge(\n",
    "    read_partial('pglast','stmt',['file_id','statement_nr','parsed']),\n",
    "    read_partial('sqlglot','stmt',['file_id','statement_nr','parsed','successful_dialect']),\n",
    "    on=['file_id','statement_nr'],\n",
    "    how='inner',indicator=True,suffixes=['_pglast','_sqlglot'])\n",
    "\n",
    "pglast_joined_sqlglot[\n",
    "    (pglast_joined_sqlglot.parsed_pglast == 0) & \n",
    "    (pglast_joined_sqlglot.parsed_sqlglot == 1) &\n",
    "    (pglast_joined_sqlglot.successful_dialect == 'postgres')\n",
    "    ].count().compute()"
   ]
  },
  {
   "attachments": {},
   "cell_type": "markdown",
   "metadata": {
    "pycharm": {
     "name": "#%% md\n"
    }
   },
   "source": [
    "Statements parsed by pglast and not sqlglot : 657045"
   ]
  },
  {
   "cell_type": "code",
   "execution_count": null,
   "metadata": {
    "pycharm": {
     "name": "#%%\n"
    }
   },
   "outputs": [],
   "source": [
    "pglast_joined_sqlglot = dd.merge(\n",
    "    read_partial('pglast','stmt',['file_id','statement_nr','parsed']),\n",
    "    read_partial('sqlglot','stmt',['file_id','statement_nr','parsed','successful_dialect']),\n",
    "    on=['file_id','statement_nr'],\n",
    "    how='inner',indicator=True,suffixes=['_pglast','_sqlglot'])\n",
    "\n",
    "pglast_joined_sqlglot[\n",
    "    (pglast_joined_sqlglot.parsed_pglast == 1) & \n",
    "    (pglast_joined_sqlglot.parsed_sqlglot == 0)\n",
    "    ].count().compute()"
   ]
  },
  {
   "attachments": {},
   "cell_type": "markdown",
   "metadata": {
    "pycharm": {
     "name": "#%% md\n"
    }
   },
   "source": [
    "# All"
   ]
  },
  {
   "cell_type": "code",
   "execution_count": 13,
   "metadata": {
    "pycharm": {
     "name": "#%%\n"
    }
   },
   "outputs": [
    {
     "name": "stdout",
     "output_type": "stream",
     "text": [
      "[########################################] | 100% Completed | 121.00 s\n"
     ]
    },
    {
     "data": {
      "text/html": [
       "<div>\n",
       "<style scoped>\n",
       "    .dataframe tbody tr th:only-of-type {\n",
       "        vertical-align: middle;\n",
       "    }\n",
       "\n",
       "    .dataframe tbody tr th {\n",
       "        vertical-align: top;\n",
       "    }\n",
       "\n",
       "    .dataframe thead th {\n",
       "        text-align: right;\n",
       "    }\n",
       "</style>\n",
       "<table border=\"1\" class=\"dataframe\">\n",
       "  <thead>\n",
       "    <tr style=\"text-align: right;\">\n",
       "      <th></th>\n",
       "      <th>file_id</th>\n",
       "      <th>statement_nr</th>\n",
       "      <th>parsed_pglast</th>\n",
       "      <th>parsed_sqlglot</th>\n",
       "      <th>successful_dialect</th>\n",
       "      <th>parsed</th>\n",
       "      <th>_merge</th>\n",
       "    </tr>\n",
       "    <tr>\n",
       "      <th>parsed_count</th>\n",
       "      <th></th>\n",
       "      <th></th>\n",
       "      <th></th>\n",
       "      <th></th>\n",
       "      <th></th>\n",
       "      <th></th>\n",
       "      <th></th>\n",
       "    </tr>\n",
       "  </thead>\n",
       "  <tbody>\n",
       "    <tr>\n",
       "      <th>0</th>\n",
       "      <td>776998</td>\n",
       "      <td>776998</td>\n",
       "      <td>776998</td>\n",
       "      <td>776998</td>\n",
       "      <td>14</td>\n",
       "      <td>776998</td>\n",
       "      <td>776998</td>\n",
       "    </tr>\n",
       "    <tr>\n",
       "      <th>1</th>\n",
       "      <td>3973316</td>\n",
       "      <td>3973316</td>\n",
       "      <td>3973316</td>\n",
       "      <td>3973316</td>\n",
       "      <td>118655</td>\n",
       "      <td>3973316</td>\n",
       "      <td>3973316</td>\n",
       "    </tr>\n",
       "    <tr>\n",
       "      <th>2</th>\n",
       "      <td>10367606</td>\n",
       "      <td>10367606</td>\n",
       "      <td>10367606</td>\n",
       "      <td>10367606</td>\n",
       "      <td>8315466</td>\n",
       "      <td>10367606</td>\n",
       "      <td>10367606</td>\n",
       "    </tr>\n",
       "    <tr>\n",
       "      <th>3</th>\n",
       "      <td>5522971</td>\n",
       "      <td>5522971</td>\n",
       "      <td>5522971</td>\n",
       "      <td>5522971</td>\n",
       "      <td>85327</td>\n",
       "      <td>5522971</td>\n",
       "      <td>5522971</td>\n",
       "    </tr>\n",
       "  </tbody>\n",
       "</table>\n",
       "</div>"
      ],
      "text/plain": [
       "               file_id  statement_nr  parsed_pglast  parsed_sqlglot  successful_dialect    parsed    _merge\n",
       "parsed_count                                                                                               \n",
       "0             776998    776998        776998         776998          14                  776998    776998  \n",
       "1             3973316   3973316       3973316        3973316         118655              3973316   3973316 \n",
       "2             10367606  10367606      10367606       10367606        8315466             10367606  10367606\n",
       "3             5522971   5522971       5522971        5522971         85327               5522971   5522971 "
      ]
     },
     "metadata": {},
     "output_type": "display_data"
    }
   ],
   "source": [
    "pglast_joined_sqlglot = dd.merge(\n",
    "    read_partial('pglast','stmt',['file_id','statement_nr','parsed']),\n",
    "    read_partial('sqlglot','stmt',['file_id','statement_nr','parsed','successful_dialect']),\n",
    "    on=['file_id','statement_nr'],\n",
    "    how='inner',suffixes=['_pglast','_sqlglot'])\n",
    "\n",
    "pglast_sqlglot_tidb = dd.merge(\n",
    "    pglast_joined_sqlglot,\n",
    "    read_partial('tidb','stmt',['file_id','statement_nr','parsed']),\n",
    "    on=['file_id','statement_nr'],\n",
    "    how='inner',indicator=True,suffixes=['_1','_tidb']\n",
    ")\n",
    "\n",
    "pglast_sqlglot_tidb['parsed_count'] = pglast_sqlglot_tidb[['parsed_pglast','parsed_sqlglot','parsed']].sum(axis=1)\n",
    "display(pglast_sqlglot_tidb.groupby('parsed_count').count().compute())"
   ]
  },
  {
   "attachments": {},
   "cell_type": "markdown",
   "metadata": {
    "pycharm": {
     "name": "#%% md\n"
    }
   },
   "source": [
    "Statements parsed by tidb/sqlglot and not pglast"
   ]
  },
  {
   "cell_type": "code",
   "execution_count": 14,
   "metadata": {
    "pycharm": {
     "name": "#%%\n"
    }
   },
   "outputs": [
    {
     "name": "stdout",
     "output_type": "stream",
     "text": [
      "[########################################] | 100% Completed | 129.61 s\n"
     ]
    },
    {
     "data": {
      "text/plain": [
       "file_id               8911878\n",
       "statement_nr          8911878\n",
       "parsed_pglast         8911878\n",
       "parsed_sqlglot        8911878\n",
       "successful_dialect    7987327\n",
       "parsed                8911878\n",
       "_merge                8911878\n",
       "parsed_count          8911878\n",
       "dtype: int64"
      ]
     },
     "execution_count": 14,
     "metadata": {},
     "output_type": "execute_result"
    }
   ],
   "source": [
    "not_pglast = pglast_sqlglot_tidb[(pglast_sqlglot_tidb.parsed_pglast == 0) & \n",
    "                                 (pglast_sqlglot_tidb.parsed_sqlglot == 1) & \n",
    "                                 (pglast_sqlglot_tidb.parsed == 1) ]\n",
    "not_pglast.count().compute()"
   ]
  },
  {
   "cell_type": "code",
   "execution_count": 15,
   "metadata": {
    "pycharm": {
     "name": "#%%\n"
    }
   },
   "outputs": [
    {
     "name": "stdout",
     "output_type": "stream",
     "text": [
      "[########################################] | 100% Completed | 1.00 ss\n"
     ]
    },
    {
     "data": {
      "text/html": [
       "<div>\n",
       "<style scoped>\n",
       "    .dataframe tbody tr th:only-of-type {\n",
       "        vertical-align: middle;\n",
       "    }\n",
       "\n",
       "    .dataframe tbody tr th {\n",
       "        vertical-align: top;\n",
       "    }\n",
       "\n",
       "    .dataframe thead th {\n",
       "        text-align: right;\n",
       "    }\n",
       "</style>\n",
       "<table border=\"1\" class=\"dataframe\">\n",
       "  <thead>\n",
       "    <tr style=\"text-align: right;\">\n",
       "      <th></th>\n",
       "      <th>file_id</th>\n",
       "      <th>statement_id</th>\n",
       "      <th>statement_nr</th>\n",
       "      <th>statement_type</th>\n",
       "      <th>sqlglot_statement_type</th>\n",
       "      <th>successful_dialect</th>\n",
       "      <th>parsed</th>\n",
       "      <th>parsed_num_errors</th>\n",
       "      <th>parse_error</th>\n",
       "      <th>parse_error_start_context</th>\n",
       "      <th>parse_error_highlight</th>\n",
       "      <th>original</th>\n",
       "    </tr>\n",
       "  </thead>\n",
       "  <tbody>\n",
       "    <tr>\n",
       "      <th>0</th>\n",
       "      <td>000000</td>\n",
       "      <td>4326188482576572732</td>\n",
       "      <td>0</td>\n",
       "      <td>DROP</td>\n",
       "      <td>Drop</td>\n",
       "      <td>None</td>\n",
       "      <td>1</td>\n",
       "      <td>0</td>\n",
       "      <td></td>\n",
       "      <td></td>\n",
       "      <td></td>\n",
       "      <td>DROP TABLE IF EXISTS CUSTOMER CASCADE</td>\n",
       "    </tr>\n",
       "    <tr>\n",
       "      <th>1</th>\n",
       "      <td>000000</td>\n",
       "      <td>8860407258675620898</td>\n",
       "      <td>1</td>\n",
       "      <td>CREATE</td>\n",
       "      <td>Create</td>\n",
       "      <td>postgres</td>\n",
       "      <td>1</td>\n",
       "      <td>2</td>\n",
       "      <td>Expecting )|Invalid expression / Unexpected token|</td>\n",
       "      <td>CREATE TABLE CUSTOMER(id |</td>\n",
       "      <td>SERIAL|</td>\n",
       "      <td>CREATE TABLE CUSTOMER(id SERIAL, uuid VARCHAR(200) UNIQUE NOT NULL, firstname VARCHAR(30) NOT NULL, lastname VARCHAR(30) ,email VARCHAR(50),\\n  contact_number VARCHAR(30) UNIQUE NOT NULL, password VARCHAR(255) NOT NULL, salt VARCHAR(255) NOT NULL ,PRIMARY KEY(id))</td>\n",
       "    </tr>\n",
       "    <tr>\n",
       "      <th>2</th>\n",
       "      <td>000000</td>\n",
       "      <td>56769391187729576</td>\n",
       "      <td>2</td>\n",
       "      <td>DROP</td>\n",
       "      <td>Drop</td>\n",
       "      <td>None</td>\n",
       "      <td>1</td>\n",
       "      <td>0</td>\n",
       "      <td></td>\n",
       "      <td></td>\n",
       "      <td></td>\n",
       "      <td>DROP TABLE IF EXISTS CATEGORY CASCADE</td>\n",
       "    </tr>\n",
       "    <tr>\n",
       "      <th>3</th>\n",
       "      <td>000000</td>\n",
       "      <td>6382270680951650118</td>\n",
       "      <td>3</td>\n",
       "      <td>CREATE</td>\n",
       "      <td>Create</td>\n",
       "      <td>postgres</td>\n",
       "      <td>1</td>\n",
       "      <td>2</td>\n",
       "      <td>Expecting )|Invalid expression / Unexpected token|</td>\n",
       "      <td>CREATE TABLE CATEGORY(id |</td>\n",
       "      <td>SERIAL|</td>\n",
       "      <td>CREATE TABLE CATEGORY(id SERIAL, uuid VARCHAR(200) UNIQUE NOT NULL,category_name VARCHAR(255), PRIMARY KEY (id))</td>\n",
       "    </tr>\n",
       "    <tr>\n",
       "      <th>4</th>\n",
       "      <td>000000</td>\n",
       "      <td>-2023644074340248865</td>\n",
       "      <td>4</td>\n",
       "      <td>DROP</td>\n",
       "      <td>Drop</td>\n",
       "      <td>None</td>\n",
       "      <td>1</td>\n",
       "      <td>0</td>\n",
       "      <td></td>\n",
       "      <td></td>\n",
       "      <td></td>\n",
       "      <td>DROP TABLE IF EXISTS STATE CASCADE</td>\n",
       "    </tr>\n",
       "  </tbody>\n",
       "</table>\n",
       "</div>"
      ],
      "text/plain": [
       "  file_id          statement_id  statement_nr statement_type sqlglot_statement_type successful_dialect  parsed  parsed_num_errors                                         parse_error   parse_error_start_context parse_error_highlight                                                                                                                                                                                                                                                                  original\n",
       "0  000000  4326188482576572732   0             DROP           Drop                   None               1       0                                                                                                                        DROP TABLE IF EXISTS CUSTOMER CASCADE                                                                                                                                                                                                                                   \n",
       "1  000000  8860407258675620898   1             CREATE         Create                 postgres           1       2                  Expecting )|Invalid expression / Unexpected token|  CREATE TABLE CUSTOMER(id |  SERIAL|               CREATE TABLE CUSTOMER(id SERIAL, uuid VARCHAR(200) UNIQUE NOT NULL, firstname VARCHAR(30) NOT NULL, lastname VARCHAR(30) ,email VARCHAR(50),\\n  contact_number VARCHAR(30) UNIQUE NOT NULL, password VARCHAR(255) NOT NULL, salt VARCHAR(255) NOT NULL ,PRIMARY KEY(id))\n",
       "2  000000  56769391187729576     2             DROP           Drop                   None               1       0                                                                                                                        DROP TABLE IF EXISTS CATEGORY CASCADE                                                                                                                                                                                                                                   \n",
       "3  000000  6382270680951650118   3             CREATE         Create                 postgres           1       2                  Expecting )|Invalid expression / Unexpected token|  CREATE TABLE CATEGORY(id |  SERIAL|               CREATE TABLE CATEGORY(id SERIAL, uuid VARCHAR(200) UNIQUE NOT NULL,category_name VARCHAR(255), PRIMARY KEY (id))                                                                                                                                                        \n",
       "4  000000  -2023644074340248865  4             DROP           Drop                   None               1       0                                                                                                                        DROP TABLE IF EXISTS STATE CASCADE                                                                                                                                                                                                                                      "
      ]
     },
     "execution_count": 15,
     "metadata": {},
     "output_type": "execute_result"
    }
   ],
   "source": [
    "sqlglot_details.head(5)"
   ]
  }
 ],
 "metadata": {
  "kernelspec": {
   "display_name": "windows",
   "language": "python",
   "name": "python3"
  },
  "language_info": {
   "codemirror_mode": {
    "name": "ipython",
    "version": 3
   },
   "file_extension": ".py",
   "mimetype": "text/x-python",
   "name": "python",
   "nbconvert_exporter": "python",
   "pygments_lexer": "ipython3",
   "version": "3.8.10"
  },
  "orig_nbformat": 4
 },
 "nbformat": 4,
 "nbformat_minor": 2
}