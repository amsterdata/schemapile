{
 "cells": [
  {
   "attachments": {},
   "cell_type": "markdown",
   "metadata": {
    "pycharm": {
     "name": "#%% md\n"
    }
   },
   "source": [
    "# Imports and file details"
   ]
  },
  {
   "cell_type": "code",
   "execution_count": 1,
   "metadata": {
    "pycharm": {
     "name": "#%%\n"
    }
   },
   "outputs": [
    {
     "name": "stderr",
     "output_type": "stream",
     "text": [
      "C:\\Users\\geacu\\AppData\\Local\\Temp\\ipykernel_14044\\2489133733.py:27: FutureWarning: Passing a negative integer is deprecated in version 1.0 and will not be supported in future version. Instead, use None to not limit the column width.\n",
      "  pd.set_option('max_colwidth', -1)\n"
     ]
    }
   ],
   "source": [
    "import pyarrow as pa\n",
    "import pyarrow.parquet as pq\n",
    "import pyarrow.compute as pc\n",
    "\n",
    "import matplotlib.pyplot as plt\n",
    "import seaborn as sns\n",
    "\n",
    "sns.set_theme()\n",
    "sns.set_style(\"ticks\")\n",
    "\n",
    "import os\n",
    "import sys\n",
    "sys.path.insert(0,'..')\n",
    "\n",
    "import pandas as pd\n",
    "import json\n",
    "import numpy as np\n",
    "\n",
    "import dask.dataframe as dd\n",
    "from dask.dataframe.utils import make_meta\n",
    "\n",
    "pd.set_option('display.max_rows', 500)\n",
    "pd.set_option('display.max_columns', 500)\n",
    "pd.set_option('display.width', 1000)\n",
    "pd.set_option('display.max_columns', None)\n",
    "pd.set_option('display.expand_frame_repr', False)\n",
    "pd.set_option('max_colwidth', -1)\n",
    "\n",
    "from src_new.utils import SQLParserSchema, PGLastSchema, get_file_encodings, SQLGlotSchema, SimpleDDLParserSchema\n",
    "\n",
    "from dask.diagnostics import ProgressBar\n",
    "ProgressBar().register()"
   ]
  },
  {
   "cell_type": "code",
   "execution_count": 2,
   "metadata": {
    "pycharm": {
     "name": "#%%\n"
    }
   },
   "outputs": [],
   "source": [
    "def read_partial(parser, schema_type, cols):\n",
    "    _outdir = '../out_new/'\n",
    "\n",
    "    if parser == 'sqlparser':\n",
    "        p = SQLParserSchema()\n",
    "        _outdir += 'sqlparser'\n",
    "    elif parser == 'pglast':\n",
    "        p = PGLastSchema()\n",
    "        _outdir += 'pglast'\n",
    "    elif parser == 'sqlglot':\n",
    "        p = SQLGlotSchema()\n",
    "        _outdir += 'sqlglot'\n",
    "    elif parser == 'simple':\n",
    "        p = SimpleDDLParserSchema()\n",
    "        _outdir += 'simpleddlparser'\n",
    "    \n",
    "    if schema_type == 'file':\n",
    "        _schema = p.file_level_schema\n",
    "        _outdir += '/'\n",
    "    elif schema_type == 'stmt':\n",
    "        _schema = p.statement_list_sch\n",
    "        _outdir += '_details/'\n",
    "    \n",
    "    ddf = dd.read_parquet(_outdir,columns=cols, schema=_schema, split_row_groups=True, calculate_divisions=True,engine='pyarrow')\n",
    "    return ddf"
   ]
  },
  {
   "cell_type": "code",
   "execution_count": 3,
   "metadata": {
    "pycharm": {
     "name": "#%%\n"
    }
   },
   "outputs": [],
   "source": [
    "# Read file details\n",
    "fd = []\n",
    "for file in os.listdir('../out_new/filedetails/'):\n",
    "        full_filename = \"%s/%s\" % ('../out_new/filedetails/', file)\n",
    "        with open(full_filename,'r') as fi:\n",
    "            dict = json.load(fi)\n",
    "            for item in dict:\n",
    "                  fd.append(item)\n",
    "\n",
    "filedetails_df = pd.DataFrame.from_dict(fd)\n",
    "del fd"
   ]
  },
  {
   "attachments": {},
   "cell_type": "markdown",
   "metadata": {
    "pycharm": {
     "name": "#%% md\n"
    }
   },
   "source": [
    "# SQLGLOT"
   ]
  },
  {
   "cell_type": "code",
   "execution_count": 4,
   "metadata": {
    "pycharm": {
     "name": "#%%\n"
    }
   },
   "outputs": [],
   "source": [
    "sqlglot_ddf = read_partial('sqlglot','file',SQLGlotSchema().file_level_schema.names)\n",
    "sqlparser_details_ddf = read_partial('sqlglot','stmt',SQLGlotSchema().statement_list_sch.names)"
   ]
  },
  {
   "cell_type": "code",
   "execution_count": 5,
   "metadata": {
    "pycharm": {
     "name": "#%%\n"
    }
   },
   "outputs": [
    {
     "name": "stdout",
     "output_type": "stream",
     "text": [
      "[########################################] | 100% Completed | 791.03 ms\n"
     ]
    },
    {
     "data": {
      "text/html": [
       "<div>\n",
       "<style scoped>\n",
       "    .dataframe tbody tr th:only-of-type {\n",
       "        vertical-align: middle;\n",
       "    }\n",
       "\n",
       "    .dataframe tbody tr th {\n",
       "        vertical-align: top;\n",
       "    }\n",
       "\n",
       "    .dataframe thead th {\n",
       "        text-align: right;\n",
       "    }\n",
       "</style>\n",
       "<table border=\"1\" class=\"dataframe\">\n",
       "  <thead>\n",
       "    <tr style=\"text-align: right;\">\n",
       "      <th></th>\n",
       "      <th>file_id</th>\n",
       "      <th>statement_id</th>\n",
       "      <th>parsed</th>\n",
       "      <th>parsed_none</th>\n",
       "      <th>parsed_postgres</th>\n",
       "      <th>parsed_mysql</th>\n",
       "      <th>parsed_tsql</th>\n",
       "      <th>dialect</th>\n",
       "      <th>parse_error</th>\n",
       "      <th>file_parse_error_start_context</th>\n",
       "      <th>file_parse_error_highlight</th>\n",
       "      <th>num_statements</th>\n",
       "      <th>num_distinct_tables</th>\n",
       "      <th>table_list</th>\n",
       "      <th>num_distinct_columns</th>\n",
       "      <th>column_list</th>\n",
       "      <th>num_distinct_schemas</th>\n",
       "      <th>schema_list</th>\n",
       "      <th>num_distinct_dbs</th>\n",
       "      <th>db_list</th>\n",
       "      <th>view_list</th>\n",
       "      <th>num_constraints</th>\n",
       "      <th>num_ctr_notnull</th>\n",
       "      <th>num_ctr_unique</th>\n",
       "      <th>num_ctr_primary</th>\n",
       "      <th>num_ctr_foreign</th>\n",
       "      <th>comment_count</th>\n",
       "      <th>num_drop_stmt</th>\n",
       "      <th>num_drop_like_stmt</th>\n",
       "      <th>num_create_stmt</th>\n",
       "      <th>num_create_like_stmt</th>\n",
       "      <th>num_insert_stmt</th>\n",
       "      <th>num_insert_like_stmt</th>\n",
       "      <th>num_alter_stmt</th>\n",
       "      <th>num_alter_like_stmt</th>\n",
       "      <th>num_select_stmt</th>\n",
       "      <th>num_view_stmt</th>\n",
       "      <th>num_truncate_stmt</th>\n",
       "      <th>num_update_stmt</th>\n",
       "      <th>num_comment_stmt</th>\n",
       "      <th>num_delete_stmt</th>\n",
       "      <th>num_set_like_stmt</th>\n",
       "      <th>num_execute_like_stmt</th>\n",
       "      <th>num_index_like_stmt</th>\n",
       "      <th>num_transaction_like_stmt</th>\n",
       "      <th>num_command_stmt</th>\n",
       "      <th>num_command_alter_stmt</th>\n",
       "      <th>counter_str</th>\n",
       "      <th>original</th>\n",
       "    </tr>\n",
       "  </thead>\n",
       "  <tbody>\n",
       "    <tr>\n",
       "      <th>0</th>\n",
       "      <td>419753</td>\n",
       "      <td>0</td>\n",
       "      <td>0</td>\n",
       "      <td>NaN</td>\n",
       "      <td>NaN</td>\n",
       "      <td>NaN</td>\n",
       "      <td>NaN</td>\n",
       "      <td>None</td>\n",
       "      <td>Expecting )|Invalid expression / Unexpected token|</td>\n",
       "      <td>more info\\n\\n  CREATE TABLE \"SPACEUSER\".\"RHNSNAPSHOTCONFIGCHANNEL\"\\n   (\\t\"SNAPSHOT_ID\" NUMBER NOT NULL |</td>\n",
       "      <td>ENABLE|</td>\n",
       "      <td>0</td>\n",
       "      <td>0</td>\n",
       "      <td>None</td>\n",
       "      <td>0</td>\n",
       "      <td>None</td>\n",
       "      <td>0</td>\n",
       "      <td>None</td>\n",
       "      <td>0</td>\n",
       "      <td>None</td>\n",
       "      <td>None</td>\n",
       "      <td>0</td>\n",
       "      <td>0</td>\n",
       "      <td>0</td>\n",
       "      <td>0</td>\n",
       "      <td>0</td>\n",
       "      <td>0</td>\n",
       "      <td>0</td>\n",
       "      <td>0</td>\n",
       "      <td>0</td>\n",
       "      <td>0</td>\n",
       "      <td>0</td>\n",
       "      <td>0</td>\n",
       "      <td>0</td>\n",
       "      <td>0</td>\n",
       "      <td>0</td>\n",
       "      <td>0</td>\n",
       "      <td>0</td>\n",
       "      <td>0</td>\n",
       "      <td>0</td>\n",
       "      <td>0</td>\n",
       "      <td>0</td>\n",
       "      <td>0</td>\n",
       "      <td>0</td>\n",
       "      <td>0</td>\n",
       "      <td>0</td>\n",
       "      <td>0</td>\n",
       "      <td>[]</td>\n",
       "      <td>-- created by Oraschemadoc Wed Jan  9 15:07:06 2019\\n-- visit http://www.yarpen.cz/oraschemadoc/ for more info\\n\\n  CREATE TABLE \"SPACEUSER\".\"RHNSNAPSHOTCONFIGCHANNEL\"\\n   (\\t\"SNAPSHOT_ID\" NUMBER NOT NULL ENABLE,\\n\\t\"CONFIG_CHANNEL_ID\" NUMBER NOT NULL ENABLE,\\n\\t\"CREATED\" TIMESTAMP (6) WITH LOCAL TIME ZONE DEFAULT (current_timestamp) NOT NULL ENABLE,\\n\\t\"MODIFIED\" TIMESTAMP (6) WITH LOCAL TIME ZONE DEFAULT (current_timestamp) NOT NULL ENABLE\\n   ) ENABLE ROW MOVEMENT ;</td>\n",
       "    </tr>\n",
       "    <tr>\n",
       "      <th>1</th>\n",
       "      <td>419753</td>\n",
       "      <td>1</td>\n",
       "      <td>0</td>\n",
       "      <td>NaN</td>\n",
       "      <td>NaN</td>\n",
       "      <td>NaN</td>\n",
       "      <td>NaN</td>\n",
       "      <td>None</td>\n",
       "      <td>Invalid expression / Unexpected token|</td>\n",
       "      <td>HANNEL\" ADD CONSTRAINT \"RHN_SNAPSHOTCC_SID_FK\" FOREIGN KEY (\"SNAPSHOT_ID\")\\n\\t  REFERENCES \"SPACEUSER\"|</td>\n",
       "      <td>.|</td>\n",
       "      <td>0</td>\n",
       "      <td>0</td>\n",
       "      <td>None</td>\n",
       "      <td>0</td>\n",
       "      <td>None</td>\n",
       "      <td>0</td>\n",
       "      <td>None</td>\n",
       "      <td>0</td>\n",
       "      <td>None</td>\n",
       "      <td>None</td>\n",
       "      <td>0</td>\n",
       "      <td>0</td>\n",
       "      <td>0</td>\n",
       "      <td>0</td>\n",
       "      <td>0</td>\n",
       "      <td>0</td>\n",
       "      <td>0</td>\n",
       "      <td>0</td>\n",
       "      <td>0</td>\n",
       "      <td>0</td>\n",
       "      <td>0</td>\n",
       "      <td>0</td>\n",
       "      <td>0</td>\n",
       "      <td>0</td>\n",
       "      <td>0</td>\n",
       "      <td>0</td>\n",
       "      <td>0</td>\n",
       "      <td>0</td>\n",
       "      <td>0</td>\n",
       "      <td>0</td>\n",
       "      <td>0</td>\n",
       "      <td>0</td>\n",
       "      <td>0</td>\n",
       "      <td>0</td>\n",
       "      <td>0</td>\n",
       "      <td>0</td>\n",
       "      <td>[]</td>\n",
       "      <td>ALTER TABLE \"SPACEUSER\".\"RHNSNAPSHOTCONFIGCHANNEL\" ADD CONSTRAINT \"RHN_SNAPSHOTCC_SID_FK\" FOREIGN KEY (\"SNAPSHOT_ID\")\\n\\t  REFERENCES \"SPACEUSER\".\"RHNSNAPSHOT\" (\"ID\") ON DELETE CASCADE ENABLE;</td>\n",
       "    </tr>\n",
       "    <tr>\n",
       "      <th>2</th>\n",
       "      <td>419753</td>\n",
       "      <td>2</td>\n",
       "      <td>0</td>\n",
       "      <td>NaN</td>\n",
       "      <td>NaN</td>\n",
       "      <td>NaN</td>\n",
       "      <td>NaN</td>\n",
       "      <td>None</td>\n",
       "      <td>Invalid expression / Unexpected token|</td>\n",
       "      <td>ADD CONSTRAINT \"RHN_SNAPSHOTCC_CCID_FK\" FOREIGN KEY (\"CONFIG_CHANNEL_ID\")\\n\\t  REFERENCES \"SPACEUSER\"|</td>\n",
       "      <td>.|</td>\n",
       "      <td>0</td>\n",
       "      <td>0</td>\n",
       "      <td>None</td>\n",
       "      <td>0</td>\n",
       "      <td>None</td>\n",
       "      <td>0</td>\n",
       "      <td>None</td>\n",
       "      <td>0</td>\n",
       "      <td>None</td>\n",
       "      <td>None</td>\n",
       "      <td>0</td>\n",
       "      <td>0</td>\n",
       "      <td>0</td>\n",
       "      <td>0</td>\n",
       "      <td>0</td>\n",
       "      <td>0</td>\n",
       "      <td>0</td>\n",
       "      <td>0</td>\n",
       "      <td>0</td>\n",
       "      <td>0</td>\n",
       "      <td>0</td>\n",
       "      <td>0</td>\n",
       "      <td>0</td>\n",
       "      <td>0</td>\n",
       "      <td>0</td>\n",
       "      <td>0</td>\n",
       "      <td>0</td>\n",
       "      <td>0</td>\n",
       "      <td>0</td>\n",
       "      <td>0</td>\n",
       "      <td>0</td>\n",
       "      <td>0</td>\n",
       "      <td>0</td>\n",
       "      <td>0</td>\n",
       "      <td>0</td>\n",
       "      <td>0</td>\n",
       "      <td>[]</td>\n",
       "      <td>ALTER TABLE \"SPACEUSER\".\"RHNSNAPSHOTCONFIGCHANNEL\" ADD CONSTRAINT \"RHN_SNAPSHOTCC_CCID_FK\" FOREIGN KEY (\"CONFIG_CHANNEL_ID\")\\n\\t  REFERENCES \"SPACEUSER\".\"RHNCONFIGCHANNEL\" (\"ID\") ENABLE;</td>\n",
       "    </tr>\n",
       "    <tr>\n",
       "      <th>3</th>\n",
       "      <td>419754</td>\n",
       "      <td>0</td>\n",
       "      <td>1</td>\n",
       "      <td>NaN</td>\n",
       "      <td>NaN</td>\n",
       "      <td>NaN</td>\n",
       "      <td>NaN</td>\n",
       "      <td>mysql</td>\n",
       "      <td>None</td>\n",
       "      <td>None</td>\n",
       "      <td>None</td>\n",
       "      <td>1</td>\n",
       "      <td>0</td>\n",
       "      <td>None</td>\n",
       "      <td>0</td>\n",
       "      <td>None</td>\n",
       "      <td>0</td>\n",
       "      <td>None</td>\n",
       "      <td>1</td>\n",
       "      <td>[RESERVAS_COVINOC]</td>\n",
       "      <td>None</td>\n",
       "      <td>0</td>\n",
       "      <td>0</td>\n",
       "      <td>0</td>\n",
       "      <td>0</td>\n",
       "      <td>0</td>\n",
       "      <td>1</td>\n",
       "      <td>0</td>\n",
       "      <td>0</td>\n",
       "      <td>1</td>\n",
       "      <td>1</td>\n",
       "      <td>0</td>\n",
       "      <td>0</td>\n",
       "      <td>0</td>\n",
       "      <td>0</td>\n",
       "      <td>0</td>\n",
       "      <td>0</td>\n",
       "      <td>0</td>\n",
       "      <td>0</td>\n",
       "      <td>0</td>\n",
       "      <td>0</td>\n",
       "      <td>0</td>\n",
       "      <td>0</td>\n",
       "      <td>0</td>\n",
       "      <td>0</td>\n",
       "      <td>0</td>\n",
       "      <td>0</td>\n",
       "      <td>[{'Create': 1}, {'Table': 1}, {'Identifier': 1}]</td>\n",
       "      <td>CREATE DATABASE  IF NOT EXISTS `reservas_covinoc` /*!40100 DEFAULT CHARACTER SET latin1 */;</td>\n",
       "    </tr>\n",
       "    <tr>\n",
       "      <th>4</th>\n",
       "      <td>419754</td>\n",
       "      <td>1</td>\n",
       "      <td>1</td>\n",
       "      <td>NaN</td>\n",
       "      <td>NaN</td>\n",
       "      <td>NaN</td>\n",
       "      <td>NaN</td>\n",
       "      <td>mysql</td>\n",
       "      <td>None</td>\n",
       "      <td>None</td>\n",
       "      <td>None</td>\n",
       "      <td>1</td>\n",
       "      <td>1</td>\n",
       "      <td>[RESERVAS_COVINOC]</td>\n",
       "      <td>0</td>\n",
       "      <td>None</td>\n",
       "      <td>0</td>\n",
       "      <td>None</td>\n",
       "      <td>0</td>\n",
       "      <td>None</td>\n",
       "      <td>None</td>\n",
       "      <td>0</td>\n",
       "      <td>0</td>\n",
       "      <td>0</td>\n",
       "      <td>0</td>\n",
       "      <td>0</td>\n",
       "      <td>0</td>\n",
       "      <td>0</td>\n",
       "      <td>0</td>\n",
       "      <td>0</td>\n",
       "      <td>0</td>\n",
       "      <td>0</td>\n",
       "      <td>0</td>\n",
       "      <td>0</td>\n",
       "      <td>0</td>\n",
       "      <td>0</td>\n",
       "      <td>0</td>\n",
       "      <td>0</td>\n",
       "      <td>0</td>\n",
       "      <td>0</td>\n",
       "      <td>0</td>\n",
       "      <td>0</td>\n",
       "      <td>0</td>\n",
       "      <td>0</td>\n",
       "      <td>0</td>\n",
       "      <td>0</td>\n",
       "      <td>0</td>\n",
       "      <td>[{'Use': 1}, {'Table': 1}, {'Identifier': 1}]</td>\n",
       "      <td>USE `reservas_covinoc`;</td>\n",
       "    </tr>\n",
       "  </tbody>\n",
       "</table>\n",
       "</div>"
      ],
      "text/plain": [
       "  file_id  statement_id  parsed  parsed_none  parsed_postgres  parsed_mysql  parsed_tsql dialect                                         parse_error                                                                             file_parse_error_start_context file_parse_error_highlight  num_statements  num_distinct_tables          table_list  num_distinct_columns column_list  num_distinct_schemas schema_list  num_distinct_dbs             db_list view_list  num_constraints  num_ctr_notnull  num_ctr_unique  num_ctr_primary  num_ctr_foreign  comment_count  num_drop_stmt  num_drop_like_stmt  num_create_stmt  num_create_like_stmt  num_insert_stmt  num_insert_like_stmt  num_alter_stmt  num_alter_like_stmt  num_select_stmt  num_view_stmt  num_truncate_stmt  num_update_stmt  num_comment_stmt  num_delete_stmt  num_set_like_stmt  num_execute_like_stmt  num_index_like_stmt  num_transaction_like_stmt  num_command_stmt  num_command_alter_stmt                                       counter_str                                                                                                                                                                                                                                                                                                                                                                                                                                                                                   original\n",
       "0  419753  0             0      NaN          NaN              NaN           NaN           None    Expecting )|Invalid expression / Unexpected token|  more info\\n\\n  CREATE TABLE \"SPACEUSER\".\"RHNSNAPSHOTCONFIGCHANNEL\"\\n   (\\t\"SNAPSHOT_ID\" NUMBER NOT NULL |  ENABLE|                    0               0                    None                0                     None        0                     None        0                 None                None      0                0                0               0                0                0              0              0                   0                0                     0                0                     0               0                    0                0              0                  0                0                 0                0                  0                      0                    0                          0                 0                       []                                                -- created by Oraschemadoc Wed Jan  9 15:07:06 2019\\n-- visit http://www.yarpen.cz/oraschemadoc/ for more info\\n\\n  CREATE TABLE \"SPACEUSER\".\"RHNSNAPSHOTCONFIGCHANNEL\"\\n   (\\t\"SNAPSHOT_ID\" NUMBER NOT NULL ENABLE,\\n\\t\"CONFIG_CHANNEL_ID\" NUMBER NOT NULL ENABLE,\\n\\t\"CREATED\" TIMESTAMP (6) WITH LOCAL TIME ZONE DEFAULT (current_timestamp) NOT NULL ENABLE,\\n\\t\"MODIFIED\" TIMESTAMP (6) WITH LOCAL TIME ZONE DEFAULT (current_timestamp) NOT NULL ENABLE\\n   ) ENABLE ROW MOVEMENT ;\n",
       "1  419753  1             0      NaN          NaN              NaN           NaN           None    Invalid expression / Unexpected token|              HANNEL\" ADD CONSTRAINT \"RHN_SNAPSHOTCC_SID_FK\" FOREIGN KEY (\"SNAPSHOT_ID\")\\n\\t  REFERENCES \"SPACEUSER\"|    .|                         0               0                    None                0                     None        0                     None        0                 None                None      0                0                0               0                0                0              0              0                   0                0                     0                0                     0               0                    0                0              0                  0                0                 0                0                  0                      0                    0                          0                 0                       []                                                ALTER TABLE \"SPACEUSER\".\"RHNSNAPSHOTCONFIGCHANNEL\" ADD CONSTRAINT \"RHN_SNAPSHOTCC_SID_FK\" FOREIGN KEY (\"SNAPSHOT_ID\")\\n\\t  REFERENCES \"SPACEUSER\".\"RHNSNAPSHOT\" (\"ID\") ON DELETE CASCADE ENABLE;                                                                                                                                                                                                                                                                                         \n",
       "2  419753  2             0      NaN          NaN              NaN           NaN           None    Invalid expression / Unexpected token|               ADD CONSTRAINT \"RHN_SNAPSHOTCC_CCID_FK\" FOREIGN KEY (\"CONFIG_CHANNEL_ID\")\\n\\t  REFERENCES \"SPACEUSER\"|    .|                         0               0                    None                0                     None        0                     None        0                 None                None      0                0                0               0                0                0              0              0                   0                0                     0                0                     0               0                    0                0              0                  0                0                 0                0                  0                      0                    0                          0                 0                       []                                                ALTER TABLE \"SPACEUSER\".\"RHNSNAPSHOTCONFIGCHANNEL\" ADD CONSTRAINT \"RHN_SNAPSHOTCC_CCID_FK\" FOREIGN KEY (\"CONFIG_CHANNEL_ID\")\\n\\t  REFERENCES \"SPACEUSER\".\"RHNCONFIGCHANNEL\" (\"ID\") ENABLE;                                                                                                                                                                                                                                                                                               \n",
       "3  419754  0             1      NaN          NaN              NaN           NaN           mysql   None                                                None                                                                                                       None                       1               0                    None                0                     None        0                     None        1                 [RESERVAS_COVINOC]  None      0                0                0               0                0                1              0              0                   1                1                     0                0                     0               0                    0                0              0                  0                0                 0                0                  0                      0                    0                          0                 0                       [{'Create': 1}, {'Table': 1}, {'Identifier': 1}]  CREATE DATABASE  IF NOT EXISTS `reservas_covinoc` /*!40100 DEFAULT CHARACTER SET latin1 */;                                                                                                                                                                                                                                                                                                                                                                                              \n",
       "4  419754  1             1      NaN          NaN              NaN           NaN           mysql   None                                                None                                                                                                       None                       1               1                    [RESERVAS_COVINOC]  0                     None        0                     None        0                 None                None      0                0                0               0                0                0              0              0                   0                0                     0                0                     0               0                    0                0              0                  0                0                 0                0                  0                      0                    0                          0                 0                       [{'Use': 1}, {'Table': 1}, {'Identifier': 1}]     USE `reservas_covinoc`;                                                                                                                                                                                                                                                                                                                                                                                                                                                                  "
      ]
     },
     "execution_count": 5,
     "metadata": {},
     "output_type": "execute_result"
    }
   ],
   "source": [
    "sqlparser_details_ddf.head()"
   ]
  },
  {
   "attachments": {},
   "cell_type": "markdown",
   "metadata": {
    "pycharm": {
     "name": "#%% md\n"
    }
   },
   "source": [
    "## File-level SR"
   ]
  },
  {
   "cell_type": "code",
   "execution_count": 5,
   "metadata": {
    "pycharm": {
     "name": "#%%\n"
    }
   },
   "outputs": [
    {
     "name": "stdout",
     "output_type": "stream",
     "text": [
      "[########################################] | 100% Completed | 547.45 ms\n"
     ]
    },
    {
     "data": {
      "text/html": [
       "<div>\n",
       "<style scoped>\n",
       "    .dataframe tbody tr th:only-of-type {\n",
       "        vertical-align: middle;\n",
       "    }\n",
       "\n",
       "    .dataframe tbody tr th {\n",
       "        vertical-align: top;\n",
       "    }\n",
       "\n",
       "    .dataframe thead th {\n",
       "        text-align: right;\n",
       "    }\n",
       "</style>\n",
       "<table border=\"1\" class=\"dataframe\">\n",
       "  <thead>\n",
       "    <tr style=\"text-align: right;\">\n",
       "      <th></th>\n",
       "      <th>success</th>\n",
       "      <th>count</th>\n",
       "      <th>percentage</th>\n",
       "    </tr>\n",
       "  </thead>\n",
       "  <tbody>\n",
       "    <tr>\n",
       "      <th>0</th>\n",
       "      <td>0</td>\n",
       "      <td>281848</td>\n",
       "      <td>0.755309</td>\n",
       "    </tr>\n",
       "    <tr>\n",
       "      <th>1</th>\n",
       "      <td>1</td>\n",
       "      <td>91308</td>\n",
       "      <td>0.244691</td>\n",
       "    </tr>\n",
       "  </tbody>\n",
       "</table>\n",
       "</div>"
      ],
      "text/plain": [
       "   success   count  percentage\n",
       "0  0        281848  0.755309  \n",
       "1  1        91308   0.244691  "
      ]
     },
     "metadata": {},
     "output_type": "display_data"
    }
   ],
   "source": [
    "sqlglot_sr = sqlglot_ddf.groupby('parsed')['parsed'].count().compute()\n",
    "sqlglot_sr = pd.DataFrame({'success':sqlglot_sr.index, 'count':[sqlglot_sr[sqlglot_sr.index == 0].sum(),sqlglot_sr[sqlglot_sr.index != 0].sum()]})\n",
    "sqlglot_sr['percentage'] = sqlglot_sr['count']/filedetails_df['file_id'].count()\n",
    "display(sqlglot_sr)\n",
    "\n",
    "success_count = sqlglot_sr[sqlglot_sr.success == 1]['count'].sum()"
   ]
  },
  {
   "attachments": {},
   "cell_type": "markdown",
   "metadata": {
    "pycharm": {
     "name": "#%% md\n"
    }
   },
   "source": [
    "### Per dialect"
   ]
  },
  {
   "cell_type": "code",
   "execution_count": 6,
   "metadata": {
    "pycharm": {
     "name": "#%%\n"
    }
   },
   "outputs": [
    {
     "name": "stdout",
     "output_type": "stream",
     "text": [
      "[########################################] | 100% Completed | 567.00 ms\n",
      "[########################################] | 100% Completed | 571.76 ms\n",
      "[########################################] | 100% Completed | 573.70 ms\n",
      "[########################################] | 100% Completed | 563.41 ms\n"
     ]
    },
    {
     "data": {
      "text/html": [
       "<div>\n",
       "<style scoped>\n",
       "    .dataframe tbody tr th:only-of-type {\n",
       "        vertical-align: middle;\n",
       "    }\n",
       "\n",
       "    .dataframe tbody tr th {\n",
       "        vertical-align: top;\n",
       "    }\n",
       "\n",
       "    .dataframe thead th {\n",
       "        text-align: right;\n",
       "    }\n",
       "</style>\n",
       "<table border=\"1\" class=\"dataframe\">\n",
       "  <thead>\n",
       "    <tr style=\"text-align: right;\">\n",
       "      <th></th>\n",
       "      <th>success</th>\n",
       "      <th>count</th>\n",
       "      <th>percentage_full_dataset</th>\n",
       "      <th>percentage_parsed_sqlglot</th>\n",
       "      <th>dialect</th>\n",
       "    </tr>\n",
       "  </thead>\n",
       "  <tbody>\n",
       "    <tr>\n",
       "      <th>1</th>\n",
       "      <td>1</td>\n",
       "      <td>59938</td>\n",
       "      <td>0.160625</td>\n",
       "      <td>0.656438</td>\n",
       "      <td>ANSI</td>\n",
       "    </tr>\n",
       "    <tr>\n",
       "      <th>3</th>\n",
       "      <td>1</td>\n",
       "      <td>73850</td>\n",
       "      <td>0.197907</td>\n",
       "      <td>0.808801</td>\n",
       "      <td>POSTGRES</td>\n",
       "    </tr>\n",
       "    <tr>\n",
       "      <th>5</th>\n",
       "      <td>1</td>\n",
       "      <td>71112</td>\n",
       "      <td>0.190569</td>\n",
       "      <td>0.778815</td>\n",
       "      <td>MYSQL</td>\n",
       "    </tr>\n",
       "    <tr>\n",
       "      <th>7</th>\n",
       "      <td>1</td>\n",
       "      <td>63378</td>\n",
       "      <td>0.169843</td>\n",
       "      <td>0.694112</td>\n",
       "      <td>TSQL</td>\n",
       "    </tr>\n",
       "  </tbody>\n",
       "</table>\n",
       "</div>"
      ],
      "text/plain": [
       "   success  count  percentage_full_dataset  percentage_parsed_sqlglot   dialect\n",
       "1  1        59938  0.160625                 0.656438                   ANSI    \n",
       "3  1        73850  0.197907                 0.808801                   POSTGRES\n",
       "5  1        71112  0.190569                 0.778815                   MYSQL   \n",
       "7  1        63378  0.169843                 0.694112                   TSQL    "
      ]
     },
     "metadata": {},
     "output_type": "display_data"
    }
   ],
   "source": [
    "sqlglot_sr_ansi = sqlglot_ddf.groupby('parsed_none')['parsed_none'].count().compute()\n",
    "sqlglot_sr_ansi = pd.DataFrame({'success':sqlglot_sr_ansi.index, 'count':[sqlglot_sr_ansi[sqlglot_sr_ansi.index == 0].sum(),sqlglot_sr_ansi[sqlglot_sr_ansi.index != 0].sum()]})\n",
    "sqlglot_sr_ansi['percentage_full_dataset'] = sqlglot_sr_ansi['count']/filedetails_df['file_id'].count()\n",
    "sqlglot_sr_ansi['percentage_parsed_sqlglot'] = sqlglot_sr_ansi['count']/success_count\n",
    "sqlglot_sr_ansi['dialect'] = 'ANSI'\n",
    "\n",
    "sqlglot_sr_postgres = sqlglot_ddf.groupby('parsed_postgres')['parsed_postgres'].count().compute()\n",
    "sqlglot_sr_postgres = pd.DataFrame({'success':sqlglot_sr_postgres.index, 'count':[sqlglot_sr_postgres[sqlglot_sr_postgres.index == 0].sum(),sqlglot_sr_postgres[sqlglot_sr_postgres.index != 0].sum()]})\n",
    "sqlglot_sr_postgres['percentage_full_dataset'] = sqlglot_sr_postgres['count']/filedetails_df['file_id'].count()\n",
    "sqlglot_sr_postgres['percentage_parsed_sqlglot'] = sqlglot_sr_postgres['count']/success_count\n",
    "sqlglot_sr_postgres['dialect'] = 'POSTGRES'\n",
    "\n",
    "sqlglot_sr_mysql = sqlglot_ddf.groupby('parsed_mysql')['parsed_mysql'].count().compute()\n",
    "sqlglot_sr_mysql = pd.DataFrame({'success':sqlglot_sr_mysql.index, 'count':[sqlglot_sr_mysql[sqlglot_sr_mysql.index == 0].sum(),sqlglot_sr_mysql[sqlglot_sr_mysql.index != 0].sum()]})\n",
    "sqlglot_sr_mysql['percentage_full_dataset'] = sqlglot_sr_mysql['count']/filedetails_df['file_id'].count()\n",
    "sqlglot_sr_mysql['percentage_parsed_sqlglot'] = sqlglot_sr_mysql['count']/success_count\n",
    "sqlglot_sr_mysql['dialect'] = 'MYSQL'\n",
    "\n",
    "sqlglot_sr_tsql = sqlglot_ddf.groupby('parsed_tsql')['parsed_tsql'].count().compute()\n",
    "sqlglot_sr_tsql = pd.DataFrame({'success':sqlglot_sr_tsql.index, 'count':[sqlglot_sr_tsql[sqlglot_sr_tsql.index == 0].sum(),sqlglot_sr_tsql[sqlglot_sr_tsql.index != 0].sum()]})\n",
    "sqlglot_sr_tsql['percentage_full_dataset'] = sqlglot_sr_tsql['count']/filedetails_df['file_id'].count()\n",
    "sqlglot_sr_tsql['percentage_parsed_sqlglot'] = sqlglot_sr_tsql['count']/success_count\n",
    "sqlglot_sr_tsql['dialect'] = 'TSQL'\n",
    "\n",
    "merged_dialect_ddf = pd.concat([sqlglot_sr_ansi,sqlglot_sr_postgres,sqlglot_sr_mysql,sqlglot_sr_tsql],ignore_index=True)\n",
    "display(merged_dialect_ddf[merged_dialect_ddf.success == 1])"
   ]
  },
  {
   "attachments": {},
   "cell_type": "markdown",
   "metadata": {
    "pycharm": {
     "name": "#%% md\n"
    }
   },
   "source": [
    "## Comparison with pglast"
   ]
  },
  {
   "cell_type": "code",
   "execution_count": null,
   "metadata": {
    "pycharm": {
     "name": "#%%\n"
    }
   },
   "outputs": [],
   "source": [
    "pglast_ddf = read_partial('pglast','file',PGLastSchema().file_level_schema.names)\n",
    "sqlglot_ddf = read_partial('sqlglot','file',SQLGlotSchema().file_level_schema.names)"
   ]
  },
  {
   "cell_type": "code",
   "execution_count": null,
   "metadata": {
    "pycharm": {
     "name": "#%%\n"
    }
   },
   "outputs": [],
   "source": [
    "pglast_sr = pglast_ddf.groupby('parsed_file')['parsed_file'].count().compute()\n",
    "sqlglot_sr = sqlglot_ddf.groupby('parsed_postgres')['parsed_postgres'].count().compute()\n",
    "\n",
    "pglast_sr = pd.DataFrame({'success':pglast_sr.index, 'count':[pglast_sr[pglast_sr.index == 0].sum(),pglast_sr[pglast_sr.index != 0].sum()]})\n",
    "sqlglot_sr = pd.DataFrame({'success':sqlglot_sr.index, 'count':[sqlglot_sr[sqlglot_sr.index == 0].sum(),sqlglot_sr[sqlglot_sr.index != 0].sum()]})\n",
    "\n",
    "pglast_sr['percentage'] = pglast_sr['count']/filedetails_df['file_id'].count()\n",
    "sqlglot_sr['percentage'] = sqlglot_sr['count']/filedetails_df['file_id'].count()\n",
    "\n",
    "pglast_sr['parser'] = 'PGLAST'\n",
    "sqlglot_sr['parser'] = 'SQLGLOT_POSTGRES'\n",
    "\n",
    "merged_dialect_ddf = pd.concat([pglast_sr,sqlglot_sr],ignore_index=True)\n",
    "display(merged_dialect_ddf)"
   ]
  },
  {
   "attachments": {},
   "cell_type": "markdown",
   "metadata": {
    "pycharm": {
     "name": "#%% md\n"
    }
   },
   "source": [
    "=> First issue: SQLGLOT with postgres dialect has almost 10k extra parsed files"
   ]
  },
  {
   "attachments": {},
   "cell_type": "markdown",
   "metadata": {
    "pycharm": {
     "name": "#%% md\n"
    }
   },
   "source": [
    "Joining and writing down"
   ]
  },
  {
   "cell_type": "code",
   "execution_count": null,
   "metadata": {
    "pycharm": {
     "name": "#%%\n"
    }
   },
   "outputs": [],
   "source": [
    "sqlglot_ddf = read_partial('sqlglot','file',[item for item in SQLGlotSchema().file_level_schema.names if \"postgres\" in item or \"file_id\" in item])\n",
    "pglast_ddf = read_partial('pglast','file',PGLastSchema().file_level_schema.names)\n",
    "\n",
    "# filtering\n",
    "#pglast_ddf['p'] = pglast_ddf['parsed_file']\n",
    "#sqlglot_ddf['p'] = sqlglot_ddf['parsed_postgres']\n",
    "sqlglot_ddf = sqlglot_ddf[sqlglot_ddf.parsed_postgres == 1]\n",
    "pglast_ddf = pglast_ddf[pglast_ddf.parsed_file == 1]\n",
    "\n",
    "# renaming cols\n",
    "sqlglot_ddf = sqlglot_ddf.rename(columns=dict(zip(sqlglot_ddf.columns, [item.replace(\"postgres\",\"sqlglot\") for item in sqlglot_ddf.columns])))\n",
    "pglast_ddf = pglast_ddf.rename(columns=dict(zip(pglast_ddf.columns, [item.replace(\"pglast_file_id\",\"file_id\") for item in [\"pglast_\" + item for item in pglast_ddf.columns]])))\n",
    "\n",
    "pglast_joined_sqlglot = dd.merge(\n",
    "    sqlglot_ddf,\n",
    "    pglast_ddf,\n",
    "    on=['file_id'],\n",
    "    how='outer',indicator=True,suffixes=['_sqlglot','_pglast'])"
   ]
  },
  {
   "cell_type": "code",
   "execution_count": 6,
   "metadata": {
    "pycharm": {
     "name": "#%%\n"
    }
   },
   "outputs": [],
   "source": [
    "join_schema = pa.schema([])\n",
    "for item in SQLGlotSchema().file_level_schema:\n",
    "    if \"postgres\" in item.name or \"file_id\" in item.name:\n",
    "        join_schema = join_schema.append(pa.field(item.name.replace(\"postgres\",\"sqlglot\"),item.type))\n",
    "for item in PGLastSchema().file_level_schema:\n",
    "    if item.name != 'file_id':\n",
    "        join_schema = join_schema.append(pa.field(\"pglast_\" + item.name,item.type))\n",
    "join_schema = join_schema.append(pa.field(\"_merge\",pa.string()))\n",
    "pglast_joined_sqlglot.to_parquet('../out_new/join__parsed__pglast_sqlglot/',schema=join_schema,overwrite=True)"
   ]
  },
  {
   "cell_type": "code",
   "execution_count": 7,
   "metadata": {
    "pycharm": {
     "name": "#%%\n"
    }
   },
   "outputs": [],
   "source": [
    "joined_ddf = dd.read_parquet('../out_new/join__parsed__pglast_sqlglot/', schema=join_schema, split_row_groups=True, calculate_divisions=True,engine='pyarrow')"
   ]
  },
  {
   "cell_type": "code",
   "execution_count": 8,
   "metadata": {
    "pycharm": {
     "name": "#%%\n"
    }
   },
   "outputs": [
    {
     "name": "stdout",
     "output_type": "stream",
     "text": [
      "[########################################] | 100% Completed | 793.39 ms\n"
     ]
    },
    {
     "data": {
      "text/plain": [
       "_merge\n",
       "both          40006\n",
       "left_only     33844\n",
       "right_only    23931\n",
       "Name: _merge, dtype: int64"
      ]
     },
     "execution_count": 8,
     "metadata": {},
     "output_type": "execute_result"
    }
   ],
   "source": [
    "joined_ddf.groupby('_merge')['_merge'].count().compute()\n",
    "# \"left_only\" == sqlglot\n",
    "# \"right_only\" == pglast"
   ]
  },
  {
   "attachments": {},
   "cell_type": "markdown",
   "metadata": {
    "pycharm": {
     "name": "#%% md\n"
    }
   },
   "source": [
    "How many of the parsed files match for both?\n",
    "\n",
    "40 006 only\n",
    "aka 62% of those parsed by pglast"
   ]
  },
  {
   "attachments": {},
   "cell_type": "markdown",
   "metadata": {
    "pycharm": {
     "name": "#%% md\n"
    }
   },
   "source": [
    "How many parsed files match on: parsed + number of extracted tables?"
   ]
  },
  {
   "cell_type": "code",
   "execution_count": 9,
   "metadata": {
    "pycharm": {
     "name": "#%%\n"
    }
   },
   "outputs": [
    {
     "name": "stdout",
     "output_type": "stream",
     "text": [
      "[########################################] | 100% Completed | 6.67 sms\n"
     ]
    },
    {
     "data": {
      "text/plain": [
       "38961"
      ]
     },
     "execution_count": 9,
     "metadata": {},
     "output_type": "execute_result"
    }
   ],
   "source": [
    "parsed_both_ddf = joined_ddf[joined_ddf['_merge'] == 'both']\n",
    "\n",
    "# removing create seq stmt cause apparently it affects num tables\n",
    "import ast\n",
    "parsed_both_ddf['x'] = parsed_both_ddf.apply(\n",
    "    lambda row:\n",
    "    [item for item in ast.literal_eval(row['pglast_counter_str']) if 'CreateSeqStmt' in item],\n",
    "    axis=1,\n",
    "    meta=('x', 'string'))\n",
    "parsed_both_ddf['pglast_num_create_seq'] = parsed_both_ddf.apply(\n",
    "    lambda row:\n",
    "    row['x'][0]['CreateSeqStmt'] if len(row['x']) > 0 else 0,\n",
    "    axis=1,\n",
    "    meta=('pglast_num_create_seq', 'float'))\n",
    "\n",
    "parsed_both_ddf['sqlglot_nt'] = parsed_both_ddf['sqlglot_num_distinct_tables']\n",
    "parsed_both_ddf['pglast_nt'] = parsed_both_ddf['pglast_num_distinct_tables'] - parsed_both_ddf['pglast_num_create_seq']\n",
    "\n",
    "parsed_both_ddf[parsed_both_ddf.sqlglot_nt == parsed_both_ddf.pglast_nt]['file_id'].count().compute()"
   ]
  },
  {
   "attachments": {},
   "cell_type": "markdown",
   "metadata": {
    "pycharm": {
     "name": "#%% md\n"
    }
   },
   "source": [
    "Match on num columns"
   ]
  },
  {
   "cell_type": "code",
   "execution_count": 10,
   "metadata": {
    "pycharm": {
     "name": "#%%\n"
    }
   },
   "outputs": [
    {
     "name": "stdout",
     "output_type": "stream",
     "text": [
      "[########################################] | 100% Completed | 6.29 ss\n"
     ]
    },
    {
     "data": {
      "text/plain": [
       "39943"
      ]
     },
     "execution_count": 10,
     "metadata": {},
     "output_type": "execute_result"
    }
   ],
   "source": [
    "parsed_both_ddf[parsed_both_ddf.pglast_num_distinct_columns == parsed_both_ddf.sqlglot_num_distinct_columns]['file_id'].count().compute()"
   ]
  },
  {
   "attachments": {},
   "cell_type": "markdown",
   "metadata": {
    "pycharm": {
     "name": "#%% md\n"
    }
   },
   "source": [
    "Match on num tables + num columns"
   ]
  },
  {
   "cell_type": "code",
   "execution_count": 11,
   "metadata": {
    "pycharm": {
     "name": "#%%\n"
    }
   },
   "outputs": [
    {
     "name": "stdout",
     "output_type": "stream",
     "text": [
      "[########################################] | 100% Completed | 5.96 ss\n"
     ]
    },
    {
     "data": {
      "text/plain": [
       "38943"
      ]
     },
     "execution_count": 11,
     "metadata": {},
     "output_type": "execute_result"
    }
   ],
   "source": [
    "parsed_both_ddf[(parsed_both_ddf.pglast_num_distinct_columns == parsed_both_ddf.sqlglot_num_distinct_columns) &\n",
    "                (parsed_both_ddf.sqlglot_nt == parsed_both_ddf.pglast_nt)]['file_id'].count().compute()"
   ]
  },
  {
   "attachments": {},
   "cell_type": "markdown",
   "metadata": {
    "pycharm": {
     "name": "#%% md\n"
    }
   },
   "source": [
    "Match on constraints\n",
    "\n",
    "notnull: 38532\n",
    "unique: 34763\n",
    "primary: 25282\n",
    "foreign: 37411\n",
    "all: 19085"
   ]
  },
  {
   "cell_type": "code",
   "execution_count": 12,
   "metadata": {
    "pycharm": {
     "name": "#%%\n"
    }
   },
   "outputs": [
    {
     "name": "stdout",
     "output_type": "stream",
     "text": [
      "[########################################] | 100% Completed | 7.33 sms\n"
     ]
    },
    {
     "data": {
      "text/plain": [
       "19085"
      ]
     },
     "execution_count": 12,
     "metadata": {},
     "output_type": "execute_result"
    }
   ],
   "source": [
    "parsed_both_ddf[(parsed_both_ddf.sqlglot_num_ctr_notnull == parsed_both_ddf.pglast_num_ctr_notnull) &\n",
    "                (parsed_both_ddf.sqlglot_num_ctr_unique == parsed_both_ddf.pglast_num_ctr_unique) &\n",
    "                (parsed_both_ddf.sqlglot_num_ctr_primary == parsed_both_ddf.pglast_num_ctr_primary) &\n",
    "                (parsed_both_ddf.sqlglot_num_ctr_foreign == parsed_both_ddf.pglast_num_ctr_foreign)\n",
    "                ]['file_id'].count().compute()"
   ]
  },
  {
   "attachments": {},
   "cell_type": "markdown",
   "metadata": {
    "pycharm": {
     "name": "#%% md\n"
    }
   },
   "source": [
    "Match on table list"
   ]
  },
  {
   "cell_type": "code",
   "execution_count": 13,
   "metadata": {
    "pycharm": {
     "name": "#%%\n"
    }
   },
   "outputs": [
    {
     "name": "stdout",
     "output_type": "stream",
     "text": [
      "[########################################] | 100% Completed | 8.75 sms\n"
     ]
    },
    {
     "data": {
      "text/plain": [
       "35927"
      ]
     },
     "execution_count": 13,
     "metadata": {},
     "output_type": "execute_result"
    }
   ],
   "source": [
    "parsed_both_ddf_tl = parsed_both_ddf.dropna(subset=['sqlglot_table_list','pglast_table_list'])\n",
    "parsed_both_ddf_tl['sqlglot_tl'] = parsed_both_ddf_tl.apply(\n",
    "    lambda row:\n",
    "    \"|\".join(str(x) for x in sorted(row['sqlglot_table_list'])),\n",
    "    axis=1,\n",
    "    meta=('sqlglot_tl', 'string'))\n",
    "parsed_both_ddf_tl['pglast_tl'] = parsed_both_ddf_tl.apply(\n",
    "    lambda row:\n",
    "    \"|\".join(str(x) for x in sorted(row['pglast_table_list'])),\n",
    "    axis=1,\n",
    "    meta=('pglast_tl', 'string'))\n",
    "\n",
    "parsed_both_ddf_tl[parsed_both_ddf_tl.pglast_tl == parsed_both_ddf_tl.sqlglot_tl]['file_id'].count().compute()"
   ]
  },
  {
   "attachments": {},
   "cell_type": "markdown",
   "metadata": {
    "pycharm": {
     "name": "#%% md\n"
    }
   },
   "source": [
    "Match on column list"
   ]
  },
  {
   "cell_type": "code",
   "execution_count": null,
   "metadata": {
    "pycharm": {
     "name": "#%%\n"
    }
   },
   "outputs": [],
   "source": [
    "parsed_both_ddf_cl = parsed_both_ddf.dropna(subset=['sqlglot_column_list','pglast_columns_list'])\n",
    "parsed_both_ddf_cl['sqlglot_cl'] = parsed_both_ddf_cl.apply(\n",
    "    lambda row:\n",
    "    \"|\".join(str(x) for x in sorted(row['sqlglot_column_list'])),\n",
    "    axis=1,\n",
    "    meta=('sqlglot_cl', 'string'))\n",
    "parsed_both_ddf_cl['pglast_cl'] = parsed_both_ddf_cl.apply(\n",
    "    lambda row:\n",
    "    \"|\".join(str(x) for x in sorted(row['pglast_columns_list'])),\n",
    "    axis=1,\n",
    "    meta=('pglast_cl', 'string'))\n",
    "\n",
    "parsed_both_ddf_cl[parsed_both_ddf_cl.pglast_cl == parsed_both_ddf_cl.sqlglot_cl]['file_id'].count().compute()"
   ]
  },
  {
   "attachments": {},
   "cell_type": "markdown",
   "metadata": {
    "pycharm": {
     "name": "#%% md\n"
    }
   },
   "source": [
    "# Error Analysis"
   ]
  },
  {
   "cell_type": "code",
   "execution_count": 4,
   "metadata": {
    "pycharm": {
     "name": "#%%\n"
    }
   },
   "outputs": [],
   "source": [
    "sqlglot_ddf = read_partial('sqlglot','file',SQLGlotSchema().file_level_schema.names)"
   ]
  },
  {
   "cell_type": "code",
   "execution_count": 5,
   "metadata": {
    "pycharm": {
     "name": "#%%\n"
    }
   },
   "outputs": [
    {
     "name": "stdout",
     "output_type": "stream",
     "text": [
      "[########################################] | 100% Completed | 117.80 ms\n"
     ]
    },
    {
     "data": {
      "text/html": [
       "<div>\n",
       "<style scoped>\n",
       "    .dataframe tbody tr th:only-of-type {\n",
       "        vertical-align: middle;\n",
       "    }\n",
       "\n",
       "    .dataframe tbody tr th {\n",
       "        vertical-align: top;\n",
       "    }\n",
       "\n",
       "    .dataframe thead th {\n",
       "        text-align: right;\n",
       "    }\n",
       "</style>\n",
       "<table border=\"1\" class=\"dataframe\">\n",
       "  <thead>\n",
       "    <tr style=\"text-align: right;\">\n",
       "      <th></th>\n",
       "      <th>file_id</th>\n",
       "      <th>file_path</th>\n",
       "      <th>errors_at_read</th>\n",
       "      <th>parsed</th>\n",
       "      <th>parsed_none</th>\n",
       "      <th>parsed_postgres</th>\n",
       "      <th>parsed_mysql</th>\n",
       "      <th>parsed_tsql</th>\n",
       "      <th>dialect</th>\n",
       "      <th>parse_error</th>\n",
       "      <th>file_parse_error_start_context</th>\n",
       "      <th>file_parse_error_highlight</th>\n",
       "      <th>num_statements</th>\n",
       "      <th>num_distinct_tables</th>\n",
       "      <th>table_list</th>\n",
       "      <th>num_distinct_columns</th>\n",
       "      <th>column_list</th>\n",
       "      <th>num_distinct_schemas</th>\n",
       "      <th>schema_list</th>\n",
       "      <th>num_distinct_dbs</th>\n",
       "      <th>db_list</th>\n",
       "      <th>view_list</th>\n",
       "      <th>num_constraints</th>\n",
       "      <th>num_ctr_notnull</th>\n",
       "      <th>num_ctr_unique</th>\n",
       "      <th>num_ctr_primary</th>\n",
       "      <th>num_ctr_foreign</th>\n",
       "      <th>comment_count</th>\n",
       "      <th>num_drop_stmt</th>\n",
       "      <th>num_drop_like_stmt</th>\n",
       "      <th>num_create_stmt</th>\n",
       "      <th>num_create_like_stmt</th>\n",
       "      <th>num_insert_stmt</th>\n",
       "      <th>num_insert_like_stmt</th>\n",
       "      <th>num_alter_stmt</th>\n",
       "      <th>num_alter_like_stmt</th>\n",
       "      <th>num_select_stmt</th>\n",
       "      <th>num_view_stmt</th>\n",
       "      <th>num_truncate_stmt</th>\n",
       "      <th>num_update_stmt</th>\n",
       "      <th>num_comment_stmt</th>\n",
       "      <th>num_delete_stmt</th>\n",
       "      <th>num_set_like_stmt</th>\n",
       "      <th>num_execute_like_stmt</th>\n",
       "      <th>num_index_like_stmt</th>\n",
       "      <th>num_transaction_like_stmt</th>\n",
       "      <th>num_command_stmt</th>\n",
       "      <th>num_command_alter_stmt</th>\n",
       "      <th>counter_str</th>\n",
       "      <th>postgres_num_statements</th>\n",
       "      <th>postgres_num_distinct_tables</th>\n",
       "      <th>postgres_table_list</th>\n",
       "      <th>postgres_num_distinct_columns</th>\n",
       "      <th>postgres_column_list</th>\n",
       "      <th>postgres_num_distinct_schemas</th>\n",
       "      <th>postgres_schema_list</th>\n",
       "      <th>postgres_num_distinct_dbs</th>\n",
       "      <th>postgres_db_list</th>\n",
       "      <th>postgres_view_list</th>\n",
       "      <th>postgres_num_constraints</th>\n",
       "      <th>postgres_num_ctr_notnull</th>\n",
       "      <th>postgres_num_ctr_unique</th>\n",
       "      <th>postgres_num_ctr_primary</th>\n",
       "      <th>postgres_num_ctr_foreign</th>\n",
       "      <th>postgres_comment_count</th>\n",
       "      <th>postgres_num_drop_stmt</th>\n",
       "      <th>postgres_num_drop_like_stmt</th>\n",
       "      <th>postgres_num_create_stmt</th>\n",
       "      <th>postgres_num_create_like_stmt</th>\n",
       "      <th>postgres_num_insert_stmt</th>\n",
       "      <th>postgres_num_insert_like_stmt</th>\n",
       "      <th>postgres_num_alter_stmt</th>\n",
       "      <th>postgres_num_alter_like_stmt</th>\n",
       "      <th>postgres_num_select_stmt</th>\n",
       "      <th>postgres_num_view_stmt</th>\n",
       "      <th>postgres_num_truncate_stmt</th>\n",
       "      <th>postgres_num_update_stmt</th>\n",
       "      <th>postgres_num_comment_stmt</th>\n",
       "      <th>postgres_num_delete_stmt</th>\n",
       "      <th>postgres_num_set_like_stmt</th>\n",
       "      <th>postgres_num_execute_like_stmt</th>\n",
       "      <th>postgres_num_index_like_stmt</th>\n",
       "      <th>postgres_num_transaction_like_stmt</th>\n",
       "      <th>postgres_num_command_stmt</th>\n",
       "      <th>postgres_num_command_alter_stmt</th>\n",
       "      <th>postgres_counter_str</th>\n",
       "    </tr>\n",
       "  </thead>\n",
       "  <tbody>\n",
       "    <tr>\n",
       "      <th>0</th>\n",
       "      <td>413760</td>\n",
       "      <td>../sqlfiles/413760_RRInitialQuery.sql</td>\n",
       "      <td>0</td>\n",
       "      <td>0</td>\n",
       "      <td>0</td>\n",
       "      <td>0</td>\n",
       "      <td>0</td>\n",
       "      <td>0</td>\n",
       "      <td>None</td>\n",
       "      <td>Expecting (|Expecting )|Invalid expression / Unexpected token|</td>\n",
       "      <td>ng INT CHECK(Rating &gt;= 0 and Rating &lt;= 5) NOT NULL,\\n    Note TEXT,\\n    RestaurantId INT FOREIGN KEY |K(Rating &gt;= 0 and Rating &lt;= 5) NOT NULL,\\n    Note TEXT,\\n    RestaurantId INT FOREIGN KEY REFERENCES |</td>\n",
       "      <td>REFERENCES|Restaurants|</td>\n",
       "      <td>0</td>\n",
       "      <td>0</td>\n",
       "      <td>None</td>\n",
       "      <td>0</td>\n",
       "      <td>None</td>\n",
       "      <td>0</td>\n",
       "      <td>None</td>\n",
       "      <td>0</td>\n",
       "      <td>None</td>\n",
       "      <td>None</td>\n",
       "      <td>0</td>\n",
       "      <td>0</td>\n",
       "      <td>0</td>\n",
       "      <td>0</td>\n",
       "      <td>0</td>\n",
       "      <td>0</td>\n",
       "      <td>0</td>\n",
       "      <td>0</td>\n",
       "      <td>0</td>\n",
       "      <td>0</td>\n",
       "      <td>0</td>\n",
       "      <td>0</td>\n",
       "      <td>0</td>\n",
       "      <td>0</td>\n",
       "      <td>0</td>\n",
       "      <td>0</td>\n",
       "      <td>0</td>\n",
       "      <td>0</td>\n",
       "      <td>0</td>\n",
       "      <td>0</td>\n",
       "      <td>0</td>\n",
       "      <td>0</td>\n",
       "      <td>0</td>\n",
       "      <td>0</td>\n",
       "      <td>0</td>\n",
       "      <td>0</td>\n",
       "      <td>[]</td>\n",
       "      <td>0</td>\n",
       "      <td>0</td>\n",
       "      <td>None</td>\n",
       "      <td>0</td>\n",
       "      <td>None</td>\n",
       "      <td>0</td>\n",
       "      <td>None</td>\n",
       "      <td>0</td>\n",
       "      <td>None</td>\n",
       "      <td>None</td>\n",
       "      <td>0</td>\n",
       "      <td>0</td>\n",
       "      <td>0</td>\n",
       "      <td>0</td>\n",
       "      <td>0</td>\n",
       "      <td>0</td>\n",
       "      <td>0</td>\n",
       "      <td>0</td>\n",
       "      <td>0</td>\n",
       "      <td>0</td>\n",
       "      <td>0</td>\n",
       "      <td>0</td>\n",
       "      <td>0</td>\n",
       "      <td>0</td>\n",
       "      <td>0</td>\n",
       "      <td>0</td>\n",
       "      <td>0</td>\n",
       "      <td>0</td>\n",
       "      <td>0</td>\n",
       "      <td>0</td>\n",
       "      <td>0</td>\n",
       "      <td>0</td>\n",
       "      <td>0</td>\n",
       "      <td>0</td>\n",
       "      <td>0</td>\n",
       "      <td>0</td>\n",
       "      <td>None</td>\n",
       "    </tr>\n",
       "    <tr>\n",
       "      <th>1</th>\n",
       "      <td>413761</td>\n",
       "      <td>../sqlfiles/413761_dam.spe.req_create_altibase.sql</td>\n",
       "      <td>0</td>\n",
       "      <td>0</td>\n",
       "      <td>0</td>\n",
       "      <td>0</td>\n",
       "      <td>0</td>\n",
       "      <td>0</td>\n",
       "      <td>None</td>\n",
       "      <td>Expecting )|Invalid expression / Unexpected token|</td>\n",
       "      <td>CMMNCLCODE(CL_CODE) ON DELETE CASCADE\\n);\\n\\nCREATE INDEX COMTCCMMNCODE_i01 ON COMTCCMMNCODE\\n(CL_CODE  |</td>\n",
       "      <td>ASC|</td>\n",
       "      <td>0</td>\n",
       "      <td>0</td>\n",
       "      <td>None</td>\n",
       "      <td>0</td>\n",
       "      <td>None</td>\n",
       "      <td>0</td>\n",
       "      <td>None</td>\n",
       "      <td>0</td>\n",
       "      <td>None</td>\n",
       "      <td>None</td>\n",
       "      <td>0</td>\n",
       "      <td>0</td>\n",
       "      <td>0</td>\n",
       "      <td>0</td>\n",
       "      <td>0</td>\n",
       "      <td>0</td>\n",
       "      <td>0</td>\n",
       "      <td>0</td>\n",
       "      <td>0</td>\n",
       "      <td>0</td>\n",
       "      <td>0</td>\n",
       "      <td>0</td>\n",
       "      <td>0</td>\n",
       "      <td>0</td>\n",
       "      <td>0</td>\n",
       "      <td>0</td>\n",
       "      <td>0</td>\n",
       "      <td>0</td>\n",
       "      <td>0</td>\n",
       "      <td>0</td>\n",
       "      <td>0</td>\n",
       "      <td>0</td>\n",
       "      <td>0</td>\n",
       "      <td>0</td>\n",
       "      <td>0</td>\n",
       "      <td>0</td>\n",
       "      <td>[]</td>\n",
       "      <td>0</td>\n",
       "      <td>0</td>\n",
       "      <td>None</td>\n",
       "      <td>0</td>\n",
       "      <td>None</td>\n",
       "      <td>0</td>\n",
       "      <td>None</td>\n",
       "      <td>0</td>\n",
       "      <td>None</td>\n",
       "      <td>None</td>\n",
       "      <td>0</td>\n",
       "      <td>0</td>\n",
       "      <td>0</td>\n",
       "      <td>0</td>\n",
       "      <td>0</td>\n",
       "      <td>0</td>\n",
       "      <td>0</td>\n",
       "      <td>0</td>\n",
       "      <td>0</td>\n",
       "      <td>0</td>\n",
       "      <td>0</td>\n",
       "      <td>0</td>\n",
       "      <td>0</td>\n",
       "      <td>0</td>\n",
       "      <td>0</td>\n",
       "      <td>0</td>\n",
       "      <td>0</td>\n",
       "      <td>0</td>\n",
       "      <td>0</td>\n",
       "      <td>0</td>\n",
       "      <td>0</td>\n",
       "      <td>0</td>\n",
       "      <td>0</td>\n",
       "      <td>0</td>\n",
       "      <td>0</td>\n",
       "      <td>0</td>\n",
       "      <td>None</td>\n",
       "    </tr>\n",
       "    <tr>\n",
       "      <th>2</th>\n",
       "      <td>413762</td>\n",
       "      <td>../sqlfiles/413762_V002_1__create_item_table.sql</td>\n",
       "      <td>0</td>\n",
       "      <td>1</td>\n",
       "      <td>1</td>\n",
       "      <td>1</td>\n",
       "      <td>1</td>\n",
       "      <td>1</td>\n",
       "      <td>None</td>\n",
       "      <td>None</td>\n",
       "      <td>None</td>\n",
       "      <td>None</td>\n",
       "      <td>1</td>\n",
       "      <td>2</td>\n",
       "      <td>[ORDERS, ITEM]</td>\n",
       "      <td>7</td>\n",
       "      <td>[COLOR, SIZE, ORDER_ID, NAME, AMOUNT, ID, CURRENCY]</td>\n",
       "      <td>0</td>\n",
       "      <td>None</td>\n",
       "      <td>0</td>\n",
       "      <td>None</td>\n",
       "      <td>None</td>\n",
       "      <td>6</td>\n",
       "      <td>5</td>\n",
       "      <td>0</td>\n",
       "      <td>1</td>\n",
       "      <td>1</td>\n",
       "      <td>0</td>\n",
       "      <td>0</td>\n",
       "      <td>0</td>\n",
       "      <td>1</td>\n",
       "      <td>1</td>\n",
       "      <td>0</td>\n",
       "      <td>0</td>\n",
       "      <td>0</td>\n",
       "      <td>0</td>\n",
       "      <td>0</td>\n",
       "      <td>0</td>\n",
       "      <td>0</td>\n",
       "      <td>0</td>\n",
       "      <td>0</td>\n",
       "      <td>0</td>\n",
       "      <td>0</td>\n",
       "      <td>0</td>\n",
       "      <td>0</td>\n",
       "      <td>0</td>\n",
       "      <td>0</td>\n",
       "      <td>0</td>\n",
       "      <td>[{'Create': 1}, {'Schema': 1}, {'Table': 1}, {'ColumnDef': 7}, {'PrimaryKey': 1}, {'ForeignKey': 1}, {'Identifier': 12}, {'DataType': 7}, {'ColumnConstraint': 6}, {'Reference': 1}, {'GeneratedAsIdentityColumnConstraint': 1}, {'Literal': 4}, {'NotNullColumnConstraint': 5}]</td>\n",
       "      <td>1</td>\n",
       "      <td>2</td>\n",
       "      <td>[ORDERS, ITEM]</td>\n",
       "      <td>7</td>\n",
       "      <td>[COLOR, SIZE, ORDER_ID, NAME, AMOUNT, ID, CURRENCY]</td>\n",
       "      <td>0</td>\n",
       "      <td>None</td>\n",
       "      <td>0</td>\n",
       "      <td>None</td>\n",
       "      <td>None</td>\n",
       "      <td>6</td>\n",
       "      <td>5</td>\n",
       "      <td>0</td>\n",
       "      <td>1</td>\n",
       "      <td>1</td>\n",
       "      <td>0</td>\n",
       "      <td>0</td>\n",
       "      <td>0</td>\n",
       "      <td>1</td>\n",
       "      <td>1</td>\n",
       "      <td>0</td>\n",
       "      <td>0</td>\n",
       "      <td>0</td>\n",
       "      <td>0</td>\n",
       "      <td>0</td>\n",
       "      <td>0</td>\n",
       "      <td>0</td>\n",
       "      <td>0</td>\n",
       "      <td>0</td>\n",
       "      <td>0</td>\n",
       "      <td>0</td>\n",
       "      <td>0</td>\n",
       "      <td>0</td>\n",
       "      <td>0</td>\n",
       "      <td>0</td>\n",
       "      <td>0</td>\n",
       "      <td>None</td>\n",
       "    </tr>\n",
       "    <tr>\n",
       "      <th>3</th>\n",
       "      <td>413764</td>\n",
       "      <td>../sqlfiles/413764_V001_01__initial%20db%20creation.sql</td>\n",
       "      <td>0</td>\n",
       "      <td>0</td>\n",
       "      <td>0</td>\n",
       "      <td>0</td>\n",
       "      <td>0</td>\n",
       "      <td>0</td>\n",
       "      <td>None</td>\n",
       "      <td>Invalid expression / Unexpected token|</td>\n",
       "      <td>ULL\\n);\\n\\nCREATE TABLE HIBERNATE_SEQUENCE (\\n  next_val BIGINT(20) NULL\\n);\\n\\nALTER TABLE USER_AUTHORITY |</td>\n",
       "      <td>ADD|</td>\n",
       "      <td>0</td>\n",
       "      <td>0</td>\n",
       "      <td>None</td>\n",
       "      <td>0</td>\n",
       "      <td>None</td>\n",
       "      <td>0</td>\n",
       "      <td>None</td>\n",
       "      <td>0</td>\n",
       "      <td>None</td>\n",
       "      <td>None</td>\n",
       "      <td>0</td>\n",
       "      <td>0</td>\n",
       "      <td>0</td>\n",
       "      <td>0</td>\n",
       "      <td>0</td>\n",
       "      <td>0</td>\n",
       "      <td>0</td>\n",
       "      <td>0</td>\n",
       "      <td>0</td>\n",
       "      <td>0</td>\n",
       "      <td>0</td>\n",
       "      <td>0</td>\n",
       "      <td>0</td>\n",
       "      <td>0</td>\n",
       "      <td>0</td>\n",
       "      <td>0</td>\n",
       "      <td>0</td>\n",
       "      <td>0</td>\n",
       "      <td>0</td>\n",
       "      <td>0</td>\n",
       "      <td>0</td>\n",
       "      <td>0</td>\n",
       "      <td>0</td>\n",
       "      <td>0</td>\n",
       "      <td>0</td>\n",
       "      <td>0</td>\n",
       "      <td>[]</td>\n",
       "      <td>0</td>\n",
       "      <td>0</td>\n",
       "      <td>None</td>\n",
       "      <td>0</td>\n",
       "      <td>None</td>\n",
       "      <td>0</td>\n",
       "      <td>None</td>\n",
       "      <td>0</td>\n",
       "      <td>None</td>\n",
       "      <td>None</td>\n",
       "      <td>0</td>\n",
       "      <td>0</td>\n",
       "      <td>0</td>\n",
       "      <td>0</td>\n",
       "      <td>0</td>\n",
       "      <td>0</td>\n",
       "      <td>0</td>\n",
       "      <td>0</td>\n",
       "      <td>0</td>\n",
       "      <td>0</td>\n",
       "      <td>0</td>\n",
       "      <td>0</td>\n",
       "      <td>0</td>\n",
       "      <td>0</td>\n",
       "      <td>0</td>\n",
       "      <td>0</td>\n",
       "      <td>0</td>\n",
       "      <td>0</td>\n",
       "      <td>0</td>\n",
       "      <td>0</td>\n",
       "      <td>0</td>\n",
       "      <td>0</td>\n",
       "      <td>0</td>\n",
       "      <td>0</td>\n",
       "      <td>0</td>\n",
       "      <td>0</td>\n",
       "      <td>None</td>\n",
       "    </tr>\n",
       "    <tr>\n",
       "      <th>4</th>\n",
       "      <td>413765</td>\n",
       "      <td>../sqlfiles/413765_DEPARTMENTS.sql</td>\n",
       "      <td>0</td>\n",
       "      <td>0</td>\n",
       "      <td>0</td>\n",
       "      <td>0</td>\n",
       "      <td>0</td>\n",
       "      <td>0</td>\n",
       "      <td>None</td>\n",
       "      <td>Expecting )|Expecting )|Invalid expression / Unexpected token|</td>\n",
       "      <td>REATE TABLE hr_prod.departments (\\n  department_id NUMBER(4) NOT NULL,\\n  department_name VARCHAR2(30 |</td>\n",
       "      <td>BYTE|</td>\n",
       "      <td>0</td>\n",
       "      <td>0</td>\n",
       "      <td>None</td>\n",
       "      <td>0</td>\n",
       "      <td>None</td>\n",
       "      <td>0</td>\n",
       "      <td>None</td>\n",
       "      <td>0</td>\n",
       "      <td>None</td>\n",
       "      <td>None</td>\n",
       "      <td>0</td>\n",
       "      <td>0</td>\n",
       "      <td>0</td>\n",
       "      <td>0</td>\n",
       "      <td>0</td>\n",
       "      <td>0</td>\n",
       "      <td>0</td>\n",
       "      <td>0</td>\n",
       "      <td>0</td>\n",
       "      <td>0</td>\n",
       "      <td>0</td>\n",
       "      <td>0</td>\n",
       "      <td>0</td>\n",
       "      <td>0</td>\n",
       "      <td>0</td>\n",
       "      <td>0</td>\n",
       "      <td>0</td>\n",
       "      <td>0</td>\n",
       "      <td>0</td>\n",
       "      <td>0</td>\n",
       "      <td>0</td>\n",
       "      <td>0</td>\n",
       "      <td>0</td>\n",
       "      <td>0</td>\n",
       "      <td>0</td>\n",
       "      <td>0</td>\n",
       "      <td>[]</td>\n",
       "      <td>0</td>\n",
       "      <td>0</td>\n",
       "      <td>None</td>\n",
       "      <td>0</td>\n",
       "      <td>None</td>\n",
       "      <td>0</td>\n",
       "      <td>None</td>\n",
       "      <td>0</td>\n",
       "      <td>None</td>\n",
       "      <td>None</td>\n",
       "      <td>0</td>\n",
       "      <td>0</td>\n",
       "      <td>0</td>\n",
       "      <td>0</td>\n",
       "      <td>0</td>\n",
       "      <td>0</td>\n",
       "      <td>0</td>\n",
       "      <td>0</td>\n",
       "      <td>0</td>\n",
       "      <td>0</td>\n",
       "      <td>0</td>\n",
       "      <td>0</td>\n",
       "      <td>0</td>\n",
       "      <td>0</td>\n",
       "      <td>0</td>\n",
       "      <td>0</td>\n",
       "      <td>0</td>\n",
       "      <td>0</td>\n",
       "      <td>0</td>\n",
       "      <td>0</td>\n",
       "      <td>0</td>\n",
       "      <td>0</td>\n",
       "      <td>0</td>\n",
       "      <td>0</td>\n",
       "      <td>0</td>\n",
       "      <td>0</td>\n",
       "      <td>None</td>\n",
       "    </tr>\n",
       "  </tbody>\n",
       "</table>\n",
       "</div>"
      ],
      "text/plain": [
       "  file_id                                                file_path  errors_at_read  parsed  parsed_none  parsed_postgres  parsed_mysql  parsed_tsql dialect                                                     parse_error                                                                                                                                                                                  file_parse_error_start_context file_parse_error_highlight  num_statements  num_distinct_tables      table_list  num_distinct_columns                                          column_list  num_distinct_schemas schema_list  num_distinct_dbs db_list view_list  num_constraints  num_ctr_notnull  num_ctr_unique  num_ctr_primary  num_ctr_foreign  comment_count  num_drop_stmt  num_drop_like_stmt  num_create_stmt  num_create_like_stmt  num_insert_stmt  num_insert_like_stmt  num_alter_stmt  num_alter_like_stmt  num_select_stmt  num_view_stmt  num_truncate_stmt  num_update_stmt  num_comment_stmt  num_delete_stmt  num_set_like_stmt  num_execute_like_stmt  num_index_like_stmt  num_transaction_like_stmt  num_command_stmt  num_command_alter_stmt                                                                                                                                                                                                                                                                       counter_str  postgres_num_statements  postgres_num_distinct_tables postgres_table_list  postgres_num_distinct_columns                                 postgres_column_list  postgres_num_distinct_schemas postgres_schema_list  postgres_num_distinct_dbs postgres_db_list postgres_view_list  postgres_num_constraints  postgres_num_ctr_notnull  postgres_num_ctr_unique  postgres_num_ctr_primary  postgres_num_ctr_foreign  postgres_comment_count  postgres_num_drop_stmt  postgres_num_drop_like_stmt  postgres_num_create_stmt  postgres_num_create_like_stmt  postgres_num_insert_stmt  postgres_num_insert_like_stmt  postgres_num_alter_stmt  postgres_num_alter_like_stmt  postgres_num_select_stmt  postgres_num_view_stmt  postgres_num_truncate_stmt  postgres_num_update_stmt  postgres_num_comment_stmt  postgres_num_delete_stmt  postgres_num_set_like_stmt  postgres_num_execute_like_stmt  postgres_num_index_like_stmt  postgres_num_transaction_like_stmt  postgres_num_command_stmt  postgres_num_command_alter_stmt postgres_counter_str\n",
       "0  413760  ../sqlfiles/413760_RRInitialQuery.sql                    0               0       0            0                0             0            None    Expecting (|Expecting )|Invalid expression / Unexpected token|  ng INT CHECK(Rating >= 0 and Rating <= 5) NOT NULL,\\n    Note TEXT,\\n    RestaurantId INT FOREIGN KEY |K(Rating >= 0 and Rating <= 5) NOT NULL,\\n    Note TEXT,\\n    RestaurantId INT FOREIGN KEY REFERENCES |  REFERENCES|Restaurants|    0               0                    None            0                     None                                                 0                     None        0                 None    None      0                0                0               0                0                0              0              0                   0                0                     0                0                     0               0                    0                0              0                  0                0                 0                0                  0                      0                    0                          0                 0                       []                                                                                                                                                                                                                                                                                0                        0                             None                0                              None                                                 0                              None                 0                          None             None               0                         0                         0                        0                         0                         0                       0                       0                            0                         0                              0                         0                              0                        0                             0                         0                       0                           0                         0                          0                         0                           0                               0                             0                                   0                          0                                None               \n",
       "1  413761  ../sqlfiles/413761_dam.spe.req_create_altibase.sql       0               0       0            0                0             0            None    Expecting )|Invalid expression / Unexpected token|              CMMNCLCODE(CL_CODE) ON DELETE CASCADE\\n);\\n\\nCREATE INDEX COMTCCMMNCODE_i01 ON COMTCCMMNCODE\\n(CL_CODE  |                                                                                                       ASC|                       0               0                    None            0                     None                                                 0                     None        0                 None    None      0                0                0               0                0                0              0              0                   0                0                     0                0                     0               0                    0                0              0                  0                0                 0                0                  0                      0                    0                          0                 0                       []                                                                                                                                                                                                                                                                                0                        0                             None                0                              None                                                 0                              None                 0                          None             None               0                         0                         0                        0                         0                         0                       0                       0                            0                         0                              0                         0                              0                        0                             0                         0                       0                           0                         0                          0                         0                           0                               0                             0                                   0                          0                                None               \n",
       "2  413762  ../sqlfiles/413762_V002_1__create_item_table.sql         0               1       1            1                1             1            None    None                                                            None                                                                                                                                                                                                            None                       1               2                    [ORDERS, ITEM]  7                     [COLOR, SIZE, ORDER_ID, NAME, AMOUNT, ID, CURRENCY]  0                     None        0                 None    None      6                5                0               1                1                0              0              0                   1                1                     0                0                     0               0                    0                0              0                  0                0                 0                0                  0                      0                    0                          0                 0                       [{'Create': 1}, {'Schema': 1}, {'Table': 1}, {'ColumnDef': 7}, {'PrimaryKey': 1}, {'ForeignKey': 1}, {'Identifier': 12}, {'DataType': 7}, {'ColumnConstraint': 6}, {'Reference': 1}, {'GeneratedAsIdentityColumnConstraint': 1}, {'Literal': 4}, {'NotNullColumnConstraint': 5}]  1                        2                             [ORDERS, ITEM]      7                              [COLOR, SIZE, ORDER_ID, NAME, AMOUNT, ID, CURRENCY]  0                              None                 0                          None             None               6                         5                         0                        1                         1                         0                       0                       0                            1                         1                              0                         0                              0                        0                             0                         0                       0                           0                         0                          0                         0                           0                               0                             0                                   0                          0                                None               \n",
       "3  413764  ../sqlfiles/413764_V001_01__initial%20db%20creation.sql  0               0       0            0                0             0            None    Invalid expression / Unexpected token|                          ULL\\n);\\n\\nCREATE TABLE HIBERNATE_SEQUENCE (\\n  next_val BIGINT(20) NULL\\n);\\n\\nALTER TABLE USER_AUTHORITY |                                                                                                    ADD|                       0               0                    None            0                     None                                                 0                     None        0                 None    None      0                0                0               0                0                0              0              0                   0                0                     0                0                     0               0                    0                0              0                  0                0                 0                0                  0                      0                    0                          0                 0                       []                                                                                                                                                                                                                                                                                0                        0                             None                0                              None                                                 0                              None                 0                          None             None               0                         0                         0                        0                         0                         0                       0                       0                            0                         0                              0                         0                              0                        0                             0                         0                       0                           0                         0                          0                         0                           0                               0                             0                                   0                          0                                None               \n",
       "4  413765  ../sqlfiles/413765_DEPARTMENTS.sql                       0               0       0            0                0             0            None    Expecting )|Expecting )|Invalid expression / Unexpected token|  REATE TABLE hr_prod.departments (\\n  department_id NUMBER(4) NOT NULL,\\n  department_name VARCHAR2(30 |                                                                                                         BYTE|                      0               0                    None            0                     None                                                 0                     None        0                 None    None      0                0                0               0                0                0              0              0                   0                0                     0                0                     0               0                    0                0              0                  0                0                 0                0                  0                      0                    0                          0                 0                       []                                                                                                                                                                                                                                                                                0                        0                             None                0                              None                                                 0                              None                 0                          None             None               0                         0                         0                        0                         0                         0                       0                       0                            0                         0                              0                         0                              0                        0                             0                         0                       0                           0                         0                          0                         0                           0                               0                             0                                   0                          0                                None               "
      ]
     },
     "execution_count": 5,
     "metadata": {},
     "output_type": "execute_result"
    }
   ],
   "source": [
    "sqlglot_ddf.head()"
   ]
  },
  {
   "cell_type": "code",
   "execution_count": 6,
   "metadata": {
    "pycharm": {
     "name": "#%%\n"
    }
   },
   "outputs": [
    {
     "name": "stdout",
     "output_type": "stream",
     "text": [
      "[########################################] | 100% Completed | 663.10 ms\n"
     ]
    },
    {
     "data": {
      "text/plain": [
       "parsed\n",
       "0    281848\n",
       "1    91308 \n",
       "Name: parsed, dtype: int64"
      ]
     },
     "execution_count": 6,
     "metadata": {},
     "output_type": "execute_result"
    }
   ],
   "source": [
    "sqlglot_ddf.groupby('parsed')['parsed'].count().compute()"
   ]
  },
  {
   "attachments": {},
   "cell_type": "markdown",
   "metadata": {
    "pycharm": {
     "name": "#%% md\n"
    }
   },
   "source": [
    "### stmt level"
   ]
  },
  {
   "cell_type": "code",
   "execution_count": 7,
   "metadata": {
    "pycharm": {
     "name": "#%%\n"
    }
   },
   "outputs": [
    {
     "name": "stdout",
     "output_type": "stream",
     "text": [
      "[########################################] | 100% Completed | 1.07 sms\n"
     ]
    },
    {
     "data": {
      "text/plain": [
       "parsed\n",
       "0    3676582 \n",
       "1    20950924\n",
       "Name: parsed, dtype: int64"
      ]
     },
     "execution_count": 7,
     "metadata": {},
     "output_type": "execute_result"
    }
   ],
   "source": [
    "sqlparser_details_ddf = read_partial('sqlglot','stmt',SQLGlotSchema().statement_list_sch.names)\n",
    "sqlparser_details_ddf.groupby('parsed')['parsed'].count().compute()"
   ]
  },
  {
   "attachments": {},
   "cell_type": "markdown",
   "metadata": {
    "pycharm": {
     "name": "#%% md\n"
    }
   },
   "source": [
    "### back to errs"
   ]
  },
  {
   "cell_type": "code",
   "execution_count": 34,
   "metadata": {
    "pycharm": {
     "name": "#%%\n"
    }
   },
   "outputs": [
    {
     "name": "stdout",
     "output_type": "stream",
     "text": [
      "[########################################] | 100% Completed | 1.73 sms\n"
     ]
    },
    {
     "data": {
      "text/plain": [
       "file_id                           56829\n",
       "file_path                         56829\n",
       "parse_error                       56829\n",
       "file_parse_error_start_context    56829\n",
       "file_parse_error_highlight        56829\n",
       "dtype: int64"
      ]
     },
     "execution_count": 34,
     "metadata": {},
     "output_type": "execute_result"
    }
   ],
   "source": [
    "not_parsed = sqlglot_ddf[sqlglot_ddf.parsed == 0][['file_id','file_path','parse_error','file_parse_error_start_context', 'file_parse_error_highlight']]\n",
    "\n",
    "# 57 979 DEFAULT -> 56 829 DEFAULT + ENGINE\n",
    "not_parsed[(not_parsed.file_parse_error_highlight.str.upper().str.contains('DEFAULT')) &\n",
    "           (not_parsed.file_parse_error_start_context.str.upper().str.contains('ENGINE'))\n",
    "           ].count().compute()"
   ]
  },
  {
   "cell_type": "code",
   "execution_count": 41,
   "metadata": {
    "pycharm": {
     "name": "#%%\n"
    }
   },
   "outputs": [
    {
     "name": "stdout",
     "output_type": "stream",
     "text": [
      "[########################################] | 100% Completed | 1.99 sms\n"
     ]
    },
    {
     "data": {
      "text/plain": [
       "file_id                           35863\n",
       "file_path                         35863\n",
       "parse_error                       35863\n",
       "file_parse_error_start_context    35863\n",
       "file_parse_error_highlight        35863\n",
       "dtype: int64"
      ]
     },
     "execution_count": 41,
     "metadata": {},
     "output_type": "execute_result"
    }
   ],
   "source": [
    "# UNSIGNED upper -> 35 992 -> also INT: 35 863\n",
    "not_parsed[(not_parsed.file_parse_error_highlight.str.upper().str.contains('UNSIGNED')) &\n",
    "           (not_parsed.file_parse_error_start_context.str.upper().str.contains('INT',regex=False))\n",
    "           ].count().compute()"
   ]
  },
  {
   "cell_type": "code",
   "execution_count": 42,
   "metadata": {
    "pycharm": {
     "name": "#%%\n"
    }
   },
   "outputs": [
    {
     "name": "stdout",
     "output_type": "stream",
     "text": [
      "[########################################] | 100% Completed | 128.07 ms\n"
     ]
    },
    {
     "data": {
      "text/html": [
       "<div>\n",
       "<style scoped>\n",
       "    .dataframe tbody tr th:only-of-type {\n",
       "        vertical-align: middle;\n",
       "    }\n",
       "\n",
       "    .dataframe tbody tr th {\n",
       "        vertical-align: top;\n",
       "    }\n",
       "\n",
       "    .dataframe thead th {\n",
       "        text-align: right;\n",
       "    }\n",
       "</style>\n",
       "<table border=\"1\" class=\"dataframe\">\n",
       "  <thead>\n",
       "    <tr style=\"text-align: right;\">\n",
       "      <th></th>\n",
       "      <th>file_id</th>\n",
       "      <th>file_path</th>\n",
       "      <th>parse_error</th>\n",
       "      <th>file_parse_error_start_context</th>\n",
       "      <th>file_parse_error_highlight</th>\n",
       "    </tr>\n",
       "  </thead>\n",
       "  <tbody>\n",
       "    <tr>\n",
       "      <th>100</th>\n",
       "      <td>413962</td>\n",
       "      <td>../sqlfiles/413962_roomReser_dump.sql</td>\n",
       "      <td>Expecting )|Invalid expression / Unexpected token|</td>\n",
       "      <td>ult 'None',\\n  `booking_id` int(11) NOT NULL auto_increment,\\n  PRIMARY KEY  (`booking_id`),\\n  UNIQUE |</td>\n",
       "      <td>KEY|</td>\n",
       "    </tr>\n",
       "    <tr>\n",
       "      <th>114</th>\n",
       "      <td>413988</td>\n",
       "      <td>../sqlfiles/413988_UserTravelMonths.sql</td>\n",
       "      <td>Expecting )|Invalid expression / Unexpected token|</td>\n",
       "      <td>D),\\n  FOREIGN KEY (UserEmailAddress) REFERENCES Users(UserEmailAddress) ON DELETE CASCADE,\\n  UNIQUE |</td>\n",
       "      <td>KEY|</td>\n",
       "    </tr>\n",
       "    <tr>\n",
       "      <th>176</th>\n",
       "      <td>414126</td>\n",
       "      <td>../sqlfiles/414126_efhm_db_cocoon_role_allow_assign.sql</td>\n",
       "      <td>Expecting )|Invalid expression / Unexpected token|</td>\n",
       "      <td>t NOT NULL DEFAULT '0',\\n  `allowassign` bigint NOT NULL DEFAULT '0',\\n  PRIMARY KEY (`id`),\\n  UNIQUE |</td>\n",
       "      <td>KEY|</td>\n",
       "    </tr>\n",
       "    <tr>\n",
       "      <th>182</th>\n",
       "      <td>414139</td>\n",
       "      <td>../sqlfiles/414139_vms.sql</td>\n",
       "      <td>Expecting )|Invalid expression / Unexpected token|</td>\n",
       "      <td>`id` int(11) NOT NULL AUTO_INCREMENT,\\n  `name` varchar(80) NOT NULL,\\n  PRIMARY KEY (`id`),\\n  UNIQUE |</td>\n",
       "      <td>KEY|</td>\n",
       "    </tr>\n",
       "    <tr>\n",
       "      <th>218</th>\n",
       "      <td>414195</td>\n",
       "      <td>../sqlfiles/414195_portal_professor.sql</td>\n",
       "      <td>Expecting )|Invalid expression / Unexpected token|</td>\n",
       "      <td>_dep` varchar(20) NOT NULL,\\n  `pr_res_num` varchar(14) NOT NULL,\\n  PRIMARY KEY (`pr_num`),\\n  UNIQUE |</td>\n",
       "      <td>KEY|</td>\n",
       "    </tr>\n",
       "  </tbody>\n",
       "</table>\n",
       "</div>"
      ],
      "text/plain": [
       "    file_id                                                file_path                                         parse_error                                                                            file_parse_error_start_context file_parse_error_highlight\n",
       "100  413962  ../sqlfiles/413962_roomReser_dump.sql                    Expecting )|Invalid expression / Unexpected token|  ult 'None',\\n  `booking_id` int(11) NOT NULL auto_increment,\\n  PRIMARY KEY  (`booking_id`),\\n  UNIQUE |  KEY|                     \n",
       "114  413988  ../sqlfiles/413988_UserTravelMonths.sql                  Expecting )|Invalid expression / Unexpected token|  D),\\n  FOREIGN KEY (UserEmailAddress) REFERENCES Users(UserEmailAddress) ON DELETE CASCADE,\\n  UNIQUE |   KEY|                     \n",
       "176  414126  ../sqlfiles/414126_efhm_db_cocoon_role_allow_assign.sql  Expecting )|Invalid expression / Unexpected token|  t NOT NULL DEFAULT '0',\\n  `allowassign` bigint NOT NULL DEFAULT '0',\\n  PRIMARY KEY (`id`),\\n  UNIQUE |  KEY|                     \n",
       "182  414139  ../sqlfiles/414139_vms.sql                               Expecting )|Invalid expression / Unexpected token|  `id` int(11) NOT NULL AUTO_INCREMENT,\\n  `name` varchar(80) NOT NULL,\\n  PRIMARY KEY (`id`),\\n  UNIQUE |  KEY|                     \n",
       "218  414195  ../sqlfiles/414195_portal_professor.sql                  Expecting )|Invalid expression / Unexpected token|  _dep` varchar(20) NOT NULL,\\n  `pr_res_num` varchar(14) NOT NULL,\\n  PRIMARY KEY (`pr_num`),\\n  UNIQUE |  KEY|                     "
      ]
     },
     "execution_count": 42,
     "metadata": {},
     "output_type": "execute_result"
    }
   ],
   "source": [
    "not_parsed[(not_parsed.file_parse_error_highlight.str.upper().str.contains('KEY'))].head()"
   ]
  },
  {
   "cell_type": "code",
   "execution_count": 19,
   "metadata": {
    "pycharm": {
     "name": "#%%\n"
    }
   },
   "outputs": [
    {
     "name": "stdout",
     "output_type": "stream",
     "text": [
      "[########################################] | 100% Completed | 1.10 sms\n"
     ]
    }
   ],
   "source": [
    "errcounts = not_parsed['file_parse_error_highlight'].value_counts().compute()\n",
    "err_df = pd.DataFrame({'err':errcounts.index, 'cnt':errcounts.values})"
   ]
  },
  {
   "cell_type": "code",
   "execution_count": 22,
   "metadata": {
    "pycharm": {
     "name": "#%%\n"
    }
   },
   "outputs": [
    {
     "data": {
      "text/html": [
       "<div>\n",
       "<style scoped>\n",
       "    .dataframe tbody tr th:only-of-type {\n",
       "        vertical-align: middle;\n",
       "    }\n",
       "\n",
       "    .dataframe tbody tr th {\n",
       "        vertical-align: top;\n",
       "    }\n",
       "\n",
       "    .dataframe thead th {\n",
       "        text-align: right;\n",
       "    }\n",
       "</style>\n",
       "<table border=\"1\" class=\"dataframe\">\n",
       "  <thead>\n",
       "    <tr style=\"text-align: right;\">\n",
       "      <th></th>\n",
       "      <th>err</th>\n",
       "      <th>cnt</th>\n",
       "    </tr>\n",
       "  </thead>\n",
       "  <tbody>\n",
       "    <tr>\n",
       "      <th>0</th>\n",
       "      <td>DEFAULT|</td>\n",
       "      <td>56840</td>\n",
       "    </tr>\n",
       "    <tr>\n",
       "      <th>1</th>\n",
       "      <td>unsigned|</td>\n",
       "      <td>22177</td>\n",
       "    </tr>\n",
       "    <tr>\n",
       "      <th>2</th>\n",
       "      <td>[|</td>\n",
       "      <td>18082</td>\n",
       "    </tr>\n",
       "    <tr>\n",
       "      <th>3</th>\n",
       "      <td>UNSIGNED|</td>\n",
       "      <td>13806</td>\n",
       "    </tr>\n",
       "    <tr>\n",
       "      <th>4</th>\n",
       "      <td>KEY|</td>\n",
       "      <td>10614</td>\n",
       "    </tr>\n",
       "    <tr>\n",
       "      <th>5</th>\n",
       "      <td>#|</td>\n",
       "      <td>9393</td>\n",
       "    </tr>\n",
       "    <tr>\n",
       "      <th>6</th>\n",
       "      <td>CREATE|</td>\n",
       "      <td>7186</td>\n",
       "    </tr>\n",
       "    <tr>\n",
       "      <th>7</th>\n",
       "      <td>ON|UPDATE|</td>\n",
       "      <td>5053</td>\n",
       "    </tr>\n",
       "    <tr>\n",
       "      <th>8</th>\n",
       "      <td>.|</td>\n",
       "      <td>4876</td>\n",
       "    </tr>\n",
       "    <tr>\n",
       "      <th>9</th>\n",
       "      <td>USING|)|</td>\n",
       "      <td>4394</td>\n",
       "    </tr>\n",
       "    <tr>\n",
       "      <th>10</th>\n",
       "      <td></td>\n",
       "      <td>4345</td>\n",
       "    </tr>\n",
       "    <tr>\n",
       "      <th>11</th>\n",
       "      <td>ADD|</td>\n",
       "      <td>4054</td>\n",
       "    </tr>\n",
       "    <tr>\n",
       "      <th>12</th>\n",
       "      <td>longtext|</td>\n",
       "      <td>3807</td>\n",
       "    </tr>\n",
       "    <tr>\n",
       "      <th>13</th>\n",
       "      <td>=|</td>\n",
       "      <td>3650</td>\n",
       "    </tr>\n",
       "    <tr>\n",
       "      <th>14</th>\n",
       "      <td>DROP|</td>\n",
       "      <td>3542</td>\n",
       "    </tr>\n",
       "    <tr>\n",
       "      <th>15</th>\n",
       "      <td>enum|</td>\n",
       "      <td>3458</td>\n",
       "    </tr>\n",
       "    <tr>\n",
       "      <th>16</th>\n",
       "      <td>varying|</td>\n",
       "      <td>3455</td>\n",
       "    </tr>\n",
       "    <tr>\n",
       "      <th>17</th>\n",
       "      <td>SERIAL|</td>\n",
       "      <td>2992</td>\n",
       "    </tr>\n",
       "    <tr>\n",
       "      <th>18</th>\n",
       "      <td>serial|</td>\n",
       "      <td>2526</td>\n",
       "    </tr>\n",
       "    <tr>\n",
       "      <th>19</th>\n",
       "      <td>create|</td>\n",
       "      <td>2043</td>\n",
       "    </tr>\n",
       "    <tr>\n",
       "      <th>20</th>\n",
       "      <td>ENUM|</td>\n",
       "      <td>2029</td>\n",
       "    </tr>\n",
       "    <tr>\n",
       "      <th>21</th>\n",
       "      <td>INDEX|ASC|</td>\n",
       "      <td>1964</td>\n",
       "    </tr>\n",
       "    <tr>\n",
       "      <th>22</th>\n",
       "      <td>BYTE|</td>\n",
       "      <td>1786</td>\n",
       "    </tr>\n",
       "    <tr>\n",
       "      <th>23</th>\n",
       "      <td>drop|</td>\n",
       "      <td>1786</td>\n",
       "    </tr>\n",
       "    <tr>\n",
       "      <th>24</th>\n",
       "      <td>ASC|</td>\n",
       "      <td>1720</td>\n",
       "    </tr>\n",
       "    <tr>\n",
       "      <th>25</th>\n",
       "      <td>add|</td>\n",
       "      <td>1639</td>\n",
       "    </tr>\n",
       "    <tr>\n",
       "      <th>26</th>\n",
       "      <td>USE|</td>\n",
       "      <td>1634</td>\n",
       "    </tr>\n",
       "    <tr>\n",
       "      <th>27</th>\n",
       "      <td>mediumint|</td>\n",
       "      <td>1602</td>\n",
       "    </tr>\n",
       "    <tr>\n",
       "      <th>28</th>\n",
       "      <td>\\|</td>\n",
       "      <td>1535</td>\n",
       "    </tr>\n",
       "    <tr>\n",
       "      <th>29</th>\n",
       "      <td>RESTRICT|</td>\n",
       "      <td>1534</td>\n",
       "    </tr>\n",
       "    <tr>\n",
       "      <th>30</th>\n",
       "      <td>CONSTRAINTS|</td>\n",
       "      <td>1524</td>\n",
       "    </tr>\n",
       "    <tr>\n",
       "      <th>31</th>\n",
       "      <td>ENABLE|</td>\n",
       "      <td>1405</td>\n",
       "    </tr>\n",
       "    <tr>\n",
       "      <th>32</th>\n",
       "      <td>USING|,|</td>\n",
       "      <td>1336</td>\n",
       "    </tr>\n",
       "    <tr>\n",
       "      <th>33</th>\n",
       "      <td>CHAR|</td>\n",
       "      <td>1158</td>\n",
       "    </tr>\n",
       "    <tr>\n",
       "      <th>34</th>\n",
       "      <td>tablespace|</td>\n",
       "      <td>1120</td>\n",
       "    </tr>\n",
       "    <tr>\n",
       "      <th>35</th>\n",
       "      <td>uuid|</td>\n",
       "      <td>1118</td>\n",
       "    </tr>\n",
       "    <tr>\n",
       "      <th>36</th>\n",
       "      <td>mediumtext|</td>\n",
       "      <td>1086</td>\n",
       "    </tr>\n",
       "    <tr>\n",
       "      <th>37</th>\n",
       "      <td>,|</td>\n",
       "      <td>1048</td>\n",
       "    </tr>\n",
       "    <tr>\n",
       "      <th>38</th>\n",
       "      <td>default|</td>\n",
       "      <td>1037</td>\n",
       "    </tr>\n",
       "    <tr>\n",
       "      <th>39</th>\n",
       "      <td>DEFINER|</td>\n",
       "      <td>910</td>\n",
       "    </tr>\n",
       "    <tr>\n",
       "      <th>40</th>\n",
       "      <td>/|</td>\n",
       "      <td>866</td>\n",
       "    </tr>\n",
       "    <tr>\n",
       "      <th>41</th>\n",
       "      <td>bigserial|</td>\n",
       "      <td>854</td>\n",
       "    </tr>\n",
       "    <tr>\n",
       "      <th>42</th>\n",
       "      <td>use|</td>\n",
       "      <td>823</td>\n",
       "    </tr>\n",
       "    <tr>\n",
       "      <th>43</th>\n",
       "      <td>restrict|</td>\n",
       "      <td>788</td>\n",
       "    </tr>\n",
       "    <tr>\n",
       "      <th>44</th>\n",
       "      <td>SELECT|</td>\n",
       "      <td>770</td>\n",
       "    </tr>\n",
       "    <tr>\n",
       "      <th>45</th>\n",
       "      <td>constraints|</td>\n",
       "      <td>733</td>\n",
       "    </tr>\n",
       "    <tr>\n",
       "      <th>46</th>\n",
       "      <td>longblob|</td>\n",
       "      <td>724</td>\n",
       "    </tr>\n",
       "    <tr>\n",
       "      <th>47</th>\n",
       "      <td>COMTCCMMNCODE_FK1|(|CL_CODE|</td>\n",
       "      <td>589</td>\n",
       "    </tr>\n",
       "    <tr>\n",
       "      <th>48</th>\n",
       "      <td>tinytext|</td>\n",
       "      <td>534</td>\n",
       "    </tr>\n",
       "    <tr>\n",
       "      <th>49</th>\n",
       "      <td>IF|</td>\n",
       "      <td>530</td>\n",
       "    </tr>\n",
       "  </tbody>\n",
       "</table>\n",
       "</div>"
      ],
      "text/plain": [
       "                             err    cnt\n",
       "0   DEFAULT|                      56840\n",
       "1   unsigned|                     22177\n",
       "2   [|                            18082\n",
       "3   UNSIGNED|                     13806\n",
       "4   KEY|                          10614\n",
       "5   #|                            9393 \n",
       "6   CREATE|                       7186 \n",
       "7   ON|UPDATE|                    5053 \n",
       "8   .|                            4876 \n",
       "9   USING|)|                      4394 \n",
       "10                                4345 \n",
       "11  ADD|                          4054 \n",
       "12  longtext|                     3807 \n",
       "13  =|                            3650 \n",
       "14  DROP|                         3542 \n",
       "15  enum|                         3458 \n",
       "16  varying|                      3455 \n",
       "17  SERIAL|                       2992 \n",
       "18  serial|                       2526 \n",
       "19  create|                       2043 \n",
       "20  ENUM|                         2029 \n",
       "21  INDEX|ASC|                    1964 \n",
       "22  BYTE|                         1786 \n",
       "23  drop|                         1786 \n",
       "24  ASC|                          1720 \n",
       "25  add|                          1639 \n",
       "26  USE|                          1634 \n",
       "27  mediumint|                    1602 \n",
       "28  \\|                            1535 \n",
       "29  RESTRICT|                     1534 \n",
       "30  CONSTRAINTS|                  1524 \n",
       "31  ENABLE|                       1405 \n",
       "32  USING|,|                      1336 \n",
       "33  CHAR|                         1158 \n",
       "34  tablespace|                   1120 \n",
       "35  uuid|                         1118 \n",
       "36  mediumtext|                   1086 \n",
       "37  ,|                            1048 \n",
       "38  default|                      1037 \n",
       "39  DEFINER|                      910  \n",
       "40  /|                            866  \n",
       "41  bigserial|                    854  \n",
       "42  use|                          823  \n",
       "43  restrict|                     788  \n",
       "44  SELECT|                       770  \n",
       "45  constraints|                  733  \n",
       "46  longblob|                     724  \n",
       "47  COMTCCMMNCODE_FK1|(|CL_CODE|  589  \n",
       "48  tinytext|                     534  \n",
       "49  IF|                           530  "
      ]
     },
     "execution_count": 22,
     "metadata": {},
     "output_type": "execute_result"
    }
   ],
   "source": [
    "err_df.head(50)"
   ]
  },
  {
   "attachments": {},
   "cell_type": "markdown",
   "metadata": {
    "pycharm": {
     "name": "#%% md\n"
    }
   },
   "source": [
    "# NEW error analysis"
   ]
  },
  {
   "attachments": {},
   "cell_type": "markdown",
   "metadata": {
    "pycharm": {
     "name": "#%% md\n"
    }
   },
   "source": [
    "## Read and Prep -> SCHEMA HERE\n",
    "also includes more useful error calculation"
   ]
  },
  {
   "cell_type": "code",
   "execution_count": 18,
   "metadata": {
    "pycharm": {
     "name": "#%%\n"
    }
   },
   "outputs": [],
   "source": [
    "not_parsed_schema = pa.schema([])\n",
    "not_parsed_schema = not_parsed_schema.append(pa.field(\"file_id\",pa.string()))\n",
    "not_parsed_schema = not_parsed_schema.append(pa.field(\"statement_id\",pa.int64()))\n",
    "not_parsed_schema = not_parsed_schema.append(pa.field(\"parsed\",pa.int64()))\n",
    "not_parsed_schema = not_parsed_schema.append(pa.field(\"parse_error\",pa.string()))\n",
    "not_parsed_schema = not_parsed_schema.append(pa.field(\"file_parse_error_start_context\",pa.string()))\n",
    "not_parsed_schema = not_parsed_schema.append(pa.field(\"file_parse_error_highlight\",pa.string()))\n",
    "\n",
    "\n",
    "not_parsed_schema = not_parsed_schema.append(pa.field(\"possible_tsql_1\",pa.int64()))\n",
    "not_parsed_schema = not_parsed_schema.append(pa.field(\"possible_tsql_2\",pa.int64()))\n",
    "not_parsed_schema = not_parsed_schema.append(pa.field(\"possible_tsql_3\",pa.int64()))\n",
    "\n",
    "not_parsed_schema = not_parsed_schema.append(pa.field(\"possible_orasql_1\",pa.int64()))\n",
    "not_parsed_schema = not_parsed_schema.append(pa.field(\"possible_orasql_2\",pa.int64()))\n",
    "not_parsed_schema = not_parsed_schema.append(pa.field(\"possible_orasql_3\",pa.int64()))\n",
    "\n",
    "not_parsed_schema = not_parsed_schema.append(pa.field(\"possible_mysql_1\",pa.int64()))\n",
    "not_parsed_schema = not_parsed_schema.append(pa.field(\"possible_mysql_2\",pa.int64()))\n",
    "not_parsed_schema = not_parsed_schema.append(pa.field(\"possible_mysql_3\",pa.int64()))\n",
    "\n",
    "not_parsed_schema = not_parsed_schema.append(pa.field(\"original\",pa.string()))"
   ]
  },
  {
   "cell_type": "code",
   "execution_count": 63,
   "metadata": {
    "pycharm": {
     "name": "#%%\n"
    }
   },
   "outputs": [
    {
     "name": "stdout",
     "output_type": "stream",
     "text": [
      "[########################################] | 100% Completed | 3.35 ss\n"
     ]
    },
    {
     "data": {
      "text/plain": [
       "parsed\n",
       "0    3676582 \n",
       "1    20950924\n",
       "Name: parsed, dtype: int64"
      ]
     },
     "execution_count": 63,
     "metadata": {},
     "output_type": "execute_result"
    }
   ],
   "source": [
    "sqlglot_details_ddf = read_partial('sqlglot','stmt',SQLGlotSchema().statement_list_sch.names)\n",
    "sqlglot_details_ddf.groupby(\"parsed\")['parsed'].count().compute(scheduler='processes')"
   ]
  },
  {
   "cell_type": "code",
   "execution_count": 64,
   "metadata": {
    "pycharm": {
     "name": "#%%\n"
    }
   },
   "outputs": [
    {
     "name": "stdout",
     "output_type": "stream",
     "text": [
      "[########################################] | 100% Completed | 6.02 ss\n"
     ]
    },
    {
     "data": {
      "text/plain": [
       "328704"
      ]
     },
     "execution_count": 64,
     "metadata": {},
     "output_type": "execute_result"
    }
   ],
   "source": [
    "sqlglot_details_ddf[sqlglot_details_ddf.parsed == 1]['file_id'].nunique().compute(scheduler='processes')"
   ]
  },
  {
   "cell_type": "code",
   "execution_count": 65,
   "metadata": {
    "pycharm": {
     "name": "#%%\n"
    }
   },
   "outputs": [
    {
     "name": "stdout",
     "output_type": "stream",
     "text": [
      "[########################################] | 100% Completed | 5.23 ss\n"
     ]
    },
    {
     "data": {
      "text/plain": [
       "281282"
      ]
     },
     "execution_count": 65,
     "metadata": {},
     "output_type": "execute_result"
    }
   ],
   "source": [
    "sqlglot_details_ddf[sqlglot_details_ddf.parsed == 0]['file_id'].nunique().compute(scheduler='processes')"
   ]
  },
  {
   "cell_type": "code",
   "execution_count": 21,
   "metadata": {
    "pycharm": {
     "name": "#%%\n"
    }
   },
   "outputs": [],
   "source": [
    "not_parsed = sqlglot_details_ddf[sqlglot_details_ddf.parsed == 0]"
   ]
  },
  {
   "cell_type": "code",
   "execution_count": 22,
   "metadata": {
    "pycharm": {
     "name": "#%%\n"
    }
   },
   "outputs": [],
   "source": [
    "import re\n",
    "not_parsed['possible_tsql_1'] = not_parsed.apply(\n",
    "    lambda row:\n",
    "    len(re.findall('\\[([a-z0-9A-Z])+\\]', row['file_parse_error_start_context'])), \n",
    "    axis=1,\n",
    "    meta=('possible_tsql_1', 'int')\n",
    ")\n",
    "not_parsed['possible_tsql_2'] = not_parsed.apply(\n",
    "    lambda row:\n",
    "    len(re.findall('\\[([a-z0-9A-Z])+\\]', row['file_parse_error_highlight'])), \n",
    "    axis=1,\n",
    "    meta=('possible_tsql_2', 'int')\n",
    ")\n",
    "not_parsed['possible_tsql_3'] = not_parsed.apply(\n",
    "    lambda row:\n",
    "    1 if '[' in row['file_parse_error_highlight'] or ']' in row['file_parse_error_highlight'] else 0,\n",
    "    axis=1,\n",
    "    meta=('possible_tsql_3', 'int')\n",
    ")\n",
    "\n",
    "\n",
    "not_parsed['possible_orasql_1'] = not_parsed.apply(\n",
    "    lambda row:\n",
    "    len(re.findall('\\\"([a-z0-9A-Z])+\\\"', row['file_parse_error_start_context'])), \n",
    "    axis=1,\n",
    "    meta=('possible_orasql_1', 'int')\n",
    ")\n",
    "not_parsed['possible_orasql_2'] = not_parsed.apply(\n",
    "    lambda row:\n",
    "    len(re.findall('\\\"([a-z0-9A-Z])+\\\"', row['file_parse_error_highlight'])), \n",
    "    axis=1,\n",
    "    meta=('possible_orasql_2', 'int')\n",
    ")\n",
    "not_parsed['possible_orasql_3'] = not_parsed.apply(\n",
    "    lambda row:\n",
    "    1 if '\"' in row['file_parse_error_highlight'] else 0,\n",
    "    axis=1,\n",
    "    meta=('possible_orasql_3', 'int')\n",
    ")\n",
    "\n",
    "not_parsed['possible_mysql_1'] = not_parsed.apply(\n",
    "    lambda row:\n",
    "    len(re.findall('`([a-z0-9A-Z])+`', row['file_parse_error_start_context'])), \n",
    "    axis=1,\n",
    "    meta=('possible_mysql_1', 'int')\n",
    ")\n",
    "not_parsed['possible_mysql_2'] = not_parsed.apply(\n",
    "    lambda row:\n",
    "    len(re.findall('`([a-z0-9A-Z])+`', row['file_parse_error_highlight'])), \n",
    "    axis=1,\n",
    "    meta=('possible_mysql_2', 'int')\n",
    ")\n",
    "not_parsed['possible_mysql_3'] = not_parsed.apply(\n",
    "    lambda row:\n",
    "    1 if '`' in row['file_parse_error_highlight'] else 0,\n",
    "    axis=1,\n",
    "    meta=('possible_mysql_3', 'int')\n",
    ")\n",
    "\n",
    "not_parsed = not_parsed[not_parsed_schema.names]"
   ]
  },
  {
   "cell_type": "code",
   "execution_count": 24,
   "metadata": {
    "pycharm": {
     "name": "#%%\n"
    }
   },
   "outputs": [
    {
     "name": "stdout",
     "output_type": "stream",
     "text": [
      "[########################################] | 100% Completed | 313.98 s\n"
     ]
    }
   ],
   "source": [
    "not_parsed.to_parquet('../out_new/sqlglot_unparsed_stmts_only/',schema=not_parsed_schema,overwrite=True)"
   ]
  },
  {
   "cell_type": "code",
   "execution_count": 48,
   "metadata": {
    "pycharm": {
     "name": "#%%\n"
    }
   },
   "outputs": [],
   "source": [
    "not_parsed_only = dd.read_parquet('../out_new/sqlglot_unparsed_stmts_only/', columns = not_parsed_schema.names ,schema=not_parsed_schema, split_row_groups=True, calculate_divisions=True,engine='pyarrow')"
   ]
  },
  {
   "cell_type": "code",
   "execution_count": 49,
   "metadata": {
    "pycharm": {
     "name": "#%%\n"
    }
   },
   "outputs": [
    {
     "name": "stdout",
     "output_type": "stream",
     "text": [
      "[########################################] | 100% Completed | 3.45 ss\n"
     ]
    },
    {
     "data": {
      "text/plain": [
       "3676582"
      ]
     },
     "execution_count": 49,
     "metadata": {},
     "output_type": "execute_result"
    }
   ],
   "source": [
    "not_parsed_only['file_id'].count().compute(scheduler='processes')"
   ]
  },
  {
   "cell_type": "code",
   "execution_count": 50,
   "metadata": {
    "pycharm": {
     "name": "#%%\n"
    }
   },
   "outputs": [],
   "source": [
    "import sqlglot\n",
    "def get_good_error_1(row):\n",
    "    parsed_statements = None\n",
    "    _dialect = None\n",
    "    if row['possible_tsql_1'] == 1 or row['possible_tsql_2'] == 1 or row['possible_tsql_3'] == 1:\n",
    "        _dialect = \"tsql\"\n",
    "    elif row['possible_orasql_1'] == 1 or row['possible_orasql_2'] == 1 or row['possible_orasql_3'] == 1:\n",
    "        _dialect = \"oracle\"\n",
    "    elif row['possible_mysql_1'] == 1 or row['possible_mysql_2'] == 1 or row['possible_mysql_3'] == 1:\n",
    "        _dialect = \"mysql\"\n",
    "\n",
    "\n",
    "    if \"TIMEOUT_ERROR\" in row['parse_error']:\n",
    "        _dialect = None\n",
    "\n",
    "    if _dialect is not None:\n",
    "        _result = {}\n",
    "        try:\n",
    "            parsed_statements = sqlglot.parse(row['original'],read=_dialect,error_level=sqlglot.ErrorLevel.RAISE)\n",
    "        except sqlglot.errors.ParseError as e:\n",
    "            _result[\"parse_error\"] = ''\n",
    "            _result[\"file_parse_error_start_context\"] = ''\n",
    "            _result[\"file_parse_error_highlight\"] = ''\n",
    "            for idx, err in enumerate(e.errors):\n",
    "                if idx > 0:\n",
    "                    if err['highlight'] != e.errors[idx-1]['highlight']:\n",
    "                        _result[\"file_parse_error_start_context\"] += err['start_context'][0:200] + '|'\n",
    "                        _result[\"file_parse_error_highlight\"] += err['highlight'][0:200] + '|'\n",
    "                    else:\n",
    "                        _result[\"parse_error\"] += err['description'][0:200] + '|'\n",
    "                else:\n",
    "                    _result[\"parse_error\"] += err['description'][0:200] + '|'\n",
    "                    \n",
    "                    _result[\"file_parse_error_start_context\"] += err['start_context'][0:200] + '|'\n",
    "                    _result[\"file_parse_error_highlight\"] += err['highlight'][0:200] + '|'\n",
    "\n",
    "            _result[\"parse_error\"] = _result[\"parse_error\"][0:600]\n",
    "            _result[\"file_parse_error_start_context\"] = _result[\"file_parse_error_start_context\"][0:400]\n",
    "            _result[\"file_parse_error_highlight\"] = _result[\"file_parse_error_highlight\"][0:200]\n",
    "        except Exception as e:\n",
    "            _result['parse_error'] = 'NON_PARSER_ERROR|' + str(e)[0:300]\n",
    "            _result['file_parse_error_start_context'] = ''\n",
    "            _result['file_parse_error_highlight'] = ''\n",
    "    else:\n",
    "        _result = {}\n",
    "        _result[\"parse_error\"] = row['parse_error']\n",
    "        _result[\"file_parse_error_start_context\"] = row['file_parse_error_start_context']\n",
    "        _result[\"file_parse_error_highlight\"] = row['file_parse_error_highlight']\n",
    "    \n",
    "    return _result[\"parse_error\"]#,_result[\"file_parse_error_start_context\"],_result[\"file_parse_error_highlight\"]\n",
    "\n",
    "def get_good_error_2(row):\n",
    "    parsed_statements = None\n",
    "    _dialect = None\n",
    "    if row['possible_tsql_1'] == 1 or row['possible_tsql_2'] == 1 or row['possible_tsql_3'] == 1:\n",
    "        _dialect = \"tsql\"\n",
    "    elif row['possible_orasql_1'] == 1 or row['possible_orasql_2'] == 1 or row['possible_orasql_3'] == 1:\n",
    "        _dialect = \"oracle\"\n",
    "    elif row['possible_mysql_1'] == 1 or row['possible_mysql_2'] == 1 or row['possible_mysql_3'] == 1:\n",
    "        _dialect = \"mysql\"\n",
    "\n",
    "    if \"TIMEOUT_ERROR\" in row['parse_error']:\n",
    "        _dialect = None\n",
    "\n",
    "    if _dialect is not None:\n",
    "        _result = {}\n",
    "        try:\n",
    "            parsed_statements = sqlglot.parse(row['original'],read=_dialect,error_level=sqlglot.ErrorLevel.RAISE)\n",
    "        except sqlglot.errors.ParseError as e:\n",
    "            _result[\"parse_error\"] = ''\n",
    "            _result[\"file_parse_error_start_context\"] = ''\n",
    "            _result[\"file_parse_error_highlight\"] = ''\n",
    "            for idx, err in enumerate(e.errors):\n",
    "                if idx > 0:\n",
    "                    if err['highlight'] != e.errors[idx-1]['highlight']:\n",
    "                        _result[\"file_parse_error_start_context\"] += err['start_context'][0:200] + '|'\n",
    "                        _result[\"file_parse_error_highlight\"] += err['highlight'][0:200] + '|'\n",
    "                    else:\n",
    "                        _result[\"parse_error\"] += err['description'][0:200] + '|'\n",
    "                else:\n",
    "                    _result[\"parse_error\"] += err['description'][0:200] + '|'\n",
    "                    \n",
    "                    _result[\"file_parse_error_start_context\"] += err['start_context'][0:200] + '|'\n",
    "                    _result[\"file_parse_error_highlight\"] += err['highlight'][0:200] + '|'\n",
    "\n",
    "            _result[\"parse_error\"] = _result[\"parse_error\"][0:600]\n",
    "            _result[\"file_parse_error_start_context\"] = _result[\"file_parse_error_start_context\"][0:400]\n",
    "            _result[\"file_parse_error_highlight\"] = _result[\"file_parse_error_highlight\"][0:200]\n",
    "        except Exception as e:\n",
    "            _result['parse_error'] = 'NON_PARSER_ERROR|' + str(e)[0:300]\n",
    "            _result['file_parse_error_start_context'] = ''\n",
    "            _result['file_parse_error_highlight'] = ''\n",
    "    else:\n",
    "        _result = {}\n",
    "        _result[\"parse_error\"] = row['parse_error']\n",
    "        _result[\"file_parse_error_start_context\"] = row['file_parse_error_start_context']\n",
    "        _result[\"file_parse_error_highlight\"] = row['file_parse_error_highlight']\n",
    "    \n",
    "    return _result[\"file_parse_error_start_context\"]\n",
    "\n",
    "def get_good_error_3(row):\n",
    "    parsed_statements = None\n",
    "    _dialect = None\n",
    "    if row['possible_tsql_1'] == 1 or row['possible_tsql_2'] == 1 or row['possible_tsql_3'] == 1:\n",
    "        _dialect = \"tsql\"\n",
    "    elif row['possible_orasql_1'] == 1 or row['possible_orasql_2'] == 1 or row['possible_orasql_3'] == 1:\n",
    "        _dialect = \"oracle\"\n",
    "    elif row['possible_mysql_1'] == 1 or row['possible_mysql_2'] == 1 or row['possible_mysql_3'] == 1:\n",
    "        _dialect = \"mysql\"\n",
    "\n",
    "    if \"TIMEOUT_ERROR\" in row['parse_error']:\n",
    "        _dialect = None\n",
    "\n",
    "    if _dialect is not None:\n",
    "        _result = {}\n",
    "        try:\n",
    "            parsed_statements = sqlglot.parse(row['original'],read=_dialect,error_level=sqlglot.ErrorLevel.RAISE)\n",
    "        except sqlglot.errors.ParseError as e:\n",
    "            _result[\"parse_error\"] = ''\n",
    "            _result[\"file_parse_error_start_context\"] = ''\n",
    "            _result[\"file_parse_error_highlight\"] = ''\n",
    "            for idx, err in enumerate(e.errors):\n",
    "                if idx > 0:\n",
    "                    if err['highlight'] != e.errors[idx-1]['highlight']:\n",
    "                        _result[\"file_parse_error_start_context\"] += err['start_context'][0:200] + '|'\n",
    "                        _result[\"file_parse_error_highlight\"] += err['highlight'][0:200] + '|'\n",
    "                    else:\n",
    "                        _result[\"parse_error\"] += err['description'][0:200] + '|'\n",
    "                else:\n",
    "                    _result[\"parse_error\"] += err['description'][0:200] + '|'\n",
    "                    \n",
    "                    _result[\"file_parse_error_start_context\"] += err['start_context'][0:200] + '|'\n",
    "                    _result[\"file_parse_error_highlight\"] += err['highlight'][0:200] + '|'\n",
    "\n",
    "            _result[\"parse_error\"] = _result[\"parse_error\"][0:600]\n",
    "            _result[\"file_parse_error_start_context\"] = _result[\"file_parse_error_start_context\"][0:400]\n",
    "            _result[\"file_parse_error_highlight\"] = _result[\"file_parse_error_highlight\"][0:200]\n",
    "        except Exception as e:\n",
    "            _result['parse_error'] = 'NON_PARSER_ERROR|' + str(e)[0:300]\n",
    "            _result['file_parse_error_start_context'] = ''\n",
    "            _result['file_parse_error_highlight'] = ''\n",
    "    else:\n",
    "        _result = {}\n",
    "        _result[\"parse_error\"] = row['parse_error']\n",
    "        _result[\"file_parse_error_start_context\"] = row['file_parse_error_start_context']\n",
    "        _result[\"file_parse_error_highlight\"] = row['file_parse_error_highlight']\n",
    "    \n",
    "    return _result[\"file_parse_error_highlight\"]"
   ]
  },
  {
   "cell_type": "code",
   "execution_count": 51,
   "metadata": {
    "pycharm": {
     "name": "#%%\n"
    }
   },
   "outputs": [],
   "source": [
    "not_parsed_only['good_parse_error'] = not_parsed_only.apply(\n",
    "    get_good_error_1,\n",
    "    axis=1,\n",
    "    meta=('good_parse_error', 'string')\n",
    ")\n",
    "\n",
    "not_parsed_only['good_file_parse_error_start_context'] = not_parsed_only.apply(\n",
    "    get_good_error_2,\n",
    "    axis=1,\n",
    "    meta=('good_file_parse_error_start_context', 'string')\n",
    ")\n",
    "\n",
    "not_parsed_only['good_file_parse_error_highlight'] = not_parsed_only.apply(\n",
    "    get_good_error_3,\n",
    "    axis=1,\n",
    "    meta=('good_file_parse_error_highlight', 'string')\n",
    ")"
   ]
  },
  {
   "cell_type": "code",
   "execution_count": 52,
   "metadata": {
    "pycharm": {
     "name": "#%%\n"
    }
   },
   "outputs": [],
   "source": [
    "not_parsed_schema = pa.schema([])\n",
    "not_parsed_schema = not_parsed_schema.append(pa.field(\"file_id\",pa.string()))\n",
    "not_parsed_schema = not_parsed_schema.append(pa.field(\"statement_id\",pa.int64()))\n",
    "not_parsed_schema = not_parsed_schema.append(pa.field(\"parsed\",pa.int64()))\n",
    "not_parsed_schema = not_parsed_schema.append(pa.field(\"parse_error\",pa.string()))\n",
    "not_parsed_schema = not_parsed_schema.append(pa.field(\"file_parse_error_start_context\",pa.string()))\n",
    "not_parsed_schema = not_parsed_schema.append(pa.field(\"file_parse_error_highlight\",pa.string()))\n",
    "\n",
    "\n",
    "not_parsed_schema = not_parsed_schema.append(pa.field(\"possible_tsql_1\",pa.int64()))\n",
    "not_parsed_schema = not_parsed_schema.append(pa.field(\"possible_tsql_2\",pa.int64()))\n",
    "not_parsed_schema = not_parsed_schema.append(pa.field(\"possible_tsql_3\",pa.int64()))\n",
    "\n",
    "not_parsed_schema = not_parsed_schema.append(pa.field(\"possible_orasql_1\",pa.int64()))\n",
    "not_parsed_schema = not_parsed_schema.append(pa.field(\"possible_orasql_2\",pa.int64()))\n",
    "not_parsed_schema = not_parsed_schema.append(pa.field(\"possible_orasql_3\",pa.int64()))\n",
    "\n",
    "not_parsed_schema = not_parsed_schema.append(pa.field(\"possible_mysql_1\",pa.int64()))\n",
    "not_parsed_schema = not_parsed_schema.append(pa.field(\"possible_mysql_2\",pa.int64()))\n",
    "not_parsed_schema = not_parsed_schema.append(pa.field(\"possible_mysql_3\",pa.int64()))\n",
    "\n",
    "not_parsed_schema = not_parsed_schema.append(pa.field(\"original\",pa.string()))\n",
    "\n",
    "not_parsed_schema = not_parsed_schema.append(pa.field(\"good_parse_error\",pa.string()))\n",
    "not_parsed_schema = not_parsed_schema.append(pa.field(\"good_file_parse_error_start_context\",pa.string()))\n",
    "not_parsed_schema = not_parsed_schema.append(pa.field(\"good_file_parse_error_highlight\",pa.string()))\n"
   ]
  },
  {
   "cell_type": "code",
   "execution_count": 53,
   "metadata": {
    "pycharm": {
     "name": "#%%\n"
    }
   },
   "outputs": [
    {
     "name": "stdout",
     "output_type": "stream",
     "text": [
      "[########################################] | 100% Completed | 48m 38s\n"
     ]
    }
   ],
   "source": [
    "#not_parsed_only.to_parquet('../out_new/sqlglot_unparsed_stmts_only_good_errors/',schema=not_parsed_schema,overwrite=True,\n",
    "compute_kwargs={'scheduler':'processes'})"
   ]
  },
  {
   "cell_type": "code",
   "execution_count": 47,
   "metadata": {
    "pycharm": {
     "name": "#%%\n"
    }
   },
   "outputs": [
    {
     "name": "stdout",
     "output_type": "stream",
     "text": [
      "[########################################] | 100% Completed | 58.45 s\n"
     ]
    },
    {
     "name": "stderr",
     "output_type": "stream",
     "text": [
      "c:\\Users\\geacu\\anaconda3\\envs\\windows\\lib\\site-packages\\dask\\dataframe\\core.py:7893: UserWarning: Insufficient elements for `head`. 10 elements requested, only 6 elements available. Try passing larger `npartitions` to `head`.\n",
      "  warnings.warn(\n"
     ]
    },
    {
     "data": {
      "text/html": [
       "<div>\n",
       "<style scoped>\n",
       "    .dataframe tbody tr th:only-of-type {\n",
       "        vertical-align: middle;\n",
       "    }\n",
       "\n",
       "    .dataframe tbody tr th {\n",
       "        vertical-align: top;\n",
       "    }\n",
       "\n",
       "    .dataframe thead th {\n",
       "        text-align: right;\n",
       "    }\n",
       "</style>\n",
       "<table border=\"1\" class=\"dataframe\">\n",
       "  <thead>\n",
       "    <tr style=\"text-align: right;\">\n",
       "      <th></th>\n",
       "      <th>file_id</th>\n",
       "      <th>statement_id</th>\n",
       "      <th>parsed</th>\n",
       "      <th>parse_error</th>\n",
       "      <th>file_parse_error_start_context</th>\n",
       "      <th>file_parse_error_highlight</th>\n",
       "      <th>possible_tsql_1</th>\n",
       "      <th>possible_tsql_2</th>\n",
       "      <th>possible_tsql_3</th>\n",
       "      <th>possible_orasql_1</th>\n",
       "      <th>possible_orasql_2</th>\n",
       "      <th>possible_orasql_3</th>\n",
       "      <th>possible_mysql_1</th>\n",
       "      <th>possible_mysql_2</th>\n",
       "      <th>possible_mysql_3</th>\n",
       "      <th>original</th>\n",
       "      <th>good_parse_error</th>\n",
       "      <th>good_file_parse_error_start_context</th>\n",
       "      <th>good_file_parse_error_highlight</th>\n",
       "    </tr>\n",
       "  </thead>\n",
       "  <tbody>\n",
       "    <tr>\n",
       "      <th>0</th>\n",
       "      <td>419753</td>\n",
       "      <td>0</td>\n",
       "      <td>0</td>\n",
       "      <td>Expecting )|Invalid expression / Unexpected token|</td>\n",
       "      <td>more info\\n\\n  CREATE TABLE \"SPACEUSER\".\"RHNSNAPSHOTCONFIGCHANNEL\"\\n   (\\t\"SNAPSHOT_ID\" NUMBER NOT NULL |</td>\n",
       "      <td>ENABLE|</td>\n",
       "      <td>0</td>\n",
       "      <td>0</td>\n",
       "      <td>0</td>\n",
       "      <td>2</td>\n",
       "      <td>0</td>\n",
       "      <td>0</td>\n",
       "      <td>0</td>\n",
       "      <td>0</td>\n",
       "      <td>0</td>\n",
       "      <td>-- created by Oraschemadoc Wed Jan  9 15:07:06 2019\\n-- visit http://www.yarpen.cz/oraschemadoc/ for more info\\n\\n  CREATE TABLE \"SPACEUSER\".\"RHNSNAPSHOTCONFIGCHANNEL\"\\n   (\\t\"SNAPSHOT_ID\" NUMBER NOT NULL ENABLE,\\n\\t\"CONFIG_CHANNEL_ID\" NUMBER NOT NULL ENABLE,\\n\\t\"CREATED\" TIMESTAMP (6) WITH LOCAL TIME ZONE DEFAULT (current_timestamp) NOT NULL ENABLE,\\n\\t\"MODIFIED\" TIMESTAMP (6) WITH LOCAL TIME ZONE DEFAULT (current_timestamp) NOT NULL ENABLE\\n   ) ENABLE ROW MOVEMENT ;</td>\n",
       "      <td>Expecting )|Invalid expression / Unexpected token|</td>\n",
       "      <td>more info\\n\\n  CREATE TABLE \"SPACEUSER\".\"RHNSNAPSHOTCONFIGCHANNEL\"\\n   (\\t\"SNAPSHOT_ID\" NUMBER NOT NULL |</td>\n",
       "      <td>ENABLE|</td>\n",
       "    </tr>\n",
       "    <tr>\n",
       "      <th>1</th>\n",
       "      <td>419753</td>\n",
       "      <td>1</td>\n",
       "      <td>0</td>\n",
       "      <td>Invalid expression / Unexpected token|</td>\n",
       "      <td>HANNEL\" ADD CONSTRAINT \"RHN_SNAPSHOTCC_SID_FK\" FOREIGN KEY (\"SNAPSHOT_ID\")\\n\\t  REFERENCES \"SPACEUSER\"|</td>\n",
       "      <td>.|</td>\n",
       "      <td>0</td>\n",
       "      <td>0</td>\n",
       "      <td>0</td>\n",
       "      <td>1</td>\n",
       "      <td>0</td>\n",
       "      <td>0</td>\n",
       "      <td>0</td>\n",
       "      <td>0</td>\n",
       "      <td>0</td>\n",
       "      <td>ALTER TABLE \"SPACEUSER\".\"RHNSNAPSHOTCONFIGCHANNEL\" ADD CONSTRAINT \"RHN_SNAPSHOTCC_SID_FK\" FOREIGN KEY (\"SNAPSHOT_ID\")\\n\\t  REFERENCES \"SPACEUSER\".\"RHNSNAPSHOT\" (\"ID\") ON DELETE CASCADE ENABLE;</td>\n",
       "      <td>Invalid expression / Unexpected token|</td>\n",
       "      <td>HANNEL\" ADD CONSTRAINT \"RHN_SNAPSHOTCC_SID_FK\" FOREIGN KEY (\"SNAPSHOT_ID\")\\n\\t  REFERENCES \"SPACEUSER\"|</td>\n",
       "      <td>.|</td>\n",
       "    </tr>\n",
       "    <tr>\n",
       "      <th>2</th>\n",
       "      <td>419753</td>\n",
       "      <td>2</td>\n",
       "      <td>0</td>\n",
       "      <td>Invalid expression / Unexpected token|</td>\n",
       "      <td>ADD CONSTRAINT \"RHN_SNAPSHOTCC_CCID_FK\" FOREIGN KEY (\"CONFIG_CHANNEL_ID\")\\n\\t  REFERENCES \"SPACEUSER\"|</td>\n",
       "      <td>.|</td>\n",
       "      <td>0</td>\n",
       "      <td>0</td>\n",
       "      <td>0</td>\n",
       "      <td>1</td>\n",
       "      <td>0</td>\n",
       "      <td>0</td>\n",
       "      <td>0</td>\n",
       "      <td>0</td>\n",
       "      <td>0</td>\n",
       "      <td>ALTER TABLE \"SPACEUSER\".\"RHNSNAPSHOTCONFIGCHANNEL\" ADD CONSTRAINT \"RHN_SNAPSHOTCC_CCID_FK\" FOREIGN KEY (\"CONFIG_CHANNEL_ID\")\\n\\t  REFERENCES \"SPACEUSER\".\"RHNCONFIGCHANNEL\" (\"ID\") ENABLE;</td>\n",
       "      <td>Invalid expression / Unexpected token|</td>\n",
       "      <td>ADD CONSTRAINT \"RHN_SNAPSHOTCC_CCID_FK\" FOREIGN KEY (\"CONFIG_CHANNEL_ID\")\\n\\t  REFERENCES \"SPACEUSER\"|</td>\n",
       "      <td>.|</td>\n",
       "    </tr>\n",
       "    <tr>\n",
       "      <th>3</th>\n",
       "      <td>419754</td>\n",
       "      <td>15</td>\n",
       "      <td>0</td>\n",
       "      <td>Expecting )|Invalid expression / Unexpected token|</td>\n",
       "      <td>LL,\\n  `hasta` datetime DEFAULT NULL,\\n  `Status` int(11) DEFAULT NULL,\\n  PRIMARY KEY (`id`),\\n  KEY `f|</td>\n",
       "      <td>k_reservas_1_idx`|</td>\n",
       "      <td>0</td>\n",
       "      <td>0</td>\n",
       "      <td>0</td>\n",
       "      <td>0</td>\n",
       "      <td>0</td>\n",
       "      <td>0</td>\n",
       "      <td>3</td>\n",
       "      <td>0</td>\n",
       "      <td>1</td>\n",
       "      <td>CREATE TABLE `reservas` (\\n  `id` int(11) NOT NULL AUTO_INCREMENT,\\n  `id_empleado` int(11) DEFAULT NULL,\\n  `id_servicio` int(11) DEFAULT NULL,\\n  `id_sucursal` int(11) DEFAULT NULL,\\n  `desde` datetime DEFAULT NULL,\\n  `hasta` datetime DEFAULT NULL,\\n  `Status` int(11) DEFAULT NULL,\\n  PRIMARY KEY (`id`),\\n  KEY `fk_reservas_1_idx` (`id_empleado`),\\n  KEY `fk_servicio_idx` (`id_servicio`),\\n  KEY `fk_sucursal_idx` (`id_sucursal`),\\n  CONSTRAINT `fk_empleado` FOREIGN KEY (`id_empleado`) REFERENCES `empleados` (`id`) ON DELETE NO ACTION ON UPDATE NO ACTION,\\n  CONSTRAINT `fk_servicio` FOREIGN KEY (`id_servicio`) REFERENCES `servicios` (`id`) ON DELETE NO ACTION ON UPDATE NO ACTION,\\n  CONSTRAINT `fk_sucursal` FOREIGN KEY (`id_sucursal`) REFERENCES `sucursales` (`id`) ON DELETE NO ACTION ON UPDATE NO ACTION\\n) ENGINE=InnoDB AUTO_INCREMENT=13 DEFAULT CHARSET=latin1;</td>\n",
       "      <td>Expecting )|Invalid expression / Unexpected token|</td>\n",
       "      <td>LL,\\n  `hasta` datetime DEFAULT NULL,\\n  `Status` int(11) DEFAULT NULL,\\n  PRIMARY KEY (`id`),\\n  KEY `f|</td>\n",
       "      <td>k_reservas_1_idx`|</td>\n",
       "    </tr>\n",
       "    <tr>\n",
       "      <th>4</th>\n",
       "      <td>419754</td>\n",
       "      <td>17</td>\n",
       "      <td>0</td>\n",
       "      <td>Invalid expression / Unexpected token|</td>\n",
       "      <td>--\\n-- Dumping data for table `reservas`\\n--\\n\\nLOCK TABLES `r|</td>\n",
       "      <td>eservas`|</td>\n",
       "      <td>0</td>\n",
       "      <td>0</td>\n",
       "      <td>0</td>\n",
       "      <td>0</td>\n",
       "      <td>0</td>\n",
       "      <td>0</td>\n",
       "      <td>1</td>\n",
       "      <td>0</td>\n",
       "      <td>1</td>\n",
       "      <td>--\\n-- Dumping data for table `reservas`\\n--\\n\\nLOCK TABLES `reservas` WRITE;</td>\n",
       "      <td>Invalid expression / Unexpected token|</td>\n",
       "      <td>--\\n-- Dumping data for table `reservas`\\n--\\n\\nLOCK TABLES `r|</td>\n",
       "      <td>eservas`|</td>\n",
       "    </tr>\n",
       "    <tr>\n",
       "      <th>123</th>\n",
       "      <td>419789</td>\n",
       "      <td>0</td>\n",
       "      <td>0</td>\n",
       "      <td>Expected table name but got &lt;Token token_type: TokenType.L_BRACKET, text: [, line: 1, col: 14, comments: []&gt;|Required keyword: 'this' missing for &lt;class 'sqlglot.expressions.Table'&gt;|Invalid expression / Unexpected token|</td>\n",
       "      <td>CREATE TABLE |</td>\n",
       "      <td>[|</td>\n",
       "      <td>0</td>\n",
       "      <td>0</td>\n",
       "      <td>1</td>\n",
       "      <td>0</td>\n",
       "      <td>0</td>\n",
       "      <td>0</td>\n",
       "      <td>0</td>\n",
       "      <td>0</td>\n",
       "      <td>0</td>\n",
       "      <td>CREATE TABLE [dbo].[Inventories] (\\n[InventoryID] INT NOT NULL IDENTITY(1,1),\\n[AuditoriumID] INT NOT NULL,\\n[DocumentID] INT NOT NULL,\\n[CurrentState] CHAR (10) NOT NULL,\\n[Availability] TINYINT NOT NULL,\\nPRIMARY KEY CLUSTERED ([InventoryID] ASC),\\nFOREIGN KEY ([AuditoriumID]) REFERENCES [dbo].[Auditories] ([AuditoriumID]) ON\\nDELETE CASCADE ON UPDATE CASCADE,\\nFOREIGN KEY ([DocumentID]) REFERENCES [dbo].[Documents] ([DocumentID]) ON\\nDELETE CASCADE ON UPDATE CASCADE\\n);</td>\n",
       "      <td>Expecting )|Invalid expression / Unexpected token|</td>\n",
       "      <td>ntID] INT NOT NULL,\\n[CurrentState] CHAR (10) NOT NULL,\\n[Availability] TINYINT NOT NULL,\\nPRIMARY KEY |</td>\n",
       "      <td>CLUSTERED|</td>\n",
       "    </tr>\n",
       "  </tbody>\n",
       "</table>\n",
       "</div>"
      ],
      "text/plain": [
       "    file_id  statement_id  parsed                                                                                                                                                                                                                   parse_error                                                                             file_parse_error_start_context file_parse_error_highlight  possible_tsql_1  possible_tsql_2  possible_tsql_3  possible_orasql_1  possible_orasql_2  possible_orasql_3  possible_mysql_1  possible_mysql_2  possible_mysql_3                                                                                                                                                                                                                                                                                                                                                                                                                                                                                                                                                                                                                                                                                                                                                                                                                                                                                                      original                                    good_parse_error                                                                        good_file_parse_error_start_context good_file_parse_error_highlight\n",
       "0    419753  0             0       Expecting )|Invalid expression / Unexpected token|                                                                                                                                                                            more info\\n\\n  CREATE TABLE \"SPACEUSER\".\"RHNSNAPSHOTCONFIGCHANNEL\"\\n   (\\t\"SNAPSHOT_ID\" NUMBER NOT NULL |  ENABLE|                    0                0                0                2                  0                  0                  0                 0                 0                 -- created by Oraschemadoc Wed Jan  9 15:07:06 2019\\n-- visit http://www.yarpen.cz/oraschemadoc/ for more info\\n\\n  CREATE TABLE \"SPACEUSER\".\"RHNSNAPSHOTCONFIGCHANNEL\"\\n   (\\t\"SNAPSHOT_ID\" NUMBER NOT NULL ENABLE,\\n\\t\"CONFIG_CHANNEL_ID\" NUMBER NOT NULL ENABLE,\\n\\t\"CREATED\" TIMESTAMP (6) WITH LOCAL TIME ZONE DEFAULT (current_timestamp) NOT NULL ENABLE,\\n\\t\"MODIFIED\" TIMESTAMP (6) WITH LOCAL TIME ZONE DEFAULT (current_timestamp) NOT NULL ENABLE\\n   ) ENABLE ROW MOVEMENT ;                                                                                                                                                                                                                                                                                                                                                                                                                     Expecting )|Invalid expression / Unexpected token|  more info\\n\\n  CREATE TABLE \"SPACEUSER\".\"RHNSNAPSHOTCONFIGCHANNEL\"\\n   (\\t\"SNAPSHOT_ID\" NUMBER NOT NULL |  ENABLE|                       \n",
       "1    419753  1             0       Invalid expression / Unexpected token|                                                                                                                                                                                        HANNEL\" ADD CONSTRAINT \"RHN_SNAPSHOTCC_SID_FK\" FOREIGN KEY (\"SNAPSHOT_ID\")\\n\\t  REFERENCES \"SPACEUSER\"|    .|                         0                0                0                1                  0                  0                  0                 0                 0                 ALTER TABLE \"SPACEUSER\".\"RHNSNAPSHOTCONFIGCHANNEL\" ADD CONSTRAINT \"RHN_SNAPSHOTCC_SID_FK\" FOREIGN KEY (\"SNAPSHOT_ID\")\\n\\t  REFERENCES \"SPACEUSER\".\"RHNSNAPSHOT\" (\"ID\") ON DELETE CASCADE ENABLE;                                                                                                                                                                                                                                                                                                                                                                                                                                                                                                                                                                                                                                                                                                              Invalid expression / Unexpected token|              HANNEL\" ADD CONSTRAINT \"RHN_SNAPSHOTCC_SID_FK\" FOREIGN KEY (\"SNAPSHOT_ID\")\\n\\t  REFERENCES \"SPACEUSER\"|    .|                            \n",
       "2    419753  2             0       Invalid expression / Unexpected token|                                                                                                                                                                                         ADD CONSTRAINT \"RHN_SNAPSHOTCC_CCID_FK\" FOREIGN KEY (\"CONFIG_CHANNEL_ID\")\\n\\t  REFERENCES \"SPACEUSER\"|    .|                         0                0                0                1                  0                  0                  0                 0                 0                 ALTER TABLE \"SPACEUSER\".\"RHNSNAPSHOTCONFIGCHANNEL\" ADD CONSTRAINT \"RHN_SNAPSHOTCC_CCID_FK\" FOREIGN KEY (\"CONFIG_CHANNEL_ID\")\\n\\t  REFERENCES \"SPACEUSER\".\"RHNCONFIGCHANNEL\" (\"ID\") ENABLE;                                                                                                                                                                                                                                                                                                                                                                                                                                                                                                                                                                                                                                                                                                                    Invalid expression / Unexpected token|               ADD CONSTRAINT \"RHN_SNAPSHOTCC_CCID_FK\" FOREIGN KEY (\"CONFIG_CHANNEL_ID\")\\n\\t  REFERENCES \"SPACEUSER\"|    .|                            \n",
       "3    419754  15            0       Expecting )|Invalid expression / Unexpected token|                                                                                                                                                                            LL,\\n  `hasta` datetime DEFAULT NULL,\\n  `Status` int(11) DEFAULT NULL,\\n  PRIMARY KEY (`id`),\\n  KEY `f|  k_reservas_1_idx`|         0                0                0                0                  0                  0                  3                 0                 1                 CREATE TABLE `reservas` (\\n  `id` int(11) NOT NULL AUTO_INCREMENT,\\n  `id_empleado` int(11) DEFAULT NULL,\\n  `id_servicio` int(11) DEFAULT NULL,\\n  `id_sucursal` int(11) DEFAULT NULL,\\n  `desde` datetime DEFAULT NULL,\\n  `hasta` datetime DEFAULT NULL,\\n  `Status` int(11) DEFAULT NULL,\\n  PRIMARY KEY (`id`),\\n  KEY `fk_reservas_1_idx` (`id_empleado`),\\n  KEY `fk_servicio_idx` (`id_servicio`),\\n  KEY `fk_sucursal_idx` (`id_sucursal`),\\n  CONSTRAINT `fk_empleado` FOREIGN KEY (`id_empleado`) REFERENCES `empleados` (`id`) ON DELETE NO ACTION ON UPDATE NO ACTION,\\n  CONSTRAINT `fk_servicio` FOREIGN KEY (`id_servicio`) REFERENCES `servicios` (`id`) ON DELETE NO ACTION ON UPDATE NO ACTION,\\n  CONSTRAINT `fk_sucursal` FOREIGN KEY (`id_sucursal`) REFERENCES `sucursales` (`id`) ON DELETE NO ACTION ON UPDATE NO ACTION\\n) ENGINE=InnoDB AUTO_INCREMENT=13 DEFAULT CHARSET=latin1;  Expecting )|Invalid expression / Unexpected token|  LL,\\n  `hasta` datetime DEFAULT NULL,\\n  `Status` int(11) DEFAULT NULL,\\n  PRIMARY KEY (`id`),\\n  KEY `f|  k_reservas_1_idx`|            \n",
       "4    419754  17            0       Invalid expression / Unexpected token|                                                                                                                                                                                        --\\n-- Dumping data for table `reservas`\\n--\\n\\nLOCK TABLES `r|                                            eservas`|                  0                0                0                0                  0                  0                  1                 0                 1                 --\\n-- Dumping data for table `reservas`\\n--\\n\\nLOCK TABLES `reservas` WRITE;                                                                                                                                                                                                                                                                                                                                                                                                                                                                                                                                                                                                                                                                                                                                                                                                                                 Invalid expression / Unexpected token|              --\\n-- Dumping data for table `reservas`\\n--\\n\\nLOCK TABLES `r|                                            eservas`|                     \n",
       "123  419789  0             0       Expected table name but got <Token token_type: TokenType.L_BRACKET, text: [, line: 1, col: 14, comments: []>|Required keyword: 'this' missing for <class 'sqlglot.expressions.Table'>|Invalid expression / Unexpected token|  CREATE TABLE |                                                                                             [|                         0                0                1                0                  0                  0                  0                 0                 0                 CREATE TABLE [dbo].[Inventories] (\\n[InventoryID] INT NOT NULL IDENTITY(1,1),\\n[AuditoriumID] INT NOT NULL,\\n[DocumentID] INT NOT NULL,\\n[CurrentState] CHAR (10) NOT NULL,\\n[Availability] TINYINT NOT NULL,\\nPRIMARY KEY CLUSTERED ([InventoryID] ASC),\\nFOREIGN KEY ([AuditoriumID]) REFERENCES [dbo].[Auditories] ([AuditoriumID]) ON\\nDELETE CASCADE ON UPDATE CASCADE,\\nFOREIGN KEY ([DocumentID]) REFERENCES [dbo].[Documents] ([DocumentID]) ON\\nDELETE CASCADE ON UPDATE CASCADE\\n);                                                                                                                                                                                                                                                                                                                                                                                                                 Expecting )|Invalid expression / Unexpected token|  ntID] INT NOT NULL,\\n[CurrentState] CHAR (10) NOT NULL,\\n[Availability] TINYINT NOT NULL,\\nPRIMARY KEY |   CLUSTERED|                    "
      ]
     },
     "execution_count": 47,
     "metadata": {},
     "output_type": "execute_result"
    }
   ],
   "source": [
    "not_parsed_only[\n",
    "    (not_parsed_only.file_id == '419789') | \n",
    "    (not_parsed_only.file_id == '419754') | \n",
    "    (not_parsed_only.file_id == '419753')].head(10)\n",
    "\n",
    "# 419789 for tsql\n",
    "# 419754 for mysql\n",
    "# 419753 for ora sql"
   ]
  },
  {
   "attachments": {},
   "cell_type": "markdown",
   "metadata": {
    "pycharm": {
     "name": "#%% md\n"
    }
   },
   "source": [
    "## Read with new errors -> SCHEMA HERE"
   ]
  },
  {
   "cell_type": "code",
   "execution_count": 58,
   "metadata": {
    "pycharm": {
     "name": "#%%\n"
    }
   },
   "outputs": [],
   "source": [
    "def get_stmt_and_file_count(dask_df):\n",
    "    x = dask_df['file_id'].nunique().compute(scheduler='processes')\n",
    "    y = dask_df['file_id'].count().compute(scheduler='processes')\n",
    "    return y,x"
   ]
  },
  {
   "cell_type": "code",
   "execution_count": 78,
   "metadata": {
    "pycharm": {
     "name": "#%%\n"
    }
   },
   "outputs": [],
   "source": [
    "frac = 10/3676582"
   ]
  },
  {
   "cell_type": "code",
   "execution_count": 54,
   "metadata": {
    "pycharm": {
     "name": "#%%\n"
    }
   },
   "outputs": [],
   "source": [
    "not_parsed_schema = pa.schema([])\n",
    "not_parsed_schema = not_parsed_schema.append(pa.field(\"file_id\",pa.string()))\n",
    "not_parsed_schema = not_parsed_schema.append(pa.field(\"statement_id\",pa.int64()))\n",
    "not_parsed_schema = not_parsed_schema.append(pa.field(\"parsed\",pa.int64()))\n",
    "not_parsed_schema = not_parsed_schema.append(pa.field(\"parse_error\",pa.string()))\n",
    "not_parsed_schema = not_parsed_schema.append(pa.field(\"file_parse_error_start_context\",pa.string()))\n",
    "not_parsed_schema = not_parsed_schema.append(pa.field(\"file_parse_error_highlight\",pa.string()))\n",
    "\n",
    "\n",
    "not_parsed_schema = not_parsed_schema.append(pa.field(\"possible_tsql_1\",pa.int64()))\n",
    "not_parsed_schema = not_parsed_schema.append(pa.field(\"possible_tsql_2\",pa.int64()))\n",
    "not_parsed_schema = not_parsed_schema.append(pa.field(\"possible_tsql_3\",pa.int64()))\n",
    "\n",
    "not_parsed_schema = not_parsed_schema.append(pa.field(\"possible_orasql_1\",pa.int64()))\n",
    "not_parsed_schema = not_parsed_schema.append(pa.field(\"possible_orasql_2\",pa.int64()))\n",
    "not_parsed_schema = not_parsed_schema.append(pa.field(\"possible_orasql_3\",pa.int64()))\n",
    "\n",
    "not_parsed_schema = not_parsed_schema.append(pa.field(\"possible_mysql_1\",pa.int64()))\n",
    "not_parsed_schema = not_parsed_schema.append(pa.field(\"possible_mysql_2\",pa.int64()))\n",
    "not_parsed_schema = not_parsed_schema.append(pa.field(\"possible_mysql_3\",pa.int64()))\n",
    "\n",
    "not_parsed_schema = not_parsed_schema.append(pa.field(\"original\",pa.string()))\n",
    "\n",
    "not_parsed_schema = not_parsed_schema.append(pa.field(\"good_parse_error\",pa.string()))\n",
    "not_parsed_schema = not_parsed_schema.append(pa.field(\"good_file_parse_error_start_context\",pa.string()))\n",
    "not_parsed_schema = not_parsed_schema.append(pa.field(\"good_file_parse_error_highlight\",pa.string()))\n",
    "\n",
    "not_parsed_new = dd.read_parquet('../out_new/sqlglot_unparsed_stmts_only_good_errors/', columns = not_parsed_schema.names ,schema=not_parsed_schema, split_row_groups=True, calculate_divisions=True,engine='pyarrow')"
   ]
  },
  {
   "cell_type": "code",
   "execution_count": 57,
   "metadata": {
    "pycharm": {
     "name": "#%%\n"
    }
   },
   "outputs": [
    {
     "name": "stdout",
     "output_type": "stream",
     "text": [
      "[########################################] | 100% Completed | 3.51 ss\n"
     ]
    },
    {
     "data": {
      "text/plain": [
       "51043"
      ]
     },
     "execution_count": 57,
     "metadata": {},
     "output_type": "execute_result"
    }
   ],
   "source": [
    "not_parsed_new[not_parsed_new.file_parse_error_highlight != not_parsed_new.good_file_parse_error_highlight]['file_id'].count().compute(scheduler='processes')"
   ]
  },
  {
   "cell_type": "code",
   "execution_count": 60,
   "metadata": {
    "pycharm": {
     "name": "#%%\n"
    }
   },
   "outputs": [],
   "source": [
    "not_parsed_new = not_parsed_new[['file_id','statement_id',\n",
    "                                 'good_parse_error','good_file_parse_error_start_context','good_file_parse_error_highlight',\n",
    "                                 'original']]"
   ]
  },
  {
   "cell_type": "code",
   "execution_count": 62,
   "metadata": {
    "pycharm": {
     "name": "#%%\n"
    }
   },
   "outputs": [
    {
     "name": "stdout",
     "output_type": "stream",
     "text": [
      "[########################################] | 100% Completed | 11.96 s\n"
     ]
    },
    {
     "data": {
      "text/html": [
       "<div>\n",
       "<style scoped>\n",
       "    .dataframe tbody tr th:only-of-type {\n",
       "        vertical-align: middle;\n",
       "    }\n",
       "\n",
       "    .dataframe tbody tr th {\n",
       "        vertical-align: top;\n",
       "    }\n",
       "\n",
       "    .dataframe thead th {\n",
       "        text-align: right;\n",
       "    }\n",
       "</style>\n",
       "<table border=\"1\" class=\"dataframe\">\n",
       "  <thead>\n",
       "    <tr style=\"text-align: right;\">\n",
       "      <th></th>\n",
       "      <th>err</th>\n",
       "      <th>cnt</th>\n",
       "    </tr>\n",
       "  </thead>\n",
       "  <tbody>\n",
       "    <tr>\n",
       "      <th>0</th>\n",
       "      <td>DEFAULT|</td>\n",
       "      <td>631853</td>\n",
       "    </tr>\n",
       "    <tr>\n",
       "      <th>1</th>\n",
       "      <td>unsigned|</td>\n",
       "      <td>407437</td>\n",
       "    </tr>\n",
       "    <tr>\n",
       "      <th>2</th>\n",
       "      <td>UNSIGNED|</td>\n",
       "      <td>194713</td>\n",
       "    </tr>\n",
       "    <tr>\n",
       "      <th>3</th>\n",
       "      <td>.|</td>\n",
       "      <td>148417</td>\n",
       "    </tr>\n",
       "    <tr>\n",
       "      <th>4</th>\n",
       "      <td>KEY|</td>\n",
       "      <td>116948</td>\n",
       "    </tr>\n",
       "    <tr>\n",
       "      <th>5</th>\n",
       "      <td></td>\n",
       "      <td>112800</td>\n",
       "    </tr>\n",
       "    <tr>\n",
       "      <th>6</th>\n",
       "      <td>ON|UPDATE|</td>\n",
       "      <td>59509</td>\n",
       "    </tr>\n",
       "    <tr>\n",
       "      <th>7</th>\n",
       "      <td>#|</td>\n",
       "      <td>54997</td>\n",
       "    </tr>\n",
       "    <tr>\n",
       "      <th>8</th>\n",
       "      <td>ASC|</td>\n",
       "      <td>48617</td>\n",
       "    </tr>\n",
       "    <tr>\n",
       "      <th>9</th>\n",
       "      <td>USING|)|</td>\n",
       "      <td>43710</td>\n",
       "    </tr>\n",
       "    <tr>\n",
       "      <th>10</th>\n",
       "      <td>enum|</td>\n",
       "      <td>41426</td>\n",
       "    </tr>\n",
       "    <tr>\n",
       "      <th>11</th>\n",
       "      <td>USING|</td>\n",
       "      <td>40319</td>\n",
       "    </tr>\n",
       "    <tr>\n",
       "      <th>12</th>\n",
       "      <td>CREATE|</td>\n",
       "      <td>37695</td>\n",
       "    </tr>\n",
       "    <tr>\n",
       "      <th>13</th>\n",
       "      <td>drop|</td>\n",
       "      <td>37013</td>\n",
       "    </tr>\n",
       "    <tr>\n",
       "      <th>14</th>\n",
       "      <td>longtext|</td>\n",
       "      <td>36290</td>\n",
       "    </tr>\n",
       "    <tr>\n",
       "      <th>15</th>\n",
       "      <td>mediumint|</td>\n",
       "      <td>36161</td>\n",
       "    </tr>\n",
       "    <tr>\n",
       "      <th>16</th>\n",
       "      <td>ADD|</td>\n",
       "      <td>35298</td>\n",
       "    </tr>\n",
       "    <tr>\n",
       "      <th>17</th>\n",
       "      <td>DROP|</td>\n",
       "      <td>30646</td>\n",
       "    </tr>\n",
       "    <tr>\n",
       "      <th>18</th>\n",
       "      <td>add|</td>\n",
       "      <td>29105</td>\n",
       "    </tr>\n",
       "    <tr>\n",
       "      <th>19</th>\n",
       "      <td>/|</td>\n",
       "      <td>27273</td>\n",
       "    </tr>\n",
       "    <tr>\n",
       "      <th>20</th>\n",
       "      <td>INTO|</td>\n",
       "      <td>21054</td>\n",
       "    </tr>\n",
       "    <tr>\n",
       "      <th>21</th>\n",
       "      <td>ALTER|</td>\n",
       "      <td>20560</td>\n",
       "    </tr>\n",
       "    <tr>\n",
       "      <th>22</th>\n",
       "      <td>\\|</td>\n",
       "      <td>19148</td>\n",
       "    </tr>\n",
       "    <tr>\n",
       "      <th>23</th>\n",
       "      <td>restrict|</td>\n",
       "      <td>18397</td>\n",
       "    </tr>\n",
       "    <tr>\n",
       "      <th>24</th>\n",
       "      <td>USING|,|</td>\n",
       "      <td>17488</td>\n",
       "    </tr>\n",
       "    <tr>\n",
       "      <th>25</th>\n",
       "      <td>RESTRICT|</td>\n",
       "      <td>14327</td>\n",
       "    </tr>\n",
       "    <tr>\n",
       "      <th>26</th>\n",
       "      <td>mediumtext|</td>\n",
       "      <td>14288</td>\n",
       "    </tr>\n",
       "    <tr>\n",
       "      <th>27</th>\n",
       "      <td>OBJECT_ID|</td>\n",
       "      <td>13688</td>\n",
       "    </tr>\n",
       "    <tr>\n",
       "      <th>28</th>\n",
       "      <td>CONSTRAINTS|</td>\n",
       "      <td>13434</td>\n",
       "    </tr>\n",
       "    <tr>\n",
       "      <th>29</th>\n",
       "      <td>ENABLE|</td>\n",
       "      <td>12101</td>\n",
       "    </tr>\n",
       "  </tbody>\n",
       "</table>\n",
       "</div>"
      ],
      "text/plain": [
       "             err     cnt\n",
       "0   DEFAULT|      631853\n",
       "1   unsigned|     407437\n",
       "2   UNSIGNED|     194713\n",
       "3   .|            148417\n",
       "4   KEY|          116948\n",
       "5                 112800\n",
       "6   ON|UPDATE|    59509 \n",
       "7   #|            54997 \n",
       "8   ASC|          48617 \n",
       "9   USING|)|      43710 \n",
       "10  enum|         41426 \n",
       "11  USING|        40319 \n",
       "12  CREATE|       37695 \n",
       "13  drop|         37013 \n",
       "14  longtext|     36290 \n",
       "15  mediumint|    36161 \n",
       "16  ADD|          35298 \n",
       "17  DROP|         30646 \n",
       "18  add|          29105 \n",
       "19  /|            27273 \n",
       "20  INTO|         21054 \n",
       "21  ALTER|        20560 \n",
       "22  \\|            19148 \n",
       "23  restrict|     18397 \n",
       "24  USING|,|      17488 \n",
       "25  RESTRICT|     14327 \n",
       "26  mediumtext|   14288 \n",
       "27  OBJECT_ID|    13688 \n",
       "28  CONSTRAINTS|  13434 \n",
       "29  ENABLE|       12101 "
      ]
     },
     "execution_count": 62,
     "metadata": {},
     "output_type": "execute_result"
    }
   ],
   "source": [
    "errcounts = not_parsed_new['good_file_parse_error_highlight'].value_counts().compute(scheduler='processes')\n",
    "err_df = pd.DataFrame({'err':errcounts.index, 'cnt':errcounts.values})\n",
    "err_df.head(30)"
   ]
  },
  {
   "attachments": {},
   "cell_type": "markdown",
   "metadata": {
    "pycharm": {
     "name": "#%% md\n"
    }
   },
   "source": [
    "### DEFAULT"
   ]
  },
  {
   "cell_type": "code",
   "execution_count": 69,
   "metadata": {
    "pycharm": {
     "name": "#%%\n"
    }
   },
   "outputs": [
    {
     "name": "stdout",
     "output_type": "stream",
     "text": [
      "[########################################] | 100% Completed | 16.15 s\n",
      "[########################################] | 100% Completed | 19.06 s\n",
      "(637179, 91232)\n"
     ]
    }
   ],
   "source": [
    "default_check = not_parsed_new[\n",
    "    (not_parsed_new.good_file_parse_error_highlight.str.contains('DEFAULT',case=False,regex=False)) &\n",
    "    (\n",
    "        (not_parsed_new.original.str.contains('`',case=False,regex=False)) |\n",
    "        (not_parsed_new.original.str.contains('ENGINE',case=False,regex=False))\n",
    "    ) &\n",
    "    (\n",
    "        (not_parsed_new.original.str.contains('CHARSET',case=False,regex=False)) |\n",
    "        (not_parsed_new.original.str.contains('CHARACTER SET',case=False,regex=False))\n",
    "    )\n",
    "]\n",
    "print(get_stmt_and_file_count(default_check))"
   ]
  },
  {
   "cell_type": "code",
   "execution_count": 67,
   "metadata": {
    "pycharm": {
     "name": "#%%\n"
    }
   },
   "outputs": [
    {
     "name": "stdout",
     "output_type": "stream",
     "text": [
      "[########################################] | 100% Completed | 249.81 ms\n"
     ]
    },
    {
     "data": {
      "text/html": [
       "<div>\n",
       "<style scoped>\n",
       "    .dataframe tbody tr th:only-of-type {\n",
       "        vertical-align: middle;\n",
       "    }\n",
       "\n",
       "    .dataframe tbody tr th {\n",
       "        vertical-align: top;\n",
       "    }\n",
       "\n",
       "    .dataframe thead th {\n",
       "        text-align: right;\n",
       "    }\n",
       "</style>\n",
       "<table border=\"1\" class=\"dataframe\">\n",
       "  <thead>\n",
       "    <tr style=\"text-align: right;\">\n",
       "      <th></th>\n",
       "      <th>file_id</th>\n",
       "      <th>statement_id</th>\n",
       "      <th>good_parse_error</th>\n",
       "      <th>good_file_parse_error_start_context</th>\n",
       "      <th>good_file_parse_error_highlight</th>\n",
       "      <th>original</th>\n",
       "    </tr>\n",
       "  </thead>\n",
       "  <tbody>\n",
       "    <tr>\n",
       "      <th>15</th>\n",
       "      <td>419758</td>\n",
       "      <td>9</td>\n",
       "      <td>Invalid expression / Unexpected token|</td>\n",
       "      <td>T,\\n  `name` varchar(20) DEFAULT NULL,\\n  PRIMARY KEY (`idcategory`)\\n) ENGINE=InnoDB AUTO_INCREMENT=7 |</td>\n",
       "      <td>DEFAULT|</td>\n",
       "      <td>CREATE TABLE IF NOT EXISTS `category` (\\n  `idcategory` int(11) NOT NULL AUTO_INCREMENT,\\n  `name` varchar(20) DEFAULT NULL,\\n  PRIMARY KEY (`idcategory`)\\n) ENGINE=InnoDB AUTO_INCREMENT=7 DEFAULT CHARSET=latin1;</td>\n",
       "    </tr>\n",
       "    <tr>\n",
       "      <th>17</th>\n",
       "      <td>419758</td>\n",
       "      <td>15</td>\n",
       "      <td>Invalid expression / Unexpected token|</td>\n",
       "      <td>LL,\\n  `pass` varchar(50) DEFAULT NULL,\\n  PRIMARY KEY (`idpeople`)\\n) ENGINE=InnoDB AUTO_INCREMENT=10 |</td>\n",
       "      <td>DEFAULT|</td>\n",
       "      <td>CREATE TABLE IF NOT EXISTS `people` (\\n  `idpeople` int(11) NOT NULL AUTO_INCREMENT,\\n  `name` varchar(20) DEFAULT NULL,\\n  `email` varchar(50) DEFAULT NULL,\\n  `pass` varchar(50) DEFAULT NULL,\\n  PRIMARY KEY (`idpeople`)\\n) ENGINE=InnoDB AUTO_INCREMENT=10 DEFAULT CHARSET=latin1;</td>\n",
       "    </tr>\n",
       "    <tr>\n",
       "      <th>19</th>\n",
       "      <td>419764</td>\n",
       "      <td>0</td>\n",
       "      <td>Invalid expression / Unexpected token|</td>\n",
       "      <td>`key` varchar(255) NOT NULL,\\n  `value` varchar(255) NOT NULL,\\n  PRIMARY KEY (`key`)\\n) ENGINE=InnoDB |</td>\n",
       "      <td>DEFAULT|</td>\n",
       "      <td>-- &gt;&gt; This file is autogenerated from tables.sql and constraints.sql. Do not modify directly &lt;&lt; --\\n--\\n-- Table structure for table `ospos_app_config`\\n--\\n\\nCREATE TABLE `ospos_app_config` (\\n  `key` varchar(255) NOT NULL,\\n  `value` varchar(255) NOT NULL,\\n  PRIMARY KEY (`key`)\\n) ENGINE=InnoDB DEFAULT CHARSET=utf8;</td>\n",
       "    </tr>\n",
       "    <tr>\n",
       "      <th>25</th>\n",
       "      <td>419764</td>\n",
       "      <td>8</td>\n",
       "      <td>Invalid expression / Unexpected token|</td>\n",
       "      <td>ULL,\\n  `percent` decimal(15,2) NOT NULL,\\n  PRIMARY KEY (`item_id`,`name`,`percent`)\\n) ENGINE=InnoDB |</td>\n",
       "      <td>DEFAULT|</td>\n",
       "      <td>--\\n-- Dumping data for table `ospos_items`\\n--\\n\\n\\n-- --------------------------------------------------------\\n\\n--\\n-- Table structure for table `ospos_items_taxes`\\n--\\n\\nCREATE TABLE `ospos_items_taxes` (\\n  `item_id` int(10) NOT NULL,\\n  `name` varchar(255) NOT NULL,\\n  `percent` decimal(15,2) NOT NULL,\\n  PRIMARY KEY (`item_id`,`name`,`percent`)\\n) ENGINE=InnoDB DEFAULT CHARSET=utf8;</td>\n",
       "    </tr>\n",
       "    <tr>\n",
       "      <th>26</th>\n",
       "      <td>419764</td>\n",
       "      <td>9</td>\n",
       "      <td>Invalid expression / Unexpected token|</td>\n",
       "      <td>255) NOT NULL,\\n  `description` varchar(255) NOT NULL,\\n  PRIMARY KEY (`item_kit_id`)\\n) ENGINE=InnoDB |</td>\n",
       "      <td>DEFAULT|</td>\n",
       "      <td>--\\n-- Dumping data for table `ospos_items_taxes`\\n--\\n\\n\\n-- --------------------------------------------------------\\n\\n--\\n-- Table structure for table `ospos_item_kits`\\n--\\n\\nCREATE TABLE `ospos_item_kits` (\\n  `item_kit_id` int(11) NOT NULL AUTO_INCREMENT,\\n  `name` varchar(255) NOT NULL,\\n  `description` varchar(255) NOT NULL,\\n  PRIMARY KEY (`item_kit_id`)\\n) ENGINE=InnoDB DEFAULT CHARSET=utf8  ;</td>\n",
       "    </tr>\n",
       "  </tbody>\n",
       "</table>\n",
       "</div>"
      ],
      "text/plain": [
       "   file_id  statement_id                        good_parse_error                                                                       good_file_parse_error_start_context good_file_parse_error_highlight                                                                                                                                                                                                                                                                                                                                                                                                                 original\n",
       "15  419758  9             Invalid expression / Unexpected token|  T,\\n  `name` varchar(20) DEFAULT NULL,\\n  PRIMARY KEY (`idcategory`)\\n) ENGINE=InnoDB AUTO_INCREMENT=7 |  DEFAULT|                        CREATE TABLE IF NOT EXISTS `category` (\\n  `idcategory` int(11) NOT NULL AUTO_INCREMENT,\\n  `name` varchar(20) DEFAULT NULL,\\n  PRIMARY KEY (`idcategory`)\\n) ENGINE=InnoDB AUTO_INCREMENT=7 DEFAULT CHARSET=latin1;                                                                                                                                                                                                   \n",
       "17  419758  15            Invalid expression / Unexpected token|  LL,\\n  `pass` varchar(50) DEFAULT NULL,\\n  PRIMARY KEY (`idpeople`)\\n) ENGINE=InnoDB AUTO_INCREMENT=10 |  DEFAULT|                        CREATE TABLE IF NOT EXISTS `people` (\\n  `idpeople` int(11) NOT NULL AUTO_INCREMENT,\\n  `name` varchar(20) DEFAULT NULL,\\n  `email` varchar(50) DEFAULT NULL,\\n  `pass` varchar(50) DEFAULT NULL,\\n  PRIMARY KEY (`idpeople`)\\n) ENGINE=InnoDB AUTO_INCREMENT=10 DEFAULT CHARSET=latin1;                                                                                                                               \n",
       "19  419764  0             Invalid expression / Unexpected token|  `key` varchar(255) NOT NULL,\\n  `value` varchar(255) NOT NULL,\\n  PRIMARY KEY (`key`)\\n) ENGINE=InnoDB |  DEFAULT|                        -- >> This file is autogenerated from tables.sql and constraints.sql. Do not modify directly << --\\n--\\n-- Table structure for table `ospos_app_config`\\n--\\n\\nCREATE TABLE `ospos_app_config` (\\n  `key` varchar(255) NOT NULL,\\n  `value` varchar(255) NOT NULL,\\n  PRIMARY KEY (`key`)\\n) ENGINE=InnoDB DEFAULT CHARSET=utf8;                                                                                       \n",
       "25  419764  8             Invalid expression / Unexpected token|  ULL,\\n  `percent` decimal(15,2) NOT NULL,\\n  PRIMARY KEY (`item_id`,`name`,`percent`)\\n) ENGINE=InnoDB |  DEFAULT|                        --\\n-- Dumping data for table `ospos_items`\\n--\\n\\n\\n-- --------------------------------------------------------\\n\\n--\\n-- Table structure for table `ospos_items_taxes`\\n--\\n\\nCREATE TABLE `ospos_items_taxes` (\\n  `item_id` int(10) NOT NULL,\\n  `name` varchar(255) NOT NULL,\\n  `percent` decimal(15,2) NOT NULL,\\n  PRIMARY KEY (`item_id`,`name`,`percent`)\\n) ENGINE=InnoDB DEFAULT CHARSET=utf8;             \n",
       "26  419764  9             Invalid expression / Unexpected token|  255) NOT NULL,\\n  `description` varchar(255) NOT NULL,\\n  PRIMARY KEY (`item_kit_id`)\\n) ENGINE=InnoDB |  DEFAULT|                        --\\n-- Dumping data for table `ospos_items_taxes`\\n--\\n\\n\\n-- --------------------------------------------------------\\n\\n--\\n-- Table structure for table `ospos_item_kits`\\n--\\n\\nCREATE TABLE `ospos_item_kits` (\\n  `item_kit_id` int(11) NOT NULL AUTO_INCREMENT,\\n  `name` varchar(255) NOT NULL,\\n  `description` varchar(255) NOT NULL,\\n  PRIMARY KEY (`item_kit_id`)\\n) ENGINE=InnoDB DEFAULT CHARSET=utf8  ;"
      ]
     },
     "execution_count": 67,
     "metadata": {},
     "output_type": "execute_result"
    }
   ],
   "source": [
    "default_check.head()"
   ]
  },
  {
   "attachments": {},
   "cell_type": "markdown",
   "metadata": {
    "pycharm": {
     "name": "#%% md\n"
    }
   },
   "source": [
    "### UNSIGNED"
   ]
  },
  {
   "cell_type": "code",
   "execution_count": 76,
   "metadata": {
    "pycharm": {
     "name": "#%%\n"
    }
   },
   "outputs": [
    {
     "name": "stdout",
     "output_type": "stream",
     "text": [
      "[########################################] | 100% Completed | 19.78 s\n",
      "[########################################] | 100% Completed | 28.99 s\n",
      "(602039, 54189)\n"
     ]
    }
   ],
   "source": [
    "no_default = not_parsed_new[\n",
    "    ~((not_parsed_new.good_file_parse_error_highlight.str.contains('DEFAULT',case=False,regex=False)) &\n",
    "    (\n",
    "        (not_parsed_new.original.str.contains('`',case=False,regex=False)) |\n",
    "        (not_parsed_new.original.str.contains('ENGINE',case=False,regex=False))\n",
    "    ) &\n",
    "    (\n",
    "        (not_parsed_new.original.str.contains('CHARSET',case=False,regex=False)) |\n",
    "        (not_parsed_new.original.str.contains('CHARACTER SET',case=False,regex=False))\n",
    "    ))\n",
    "]\n",
    "\n",
    "unsigned_check = no_default[\n",
    "    (no_default.good_file_parse_error_highlight.str.contains('UNSIGNED',case=False,regex=False)) &\n",
    "    (\n",
    "        (no_default.original.str.contains('INT',case=False,regex=False)) |\n",
    "        (no_default.original.str.contains('INTEGER',case=False,regex=False)) \n",
    "    )\n",
    "]\n",
    "\n",
    "print(get_stmt_and_file_count(unsigned_check))"
   ]
  },
  {
   "cell_type": "code",
   "execution_count": 87,
   "metadata": {
    "pycharm": {
     "name": "#%%\n"
    }
   },
   "outputs": [
    {
     "name": "stdout",
     "output_type": "stream",
     "text": [
      "[########################################] | 100% Completed | 773.83 ms\n"
     ]
    },
    {
     "data": {
      "text/html": [
       "<div>\n",
       "<style scoped>\n",
       "    .dataframe tbody tr th:only-of-type {\n",
       "        vertical-align: middle;\n",
       "    }\n",
       "\n",
       "    .dataframe tbody tr th {\n",
       "        vertical-align: top;\n",
       "    }\n",
       "\n",
       "    .dataframe thead th {\n",
       "        text-align: right;\n",
       "    }\n",
       "</style>\n",
       "<table border=\"1\" class=\"dataframe\">\n",
       "  <thead>\n",
       "    <tr style=\"text-align: right;\">\n",
       "      <th></th>\n",
       "      <th>file_id</th>\n",
       "      <th>statement_id</th>\n",
       "      <th>good_parse_error</th>\n",
       "      <th>good_file_parse_error_start_context</th>\n",
       "      <th>good_file_parse_error_highlight</th>\n",
       "      <th>original</th>\n",
       "    </tr>\n",
       "  </thead>\n",
       "  <tbody>\n",
       "    <tr>\n",
       "      <th>7966</th>\n",
       "      <td>421414</td>\n",
       "      <td>306</td>\n",
       "      <td>Expecting )|Invalid expression / Unexpected token|</td>\n",
       "      <td>CREATE TABLE `reob7_finder_taxonomy` (\\n  `id` int(10) |</td>\n",
       "      <td>unsigned|</td>\n",
       "      <td>CREATE TABLE `reob7_finder_taxonomy` (\\n  `id` int(10) unsigned NOT NULL AUTO_INCREMENT,\\n  `parent_id` int(10) unsigned NOT NULL DEFAULT '0',\\n  `title` varchar(255) NOT NULL,\\n  `state` tinyint(1) unsigned NOT NULL DEFAULT '1',\\n  `access` tinyint(1) unsigned NOT NULL DEFAULT '0',\\n  `ordering` tinyint(1) unsigned NOT NULL DEFAULT '0',\\n  PRIMARY KEY (`id`),\\n  KEY `parent_id` (`parent_id`),\\n  KEY `state` (`state`),\\n  KEY `ordering` (`ordering`),\\n  KEY `access` (`access`),\\n  KEY `idx_parent_published` (`parent_id`,`state`,`access`)\\n) ENGINE=InnoDB AUTO_INCREMENT=2 DEFAULT CHARSET=utf8;</td>\n",
       "    </tr>\n",
       "    <tr>\n",
       "      <th>15299</th>\n",
       "      <td>422853</td>\n",
       "      <td>8</td>\n",
       "      <td>Expecting )|Invalid expression / Unexpected token|</td>\n",
       "      <td>ble structure for table `activations`\\n--\\n\\nCREATE TABLE IF NOT EXISTS `activations` (\\n  `id` int(10) |</td>\n",
       "      <td>unsigned|</td>\n",
       "      <td>-- --------------------------------------------------------\\n\\n--\\n-- Table structure for table `activations`\\n--\\n\\nCREATE TABLE IF NOT EXISTS `activations` (\\n  `id` int(10) unsigned NOT NULL AUTO_INCREMENT,\\n  `user_id` int(11) NOT NULL,\\n  `code` varchar(255) COLLATE utf8_unicode_ci NOT NULL,\\n  `completed` tinyint(1) NOT NULL DEFAULT '0',\\n  `completed_at` timestamp NULL DEFAULT NULL,\\n  `created_at` timestamp NOT NULL DEFAULT '0000-00-00 00:00:00',\\n  `updated_at` timestamp NOT NULL DEFAULT '0000-00-00 00:00:00',\\n  PRIMARY KEY (`id`)\\n) ENGINE=InnoDB  DEFAULT CHARSET=utf8 COLLATE=utf8_unicode_ci AUTO_INCREMENT=3 ;</td>\n",
       "    </tr>\n",
       "    <tr>\n",
       "      <th>23758</th>\n",
       "      <td>424866</td>\n",
       "      <td>155</td>\n",
       "      <td>Expecting )|Invalid expression / Unexpected token|</td>\n",
       "      <td>LE `posting_journal` (\\n  `uuid`              BINARY(16) NOT NULL,\\n  `project_id`        SMALLINT(5) |</td>\n",
       "      <td>UNSIGNED|</td>\n",
       "      <td>CREATE TABLE `posting_journal` (\\n  `uuid`              BINARY(16) NOT NULL,\\n  `project_id`        SMALLINT(5) UNSIGNED NOT NULL,\\n  `fiscal_year_id`    MEDIUMINT(8) UNSIGNED DEFAULT NULL,\\n  `period_id`         MEDIUMINT(8) UNSIGNED DEFAULT NULL,\\n  `trans_id`          VARCHAR(100) NOT NULL,\\n  `trans_date`        DATETIME NOT NULL,\\n  `record_uuid`       BINARY(16) NOT NULL, -- previously doc_num\\n  `description`       TEXT,\\n  `account_id`        INT(10) UNSIGNED NOT NULL,\\n  `debit`             DECIMAL(19,4) NOT NULL DEFAULT 0.00,\\n  `credit`            DECIMAL(19,4) NOT NULL DEFAULT 0.00,\\n  `debit_equiv`       DECIMAL(19,4) NOT NULL DEFAULT 0.00,\\n  `credit_equiv`      DECIMAL(19,4) NOT NULL DEFAULT 0.00,\\n  `currency_id`       TINYINT(3) UNSIGNED NOT NULL,\\n  `entity_uuid`       BINARY(16),    -- previously deb_cred_uuid\\n  `reference_uuid`    BINARY(16),  -- previously inv_po_id\\n  `comment`           TEXT,\\n  `origin_id`         TINYINT(3) UNSIGNED NULL,\\n  `user_id`           SMALLINT(5) UNSIGNED NOT NULL,\\n  `cc_id`             SMALLINT(6),\\n  `pc_id`             SMALLINT(6),\\n  PRIMARY KEY (`uuid`),\\n  KEY `project_id` (`project_id`),\\n  KEY `fiscal_year_id` (`fiscal_year_id`),\\n  KEY `period_id` (`period_id`),\\n  KEY `currency_id` (`currency_id`),\\n  KEY `user_id` (`user_id`),\\n  KEY `cc_id` (`cc_id`),\\n  KEY `pc_id` (`pc_id`),\\n  INDEX `trans_date` (`trans_date`),\\n  INDEX `trans_id` (`trans_id`),\\n  INDEX `record_uuid` (`record_uuid`),\\n  INDEX `reference_uuid` (`record_uuid`),\\n  INDEX `entity_uuid` (`entity_uuid`),\\n  INDEX `account_id` (`account_id`),\\n  FOREIGN KEY (`fiscal_year_id`) REFERENCES `fiscal_year` (`id`),\\n  FOREIGN KEY (`period_id`) REFERENCES `period` (`id`),\\n  FOREIGN KEY (`project_id`) REFERENCES `project` (`id`) ON UPDATE CASCADE,\\n  FOREIGN KEY (`account_id`) REFERENCES `account` (`id`),\\n  FOREIGN KEY (`currency_id`) REFERENCES `currency` (`id`) ON UPDATE CASCADE,\\n  FOREIGN KEY (`user_id`) REFERENCES `user` (`id`) ON UPDATE CASCADE,\\n  FOREIGN KEY (`cc_id`) REFERENCES `cost_center` (`id`) ON UPDATE CASCADE,\\n  FOREIGN KEY (`pc_id`) REFERENCES `profit_center` (`id`) ON UPDATE CASCADE\\n) ENGINE=InnoDB DEFAULT CHARSET=utf8;</td>\n",
       "    </tr>\n",
       "    <tr>\n",
       "      <th>3565</th>\n",
       "      <td>420548</td>\n",
       "      <td>29</td>\n",
       "      <td>Expecting )|Invalid expression / Unexpected token|</td>\n",
       "      <td>able structure for table `permission_role`\\n--\\n\\nCREATE TABLE `permission_role` (\\n  `role_id` int(10) |</td>\n",
       "      <td>UNSIGNED|</td>\n",
       "      <td>-- --------------------------------------------------------\\n\\n--\\n-- Table structure for table `permission_role`\\n--\\n\\nCREATE TABLE `permission_role` (\\n  `role_id` int(10) UNSIGNED NOT NULL,\\n  `permission_id` int(10) UNSIGNED NOT NULL\\n) ENGINE=InnoDB DEFAULT CHARSET=utf8mb4 COLLATE=utf8mb4_unicode_ci;</td>\n",
       "    </tr>\n",
       "    <tr>\n",
       "      <th>8319</th>\n",
       "      <td>421461</td>\n",
       "      <td>7</td>\n",
       "      <td>Expecting )|Invalid expression / Unexpected token|</td>\n",
       "      <td>-----------\\n\\n--\\n-- Table structure for table `admins`\\n--\\n\\nCREATE TABLE `admins` (\\n  `id` bigint(20) |</td>\n",
       "      <td>UNSIGNED|</td>\n",
       "      <td>--\\n-- Database: `socom`\\n--\\n\\n-- --------------------------------------------------------\\n\\n--\\n-- Table structure for table `admins`\\n--\\n\\nCREATE TABLE `admins` (\\n  `id` bigint(20) UNSIGNED NOT NULL,\\n  `role_id` bigint(20) UNSIGNED DEFAULT NULL,\\n  `name` varchar(255) COLLATE utf8mb4_unicode_ci NOT NULL,\\n  `email` varchar(255) COLLATE utf8mb4_unicode_ci NOT NULL,\\n  `avatar` varchar(255) COLLATE utf8mb4_unicode_ci DEFAULT 'users/default.png',\\n  `password` varchar(255) COLLATE utf8mb4_unicode_ci DEFAULT NULL,\\n  `remember_token` varchar(255) COLLATE utf8mb4_unicode_ci DEFAULT NULL,\\n  `settings` text COLLATE utf8mb4_unicode_ci DEFAULT NULL,\\n  `created_at` timestamp NULL DEFAULT NULL,\\n  `updated_at` timestamp NULL DEFAULT NULL\\n) ENGINE=InnoDB DEFAULT CHARSET=utf8mb4 COLLATE=utf8mb4_unicode_ci;</td>\n",
       "    </tr>\n",
       "  </tbody>\n",
       "</table>\n",
       "</div>"
      ],
      "text/plain": [
       "      file_id  statement_id                                    good_parse_error                                                                           good_file_parse_error_start_context good_file_parse_error_highlight                                                                                                                                                                                                                                                                                                                                                                                                                                                                                                                                                                                                                                                                                                                                                                                                                                                                                                                                                                                                                                                                                                                                                                                                                                                                                                                                                                                                                                                                                                                                                                                                                                                                                                                                                                                                                                                                                                                                                                                                                                                                                                                                                                                                                                                                                original\n",
       "7966   421414  306           Expecting )|Invalid expression / Unexpected token|  CREATE TABLE `reob7_finder_taxonomy` (\\n  `id` int(10) |                                                      unsigned|                       CREATE TABLE `reob7_finder_taxonomy` (\\n  `id` int(10) unsigned NOT NULL AUTO_INCREMENT,\\n  `parent_id` int(10) unsigned NOT NULL DEFAULT '0',\\n  `title` varchar(255) NOT NULL,\\n  `state` tinyint(1) unsigned NOT NULL DEFAULT '1',\\n  `access` tinyint(1) unsigned NOT NULL DEFAULT '0',\\n  `ordering` tinyint(1) unsigned NOT NULL DEFAULT '0',\\n  PRIMARY KEY (`id`),\\n  KEY `parent_id` (`parent_id`),\\n  KEY `state` (`state`),\\n  KEY `ordering` (`ordering`),\\n  KEY `access` (`access`),\\n  KEY `idx_parent_published` (`parent_id`,`state`,`access`)\\n) ENGINE=InnoDB AUTO_INCREMENT=2 DEFAULT CHARSET=utf8;                                                                                                                                                                                                                                                                                                                                                                                                                                                                                                                                                                                                                                                                                                                                                                                                                                                                                                                                                                                                                                                                                                                                                                                                                                                                                                                                                                                                                                                                                                                                                                                                                                                               \n",
       "15299  422853  8             Expecting )|Invalid expression / Unexpected token|  ble structure for table `activations`\\n--\\n\\nCREATE TABLE IF NOT EXISTS `activations` (\\n  `id` int(10) |     unsigned|                       -- --------------------------------------------------------\\n\\n--\\n-- Table structure for table `activations`\\n--\\n\\nCREATE TABLE IF NOT EXISTS `activations` (\\n  `id` int(10) unsigned NOT NULL AUTO_INCREMENT,\\n  `user_id` int(11) NOT NULL,\\n  `code` varchar(255) COLLATE utf8_unicode_ci NOT NULL,\\n  `completed` tinyint(1) NOT NULL DEFAULT '0',\\n  `completed_at` timestamp NULL DEFAULT NULL,\\n  `created_at` timestamp NOT NULL DEFAULT '0000-00-00 00:00:00',\\n  `updated_at` timestamp NOT NULL DEFAULT '0000-00-00 00:00:00',\\n  PRIMARY KEY (`id`)\\n) ENGINE=InnoDB  DEFAULT CHARSET=utf8 COLLATE=utf8_unicode_ci AUTO_INCREMENT=3 ;                                                                                                                                                                                                                                                                                                                                                                                                                                                                                                                                                                                                                                                                                                                                                                                                                                                                                                                                                                                                                                                                                                                                                                                                                                                                                                                                                                                                                                                                                                                                                                                                                                  \n",
       "23758  424866  155           Expecting )|Invalid expression / Unexpected token|  LE `posting_journal` (\\n  `uuid`              BINARY(16) NOT NULL,\\n  `project_id`        SMALLINT(5) |       UNSIGNED|                       CREATE TABLE `posting_journal` (\\n  `uuid`              BINARY(16) NOT NULL,\\n  `project_id`        SMALLINT(5) UNSIGNED NOT NULL,\\n  `fiscal_year_id`    MEDIUMINT(8) UNSIGNED DEFAULT NULL,\\n  `period_id`         MEDIUMINT(8) UNSIGNED DEFAULT NULL,\\n  `trans_id`          VARCHAR(100) NOT NULL,\\n  `trans_date`        DATETIME NOT NULL,\\n  `record_uuid`       BINARY(16) NOT NULL, -- previously doc_num\\n  `description`       TEXT,\\n  `account_id`        INT(10) UNSIGNED NOT NULL,\\n  `debit`             DECIMAL(19,4) NOT NULL DEFAULT 0.00,\\n  `credit`            DECIMAL(19,4) NOT NULL DEFAULT 0.00,\\n  `debit_equiv`       DECIMAL(19,4) NOT NULL DEFAULT 0.00,\\n  `credit_equiv`      DECIMAL(19,4) NOT NULL DEFAULT 0.00,\\n  `currency_id`       TINYINT(3) UNSIGNED NOT NULL,\\n  `entity_uuid`       BINARY(16),    -- previously deb_cred_uuid\\n  `reference_uuid`    BINARY(16),  -- previously inv_po_id\\n  `comment`           TEXT,\\n  `origin_id`         TINYINT(3) UNSIGNED NULL,\\n  `user_id`           SMALLINT(5) UNSIGNED NOT NULL,\\n  `cc_id`             SMALLINT(6),\\n  `pc_id`             SMALLINT(6),\\n  PRIMARY KEY (`uuid`),\\n  KEY `project_id` (`project_id`),\\n  KEY `fiscal_year_id` (`fiscal_year_id`),\\n  KEY `period_id` (`period_id`),\\n  KEY `currency_id` (`currency_id`),\\n  KEY `user_id` (`user_id`),\\n  KEY `cc_id` (`cc_id`),\\n  KEY `pc_id` (`pc_id`),\\n  INDEX `trans_date` (`trans_date`),\\n  INDEX `trans_id` (`trans_id`),\\n  INDEX `record_uuid` (`record_uuid`),\\n  INDEX `reference_uuid` (`record_uuid`),\\n  INDEX `entity_uuid` (`entity_uuid`),\\n  INDEX `account_id` (`account_id`),\\n  FOREIGN KEY (`fiscal_year_id`) REFERENCES `fiscal_year` (`id`),\\n  FOREIGN KEY (`period_id`) REFERENCES `period` (`id`),\\n  FOREIGN KEY (`project_id`) REFERENCES `project` (`id`) ON UPDATE CASCADE,\\n  FOREIGN KEY (`account_id`) REFERENCES `account` (`id`),\\n  FOREIGN KEY (`currency_id`) REFERENCES `currency` (`id`) ON UPDATE CASCADE,\\n  FOREIGN KEY (`user_id`) REFERENCES `user` (`id`) ON UPDATE CASCADE,\\n  FOREIGN KEY (`cc_id`) REFERENCES `cost_center` (`id`) ON UPDATE CASCADE,\\n  FOREIGN KEY (`pc_id`) REFERENCES `profit_center` (`id`) ON UPDATE CASCADE\\n) ENGINE=InnoDB DEFAULT CHARSET=utf8;\n",
       "3565   420548  29            Expecting )|Invalid expression / Unexpected token|  able structure for table `permission_role`\\n--\\n\\nCREATE TABLE `permission_role` (\\n  `role_id` int(10) |     UNSIGNED|                       -- --------------------------------------------------------\\n\\n--\\n-- Table structure for table `permission_role`\\n--\\n\\nCREATE TABLE `permission_role` (\\n  `role_id` int(10) UNSIGNED NOT NULL,\\n  `permission_id` int(10) UNSIGNED NOT NULL\\n) ENGINE=InnoDB DEFAULT CHARSET=utf8mb4 COLLATE=utf8mb4_unicode_ci;                                                                                                                                                                                                                                                                                                                                                                                                                                                                                                                                                                                                                                                                                                                                                                                                                                                                                                                                                                                                                                                                                                                                                                                                                                                                                                                                                                                                                                                                                                                                                                                                                                                                                                                                                                                                                                                                                                                                                                   \n",
       "8319   421461  7             Expecting )|Invalid expression / Unexpected token|  -----------\\n\\n--\\n-- Table structure for table `admins`\\n--\\n\\nCREATE TABLE `admins` (\\n  `id` bigint(20) |  UNSIGNED|                       --\\n-- Database: `socom`\\n--\\n\\n-- --------------------------------------------------------\\n\\n--\\n-- Table structure for table `admins`\\n--\\n\\nCREATE TABLE `admins` (\\n  `id` bigint(20) UNSIGNED NOT NULL,\\n  `role_id` bigint(20) UNSIGNED DEFAULT NULL,\\n  `name` varchar(255) COLLATE utf8mb4_unicode_ci NOT NULL,\\n  `email` varchar(255) COLLATE utf8mb4_unicode_ci NOT NULL,\\n  `avatar` varchar(255) COLLATE utf8mb4_unicode_ci DEFAULT 'users/default.png',\\n  `password` varchar(255) COLLATE utf8mb4_unicode_ci DEFAULT NULL,\\n  `remember_token` varchar(255) COLLATE utf8mb4_unicode_ci DEFAULT NULL,\\n  `settings` text COLLATE utf8mb4_unicode_ci DEFAULT NULL,\\n  `created_at` timestamp NULL DEFAULT NULL,\\n  `updated_at` timestamp NULL DEFAULT NULL\\n) ENGINE=InnoDB DEFAULT CHARSET=utf8mb4 COLLATE=utf8mb4_unicode_ci;                                                                                                                                                                                                                                                                                                                                                                                                                                                                                                                                                                                                                                                                                                                                                                                                                                                                                                                                                                                                                                                                                                                                                                                                                                                                                                                                                                                                                                        "
      ]
     },
     "execution_count": 87,
     "metadata": {},
     "output_type": "execute_result"
    }
   ],
   "source": [
    "unsigned_check.sample(frac=0.1).head()"
   ]
  },
  {
   "attachments": {},
   "cell_type": "markdown",
   "metadata": {
    "pycharm": {
     "name": "#%% md\n"
    }
   },
   "source": [
    "### dot"
   ]
  },
  {
   "cell_type": "code",
   "execution_count": 95,
   "metadata": {
    "pycharm": {
     "name": "#%%\n"
    }
   },
   "outputs": [
    {
     "name": "stdout",
     "output_type": "stream",
     "text": [
      "[########################################] | 100% Completed | 20.07 s\n",
      "[########################################] | 100% Completed | 25.31 s\n",
      "(141601, 14111)\n"
     ]
    }
   ],
   "source": [
    "no_unsigned = no_default[\n",
    "    ~((no_default.good_file_parse_error_highlight.str.contains('UNSIGNED',case=False,regex=False)) &\n",
    "    (\n",
    "        (no_default.original.str.contains('INT',case=False,regex=False)) |\n",
    "        (no_default.original.str.contains('INTEGER',case=False,regex=False)) \n",
    "    ))\n",
    "]\n",
    "dot_check = no_unsigned[\n",
    "    (no_unsigned.good_file_parse_error_highlight == '.|') &\n",
    "    ((no_unsigned.good_file_parse_error_start_context.str.contains('references',case=False,regex=False)) |\n",
    "    (no_unsigned.good_file_parse_error_start_context.str.contains('index',case=False,regex=False)))\n",
    "]\n",
    "print(get_stmt_and_file_count(dot_check))\n",
    "#dot_check.sample(frac=0.1).head()\n",
    "# 150k\n",
    "# 65k for references\n",
    "# 76k for index"
   ]
  },
  {
   "cell_type": "code",
   "execution_count": 93,
   "metadata": {
    "pycharm": {
     "name": "#%%\n"
    }
   },
   "outputs": [
    {
     "name": "stdout",
     "output_type": "stream",
     "text": [
      "[########################################] | 100% Completed | 718.13 ms\n"
     ]
    },
    {
     "data": {
      "text/html": [
       "<div>\n",
       "<style scoped>\n",
       "    .dataframe tbody tr th:only-of-type {\n",
       "        vertical-align: middle;\n",
       "    }\n",
       "\n",
       "    .dataframe tbody tr th {\n",
       "        vertical-align: top;\n",
       "    }\n",
       "\n",
       "    .dataframe thead th {\n",
       "        text-align: right;\n",
       "    }\n",
       "</style>\n",
       "<table border=\"1\" class=\"dataframe\">\n",
       "  <thead>\n",
       "    <tr style=\"text-align: right;\">\n",
       "      <th></th>\n",
       "      <th>file_id</th>\n",
       "      <th>statement_id</th>\n",
       "      <th>good_parse_error</th>\n",
       "      <th>good_file_parse_error_start_context</th>\n",
       "      <th>good_file_parse_error_highlight</th>\n",
       "      <th>original</th>\n",
       "    </tr>\n",
       "  </thead>\n",
       "  <tbody>\n",
       "    <tr>\n",
       "      <th>7379</th>\n",
       "      <td>421290</td>\n",
       "      <td>212</td>\n",
       "      <td>Invalid expression / Unexpected token|</td>\n",
       "      <td>CREATE INDEX IF NOT EXISTS T_ILI2DB_IMPORT_BASKET_importrun_idx ON stage|</td>\n",
       "      <td>.|</td>\n",
       "      <td>CREATE INDEX IF NOT EXISTS T_ILI2DB_IMPORT_BASKET_importrun_idx ON stage.t_ili2db_import_basket ( importrun );</td>\n",
       "    </tr>\n",
       "    <tr>\n",
       "      <th>25934</th>\n",
       "      <td>425193</td>\n",
       "      <td>93</td>\n",
       "      <td>Required keyword: 'this' missing for &lt;class 'sqlglot.expressions.Table'&gt;|Invalid expression / Unexpected token|</td>\n",
       "      <td>R_ID_C564EBA6\\n--------------------------------------------------------\\n\\n  CREATE INDEX \"C##DBETAPA1\"|</td>\n",
       "      <td>.|</td>\n",
       "      <td>--------------------------------------------------------\\n--  DDL for Index DJANGO_ADM_USER_ID_C564EBA6\\n--------------------------------------------------------\\n\\n  CREATE INDEX \"C##DBETAPA1\".\"DJANGO_ADM_USER_ID_C564EBA6\" ON \"C##DBETAPA1\".\"DJANGO_ADMIN_LOG\" (\"USER_ID\") \\n  PCTFREE 10 INITRANS 2 MAXTRANS 255 COMPUTE STATISTICS \\n  STORAGE(INITIAL 65536 NEXT 1048576 MINEXTENTS 1 MAXEXTENTS 2147483645\\n  PCTINCREASE 0 FREELISTS 1 FREELIST GROUPS 1\\n  BUFFER_POOL DEFAULT FLASH_CACHE DEFAULT CELL_FLASH_CACHE DEFAULT)\\n  TABLESPACE \"USERS\" ;</td>\n",
       "    </tr>\n",
       "    <tr>\n",
       "      <th>7567</th>\n",
       "      <td>421323</td>\n",
       "      <td>3</td>\n",
       "      <td>Invalid expression / Unexpected token|</td>\n",
       "      <td>|</td>\n",
       "      <td>.|</td>\n",
       "      <td>.\\nCOMMENT ON COLUMN oe.customers.cust_geo_location IS\\n'SDO (spatial) column.';</td>\n",
       "    </tr>\n",
       "    <tr>\n",
       "      <th>16814</th>\n",
       "      <td>423250</td>\n",
       "      <td>8</td>\n",
       "      <td>Invalid expression / Unexpected token|</td>\n",
       "      <td>create index cities_byname on geo|</td>\n",
       "      <td>.|</td>\n",
       "      <td>create index cities_byname on geo.cities(name);</td>\n",
       "    </tr>\n",
       "    <tr>\n",
       "      <th>17859</th>\n",
       "      <td>423510</td>\n",
       "      <td>13</td>\n",
       "      <td>Invalid expression / Unexpected token|</td>\n",
       "      <td>CREATE INDEX idx_und_fdrl_mun ON public|</td>\n",
       "      <td>.|</td>\n",
       "      <td>CREATE INDEX idx_und_fdrl_mun ON public.mun USING btree (nr_und_fdrl);</td>\n",
       "    </tr>\n",
       "  </tbody>\n",
       "</table>\n",
       "</div>"
      ],
      "text/plain": [
       "      file_id  statement_id                                                                                                 good_parse_error                                                                       good_file_parse_error_start_context good_file_parse_error_highlight                                                                                                                                                                                                                                                                                                                                                                                                                                                                                                                                                         original\n",
       "7379   421290  212           Invalid expression / Unexpected token|                                                                           CREATE INDEX IF NOT EXISTS T_ILI2DB_IMPORT_BASKET_importrun_idx ON stage|                                 .|                              CREATE INDEX IF NOT EXISTS T_ILI2DB_IMPORT_BASKET_importrun_idx ON stage.t_ili2db_import_basket ( importrun );                                                                                                                                                                                                                                                                                                                                                                                                                                                 \n",
       "25934  425193  93            Required keyword: 'this' missing for <class 'sqlglot.expressions.Table'>|Invalid expression / Unexpected token|  R_ID_C564EBA6\\n--------------------------------------------------------\\n\\n  CREATE INDEX \"C##DBETAPA1\"|  .|                              --------------------------------------------------------\\n--  DDL for Index DJANGO_ADM_USER_ID_C564EBA6\\n--------------------------------------------------------\\n\\n  CREATE INDEX \"C##DBETAPA1\".\"DJANGO_ADM_USER_ID_C564EBA6\" ON \"C##DBETAPA1\".\"DJANGO_ADMIN_LOG\" (\"USER_ID\") \\n  PCTFREE 10 INITRANS 2 MAXTRANS 255 COMPUTE STATISTICS \\n  STORAGE(INITIAL 65536 NEXT 1048576 MINEXTENTS 1 MAXEXTENTS 2147483645\\n  PCTINCREASE 0 FREELISTS 1 FREELIST GROUPS 1\\n  BUFFER_POOL DEFAULT FLASH_CACHE DEFAULT CELL_FLASH_CACHE DEFAULT)\\n  TABLESPACE \"USERS\" ;\n",
       "7567   421323  3             Invalid expression / Unexpected token|                                                                           |                                                                                                         .|                              .\\nCOMMENT ON COLUMN oe.customers.cust_geo_location IS\\n'SDO (spatial) column.';                                                                                                                                                                                                                                                                                                                                                                                                                                                                               \n",
       "16814  423250  8             Invalid expression / Unexpected token|                                                                           create index cities_byname on geo|                                                                        .|                              create index cities_byname on geo.cities(name);                                                                                                                                                                                                                                                                                                                                                                                                                                                                                                                \n",
       "17859  423510  13            Invalid expression / Unexpected token|                                                                           CREATE INDEX idx_und_fdrl_mun ON public|                                                                  .|                              CREATE INDEX idx_und_fdrl_mun ON public.mun USING btree (nr_und_fdrl);                                                                                                                                                                                                                                                                                                                                                                                                                                                                                         "
      ]
     },
     "execution_count": 93,
     "metadata": {},
     "output_type": "execute_result"
    }
   ],
   "source": [
    "dot_check.sample(frac=0.1).head()"
   ]
  },
  {
   "attachments": {},
   "cell_type": "markdown",
   "metadata": {
    "pycharm": {
     "name": "#%% md\n"
    }
   },
   "source": [
    "### KEY"
   ]
  },
  {
   "cell_type": "code",
   "execution_count": 104,
   "metadata": {
    "pycharm": {
     "name": "#%%\n"
    }
   },
   "outputs": [
    {
     "name": "stdout",
     "output_type": "stream",
     "text": [
      "[########################################] | 100% Completed | 25.37 s\n",
      "[########################################] | 100% Completed | 27.46 s\n",
      "(114168, 27731)\n"
     ]
    }
   ],
   "source": [
    "no_dot = no_unsigned[\n",
    "    ~((no_unsigned.good_file_parse_error_highlight == '.|') &\n",
    "    ((no_unsigned.good_file_parse_error_start_context.str.contains('references',case=False,regex=False)) |\n",
    "    (no_unsigned.good_file_parse_error_start_context.str.contains('index',case=False,regex=False))))\n",
    "]\n",
    "key_check = no_dot[\n",
    "    (no_dot.good_file_parse_error_highlight.str.upper() == 'KEY|') &\n",
    "    (no_dot.good_file_parse_error_start_context.str.contains('unique',case=False,regex=False)) &\n",
    "    (\n",
    "        (no_dot.original.str.contains('`',case=False,regex=False)) |\n",
    "        (no_dot.original.str.contains('ENGINE',case=False,regex=False))\n",
    "    )\n",
    "]\n",
    "print(get_stmt_and_file_count(key_check))\n",
    "#dot_check.sample(frac=0.1).head()"
   ]
  },
  {
   "cell_type": "code",
   "execution_count": 100,
   "metadata": {
    "pycharm": {
     "name": "#%%\n"
    }
   },
   "outputs": [
    {
     "name": "stdout",
     "output_type": "stream",
     "text": [
      "[########################################] | 100% Completed | 793.45 ms\n"
     ]
    },
    {
     "data": {
      "text/html": [
       "<div>\n",
       "<style scoped>\n",
       "    .dataframe tbody tr th:only-of-type {\n",
       "        vertical-align: middle;\n",
       "    }\n",
       "\n",
       "    .dataframe tbody tr th {\n",
       "        vertical-align: top;\n",
       "    }\n",
       "\n",
       "    .dataframe thead th {\n",
       "        text-align: right;\n",
       "    }\n",
       "</style>\n",
       "<table border=\"1\" class=\"dataframe\">\n",
       "  <thead>\n",
       "    <tr style=\"text-align: right;\">\n",
       "      <th></th>\n",
       "      <th>file_id</th>\n",
       "      <th>statement_id</th>\n",
       "      <th>good_parse_error</th>\n",
       "      <th>good_file_parse_error_start_context</th>\n",
       "      <th>good_file_parse_error_highlight</th>\n",
       "      <th>original</th>\n",
       "    </tr>\n",
       "  </thead>\n",
       "  <tbody>\n",
       "    <tr>\n",
       "      <th>4135</th>\n",
       "      <td>420645</td>\n",
       "      <td>322</td>\n",
       "      <td>Expecting )|Invalid expression / Unexpected token|</td>\n",
       "      <td>,\\n  ordernumber_to int(11) NULL,\\n  timestamp timestamp NOT NULL DEFAULT CURRENT_TIMESTAMP,\\n  UNIQUE |</td>\n",
       "      <td>KEY|</td>\n",
       "      <td>CREATE TABLE aqorders_transfers (\\n  ordernumber_from int(11) NULL,\\n  ordernumber_to int(11) NULL,\\n  timestamp timestamp NOT NULL DEFAULT CURRENT_TIMESTAMP,\\n  UNIQUE KEY ordernumber_from (ordernumber_from),\\n  UNIQUE KEY ordernumber_to (ordernumber_to),\\n  CONSTRAINT aqorders_transfers_ordernumber_from FOREIGN KEY (ordernumber_from) REFERENCES aqorders (ordernumber) ON DELETE SET NULL ON UPDATE CASCADE,\\n  CONSTRAINT aqorders_transfers_ordernumber_to FOREIGN KEY (ordernumber_to) REFERENCES aqorders (ordernumber) ON DELETE SET NULL ON UPDATE CASCADE\\n) ENGINE=InnoDB DEFAULT CHARSET=utf8 COLLATE=utf8_unicode_ci;</td>\n",
       "    </tr>\n",
       "    <tr>\n",
       "      <th>6627</th>\n",
       "      <td>421196</td>\n",
       "      <td>50</td>\n",
       "      <td>Expecting )|Invalid expression / Unexpected token|</td>\n",
       "      <td>L,\\n  `shelf_id_id` int NOT NULL,\\n  `category` varchar(255) NOT NULL,\\n  PRIMARY KEY (`id`),\\n  UNIQUE |</td>\n",
       "      <td>KEY|</td>\n",
       "      <td>CREATE TABLE `books_books` (\\n  `id` int NOT NULL AUTO_INCREMENT,\\n  `isbn_number` varchar(45) NOT NULL,\\n  `copy_number` int NOT NULL,\\n  `title` varchar(255) NOT NULL,\\n  `author` varchar(255) NOT NULL,\\n  `year_of_publication` int NOT NULL,\\n  `current_status` varchar(255) NOT NULL,\\n  `Img1` varchar(100) NOT NULL,\\n  `shelf_id_id` int NOT NULL,\\n  `category` varchar(255) NOT NULL,\\n  PRIMARY KEY (`id`),\\n  UNIQUE KEY `books_books_isbn_number_copy_number_17539bff_uniq` (`isbn_number`,`copy_number`),\\n  KEY `books_books_shelf_id_id_a491fcdd_fk_books_shelf_shelf_id` (`shelf_id_id`),\\n  CONSTRAINT `books_books_shelf_id_id_a491fcdd_fk_books_shelf_shelf_id` FOREIGN KEY (`shelf_id_id`) REFERENCES `books_shelf` (`shelf_id`)\\n) ENGINE=InnoDB AUTO_INCREMENT=7 DEFAULT CHARSET=utf8mb4 COLLATE=utf8mb4_0900_ai_ci;</td>\n",
       "    </tr>\n",
       "    <tr>\n",
       "      <th>7043</th>\n",
       "      <td>421268</td>\n",
       "      <td>210</td>\n",
       "      <td>Expecting )|Invalid expression / Unexpected token|</td>\n",
       "      <td>otionCommentId` int(11) NOT NULL,\\n  `likes` tinyint(4) DEFAULT NULL,\\n  PRIMARY KEY (`id`),\\n  UNIQUE |</td>\n",
       "      <td>KEY|</td>\n",
       "      <td>CREATE TABLE `motionCommentSupporter` (\\n  `id` int(11) NOT NULL AUTO_INCREMENT,\\n  `ipHash` char(32) DEFAULT NULL,\\n  `cookieId` int(11) DEFAULT NULL,\\n  `motionCommentId` int(11) NOT NULL,\\n  `likes` tinyint(4) DEFAULT NULL,\\n  PRIMARY KEY (`id`),\\n  UNIQUE KEY `ip_hash_motion` (`ipHash`,`motionCommentId`),\\n  UNIQUE KEY `cookie_motion` (`cookieId`,`motionCommentId`),\\n  KEY `fk_motion_comment_supporter_commentIdx` (`motionCommentId`),\\n  CONSTRAINT `fk_motion_comment_supporter_comment` FOREIGN KEY (`motionCommentId`) REFERENCES `motionComment` (`id`) ON DELETE NO ACTION ON UPDATE NO ACTION\\n) ENGINE=InnoDB DEFAULT CHARSET=utf8mb4;</td>\n",
       "    </tr>\n",
       "    <tr>\n",
       "      <th>8156</th>\n",
       "      <td>421418</td>\n",
       "      <td>551</td>\n",
       "      <td>Expecting )|Invalid expression / Unexpected token|</td>\n",
       "      <td>NT 'auto fill server date and time zone',\\n  PRIMARY KEY (`hethi_service_id`,`service_id`),\\n  UNIQUE |</td>\n",
       "      <td>KEY|</td>\n",
       "      <td>CREATE TABLE `chethi_services` (\\n  `hethi_service_id` char(10) NOT NULL COMMENT 'total 6 characters. Starts with ch, 100101. example : ch100101',\\n  `service_id` char(10) NOT NULL COMMENT 'FK.  cCore_services.service_id',\\n  `hethi_servicecode` varchar(10) NOT NULL COMMENT 'DaaS, BaaS, OaaS, IaaS, AaaS,StaaS',\\n  `lastupuser` char(6) NOT NULL COMMENT 'user ID audit trail',\\n  `lastupdtm` datetime NOT NULL COMMENT 'auto fill server date and time zone',\\n  PRIMARY KEY (`hethi_service_id`,`service_id`),\\n  UNIQUE KEY `hethi_servicecode_UNIQUE` (`hethi_servicecode`),\\n  KEY `service_id_idx` (`service_id`),\\n  CONSTRAINT `service_id` FOREIGN KEY (`service_id`) REFERENCES `ccore_services` (`service_id`) ON DELETE NO ACTION ON UPDATE NO ACTION\\n) ENGINE=InnoDB DEFAULT CHARSET=utf8;</td>\n",
       "    </tr>\n",
       "    <tr>\n",
       "      <th>14133</th>\n",
       "      <td>422677</td>\n",
       "      <td>83</td>\n",
       "      <td>Expecting )|Invalid expression / Unexpected token|</td>\n",
       "      <td>NOT NULL,\\n  `phoneNumber` varchar(15) DEFAULT NULL,\\n  PRIMARY KEY (`schoolDepartmentID`),\\n  UNIQUE |</td>\n",
       "      <td>KEY|</td>\n",
       "      <td>CREATE TABLE `schools_departments` (\\n  `schoolDepartmentID` int(11) NOT NULL AUTO_INCREMENT,\\n  `name` varchar(64) NOT NULL,\\n  `abbreviation` varchar(3) DEFAULT NULL,\\n  `division` int(11) NOT NULL,\\n  `emailDomain` varchar(64) NOT NULL,\\n  `phoneNumber` varchar(15) DEFAULT NULL,\\n  PRIMARY KEY (`schoolDepartmentID`),\\n  UNIQUE KEY `name` (`name`),\\n  UNIQUE KEY `abbreviation` (`abbreviation`),\\n  KEY `division` (`division`)\\n) ENGINE=MyISAM AUTO_INCREMENT=52 DEFAULT CHARSET=latin1;</td>\n",
       "    </tr>\n",
       "  </tbody>\n",
       "</table>\n",
       "</div>"
      ],
      "text/plain": [
       "      file_id  statement_id                                    good_parse_error                                                                        good_file_parse_error_start_context good_file_parse_error_highlight                                                                                                                                                                                                                                                                                                                                                                                                                                                                                                                                                                                                                                                                                                                                                                                                                                         original\n",
       "4135   420645  322           Expecting )|Invalid expression / Unexpected token|  ,\\n  ordernumber_to int(11) NULL,\\n  timestamp timestamp NOT NULL DEFAULT CURRENT_TIMESTAMP,\\n  UNIQUE |   KEY|                            CREATE TABLE aqorders_transfers (\\n  ordernumber_from int(11) NULL,\\n  ordernumber_to int(11) NULL,\\n  timestamp timestamp NOT NULL DEFAULT CURRENT_TIMESTAMP,\\n  UNIQUE KEY ordernumber_from (ordernumber_from),\\n  UNIQUE KEY ordernumber_to (ordernumber_to),\\n  CONSTRAINT aqorders_transfers_ordernumber_from FOREIGN KEY (ordernumber_from) REFERENCES aqorders (ordernumber) ON DELETE SET NULL ON UPDATE CASCADE,\\n  CONSTRAINT aqorders_transfers_ordernumber_to FOREIGN KEY (ordernumber_to) REFERENCES aqorders (ordernumber) ON DELETE SET NULL ON UPDATE CASCADE\\n) ENGINE=InnoDB DEFAULT CHARSET=utf8 COLLATE=utf8_unicode_ci;                                                                                                                                                                                                   \n",
       "6627   421196  50            Expecting )|Invalid expression / Unexpected token|  L,\\n  `shelf_id_id` int NOT NULL,\\n  `category` varchar(255) NOT NULL,\\n  PRIMARY KEY (`id`),\\n  UNIQUE |  KEY|                            CREATE TABLE `books_books` (\\n  `id` int NOT NULL AUTO_INCREMENT,\\n  `isbn_number` varchar(45) NOT NULL,\\n  `copy_number` int NOT NULL,\\n  `title` varchar(255) NOT NULL,\\n  `author` varchar(255) NOT NULL,\\n  `year_of_publication` int NOT NULL,\\n  `current_status` varchar(255) NOT NULL,\\n  `Img1` varchar(100) NOT NULL,\\n  `shelf_id_id` int NOT NULL,\\n  `category` varchar(255) NOT NULL,\\n  PRIMARY KEY (`id`),\\n  UNIQUE KEY `books_books_isbn_number_copy_number_17539bff_uniq` (`isbn_number`,`copy_number`),\\n  KEY `books_books_shelf_id_id_a491fcdd_fk_books_shelf_shelf_id` (`shelf_id_id`),\\n  CONSTRAINT `books_books_shelf_id_id_a491fcdd_fk_books_shelf_shelf_id` FOREIGN KEY (`shelf_id_id`) REFERENCES `books_shelf` (`shelf_id`)\\n) ENGINE=InnoDB AUTO_INCREMENT=7 DEFAULT CHARSET=utf8mb4 COLLATE=utf8mb4_0900_ai_ci;\n",
       "7043   421268  210           Expecting )|Invalid expression / Unexpected token|  otionCommentId` int(11) NOT NULL,\\n  `likes` tinyint(4) DEFAULT NULL,\\n  PRIMARY KEY (`id`),\\n  UNIQUE |   KEY|                            CREATE TABLE `motionCommentSupporter` (\\n  `id` int(11) NOT NULL AUTO_INCREMENT,\\n  `ipHash` char(32) DEFAULT NULL,\\n  `cookieId` int(11) DEFAULT NULL,\\n  `motionCommentId` int(11) NOT NULL,\\n  `likes` tinyint(4) DEFAULT NULL,\\n  PRIMARY KEY (`id`),\\n  UNIQUE KEY `ip_hash_motion` (`ipHash`,`motionCommentId`),\\n  UNIQUE KEY `cookie_motion` (`cookieId`,`motionCommentId`),\\n  KEY `fk_motion_comment_supporter_commentIdx` (`motionCommentId`),\\n  CONSTRAINT `fk_motion_comment_supporter_comment` FOREIGN KEY (`motionCommentId`) REFERENCES `motionComment` (`id`) ON DELETE NO ACTION ON UPDATE NO ACTION\\n) ENGINE=InnoDB DEFAULT CHARSET=utf8mb4;                                                                                                                                                                              \n",
       "8156   421418  551           Expecting )|Invalid expression / Unexpected token|  NT 'auto fill server date and time zone',\\n  PRIMARY KEY (`hethi_service_id`,`service_id`),\\n  UNIQUE |    KEY|                            CREATE TABLE `chethi_services` (\\n  `hethi_service_id` char(10) NOT NULL COMMENT 'total 6 characters. Starts with ch, 100101. example : ch100101',\\n  `service_id` char(10) NOT NULL COMMENT 'FK.  cCore_services.service_id',\\n  `hethi_servicecode` varchar(10) NOT NULL COMMENT 'DaaS, BaaS, OaaS, IaaS, AaaS,StaaS',\\n  `lastupuser` char(6) NOT NULL COMMENT 'user ID audit trail',\\n  `lastupdtm` datetime NOT NULL COMMENT 'auto fill server date and time zone',\\n  PRIMARY KEY (`hethi_service_id`,`service_id`),\\n  UNIQUE KEY `hethi_servicecode_UNIQUE` (`hethi_servicecode`),\\n  KEY `service_id_idx` (`service_id`),\\n  CONSTRAINT `service_id` FOREIGN KEY (`service_id`) REFERENCES `ccore_services` (`service_id`) ON DELETE NO ACTION ON UPDATE NO ACTION\\n) ENGINE=InnoDB DEFAULT CHARSET=utf8;                             \n",
       "14133  422677  83            Expecting )|Invalid expression / Unexpected token|   NOT NULL,\\n  `phoneNumber` varchar(15) DEFAULT NULL,\\n  PRIMARY KEY (`schoolDepartmentID`),\\n  UNIQUE |   KEY|                            CREATE TABLE `schools_departments` (\\n  `schoolDepartmentID` int(11) NOT NULL AUTO_INCREMENT,\\n  `name` varchar(64) NOT NULL,\\n  `abbreviation` varchar(3) DEFAULT NULL,\\n  `division` int(11) NOT NULL,\\n  `emailDomain` varchar(64) NOT NULL,\\n  `phoneNumber` varchar(15) DEFAULT NULL,\\n  PRIMARY KEY (`schoolDepartmentID`),\\n  UNIQUE KEY `name` (`name`),\\n  UNIQUE KEY `abbreviation` (`abbreviation`),\\n  KEY `division` (`division`)\\n) ENGINE=MyISAM AUTO_INCREMENT=52 DEFAULT CHARSET=latin1;                                                                                                                                                                                                                                                                                                                                      "
      ]
     },
     "execution_count": 100,
     "metadata": {},
     "output_type": "execute_result"
    }
   ],
   "source": [
    "key_check.sample(frac=0.1).head()"
   ]
  },
  {
   "attachments": {},
   "cell_type": "markdown",
   "metadata": {
    "pycharm": {
     "name": "#%% md\n"
    }
   },
   "source": [
    "### empty"
   ]
  },
  {
   "cell_type": "code",
   "execution_count": 110,
   "metadata": {
    "pycharm": {
     "name": "#%%\n"
    }
   },
   "outputs": [
    {
     "name": "stdout",
     "output_type": "stream",
     "text": [
      "[########################################] | 100% Completed | 28.62 s\n",
      "[########################################] | 100% Completed | 38.47 s\n",
      "(51259, 16829)\n"
     ]
    }
   ],
   "source": [
    "no_key = no_dot[\n",
    "    ~((no_dot.good_file_parse_error_highlight.str.upper() == 'KEY|') &\n",
    "    (no_dot.good_file_parse_error_start_context.str.contains('unique',case=False,regex=False)) &\n",
    "    (\n",
    "        (no_dot.original.str.contains('`',case=False,regex=False)) |\n",
    "        (no_dot.original.str.contains('ENGINE',case=False,regex=False))\n",
    "    ))\n",
    "]\n",
    "empty_check = no_key[\n",
    "    (no_key.good_file_parse_error_highlight == '') &\n",
    "    (no_key.good_parse_error.str.contains('NON_PARSER_ERROR|',case=False,regex=False))\n",
    "]\n",
    "\n",
    "empty_alter_check = no_key[\n",
    "    (no_key.good_file_parse_error_highlight == '') &\n",
    "    (no_key.good_parse_error.str.contains('NON_PARSER_ERROR|',case=False,regex=False)) &\n",
    "    (no_key.original.str.contains('alter table',case=False,regex=False))\n",
    "]\n",
    "\n",
    "empty_insert_into_check = no_key[\n",
    "    (no_key.good_file_parse_error_highlight == '') &\n",
    "    (no_key.good_parse_error.str.contains('NON_PARSER_ERROR|',case=False,regex=False)) &\n",
    "    (no_key.original.str.contains('insert into',case=False,regex=False))\n",
    "]\n",
    "print(get_stmt_and_file_count(empty_insert_into_check))\n",
    "#dot_check.sample(frac=0.1).head()"
   ]
  },
  {
   "cell_type": "code",
   "execution_count": 106,
   "metadata": {
    "pycharm": {
     "name": "#%%\n"
    }
   },
   "outputs": [
    {
     "name": "stdout",
     "output_type": "stream",
     "text": [
      "[########################################] | 100% Completed | 1.03 ss\n"
     ]
    },
    {
     "data": {
      "text/html": [
       "<div>\n",
       "<style scoped>\n",
       "    .dataframe tbody tr th:only-of-type {\n",
       "        vertical-align: middle;\n",
       "    }\n",
       "\n",
       "    .dataframe tbody tr th {\n",
       "        vertical-align: top;\n",
       "    }\n",
       "\n",
       "    .dataframe thead th {\n",
       "        text-align: right;\n",
       "    }\n",
       "</style>\n",
       "<table border=\"1\" class=\"dataframe\">\n",
       "  <thead>\n",
       "    <tr style=\"text-align: right;\">\n",
       "      <th></th>\n",
       "      <th>file_id</th>\n",
       "      <th>statement_id</th>\n",
       "      <th>good_parse_error</th>\n",
       "      <th>good_file_parse_error_start_context</th>\n",
       "      <th>good_file_parse_error_highlight</th>\n",
       "      <th>original</th>\n",
       "    </tr>\n",
       "  </thead>\n",
       "  <tbody>\n",
       "    <tr>\n",
       "      <th>26063</th>\n",
       "      <td>425232</td>\n",
       "      <td>6</td>\n",
       "      <td>NON_PARSER_ERROR|local variable 'expression' referenced before assignment</td>\n",
       "      <td></td>\n",
       "      <td></td>\n",
       "      <td>alter table Department\\nadd constraint foreign key fk_department_manager(manager_id) references Employee(manager_id) on delete no action;</td>\n",
       "    </tr>\n",
       "    <tr>\n",
       "      <th>13494</th>\n",
       "      <td>422636</td>\n",
       "      <td>201</td>\n",
       "      <td>NON_PARSER_ERROR|local variable 'expression' referenced before assignment</td>\n",
       "      <td></td>\n",
       "      <td></td>\n",
       "      <td>alter table DM_DIMORGANISATION\\n   add constraint AK_KEY_2_DM_DIMOR unique (ORGNAME);</td>\n",
       "    </tr>\n",
       "    <tr>\n",
       "      <th>28688</th>\n",
       "      <td>425803</td>\n",
       "      <td>292</td>\n",
       "      <td>NON_PARSER_ERROR|Missing ' from 1:102</td>\n",
       "      <td></td>\n",
       "      <td></td>\n",
       "      <td>INSERT INTO `points_of_interest` VALUES ('290', '-1239.75', '104.888', '7', '99', '0', 'Karn\\'s Smithy');</td>\n",
       "    </tr>\n",
       "    <tr>\n",
       "      <th>24639</th>\n",
       "      <td>425052</td>\n",
       "      <td>174</td>\n",
       "      <td>NON_PARSER_ERROR|Missing \" from 4:135</td>\n",
       "      <td></td>\n",
       "      <td></td>\n",
       "      <td>}\\n\\tif(!isnull(column_where2) &amp;&amp; !isnull(row_identifier3) &amp;&amp; row_identifier2 == -1)\\n\\t{\\n\\t\\tformat(SQL::upd_form2, sizeof(SQL::upd_form2), \" AND `%s`='%s'\", column_where2, row_identifier3);</td>\n",
       "    </tr>\n",
       "    <tr>\n",
       "      <th>20591</th>\n",
       "      <td>424209</td>\n",
       "      <td>296</td>\n",
       "      <td>NON_PARSER_ERROR|Missing ' from 1:318</td>\n",
       "      <td></td>\n",
       "      <td></td>\n",
       "      <td>INSERT INTO `catalog_pages` VALUES ('25833', '25820', 'Triangular Prism', '1', '193', '1', '1', '1', '0', '75', 'default_3x3', 'Builders_Club_Header', 'Builders_Club_Teaser', ' ', 'In this section, you\\'ll find over 100 building blocks avaible to you in order to create your perfect room!', ' ', ' ', ' ', '0', ' ', ' ');</td>\n",
       "    </tr>\n",
       "  </tbody>\n",
       "</table>\n",
       "</div>"
      ],
      "text/plain": [
       "      file_id  statement_id                                                           good_parse_error good_file_parse_error_start_context good_file_parse_error_highlight                                                                                                                                                                                                                                                                                                                           original\n",
       "26063  425232  6             NON_PARSER_ERROR|local variable 'expression' referenced before assignment                                                                      alter table Department\\nadd constraint foreign key fk_department_manager(manager_id) references Employee(manager_id) on delete no action;                                                                                                                                                                                        \n",
       "13494  422636  201           NON_PARSER_ERROR|local variable 'expression' referenced before assignment                                                                      alter table DM_DIMORGANISATION\\n   add constraint AK_KEY_2_DM_DIMOR unique (ORGNAME);                                                                                                                                                                                                                                            \n",
       "28688  425803  292           NON_PARSER_ERROR|Missing ' from 1:102                                                                                                          INSERT INTO `points_of_interest` VALUES ('290', '-1239.75', '104.888', '7', '99', '0', 'Karn\\'s Smithy');                                                                                                                                                                                                                        \n",
       "24639  425052  174           NON_PARSER_ERROR|Missing \" from 4:135                                                                                                          }\\n\\tif(!isnull(column_where2) && !isnull(row_identifier3) && row_identifier2 == -1)\\n\\t{\\n\\t\\tformat(SQL::upd_form2, sizeof(SQL::upd_form2), \" AND `%s`='%s'\", column_where2, row_identifier3);                                                                                                                                 \n",
       "20591  424209  296           NON_PARSER_ERROR|Missing ' from 1:318                                                                                                          INSERT INTO `catalog_pages` VALUES ('25833', '25820', 'Triangular Prism', '1', '193', '1', '1', '1', '0', '75', 'default_3x3', 'Builders_Club_Header', 'Builders_Club_Teaser', ' ', 'In this section, you\\'ll find over 100 building blocks avaible to you in order to create your perfect room!', ' ', ' ', ' ', '0', ' ', ' ');"
      ]
     },
     "execution_count": 106,
     "metadata": {},
     "output_type": "execute_result"
    }
   ],
   "source": [
    "empty_check.sample(frac=0.1).head()"
   ]
  },
  {
   "attachments": {},
   "cell_type": "markdown",
   "metadata": {
    "pycharm": {
     "name": "#%% md\n"
    }
   },
   "source": [
    "### ON|UPDATE|"
   ]
  },
  {
   "cell_type": "code",
   "execution_count": 113,
   "metadata": {
    "pycharm": {
     "name": "#%%\n"
    }
   },
   "outputs": [
    {
     "name": "stdout",
     "output_type": "stream",
     "text": [
      "[########################################] | 100% Completed | 28.05 s\n",
      "[########################################] | 100% Completed | 31.86 s\n",
      "(57091, 13226)\n"
     ]
    }
   ],
   "source": [
    "no_empty = no_key[\n",
    "    ~((no_key.good_file_parse_error_highlight == '') &\n",
    "    (no_key.good_parse_error.str.contains('NON_PARSER_ERROR|',case=False,regex=False)))\n",
    "]\n",
    "\n",
    "on_update_check = no_empty[\n",
    "    (no_empty.good_file_parse_error_highlight == 'ON|UPDATE|') &\n",
    "    (no_empty.good_file_parse_error_start_context.str.contains('timestamp',case=False,regex=False))\n",
    "]\n",
    "print(get_stmt_and_file_count(on_update_check))\n",
    "#dot_check.sample(frac=0.1).head()"
   ]
  },
  {
   "cell_type": "code",
   "execution_count": 112,
   "metadata": {
    "pycharm": {
     "name": "#%%\n"
    }
   },
   "outputs": [
    {
     "name": "stdout",
     "output_type": "stream",
     "text": [
      "[########################################] | 100% Completed | 1.15 ss\n"
     ]
    },
    {
     "name": "stderr",
     "output_type": "stream",
     "text": [
      "c:\\Users\\geacu\\anaconda3\\envs\\windows\\lib\\site-packages\\dask\\core.py:119: UserWarning: Boolean Series key will be reindexed to match DataFrame index.\n",
      "  return func(*(_execute_task(a, cache) for a in args))\n"
     ]
    },
    {
     "data": {
      "text/html": [
       "<div>\n",
       "<style scoped>\n",
       "    .dataframe tbody tr th:only-of-type {\n",
       "        vertical-align: middle;\n",
       "    }\n",
       "\n",
       "    .dataframe tbody tr th {\n",
       "        vertical-align: top;\n",
       "    }\n",
       "\n",
       "    .dataframe thead th {\n",
       "        text-align: right;\n",
       "    }\n",
       "</style>\n",
       "<table border=\"1\" class=\"dataframe\">\n",
       "  <thead>\n",
       "    <tr style=\"text-align: right;\">\n",
       "      <th></th>\n",
       "      <th>file_id</th>\n",
       "      <th>statement_id</th>\n",
       "      <th>good_parse_error</th>\n",
       "      <th>good_file_parse_error_start_context</th>\n",
       "      <th>good_file_parse_error_highlight</th>\n",
       "      <th>original</th>\n",
       "    </tr>\n",
       "  </thead>\n",
       "  <tbody>\n",
       "    <tr>\n",
       "      <th>6102</th>\n",
       "      <td>421114</td>\n",
       "      <td>130</td>\n",
       "      <td>Expecting )|</td>\n",
       "      <td>MENT,\\n  `title` varchar(255) DEFAULT NULL,\\n  `create_date` timestamp NULL DEFAULT CURRENT_TIMESTAMP |T,\\n  `title` varchar(255) DEFAULT NULL,\\n  `create_date` timestamp NULL DEFAULT CURRENT_TIMESTAMP ON |</td>\n",
       "      <td>ON|UPDATE|</td>\n",
       "      <td>CREATE TABLE `post` (\\n  `id` int(11) NOT NULL AUTO_INCREMENT,\\n  `title` varchar(255) DEFAULT NULL,\\n  `create_date` timestamp NULL DEFAULT CURRENT_TIMESTAMP ON UPDATE CURRENT_TIMESTAMP,\\n  `type` tinyint(4) DEFAULT NULL,\\n  `content` text,\\n  `image` varchar(255) DEFAULT NULL,\\n  `status` tinyint(4) DEFAULT NULL,\\n  PRIMARY KEY (`id`)\\n) ENGINE=InnoDB DEFAULT CHARSET=utf8;</td>\n",
       "    </tr>\n",
       "    <tr>\n",
       "      <th>16230</th>\n",
       "      <td>423094</td>\n",
       "      <td>18</td>\n",
       "      <td>Expecting )|</td>\n",
       "      <td>(12) NOT NULL,\\n  `phone` char(12) DEFAULT NULL,\\n  `tm` timestamp NOT NULL DEFAULT CURRENT_TIMESTAMP |) NOT NULL,\\n  `phone` char(12) DEFAULT NULL,\\n  `tm` timestamp NOT NULL DEFAULT CURRENT_TIMESTAMP ON |</td>\n",
       "      <td>ON|UPDATE|</td>\n",
       "      <td>CREATE TABLE `Log` (\\n  `IP` char(16) DEFAULT NULL,\\n  `MAC` char(12) NOT NULL,\\n  `phone` char(12) DEFAULT NULL,\\n  `tm` timestamp NOT NULL DEFAULT CURRENT_TIMESTAMP ON UPDATE CURRENT_TIMESTAMP,\\n  `msg` varchar(100) DEFAULT NULL\\n) ENGINE=MyISAM DEFAULT CHARSET=latin1;</td>\n",
       "    </tr>\n",
       "    <tr>\n",
       "      <th>10644</th>\n",
       "      <td>421971</td>\n",
       "      <td>43</td>\n",
       "      <td>Expecting )|</td>\n",
       "      <td>ULL,\\n  `jabatan_baru` int(3) NOT NULL,\\n  `timestamp` timestamp NOT NULL DEFAULT current_timestamp() |,\\n  `jabatan_baru` int(3) NOT NULL,\\n  `timestamp` timestamp NOT NULL DEFAULT current_timestamp() ON |</td>\n",
       "      <td>ON|UPDATE|</td>\n",
       "      <td>CREATE TABLE `tbl_log_jabatan` (\\n  `id_log_jabatan` int(11) NOT NULL AUTO_INCREMENT,\\n  `id_pegawai` int(3) NOT NULL,\\n  `jabatan_lama` int(3) NOT NULL,\\n  `jabatan_baru` int(3) NOT NULL,\\n  `timestamp` timestamp NOT NULL DEFAULT current_timestamp() ON UPDATE current_timestamp(),\\n  PRIMARY KEY (`id_log_jabatan`),\\n  KEY `pegawai` (`id_pegawai`),\\n  KEY `jabatan_lama` (`jabatan_lama`),\\n  KEY `jabatan_baru` (`jabatan_baru`),\\n  CONSTRAINT `jabatan_baru` FOREIGN KEY (`jabatan_baru`) REFERENCES `tbl_jabatan` (`id_jabatan`),\\n  CONSTRAINT `jabatan_lama` FOREIGN KEY (`jabatan_lama`) REFERENCES `tbl_jabatan` (`id_jabatan`),\\n  CONSTRAINT `pegawai` FOREIGN KEY (`id_pegawai`) REFERENCES `tbl_pegawai` (`id_pegawai`)\\n) ENGINE=InnoDB AUTO_INCREMENT=3 DEFAULT CHARSET=utf8mb4;</td>\n",
       "    </tr>\n",
       "    <tr>\n",
       "      <th>18868</th>\n",
       "      <td>423778</td>\n",
       "      <td>113</td>\n",
       "      <td>Expecting )|</td>\n",
       "      <td>atus` varchar(255) COLLATE utf8_unicode_ci DEFAULT NULL,\\n  `created_at` timestamp NULL DEFAULT NULL |s` varchar(255) COLLATE utf8_unicode_ci DEFAULT NULL,\\n  `created_at` timestamp NULL DEFAULT NULL ON |</td>\n",
       "      <td>ON|UPDATE|</td>\n",
       "      <td>CREATE TABLE `reasons` (\\n  `id` int(11) NOT NULL AUTO_INCREMENT,\\n  `title` varchar(255) COLLATE utf8_unicode_ci DEFAULT NULL,\\n  `caption` text COLLATE utf8_unicode_ci,\\n  `image` int(11) DEFAULT NULL,\\n  `status` varchar(255) COLLATE utf8_unicode_ci DEFAULT NULL,\\n  `created_at` timestamp NULL DEFAULT NULL ON UPDATE CURRENT_TIMESTAMP,\\n  `updated_at` timestamp NULL DEFAULT NULL ON UPDATE CURRENT_TIMESTAMP,\\n  `link` text COLLATE utf8_unicode_ci,\\n  `order` int(11) DEFAULT NULL,\\n  PRIMARY KEY (`id`)\\n) ENGINE=InnoDB AUTO_INCREMENT=12 DEFAULT CHARSET=utf8 COLLATE=utf8_unicode_ci;</td>\n",
       "    </tr>\n",
       "    <tr>\n",
       "      <th>16625</th>\n",
       "      <td>423208</td>\n",
       "      <td>91</td>\n",
       "      <td>Expecting )|</td>\n",
       "      <td>R SET latin1 COLLATE latin1_swedish_ci NOT NULL DEFAULT 'System',\\n  `updated` timestamp(0) NOT NULL |ET latin1 COLLATE latin1_swedish_ci NOT NULL DEFAULT 'System',\\n  `updated` timestamp(0) NOT NULL ON |</td>\n",
       "      <td>ON|UPDATE|</td>\n",
       "      <td>CREATE TABLE `hot_extra`  (\\n  `extra_id` int(11) NOT NULL AUTO_INCREMENT,\\n  `extra_name` varchar(128) CHARACTER SET latin1 COLLATE latin1_swedish_ci NOT NULL,\\n  `extra_charge` float(10, 2) NOT NULL,\\n  `created` timestamp(0) NOT NULL DEFAULT CURRENT_TIMESTAMP,\\n  `created_by` varchar(50) CHARACTER SET latin1 COLLATE latin1_swedish_ci NOT NULL DEFAULT 'System',\\n  `updated` timestamp(0) NOT NULL ON UPDATE CURRENT_TIMESTAMP(0),\\n  `updated_by` varchar(20) CHARACTER SET latin1 COLLATE latin1_swedish_ci NOT NULL DEFAULT 'System',\\n  `is_active` tinyint(1) NOT NULL DEFAULT 1,\\n  `is_deleted` tinyint(1) NOT NULL DEFAULT 0,\\n  PRIMARY KEY (`extra_id`) USING BTREE\\n) ENGINE = InnoDB AUTO_INCREMENT = 3 CHARACTER SET = latin1 COLLATE = latin1_swedish_ci ROW_FORMAT = Compact;</td>\n",
       "    </tr>\n",
       "  </tbody>\n",
       "</table>\n",
       "</div>"
      ],
      "text/plain": [
       "      file_id  statement_id good_parse_error                                                                                                                                                                             good_file_parse_error_start_context good_file_parse_error_highlight                                                                                                                                                                                                                                                                                                                                                                                                                                                                                                                                                                                                                                                                                                                                                                                                    original\n",
       "6102   421114  130           Expecting )|     MENT,\\n  `title` varchar(255) DEFAULT NULL,\\n  `create_date` timestamp NULL DEFAULT CURRENT_TIMESTAMP |T,\\n  `title` varchar(255) DEFAULT NULL,\\n  `create_date` timestamp NULL DEFAULT CURRENT_TIMESTAMP ON |  ON|UPDATE|                      CREATE TABLE `post` (\\n  `id` int(11) NOT NULL AUTO_INCREMENT,\\n  `title` varchar(255) DEFAULT NULL,\\n  `create_date` timestamp NULL DEFAULT CURRENT_TIMESTAMP ON UPDATE CURRENT_TIMESTAMP,\\n  `type` tinyint(4) DEFAULT NULL,\\n  `content` text,\\n  `image` varchar(255) DEFAULT NULL,\\n  `status` tinyint(4) DEFAULT NULL,\\n  PRIMARY KEY (`id`)\\n) ENGINE=InnoDB DEFAULT CHARSET=utf8;                                                                                                                                                                                                                                                                                                                                                                                                                 \n",
       "16230  423094  18            Expecting )|     (12) NOT NULL,\\n  `phone` char(12) DEFAULT NULL,\\n  `tm` timestamp NOT NULL DEFAULT CURRENT_TIMESTAMP |) NOT NULL,\\n  `phone` char(12) DEFAULT NULL,\\n  `tm` timestamp NOT NULL DEFAULT CURRENT_TIMESTAMP ON |  ON|UPDATE|                      CREATE TABLE `Log` (\\n  `IP` char(16) DEFAULT NULL,\\n  `MAC` char(12) NOT NULL,\\n  `phone` char(12) DEFAULT NULL,\\n  `tm` timestamp NOT NULL DEFAULT CURRENT_TIMESTAMP ON UPDATE CURRENT_TIMESTAMP,\\n  `msg` varchar(100) DEFAULT NULL\\n) ENGINE=MyISAM DEFAULT CHARSET=latin1;                                                                                                                                                                                                                                                                                                                                                                                                                                                                                                                           \n",
       "10644  421971  43            Expecting )|     ULL,\\n  `jabatan_baru` int(3) NOT NULL,\\n  `timestamp` timestamp NOT NULL DEFAULT current_timestamp() |,\\n  `jabatan_baru` int(3) NOT NULL,\\n  `timestamp` timestamp NOT NULL DEFAULT current_timestamp() ON |  ON|UPDATE|                      CREATE TABLE `tbl_log_jabatan` (\\n  `id_log_jabatan` int(11) NOT NULL AUTO_INCREMENT,\\n  `id_pegawai` int(3) NOT NULL,\\n  `jabatan_lama` int(3) NOT NULL,\\n  `jabatan_baru` int(3) NOT NULL,\\n  `timestamp` timestamp NOT NULL DEFAULT current_timestamp() ON UPDATE current_timestamp(),\\n  PRIMARY KEY (`id_log_jabatan`),\\n  KEY `pegawai` (`id_pegawai`),\\n  KEY `jabatan_lama` (`jabatan_lama`),\\n  KEY `jabatan_baru` (`jabatan_baru`),\\n  CONSTRAINT `jabatan_baru` FOREIGN KEY (`jabatan_baru`) REFERENCES `tbl_jabatan` (`id_jabatan`),\\n  CONSTRAINT `jabatan_lama` FOREIGN KEY (`jabatan_lama`) REFERENCES `tbl_jabatan` (`id_jabatan`),\\n  CONSTRAINT `pegawai` FOREIGN KEY (`id_pegawai`) REFERENCES `tbl_pegawai` (`id_pegawai`)\\n) ENGINE=InnoDB AUTO_INCREMENT=3 DEFAULT CHARSET=utf8mb4; \n",
       "18868  423778  113           Expecting )|     atus` varchar(255) COLLATE utf8_unicode_ci DEFAULT NULL,\\n  `created_at` timestamp NULL DEFAULT NULL |s` varchar(255) COLLATE utf8_unicode_ci DEFAULT NULL,\\n  `created_at` timestamp NULL DEFAULT NULL ON |    ON|UPDATE|                      CREATE TABLE `reasons` (\\n  `id` int(11) NOT NULL AUTO_INCREMENT,\\n  `title` varchar(255) COLLATE utf8_unicode_ci DEFAULT NULL,\\n  `caption` text COLLATE utf8_unicode_ci,\\n  `image` int(11) DEFAULT NULL,\\n  `status` varchar(255) COLLATE utf8_unicode_ci DEFAULT NULL,\\n  `created_at` timestamp NULL DEFAULT NULL ON UPDATE CURRENT_TIMESTAMP,\\n  `updated_at` timestamp NULL DEFAULT NULL ON UPDATE CURRENT_TIMESTAMP,\\n  `link` text COLLATE utf8_unicode_ci,\\n  `order` int(11) DEFAULT NULL,\\n  PRIMARY KEY (`id`)\\n) ENGINE=InnoDB AUTO_INCREMENT=12 DEFAULT CHARSET=utf8 COLLATE=utf8_unicode_ci;                                                                                                                                                                                              \n",
       "16625  423208  91            Expecting )|     R SET latin1 COLLATE latin1_swedish_ci NOT NULL DEFAULT 'System',\\n  `updated` timestamp(0) NOT NULL |ET latin1 COLLATE latin1_swedish_ci NOT NULL DEFAULT 'System',\\n  `updated` timestamp(0) NOT NULL ON |    ON|UPDATE|                      CREATE TABLE `hot_extra`  (\\n  `extra_id` int(11) NOT NULL AUTO_INCREMENT,\\n  `extra_name` varchar(128) CHARACTER SET latin1 COLLATE latin1_swedish_ci NOT NULL,\\n  `extra_charge` float(10, 2) NOT NULL,\\n  `created` timestamp(0) NOT NULL DEFAULT CURRENT_TIMESTAMP,\\n  `created_by` varchar(50) CHARACTER SET latin1 COLLATE latin1_swedish_ci NOT NULL DEFAULT 'System',\\n  `updated` timestamp(0) NOT NULL ON UPDATE CURRENT_TIMESTAMP(0),\\n  `updated_by` varchar(20) CHARACTER SET latin1 COLLATE latin1_swedish_ci NOT NULL DEFAULT 'System',\\n  `is_active` tinyint(1) NOT NULL DEFAULT 1,\\n  `is_deleted` tinyint(1) NOT NULL DEFAULT 0,\\n  PRIMARY KEY (`extra_id`) USING BTREE\\n) ENGINE = InnoDB AUTO_INCREMENT = 3 CHARACTER SET = latin1 COLLATE = latin1_swedish_ci ROW_FORMAT = Compact;"
      ]
     },
     "execution_count": 112,
     "metadata": {},
     "output_type": "execute_result"
    }
   ],
   "source": [
    "on_update_check.sample(frac=0.5).head()"
   ]
  },
  {
   "attachments": {},
   "cell_type": "markdown",
   "metadata": {
    "pycharm": {
     "name": "#%% md\n"
    }
   },
   "source": [
    "### writing down again smaller subset of errs and recalculating errors for hashtag"
   ]
  },
  {
   "cell_type": "code",
   "execution_count": 140,
   "metadata": {
    "pycharm": {
     "name": "#%%\n"
    }
   },
   "outputs": [],
   "source": [
    "no_on_pdate = no_empty[\n",
    "   ~((no_empty.good_file_parse_error_highlight == 'ON|UPDATE|') &\n",
    "    (no_empty.good_file_parse_error_start_context.str.contains('timestamp',case=False,regex=False))\n",
    "   )\n",
    "]\n",
    "#print(get_stmt_and_file_count(no_on_pdate))\n",
    "#dot_check.sample(frac=0.1).head()"
   ]
  },
  {
   "cell_type": "code",
   "execution_count": 141,
   "metadata": {
    "pycharm": {
     "name": "#%%\n"
    }
   },
   "outputs": [],
   "source": [
    "import sqlglot\n",
    "def get_good2_error_1(row):\n",
    "    parsed_statements = None\n",
    "    _dialect = None\n",
    "    if row['good_file_parse_error_highlight'] == '#|':\n",
    "        _dialect = \"mysql\"\n",
    "\n",
    "    if \"TIMEOUT_ERROR\" in row['good_parse_error']:\n",
    "        _dialect = None\n",
    "\n",
    "    if _dialect is not None:\n",
    "        _result = {}\n",
    "        try:\n",
    "            parsed_statements = sqlglot.parse(row['original'],read=_dialect,error_level=sqlglot.ErrorLevel.RAISE)\n",
    "        except sqlglot.errors.ParseError as e:\n",
    "            _result[\"parse_error\"] = ''\n",
    "            _result[\"file_parse_error_start_context\"] = ''\n",
    "            _result[\"file_parse_error_highlight\"] = ''\n",
    "            for idx, err in enumerate(e.errors):\n",
    "                if idx > 0:\n",
    "                    if err['highlight'] != e.errors[idx-1]['highlight']:\n",
    "                        _result[\"file_parse_error_start_context\"] += err['start_context'][0:200] + '|'\n",
    "                        _result[\"file_parse_error_highlight\"] += err['highlight'][0:200] + '|'\n",
    "                    else:\n",
    "                        _result[\"parse_error\"] += err['description'][0:200] + '|'\n",
    "                else:\n",
    "                    _result[\"parse_error\"] += err['description'][0:200] + '|'\n",
    "                    \n",
    "                    _result[\"file_parse_error_start_context\"] += err['start_context'][0:200] + '|'\n",
    "                    _result[\"file_parse_error_highlight\"] += err['highlight'][0:200] + '|'\n",
    "\n",
    "            _result[\"parse_error\"] = _result[\"parse_error\"][0:600]\n",
    "            _result[\"file_parse_error_start_context\"] = _result[\"file_parse_error_start_context\"][0:400]\n",
    "            _result[\"file_parse_error_highlight\"] = _result[\"file_parse_error_highlight\"][0:200]\n",
    "        except Exception as e:\n",
    "            _result['parse_error'] = 'NON_PARSER_ERROR|' + str(e)[0:300]\n",
    "            _result['file_parse_error_start_context'] = ''\n",
    "            _result['file_parse_error_highlight'] = ''\n",
    "    else:\n",
    "        _result = {}\n",
    "        _result[\"parse_error\"] = row['good_parse_error']\n",
    "        _result[\"file_parse_error_start_context\"] = row['good_file_parse_error_start_context']\n",
    "        _result[\"file_parse_error_highlight\"] = row['good_file_parse_error_highlight']\n",
    "    \n",
    "    return _result[\"parse_error\"]\n",
    "\n",
    "def get_good2_error_2(row):\n",
    "    parsed_statements = None\n",
    "    _dialect = None\n",
    "    if row['good_file_parse_error_highlight'] == '#|':\n",
    "        _dialect = \"mysql\"\n",
    "\n",
    "    if \"TIMEOUT_ERROR\" in row['good_parse_error']:\n",
    "        _dialect = None\n",
    "\n",
    "    if _dialect is not None:\n",
    "        _result = {}\n",
    "        try:\n",
    "            parsed_statements = sqlglot.parse(row['original'],read=_dialect,error_level=sqlglot.ErrorLevel.RAISE)\n",
    "        except sqlglot.errors.ParseError as e:\n",
    "            _result[\"parse_error\"] = ''\n",
    "            _result[\"file_parse_error_start_context\"] = ''\n",
    "            _result[\"file_parse_error_highlight\"] = ''\n",
    "            for idx, err in enumerate(e.errors):\n",
    "                if idx > 0:\n",
    "                    if err['highlight'] != e.errors[idx-1]['highlight']:\n",
    "                        _result[\"file_parse_error_start_context\"] += err['start_context'][0:200] + '|'\n",
    "                        _result[\"file_parse_error_highlight\"] += err['highlight'][0:200] + '|'\n",
    "                    else:\n",
    "                        _result[\"parse_error\"] += err['description'][0:200] + '|'\n",
    "                else:\n",
    "                    _result[\"parse_error\"] += err['description'][0:200] + '|'\n",
    "                    \n",
    "                    _result[\"file_parse_error_start_context\"] += err['start_context'][0:200] + '|'\n",
    "                    _result[\"file_parse_error_highlight\"] += err['highlight'][0:200] + '|'\n",
    "\n",
    "            _result[\"parse_error\"] = _result[\"parse_error\"][0:600]\n",
    "            _result[\"file_parse_error_start_context\"] = _result[\"file_parse_error_start_context\"][0:400]\n",
    "            _result[\"file_parse_error_highlight\"] = _result[\"file_parse_error_highlight\"][0:200]\n",
    "        except Exception as e:\n",
    "            _result['parse_error'] = 'NON_PARSER_ERROR|' + str(e)[0:300]\n",
    "            _result['file_parse_error_start_context'] = ''\n",
    "            _result['file_parse_error_highlight'] = ''\n",
    "    else:\n",
    "        _result = {}\n",
    "        _result[\"parse_error\"] = row['good_parse_error']\n",
    "        _result[\"file_parse_error_start_context\"] = row['good_file_parse_error_start_context']\n",
    "        _result[\"file_parse_error_highlight\"] = row['good_file_parse_error_highlight']\n",
    "    \n",
    "    return _result[\"file_parse_error_start_context\"]\n",
    "\n",
    "def get_good2_error_3(row):\n",
    "    parsed_statements = None\n",
    "    _dialect = None\n",
    "    if row['good_file_parse_error_highlight'] == '#|':\n",
    "        _dialect = \"mysql\"\n",
    "\n",
    "    if \"TIMEOUT_ERROR\" in row['good_parse_error']:\n",
    "        _dialect = None\n",
    "\n",
    "    if _dialect is not None:\n",
    "        _result = {}\n",
    "        try:\n",
    "            parsed_statements = sqlglot.parse(row['original'],read=_dialect,error_level=sqlglot.ErrorLevel.RAISE)\n",
    "        except sqlglot.errors.ParseError as e:\n",
    "            _result[\"parse_error\"] = ''\n",
    "            _result[\"file_parse_error_start_context\"] = ''\n",
    "            _result[\"file_parse_error_highlight\"] = ''\n",
    "            for idx, err in enumerate(e.errors):\n",
    "                if idx > 0:\n",
    "                    if err['highlight'] != e.errors[idx-1]['highlight']:\n",
    "                        _result[\"file_parse_error_start_context\"] += err['start_context'][0:200] + '|'\n",
    "                        _result[\"file_parse_error_highlight\"] += err['highlight'][0:200] + '|'\n",
    "                    else:\n",
    "                        _result[\"parse_error\"] += err['description'][0:200] + '|'\n",
    "                else:\n",
    "                    _result[\"parse_error\"] += err['description'][0:200] + '|'\n",
    "                    \n",
    "                    _result[\"file_parse_error_start_context\"] += err['start_context'][0:200] + '|'\n",
    "                    _result[\"file_parse_error_highlight\"] += err['highlight'][0:200] + '|'\n",
    "\n",
    "            _result[\"parse_error\"] = _result[\"parse_error\"][0:600]\n",
    "            _result[\"file_parse_error_start_context\"] = _result[\"file_parse_error_start_context\"][0:400]\n",
    "            _result[\"file_parse_error_highlight\"] = _result[\"file_parse_error_highlight\"][0:200]\n",
    "        except Exception as e:\n",
    "            _result['parse_error'] = 'NON_PARSER_ERROR|' + str(e)[0:300]\n",
    "            _result['file_parse_error_start_context'] = ''\n",
    "            _result['file_parse_error_highlight'] = ''\n",
    "    else:\n",
    "        _result = {}\n",
    "        _result[\"parse_error\"] = row['good_parse_error']\n",
    "        _result[\"file_parse_error_start_context\"] = row['good_file_parse_error_start_context']\n",
    "        _result[\"file_parse_error_highlight\"] = row['good_file_parse_error_highlight']\n",
    "    \n",
    "    return _result[\"file_parse_error_highlight\"]"
   ]
  },
  {
   "cell_type": "code",
   "execution_count": 142,
   "metadata": {
    "pycharm": {
     "name": "#%%\n"
    }
   },
   "outputs": [],
   "source": [
    "no_on_pdate['good2_parse_error'] = no_on_pdate.apply(\n",
    "    get_good2_error_1,\n",
    "    axis=1,\n",
    "    meta=('good2_parse_error', 'string')\n",
    ")\n",
    "\n",
    "no_on_pdate['good2_file_parse_error_start_context'] = no_on_pdate.apply(\n",
    "    get_good2_error_2,\n",
    "    axis=1,\n",
    "    meta=('good2_file_parse_error_start_context', 'string')\n",
    ")\n",
    "\n",
    "no_on_pdate['good2_file_parse_error_highlight'] = no_on_pdate.apply(\n",
    "    get_good2_error_3,\n",
    "    axis=1,\n",
    "    meta=('good2_file_parse_error_highlight', 'string')\n",
    ")"
   ]
  },
  {
   "cell_type": "code",
   "execution_count": 145,
   "metadata": {
    "pycharm": {
     "name": "#%%\n"
    }
   },
   "outputs": [],
   "source": [
    "no_on_pdate = no_on_pdate[['file_id','statement_id','good2_parse_error',\n",
    "                          'good2_file_parse_error_start_context',\n",
    "                          'good2_file_parse_error_highlight',\n",
    "                          'original']]"
   ]
  },
  {
   "cell_type": "code",
   "execution_count": 147,
   "metadata": {
    "pycharm": {
     "name": "#%%\n"
    }
   },
   "outputs": [],
   "source": [
    "not_parsed_new_schema = pa.schema([])\n",
    "not_parsed_new_schema = not_parsed_new_schema.append(pa.field(\"file_id\",pa.string()))\n",
    "not_parsed_new_schema = not_parsed_new_schema.append(pa.field(\"statement_id\",pa.int64()))\n",
    "not_parsed_new_schema = not_parsed_new_schema.append(pa.field(\"good2_parse_error\",pa.string()))\n",
    "not_parsed_new_schema = not_parsed_new_schema.append(pa.field(\"good2_file_parse_error_start_context\",pa.string()))\n",
    "not_parsed_new_schema = not_parsed_new_schema.append(pa.field(\"good2_file_parse_error_highlight\",pa.string()))\n",
    "not_parsed_new_schema = not_parsed_new_schema.append(pa.field(\"original\",pa.string()))"
   ]
  },
  {
   "cell_type": "code",
   "execution_count": 148,
   "metadata": {
    "pycharm": {
     "name": "#%%\n"
    }
   },
   "outputs": [
    {
     "name": "stdout",
     "output_type": "stream",
     "text": [
      "[########################################] | 100% Completed | 227.06 s\n"
     ]
    }
   ],
   "source": [
    "#no_on_pdate.to_parquet('../out_new/sqlglot_unparsed_stmts_only_good_errors_smaller_subset/',schema=not_parsed_new_schema,overwrite=True,\n",
    "compute_kwargs={'scheduler':'processes'})"
   ]
  },
  {
   "attachments": {},
   "cell_type": "markdown",
   "metadata": {
    "pycharm": {
     "name": "#%% md\n"
    }
   },
   "source": [
    "## Reading smaller subset of errors after going through some (from 3.65 mil to 2 mil)"
   ]
  },
  {
   "attachments": {},
   "cell_type": "markdown",
   "metadata": {
    "pycharm": {
     "name": "#%% md\n"
    }
   },
   "source": [
    "### Read and Prep"
   ]
  },
  {
   "cell_type": "code",
   "execution_count": 149,
   "metadata": {
    "pycharm": {
     "name": "#%%\n"
    }
   },
   "outputs": [],
   "source": [
    "not_parsed_new_schema = pa.schema([])\n",
    "not_parsed_new_schema = not_parsed_new_schema.append(pa.field(\"file_id\",pa.string()))\n",
    "not_parsed_new_schema = not_parsed_new_schema.append(pa.field(\"statement_id\",pa.int64()))\n",
    "not_parsed_new_schema = not_parsed_new_schema.append(pa.field(\"good2_parse_error\",pa.string()))\n",
    "not_parsed_new_schema = not_parsed_new_schema.append(pa.field(\"good2_file_parse_error_start_context\",pa.string()))\n",
    "not_parsed_new_schema = not_parsed_new_schema.append(pa.field(\"good2_file_parse_error_highlight\",pa.string()))\n",
    "not_parsed_new_schema = not_parsed_new_schema.append(pa.field(\"original\",pa.string()))\n",
    "not_parsed_smaller = dd.read_parquet('../out_new/sqlglot_unparsed_stmts_only_good_errors_smaller_subset/', columns = not_parsed_new_schema.names ,schema=not_parsed_new_schema, split_row_groups=True, calculate_divisions=True,engine='pyarrow')"
   ]
  },
  {
   "cell_type": "code",
   "execution_count": 150,
   "metadata": {
    "pycharm": {
     "name": "#%%\n"
    }
   },
   "outputs": [],
   "source": [
    "def get_stmt_and_file_count(dask_df):\n",
    "    x = dask_df['file_id'].nunique().compute(scheduler='processes')\n",
    "    y = dask_df['file_id'].count().compute(scheduler='processes')\n",
    "    return y,x"
   ]
  },
  {
   "attachments": {},
   "cell_type": "markdown",
   "metadata": {
    "pycharm": {
     "name": "#%% md\n"
    }
   },
   "source": [
    "### Err counts"
   ]
  },
  {
   "cell_type": "code",
   "execution_count": 217,
   "metadata": {
    "pycharm": {
     "name": "#%%\n"
    }
   },
   "outputs": [
    {
     "name": "stdout",
     "output_type": "stream",
     "text": [
      "[########################################] | 100% Completed | 23.42 s\n"
     ]
    },
    {
     "data": {
      "text/html": [
       "<div>\n",
       "<style scoped>\n",
       "    .dataframe tbody tr th:only-of-type {\n",
       "        vertical-align: middle;\n",
       "    }\n",
       "\n",
       "    .dataframe tbody tr th {\n",
       "        vertical-align: top;\n",
       "    }\n",
       "\n",
       "    .dataframe thead th {\n",
       "        text-align: right;\n",
       "    }\n",
       "</style>\n",
       "<table border=\"1\" class=\"dataframe\">\n",
       "  <thead>\n",
       "    <tr style=\"text-align: right;\">\n",
       "      <th></th>\n",
       "      <th>err</th>\n",
       "      <th>cnt</th>\n",
       "    </tr>\n",
       "  </thead>\n",
       "  <tbody>\n",
       "    <tr>\n",
       "      <th>0</th>\n",
       "      <td>INTO|</td>\n",
       "      <td>21149</td>\n",
       "    </tr>\n",
       "    <tr>\n",
       "      <th>1</th>\n",
       "      <td>ALTER|</td>\n",
       "      <td>20589</td>\n",
       "    </tr>\n",
       "    <tr>\n",
       "      <th>2</th>\n",
       "      <td>\\|</td>\n",
       "      <td>19159</td>\n",
       "    </tr>\n",
       "    <tr>\n",
       "      <th>3</th>\n",
       "      <td>restrict|</td>\n",
       "      <td>18421</td>\n",
       "    </tr>\n",
       "    <tr>\n",
       "      <th>4</th>\n",
       "      <td>CREATE|</td>\n",
       "      <td>15951</td>\n",
       "    </tr>\n",
       "    <tr>\n",
       "      <th>5</th>\n",
       "      <td>RESTRICT|</td>\n",
       "      <td>14395</td>\n",
       "    </tr>\n",
       "    <tr>\n",
       "      <th>6</th>\n",
       "      <td>OBJECT_ID|</td>\n",
       "      <td>13688</td>\n",
       "    </tr>\n",
       "    <tr>\n",
       "      <th>7</th>\n",
       "      <td>CONSTRAINTS|</td>\n",
       "      <td>13435</td>\n",
       "    </tr>\n",
       "    <tr>\n",
       "      <th>8</th>\n",
       "      <td>DROP|</td>\n",
       "      <td>13330</td>\n",
       "    </tr>\n",
       "    <tr>\n",
       "      <th>9</th>\n",
       "      <td>drop|</td>\n",
       "      <td>13108</td>\n",
       "    </tr>\n",
       "    <tr>\n",
       "      <th>10</th>\n",
       "      <td>ENABLE|</td>\n",
       "      <td>12105</td>\n",
       "    </tr>\n",
       "    <tr>\n",
       "      <th>11</th>\n",
       "      <td>constraints|</td>\n",
       "      <td>12043</td>\n",
       "    </tr>\n",
       "    <tr>\n",
       "      <th>12</th>\n",
       "      <td>,|</td>\n",
       "      <td>11822</td>\n",
       "    </tr>\n",
       "    <tr>\n",
       "      <th>13</th>\n",
       "      <td>IF|</td>\n",
       "      <td>10577</td>\n",
       "    </tr>\n",
       "    <tr>\n",
       "      <th>14</th>\n",
       "      <td>BYTE|</td>\n",
       "      <td>10265</td>\n",
       "    </tr>\n",
       "    <tr>\n",
       "      <th>15</th>\n",
       "      <td>INDEX|ASC|</td>\n",
       "      <td>9211</td>\n",
       "    </tr>\n",
       "    <tr>\n",
       "      <th>16</th>\n",
       "      <td>=|</td>\n",
       "      <td>9163</td>\n",
       "    </tr>\n",
       "    <tr>\n",
       "      <th>17</th>\n",
       "      <td>ENUM|</td>\n",
       "      <td>8943</td>\n",
       "    </tr>\n",
       "    <tr>\n",
       "      <th>18</th>\n",
       "      <td>ON|</td>\n",
       "      <td>8485</td>\n",
       "    </tr>\n",
       "    <tr>\n",
       "      <th>19</th>\n",
       "      <td>sp_addextendedproperty|</td>\n",
       "      <td>8263</td>\n",
       "    </tr>\n",
       "    <tr>\n",
       "      <th>20</th>\n",
       "      <td>SERIAL|</td>\n",
       "      <td>7944</td>\n",
       "    </tr>\n",
       "    <tr>\n",
       "      <th>21</th>\n",
       "      <td>value|</td>\n",
       "      <td>7611</td>\n",
       "    </tr>\n",
       "    <tr>\n",
       "      <th>22</th>\n",
       "      <td>INSERT|</td>\n",
       "      <td>7321</td>\n",
       "    </tr>\n",
       "    <tr>\n",
       "      <th>23</th>\n",
       "      <td>longblob|</td>\n",
       "      <td>7095</td>\n",
       "    </tr>\n",
       "    <tr>\n",
       "      <th>24</th>\n",
       "      <td>.|</td>\n",
       "      <td>7019</td>\n",
       "    </tr>\n",
       "    <tr>\n",
       "      <th>25</th>\n",
       "      <td>into|</td>\n",
       "      <td>6691</td>\n",
       "    </tr>\n",
       "    <tr>\n",
       "      <th>26</th>\n",
       "      <td>VALUE|</td>\n",
       "      <td>6480</td>\n",
       "    </tr>\n",
       "    <tr>\n",
       "      <th>27</th>\n",
       "      <td>NOT|</td>\n",
       "      <td>6402</td>\n",
       "    </tr>\n",
       "    <tr>\n",
       "      <th>28</th>\n",
       "      <td>SET|</td>\n",
       "      <td>6369</td>\n",
       "    </tr>\n",
       "    <tr>\n",
       "      <th>29</th>\n",
       "      <td>sers`|</td>\n",
       "      <td>6350</td>\n",
       "    </tr>\n",
       "  </tbody>\n",
       "</table>\n",
       "</div>"
      ],
      "text/plain": [
       "                        err    cnt\n",
       "0   INTO|                    21149\n",
       "1   ALTER|                   20589\n",
       "2   \\|                       19159\n",
       "3   restrict|                18421\n",
       "4   CREATE|                  15951\n",
       "5   RESTRICT|                14395\n",
       "6   OBJECT_ID|               13688\n",
       "7   CONSTRAINTS|             13435\n",
       "8   DROP|                    13330\n",
       "9   drop|                    13108\n",
       "10  ENABLE|                  12105\n",
       "11  constraints|             12043\n",
       "12  ,|                       11822\n",
       "13  IF|                      10577\n",
       "14  BYTE|                    10265\n",
       "15  INDEX|ASC|               9211 \n",
       "16  =|                       9163 \n",
       "17  ENUM|                    8943 \n",
       "18  ON|                      8485 \n",
       "19  sp_addextendedproperty|  8263 \n",
       "20  SERIAL|                  7944 \n",
       "21  value|                   7611 \n",
       "22  INSERT|                  7321 \n",
       "23  longblob|                7095 \n",
       "24  .|                       7019 \n",
       "25  into|                    6691 \n",
       "26  VALUE|                   6480 \n",
       "27  NOT|                     6402 \n",
       "28  SET|                     6369 \n",
       "29  sers`|                   6350 "
      ]
     },
     "execution_count": 217,
     "metadata": {},
     "output_type": "execute_result"
    }
   ],
   "source": [
    "errcounts = no_install_thing['good2_file_parse_error_highlight'].value_counts().compute(scheduler='processes')\n",
    "err_df = pd.DataFrame({'err':errcounts.index, 'cnt':errcounts.values})\n",
    "err_df.head(30)"
   ]
  },
  {
   "attachments": {},
   "cell_type": "markdown",
   "metadata": {
    "pycharm": {
     "name": "#%% md\n"
    }
   },
   "source": [
    "### ASC"
   ]
  },
  {
   "cell_type": "code",
   "execution_count": 154,
   "metadata": {
    "pycharm": {
     "name": "#%%\n"
    }
   },
   "outputs": [
    {
     "name": "stdout",
     "output_type": "stream",
     "text": [
      "[########################################] | 100% Completed | 6.93 ss\n",
      "[########################################] | 100% Completed | 7.15 ss\n",
      "(49058, 12778)\n"
     ]
    }
   ],
   "source": [
    "asc_check = not_parsed_smaller[\n",
    "   (not_parsed_smaller.good2_file_parse_error_highlight.str.upper() == 'ASC|') &\n",
    "   ((not_parsed_smaller.original.str.contains('INDEX',case=False,regex=False)) |\n",
    "   (not_parsed_smaller.original.str.contains('CONSTRAINT',case=False,regex=False)))\n",
    "]\n",
    "print(get_stmt_and_file_count(asc_check))\n",
    "#dot_check.sample(frac=0.6).head()"
   ]
  },
  {
   "cell_type": "code",
   "execution_count": 153,
   "metadata": {
    "pycharm": {
     "name": "#%%\n"
    }
   },
   "outputs": [
    {
     "name": "stdout",
     "output_type": "stream",
     "text": [
      "[########################################] | 100% Completed | 248.14 ms\n"
     ]
    },
    {
     "data": {
      "text/html": [
       "<div>\n",
       "<style scoped>\n",
       "    .dataframe tbody tr th:only-of-type {\n",
       "        vertical-align: middle;\n",
       "    }\n",
       "\n",
       "    .dataframe tbody tr th {\n",
       "        vertical-align: top;\n",
       "    }\n",
       "\n",
       "    .dataframe thead th {\n",
       "        text-align: right;\n",
       "    }\n",
       "</style>\n",
       "<table border=\"1\" class=\"dataframe\">\n",
       "  <thead>\n",
       "    <tr style=\"text-align: right;\">\n",
       "      <th></th>\n",
       "      <th>file_id</th>\n",
       "      <th>statement_id</th>\n",
       "      <th>good2_parse_error</th>\n",
       "      <th>good2_file_parse_error_start_context</th>\n",
       "      <th>good2_file_parse_error_highlight</th>\n",
       "      <th>original</th>\n",
       "    </tr>\n",
       "  </thead>\n",
       "  <tbody>\n",
       "    <tr>\n",
       "      <th>2140</th>\n",
       "      <td>420653</td>\n",
       "      <td>0</td>\n",
       "      <td>Expecting )|Expecting )|Invalid expression / Unexpected token|</td>\n",
       "      <td>erID] INT            NULL,\\n    CONSTRAINT [PK_TitleVariant] PRIMARY KEY CLUSTERED ([TitleVariantID] |</td>\n",
       "      <td>ASC|</td>\n",
       "      <td>CREATE TABLE [dbo].[TitleVariant] (\\n    [TitleVariantID]     INT            IDENTITY (1, 1) NOT NULL,\\n    [TitleID]            INT            NOT NULL,\\n    [TitleVariantTypeID] INT            NOT NULL,\\n    [Title]              NVARCHAR (MAX) CONSTRAINT [DF_TitleVariant_Title] DEFAULT ('') NOT NULL,\\n    [TitleRemainder]     NVARCHAR (MAX) CONSTRAINT [DF_TitleVariant_TitleRemainder] DEFAULT ('') NOT NULL,\\n    [PartNumber]         NVARCHAR (255) CONSTRAINT [DF_TitleVariant_PartNumber] DEFAULT ('') NOT NULL,\\n    [PartName]           NVARCHAR (255) CONSTRAINT [DF_TitleVariant_PartName] DEFAULT ('') NOT NULL,\\n    [CreationDate]       DATETIME       CONSTRAINT [DF_TitleVariant_CreationDate] DEFAULT (getdate()) NOT NULL,\\n    [LastModifiedDate]   DATETIME       CONSTRAINT [DF_TitleVariant_LastModifiedDate] DEFAULT (getdate()) NOT NULL,\\n    [CreationUserID]     INT            NULL,\\n    [LastModifiedUserID] INT            NULL,\\n    CONSTRAINT [PK_TitleVariant] PRIMARY KEY CLUSTERED ([TitleVariantID] ASC),\\n    CONSTRAINT [FK_TitleVariant_Title] FOREIGN KEY ([TitleID]) REFERENCES [dbo].[Title] ([TitleID]),\\n    CONSTRAINT [FK_TitleVariant_TitleVariantType] FOREIGN KEY ([TitleVariantTypeID]) REFERENCES [dbo].[TitleVariantType] ([TitleVariantTypeID])\\n);</td>\n",
       "    </tr>\n",
       "    <tr>\n",
       "      <th>6882</th>\n",
       "      <td>422636</td>\n",
       "      <td>322</td>\n",
       "      <td>Expecting )|Invalid expression / Unexpected token|</td>\n",
       "      <td>================*/\\ncreate index RELATIONSHIP_169_FK on DM_FACTCASEPARTICIPANT (\\n   ACTIVEENDDATEKEY |</td>\n",
       "      <td>ASC|</td>\n",
       "      <td>/*==============================================================*/\\n/* Index: RELATIONSHIP_169_FK                                   */\\n/*==============================================================*/\\ncreate index RELATIONSHIP_169_FK on DM_FACTCASEPARTICIPANT (\\n   ACTIVEENDDATEKEY ASC\\n);</td>\n",
       "    </tr>\n",
       "    <tr>\n",
       "      <th>6948</th>\n",
       "      <td>422636</td>\n",
       "      <td>401</td>\n",
       "      <td>Expecting )|Invalid expression / Unexpected token|</td>\n",
       "      <td>===============*/\\ncreate index RELATIONSHIP_151_FK on DM_FACTPRODUCTAWARDRECIPIENT (\\n   AGEGROUPKEY |</td>\n",
       "      <td>ASC|</td>\n",
       "      <td>/*==============================================================*/\\n/* Index: RELATIONSHIP_151_FK                                   */\\n/*==============================================================*/\\ncreate index RELATIONSHIP_151_FK on DM_FACTPRODUCTAWARDRECIPIENT (\\n   AGEGROUPKEY ASC\\n);</td>\n",
       "    </tr>\n",
       "    <tr>\n",
       "      <th>14754</th>\n",
       "      <td>425463</td>\n",
       "      <td>38</td>\n",
       "      <td>Expecting )|Invalid expression / Unexpected token|</td>\n",
       "      <td>CREATE INDEX ADT_MGMT_PROV_ID_X ON AUDIT_MGMT_PROVISIONING (EVENT_ID |</td>\n",
       "      <td>ASC|</td>\n",
       "      <td>CREATE INDEX ADT_MGMT_PROV_ID_X ON AUDIT_MGMT_PROVISIONING (EVENT_ID ASC) MINPCTUSED 10 ALLOW REVERSE SCANS;</td>\n",
       "    </tr>\n",
       "    <tr>\n",
       "      <th>11809</th>\n",
       "      <td>424486</td>\n",
       "      <td>68</td>\n",
       "      <td>Expecting )|Invalid expression / Unexpected token|</td>\n",
       "      <td>CREATE INDEX idx_sys_company_ts ON sys_company (tree_sort |</td>\n",
       "      <td>ASC|</td>\n",
       "      <td>CREATE INDEX idx_sys_company_ts ON sys_company (tree_sort ASC);</td>\n",
       "    </tr>\n",
       "  </tbody>\n",
       "</table>\n",
       "</div>"
      ],
      "text/plain": [
       "      file_id  statement_id                                               good2_parse_error                                                                     good2_file_parse_error_start_context good2_file_parse_error_highlight                                                                                                                                                                                                                                                                                                                                                                                                                                                                                                                                                                                                                                                                                                                                                                                                                                                                                                                                                                                                                                                                                                                                                                                                                                                                                                                  original\n",
       "2140   420653  0             Expecting )|Expecting )|Invalid expression / Unexpected token|  erID] INT            NULL,\\n    CONSTRAINT [PK_TitleVariant] PRIMARY KEY CLUSTERED ([TitleVariantID] |   ASC|                             CREATE TABLE [dbo].[TitleVariant] (\\n    [TitleVariantID]     INT            IDENTITY (1, 1) NOT NULL,\\n    [TitleID]            INT            NOT NULL,\\n    [TitleVariantTypeID] INT            NOT NULL,\\n    [Title]              NVARCHAR (MAX) CONSTRAINT [DF_TitleVariant_Title] DEFAULT ('') NOT NULL,\\n    [TitleRemainder]     NVARCHAR (MAX) CONSTRAINT [DF_TitleVariant_TitleRemainder] DEFAULT ('') NOT NULL,\\n    [PartNumber]         NVARCHAR (255) CONSTRAINT [DF_TitleVariant_PartNumber] DEFAULT ('') NOT NULL,\\n    [PartName]           NVARCHAR (255) CONSTRAINT [DF_TitleVariant_PartName] DEFAULT ('') NOT NULL,\\n    [CreationDate]       DATETIME       CONSTRAINT [DF_TitleVariant_CreationDate] DEFAULT (getdate()) NOT NULL,\\n    [LastModifiedDate]   DATETIME       CONSTRAINT [DF_TitleVariant_LastModifiedDate] DEFAULT (getdate()) NOT NULL,\\n    [CreationUserID]     INT            NULL,\\n    [LastModifiedUserID] INT            NULL,\\n    CONSTRAINT [PK_TitleVariant] PRIMARY KEY CLUSTERED ([TitleVariantID] ASC),\\n    CONSTRAINT [FK_TitleVariant_Title] FOREIGN KEY ([TitleID]) REFERENCES [dbo].[Title] ([TitleID]),\\n    CONSTRAINT [FK_TitleVariant_TitleVariantType] FOREIGN KEY ([TitleVariantTypeID]) REFERENCES [dbo].[TitleVariantType] ([TitleVariantTypeID])\\n);\n",
       "6882   422636  322           Expecting )|Invalid expression / Unexpected token|              ================*/\\ncreate index RELATIONSHIP_169_FK on DM_FACTCASEPARTICIPANT (\\n   ACTIVEENDDATEKEY |  ASC|                             /*==============================================================*/\\n/* Index: RELATIONSHIP_169_FK                                   */\\n/*==============================================================*/\\ncreate index RELATIONSHIP_169_FK on DM_FACTCASEPARTICIPANT (\\n   ACTIVEENDDATEKEY ASC\\n);                                                                                                                                                                                                                                                                                                                                                                                                                                                                                                                                                                                                                                                                                                                                                                                                                                                                                                                                                                                                                   \n",
       "6948   422636  401           Expecting )|Invalid expression / Unexpected token|              ===============*/\\ncreate index RELATIONSHIP_151_FK on DM_FACTPRODUCTAWARDRECIPIENT (\\n   AGEGROUPKEY |  ASC|                             /*==============================================================*/\\n/* Index: RELATIONSHIP_151_FK                                   */\\n/*==============================================================*/\\ncreate index RELATIONSHIP_151_FK on DM_FACTPRODUCTAWARDRECIPIENT (\\n   AGEGROUPKEY ASC\\n);                                                                                                                                                                                                                                                                                                                                                                                                                                                                                                                                                                                                                                                                                                                                                                                                                                                                                                                                                                                                                  \n",
       "14754  425463  38            Expecting )|Invalid expression / Unexpected token|              CREATE INDEX ADT_MGMT_PROV_ID_X ON AUDIT_MGMT_PROVISIONING (EVENT_ID |                                   ASC|                             CREATE INDEX ADT_MGMT_PROV_ID_X ON AUDIT_MGMT_PROVISIONING (EVENT_ID ASC) MINPCTUSED 10 ALLOW REVERSE SCANS;                                                                                                                                                                                                                                                                                                                                                                                                                                                                                                                                                                                                                                                                                                                                                                                                                                                                                                                                                                                                                                                                                                                                                                                                            \n",
       "11809  424486  68            Expecting )|Invalid expression / Unexpected token|              CREATE INDEX idx_sys_company_ts ON sys_company (tree_sort |                                              ASC|                             CREATE INDEX idx_sys_company_ts ON sys_company (tree_sort ASC);                                                                                                                                                                                                                                                                                                                                                                                                                                                                                                                                                                                                                                                                                                                                                                                                                                                                                                                                                                                                                                                                                                                                                                                                                                                         "
      ]
     },
     "execution_count": 153,
     "metadata": {},
     "output_type": "execute_result"
    }
   ],
   "source": [
    "asc_check.sample(frac=0.6).head()"
   ]
  },
  {
   "attachments": {},
   "cell_type": "markdown",
   "metadata": {
    "pycharm": {
     "name": "#%% md\n"
    }
   },
   "source": [
    "### USING"
   ]
  },
  {
   "cell_type": "code",
   "execution_count": 158,
   "metadata": {
    "pycharm": {
     "name": "#%%\n"
    }
   },
   "outputs": [
    {
     "name": "stdout",
     "output_type": "stream",
     "text": [
      "[########################################] | 100% Completed | 10.10 s\n",
      "[########################################] | 100% Completed | 10.15 s\n",
      "(107498, 13044)\n"
     ]
    }
   ],
   "source": [
    "no_asc = not_parsed_smaller[\n",
    "   ~((not_parsed_smaller.good2_file_parse_error_highlight.str.upper() == 'ASC|') &\n",
    "   ((not_parsed_smaller.original.str.contains('INDEX',case=False,regex=False)) |\n",
    "   (not_parsed_smaller.original.str.contains('CONSTRAINT',case=False,regex=False))))\n",
    "]\n",
    "\n",
    "using_check = no_asc[\n",
    "    (no_asc.good2_file_parse_error_highlight.str.contains('USING',case=False,regex=False)) &\n",
    "    ((no_asc.original.str.contains('BTREE',case=False,regex=False)) |\n",
    "    ((no_asc.original.str.contains('INDEX',case=False,regex=False))))\n",
    "]\n",
    "print(get_stmt_and_file_count(using_check))\n",
    "#dot_check.sample(frac=0.6).head()"
   ]
  },
  {
   "cell_type": "code",
   "execution_count": 157,
   "metadata": {
    "pycharm": {
     "name": "#%%\n"
    }
   },
   "outputs": [
    {
     "name": "stdout",
     "output_type": "stream",
     "text": [
      "[########################################] | 100% Completed | 317.77 ms\n"
     ]
    },
    {
     "data": {
      "text/html": [
       "<div>\n",
       "<style scoped>\n",
       "    .dataframe tbody tr th:only-of-type {\n",
       "        vertical-align: middle;\n",
       "    }\n",
       "\n",
       "    .dataframe tbody tr th {\n",
       "        vertical-align: top;\n",
       "    }\n",
       "\n",
       "    .dataframe thead th {\n",
       "        text-align: right;\n",
       "    }\n",
       "</style>\n",
       "<table border=\"1\" class=\"dataframe\">\n",
       "  <thead>\n",
       "    <tr style=\"text-align: right;\">\n",
       "      <th></th>\n",
       "      <th>file_id</th>\n",
       "      <th>statement_id</th>\n",
       "      <th>good2_parse_error</th>\n",
       "      <th>good2_file_parse_error_start_context</th>\n",
       "      <th>good2_file_parse_error_highlight</th>\n",
       "      <th>original</th>\n",
       "    </tr>\n",
       "  </thead>\n",
       "  <tbody>\n",
       "    <tr>\n",
       "      <th>8785</th>\n",
       "      <td>423134</td>\n",
       "      <td>322</td>\n",
       "      <td>Invalid expression / Unexpected token|</td>\n",
       "      <td>: INDEX; Schema: public; Owner: root\\n--\\n\\nCREATE INDEX django_admin_log_417f1b1c ON django_admin_log |</td>\n",
       "      <td>USING|</td>\n",
       "      <td>--\\n-- Name: django_admin_log_417f1b1c; Type: INDEX; Schema: public; Owner: root\\n--\\n\\nCREATE INDEX django_admin_log_417f1b1c ON django_admin_log USING btree (content_type_id);</td>\n",
       "    </tr>\n",
       "    <tr>\n",
       "      <th>4276</th>\n",
       "      <td>421495</td>\n",
       "      <td>6</td>\n",
       "      <td>Expecting )|</td>\n",
       "      <td>TE utf8_general_ci NULL DEFAULT NULL,\\n  PRIMARY KEY (`SCHED_NAME`, `TRIGGER_NAME`, `TRIGGER_GROUP`) |eral_ci NULL DEFAULT NULL,\\n  PRIMARY KEY (`SCHED_NAME`, `TRIGGER_NAME`, `TRIGGER_GROUP`) USING BTREE|</td>\n",
       "      <td>USING|,|</td>\n",
       "      <td>CREATE TABLE `qrtz_cron_triggers`  (\\n  `SCHED_NAME` varchar(120) CHARACTER SET utf8 COLLATE utf8_general_ci NOT NULL,\\n  `TRIGGER_NAME` varchar(190) CHARACTER SET utf8 COLLATE utf8_general_ci NOT NULL,\\n  `TRIGGER_GROUP` varchar(190) CHARACTER SET utf8 COLLATE utf8_general_ci NOT NULL,\\n  `CRON_EXPRESSION` varchar(120) CHARACTER SET utf8 COLLATE utf8_general_ci NOT NULL,\\n  `TIME_ZONE_ID` varchar(80) CHARACTER SET utf8 COLLATE utf8_general_ci NULL DEFAULT NULL,\\n  PRIMARY KEY (`SCHED_NAME`, `TRIGGER_NAME`, `TRIGGER_GROUP`) USING BTREE,\\n  CONSTRAINT `qrtz_cron_triggers_ibfk_1` FOREIGN KEY (`SCHED_NAME`, `TRIGGER_NAME`, `TRIGGER_GROUP`) REFERENCES `qrtz_triggers` (`SCHED_NAME`, `TRIGGER_NAME`, `TRIGGER_GROUP`) ON DELETE RESTRICT ON UPDATE RESTRICT\\n) ENGINE = InnoDB CHARACTER SET = utf8 COLLATE = utf8_general_ci ROW_FORMAT = Dynamic;</td>\n",
       "    </tr>\n",
       "    <tr>\n",
       "      <th>6480</th>\n",
       "      <td>422538</td>\n",
       "      <td>11</td>\n",
       "      <td>Expecting )|</td>\n",
       "      <td>0) NOT NULL,\\n  `Price` int(11) NOT NULL,\\n  `SellCount` int(11) NOT NULL,\\n  PRIMARY KEY (`SellFood`) |\\n  `Price` int(11) NOT NULL,\\n  `SellCount` int(11) NOT NULL,\\n  PRIMARY KEY (`SellFood`) USING BTREE\\n|</td>\n",
       "      <td>USING|)|</td>\n",
       "      <td>-- 테이블 gimal2020.food 구조 내보내기\\nCREATE TABLE IF NOT EXISTS `food` (\\n  `SellFood` varchar(50) NOT NULL,\\n  `Price` int(11) NOT NULL,\\n  `SellCount` int(11) NOT NULL,\\n  PRIMARY KEY (`SellFood`) USING BTREE\\n) ENGINE=InnoDB DEFAULT CHARSET=utf8;</td>\n",
       "    </tr>\n",
       "    <tr>\n",
       "      <th>3339</th>\n",
       "      <td>421217</td>\n",
       "      <td>566</td>\n",
       "      <td>Expecting )|</td>\n",
       "      <td>T NULL COMMENT '所属域名',\\n  `target` int(1) DEFAULT '1' COMMENT '是否新页面打开1为是，0为否',\\n  PRIMARY KEY (`id`) |NT '所属域名',\\n  `target` int(1) DEFAULT '1' COMMENT '是否新页面打开1为是，0为否',\\n  PRIMARY KEY (`id`) USING BTREE\\n|</td>\n",
       "      <td>USING|)|</td>\n",
       "      <td>CREATE TABLE `ms_advertisement` (\\n  `id` int(11) NOT NULL AUTO_INCREMENT,\\n  `type` int(1) DEFAULT NULL COMMENT '类型，1广告代码，2用户自定义图片',\\n  `content` text COMMENT '广告代码',\\n  `titles` varchar(255) DEFAULT NULL COMMENT '标题',\\n  `info` varchar(255) DEFAULT NULL COMMENT '详细信息',\\n  `url` varchar(255) DEFAULT NULL COMMENT '外链',\\n  `position_id` int(11) DEFAULT NULL COMMENT '广告位',\\n  `add_time` int(10) DEFAULT NULL COMMENT '添加时间',\\n  `begin_time` int(10) DEFAULT NULL COMMENT '开始时间',\\n  `end_time` int(10) DEFAULT NULL COMMENT '结束时间',\\n  `status` int(1) DEFAULT '1' COMMENT '状态1开启，0关闭',\\n  `host` varchar(255) DEFAULT NULL COMMENT '所属域名',\\n  `target` int(1) DEFAULT '1' COMMENT '是否新页面打开1为是，0为否',\\n  PRIMARY KEY (`id`) USING BTREE\\n) ENGINE=MyISAM AUTO_INCREMENT=21 DEFAULT CHARSET=utf8 ROW_FORMAT=DYNAMIC COMMENT='广告表';</td>\n",
       "    </tr>\n",
       "    <tr>\n",
       "      <th>840</th>\n",
       "      <td>420204</td>\n",
       "      <td>21</td>\n",
       "      <td>Expecting )|</td>\n",
       "      <td>OMMENT '认证结果编码',\\n  `create_time` datetime(0) NULL DEFAULT NULL COMMENT '创建时间',\\n  PRIMARY KEY (`id`) |编码',\\n  `create_time` datetime(0) NULL DEFAULT NULL COMMENT '创建时间',\\n  PRIMARY KEY (`id`) USING BTREE\\n|</td>\n",
       "      <td>USING|)|</td>\n",
       "      <td>CREATE TABLE `t_b_binding_record`  (\\n  `id` varchar(36) CHARACTER SET utf8 COLLATE utf8_bin NOT NULL DEFAULT '' COMMENT '主键',\\n  `personal_transaction_code` varchar(50) CHARACTER SET utf8 COLLATE utf8_bin NULL DEFAULT NULL COMMENT '个人交易码',\\n  `unified_transaction_code` varchar(50) CHARACTER SET utf8 COLLATE utf8_bin NULL DEFAULT NULL COMMENT '机构交易码',\\n  `user_id` varchar(36) CHARACTER SET utf8 COLLATE utf8_bin NULL DEFAULT NULL COMMENT '用户id',\\n  `org_id` varchar(36) CHARACTER SET utf8 COLLATE utf8_bin NULL DEFAULT NULL COMMENT '机构id',\\n  `platform_code` varchar(11) CHARACTER SET utf8 COLLATE utf8_bin NULL DEFAULT NULL COMMENT '平台编码',\\n  `binding_type` varchar(2) CHARACTER SET utf8 COLLATE utf8_bin NULL DEFAULT NULL COMMENT '绑定类型（02机构用户/01个人用户）',\\n  `certificate_result` varchar(2) CHARACTER SET utf8 COLLATE utf8_bin NULL DEFAULT NULL COMMENT '认证状态',\\n  `fail_resason` varchar(2) CHARACTER SET utf8 COLLATE utf8_bin NULL DEFAULT NULL COMMENT '认证结果编码',\\n  `create_time` datetime(0) NULL DEFAULT NULL COMMENT '创建时间',\\n  PRIMARY KEY (`id`) USING BTREE\\n) ENGINE = InnoDB CHARACTER SET = utf8 COLLATE = utf8_bin COMMENT = '用户认证结果记录表' ROW_FORMAT = Dynamic;</td>\n",
       "    </tr>\n",
       "  </tbody>\n",
       "</table>\n",
       "</div>"
      ],
      "text/plain": [
       "     file_id  statement_id                       good2_parse_error                                                                                                                                                                               good2_file_parse_error_start_context good2_file_parse_error_highlight                                                                                                                                                                                                                                                                                                                                                                                                                                                                                                                                                                                                                                                                                                                                                                                                                                                                                                                                                                                                                                                                                                                                                                                                     original\n",
       "8785  423134  322           Invalid expression / Unexpected token|  : INDEX; Schema: public; Owner: root\\n--\\n\\nCREATE INDEX django_admin_log_417f1b1c ON django_admin_log |                                                                                                           USING|                           --\\n-- Name: django_admin_log_417f1b1c; Type: INDEX; Schema: public; Owner: root\\n--\\n\\nCREATE INDEX django_admin_log_417f1b1c ON django_admin_log USING btree (content_type_id);                                                                                                                                                                                                                                                                                                                                                                                                                                                                                                                                                                                                                                                                                                                                                                                                                                                                                                                                                                                                                          \n",
       "4276  421495  6             Expecting )|                            TE utf8_general_ci NULL DEFAULT NULL,\\n  PRIMARY KEY (`SCHED_NAME`, `TRIGGER_NAME`, `TRIGGER_GROUP`) |eral_ci NULL DEFAULT NULL,\\n  PRIMARY KEY (`SCHED_NAME`, `TRIGGER_NAME`, `TRIGGER_GROUP`) USING BTREE|       USING|,|                         CREATE TABLE `qrtz_cron_triggers`  (\\n  `SCHED_NAME` varchar(120) CHARACTER SET utf8 COLLATE utf8_general_ci NOT NULL,\\n  `TRIGGER_NAME` varchar(190) CHARACTER SET utf8 COLLATE utf8_general_ci NOT NULL,\\n  `TRIGGER_GROUP` varchar(190) CHARACTER SET utf8 COLLATE utf8_general_ci NOT NULL,\\n  `CRON_EXPRESSION` varchar(120) CHARACTER SET utf8 COLLATE utf8_general_ci NOT NULL,\\n  `TIME_ZONE_ID` varchar(80) CHARACTER SET utf8 COLLATE utf8_general_ci NULL DEFAULT NULL,\\n  PRIMARY KEY (`SCHED_NAME`, `TRIGGER_NAME`, `TRIGGER_GROUP`) USING BTREE,\\n  CONSTRAINT `qrtz_cron_triggers_ibfk_1` FOREIGN KEY (`SCHED_NAME`, `TRIGGER_NAME`, `TRIGGER_GROUP`) REFERENCES `qrtz_triggers` (`SCHED_NAME`, `TRIGGER_NAME`, `TRIGGER_GROUP`) ON DELETE RESTRICT ON UPDATE RESTRICT\\n) ENGINE = InnoDB CHARACTER SET = utf8 COLLATE = utf8_general_ci ROW_FORMAT = Dynamic;                                                                                                                                                                                                                                                                                                                              \n",
       "6480  422538  11            Expecting )|                            0) NOT NULL,\\n  `Price` int(11) NOT NULL,\\n  `SellCount` int(11) NOT NULL,\\n  PRIMARY KEY (`SellFood`) |\\n  `Price` int(11) NOT NULL,\\n  `SellCount` int(11) NOT NULL,\\n  PRIMARY KEY (`SellFood`) USING BTREE\\n|  USING|)|                         -- 테이블 gimal2020.food 구조 내보내기\\nCREATE TABLE IF NOT EXISTS `food` (\\n  `SellFood` varchar(50) NOT NULL,\\n  `Price` int(11) NOT NULL,\\n  `SellCount` int(11) NOT NULL,\\n  PRIMARY KEY (`SellFood`) USING BTREE\\n) ENGINE=InnoDB DEFAULT CHARSET=utf8;                                                                                                                                                                                                                                                                                                                                                                                                                                                                                                                                                                                                                                                                                                                                                                                                                                                                                                                                                        \n",
       "3339  421217  566           Expecting )|                            T NULL COMMENT '所属域名',\\n  `target` int(1) DEFAULT '1' COMMENT '是否新页面打开1为是，0为否',\\n  PRIMARY KEY (`id`) |NT '所属域名',\\n  `target` int(1) DEFAULT '1' COMMENT '是否新页面打开1为是，0为否',\\n  PRIMARY KEY (`id`) USING BTREE\\n|    USING|)|                         CREATE TABLE `ms_advertisement` (\\n  `id` int(11) NOT NULL AUTO_INCREMENT,\\n  `type` int(1) DEFAULT NULL COMMENT '类型，1广告代码，2用户自定义图片',\\n  `content` text COMMENT '广告代码',\\n  `titles` varchar(255) DEFAULT NULL COMMENT '标题',\\n  `info` varchar(255) DEFAULT NULL COMMENT '详细信息',\\n  `url` varchar(255) DEFAULT NULL COMMENT '外链',\\n  `position_id` int(11) DEFAULT NULL COMMENT '广告位',\\n  `add_time` int(10) DEFAULT NULL COMMENT '添加时间',\\n  `begin_time` int(10) DEFAULT NULL COMMENT '开始时间',\\n  `end_time` int(10) DEFAULT NULL COMMENT '结束时间',\\n  `status` int(1) DEFAULT '1' COMMENT '状态1开启，0关闭',\\n  `host` varchar(255) DEFAULT NULL COMMENT '所属域名',\\n  `target` int(1) DEFAULT '1' COMMENT '是否新页面打开1为是，0为否',\\n  PRIMARY KEY (`id`) USING BTREE\\n) ENGINE=MyISAM AUTO_INCREMENT=21 DEFAULT CHARSET=utf8 ROW_FORMAT=DYNAMIC COMMENT='广告表';                                                                                                                                                                                                                                                                                                                                                              \n",
       "840   420204  21            Expecting )|                            OMMENT '认证结果编码',\\n  `create_time` datetime(0) NULL DEFAULT NULL COMMENT '创建时间',\\n  PRIMARY KEY (`id`) |编码',\\n  `create_time` datetime(0) NULL DEFAULT NULL COMMENT '创建时间',\\n  PRIMARY KEY (`id`) USING BTREE\\n|    USING|)|                         CREATE TABLE `t_b_binding_record`  (\\n  `id` varchar(36) CHARACTER SET utf8 COLLATE utf8_bin NOT NULL DEFAULT '' COMMENT '主键',\\n  `personal_transaction_code` varchar(50) CHARACTER SET utf8 COLLATE utf8_bin NULL DEFAULT NULL COMMENT '个人交易码',\\n  `unified_transaction_code` varchar(50) CHARACTER SET utf8 COLLATE utf8_bin NULL DEFAULT NULL COMMENT '机构交易码',\\n  `user_id` varchar(36) CHARACTER SET utf8 COLLATE utf8_bin NULL DEFAULT NULL COMMENT '用户id',\\n  `org_id` varchar(36) CHARACTER SET utf8 COLLATE utf8_bin NULL DEFAULT NULL COMMENT '机构id',\\n  `platform_code` varchar(11) CHARACTER SET utf8 COLLATE utf8_bin NULL DEFAULT NULL COMMENT '平台编码',\\n  `binding_type` varchar(2) CHARACTER SET utf8 COLLATE utf8_bin NULL DEFAULT NULL COMMENT '绑定类型（02机构用户/01个人用户）',\\n  `certificate_result` varchar(2) CHARACTER SET utf8 COLLATE utf8_bin NULL DEFAULT NULL COMMENT '认证状态',\\n  `fail_resason` varchar(2) CHARACTER SET utf8 COLLATE utf8_bin NULL DEFAULT NULL COMMENT '认证结果编码',\\n  `create_time` datetime(0) NULL DEFAULT NULL COMMENT '创建时间',\\n  PRIMARY KEY (`id`) USING BTREE\\n) ENGINE = InnoDB CHARACTER SET = utf8 COLLATE = utf8_bin COMMENT = '用户认证结果记录表' ROW_FORMAT = Dynamic;"
      ]
     },
     "execution_count": 157,
     "metadata": {},
     "output_type": "execute_result"
    }
   ],
   "source": [
    "using_check.sample(frac=0.6).head()"
   ]
  },
  {
   "attachments": {},
   "cell_type": "markdown",
   "metadata": {
    "pycharm": {
     "name": "#%% md\n"
    }
   },
   "source": [
    "### enum"
   ]
  },
  {
   "cell_type": "code",
   "execution_count": 161,
   "metadata": {
    "pycharm": {
     "name": "#%%\n"
    }
   },
   "outputs": [
    {
     "name": "stdout",
     "output_type": "stream",
     "text": [
      "[########################################] | 100% Completed | 10.20 s\n",
      "[########################################] | 100% Completed | 12.14 s\n",
      "(42452, 12295)\n"
     ]
    }
   ],
   "source": [
    "no_using = no_asc[\n",
    "    ~((no_asc.good2_file_parse_error_highlight.str.contains('USING',case=False,regex=False)) &\n",
    "    ((no_asc.original.str.contains('BTREE',case=False,regex=False)) |\n",
    "    ((no_asc.original.str.contains('INDEX',case=False,regex=False)))))\n",
    "]\n",
    "enum_check = no_using[\n",
    "    (no_using.good2_file_parse_error_highlight == 'enum|')\n",
    "]\n",
    "print(get_stmt_and_file_count(enum_check))\n",
    "#dot_check.sample(frac=0.6).head()"
   ]
  },
  {
   "cell_type": "code",
   "execution_count": 160,
   "metadata": {
    "pycharm": {
     "name": "#%%\n"
    }
   },
   "outputs": [
    {
     "name": "stdout",
     "output_type": "stream",
     "text": [
      "[########################################] | 100% Completed | 395.31 ms\n"
     ]
    },
    {
     "data": {
      "text/html": [
       "<div>\n",
       "<style scoped>\n",
       "    .dataframe tbody tr th:only-of-type {\n",
       "        vertical-align: middle;\n",
       "    }\n",
       "\n",
       "    .dataframe tbody tr th {\n",
       "        vertical-align: top;\n",
       "    }\n",
       "\n",
       "    .dataframe thead th {\n",
       "        text-align: right;\n",
       "    }\n",
       "</style>\n",
       "<table border=\"1\" class=\"dataframe\">\n",
       "  <thead>\n",
       "    <tr style=\"text-align: right;\">\n",
       "      <th></th>\n",
       "      <th>file_id</th>\n",
       "      <th>statement_id</th>\n",
       "      <th>good2_parse_error</th>\n",
       "      <th>good2_file_parse_error_start_context</th>\n",
       "      <th>good2_file_parse_error_highlight</th>\n",
       "      <th>original</th>\n",
       "    </tr>\n",
       "  </thead>\n",
       "  <tbody>\n",
       "    <tr>\n",
       "      <th>2629</th>\n",
       "      <td>420906</td>\n",
       "      <td>994</td>\n",
       "      <td>Expecting )|Invalid expression / Unexpected token|</td>\n",
       "      <td>ULL,\\n  `auditor_id` varchar(32) default NULL,\\n  `audit_date` datetime default NULL,\\n  `audit_state` |</td>\n",
       "      <td>enum|</td>\n",
       "      <td>CREATE TABLE `t_split` (\\n  `split_id` varchar(32) NOT NULL,\\n  `split_code` varchar(32) default NULL,\\n  `warehouse_id` varchar(32) default NULL,\\n  `split_date` datetime default NULL,\\n  `batch` int(11) default NULL,\\n  `sum_indirect_costs` decimal(16,4) default NULL,\\n  `department` varchar(32) default NULL,\\n  `auditor_id` varchar(32) default NULL,\\n  `audit_date` datetime default NULL,\\n  `audit_state` enum('authstr','failure','pass') default NULL,\\n  `audit_remark` varchar(255) default NULL,\\n  `enabled` enum('enable','disable') default NULL,\\n  `remark` varchar(255) default NULL,\\n  `creater` varchar(32) default NULL,\\n  `create_time` datetime default NULL,\\n  `updater` varchar(32) default NULL,\\n  `update_time` datetime default NULL,\\n  PRIMARY KEY  (`split_id`)\\n) ENGINE=InnoDB DEFAULT CHARSET=utf8;</td>\n",
       "    </tr>\n",
       "    <tr>\n",
       "      <th>8212</th>\n",
       "      <td>422915</td>\n",
       "      <td>27</td>\n",
       "      <td>Expecting )|Invalid expression / Unexpected token|</td>\n",
       "      <td>n` varchar(512) NOT NULL,\\n  `menu_image_name` varchar(50) CHARACTER SET latin1 NOT NULL,\\n  `status` |</td>\n",
       "      <td>enum|</td>\n",
       "      <td>-- --------------------------------------------------------\\n\\n--\\n-- Table structure for table `dn_menu`\\n--\\n\\nCREATE TABLE IF NOT EXISTS `dn_menu` (\\n  `menu_id` bigint(20) NOT NULL AUTO_INCREMENT,\\n  `menu_name` varchar(256) NOT NULL,\\n  `punch_line` varchar(256) NOT NULL,\\n  `description` varchar(512) NOT NULL,\\n  `menu_image_name` varchar(50) CHARACTER SET latin1 NOT NULL,\\n  `status` enum('Active','Inactive') CHARACTER SET latin1 NOT NULL DEFAULT 'Active',\\n  PRIMARY KEY (`menu_id`)\\n) ENGINE=InnoDB  DEFAULT CHARSET=utf8 AUTO_INCREMENT=50 ;</td>\n",
       "    </tr>\n",
       "    <tr>\n",
       "      <th>2615</th>\n",
       "      <td>420906</td>\n",
       "      <td>966</td>\n",
       "      <td>Expecting )|Invalid expression / Unexpected token|</td>\n",
       "      <td>voice_number` varchar(20) default NULL,\\n  `invoice_date` datetime default NULL,\\n  `invoice_type_id` |</td>\n",
       "      <td>enum|</td>\n",
       "      <td>CREATE TABLE `t_sell_invoice` (\\n  `invoice_id` varchar(32) NOT NULL,\\n  `invoice_code` varchar(50) default NULL,\\n  `receivale_id` varchar(32) default NULL,\\n  `client_id` varchar(32) default NULL,\\n  `client_contact_id` varchar(32) default NULL,\\n  `phone` varchar(15) default NULL,\\n  `client_address` varchar(255) default NULL,\\n  `invoice_account` varchar(32) default NULL,\\n  `invoice_number` varchar(20) default NULL,\\n  `invoice_date` datetime default NULL,\\n  `invoice_type_id` enum('specialvat','generalvat','generaltax','ordinarytax','receipt') default NULL,\\n  `Invoice_start` varchar(50) default NULL,\\n  `tariff` varchar(50) default NULL,\\n  `unbilled_amount` decimal(16,4) default NULL,\\n  `invoice_amount` decimal(16,4) default NULL,\\n  `deduction_date` decimal(16,4) default NULL,\\n  `ticket_date` decimal(16,4) default NULL,\\n  `invoice_collector` varchar(32) default NULL,\\n  `backwash_state` enum('backwash0','backwash1') default NULL,\\n  `enabled` enum('enable','disable') default NULL,\\n  `summary` varchar(255) default NULL,\\n  `remark` varchar(255) default NULL,\\n  `audit_state` enum('authstr','pass','failure') default NULL,\\n  `auditor` varchar(32) default NULL,\\n  `audit_date` datetime default NULL,\\n  `audit_remark` varchar(255) default NULL,\\n  `creater` varchar(32) default NULL,\\n  `create_time` datetime default NULL,\\n  `updater` varchar(32) default NULL,\\n  `update_time` datetime default NULL,\\n  PRIMARY KEY  (`invoice_id`)\\n) ENGINE=InnoDB DEFAULT CHARSET=utf8;</td>\n",
       "    </tr>\n",
       "    <tr>\n",
       "      <th>10100</th>\n",
       "      <td>423785</td>\n",
       "      <td>34</td>\n",
       "      <td>Expecting )|Invalid expression / Unexpected token|</td>\n",
       "      <td>archar(200) COLLATE utf8_unicode_ci NOT NULL,\\n  `page_priority` int(11) DEFAULT NULL,\\n  `page_type` |</td>\n",
       "      <td>enum|</td>\n",
       "      <td>-- --------------------------------------------------------\\n\\n--\\n-- Table structure for table `pages`\\n--\\n\\nCREATE TABLE IF NOT EXISTS `pages` (\\n  `page_id` int(3) NOT NULL AUTO_INCREMENT,\\n  `page_url` varchar(400) COLLATE utf8_unicode_ci NOT NULL,\\n  `page_title` varchar(250) COLLATE utf8_unicode_ci NOT NULL,\\n  `page_short_description` varchar(500) COLLATE utf8_unicode_ci NOT NULL,\\n  `page_body` text COLLATE utf8_unicode_ci NOT NULL,\\n  `page_meta_title` varchar(250) COLLATE utf8_unicode_ci NOT NULL,\\n  `page_meta_description` text COLLATE utf8_unicode_ci NOT NULL,\\n  `page_meta_keywords` varchar(200) COLLATE utf8_unicode_ci NOT NULL,\\n  `page_priority` int(11) DEFAULT NULL,\\n  `page_type` enum('built-in','user-created') COLLATE utf8_unicode_ci NOT NULL DEFAULT 'user-created',\\n  PRIMARY KEY (`page_id`)\\n) ENGINE=InnoDB  DEFAULT CHARSET=utf8 COLLATE=utf8_unicode_ci AUTO_INCREMENT=2 ;</td>\n",
       "    </tr>\n",
       "    <tr>\n",
       "      <th>15071</th>\n",
       "      <td>425580</td>\n",
       "      <td>88</td>\n",
       "      <td>Expecting )|Invalid expression / Unexpected token|</td>\n",
       "      <td>CREATE TABLE `poll_question` (\\n  `id` int(11) NOT NULL AUTO_INCREMENT,\\n  `polltype` |</td>\n",
       "      <td>enum|</td>\n",
       "      <td>CREATE TABLE `poll_question` (\\n  `id` int(11) NOT NULL AUTO_INCREMENT,\\n  `polltype` enum('OPTION','TEXT','NUMVAL','MULTICHOICE','IRV') NOT NULL,\\n  `created_datetime` datetime NOT NULL,\\n  `starttime` datetime NOT NULL,\\n  `endtime` datetime NOT NULL,\\n  `question` varchar(255) NOT NULL,\\n  `subtitle` varchar(255) DEFAULT NULL,\\n  `adminonly` tinyint(1) unsigned NOT NULL,\\n  `multiplechoiceoptions` int(2) DEFAULT NULL,\\n  `createdby_ckey` varchar(32) NOT NULL,\\n  `createdby_ip` int(10) unsigned NOT NULL,\\n  `dontshow` tinyint(1) unsigned NOT NULL,\\n  `allow_revoting` tinyint(1) unsigned NOT NULL,\\n  `deleted` tinyint(1) unsigned NOT NULL DEFAULT '0',\\n  PRIMARY KEY (`id`),\\n  KEY `idx_pquest_question_time_ckey` (`question`,`starttime`,`endtime`,`createdby_ckey`,`createdby_ip`),\\n  KEY `idx_pquest_time_deleted_id` (`starttime`,`endtime`, `deleted`, `id`),\\n  KEY `idx_pquest_id_time_type_admin` (`id`,`starttime`,`endtime`,`polltype`,`adminonly`)\\n) ENGINE=InnoDB DEFAULT CHARSET=latin1;</td>\n",
       "    </tr>\n",
       "  </tbody>\n",
       "</table>\n",
       "</div>"
      ],
      "text/plain": [
       "      file_id  statement_id                                   good2_parse_error                                                                      good2_file_parse_error_start_context good2_file_parse_error_highlight                                                                                                                                                                                                                                                                                                                                                                                                                                                                                                                                                                                                                                                                                                                                                                                                                                                                                                                                                                                                                                                                                                                                                                                                                                                                                                                                                                                                                                                                                                                                                       original\n",
       "2629   420906  994           Expecting )|Invalid expression / Unexpected token|  ULL,\\n  `auditor_id` varchar(32) default NULL,\\n  `audit_date` datetime default NULL,\\n  `audit_state` |  enum|                            CREATE TABLE `t_split` (\\n  `split_id` varchar(32) NOT NULL,\\n  `split_code` varchar(32) default NULL,\\n  `warehouse_id` varchar(32) default NULL,\\n  `split_date` datetime default NULL,\\n  `batch` int(11) default NULL,\\n  `sum_indirect_costs` decimal(16,4) default NULL,\\n  `department` varchar(32) default NULL,\\n  `auditor_id` varchar(32) default NULL,\\n  `audit_date` datetime default NULL,\\n  `audit_state` enum('authstr','failure','pass') default NULL,\\n  `audit_remark` varchar(255) default NULL,\\n  `enabled` enum('enable','disable') default NULL,\\n  `remark` varchar(255) default NULL,\\n  `creater` varchar(32) default NULL,\\n  `create_time` datetime default NULL,\\n  `updater` varchar(32) default NULL,\\n  `update_time` datetime default NULL,\\n  PRIMARY KEY  (`split_id`)\\n) ENGINE=InnoDB DEFAULT CHARSET=utf8;                                                                                                                                                                                                                                                                                                                                                                                                                                                                                                                                                                                                                                                                                                          \n",
       "8212   422915  27            Expecting )|Invalid expression / Unexpected token|  n` varchar(512) NOT NULL,\\n  `menu_image_name` varchar(50) CHARACTER SET latin1 NOT NULL,\\n  `status` |   enum|                            -- --------------------------------------------------------\\n\\n--\\n-- Table structure for table `dn_menu`\\n--\\n\\nCREATE TABLE IF NOT EXISTS `dn_menu` (\\n  `menu_id` bigint(20) NOT NULL AUTO_INCREMENT,\\n  `menu_name` varchar(256) NOT NULL,\\n  `punch_line` varchar(256) NOT NULL,\\n  `description` varchar(512) NOT NULL,\\n  `menu_image_name` varchar(50) CHARACTER SET latin1 NOT NULL,\\n  `status` enum('Active','Inactive') CHARACTER SET latin1 NOT NULL DEFAULT 'Active',\\n  PRIMARY KEY (`menu_id`)\\n) ENGINE=InnoDB  DEFAULT CHARSET=utf8 AUTO_INCREMENT=50 ;                                                                                                                                                                                                                                                                                                                                                                                                                                                                                                                                                                                                                                                                                                                                                                                                                                                                                                                                                                                    \n",
       "2615   420906  966           Expecting )|Invalid expression / Unexpected token|  voice_number` varchar(20) default NULL,\\n  `invoice_date` datetime default NULL,\\n  `invoice_type_id` |   enum|                            CREATE TABLE `t_sell_invoice` (\\n  `invoice_id` varchar(32) NOT NULL,\\n  `invoice_code` varchar(50) default NULL,\\n  `receivale_id` varchar(32) default NULL,\\n  `client_id` varchar(32) default NULL,\\n  `client_contact_id` varchar(32) default NULL,\\n  `phone` varchar(15) default NULL,\\n  `client_address` varchar(255) default NULL,\\n  `invoice_account` varchar(32) default NULL,\\n  `invoice_number` varchar(20) default NULL,\\n  `invoice_date` datetime default NULL,\\n  `invoice_type_id` enum('specialvat','generalvat','generaltax','ordinarytax','receipt') default NULL,\\n  `Invoice_start` varchar(50) default NULL,\\n  `tariff` varchar(50) default NULL,\\n  `unbilled_amount` decimal(16,4) default NULL,\\n  `invoice_amount` decimal(16,4) default NULL,\\n  `deduction_date` decimal(16,4) default NULL,\\n  `ticket_date` decimal(16,4) default NULL,\\n  `invoice_collector` varchar(32) default NULL,\\n  `backwash_state` enum('backwash0','backwash1') default NULL,\\n  `enabled` enum('enable','disable') default NULL,\\n  `summary` varchar(255) default NULL,\\n  `remark` varchar(255) default NULL,\\n  `audit_state` enum('authstr','pass','failure') default NULL,\\n  `auditor` varchar(32) default NULL,\\n  `audit_date` datetime default NULL,\\n  `audit_remark` varchar(255) default NULL,\\n  `creater` varchar(32) default NULL,\\n  `create_time` datetime default NULL,\\n  `updater` varchar(32) default NULL,\\n  `update_time` datetime default NULL,\\n  PRIMARY KEY  (`invoice_id`)\\n) ENGINE=InnoDB DEFAULT CHARSET=utf8;\n",
       "10100  423785  34            Expecting )|Invalid expression / Unexpected token|  archar(200) COLLATE utf8_unicode_ci NOT NULL,\\n  `page_priority` int(11) DEFAULT NULL,\\n  `page_type` |   enum|                            -- --------------------------------------------------------\\n\\n--\\n-- Table structure for table `pages`\\n--\\n\\nCREATE TABLE IF NOT EXISTS `pages` (\\n  `page_id` int(3) NOT NULL AUTO_INCREMENT,\\n  `page_url` varchar(400) COLLATE utf8_unicode_ci NOT NULL,\\n  `page_title` varchar(250) COLLATE utf8_unicode_ci NOT NULL,\\n  `page_short_description` varchar(500) COLLATE utf8_unicode_ci NOT NULL,\\n  `page_body` text COLLATE utf8_unicode_ci NOT NULL,\\n  `page_meta_title` varchar(250) COLLATE utf8_unicode_ci NOT NULL,\\n  `page_meta_description` text COLLATE utf8_unicode_ci NOT NULL,\\n  `page_meta_keywords` varchar(200) COLLATE utf8_unicode_ci NOT NULL,\\n  `page_priority` int(11) DEFAULT NULL,\\n  `page_type` enum('built-in','user-created') COLLATE utf8_unicode_ci NOT NULL DEFAULT 'user-created',\\n  PRIMARY KEY (`page_id`)\\n) ENGINE=InnoDB  DEFAULT CHARSET=utf8 COLLATE=utf8_unicode_ci AUTO_INCREMENT=2 ;                                                                                                                                                                                                                                                                                                                                                                                                                                                                                                                                                                                                                     \n",
       "15071  425580  88            Expecting )|Invalid expression / Unexpected token|  CREATE TABLE `poll_question` (\\n  `id` int(11) NOT NULL AUTO_INCREMENT,\\n  `polltype` |                   enum|                            CREATE TABLE `poll_question` (\\n  `id` int(11) NOT NULL AUTO_INCREMENT,\\n  `polltype` enum('OPTION','TEXT','NUMVAL','MULTICHOICE','IRV') NOT NULL,\\n  `created_datetime` datetime NOT NULL,\\n  `starttime` datetime NOT NULL,\\n  `endtime` datetime NOT NULL,\\n  `question` varchar(255) NOT NULL,\\n  `subtitle` varchar(255) DEFAULT NULL,\\n  `adminonly` tinyint(1) unsigned NOT NULL,\\n  `multiplechoiceoptions` int(2) DEFAULT NULL,\\n  `createdby_ckey` varchar(32) NOT NULL,\\n  `createdby_ip` int(10) unsigned NOT NULL,\\n  `dontshow` tinyint(1) unsigned NOT NULL,\\n  `allow_revoting` tinyint(1) unsigned NOT NULL,\\n  `deleted` tinyint(1) unsigned NOT NULL DEFAULT '0',\\n  PRIMARY KEY (`id`),\\n  KEY `idx_pquest_question_time_ckey` (`question`,`starttime`,`endtime`,`createdby_ckey`,`createdby_ip`),\\n  KEY `idx_pquest_time_deleted_id` (`starttime`,`endtime`, `deleted`, `id`),\\n  KEY `idx_pquest_id_time_type_admin` (`id`,`starttime`,`endtime`,`polltype`,`adminonly`)\\n) ENGINE=InnoDB DEFAULT CHARSET=latin1;                                                                                                                                                                                                                                                                                                                                                                                                                                                                                                                     "
      ]
     },
     "execution_count": 160,
     "metadata": {},
     "output_type": "execute_result"
    }
   ],
   "source": [
    "enum_check.sample(frac=0.6).head()"
   ]
  },
  {
   "attachments": {},
   "cell_type": "markdown",
   "metadata": {
    "pycharm": {
     "name": "#%% md\n"
    }
   },
   "source": [
    "### Unsigned again"
   ]
  },
  {
   "cell_type": "code",
   "execution_count": 162,
   "metadata": {
    "pycharm": {
     "name": "#%%\n"
    }
   },
   "outputs": [
    {
     "name": "stdout",
     "output_type": "stream",
     "text": [
      "[########################################] | 100% Completed | 12.37 s\n",
      "[########################################] | 100% Completed | 13.50 s\n",
      "(29945, 2100)\n"
     ]
    }
   ],
   "source": [
    "no_enum = no_using[\n",
    "    ~(no_using.good2_file_parse_error_highlight == 'enum|')\n",
    "]\n",
    "\n",
    "unsigned_again_check = no_enum[\n",
    "    (no_enum.good2_file_parse_error_highlight.str.contains('UNSIGNED',case=False,regex=False))\n",
    "]\n",
    "\n",
    "print(get_stmt_and_file_count(unsigned_again_check))\n",
    "#dot_check.sample(frac=0.6).head()"
   ]
  },
  {
   "cell_type": "code",
   "execution_count": 163,
   "metadata": {
    "pycharm": {
     "name": "#%%\n"
    }
   },
   "outputs": [
    {
     "name": "stdout",
     "output_type": "stream",
     "text": [
      "[########################################] | 100% Completed | 258.04 ms\n"
     ]
    },
    {
     "data": {
      "text/html": [
       "<div>\n",
       "<style scoped>\n",
       "    .dataframe tbody tr th:only-of-type {\n",
       "        vertical-align: middle;\n",
       "    }\n",
       "\n",
       "    .dataframe tbody tr th {\n",
       "        vertical-align: top;\n",
       "    }\n",
       "\n",
       "    .dataframe thead th {\n",
       "        text-align: right;\n",
       "    }\n",
       "</style>\n",
       "<table border=\"1\" class=\"dataframe\">\n",
       "  <thead>\n",
       "    <tr style=\"text-align: right;\">\n",
       "      <th></th>\n",
       "      <th>file_id</th>\n",
       "      <th>statement_id</th>\n",
       "      <th>good2_parse_error</th>\n",
       "      <th>good2_file_parse_error_start_context</th>\n",
       "      <th>good2_file_parse_error_highlight</th>\n",
       "      <th>original</th>\n",
       "    </tr>\n",
       "  </thead>\n",
       "  <tbody>\n",
       "    <tr>\n",
       "      <th>5996</th>\n",
       "      <td>422343</td>\n",
       "      <td>15</td>\n",
       "      <td>Expecting )|Invalid expression / Unexpected token|</td>\n",
       "      <td>not null,\\n    cmci_sPrescripName    varchar(96)            not null,\\n\\tcmci_uSkillLevel     tinyint\\t|</td>\n",
       "      <td>unsigned|</td>\n",
       "      <td>#查询生活技能代工订单用到配置表中信息，生活技能等级、产出物品等级\\ncreate table tbl_contract_manufacture_cfg_info(\\n\\tcmci_sSkillName      varchar(96)             not null,\\n    cmci_sDirection      varchar(96)             not null,\\n    cmci_sPrescripName    varchar(96)            not null,\\n\\tcmci_uSkillLevel     tinyint\\tunsigned     not null,\\n\\tcmci_uProductLevel   tinyint\\tunsigned     not null,\\n\\n\\tkey(cmci_sSkillName),\\n\\tkey(cmci_sDirection),\\n\\tkey(cmci_sPrescripName)\\n)engine = memory;</td>\n",
       "    </tr>\n",
       "    <tr>\n",
       "      <th>12446</th>\n",
       "      <td>424605</td>\n",
       "      <td>38</td>\n",
       "      <td>Expecting )|Invalid expression / Unexpected token|</td>\n",
       "      <td>EATE TABLE `#__session` (\\n  `session_id` varchar(200) NOT NULL default '',\\n  `client_id` tinyint(3) |</td>\n",
       "      <td>unsigned|</td>\n",
       "      <td># -------------------------------------------------------\\n\\n#\\n# Table structure for table `#__session`\\n#\\n\\nCREATE TABLE `#__session` (\\n  `session_id` varchar(200) NOT NULL default '',\\n  `client_id` tinyint(3) unsigned NOT NULL default '0',\\n  `guest` tinyint(4) unsigned default '1',\\n  `time` varchar(14) default '',\\n  `data` mediumtext default NULL,\\n  `userid` int(11) default '0',\\n  `username` varchar(150) default '',\\n  `usertype` varchar(50) default '',\\n  PRIMARY KEY  (`session_id`),\\n  KEY `whosonline` (`guest`,`usertype`),\\n  KEY `userid` (`userid`),\\n  KEY `time` (`time`)\\n)  DEFAULT CHARSET=utf8;</td>\n",
       "    </tr>\n",
       "    <tr>\n",
       "      <th>5990</th>\n",
       "      <td>422343</td>\n",
       "      <td>7</td>\n",
       "      <td>Expecting )|Invalid expression / Unexpected token|</td>\n",
       "      <td>#售出到商店的堆叠物品id\\ncreate table tbl_player_sell_item_id(\\n    psii_nId bigint |</td>\n",
       "      <td>unsigned|</td>\n",
       "      <td>#售出到商店的堆叠物品id\\ncreate table tbl_player_sell_item_id(\\n    psii_nId bigint unsigned not null,\\n    psii_nItemId    bigint unsigned not null,\\n    unique key(psii_nItemId),\\n    key(psii_nId),\\n    foreign key (psii_nId)\\treferences tbl_npcshop_player_sell_item(npsi_nId) on update cascade on delete cascade,\\n    foreign\\tkey(psii_nItemId)\\treferences tbl_item_static(is_uId) on\\tupdate cascade on delete cascade\\n)engine = innodb;</td>\n",
       "    </tr>\n",
       "    <tr>\n",
       "      <th>5893</th>\n",
       "      <td>422238</td>\n",
       "      <td>10</td>\n",
       "      <td>Expecting )|Invalid expression / Unexpected token|</td>\n",
       "      <td>#DEPRECATED??\\nCREATE TABLE output (\\n  job_id           int(10) |</td>\n",
       "      <td>unsigned|</td>\n",
       "      <td>#DEPRECATED??\\nCREATE TABLE output (\\n  job_id           int(10) unsigned DEFAULT '0' NOT NULL,\\n  output_name             varchar(40) DEFAULT '' NOT NULL,\\n  PRIMARY KEY (job_id, output_name)\\n);</td>\n",
       "    </tr>\n",
       "    <tr>\n",
       "      <th>5993</th>\n",
       "      <td>422343</td>\n",
       "      <td>12</td>\n",
       "      <td>Expecting )|Invalid expression / Unexpected token|</td>\n",
       "      <td>#####  order\\ncreate table tbl_contract_manufacture_order_static(\\t\\t\\t\\n\\tcmo_uId\\t\\t\\t    bigint |</td>\n",
       "      <td>unsigned|</td>\n",
       "      <td>#####  order\\ncreate table tbl_contract_manufacture_order_static(\\t\\t\\t\\n\\tcmo_uId\\t\\t\\t    bigint unsigned\\t\\tnot null \\tauto_increment,\\t\\t#order identifier\\n\\tcmo_tCreateTime\\t\\tdatetime \\t\\t    not null,\\t\\t\\t\\t#create time\\n\\tprimary key(cmo_uId)\\n)engine=innodb;</td>\n",
       "    </tr>\n",
       "  </tbody>\n",
       "</table>\n",
       "</div>"
      ],
      "text/plain": [
       "      file_id  statement_id                                   good2_parse_error                                                                       good2_file_parse_error_start_context good2_file_parse_error_highlight                                                                                                                                                                                                                                                                                                                                                                                                                                                                                                                                                                                                                                     original\n",
       "5996   422343  15            Expecting )|Invalid expression / Unexpected token|   not null,\\n    cmci_sPrescripName    varchar(96)            not null,\\n\\tcmci_uSkillLevel     tinyint\\t|  unsigned|                        #查询生活技能代工订单用到配置表中信息，生活技能等级、产出物品等级\\ncreate table tbl_contract_manufacture_cfg_info(\\n\\tcmci_sSkillName      varchar(96)             not null,\\n    cmci_sDirection      varchar(96)             not null,\\n    cmci_sPrescripName    varchar(96)            not null,\\n\\tcmci_uSkillLevel     tinyint\\tunsigned     not null,\\n\\tcmci_uProductLevel   tinyint\\tunsigned     not null,\\n\\n\\tkey(cmci_sSkillName),\\n\\tkey(cmci_sDirection),\\n\\tkey(cmci_sPrescripName)\\n)engine = memory;                                                                                                                                                     \n",
       "12446  424605  38            Expecting )|Invalid expression / Unexpected token|  EATE TABLE `#__session` (\\n  `session_id` varchar(200) NOT NULL default '',\\n  `client_id` tinyint(3) |    unsigned|                        # -------------------------------------------------------\\n\\n#\\n# Table structure for table `#__session`\\n#\\n\\nCREATE TABLE `#__session` (\\n  `session_id` varchar(200) NOT NULL default '',\\n  `client_id` tinyint(3) unsigned NOT NULL default '0',\\n  `guest` tinyint(4) unsigned default '1',\\n  `time` varchar(14) default '',\\n  `data` mediumtext default NULL,\\n  `userid` int(11) default '0',\\n  `username` varchar(150) default '',\\n  `usertype` varchar(50) default '',\\n  PRIMARY KEY  (`session_id`),\\n  KEY `whosonline` (`guest`,`usertype`),\\n  KEY `userid` (`userid`),\\n  KEY `time` (`time`)\\n)  DEFAULT CHARSET=utf8;\n",
       "5990   422343  7             Expecting )|Invalid expression / Unexpected token|  #售出到商店的堆叠物品id\\ncreate table tbl_player_sell_item_id(\\n    psii_nId bigint |                                unsigned|                        #售出到商店的堆叠物品id\\ncreate table tbl_player_sell_item_id(\\n    psii_nId bigint unsigned not null,\\n    psii_nItemId    bigint unsigned not null,\\n    unique key(psii_nItemId),\\n    key(psii_nId),\\n    foreign key (psii_nId)\\treferences tbl_npcshop_player_sell_item(npsi_nId) on update cascade on delete cascade,\\n    foreign\\tkey(psii_nItemId)\\treferences tbl_item_static(is_uId) on\\tupdate cascade on delete cascade\\n)engine = innodb;                                                                                                                                                                                             \n",
       "5893   422238  10            Expecting )|Invalid expression / Unexpected token|  #DEPRECATED??\\nCREATE TABLE output (\\n  job_id           int(10) |                                         unsigned|                        #DEPRECATED??\\nCREATE TABLE output (\\n  job_id           int(10) unsigned DEFAULT '0' NOT NULL,\\n  output_name             varchar(40) DEFAULT '' NOT NULL,\\n  PRIMARY KEY (job_id, output_name)\\n);                                                                                                                                                                                                                                                                                                                                                                                                                                       \n",
       "5993   422343  12            Expecting )|Invalid expression / Unexpected token|  #####  order\\ncreate table tbl_contract_manufacture_order_static(\\t\\t\\t\\n\\tcmo_uId\\t\\t\\t    bigint |       unsigned|                        #####  order\\ncreate table tbl_contract_manufacture_order_static(\\t\\t\\t\\n\\tcmo_uId\\t\\t\\t    bigint unsigned\\t\\tnot null \\tauto_increment,\\t\\t#order identifier\\n\\tcmo_tCreateTime\\t\\tdatetime \\t\\t    not null,\\t\\t\\t\\t#create time\\n\\tprimary key(cmo_uId)\\n)engine=innodb;                                                                                                                                                                                                                                                                                                                                                               "
      ]
     },
     "execution_count": 163,
     "metadata": {},
     "output_type": "execute_result"
    }
   ],
   "source": [
    "unsigned_again_check.sample(frac=0.6).head()"
   ]
  },
  {
   "attachments": {},
   "cell_type": "markdown",
   "metadata": {
    "pycharm": {
     "name": "#%% md\n"
    }
   },
   "source": [
    "### CREATE -> db, go, delimiter"
   ]
  },
  {
   "cell_type": "code",
   "execution_count": 166,
   "metadata": {
    "pycharm": {
     "name": "#%%\n"
    }
   },
   "outputs": [
    {
     "name": "stdout",
     "output_type": "stream",
     "text": [
      "[########################################] | 100% Completed | 12.08 s\n",
      "[########################################] | 100% Completed | 12.55 s\n",
      "(59234, 18302)\n"
     ]
    }
   ],
   "source": [
    "no_unsigned_again = no_enum[\n",
    "    (~no_enum.good2_file_parse_error_highlight.str.contains('UNSIGNED',case=False,regex=False))\n",
    "]\n",
    "\n",
    "create_check = no_unsigned_again[\n",
    "    (no_unsigned_again.good2_file_parse_error_highlight.str.contains('CREATE|',case=False,regex=False))\n",
    "]\n",
    "print(get_stmt_and_file_count(create_check))\n",
    "#dot_check.sample(frac=0.6).head()"
   ]
  },
  {
   "cell_type": "code",
   "execution_count": 174,
   "metadata": {
    "pycharm": {
     "name": "#%%\n"
    }
   },
   "outputs": [
    {
     "name": "stdout",
     "output_type": "stream",
     "text": [
      "[########################################] | 100% Completed | 12.85 s\n",
      "[########################################] | 100% Completed | 11.46 s\n",
      "(1659, 1605)\n"
     ]
    }
   ],
   "source": [
    "create_db_check = no_unsigned_again[\n",
    "    (no_unsigned_again.good2_file_parse_error_highlight.str.contains('CREATE|',case=False,regex=False)) &\n",
    "    (no_unsigned_again.original.str.contains('CREATE DATABASE',case=False,regex=False))\n",
    "]\n",
    "print(get_stmt_and_file_count(create_db_check))"
   ]
  },
  {
   "cell_type": "code",
   "execution_count": 168,
   "metadata": {
    "pycharm": {
     "name": "#%%\n"
    }
   },
   "outputs": [
    {
     "name": "stdout",
     "output_type": "stream",
     "text": [
      "[########################################] | 100% Completed | 11.96 s\n",
      "[########################################] | 100% Completed | 12.39 s\n",
      "(20201, 3180)\n"
     ]
    }
   ],
   "source": [
    "create_go_check = no_unsigned_again[\n",
    "    (no_unsigned_again.good2_file_parse_error_highlight.str.contains('CREATE|',case=False,regex=False)) &\n",
    "    (no_unsigned_again.good2_file_parse_error_start_context.str.contains('GO',case=False,regex=False))\n",
    "]\n",
    "print(get_stmt_and_file_count(create_go_check))"
   ]
  },
  {
   "cell_type": "code",
   "execution_count": 169,
   "metadata": {
    "pycharm": {
     "name": "#%%\n"
    }
   },
   "outputs": [
    {
     "name": "stdout",
     "output_type": "stream",
     "text": [
      "[########################################] | 100% Completed | 11.40 s\n",
      "[########################################] | 100% Completed | 11.35 s\n",
      "(12088, 3207)\n"
     ]
    }
   ],
   "source": [
    "create_delimiter_check = no_unsigned_again[\n",
    "    (no_unsigned_again.good2_file_parse_error_highlight.str.contains('CREATE|',case=False,regex=False)) &\n",
    "    (no_unsigned_again.good2_file_parse_error_start_context.str.contains('DELIMITER',case=False,regex=False))\n",
    "]\n",
    "print(get_stmt_and_file_count(create_delimiter_check))"
   ]
  },
  {
   "cell_type": "code",
   "execution_count": 170,
   "metadata": {
    "pycharm": {
     "name": "#%%\n"
    }
   },
   "outputs": [
    {
     "name": "stdout",
     "output_type": "stream",
     "text": [
      "[########################################] | 100% Completed | 13.32 s\n",
      "[########################################] | 100% Completed | 13.16 s\n",
      "(4561, 1699)\n"
     ]
    }
   ],
   "source": [
    "create_delimiter_check2 = no_unsigned_again[\n",
    "    (no_unsigned_again.good2_file_parse_error_highlight.str.contains('CREATE|',case=False,regex=False)) &\n",
    "    (no_unsigned_again.good2_file_parse_error_start_context.str.contains('DELIMITER',case=False,regex=False)) &\n",
    "    (\n",
    "        (no_unsigned_again.original.str.contains('CREATE TRIGGER',case=False,regex=False)) |\n",
    "        (no_unsigned_again.original.str.contains('CREATE PROECDURE',case=False,regex=False))\n",
    "    )\n",
    "]\n",
    "print(get_stmt_and_file_count(create_delimiter_check2))"
   ]
  },
  {
   "cell_type": "code",
   "execution_count": 177,
   "metadata": {
    "pycharm": {
     "name": "#%%\n"
    }
   },
   "outputs": [
    {
     "name": "stdout",
     "output_type": "stream",
     "text": [
      "[########################################] | 100% Completed | 419.04 ms\n"
     ]
    },
    {
     "data": {
      "text/html": [
       "<div>\n",
       "<style scoped>\n",
       "    .dataframe tbody tr th:only-of-type {\n",
       "        vertical-align: middle;\n",
       "    }\n",
       "\n",
       "    .dataframe tbody tr th {\n",
       "        vertical-align: top;\n",
       "    }\n",
       "\n",
       "    .dataframe thead th {\n",
       "        text-align: right;\n",
       "    }\n",
       "</style>\n",
       "<table border=\"1\" class=\"dataframe\">\n",
       "  <thead>\n",
       "    <tr style=\"text-align: right;\">\n",
       "      <th></th>\n",
       "      <th>file_id</th>\n",
       "      <th>statement_id</th>\n",
       "      <th>good2_parse_error</th>\n",
       "      <th>good2_file_parse_error_start_context</th>\n",
       "      <th>good2_file_parse_error_highlight</th>\n",
       "      <th>original</th>\n",
       "    </tr>\n",
       "  </thead>\n",
       "  <tbody>\n",
       "    <tr>\n",
       "      <th>4680</th>\n",
       "      <td>421735</td>\n",
       "      <td>69</td>\n",
       "      <td>Invalid expression / Unexpected token|</td>\n",
       "      <td>GO\\n|</td>\n",
       "      <td>CREATE|</td>\n",
       "      <td>GO\\nCREATE TABLE active_passive_rec_m(\\n\\t[id] INTEGER Primary Key,\\n\\t[mid] INTEGER NOT NULL,\\n\\t[rid] INTEGER NOT NULL,\\n\\t[a] float,\\n\\t[b] float,\\n\\t[c] float,\\n\\t[d] float,\\n\\t[var_a] float,\\n\\t[var_b] float,\\n\\t[var_c] float,\\n\\t[var_d] float,\\n\\t[covar_ab] float,\\n\\t[covar_ac] float,\\n\\t[covar_ad] float,\\n\\t[covar_bc] float,\\n\\t[covar_bd] float,\\n\\t[covar_cd] float,\\n\\t[sigma_x] float,\\n\\t[cal_curve_equation] int,\\n\\t[lower_mass_limit] float,\\n\\t[upper_mass_limit] float,\\n\\tFOREIGN KEY(mid) REFERENCES measurements(id) on DELETE CASCADE,\\n\\tFOREIGN KEY(rid) REFERENCES results_active_passive_rec(id) on DELETE CASCADE\\n);</td>\n",
       "    </tr>\n",
       "    <tr>\n",
       "      <th>3454</th>\n",
       "      <td>421242</td>\n",
       "      <td>162</td>\n",
       "      <td>Invalid expression / Unexpected token|</td>\n",
       "      <td>GO\\n--1 Create a scalar function\\n|</td>\n",
       "      <td>CREATE|</td>\n",
       "      <td>GO\\n--1 Create a scalar function\\nCREATE OR ALTER FUNCTION dbo.udf_GetSalesCount(@ProductID INT, @Year INT = 0)\\nRETURNS INT AS \\nBEGIN\\n\\tDECLARE @Count INT;\\n\\tIF @Year = 0 BEGIN \\n\\t\\tSELECT @Count = COALESCE(SUM(OrderQty),0)\\n\\t\\tFROM Sales.SalesOrderDetail \\n\\t\\tWHERE ProductID = @ProductID;\\n\\tEND ELSE \\n\\t\\tSELECT @Count = COALESCE(SUM(OrderQty),0)\\n\\t\\tFROM Sales.SalesOrderDetail AS SOD \\n\\t\\tJOIN Sales.SalesOrderHeader AS SOH \\n\\t\\tON SOD.SalesOrderID = SOH.SalesOrderID\\n\\t\\tWHERE ProductID = @ProductID\\n\\t\\t\\tAND YEAR(OrderDate) = @Year;\\n\\tRETURN @Count;\\nEND\\n\\nGO\\n--2 Switch to 2017 compat mode\\nALTER DATABASE [AdventureWorks2019] SET COMPATIBILITY_LEVEL = 140\\nGO\\n\\n--3 Use the function\\nSELECT ProductID, Name, ListPrice, dbo.udf_GetSalesCount(ProductID,0) AS QtySold\\nFROM Production.Product\\nWHERE ProductSubcategoryID = 1;\\n\\n--4 Switch to 2019 Compat\\nALTER DATABASE [AdventureWorks2019] SET COMPATIBILITY_LEVEL = 150\\nGO\\n\\n--5 Use the function\\nSELECT ProductID, Name, ListPrice, dbo.udf_GetSalesCount(ProductID,0) AS QtySold\\nFROM Production.Product\\nWHERE ProductSubcategoryID = 1;\\n\\n \\n--Listing 13-23. Inline multi-statement table-valued function \\n--Create a function\\nGO\\nCREATE OR ALTER FUNCTION dbo.getColors()\\nRETURNS @Colors TABLE \\n(\\n\\tColor varchar(20)\\n)\\nAS\\nBEGIN\\n\\tINSERT INTO @Colors(Color) \\n\\tSELECT DISTINCT Color \\n\\tFROM Production.Product \\n\\n\\tINSERT INTO @Colors(Color)\\n\\tVALUES('Lime'),('Turquoise');\\n\\t\\n\\tRETURN;\\nEND\\nGO</td>\n",
       "    </tr>\n",
       "    <tr>\n",
       "      <th>4649</th>\n",
       "      <td>421735</td>\n",
       "      <td>38</td>\n",
       "      <td>Invalid expression / Unexpected token|</td>\n",
       "      <td>GO\\n|</td>\n",
       "      <td>CREATE|</td>\n",
       "      <td>GO\\nCREATE TABLE items(\\n\\t[item_id] INTEGER Primary Key,\\n\\t[item_name] nvarchar(256) NULL,\\n\\t[material_type_id] nvarchar(50) NULL,\\n\\t[isotopics_id] nvarchar(256) NULL,\\n\\t[stratum_id] nvarchar(256) NULL,\\n\\t[inventory_change_code] nvarchar(10) NULL,\\n\\t[io_code] nvarchar(10) NULL,\\n\\t[declared_mass_entry] float NULL,\\n\\t[declared_u_mass_entry] float NULL,\\n\\t[length_entry] float NULL,\\n\\t[mba] nvarchar(256) NULL\\n);</td>\n",
       "    </tr>\n",
       "    <tr>\n",
       "      <th>7728</th>\n",
       "      <td>422768</td>\n",
       "      <td>292</td>\n",
       "      <td>Invalid expression / Unexpected token|</td>\n",
       "      <td>GO\\n\\n|</td>\n",
       "      <td>CREATE|</td>\n",
       "      <td>GO\\n\\nCREATE TABLE TimesheetPayment\\n(\\n\\tTimesheetPaymentID\\t\\t INT  NOT NULL,\\n\\tTimesheetCompanyID\\t\\t INT  NOT NULL,\\n\\tTimesheetPaymentDate\\t\\t DATETIME  NOT NULL,\\n\\tTimesheetPayment\\t\\t NUMERIC(9,2)  NOT NULL,\\n\\tActive\\t\\t BIT DEFAULT ((1)) NOT NULL,\\n\\tcreate_dt\\t\\t DATETIME  NOT NULL\\n\\n);</td>\n",
       "    </tr>\n",
       "    <tr>\n",
       "      <th>7474</th>\n",
       "      <td>422768</td>\n",
       "      <td>38</td>\n",
       "      <td>Invalid expression / Unexpected token|</td>\n",
       "      <td>GO\\n\\n|</td>\n",
       "      <td>CREATE|</td>\n",
       "      <td>GO\\n\\nCREATE TABLE CreditCard\\n(\\n\\tCreditCardID\\t\\tIDENTITY (1001,1) INT  NOT NULL,\\n\\tUserID\\t\\t INT  NOT NULL,\\n\\tCreditCardName\\t\\t VARCHAR(50)  NOT NULL,\\n\\tCreditLimit\\t\\t NUMERIC(9,2)  NOT NULL,\\n\\tMinimumPayment\\t\\t NUMERIC(9,2)  NULL,\\n\\tCreditAvailable\\t\\t NUMERIC(9,2)  NULL,\\n\\tClosingDate\\t\\t TINYINT  NULL,\\n\\tDueDate\\t\\t TINYINT  NULL,\\n\\tPercentage\\t\\t NUMERIC(9,2)  NULL,\\n\\tPayments\\t\\t NUMERIC(9,2)  NULL,\\n\\tcreate_dt\\t\\t DATETIME DEFAULT (getdate()) NOT NULL\\n\\n);</td>\n",
       "    </tr>\n",
       "    <tr>\n",
       "      <th>7722</th>\n",
       "      <td>422768</td>\n",
       "      <td>286</td>\n",
       "      <td>Invalid expression / Unexpected token|</td>\n",
       "      <td>GO\\n\\n|</td>\n",
       "      <td>CREATE|</td>\n",
       "      <td>GO\\n\\nCREATE TABLE TimesheetCompany\\n(\\n\\tTimeSheetCompanyID\\t\\tIDENTITY (1001,1) INT  NOT NULL,\\n\\tUserID\\t\\t INT  NOT NULL,\\n\\tTimesheetCompanyName\\t\\t VARCHAR(100)  NOT NULL,\\n\\tTimesheetCompanyAddress1\\t\\t VARCHAR(100)  NULL,\\n\\tTimesheetCompanyAddress2\\t\\t VARCHAR(100)  NULL,\\n\\tTimesheetCompanyCity\\t\\t VARCHAR(100)  NULL,\\n\\tTimesheetCompanyStateID\\t\\t INT  NULL,\\n\\tTimesheetCompanyZipCode\\t\\t VARCHAR(20)  NULL,\\n\\tTimesheetCompanyPhone\\t\\t VARCHAR(50)  NULL,\\n\\tActive\\t\\t BIT DEFAULT ((1)) NOT NULL,\\n\\tcreate_dt\\t\\t DATETIME DEFAULT (getdate()) NOT NULL\\n\\n);</td>\n",
       "    </tr>\n",
       "    <tr>\n",
       "      <th>7518</th>\n",
       "      <td>422768</td>\n",
       "      <td>82</td>\n",
       "      <td>Invalid expression / Unexpected token|</td>\n",
       "      <td>GO\\n\\n|</td>\n",
       "      <td>CREATE|</td>\n",
       "      <td>GO\\n\\nCREATE TABLE Insulin\\n(\\n\\tInsulinID\\t\\tIDENTITY (1001,1) INT  NOT NULL,\\n\\tUserID\\t\\t INT  NOT NULL,\\n\\tMedicineID\\t\\t INT  NOT NULL,\\n\\tInsulinDateTime\\t\\t DATETIME  NOT NULL,\\n\\tUnits\\t\\t NUMERIC(4,2)  NOT NULL,\\n\\tcreate_dt\\t\\t DATETIME DEFAULT (getdate()) NOT NULL\\n\\n);</td>\n",
       "    </tr>\n",
       "    <tr>\n",
       "      <th>8120</th>\n",
       "      <td>422835</td>\n",
       "      <td>22</td>\n",
       "      <td>Invalid expression / Unexpected token|</td>\n",
       "      <td>GO\\n\\n-- Creating table 'Drink'\\n|</td>\n",
       "      <td>CREATE|</td>\n",
       "      <td>GO\\n\\n-- Creating table 'Drink'\\nCREATE TABLE [dbo].[Drink] (\\n    [Id] int IDENTITY(1,1) NOT NULL,\\n    [Name] varchar(50)  NOT NULL,\\n    [Price] int  NOT NULL\\n);</td>\n",
       "    </tr>\n",
       "    <tr>\n",
       "      <th>4570</th>\n",
       "      <td>421685</td>\n",
       "      <td>0</td>\n",
       "      <td>Invalid expression / Unexpected token|</td>\n",
       "      <td>USE ConferenceDB\\nGO\\n\\n|</td>\n",
       "      <td>CREATE|</td>\n",
       "      <td>USE ConferenceDB\\nGO\\n\\nCREATE TABLE [dbo].[Users]\\n(\\n\\t[UserId] UNIQUEIDENTIFIER NOT NULL PRIMARY KEY DEFAULT NEWID(),\\n\\t[DevicePhoneNumber] NVARCHAR(50) NOT NULL,\\n\\t[Pin] NVARCHAR(50) NOT NULL,\\n\\t[DateCreated] DATETIME NOT NULL DEFAULT GETDATE(),\\n\\t[IsActive] BIT NOT NULL,\\n)\\nGO\\n\\n\\nCREATE TABLE [dbo].[VirtualPhoneNumbers]\\n(\\n\\t[VirtualPhoneNumberId] UNIQUEIDENTIFIER NOT NULL PRIMARY KEY DEFAULT NEWID(),\\n\\t[UserId] UNIQUEIDENTIFIER NOT NULL,\\n\\t[PhoneNumber] NVARCHAR(50) NOT NULL,\\n\\t[DateCreated] DATETIME NOT NULL DEFAULT GETDATE(),\\n\\t[IsActive] BIT NOT NULL,\\n\\t[ProviderId] NVARCHAR(100),\\n)\\nGO\\n\\nALTER TABLE VirtualPhoneNumbers\\nADD CONSTRAINT FK_VirtualPhoneNumber_Users \\n\\tFOREIGN KEY (UserId) \\n\\tREFERENCES\\tUsers (UserId)\\nGO\\n\\nCREATE TABLE [dbo].[Conferences]\\n(\\n\\t[ConferenceId] UNIQUEIDENTIFIER NOT NULL PRIMARY KEY DEFAULT NEWID(),\\n\\t[UserId] UNIQUEIDENTIFIER NOT NULL,\\n\\t[ConferenceName] NVARCHAR(50) NOT NULL,\\n\\t[ConferencePassCode] NVARCHAR(50) NOT NULL,\\n\\t[WelcomeMessage] NVARCHAR(50),\\n\\t[Participants] NVARCHAR(MAX) NOT NULL,\\n\\t[Cost] DECIMAL(10,2),\\n\\t[DateCreated] DATETIME NOT NULL DEFAULT GETDATE(),\\n\\t[Status] NVARCHAR(50),\\n\\t[ProviderId] NVARCHAR(100),\\n)\\nGO\\n\\nALTER TABLE Conferences\\nADD CONSTRAINT FK_Conference_Users \\n\\tFOREIGN KEY (UserId) \\n\\tREFERENCES\\tUsers (UserId)\\nGO</td>\n",
       "    </tr>\n",
       "    <tr>\n",
       "      <th>12618</th>\n",
       "      <td>424717</td>\n",
       "      <td>8</td>\n",
       "      <td>Invalid expression / Unexpected token|</td>\n",
       "      <td>GO\\n\\n|</td>\n",
       "      <td>CREATE|</td>\n",
       "      <td>GO\\n\\nCREATE NONCLUSTERED INDEX [X_AN_AN] ON [dbo].[CONCEPT_ANCESTOR] \\n(\\n\\t[ANCESTOR_CONCEPT_ID] ASC\\n) \\nWITH (SORT_IN_TEMPDB = ON, DATA_COMPRESSION = PAGE);</td>\n",
       "    </tr>\n",
       "  </tbody>\n",
       "</table>\n",
       "</div>"
      ],
      "text/plain": [
       "      file_id  statement_id                       good2_parse_error good2_file_parse_error_start_context good2_file_parse_error_highlight                                                                                                                                                                                                                                                                                                                                                                                                                                                                                                                                                                                                                                                                                                                                                                                                                                                                                                                                                                                                                                                                                                                                                                                                                                                                                                                                                                                                                                                                                                                                       original\n",
       "4680   421735  69            Invalid expression / Unexpected token|  GO\\n|                                CREATE|                          GO\\nCREATE TABLE active_passive_rec_m(\\n\\t[id] INTEGER Primary Key,\\n\\t[mid] INTEGER NOT NULL,\\n\\t[rid] INTEGER NOT NULL,\\n\\t[a] float,\\n\\t[b] float,\\n\\t[c] float,\\n\\t[d] float,\\n\\t[var_a] float,\\n\\t[var_b] float,\\n\\t[var_c] float,\\n\\t[var_d] float,\\n\\t[covar_ab] float,\\n\\t[covar_ac] float,\\n\\t[covar_ad] float,\\n\\t[covar_bc] float,\\n\\t[covar_bd] float,\\n\\t[covar_cd] float,\\n\\t[sigma_x] float,\\n\\t[cal_curve_equation] int,\\n\\t[lower_mass_limit] float,\\n\\t[upper_mass_limit] float,\\n\\tFOREIGN KEY(mid) REFERENCES measurements(id) on DELETE CASCADE,\\n\\tFOREIGN KEY(rid) REFERENCES results_active_passive_rec(id) on DELETE CASCADE\\n);                                                                                                                                                                                                                                                                                                                                                                                                                                                                                                                                                                                                                                                                                                                                                                                                                                                                                    \n",
       "3454   421242  162           Invalid expression / Unexpected token|  GO\\n--1 Create a scalar function\\n|  CREATE|                          GO\\n--1 Create a scalar function\\nCREATE OR ALTER FUNCTION dbo.udf_GetSalesCount(@ProductID INT, @Year INT = 0)\\nRETURNS INT AS \\nBEGIN\\n\\tDECLARE @Count INT;\\n\\tIF @Year = 0 BEGIN \\n\\t\\tSELECT @Count = COALESCE(SUM(OrderQty),0)\\n\\t\\tFROM Sales.SalesOrderDetail \\n\\t\\tWHERE ProductID = @ProductID;\\n\\tEND ELSE \\n\\t\\tSELECT @Count = COALESCE(SUM(OrderQty),0)\\n\\t\\tFROM Sales.SalesOrderDetail AS SOD \\n\\t\\tJOIN Sales.SalesOrderHeader AS SOH \\n\\t\\tON SOD.SalesOrderID = SOH.SalesOrderID\\n\\t\\tWHERE ProductID = @ProductID\\n\\t\\t\\tAND YEAR(OrderDate) = @Year;\\n\\tRETURN @Count;\\nEND\\n\\nGO\\n--2 Switch to 2017 compat mode\\nALTER DATABASE [AdventureWorks2019] SET COMPATIBILITY_LEVEL = 140\\nGO\\n\\n--3 Use the function\\nSELECT ProductID, Name, ListPrice, dbo.udf_GetSalesCount(ProductID,0) AS QtySold\\nFROM Production.Product\\nWHERE ProductSubcategoryID = 1;\\n\\n--4 Switch to 2019 Compat\\nALTER DATABASE [AdventureWorks2019] SET COMPATIBILITY_LEVEL = 150\\nGO\\n\\n--5 Use the function\\nSELECT ProductID, Name, ListPrice, dbo.udf_GetSalesCount(ProductID,0) AS QtySold\\nFROM Production.Product\\nWHERE ProductSubcategoryID = 1;\\n\\n \\n--Listing 13-23. Inline multi-statement table-valued function \\n--Create a function\\nGO\\nCREATE OR ALTER FUNCTION dbo.getColors()\\nRETURNS @Colors TABLE \\n(\\n\\tColor varchar(20)\\n)\\nAS\\nBEGIN\\n\\tINSERT INTO @Colors(Color) \\n\\tSELECT DISTINCT Color \\n\\tFROM Production.Product \\n\\n\\tINSERT INTO @Colors(Color)\\n\\tVALUES('Lime'),('Turquoise');\\n\\t\\n\\tRETURN;\\nEND\\nGO\n",
       "4649   421735  38            Invalid expression / Unexpected token|  GO\\n|                                CREATE|                          GO\\nCREATE TABLE items(\\n\\t[item_id] INTEGER Primary Key,\\n\\t[item_name] nvarchar(256) NULL,\\n\\t[material_type_id] nvarchar(50) NULL,\\n\\t[isotopics_id] nvarchar(256) NULL,\\n\\t[stratum_id] nvarchar(256) NULL,\\n\\t[inventory_change_code] nvarchar(10) NULL,\\n\\t[io_code] nvarchar(10) NULL,\\n\\t[declared_mass_entry] float NULL,\\n\\t[declared_u_mass_entry] float NULL,\\n\\t[length_entry] float NULL,\\n\\t[mba] nvarchar(256) NULL\\n);                                                                                                                                                                                                                                                                                                                                                                                                                                                                                                                                                                                                                                                                                                                                                                                                                                                                                                                                                                                                                                                                                                      \n",
       "7728   422768  292           Invalid expression / Unexpected token|  GO\\n\\n|                              CREATE|                          GO\\n\\nCREATE TABLE TimesheetPayment\\n(\\n\\tTimesheetPaymentID\\t\\t INT  NOT NULL,\\n\\tTimesheetCompanyID\\t\\t INT  NOT NULL,\\n\\tTimesheetPaymentDate\\t\\t DATETIME  NOT NULL,\\n\\tTimesheetPayment\\t\\t NUMERIC(9,2)  NOT NULL,\\n\\tActive\\t\\t BIT DEFAULT ((1)) NOT NULL,\\n\\tcreate_dt\\t\\t DATETIME  NOT NULL\\n\\n);                                                                                                                                                                                                                                                                                                                                                                                                                                                                                                                                                                                                                                                                                                                                                                                                                                                                                                                                                                                                                                                                                                                                                                                                                                 \n",
       "7474   422768  38            Invalid expression / Unexpected token|  GO\\n\\n|                              CREATE|                          GO\\n\\nCREATE TABLE CreditCard\\n(\\n\\tCreditCardID\\t\\tIDENTITY (1001,1) INT  NOT NULL,\\n\\tUserID\\t\\t INT  NOT NULL,\\n\\tCreditCardName\\t\\t VARCHAR(50)  NOT NULL,\\n\\tCreditLimit\\t\\t NUMERIC(9,2)  NOT NULL,\\n\\tMinimumPayment\\t\\t NUMERIC(9,2)  NULL,\\n\\tCreditAvailable\\t\\t NUMERIC(9,2)  NULL,\\n\\tClosingDate\\t\\t TINYINT  NULL,\\n\\tDueDate\\t\\t TINYINT  NULL,\\n\\tPercentage\\t\\t NUMERIC(9,2)  NULL,\\n\\tPayments\\t\\t NUMERIC(9,2)  NULL,\\n\\tcreate_dt\\t\\t DATETIME DEFAULT (getdate()) NOT NULL\\n\\n);                                                                                                                                                                                                                                                                                                                                                                                                                                                                                                                                                                                                                                                                                                                                                                                                                                                                                                                                                                                                                                        \n",
       "7722   422768  286           Invalid expression / Unexpected token|  GO\\n\\n|                              CREATE|                          GO\\n\\nCREATE TABLE TimesheetCompany\\n(\\n\\tTimeSheetCompanyID\\t\\tIDENTITY (1001,1) INT  NOT NULL,\\n\\tUserID\\t\\t INT  NOT NULL,\\n\\tTimesheetCompanyName\\t\\t VARCHAR(100)  NOT NULL,\\n\\tTimesheetCompanyAddress1\\t\\t VARCHAR(100)  NULL,\\n\\tTimesheetCompanyAddress2\\t\\t VARCHAR(100)  NULL,\\n\\tTimesheetCompanyCity\\t\\t VARCHAR(100)  NULL,\\n\\tTimesheetCompanyStateID\\t\\t INT  NULL,\\n\\tTimesheetCompanyZipCode\\t\\t VARCHAR(20)  NULL,\\n\\tTimesheetCompanyPhone\\t\\t VARCHAR(50)  NULL,\\n\\tActive\\t\\t BIT DEFAULT ((1)) NOT NULL,\\n\\tcreate_dt\\t\\t DATETIME DEFAULT (getdate()) NOT NULL\\n\\n);                                                                                                                                                                                                                                                                                                                                                                                                                                                                                                                                                                                                                                                                                                                                                                                                                                                                                                                                                 \n",
       "7518   422768  82            Invalid expression / Unexpected token|  GO\\n\\n|                              CREATE|                          GO\\n\\nCREATE TABLE Insulin\\n(\\n\\tInsulinID\\t\\tIDENTITY (1001,1) INT  NOT NULL,\\n\\tUserID\\t\\t INT  NOT NULL,\\n\\tMedicineID\\t\\t INT  NOT NULL,\\n\\tInsulinDateTime\\t\\t DATETIME  NOT NULL,\\n\\tUnits\\t\\t NUMERIC(4,2)  NOT NULL,\\n\\tcreate_dt\\t\\t DATETIME DEFAULT (getdate()) NOT NULL\\n\\n);                                                                                                                                                                                                                                                                                                                                                                                                                                                                                                                                                                                                                                                                                                                                                                                                                                                                                                                                                                                                                                                                                                                                                                                                                                                    \n",
       "8120   422835  22            Invalid expression / Unexpected token|  GO\\n\\n-- Creating table 'Drink'\\n|   CREATE|                          GO\\n\\n-- Creating table 'Drink'\\nCREATE TABLE [dbo].[Drink] (\\n    [Id] int IDENTITY(1,1) NOT NULL,\\n    [Name] varchar(50)  NOT NULL,\\n    [Price] int  NOT NULL\\n);                                                                                                                                                                                                                                                                                                                                                                                                                                                                                                                                                                                                                                                                                                                                                                                                                                                                                                                                                                                                                                                                                                                                                                                                                                                                                                                                                                        \n",
       "4570   421685  0             Invalid expression / Unexpected token|  USE ConferenceDB\\nGO\\n\\n|            CREATE|                          USE ConferenceDB\\nGO\\n\\nCREATE TABLE [dbo].[Users]\\n(\\n\\t[UserId] UNIQUEIDENTIFIER NOT NULL PRIMARY KEY DEFAULT NEWID(),\\n\\t[DevicePhoneNumber] NVARCHAR(50) NOT NULL,\\n\\t[Pin] NVARCHAR(50) NOT NULL,\\n\\t[DateCreated] DATETIME NOT NULL DEFAULT GETDATE(),\\n\\t[IsActive] BIT NOT NULL,\\n)\\nGO\\n\\n\\nCREATE TABLE [dbo].[VirtualPhoneNumbers]\\n(\\n\\t[VirtualPhoneNumberId] UNIQUEIDENTIFIER NOT NULL PRIMARY KEY DEFAULT NEWID(),\\n\\t[UserId] UNIQUEIDENTIFIER NOT NULL,\\n\\t[PhoneNumber] NVARCHAR(50) NOT NULL,\\n\\t[DateCreated] DATETIME NOT NULL DEFAULT GETDATE(),\\n\\t[IsActive] BIT NOT NULL,\\n\\t[ProviderId] NVARCHAR(100),\\n)\\nGO\\n\\nALTER TABLE VirtualPhoneNumbers\\nADD CONSTRAINT FK_VirtualPhoneNumber_Users \\n\\tFOREIGN KEY (UserId) \\n\\tREFERENCES\\tUsers (UserId)\\nGO\\n\\nCREATE TABLE [dbo].[Conferences]\\n(\\n\\t[ConferenceId] UNIQUEIDENTIFIER NOT NULL PRIMARY KEY DEFAULT NEWID(),\\n\\t[UserId] UNIQUEIDENTIFIER NOT NULL,\\n\\t[ConferenceName] NVARCHAR(50) NOT NULL,\\n\\t[ConferencePassCode] NVARCHAR(50) NOT NULL,\\n\\t[WelcomeMessage] NVARCHAR(50),\\n\\t[Participants] NVARCHAR(MAX) NOT NULL,\\n\\t[Cost] DECIMAL(10,2),\\n\\t[DateCreated] DATETIME NOT NULL DEFAULT GETDATE(),\\n\\t[Status] NVARCHAR(50),\\n\\t[ProviderId] NVARCHAR(100),\\n)\\nGO\\n\\nALTER TABLE Conferences\\nADD CONSTRAINT FK_Conference_Users \\n\\tFOREIGN KEY (UserId) \\n\\tREFERENCES\\tUsers (UserId)\\nGO                                                                                                                                                   \n",
       "12618  424717  8             Invalid expression / Unexpected token|  GO\\n\\n|                              CREATE|                          GO\\n\\nCREATE NONCLUSTERED INDEX [X_AN_AN] ON [dbo].[CONCEPT_ANCESTOR] \\n(\\n\\t[ANCESTOR_CONCEPT_ID] ASC\\n) \\nWITH (SORT_IN_TEMPDB = ON, DATA_COMPRESSION = PAGE);                                                                                                                                                                                                                                                                                                                                                                                                                                                                                                                                                                                                                                                                                                                                                                                                                                                                                                                                                                                                                                                                                                                                                                                                                                                                                                                                                                             "
      ]
     },
     "execution_count": 177,
     "metadata": {},
     "output_type": "execute_result"
    }
   ],
   "source": [
    "create_go_check.sample(frac=0.6).head(10)"
   ]
  },
  {
   "attachments": {},
   "cell_type": "markdown",
   "metadata": {
    "pycharm": {
     "name": "#%% md\n"
    }
   },
   "source": [
    "### DROP"
   ]
  },
  {
   "cell_type": "code",
   "execution_count": 180,
   "metadata": {
    "pycharm": {
     "name": "#%%\n"
    }
   },
   "outputs": [
    {
     "name": "stdout",
     "output_type": "stream",
     "text": [
      "[########################################] | 100% Completed | 12.44 s\n",
      "[########################################] | 100% Completed | 15.60 s\n",
      "(32030, 3276)\n"
     ]
    }
   ],
   "source": [
    "no_create_db_go_del = no_unsigned_again[\n",
    "    ~((no_unsigned_again.good2_file_parse_error_highlight.str.contains('CREATE|',case=False,regex=False)) &\n",
    "    (\n",
    "        (no_unsigned_again.good2_file_parse_error_start_context.str.contains('DELIMITER',case=False,regex=False)) |\n",
    "        (no_unsigned_again.good2_file_parse_error_start_context.str.contains('GO',case=False,regex=False)) |\n",
    "        (no_unsigned_again.original.str.contains('DATABASE',case=False,regex=False))\n",
    "    ))\n",
    "]\n",
    "\n",
    "drop_ctr_check = no_create_db_go_del[\n",
    "    (no_create_db_go_del.good2_file_parse_error_highlight.str.contains('drop|',case=False,regex=False)) &\n",
    "    (no_create_db_go_del.original.str.contains('DROP CONSTRAINT',case=False,regex=False))\n",
    "]\n",
    "\n",
    "print(get_stmt_and_file_count(drop_ctr_check))\n",
    "#dot_check.sample(frac=0.6).head()\n"
   ]
  },
  {
   "cell_type": "code",
   "execution_count": 181,
   "metadata": {
    "pycharm": {
     "name": "#%%\n"
    }
   },
   "outputs": [
    {
     "name": "stdout",
     "output_type": "stream",
     "text": [
      "[########################################] | 100% Completed | 528.46 ms\n"
     ]
    },
    {
     "data": {
      "text/html": [
       "<div>\n",
       "<style scoped>\n",
       "    .dataframe tbody tr th:only-of-type {\n",
       "        vertical-align: middle;\n",
       "    }\n",
       "\n",
       "    .dataframe tbody tr th {\n",
       "        vertical-align: top;\n",
       "    }\n",
       "\n",
       "    .dataframe thead th {\n",
       "        text-align: right;\n",
       "    }\n",
       "</style>\n",
       "<table border=\"1\" class=\"dataframe\">\n",
       "  <thead>\n",
       "    <tr style=\"text-align: right;\">\n",
       "      <th></th>\n",
       "      <th>file_id</th>\n",
       "      <th>statement_id</th>\n",
       "      <th>good2_parse_error</th>\n",
       "      <th>good2_file_parse_error_start_context</th>\n",
       "      <th>good2_file_parse_error_highlight</th>\n",
       "      <th>original</th>\n",
       "    </tr>\n",
       "  </thead>\n",
       "  <tbody>\n",
       "    <tr>\n",
       "      <th>1730</th>\n",
       "      <td>420551</td>\n",
       "      <td>26</td>\n",
       "      <td>Invalid expression / Unexpected token|</td>\n",
       "      <td>alter table TRSREPRINT |</td>\n",
       "      <td>drop|</td>\n",
       "      <td>alter table TRSREPRINT drop constraint FK_RECREP_RECEIPTID;</td>\n",
       "    </tr>\n",
       "    <tr>\n",
       "      <th>3829</th>\n",
       "      <td>421352</td>\n",
       "      <td>58</td>\n",
       "      <td>Invalid expression / Unexpected token|</td>\n",
       "      <td>ALTER TABLE PRODUCTS |</td>\n",
       "      <td>DROP|</td>\n",
       "      <td>ALTER TABLE PRODUCTS DROP CONSTRAINT PRODUCTS_FK_2;</td>\n",
       "    </tr>\n",
       "    <tr>\n",
       "      <th>8294</th>\n",
       "      <td>422938</td>\n",
       "      <td>32</td>\n",
       "      <td>Invalid expression / Unexpected token|</td>\n",
       "      <td>ALTER TABLE test_run_y2007_m05_wk2  |</td>\n",
       "      <td>DROP|</td>\n",
       "      <td>ALTER TABLE test_run_y2007_m05_wk2  DROP CONSTRAINT  test_run_y2007_m05_wk2_test_run_command_id_fkey;</td>\n",
       "    </tr>\n",
       "    <tr>\n",
       "      <th>8282</th>\n",
       "      <td>422938</td>\n",
       "      <td>20</td>\n",
       "      <td>Invalid expression / Unexpected token|</td>\n",
       "      <td>ALTER TABLE test_run_y2007_m02_wk5  |</td>\n",
       "      <td>DROP|</td>\n",
       "      <td>ALTER TABLE test_run_y2007_m02_wk5  DROP CONSTRAINT  test_run_y2007_m02_wk5_test_run_command_id_fkey;</td>\n",
       "    </tr>\n",
       "    <tr>\n",
       "      <th>8267</th>\n",
       "      <td>422938</td>\n",
       "      <td>5</td>\n",
       "      <td>Invalid expression / Unexpected token|</td>\n",
       "      <td>ALTER TABLE test_run_y2006_m11_wk5  |</td>\n",
       "      <td>DROP|</td>\n",
       "      <td>ALTER TABLE test_run_y2006_m11_wk5  DROP CONSTRAINT  test_run_y2006_m11_wk5_test_run_command_id_fkey;</td>\n",
       "    </tr>\n",
       "  </tbody>\n",
       "</table>\n",
       "</div>"
      ],
      "text/plain": [
       "     file_id  statement_id                       good2_parse_error   good2_file_parse_error_start_context good2_file_parse_error_highlight                                                                                               original\n",
       "1730  420551  26            Invalid expression / Unexpected token|  alter table TRSREPRINT |               drop|                            alter table TRSREPRINT drop constraint FK_RECREP_RECEIPTID;                                          \n",
       "3829  421352  58            Invalid expression / Unexpected token|  ALTER TABLE PRODUCTS |                 DROP|                            ALTER TABLE PRODUCTS DROP CONSTRAINT PRODUCTS_FK_2;                                                  \n",
       "8294  422938  32            Invalid expression / Unexpected token|  ALTER TABLE test_run_y2007_m05_wk2  |  DROP|                            ALTER TABLE test_run_y2007_m05_wk2  DROP CONSTRAINT  test_run_y2007_m05_wk2_test_run_command_id_fkey;\n",
       "8282  422938  20            Invalid expression / Unexpected token|  ALTER TABLE test_run_y2007_m02_wk5  |  DROP|                            ALTER TABLE test_run_y2007_m02_wk5  DROP CONSTRAINT  test_run_y2007_m02_wk5_test_run_command_id_fkey;\n",
       "8267  422938  5             Invalid expression / Unexpected token|  ALTER TABLE test_run_y2006_m11_wk5  |  DROP|                            ALTER TABLE test_run_y2006_m11_wk5  DROP CONSTRAINT  test_run_y2006_m11_wk5_test_run_command_id_fkey;"
      ]
     },
     "execution_count": 181,
     "metadata": {},
     "output_type": "execute_result"
    }
   ],
   "source": [
    "drop_ctr_check.sample(frac=0.6).head()"
   ]
  },
  {
   "attachments": {},
   "cell_type": "markdown",
   "metadata": {
    "pycharm": {
     "name": "#%% md\n"
    }
   },
   "source": [
    "### Mediumint"
   ]
  },
  {
   "cell_type": "code",
   "execution_count": 185,
   "metadata": {
    "pycharm": {
     "name": "#%%\n"
    }
   },
   "outputs": [
    {
     "name": "stdout",
     "output_type": "stream",
     "text": [
      "[########################################] | 100% Completed | 13.08 s\n",
      "[########################################] | 100% Completed | 15.75 s\n",
      "(40051, 5694)\n"
     ]
    }
   ],
   "source": [
    "no_drop_ctr = no_create_db_go_del[\n",
    "    ~((no_create_db_go_del.good2_file_parse_error_highlight.str.contains('drop|',case=False,regex=False)) &\n",
    "    (no_create_db_go_del.original.str.contains('DROP CONSTRAINT',case=False,regex=False)))\n",
    "]\n",
    "\n",
    "mediumint_check = no_drop_ctr[\n",
    "    (no_drop_ctr.good2_file_parse_error_highlight.str.contains('mediumint|',case=False,regex=False))\n",
    "]\n",
    "\n",
    "print(get_stmt_and_file_count(mediumint_check))\n",
    "#dot_check.sample(frac=0.6).head()"
   ]
  },
  {
   "cell_type": "code",
   "execution_count": 184,
   "metadata": {
    "pycharm": {
     "name": "#%%\n"
    }
   },
   "outputs": [
    {
     "name": "stdout",
     "output_type": "stream",
     "text": [
      "[########################################] | 100% Completed | 447.15 ms\n"
     ]
    },
    {
     "data": {
      "text/html": [
       "<div>\n",
       "<style scoped>\n",
       "    .dataframe tbody tr th:only-of-type {\n",
       "        vertical-align: middle;\n",
       "    }\n",
       "\n",
       "    .dataframe tbody tr th {\n",
       "        vertical-align: top;\n",
       "    }\n",
       "\n",
       "    .dataframe thead th {\n",
       "        text-align: right;\n",
       "    }\n",
       "</style>\n",
       "<table border=\"1\" class=\"dataframe\">\n",
       "  <thead>\n",
       "    <tr style=\"text-align: right;\">\n",
       "      <th></th>\n",
       "      <th>file_id</th>\n",
       "      <th>statement_id</th>\n",
       "      <th>good2_parse_error</th>\n",
       "      <th>good2_file_parse_error_start_context</th>\n",
       "      <th>good2_file_parse_error_highlight</th>\n",
       "      <th>original</th>\n",
       "    </tr>\n",
       "  </thead>\n",
       "  <tbody>\n",
       "    <tr>\n",
       "      <th>15694</th>\n",
       "      <td>425909</td>\n",
       "      <td>13</td>\n",
       "      <td>Expecting )|Invalid expression / Unexpected token|</td>\n",
       "      <td>CREATE TABLE `aa_actions` (\\n  `aaid` |</td>\n",
       "      <td>mediumint|</td>\n",
       "      <td>CREATE TABLE `aa_actions` (\\n  `aaid` mediumint(8) unsigned NOT NULL DEFAULT '0',\\n  `rank` tinyint(3) unsigned NOT NULL DEFAULT '0',\\n  `reuse_time` mediumint(8) unsigned NOT NULL DEFAULT '0',\\n  `spell_id` mediumint(8) unsigned NOT NULL DEFAULT '0',\\n  `cast_time` mediumint(8) unsigned NOT NULL DEFAULT '0',\\n  `target` tinyint(3) unsigned NOT NULL DEFAULT '0',\\n  `nonspell_action` tinyint(3) unsigned NOT NULL DEFAULT '0',\\n  `nonspell_mana` mediumint(8) unsigned NOT NULL DEFAULT '0',\\n  `nonspell_duration` mediumint(8) unsigned NOT NULL DEFAULT '0',\\n  `redux_aa` mediumint(8) unsigned NOT NULL DEFAULT '0',\\n  `redux_rate` tinyint(4) NOT NULL DEFAULT '0',\\n  PRIMARY KEY (`aaid`,`rank`)\\n) ENGINE=MyISAM DEFAULT CHARSET=latin1;</td>\n",
       "    </tr>\n",
       "    <tr>\n",
       "      <th>9537</th>\n",
       "      <td>423504</td>\n",
       "      <td>618</td>\n",
       "      <td>Expecting )|Invalid expression / Unexpected token|</td>\n",
       "      <td>CREATE TABLE `reference_loot_template` (\\n  `Entry` |</td>\n",
       "      <td>mediumint|</td>\n",
       "      <td>CREATE TABLE `reference_loot_template` (\\n  `Entry` mediumint(8) unsigned NOT NULL DEFAULT '0',\\n  `Item` mediumint(8) unsigned NOT NULL DEFAULT '0',\\n  `Reference` mediumint(8) unsigned NOT NULL DEFAULT '0',\\n  `Chance` float NOT NULL DEFAULT '100',\\n  `QuestRequired` tinyint(1) NOT NULL DEFAULT '0',\\n  `LootMode` smallint(5) unsigned NOT NULL DEFAULT '1',\\n  `GroupId` tinyint(3) unsigned NOT NULL DEFAULT '0',\\n  `MinCount` tinyint(3) unsigned NOT NULL DEFAULT '1',\\n  `MaxCount` tinyint(3) unsigned NOT NULL DEFAULT '1',\\n  `Comment` varchar(255) DEFAULT NULL,\\n  PRIMARY KEY (`Entry`,`Item`)\\n) ENGINE=MyISAM DEFAULT CHARSET=utf8 ROW_FORMAT=FIXED COMMENT='Loot System';</td>\n",
       "    </tr>\n",
       "    <tr>\n",
       "      <th>8517</th>\n",
       "      <td>423036</td>\n",
       "      <td>13</td>\n",
       "      <td>Expecting )|Invalid expression / Unexpected token|</td>\n",
       "      <td>CREATE TABLE `sp_address` (\\n  `id` |</td>\n",
       "      <td>mediumint|</td>\n",
       "      <td>CREATE TABLE `sp_address` (\\n  `id` mediumint(8) unsigned NOT NULL AUTO_INCREMENT COMMENT '地址ID',\\n  `name` varchar(10) NOT NULL DEFAULT '' COMMENT '收货人',\\n  `phone` char(11) NOT NULL DEFAULT '' COMMENT '联系电话',\\n  `prov` varchar(20) NOT NULL DEFAULT '' COMMENT '省',\\n  `city` varchar(20) NOT NULL DEFAULT '' COMMENT '市',\\n  `dist` varchar(20) NOT NULL DEFAULT '' COMMENT '区',\\n  `address` varchar(150) NOT NULL DEFAULT '' COMMENT '详细地址',\\n  `email` varchar(50) NOT NULL DEFAULT '' COMMENT '邮箱地址',\\n  `member_id` mediumint(8) unsigned NOT NULL COMMENT '会员ID',\\n  PRIMARY KEY (`id`)\\n) ENGINE=InnoDB AUTO_INCREMENT=4 DEFAULT CHARSET=utf8 COMMENT='地址表';</td>\n",
       "    </tr>\n",
       "    <tr>\n",
       "      <th>10840</th>\n",
       "      <td>424157</td>\n",
       "      <td>22</td>\n",
       "      <td>Expecting )|Invalid expression / Unexpected token|</td>\n",
       "      <td>`Title`\\t\\t\\tvarchar(50) not null,\\n    `CategoryID`\\ttinyint,\\n    `Duration`\\t\\tfloat,\\n    `CreatorID`\\t\\t|</td>\n",
       "      <td>mediumint|</td>\n",
       "      <td>create table if not exists `Exam`\\n(\\n\\t`ExamID`\\t\\ttinyint primary key auto_increment not null,\\n    `Code`\\t\\t\\tvarchar(50) not null,\\n    `Title`\\t\\t\\tvarchar(50) not null,\\n    `CategoryID`\\ttinyint,\\n    `Duration`\\t\\tfloat,\\n    `CreatorID`\\t\\tmediumint,\\n    `CreateDate`\\tdatetime,\\n    \\n    CONSTRAINT fk_ex_acc FOREIGN KEY (`CreatorID`)\\n\\tREFERENCES `account`(`AccountID`),\\n\\tCONSTRAINT fk_ex_cate FOREIGN KEY (`CategoryID`) \\n\\tREFERENCES `CategoryQuestion` (`CategoryID`)\\n  \\n    \\n);</td>\n",
       "    </tr>\n",
       "    <tr>\n",
       "      <th>9526</th>\n",
       "      <td>423504</td>\n",
       "      <td>453</td>\n",
       "      <td>Expecting )|Invalid expression / Unexpected token|</td>\n",
       "      <td>CREATE TABLE `npc_trainer` (\\n  `entry` |</td>\n",
       "      <td>mediumint|</td>\n",
       "      <td>CREATE TABLE `npc_trainer` (\\n  `entry` mediumint(8) unsigned NOT NULL DEFAULT '0',\\n  `spell` mediumint(8) NOT NULL DEFAULT '0',\\n  `spellcost` int(10) unsigned NOT NULL DEFAULT '0',\\n  `reqskill` smallint(5) unsigned NOT NULL DEFAULT '0',\\n  `reqskillvalue` smallint(5) unsigned NOT NULL DEFAULT '0',\\n  `reqlevel` tinyint(3) unsigned NOT NULL DEFAULT '0',\\n  PRIMARY KEY (`entry`,`spell`)\\n) ENGINE=MyISAM DEFAULT CHARSET=utf8;</td>\n",
       "    </tr>\n",
       "  </tbody>\n",
       "</table>\n",
       "</div>"
      ],
      "text/plain": [
       "      file_id  statement_id                                   good2_parse_error                                                                              good2_file_parse_error_start_context good2_file_parse_error_highlight                                                                                                                                                                                                                                                                                                                                                                                                                                                                                                                                                                                                                                                                                                                                                          original\n",
       "15694  425909  13            Expecting )|Invalid expression / Unexpected token|  CREATE TABLE `aa_actions` (\\n  `aaid` |                                                                           mediumint|                       CREATE TABLE `aa_actions` (\\n  `aaid` mediumint(8) unsigned NOT NULL DEFAULT '0',\\n  `rank` tinyint(3) unsigned NOT NULL DEFAULT '0',\\n  `reuse_time` mediumint(8) unsigned NOT NULL DEFAULT '0',\\n  `spell_id` mediumint(8) unsigned NOT NULL DEFAULT '0',\\n  `cast_time` mediumint(8) unsigned NOT NULL DEFAULT '0',\\n  `target` tinyint(3) unsigned NOT NULL DEFAULT '0',\\n  `nonspell_action` tinyint(3) unsigned NOT NULL DEFAULT '0',\\n  `nonspell_mana` mediumint(8) unsigned NOT NULL DEFAULT '0',\\n  `nonspell_duration` mediumint(8) unsigned NOT NULL DEFAULT '0',\\n  `redux_aa` mediumint(8) unsigned NOT NULL DEFAULT '0',\\n  `redux_rate` tinyint(4) NOT NULL DEFAULT '0',\\n  PRIMARY KEY (`aaid`,`rank`)\\n) ENGINE=MyISAM DEFAULT CHARSET=latin1;\n",
       "9537   423504  618           Expecting )|Invalid expression / Unexpected token|  CREATE TABLE `reference_loot_template` (\\n  `Entry` |                                                             mediumint|                       CREATE TABLE `reference_loot_template` (\\n  `Entry` mediumint(8) unsigned NOT NULL DEFAULT '0',\\n  `Item` mediumint(8) unsigned NOT NULL DEFAULT '0',\\n  `Reference` mediumint(8) unsigned NOT NULL DEFAULT '0',\\n  `Chance` float NOT NULL DEFAULT '100',\\n  `QuestRequired` tinyint(1) NOT NULL DEFAULT '0',\\n  `LootMode` smallint(5) unsigned NOT NULL DEFAULT '1',\\n  `GroupId` tinyint(3) unsigned NOT NULL DEFAULT '0',\\n  `MinCount` tinyint(3) unsigned NOT NULL DEFAULT '1',\\n  `MaxCount` tinyint(3) unsigned NOT NULL DEFAULT '1',\\n  `Comment` varchar(255) DEFAULT NULL,\\n  PRIMARY KEY (`Entry`,`Item`)\\n) ENGINE=MyISAM DEFAULT CHARSET=utf8 ROW_FORMAT=FIXED COMMENT='Loot System';                                                            \n",
       "8517   423036  13            Expecting )|Invalid expression / Unexpected token|  CREATE TABLE `sp_address` (\\n  `id` |                                                                             mediumint|                       CREATE TABLE `sp_address` (\\n  `id` mediumint(8) unsigned NOT NULL AUTO_INCREMENT COMMENT '地址ID',\\n  `name` varchar(10) NOT NULL DEFAULT '' COMMENT '收货人',\\n  `phone` char(11) NOT NULL DEFAULT '' COMMENT '联系电话',\\n  `prov` varchar(20) NOT NULL DEFAULT '' COMMENT '省',\\n  `city` varchar(20) NOT NULL DEFAULT '' COMMENT '市',\\n  `dist` varchar(20) NOT NULL DEFAULT '' COMMENT '区',\\n  `address` varchar(150) NOT NULL DEFAULT '' COMMENT '详细地址',\\n  `email` varchar(50) NOT NULL DEFAULT '' COMMENT '邮箱地址',\\n  `member_id` mediumint(8) unsigned NOT NULL COMMENT '会员ID',\\n  PRIMARY KEY (`id`)\\n) ENGINE=InnoDB AUTO_INCREMENT=4 DEFAULT CHARSET=utf8 COMMENT='地址表';                                                                                      \n",
       "10840  424157  22            Expecting )|Invalid expression / Unexpected token|    `Title`\\t\\t\\tvarchar(50) not null,\\n    `CategoryID`\\ttinyint,\\n    `Duration`\\t\\tfloat,\\n    `CreatorID`\\t\\t|  mediumint|                       create table if not exists `Exam`\\n(\\n\\t`ExamID`\\t\\ttinyint primary key auto_increment not null,\\n    `Code`\\t\\t\\tvarchar(50) not null,\\n    `Title`\\t\\t\\tvarchar(50) not null,\\n    `CategoryID`\\ttinyint,\\n    `Duration`\\t\\tfloat,\\n    `CreatorID`\\t\\tmediumint,\\n    `CreateDate`\\tdatetime,\\n    \\n    CONSTRAINT fk_ex_acc FOREIGN KEY (`CreatorID`)\\n\\tREFERENCES `account`(`AccountID`),\\n\\tCONSTRAINT fk_ex_cate FOREIGN KEY (`CategoryID`) \\n\\tREFERENCES `CategoryQuestion` (`CategoryID`)\\n  \\n    \\n);                                                                                                                                                                                                                                            \n",
       "9526   423504  453           Expecting )|Invalid expression / Unexpected token|  CREATE TABLE `npc_trainer` (\\n  `entry` |                                                                         mediumint|                       CREATE TABLE `npc_trainer` (\\n  `entry` mediumint(8) unsigned NOT NULL DEFAULT '0',\\n  `spell` mediumint(8) NOT NULL DEFAULT '0',\\n  `spellcost` int(10) unsigned NOT NULL DEFAULT '0',\\n  `reqskill` smallint(5) unsigned NOT NULL DEFAULT '0',\\n  `reqskillvalue` smallint(5) unsigned NOT NULL DEFAULT '0',\\n  `reqlevel` tinyint(3) unsigned NOT NULL DEFAULT '0',\\n  PRIMARY KEY (`entry`,`spell`)\\n) ENGINE=MyISAM DEFAULT CHARSET=utf8;                                                                                                                                                                                                                                                                                                                  "
      ]
     },
     "execution_count": 184,
     "metadata": {},
     "output_type": "execute_result"
    }
   ],
   "source": [
    "mediumint_check.sample(frac=0.6).head()"
   ]
  },
  {
   "attachments": {},
   "cell_type": "markdown",
   "metadata": {
    "pycharm": {
     "name": "#%% md\n"
    }
   },
   "source": [
    "### variations of text"
   ]
  },
  {
   "cell_type": "code",
   "execution_count": 186,
   "metadata": {
    "pycharm": {
     "name": "#%%\n"
    }
   },
   "outputs": [
    {
     "name": "stdout",
     "output_type": "stream",
     "text": [
      "[########################################] | 100% Completed | 19.48 s\n",
      "[########################################] | 100% Completed | 18.60 s\n",
      "(68750, 20394)\n"
     ]
    }
   ],
   "source": [
    "no_mediumint = no_drop_ctr[\n",
    "    (~no_drop_ctr.good2_file_parse_error_highlight.str.contains('mediumint|',case=False,regex=False))\n",
    "]\n",
    "\n",
    "var_text_check = no_mediumint[\n",
    "    (no_mediumint.good2_file_parse_error_highlight.str.contains('longtext',case=False,regex=False)) |\n",
    "    (no_mediumint.good2_file_parse_error_highlight.str.contains('mediumtext',case=False,regex=False)) |\n",
    "    (no_mediumint.good2_file_parse_error_highlight.str.contains('tinytext',case=False,regex=False))\n",
    "]\n",
    "print(get_stmt_and_file_count(var_text_check))\n",
    "#dot_check.sample(frac=0.6).head()"
   ]
  },
  {
   "cell_type": "code",
   "execution_count": 187,
   "metadata": {
    "pycharm": {
     "name": "#%%\n"
    }
   },
   "outputs": [
    {
     "name": "stdout",
     "output_type": "stream",
     "text": [
      "[########################################] | 100% Completed | 415.35 ms\n"
     ]
    },
    {
     "data": {
      "text/html": [
       "<div>\n",
       "<style scoped>\n",
       "    .dataframe tbody tr th:only-of-type {\n",
       "        vertical-align: middle;\n",
       "    }\n",
       "\n",
       "    .dataframe tbody tr th {\n",
       "        vertical-align: top;\n",
       "    }\n",
       "\n",
       "    .dataframe thead th {\n",
       "        text-align: right;\n",
       "    }\n",
       "</style>\n",
       "<table border=\"1\" class=\"dataframe\">\n",
       "  <thead>\n",
       "    <tr style=\"text-align: right;\">\n",
       "      <th></th>\n",
       "      <th>file_id</th>\n",
       "      <th>statement_id</th>\n",
       "      <th>good2_parse_error</th>\n",
       "      <th>good2_file_parse_error_start_context</th>\n",
       "      <th>good2_file_parse_error_highlight</th>\n",
       "      <th>original</th>\n",
       "    </tr>\n",
       "  </thead>\n",
       "  <tbody>\n",
       "    <tr>\n",
       "      <th>4258</th>\n",
       "      <td>421481</td>\n",
       "      <td>18</td>\n",
       "      <td>Expecting )|Invalid expression / Unexpected token|</td>\n",
       "      <td>\\n  `type` varchar(20) NOT NULL DEFAULT '',\\n  `type_txt` varchar(128) NOT NULL DEFAULT '',\\n  `setup` |</td>\n",
       "      <td>mediumtext|</td>\n",
       "      <td>CREATE TABLE `db_field` (\\n  `id` int(11) NOT NULL AUTO_INCREMENT,\\n  `moduleid` tinyint(3) NOT NULL DEFAULT '0',\\n  `field` varchar(20) NOT NULL DEFAULT '',\\n  `name` varchar(50) NOT NULL DEFAULT '',\\n  `tips` varchar(150) NOT NULL DEFAULT '',\\n  `type` varchar(20) NOT NULL DEFAULT '',\\n  `type_txt` varchar(128) NOT NULL DEFAULT '',\\n  `setup` mediumtext,\\n  `required` tinyint(1) NOT NULL DEFAULT '0',\\n  `issystem` tinyint(1) NOT NULL DEFAULT '0',\\n  `listorder` int(10) NOT NULL DEFAULT '0',\\n  `status` tinyint(1) NOT NULL DEFAULT '0',\\n  `minlength` int(10) NOT NULL DEFAULT '0',\\n  `maxlength` int(10) NOT NULL DEFAULT '0',\\n  `pattern` varchar(128) NOT NULL DEFAULT '',\\n  `ispost` tinyint(1) NOT NULL DEFAULT '1',\\n  `validate` varchar(255) NOT NULL DEFAULT '',\\n  PRIMARY KEY (`id`),\\n  KEY `moduleid` (`moduleid`)\\n) ENGINE=MyISAM DEFAULT CHARSET=utf8;</td>\n",
       "    </tr>\n",
       "    <tr>\n",
       "      <th>4316</th>\n",
       "      <td>421525</td>\n",
       "      <td>87</td>\n",
       "      <td>Expecting )|Invalid expression / Unexpected token|</td>\n",
       "      <td>auto_increment,\\n  `hl7_source` int(11) NOT NULL default '0',\\n  `hl7_source_key` text,\\n  `hl7_data` |</td>\n",
       "      <td>mediumtext|</td>\n",
       "      <td>CREATE TABLE `hl7_in_error` (\\n  `hl7_in_error_id` int(11) NOT NULL auto_increment,\\n  `hl7_source` int(11) NOT NULL default '0',\\n  `hl7_source_key` text,\\n  `hl7_data` mediumtext NOT NULL,\\n  `error` varchar(255) NOT NULL default '',\\n  `error_details` text,\\n  `date_created` datetime NOT NULL default '0000-00-00 00:00:00',\\n  PRIMARY KEY  (`hl7_in_error_id`)\\n) ENGINE=InnoDB DEFAULT CHARSET=utf8;</td>\n",
       "    </tr>\n",
       "    <tr>\n",
       "      <th>2015</th>\n",
       "      <td>420645</td>\n",
       "      <td>66</td>\n",
       "      <td>Expecting )|Invalid expression / Unexpected token|</td>\n",
       "      <td>.course_id\\n  `ci_id` int(11) NOT NULL, -- foreign key to link to courses_items.ci_id\\n  `staff_note` |</td>\n",
       "      <td>mediumtext|</td>\n",
       "      <td>CREATE TABLE `course_reserves` (\\n  `cr_id` int(11) NOT NULL AUTO_INCREMENT,\\n  `course_id` int(11) NOT NULL, -- foreign key to link to courses.course_id\\n  `ci_id` int(11) NOT NULL, -- foreign key to link to courses_items.ci_id\\n  `staff_note` mediumtext, -- staff only note\\n  `public_note` mediumtext, -- public, OPAC visible note\\n  `timestamp` timestamp NOT NULL DEFAULT CURRENT_TIMESTAMP ON UPDATE CURRENT_TIMESTAMP,\\n   PRIMARY KEY (`cr_id`),\\n   UNIQUE KEY `pseudo_key` (`course_id`,`ci_id`),\\n   KEY `course_id` (`course_id`)\\n) ENGINE=InnoDB  DEFAULT CHARSET=utf8 COLLATE=utf8_unicode_ci;</td>\n",
       "    </tr>\n",
       "    <tr>\n",
       "      <th>12964</th>\n",
       "      <td>424902</td>\n",
       "      <td>118</td>\n",
       "      <td>Expecting )|Invalid expression / Unexpected token|</td>\n",
       "      <td>CREATE TABLE `django_session` (\\n  `session_key` varchar(40) NOT NULL,\\n  `session_data` |</td>\n",
       "      <td>longtext|</td>\n",
       "      <td>CREATE TABLE `django_session` (\\n  `session_key` varchar(40) NOT NULL,\\n  `session_data` longtext NOT NULL,\\n  `expire_date` datetime(6) NOT NULL,\\n  PRIMARY KEY (`session_key`),\\n  KEY `django_session_de54fa62` (`expire_date`)\\n) ENGINE=InnoDB DEFAULT CHARSET=utf8mb4;</td>\n",
       "    </tr>\n",
       "    <tr>\n",
       "      <th>8585</th>\n",
       "      <td>423052</td>\n",
       "      <td>231</td>\n",
       "      <td>Expecting )|Invalid expression / Unexpected token|</td>\n",
       "      <td>200) NOT NULL,\\n  `Address` varchar(45) DEFAULT NULL,\\n  `UserName` varchar(45) NOT NULL,\\n  `HeadImg` |</td>\n",
       "      <td>longtext|</td>\n",
       "      <td>CREATE TABLE `wechatuser` (\\n  `ID` int(11) NOT NULL AUTO_INCREMENT,\\n  `OpenID` varchar(200) NOT NULL,\\n  `Address` varchar(45) DEFAULT NULL,\\n  `UserName` varchar(45) NOT NULL,\\n  `HeadImg` longtext NOT NULL,\\n  `Sex` int(11) DEFAULT NULL,\\n  `GPS` varchar(45) DEFAULT NULL,\\n  `Quota` int(11) DEFAULT '0',\\n  `BeginTime` timestamp NULL DEFAULT NULL,\\n  `Credit` float DEFAULT '0',\\n  `IsFollowed` int(11) DEFAULT NULL,\\n  PRIMARY KEY (`ID`)\\n) ENGINE=InnoDB AUTO_INCREMENT=11 DEFAULT CHARSET=utf8;</td>\n",
       "    </tr>\n",
       "  </tbody>\n",
       "</table>\n",
       "</div>"
      ],
      "text/plain": [
       "      file_id  statement_id                                   good2_parse_error                                                                      good2_file_parse_error_start_context good2_file_parse_error_highlight                                                                                                                                                                                                                                                                                                                                                                                                                                                                                                                                                                                                                                                                                                                                                                                                                                                                                           original\n",
       "4258   421481  18            Expecting )|Invalid expression / Unexpected token|  \\n  `type` varchar(20) NOT NULL DEFAULT '',\\n  `type_txt` varchar(128) NOT NULL DEFAULT '',\\n  `setup` |  mediumtext|                      CREATE TABLE `db_field` (\\n  `id` int(11) NOT NULL AUTO_INCREMENT,\\n  `moduleid` tinyint(3) NOT NULL DEFAULT '0',\\n  `field` varchar(20) NOT NULL DEFAULT '',\\n  `name` varchar(50) NOT NULL DEFAULT '',\\n  `tips` varchar(150) NOT NULL DEFAULT '',\\n  `type` varchar(20) NOT NULL DEFAULT '',\\n  `type_txt` varchar(128) NOT NULL DEFAULT '',\\n  `setup` mediumtext,\\n  `required` tinyint(1) NOT NULL DEFAULT '0',\\n  `issystem` tinyint(1) NOT NULL DEFAULT '0',\\n  `listorder` int(10) NOT NULL DEFAULT '0',\\n  `status` tinyint(1) NOT NULL DEFAULT '0',\\n  `minlength` int(10) NOT NULL DEFAULT '0',\\n  `maxlength` int(10) NOT NULL DEFAULT '0',\\n  `pattern` varchar(128) NOT NULL DEFAULT '',\\n  `ispost` tinyint(1) NOT NULL DEFAULT '1',\\n  `validate` varchar(255) NOT NULL DEFAULT '',\\n  PRIMARY KEY (`id`),\\n  KEY `moduleid` (`moduleid`)\\n) ENGINE=MyISAM DEFAULT CHARSET=utf8;\n",
       "4316   421525  87            Expecting )|Invalid expression / Unexpected token|   auto_increment,\\n  `hl7_source` int(11) NOT NULL default '0',\\n  `hl7_source_key` text,\\n  `hl7_data` |  mediumtext|                      CREATE TABLE `hl7_in_error` (\\n  `hl7_in_error_id` int(11) NOT NULL auto_increment,\\n  `hl7_source` int(11) NOT NULL default '0',\\n  `hl7_source_key` text,\\n  `hl7_data` mediumtext NOT NULL,\\n  `error` varchar(255) NOT NULL default '',\\n  `error_details` text,\\n  `date_created` datetime NOT NULL default '0000-00-00 00:00:00',\\n  PRIMARY KEY  (`hl7_in_error_id`)\\n) ENGINE=InnoDB DEFAULT CHARSET=utf8;                                                                                                                                                                                                                                                                                                                                                                                                                                                                               \n",
       "2015   420645  66            Expecting )|Invalid expression / Unexpected token|  .course_id\\n  `ci_id` int(11) NOT NULL, -- foreign key to link to courses_items.ci_id\\n  `staff_note` |   mediumtext|                      CREATE TABLE `course_reserves` (\\n  `cr_id` int(11) NOT NULL AUTO_INCREMENT,\\n  `course_id` int(11) NOT NULL, -- foreign key to link to courses.course_id\\n  `ci_id` int(11) NOT NULL, -- foreign key to link to courses_items.ci_id\\n  `staff_note` mediumtext, -- staff only note\\n  `public_note` mediumtext, -- public, OPAC visible note\\n  `timestamp` timestamp NOT NULL DEFAULT CURRENT_TIMESTAMP ON UPDATE CURRENT_TIMESTAMP,\\n   PRIMARY KEY (`cr_id`),\\n   UNIQUE KEY `pseudo_key` (`course_id`,`ci_id`),\\n   KEY `course_id` (`course_id`)\\n) ENGINE=InnoDB  DEFAULT CHARSET=utf8 COLLATE=utf8_unicode_ci;                                                                                                                                                                                                                                                                           \n",
       "12964  424902  118           Expecting )|Invalid expression / Unexpected token|  CREATE TABLE `django_session` (\\n  `session_key` varchar(40) NOT NULL,\\n  `session_data` |                longtext|                        CREATE TABLE `django_session` (\\n  `session_key` varchar(40) NOT NULL,\\n  `session_data` longtext NOT NULL,\\n  `expire_date` datetime(6) NOT NULL,\\n  PRIMARY KEY (`session_key`),\\n  KEY `django_session_de54fa62` (`expire_date`)\\n) ENGINE=InnoDB DEFAULT CHARSET=utf8mb4;                                                                                                                                                                                                                                                                                                                                                                                                                                                                                                                                                                                                                    \n",
       "8585   423052  231           Expecting )|Invalid expression / Unexpected token|  200) NOT NULL,\\n  `Address` varchar(45) DEFAULT NULL,\\n  `UserName` varchar(45) NOT NULL,\\n  `HeadImg` |  longtext|                        CREATE TABLE `wechatuser` (\\n  `ID` int(11) NOT NULL AUTO_INCREMENT,\\n  `OpenID` varchar(200) NOT NULL,\\n  `Address` varchar(45) DEFAULT NULL,\\n  `UserName` varchar(45) NOT NULL,\\n  `HeadImg` longtext NOT NULL,\\n  `Sex` int(11) DEFAULT NULL,\\n  `GPS` varchar(45) DEFAULT NULL,\\n  `Quota` int(11) DEFAULT '0',\\n  `BeginTime` timestamp NULL DEFAULT NULL,\\n  `Credit` float DEFAULT '0',\\n  `IsFollowed` int(11) DEFAULT NULL,\\n  PRIMARY KEY (`ID`)\\n) ENGINE=InnoDB AUTO_INCREMENT=11 DEFAULT CHARSET=utf8;                                                                                                                                                                                                                                                                                                                                                                             "
      ]
     },
     "execution_count": 187,
     "metadata": {},
     "output_type": "execute_result"
    }
   ],
   "source": [
    "var_text_check.sample(frac=0.6).head()"
   ]
  },
  {
   "attachments": {},
   "cell_type": "markdown",
   "metadata": {
    "pycharm": {
     "name": "#%% md\n"
    }
   },
   "source": [
    "### ADD"
   ]
  },
  {
   "cell_type": "code",
   "execution_count": 193,
   "metadata": {
    "pycharm": {
     "name": "#%%\n"
    }
   },
   "outputs": [
    {
     "name": "stdout",
     "output_type": "stream",
     "text": [
      "[########################################] | 100% Completed | 16.08 s\n",
      "[########################################] | 100% Completed | 15.65 s\n",
      "(77460, 11020)\n"
     ]
    }
   ],
   "source": [
    "no_var_text = no_mediumint[\n",
    "    ~((no_mediumint.good2_file_parse_error_highlight.str.contains('longtext',case=False,regex=False)) |\n",
    "    (no_mediumint.good2_file_parse_error_highlight.str.contains('mediumtext',case=False,regex=False)) |\n",
    "    (no_mediumint.good2_file_parse_error_highlight.str.contains('tinytext',case=False,regex=False)))\n",
    "]\n",
    "\n",
    "add_chk = no_var_text[\n",
    "    (no_var_text.good2_file_parse_error_highlight.str.contains('add',case=False,regex=False))\n",
    "]\n",
    "\n",
    "print(get_stmt_and_file_count(add_chk))\n",
    "#dot_check.sample(frac=0.6).head()"
   ]
  },
  {
   "cell_type": "code",
   "execution_count": 192,
   "metadata": {
    "pycharm": {
     "name": "#%%\n"
    }
   },
   "outputs": [
    {
     "name": "stdout",
     "output_type": "stream",
     "text": [
      "[########################################] | 100% Completed | 22.95 s\n",
      "[########################################] | 100% Completed | 21.24 s\n",
      "(30374, 1691)\n"
     ]
    }
   ],
   "source": [
    "add_idx_chk = no_var_text[\n",
    "    (no_var_text.good2_file_parse_error_highlight.str.contains('add',case=False,regex=False)) &\n",
    "    (no_var_text.original.str.contains('ALTER TABLE',case=False,regex=False)) &\n",
    "    (no_var_text.original.str.contains('ADD INDEX',case=False,regex=False))\n",
    "]\n",
    "print(get_stmt_and_file_count(add_idx_chk))"
   ]
  },
  {
   "cell_type": "code",
   "execution_count": 194,
   "metadata": {
    "pycharm": {
     "name": "#%%\n"
    }
   },
   "outputs": [
    {
     "name": "stdout",
     "output_type": "stream",
     "text": [
      "[########################################] | 100% Completed | 18.12 s\n",
      "[########################################] | 100% Completed | 18.46 s\n",
      "(3790, 1328)\n"
     ]
    }
   ],
   "source": [
    "add_uq_chk = no_var_text[\n",
    "    (no_var_text.good2_file_parse_error_highlight.str.contains('add',case=False,regex=False)) &\n",
    "    (no_var_text.original.str.contains('ALTER TABLE',case=False,regex=False)) &\n",
    "    (no_var_text.original.str.contains('ADD UNIQUE',case=False,regex=False))\n",
    "]\n",
    "print(get_stmt_and_file_count(add_uq_chk))"
   ]
  },
  {
   "cell_type": "code",
   "execution_count": 196,
   "metadata": {
    "pycharm": {
     "name": "#%%\n"
    }
   },
   "outputs": [
    {
     "name": "stdout",
     "output_type": "stream",
     "text": [
      "[########################################] | 100% Completed | 13.69 s\n",
      "[########################################] | 100% Completed | 14.54 s\n",
      "(26046, 1307)\n"
     ]
    }
   ],
   "source": [
    "add_ctr_chk = no_var_text[\n",
    "    (no_var_text.good2_file_parse_error_highlight.str.contains('add',case=False,regex=False)) &\n",
    "    (no_var_text.original.str.contains('ALTER TABLE',case=False,regex=False)) &\n",
    "    (no_var_text.original.str.contains('ADD CONSTRAINT',case=False,regex=False))\n",
    "]\n",
    "print(get_stmt_and_file_count(add_ctr_chk))"
   ]
  },
  {
   "cell_type": "code",
   "execution_count": 199,
   "metadata": {
    "pycharm": {
     "name": "#%%\n"
    }
   },
   "outputs": [
    {
     "name": "stdout",
     "output_type": "stream",
     "text": [
      "[########################################] | 100% Completed | 732.57 ms\n"
     ]
    },
    {
     "data": {
      "text/html": [
       "<div>\n",
       "<style scoped>\n",
       "    .dataframe tbody tr th:only-of-type {\n",
       "        vertical-align: middle;\n",
       "    }\n",
       "\n",
       "    .dataframe tbody tr th {\n",
       "        vertical-align: top;\n",
       "    }\n",
       "\n",
       "    .dataframe thead th {\n",
       "        text-align: right;\n",
       "    }\n",
       "</style>\n",
       "<table border=\"1\" class=\"dataframe\">\n",
       "  <thead>\n",
       "    <tr style=\"text-align: right;\">\n",
       "      <th></th>\n",
       "      <th>file_id</th>\n",
       "      <th>statement_id</th>\n",
       "      <th>good2_parse_error</th>\n",
       "      <th>good2_file_parse_error_start_context</th>\n",
       "      <th>good2_file_parse_error_highlight</th>\n",
       "      <th>original</th>\n",
       "    </tr>\n",
       "  </thead>\n",
       "  <tbody>\n",
       "    <tr>\n",
       "      <th>433</th>\n",
       "      <td>419965</td>\n",
       "      <td>89</td>\n",
       "      <td>Invalid expression / Unexpected token|</td>\n",
       "      <td>alter table PASSPORTS \\n        |</td>\n",
       "      <td>add|</td>\n",
       "      <td>alter table PASSPORTS \\n        add index FK6E63068170433D02 (TRAVELLER_ID), \\n        add constraint FK6E63068170433D02 \\n        foreign key (TRAVELLER_ID) \\n        references TRAVELLERS (ID);</td>\n",
       "    </tr>\n",
       "    <tr>\n",
       "      <th>1540</th>\n",
       "      <td>420467</td>\n",
       "      <td>5</td>\n",
       "      <td>Invalid expression / Unexpected token|</td>\n",
       "      <td>--给员工表设置外键emp_dept_id(带级联置空)\\nALTER TABLE emp\\n|</td>\n",
       "      <td>ADD|</td>\n",
       "      <td>--给员工表设置外键emp_dept_id(带级联置空)\\nALTER TABLE emp\\nADD CONSTRAINTS emp_dept_id_fk FOREIGN KEY(emp_dept_id)\\nREFERENCES dept (dept_id)\\nON DELETE SET NULL;</td>\n",
       "    </tr>\n",
       "    <tr>\n",
       "      <th>436</th>\n",
       "      <td>419965</td>\n",
       "      <td>92</td>\n",
       "      <td>Invalid expression / Unexpected token|</td>\n",
       "      <td>alter table PEOPLE \\n        |</td>\n",
       "      <td>add|</td>\n",
       "      <td>alter table PEOPLE \\n        add index FK8C75268F396AC1B2 (BIRTH_CITY_ID), \\n        add constraint FK8C75268F396AC1B2 \\n        foreign key (BIRTH_CITY_ID) \\n        references CITIES (ID);</td>\n",
       "    </tr>\n",
       "    <tr>\n",
       "      <th>430</th>\n",
       "      <td>419965</td>\n",
       "      <td>86</td>\n",
       "      <td>Invalid expression / Unexpected token|</td>\n",
       "      <td>alter table MEDICALASSESSMENTS \\n        |</td>\n",
       "      <td>add|</td>\n",
       "      <td>alter table MEDICALASSESSMENTS \\n        add index FK296ECEC070433D02 (TRAVELLER_ID), \\n        add constraint FK296ECEC070433D02 \\n        foreign key (TRAVELLER_ID) \\n        references TRAVELLERS (ID);</td>\n",
       "    </tr>\n",
       "    <tr>\n",
       "      <th>2401</th>\n",
       "      <td>420818</td>\n",
       "      <td>63</td>\n",
       "      <td>Invalid expression / Unexpected token|</td>\n",
       "      <td>ol2SvcClass\\n  ADD CONSTRAINT FK_DiskPool2SvcClass_P FOREIGN KEY (Parent) REFERENCES DiskPool (id)\\n  |</td>\n",
       "      <td>ADD|</td>\n",
       "      <td>ALTER TABLE DiskPool2SvcClass\\n  ADD CONSTRAINT FK_DiskPool2SvcClass_P FOREIGN KEY (Parent) REFERENCES DiskPool (id)\\n  ADD CONSTRAINT FK_DiskPool2SvcClass_C FOREIGN KEY (Child) REFERENCES SvcClass (id);</td>\n",
       "    </tr>\n",
       "  </tbody>\n",
       "</table>\n",
       "</div>"
      ],
      "text/plain": [
       "     file_id  statement_id                       good2_parse_error                                                                     good2_file_parse_error_start_context good2_file_parse_error_highlight                                                                                                                                                                                                      original\n",
       "433   419965  89            Invalid expression / Unexpected token|  alter table PASSPORTS \\n        |                                                                        add|                             alter table PASSPORTS \\n        add index FK6E63068170433D02 (TRAVELLER_ID), \\n        add constraint FK6E63068170433D02 \\n        foreign key (TRAVELLER_ID) \\n        references TRAVELLERS (ID);         \n",
       "1540  420467  5             Invalid expression / Unexpected token|  --给员工表设置外键emp_dept_id(带级联置空)\\nALTER TABLE emp\\n|                                                         ADD|                             --给员工表设置外键emp_dept_id(带级联置空)\\nALTER TABLE emp\\nADD CONSTRAINTS emp_dept_id_fk FOREIGN KEY(emp_dept_id)\\nREFERENCES dept (dept_id)\\nON DELETE SET NULL;                                                      \n",
       "436   419965  92            Invalid expression / Unexpected token|  alter table PEOPLE \\n        |                                                                           add|                             alter table PEOPLE \\n        add index FK8C75268F396AC1B2 (BIRTH_CITY_ID), \\n        add constraint FK8C75268F396AC1B2 \\n        foreign key (BIRTH_CITY_ID) \\n        references CITIES (ID);              \n",
       "430   419965  86            Invalid expression / Unexpected token|  alter table MEDICALASSESSMENTS \\n        |                                                               add|                             alter table MEDICALASSESSMENTS \\n        add index FK296ECEC070433D02 (TRAVELLER_ID), \\n        add constraint FK296ECEC070433D02 \\n        foreign key (TRAVELLER_ID) \\n        references TRAVELLERS (ID);\n",
       "2401  420818  63            Invalid expression / Unexpected token|  ol2SvcClass\\n  ADD CONSTRAINT FK_DiskPool2SvcClass_P FOREIGN KEY (Parent) REFERENCES DiskPool (id)\\n  |  ADD|                             ALTER TABLE DiskPool2SvcClass\\n  ADD CONSTRAINT FK_DiskPool2SvcClass_P FOREIGN KEY (Parent) REFERENCES DiskPool (id)\\n  ADD CONSTRAINT FK_DiskPool2SvcClass_C FOREIGN KEY (Child) REFERENCES SvcClass (id); "
      ]
     },
     "execution_count": 199,
     "metadata": {},
     "output_type": "execute_result"
    }
   ],
   "source": [
    "add_ctr_chk.sample(frac=0.6).head()"
   ]
  },
  {
   "attachments": {},
   "cell_type": "markdown",
   "metadata": {
    "pycharm": {
     "name": "#%% md\n"
    }
   },
   "source": [
    "### $FILE"
   ]
  },
  {
   "cell_type": "code",
   "execution_count": 202,
   "metadata": {
    "pycharm": {
     "name": "#%%\n"
    }
   },
   "outputs": [
    {
     "name": "stdout",
     "output_type": "stream",
     "text": [
      "[########################################] | 100% Completed | 23.99 s\n",
      "[########################################] | 100% Completed | 28.12 s\n",
      "(22263, 519)\n"
     ]
    }
   ],
   "source": [
    "no_add = no_var_text[\n",
    "    ~((no_var_text.good2_file_parse_error_highlight.str.contains('add',case=False,regex=False)) &\n",
    "    (no_var_text.original.str.contains('ALTER TABLE',case=False,regex=False)) &\n",
    "    (\n",
    "        (no_var_text.original.str.contains('ADD UNIQUE',case=False,regex=False)) |\n",
    "        (no_var_text.original.str.contains('ADD CONSTRAINT',case=False,regex=False)) |\n",
    "        (no_var_text.original.str.contains('ADD INDEX',case=False,regex=False))\n",
    "    ))\n",
    "]\n",
    "\n",
    "file_thing_check = no_add[\n",
    "    (no_add.original.str.contains('$FILE',case=False,regex=False))\n",
    "]\n",
    "print(get_stmt_and_file_count(file_thing_check))\n",
    "#dot_check.sample(frac=0.6).head()    "
   ]
  },
  {
   "attachments": {},
   "cell_type": "markdown",
   "metadata": {
    "pycharm": {
     "name": "#%% md\n"
    }
   },
   "source": [
    "### ADD AGAIN"
   ]
  },
  {
   "cell_type": "code",
   "execution_count": 209,
   "metadata": {
    "pycharm": {
     "name": "#%%\n"
    }
   },
   "outputs": [
    {
     "name": "stdout",
     "output_type": "stream",
     "text": [
      "[########################################] | 100% Completed | 26.61 s\n",
      "[########################################] | 100% Completed | 28.10 s\n",
      "(29229, 5013)\n"
     ]
    }
   ],
   "source": [
    "no_file_thing = no_add[\n",
    "    (~no_add.original.str.contains('$FILE',case=False,regex=False))\n",
    "]\n",
    "\n",
    "add_gain_check = no_file_thing[\n",
    "    (no_file_thing.good2_file_parse_error_highlight.str.contains('add',case=False,regex=False)) &\n",
    "    (no_file_thing.original.str.contains('ALTER TABLE',case=False,regex=False))\n",
    "]\n",
    "print(get_stmt_and_file_count(add_gain_check))\n",
    "#dot_check.sample(frac=0.6).head()   "
   ]
  },
  {
   "cell_type": "code",
   "execution_count": 207,
   "metadata": {
    "pycharm": {
     "name": "#%%\n"
    }
   },
   "outputs": [
    {
     "name": "stdout",
     "output_type": "stream",
     "text": [
      "[########################################] | 100% Completed | 818.76 ms\n"
     ]
    },
    {
     "data": {
      "text/html": [
       "<div>\n",
       "<style scoped>\n",
       "    .dataframe tbody tr th:only-of-type {\n",
       "        vertical-align: middle;\n",
       "    }\n",
       "\n",
       "    .dataframe tbody tr th {\n",
       "        vertical-align: top;\n",
       "    }\n",
       "\n",
       "    .dataframe thead th {\n",
       "        text-align: right;\n",
       "    }\n",
       "</style>\n",
       "<table border=\"1\" class=\"dataframe\">\n",
       "  <thead>\n",
       "    <tr style=\"text-align: right;\">\n",
       "      <th></th>\n",
       "      <th>file_id</th>\n",
       "      <th>statement_id</th>\n",
       "      <th>good2_parse_error</th>\n",
       "      <th>good2_file_parse_error_start_context</th>\n",
       "      <th>good2_file_parse_error_highlight</th>\n",
       "      <th>original</th>\n",
       "    </tr>\n",
       "  </thead>\n",
       "  <tbody>\n",
       "    <tr>\n",
       "      <th>4860</th>\n",
       "      <td>421744</td>\n",
       "      <td>84</td>\n",
       "      <td>Invalid expression / Unexpected token|</td>\n",
       "      <td>ALTER TABLE TWO_FACTOR_DEVICE_SERIAL |</td>\n",
       "      <td>ADD|</td>\n",
       "      <td>ALTER TABLE TWO_FACTOR_DEVICE_SERIAL ADD (\\n CONSTRAINT TWO_FACTOR_DEVICE_SERIAL_R01\\n FOREIGN KEY (USER_UUID)\\n REFERENCES TWO_FACTOR_USER (UUID));</td>\n",
       "    </tr>\n",
       "    <tr>\n",
       "      <th>14284</th>\n",
       "      <td>425193</td>\n",
       "      <td>110</td>\n",
       "      <td>Invalid expression / Unexpected token|</td>\n",
       "      <td>ALTER TABLE \"C##DBETAPA1\".\"AUTH_USER\" |</td>\n",
       "      <td>ADD|</td>\n",
       "      <td>ALTER TABLE \"C##DBETAPA1\".\"AUTH_USER\" ADD CHECK (\"IS_SUPERUSER\" IN (0,1)) ENABLE;</td>\n",
       "    </tr>\n",
       "    <tr>\n",
       "      <th>4857</th>\n",
       "      <td>421744</td>\n",
       "      <td>70</td>\n",
       "      <td>Invalid expression / Unexpected token|</td>\n",
       "      <td>ALTER TABLE TWO_FACTOR_REPORT_ROLLUP |</td>\n",
       "      <td>ADD|</td>\n",
       "      <td>ALTER TABLE TWO_FACTOR_REPORT_ROLLUP ADD (\\n CONSTRAINT TWO_FACTOR_REPORT_ROLLUP_R02\\n  FOREIGN KEY (CHILD_REPORT_UUID)\\n  REFERENCES TWO_FACTOR_REPORT (UUID));</td>\n",
       "    </tr>\n",
       "    <tr>\n",
       "      <th>937</th>\n",
       "      <td>420214</td>\n",
       "      <td>0</td>\n",
       "      <td>Invalid expression / Unexpected token|</td>\n",
       "      <td>-- PROFILE\\n\\nalter table DB_WCT.PROFILE |</td>\n",
       "      <td>add|</td>\n",
       "      <td>-- PROFILE\\n\\nalter table DB_WCT.PROFILE add (P_HARVESTER_TYPE varchar2(40));</td>\n",
       "    </tr>\n",
       "    <tr>\n",
       "      <th>2272</th>\n",
       "      <td>420733</td>\n",
       "      <td>10</td>\n",
       "      <td>Invalid expression / Unexpected token|</td>\n",
       "      <td>ALTER TABLE anuncios\\n|</td>\n",
       "      <td>ADD|</td>\n",
       "      <td>ALTER TABLE anuncios\\nADD fk_anuncio INT NOT NULL\\nAFTER precio;</td>\n",
       "    </tr>\n",
       "  </tbody>\n",
       "</table>\n",
       "</div>"
      ],
      "text/plain": [
       "      file_id  statement_id                       good2_parse_error        good2_file_parse_error_start_context good2_file_parse_error_highlight                                                                                                                                                          original\n",
       "4860   421744  84            Invalid expression / Unexpected token|  ALTER TABLE TWO_FACTOR_DEVICE_SERIAL |      ADD|                             ALTER TABLE TWO_FACTOR_DEVICE_SERIAL ADD (\\n CONSTRAINT TWO_FACTOR_DEVICE_SERIAL_R01\\n FOREIGN KEY (USER_UUID)\\n REFERENCES TWO_FACTOR_USER (UUID));            \n",
       "14284  425193  110           Invalid expression / Unexpected token|  ALTER TABLE \"C##DBETAPA1\".\"AUTH_USER\" |     ADD|                             ALTER TABLE \"C##DBETAPA1\".\"AUTH_USER\" ADD CHECK (\"IS_SUPERUSER\" IN (0,1)) ENABLE;                                                                               \n",
       "4857   421744  70            Invalid expression / Unexpected token|  ALTER TABLE TWO_FACTOR_REPORT_ROLLUP |      ADD|                             ALTER TABLE TWO_FACTOR_REPORT_ROLLUP ADD (\\n CONSTRAINT TWO_FACTOR_REPORT_ROLLUP_R02\\n  FOREIGN KEY (CHILD_REPORT_UUID)\\n  REFERENCES TWO_FACTOR_REPORT (UUID));\n",
       "937    420214  0             Invalid expression / Unexpected token|  -- PROFILE\\n\\nalter table DB_WCT.PROFILE |  add|                             -- PROFILE\\n\\nalter table DB_WCT.PROFILE add (P_HARVESTER_TYPE varchar2(40));                                                                                   \n",
       "2272   420733  10            Invalid expression / Unexpected token|  ALTER TABLE anuncios\\n|                     ADD|                             ALTER TABLE anuncios\\nADD fk_anuncio INT NOT NULL\\nAFTER precio;                                                                                                "
      ]
     },
     "execution_count": 207,
     "metadata": {},
     "output_type": "execute_result"
    }
   ],
   "source": [
    "add_gain_check.sample(frac=0.6).head() "
   ]
  },
  {
   "attachments": {},
   "cell_type": "markdown",
   "metadata": {
    "pycharm": {
     "name": "#%% md\n"
    }
   },
   "source": [
    "### {install:drop_tables} thing"
   ]
  },
  {
   "cell_type": "code",
   "execution_count": 215,
   "metadata": {
    "pycharm": {
     "name": "#%%\n"
    }
   },
   "outputs": [
    {
     "name": "stdout",
     "output_type": "stream",
     "text": [
      "[########################################] | 100% Completed | 23.25 s\n",
      "[########################################] | 100% Completed | 22.92 s\n",
      "(9689, 204)\n"
     ]
    }
   ],
   "source": [
    "no_add_again = no_file_thing[\n",
    "    ~((no_file_thing.good2_file_parse_error_highlight.str.contains('add',case=False,regex=False)) &\n",
    "    (no_file_thing.original.str.contains('ALTER TABLE',case=False,regex=False)))\n",
    "]\n",
    "\n",
    "install_thing_chk = no_add_again[\n",
    "    (no_add_again.original.str.contains('{install:',case=False,regex=False))\n",
    "]\n",
    "print(get_stmt_and_file_count(install_thing_chk))\n",
    "#dot_check.sample(frac=0.6).head()   "
   ]
  },
  {
   "attachments": {},
   "cell_type": "markdown",
   "metadata": {
    "pycharm": {
     "name": "#%% md\n"
    }
   },
   "source": [
    "### INTO"
   ]
  },
  {
   "cell_type": "code",
   "execution_count": 218,
   "metadata": {
    "pycharm": {
     "name": "#%%\n"
    }
   },
   "outputs": [],
   "source": [
    "no_install_thing = no_add_again[\n",
    "    (~no_add_again.original.str.contains('{install:',case=False,regex=False))\n",
    "]\n",
    "\n",
    "into_chk = no_install_thing[\n",
    "    (no_install_thing.good2_file_parse_error_highlight.str.contains('INTO',case=False,regex=False))\n",
    "]\n",
    "#print(get_stmt_and_file_count(install_thing_chk))\n",
    "#dot_check.sample(frac=0.6).head()   "
   ]
  },
  {
   "cell_type": "code",
   "execution_count": 220,
   "metadata": {
    "pycharm": {
     "name": "#%%\n"
    }
   },
   "outputs": [
    {
     "name": "stdout",
     "output_type": "stream",
     "text": [
      "[########################################] | 100% Completed | 31.23 s\n",
      "[########################################] | 100% Completed | 26.26 s\n",
      "(4286, 565)\n"
     ]
    }
   ],
   "source": [
    "rem_into_chk = no_install_thing[\n",
    "    (no_install_thing.good2_file_parse_error_highlight.str.contains('INTO',case=False,regex=False)) &\n",
    "    (no_install_thing.original.str.contains('REM INSERTING',case=False,regex=False))\n",
    "]\n",
    "print(get_stmt_and_file_count(rem_into_chk))"
   ]
  },
  {
   "cell_type": "code",
   "execution_count": 221,
   "metadata": {
    "pycharm": {
     "name": "#%%\n"
    }
   },
   "outputs": [
    {
     "name": "stdout",
     "output_type": "stream",
     "text": [
      "[########################################] | 100% Completed | 29.32 s\n",
      "[########################################] | 100% Completed | 32.79 s\n",
      "(21471, 1626)\n"
     ]
    }
   ],
   "source": [
    "insert_ignore_chk = no_install_thing[\n",
    "    (no_install_thing.good2_file_parse_error_highlight.str.contains('INTO',case=False,regex=False)) &\n",
    "    (no_install_thing.original.str.contains('INSERT IGNORE INTO',case=False,regex=False))\n",
    "]\n",
    "print(get_stmt_and_file_count(insert_ignore_chk))"
   ]
  },
  {
   "cell_type": "code",
   "execution_count": 223,
   "metadata": {
    "pycharm": {
     "name": "#%%\n"
    }
   },
   "outputs": [
    {
     "name": "stdout",
     "output_type": "stream",
     "text": [
      "[########################################] | 100% Completed | 881.23 ms\n"
     ]
    },
    {
     "data": {
      "text/html": [
       "<div>\n",
       "<style scoped>\n",
       "    .dataframe tbody tr th:only-of-type {\n",
       "        vertical-align: middle;\n",
       "    }\n",
       "\n",
       "    .dataframe tbody tr th {\n",
       "        vertical-align: top;\n",
       "    }\n",
       "\n",
       "    .dataframe thead th {\n",
       "        text-align: right;\n",
       "    }\n",
       "</style>\n",
       "<table border=\"1\" class=\"dataframe\">\n",
       "  <thead>\n",
       "    <tr style=\"text-align: right;\">\n",
       "      <th></th>\n",
       "      <th>file_id</th>\n",
       "      <th>statement_id</th>\n",
       "      <th>good2_parse_error</th>\n",
       "      <th>good2_file_parse_error_start_context</th>\n",
       "      <th>good2_file_parse_error_highlight</th>\n",
       "      <th>original</th>\n",
       "    </tr>\n",
       "  </thead>\n",
       "  <tbody>\n",
       "    <tr>\n",
       "      <th>89</th>\n",
       "      <td>419802</td>\n",
       "      <td>9</td>\n",
       "      <td>Invalid expression / Unexpected token|</td>\n",
       "      <td>INSERT IGNORE |</td>\n",
       "      <td>INTO|</td>\n",
       "      <td>INSERT IGNORE INTO `cloud`.`configuration` VALUES ('Domain Defaults', 'DEFAULT', 'management-server', 'max.domain.volumes','-1','The default maximum number of volumes that can be created for a domain', '-1', NULL, NULL, 0);</td>\n",
       "    </tr>\n",
       "    <tr>\n",
       "      <th>8061</th>\n",
       "      <td>422827</td>\n",
       "      <td>38</td>\n",
       "      <td>Invalid expression / Unexpected token|</td>\n",
       "      <td>INSERT IGNORE |</td>\n",
       "      <td>INTO|</td>\n",
       "      <td>INSERT IGNORE INTO tiki_article_types(type,show_post_expire) VALUES ('Event','n');</td>\n",
       "    </tr>\n",
       "    <tr>\n",
       "      <th>13046</th>\n",
       "      <td>424965</td>\n",
       "      <td>42</td>\n",
       "      <td>Invalid expression / Unexpected token|</td>\n",
       "      <td>--\\n-- Dumping data for table `#__menu_types`\\n--\\n\\nINSERT IGNORE |</td>\n",
       "      <td>INTO|</td>\n",
       "      <td>--\\n-- Dumping data for table `#__menu_types`\\n--\\n\\nINSERT IGNORE INTO `#__menu_types` (`id`, `asset_id`, `menutype`, `title`, `description`, `client_id`) VALUES\\n(1, 0, 'mainmenu', 'Main Menu', 'The main menu for the site', 0);</td>\n",
       "    </tr>\n",
       "    <tr>\n",
       "      <th>85</th>\n",
       "      <td>419802</td>\n",
       "      <td>5</td>\n",
       "      <td>Invalid expression / Unexpected token|</td>\n",
       "      <td>INSERT IGNORE |</td>\n",
       "      <td>INTO|</td>\n",
       "      <td>INSERT IGNORE INTO `cloud`.`configuration` VALUES ('Domain Defaults', 'DEFAULT', 'management-server', 'max.domain.user.vms','-1','The default maximum number of user VMs that can be deployed for a domain', '-1', NULL, NULL, 0);</td>\n",
       "    </tr>\n",
       "    <tr>\n",
       "      <th>101</th>\n",
       "      <td>419802</td>\n",
       "      <td>39</td>\n",
       "      <td>Invalid expression / Unexpected token|</td>\n",
       "      <td>INSERT IGNORE |</td>\n",
       "      <td>INTO|</td>\n",
       "      <td>INSERT IGNORE INTO `cloud`.`configuration` (`category`, `instance`, `component`, `name`, `value`, `default_value`, `description`) VALUES ('Advanced', 'DEFAULT', 'ManagementServer', 'ovm3.heartbeat.interval' , '10', '1', 'Interval value the checkheartbeat script uses before triggering the timeout for ovm3');</td>\n",
       "    </tr>\n",
       "  </tbody>\n",
       "</table>\n",
       "</div>"
      ],
      "text/plain": [
       "      file_id  statement_id                       good2_parse_error                                  good2_file_parse_error_start_context good2_file_parse_error_highlight                                                                                                                                                                                                                                                                                                              original\n",
       "89     419802  9             Invalid expression / Unexpected token|  INSERT IGNORE |                                                       INTO|                            INSERT IGNORE INTO `cloud`.`configuration` VALUES ('Domain Defaults', 'DEFAULT', 'management-server', 'max.domain.volumes','-1','The default maximum number of volumes that can be created for a domain', '-1', NULL, NULL, 0);                                                                                     \n",
       "8061   422827  38            Invalid expression / Unexpected token|  INSERT IGNORE |                                                       INTO|                            INSERT IGNORE INTO tiki_article_types(type,show_post_expire) VALUES ('Event','n');                                                                                                                                                                                                                                  \n",
       "13046  424965  42            Invalid expression / Unexpected token|  --\\n-- Dumping data for table `#__menu_types`\\n--\\n\\nINSERT IGNORE |  INTO|                            --\\n-- Dumping data for table `#__menu_types`\\n--\\n\\nINSERT IGNORE INTO `#__menu_types` (`id`, `asset_id`, `menutype`, `title`, `description`, `client_id`) VALUES\\n(1, 0, 'mainmenu', 'Main Menu', 'The main menu for the site', 0);                                                                               \n",
       "85     419802  5             Invalid expression / Unexpected token|  INSERT IGNORE |                                                       INTO|                            INSERT IGNORE INTO `cloud`.`configuration` VALUES ('Domain Defaults', 'DEFAULT', 'management-server', 'max.domain.user.vms','-1','The default maximum number of user VMs that can be deployed for a domain', '-1', NULL, NULL, 0);                                                                                  \n",
       "101    419802  39            Invalid expression / Unexpected token|  INSERT IGNORE |                                                       INTO|                            INSERT IGNORE INTO `cloud`.`configuration` (`category`, `instance`, `component`, `name`, `value`, `default_value`, `description`) VALUES ('Advanced', 'DEFAULT', 'ManagementServer', 'ovm3.heartbeat.interval' , '10', '1', 'Interval value the checkheartbeat script uses before triggering the timeout for ovm3');"
      ]
     },
     "execution_count": 223,
     "metadata": {},
     "output_type": "execute_result"
    }
   ],
   "source": [
    "insert_ignore_chk.sample(frac=0.6).head()   "
   ]
  },
  {
   "attachments": {},
   "cell_type": "markdown",
   "metadata": {
    "pycharm": {
     "name": "#%% md\n"
    }
   },
   "source": [
    "### RESTRICT"
   ]
  },
  {
   "cell_type": "code",
   "execution_count": 226,
   "metadata": {
    "pycharm": {
     "name": "#%%\n"
    }
   },
   "outputs": [
    {
     "name": "stdout",
     "output_type": "stream",
     "text": [
      "[########################################] | 100% Completed | 26.96 s\n",
      "[########################################] | 100% Completed | 29.62 s\n",
      "(25255, 2612)\n"
     ]
    }
   ],
   "source": [
    "no_into = no_install_thing[\n",
    "    ~((no_install_thing.good2_file_parse_error_highlight.str.contains('INTO',case=False,regex=False)) &\n",
    "    (\n",
    "        (no_install_thing.original.str.contains('REM INSERTING',case=False,regex=False)) |\n",
    "        (no_install_thing.original.str.contains('INSERT IGNORE INTO',case=False,regex=False))\n",
    "    ))\n",
    "]\n",
    "\n",
    "restrict_chk = no_into[\n",
    "    (no_into.good2_file_parse_error_highlight.str.contains('restrict',case=False,regex=False)) &\n",
    "    (no_into.original.str.contains('ALTER TABLE',case=False,regex=False)) &\n",
    "    (\n",
    "        (no_into.original.str.contains('DELETE',case=False,regex=False)) |\n",
    "        (no_into.original.str.contains('UPDATE',case=False,regex=False))\n",
    "    )\n",
    "]\n",
    "print(get_stmt_and_file_count(restrict_chk))\n",
    "#dot_check.sample(frac=0.6).head()  "
   ]
  },
  {
   "cell_type": "code",
   "execution_count": 225,
   "metadata": {
    "pycharm": {
     "name": "#%%\n"
    }
   },
   "outputs": [
    {
     "name": "stdout",
     "output_type": "stream",
     "text": [
      "[########################################] | 100% Completed | 809.30 ms\n"
     ]
    },
    {
     "data": {
      "text/html": [
       "<div>\n",
       "<style scoped>\n",
       "    .dataframe tbody tr th:only-of-type {\n",
       "        vertical-align: middle;\n",
       "    }\n",
       "\n",
       "    .dataframe tbody tr th {\n",
       "        vertical-align: top;\n",
       "    }\n",
       "\n",
       "    .dataframe thead th {\n",
       "        text-align: right;\n",
       "    }\n",
       "</style>\n",
       "<table border=\"1\" class=\"dataframe\">\n",
       "  <thead>\n",
       "    <tr style=\"text-align: right;\">\n",
       "      <th></th>\n",
       "      <th>file_id</th>\n",
       "      <th>statement_id</th>\n",
       "      <th>good2_parse_error</th>\n",
       "      <th>good2_file_parse_error_start_context</th>\n",
       "      <th>good2_file_parse_error_highlight</th>\n",
       "      <th>original</th>\n",
       "    </tr>\n",
       "  </thead>\n",
       "  <tbody>\n",
       "    <tr>\n",
       "      <th>146</th>\n",
       "      <td>419828</td>\n",
       "      <td>31</td>\n",
       "      <td>Invalid key constraint|Invalid expression / Unexpected token|</td>\n",
       "      <td>d constraint fk_users_security_role_users_01 foreign key (users_id) references users (id) on delete |</td>\n",
       "      <td>restrict|</td>\n",
       "      <td>alter table users_security_role add constraint fk_users_security_role_users_01 foreign key (users_id) references users (id) on delete restrict on update restrict;</td>\n",
       "    </tr>\n",
       "    <tr>\n",
       "      <th>2791</th>\n",
       "      <td>420976</td>\n",
       "      <td>44</td>\n",
       "      <td>Invalid key constraint|Invalid expression / Unexpected token|</td>\n",
       "      <td>roles add constraint fk_users_roles_roles_02 foreign key (roles_id) references roles (id) on delete |</td>\n",
       "      <td>restrict|</td>\n",
       "      <td>alter table users_roles add constraint fk_users_roles_roles_02 foreign key (roles_id) references roles (id) on delete restrict on update restrict;</td>\n",
       "    </tr>\n",
       "    <tr>\n",
       "      <th>12268</th>\n",
       "      <td>424539</td>\n",
       "      <td>55</td>\n",
       "      <td>Invalid key constraint|Invalid expression / Unexpected token|</td>\n",
       "      <td>_�û����ջ���ַ foreign key (uid)\\n        references user_info (uid) on\\n            delete\\n            |</td>\n",
       "      <td>restrict|</td>\n",
       "      <td>alter table receive_address\\n    add constraint FK_�û����ջ���ַ foreign key (uid)\\n        references user_info (uid) on\\n            delete\\n            restrict on\\n            update restrict;</td>\n",
       "    </tr>\n",
       "    <tr>\n",
       "      <th>14864</th>\n",
       "      <td>425520</td>\n",
       "      <td>18</td>\n",
       "      <td>Invalid key constraint|Expecting )|Invalid expression / Unexpected token|</td>\n",
       "      <td>IQUE(`warehouse_id`,`sku_id`),\\n  FOREIGN KEY (`sku_id`) REFERENCES `t_sku_product` (`id`) ON DELETE |</td>\n",
       "      <td>RESTRICT|</td>\n",
       "      <td>CREATE TABLE `wms_inventory` (\\n  `id` bigint(20) NOT NULL AUTO_INCREMENT,\\n  `warehouse_id` bigint(20) NOT NULL COMMENT '仓库ID',\\n  `slot_id` bigint(20) DEFAULT NULL COMMENT '储位ID',\\n  `max_inventory` int(11) DEFAULT NULL COMMENT '库存上限',\\n  `min_inventory` int(11) DEFAULT '0' COMMENT '库存下限',\\n  `sku_id` bigint(20) NOT NULL COMMENT '库存量ID',\\n  `valid_sku` int(11) DEFAULT '0' COMMENT '可用库存量',\\n  `advance_quantities` int(11) DEFAULT '0' COMMENT '预购量',\\n  `transmit_quantities` int(11) DEFAULT '0' COMMENT '在途量',\\n  `order_count` int(11) NOT NULL DEFAULT '0' COMMENT '占用库存量',\\n  PRIMARY KEY (`id`),\\n  UNIQUE(`warehouse_id`,`sku_id`),\\n  FOREIGN KEY (`sku_id`) REFERENCES `t_sku_product` (`id`) ON DELETE RESTRICT,\\n  FOREIGN KEY (`warehouse_id`) REFERENCES `wms_warehouse` (`id`) ON DELETE RESTRICT\\n) ENGINE=InnoDB DEFAULT CHARSET=utf8;</td>\n",
       "    </tr>\n",
       "    <tr>\n",
       "      <th>3068</th>\n",
       "      <td>421089</td>\n",
       "      <td>34</td>\n",
       "      <td>Invalid key constraint|Invalid expression / Unexpected token|</td>\n",
       "      <td>FK_ASIGNATU_UN_NIVEL__NIVEL foreign key (IDNIVEL)\\n      references NIVEL (IDNIVEL)\\n      on delete |</td>\n",
       "      <td>restrict|</td>\n",
       "      <td>alter table ASIGNATURA\\n   add constraint FK_ASIGNATU_UN_NIVEL__NIVEL foreign key (IDNIVEL)\\n      references NIVEL (IDNIVEL)\\n      on delete restrict on update restrict;</td>\n",
       "    </tr>\n",
       "  </tbody>\n",
       "</table>\n",
       "</div>"
      ],
      "text/plain": [
       "      file_id  statement_id                                                          good2_parse_error                                                                      good2_file_parse_error_start_context good2_file_parse_error_highlight                                                                                                                                                                                                                                                                                                                                                                                                                                                                                                                                                                                                                                                                                                                                                                                                                                                                original\n",
       "146    419828  31            Invalid key constraint|Invalid expression / Unexpected token|              d constraint fk_users_security_role_users_01 foreign key (users_id) references users (id) on delete |     restrict|                        alter table users_security_role add constraint fk_users_security_role_users_01 foreign key (users_id) references users (id) on delete restrict on update restrict;                                                                                                                                                                                                                                                                                                                                                                                                                                                                                                                                                                                                                                                                                                    \n",
       "2791   420976  44            Invalid key constraint|Invalid expression / Unexpected token|              roles add constraint fk_users_roles_roles_02 foreign key (roles_id) references roles (id) on delete |     restrict|                        alter table users_roles add constraint fk_users_roles_roles_02 foreign key (roles_id) references roles (id) on delete restrict on update restrict;                                                                                                                                                                                                                                                                                                                                                                                                                                                                                                                                                                                                                                                                                                                    \n",
       "12268  424539  55            Invalid key constraint|Invalid expression / Unexpected token|              _�û����ջ���ַ foreign key (uid)\\n        references user_info (uid) on\\n            delete\\n            |  restrict|                        alter table receive_address\\n    add constraint FK_�û����ջ���ַ foreign key (uid)\\n        references user_info (uid) on\\n            delete\\n            restrict on\\n            update restrict;                                                                                                                                                                                                                                                                                                                                                                                                                                                                                                                                                                                                                                                                    \n",
       "14864  425520  18            Invalid key constraint|Expecting )|Invalid expression / Unexpected token|  IQUE(`warehouse_id`,`sku_id`),\\n  FOREIGN KEY (`sku_id`) REFERENCES `t_sku_product` (`id`) ON DELETE |    RESTRICT|                        CREATE TABLE `wms_inventory` (\\n  `id` bigint(20) NOT NULL AUTO_INCREMENT,\\n  `warehouse_id` bigint(20) NOT NULL COMMENT '仓库ID',\\n  `slot_id` bigint(20) DEFAULT NULL COMMENT '储位ID',\\n  `max_inventory` int(11) DEFAULT NULL COMMENT '库存上限',\\n  `min_inventory` int(11) DEFAULT '0' COMMENT '库存下限',\\n  `sku_id` bigint(20) NOT NULL COMMENT '库存量ID',\\n  `valid_sku` int(11) DEFAULT '0' COMMENT '可用库存量',\\n  `advance_quantities` int(11) DEFAULT '0' COMMENT '预购量',\\n  `transmit_quantities` int(11) DEFAULT '0' COMMENT '在途量',\\n  `order_count` int(11) NOT NULL DEFAULT '0' COMMENT '占用库存量',\\n  PRIMARY KEY (`id`),\\n  UNIQUE(`warehouse_id`,`sku_id`),\\n  FOREIGN KEY (`sku_id`) REFERENCES `t_sku_product` (`id`) ON DELETE RESTRICT,\\n  FOREIGN KEY (`warehouse_id`) REFERENCES `wms_warehouse` (`id`) ON DELETE RESTRICT\\n) ENGINE=InnoDB DEFAULT CHARSET=utf8;\n",
       "3068   421089  34            Invalid key constraint|Invalid expression / Unexpected token|               FK_ASIGNATU_UN_NIVEL__NIVEL foreign key (IDNIVEL)\\n      references NIVEL (IDNIVEL)\\n      on delete |   restrict|                        alter table ASIGNATURA\\n   add constraint FK_ASIGNATU_UN_NIVEL__NIVEL foreign key (IDNIVEL)\\n      references NIVEL (IDNIVEL)\\n      on delete restrict on update restrict;                                                                                                                                                                                                                                                                                                                                                                                                                                                                                                                                                                                                                                                                                           "
      ]
     },
     "execution_count": 225,
     "metadata": {},
     "output_type": "execute_result"
    }
   ],
   "source": [
    "restrict_chk.sample(frac=0.6).head()  "
   ]
  },
  {
   "attachments": {},
   "cell_type": "markdown",
   "metadata": {
    "pycharm": {
     "name": "#%% md\n"
    }
   },
   "source": [
    "### finalizing and writing down"
   ]
  },
  {
   "cell_type": "code",
   "execution_count": 227,
   "metadata": {
    "pycharm": {
     "name": "#%%\n"
    }
   },
   "outputs": [
    {
     "name": "stdout",
     "output_type": "stream",
     "text": [
      "[########################################] | 100% Completed | 25.82 s\n",
      "[########################################] | 100% Completed | 26.90 s\n",
      "(1463548, 182387)\n"
     ]
    }
   ],
   "source": [
    "no_restrict = no_into[\n",
    "    ~((no_into.good2_file_parse_error_highlight.str.contains('restrict',case=False,regex=False)) &\n",
    "    (no_into.original.str.contains('ALTER TABLE',case=False,regex=False)) &\n",
    "    (\n",
    "        (no_into.original.str.contains('DELETE',case=False,regex=False)) |\n",
    "        (no_into.original.str.contains('UPDATE',case=False,regex=False))\n",
    "    ))\n",
    "]\n",
    "print(get_stmt_and_file_count(no_restrict))\n",
    "#dot_check.sample(frac=0.6).head()  "
   ]
  },
  {
   "cell_type": "code",
   "execution_count": 228,
   "metadata": {
    "pycharm": {
     "name": "#%%\n"
    }
   },
   "outputs": [],
   "source": [
    "not_parsed_new_schema = pa.schema([])\n",
    "not_parsed_new_schema = not_parsed_new_schema.append(pa.field(\"file_id\",pa.string()))\n",
    "not_parsed_new_schema = not_parsed_new_schema.append(pa.field(\"statement_id\",pa.int64()))\n",
    "not_parsed_new_schema = not_parsed_new_schema.append(pa.field(\"good2_parse_error\",pa.string()))\n",
    "not_parsed_new_schema = not_parsed_new_schema.append(pa.field(\"good2_file_parse_error_start_context\",pa.string()))\n",
    "not_parsed_new_schema = not_parsed_new_schema.append(pa.field(\"good2_file_parse_error_highlight\",pa.string()))\n",
    "not_parsed_new_schema = not_parsed_new_schema.append(pa.field(\"original\",pa.string()))"
   ]
  },
  {
   "cell_type": "code",
   "execution_count": 229,
   "metadata": {
    "pycharm": {
     "name": "#%%\n"
    }
   },
   "outputs": [
    {
     "name": "stdout",
     "output_type": "stream",
     "text": [
      "[########################################] | 100% Completed | 28.70 s\n"
     ]
    }
   ],
   "source": [
    "#no_restrict.to_parquet('../out_new/sqlglot_unparsed_stmts_good_errors_hard_left_unparsed/',schema=not_parsed_new_schema,overwrite=True,\n",
    "compute_kwargs={'scheduler':'processes'})"
   ]
  },
  {
   "attachments": {},
   "cell_type": "markdown",
   "metadata": {
    "pycharm": {
     "name": "#%% md\n"
    }
   },
   "source": [
    "## Reading hard to parse stmts that are left"
   ]
  },
  {
   "attachments": {},
   "cell_type": "markdown",
   "metadata": {
    "pycharm": {
     "name": "#%% md\n"
    }
   },
   "source": [
    "### Read"
   ]
  },
  {
   "cell_type": "code",
   "execution_count": null,
   "metadata": {
    "pycharm": {
     "name": "#%%\n"
    }
   },
   "outputs": [],
   "source": [
    "not_parsed_new_schema = pa.schema([])\n",
    "not_parsed_new_schema = not_parsed_new_schema.append(pa.field(\"file_id\",pa.string()))\n",
    "not_parsed_new_schema = not_parsed_new_schema.append(pa.field(\"statement_id\",pa.int64()))\n",
    "not_parsed_new_schema = not_parsed_new_schema.append(pa.field(\"good2_parse_error\",pa.string()))\n",
    "not_parsed_new_schema = not_parsed_new_schema.append(pa.field(\"good2_file_parse_error_start_context\",pa.string()))\n",
    "not_parsed_new_schema = not_parsed_new_schema.append(pa.field(\"good2_file_parse_error_highlight\",pa.string()))\n",
    "not_parsed_new_schema = not_parsed_new_schema.append(pa.field(\"original\",pa.string()))"
   ]
  },
  {
   "cell_type": "code",
   "execution_count": 230,
   "metadata": {
    "pycharm": {
     "name": "#%%\n"
    }
   },
   "outputs": [],
   "source": [
    "unparsed_hard = dd.read_parquet('../out_new/sqlglot_unparsed_stmts_good_errors_hard_left_unparsed/', columns = not_parsed_new_schema.names ,schema=not_parsed_new_schema, split_row_groups=True, calculate_divisions=True,engine='pyarrow')"
   ]
  },
  {
   "cell_type": "code",
   "execution_count": 231,
   "metadata": {
    "pycharm": {
     "name": "#%%\n"
    }
   },
   "outputs": [
    {
     "name": "stdout",
     "output_type": "stream",
     "text": [
      "[########################################] | 100% Completed | 4.51 ss\n",
      "[########################################] | 100% Completed | 3.83 ss\n",
      "(1463548, 182387)\n"
     ]
    }
   ],
   "source": [
    "print(get_stmt_and_file_count(unparsed_hard))"
   ]
  },
  {
   "cell_type": "code",
   "execution_count": 233,
   "metadata": {
    "pycharm": {
     "name": "#%%\n"
    }
   },
   "outputs": [
    {
     "name": "stdout",
     "output_type": "stream",
     "text": [
      "[########################################] | 100% Completed | 4.39 ss\n"
     ]
    }
   ],
   "source": [
    "difficult_to_parse_file_ids = unparsed_hard['file_id'].unique().compute(scheduler='processes')"
   ]
  },
  {
   "cell_type": "code",
   "execution_count": 234,
   "metadata": {
    "pycharm": {
     "name": "#%%\n"
    }
   },
   "outputs": [],
   "source": [
    "difficult_to_parse_file_ids.to_csv('sqlglot_files_left_difficult_to_parse.csv',header=True,index=False)"
   ]
  }
 ],
 "metadata": {
  "kernelspec": {
   "display_name": "windows",
   "language": "python",
   "name": "python3"
  },
  "language_info": {
   "codemirror_mode": {
    "name": "ipython",
    "version": 3
   },
   "file_extension": ".py",
   "mimetype": "text/x-python",
   "name": "python",
   "nbconvert_exporter": "python",
   "pygments_lexer": "ipython3",
   "version": "3.8.10"
  },
  "orig_nbformat": 4
 },
 "nbformat": 4,
 "nbformat_minor": 2
}