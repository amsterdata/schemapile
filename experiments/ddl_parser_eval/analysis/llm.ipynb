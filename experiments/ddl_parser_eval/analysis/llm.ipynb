{
 "cells": [
  {
   "cell_type": "code",
   "execution_count": null,
   "metadata": {
    "pycharm": {
     "name": "#%%\n",
     "is_executing": true
    }
   },
   "outputs": [],
   "source": [
    "import pyarrow as pa\n",
    "import pyarrow.parquet as pq\n",
    "import pyarrow.compute as pc\n",
    "\n",
    "import matplotlib.pyplot as plt\n",
    "import seaborn as sns\n",
    "\n",
    "sns.set_theme()\n",
    "sns.set_style(\"ticks\")\n",
    "\n",
    "import os\n",
    "import sys\n",
    "sys.path.insert(0,'..')\n",
    "\n",
    "import pandas as pd\n",
    "import json\n",
    "import numpy as np\n",
    "\n",
    "import dask.dataframe as dd\n",
    "from dask.dataframe.utils import make_meta\n",
    "\n",
    "pd.set_option('display.max_rows', 500)\n",
    "pd.set_option('display.max_columns', 500)\n",
    "pd.set_option('display.width', 1000)\n",
    "pd.set_option('display.max_columns', None)\n",
    "pd.set_option('display.expand_frame_repr', False)\n",
    "pd.set_option('max_colwidth', -1)\n",
    "\n",
    "from src_new.utils import SQLParserSchema, PGLastSchema, get_file_encodings, SQLGlotSchema, SimpleDDLParserSchema\n",
    "\n",
    "from dask.diagnostics import ProgressBar\n",
    "ProgressBar().register()\n",
    "\n",
    "def read_partial(parser, schema_type, cols):\n",
    "    _outdir = '../../data'\n",
    "\n",
    "    if parser == 'sqlparser':\n",
    "        p = SQLParserSchema()\n",
    "        _outdir += 'sqlparser'\n",
    "    elif parser == 'pglast':\n",
    "        p = PGLastSchema()\n",
    "        _outdir += 'pglast'\n",
    "    elif parser == 'sqlglot':\n",
    "        p = SQLGlotSchema()\n",
    "        _outdir += 'sqlglot'\n",
    "    elif parser == 'simple':\n",
    "        p = SimpleDDLParserSchema()\n",
    "        _outdir += 'simpleddlparser'\n",
    "    \n",
    "    if schema_type == 'file':\n",
    "        _schema = p.file_level_schema\n",
    "        _outdir += '/'\n",
    "    elif schema_type == 'stmt':\n",
    "        _schema = p.statement_list_sch\n",
    "        _outdir += '_details/'\n",
    "    \n",
    "    ddf = dd.read_parquet(_outdir,columns=cols, schema=_schema, split_row_groups=True, calculate_divisions=True,engine='pyarrow')\n",
    "    return ddf\n",
    "\n",
    "# Read file details\n",
    "fd = []\n",
    "for file in os.listdir('../../data/filedetails/'):\n",
    "        full_filename = \"%s/%s\" % ('../../data/filedetails/', file)\n",
    "        with open(full_filename,'r') as fi:\n",
    "            dict = json.load(fi)\n",
    "            for item in dict:\n",
    "                  fd.append(item)\n",
    "\n",
    "filedetails_df = pd.DataFrame.from_dict(fd)\n",
    "del fd"
   ]
  },
  {
   "cell_type": "code",
   "execution_count": 129,
   "metadata": {
    "pycharm": {
     "name": "#%%\n"
    }
   },
   "outputs": [
    {
     "data": {
      "text/plain": [
       "file_id            2441\n",
       "error              2441\n",
       "finish_reason      2441\n",
       "orig_response      2441\n",
       "used_tokens        2441\n",
       "table_list         2441\n",
       "column_list        2441\n",
       "schema_list        2441\n",
       "db_list            2441\n",
       "view_list          2441\n",
       "num_ctr_notnull    2441\n",
       "num_ctr_unique     2441\n",
       "num_ctr_primary    2441\n",
       "num_ctr_foreign    2441\n",
       "dtype: int64"
      ]
     },
     "execution_count": 129,
     "metadata": {},
     "output_type": "execute_result"
    }
   ],
   "source": [
    "# read chatgpt\n",
    "\n",
    "cols = ['file_id','error','finish_reason','orig_response','used_tokens', 'table_list', 'column_list', 'schema_list', 'db_list',\n",
    "        'view_list', 'num_ctr_notnull', 'num_ctr_unique', 'num_ctr_primary', 'num_ctr_foreign']\n",
    "\n",
    "# Read file details\n",
    "fd = []\n",
    "for file in os.listdir('../../data/chatgpt/'):\n",
    "        full_filename = \"%s/%s\" % ('../../data//chatgpt/', file)\n",
    "        with open(full_filename,'r') as fi:\n",
    "            dict = json.load(fi)\n",
    "            fd.append(dict)\n",
    "\n",
    "chatgpt_df = pd.DataFrame.from_dict(fd)\n",
    "del fd\n",
    "\n",
    "chatgpt_df.count()"
   ]
  },
  {
   "cell_type": "code",
   "execution_count": 130,
   "metadata": {
    "pycharm": {
     "name": "#%%\n"
    }
   },
   "outputs": [
    {
     "data": {
      "text/plain": [
       "error\n",
       "0    2435\n",
       "1    5   \n",
       "2    1   \n",
       "Name: file_id, dtype: int64"
      ]
     },
     "execution_count": 130,
     "metadata": {},
     "output_type": "execute_result"
    }
   ],
   "source": [
    "chatgpt_df.groupby('error')['file_id'].count()"
   ]
  },
  {
   "cell_type": "code",
   "execution_count": 131,
   "metadata": {
    "pycharm": {
     "name": "#%%\n"
    }
   },
   "outputs": [],
   "source": [
    "pglast_ddf = read_partial('pglast','file',PGLastSchema().file_level_schema.names)\n",
    "\n",
    "import ast\n",
    "pglast_ddf['x'] = pglast_ddf.apply(\n",
    "    lambda row:\n",
    "    #'a',\n",
    "    [] if row['counter_str'] is None else [item for item in ast.literal_eval(row['counter_str'] or 'None') if 'CreateSeqStmt' in item],\n",
    "    axis=1,\n",
    "    meta=('x', 'string'))\n",
    "\n",
    "pglast_ddf['num_create_seq'] = pglast_ddf.apply(\n",
    "    lambda row:\n",
    "    row['x'][0]['CreateSeqStmt'] if len(row['x']) > 0 else 0,\n",
    "    axis=1,\n",
    "    meta=('num_create_seq', 'float'))\n",
    "\n",
    "pglast_ddf = pglast_ddf.drop(columns=['x'])  \n",
    "\n",
    "pglast_ddf['num_tables_without_create_seq'] = pglast_ddf['num_distinct_tables'] - pglast_ddf['num_create_seq']\n",
    "\n",
    "pglast_ddf['table_list_str'] = pglast_ddf.apply(\n",
    "    lambda row:\n",
    "    \"|\".join(str(x) for x in sorted([item.upper() for item in row['table_list']])) if row['table_list'] is not None else None,\n",
    "    axis=1,\n",
    "    meta=('table_list_str', 'string'))\n",
    "pglast_ddf['column_list_str'] = pglast_ddf.apply(\n",
    "    lambda row:\n",
    "    \"|\".join(str(x) for x in sorted([item.upper() for item in row['columns_list']])) if row['columns_list'] is not None else None,\n",
    "    axis=1,\n",
    "    meta=('column_list_str', 'string'))\n",
    "\n",
    "pglast_ddf['view_list_str'] = pglast_ddf.apply(\n",
    "    lambda row:\n",
    "    \"|\".join(str(x) for x in sorted([item.upper() for item in row['view_list']])) if row['view_list'] is not None else None,\n",
    "    axis=1,\n",
    "    meta=('view_list_str', 'string'))\n",
    "pglast_ddf['sch_list_str'] = pglast_ddf.apply(\n",
    "    lambda row:\n",
    "    \"|\".join(str(x) for x in sorted([item.upper() for item in row['schema_list']])) if row['schema_list'] is not None else None,\n",
    "    axis=1,\n",
    "    meta=('sch_list_str', 'string'))\n",
    "pglast_ddf['db_list_str'] = pglast_ddf.apply(\n",
    "    lambda row:\n",
    "    \"|\".join(str(x) for x in sorted([item.upper() for item in row['db_list']])) if row['db_list'] is not None else None,\n",
    "    axis=1,\n",
    "    meta=('db_list_str', 'string'))"
   ]
  },
  {
   "cell_type": "code",
   "execution_count": 132,
   "metadata": {
    "pycharm": {
     "name": "#%%\n"
    }
   },
   "outputs": [],
   "source": [
    "chatgpt_df['num_tables'] = chatgpt_df.apply(\n",
    "    lambda row:\n",
    "    len(row['table_list']) if row['table_list'] is not None else 0,\n",
    "    axis=1)\n",
    "\n",
    "chatgpt_df['num_cols'] = chatgpt_df.apply(\n",
    "    lambda row:\n",
    "    len(row['column_list']) if row['column_list'] is not None else 0,\n",
    "    axis=1)\n",
    "\n",
    "chatgpt_df['num_dbs'] = chatgpt_df.apply(\n",
    "    lambda row:\n",
    "    len(row['db_list']) if row['db_list'] is not None else 0,\n",
    "    axis=1)\n",
    "\n",
    "chatgpt_df['num_schs'] = chatgpt_df.apply(\n",
    "    lambda row:\n",
    "    len(row['schema_list']) if row['schema_list'] is not None else 0,\n",
    "    axis=1)\n",
    "\n",
    "chatgpt_df['num_vws'] = chatgpt_df.apply(\n",
    "    lambda row:\n",
    "    len(row['view_list']) if row['view_list'] is not None else 0,\n",
    "    axis=1)"
   ]
  },
  {
   "cell_type": "code",
   "execution_count": 133,
   "metadata": {
    "pycharm": {
     "name": "#%%\n"
    }
   },
   "outputs": [],
   "source": [
    "chatgpt_df['table_list_str'] = chatgpt_df.apply(\n",
    "    lambda row:\n",
    "    \"|\".join(str(x) for x in sorted([item.upper() for item in row['table_list']])) if row['table_list'] is not None else None,\n",
    "    axis=1)\n",
    "chatgpt_df['column_list_str'] = chatgpt_df.apply(\n",
    "    lambda row:\n",
    "    \"|\".join(str(x) for x in sorted([item.upper() for item in row['column_list']])) if row['column_list'] is not None else None,\n",
    "    axis=1)\n",
    "\n",
    "chatgpt_df['view_list_str'] = chatgpt_df.apply(\n",
    "    lambda row:\n",
    "    \"|\".join(str(x) for x in sorted([item.upper() for item in row['view_list']])) if row['view_list'] is not None else None,\n",
    "    axis=1)\n",
    "\n",
    "chatgpt_df['db_list_str'] = chatgpt_df.apply(\n",
    "    lambda row:\n",
    "    \"|\".join(str(x) for x in sorted([item.upper() for item in row['db_list']])) if row['db_list'] is not None else None,\n",
    "    axis=1)\n",
    "\n",
    "chatgpt_df['schema_list_str'] = chatgpt_df.apply(\n",
    "    lambda row:\n",
    "    \"|\".join(str(x) for x in sorted([item.upper() for item in row['schema_list']])) if row['schema_list'] is not None else None,\n",
    "    axis=1)"
   ]
  },
  {
   "cell_type": "code",
   "execution_count": null,
   "metadata": {
    "pycharm": {
     "name": "#%%\n",
     "is_executing": true
    }
   },
   "outputs": [],
   "source": [
    "chatgpt_df = chatgpt_df[chatgpt_df.error == 0]\n",
    "\n",
    "pglast_joined_chatgpt= dd.merge(\n",
    "    pglast_ddf,\n",
    "    chatgpt_df,\n",
    "    on=['file_id'],\n",
    "    how='inner',indicator=False,suffixes=['_pglast','_chatgpt']).compute()"
   ]
  },
  {
   "cell_type": "code",
   "execution_count": 135,
   "metadata": {
    "pycharm": {
     "name": "#%%\n"
    }
   },
   "outputs": [],
   "source": [
    "subset = pglast_joined_chatgpt[\n",
    "    [   \"file_id\", \"num_create_seq\", # for pglast\n",
    "        \"num_tables_without_create_seq\", \"num_distinct_tables\", # for pglast\n",
    "        \"num_tables\", # for chatgpt\n",
    "        \"num_distinct_columns\",\"num_distinct_schemas\",\"num_distinct_dbs\",\n",
    "        \"num_cols\",\"num_dbs\",\"num_schs\",\"num_vws\",\n",
    "        \"table_list_chatgpt\",\"table_list_str_chatgpt\", \"table_list_str_pglast\",\n",
    "        \"column_list_str_chatgpt\", \"column_list_str_pglast\",\n",
    "        \"view_list_str_chatgpt\", \"view_list_str_pglast\",\n",
    "        \"db_list_str_chatgpt\", \"db_list_str_pglast\",\n",
    "        \"schema_list_str\", \"sch_list_str\", # for pglast on the right\n",
    "        \"num_ctr_notnull_chatgpt\",\"num_ctr_notnull_pglast\",\n",
    "        \"num_ctr_unique_chatgpt\",\"num_ctr_unique_pglast\",\n",
    "        \"num_ctr_primary_chatgpt\",\"num_ctr_primary_pglast\",\n",
    "        \"num_ctr_foreign_chatgpt\",\"num_ctr_foreign_pglast\"\n",
    "    ]\n",
    "]\n"
   ]
  },
  {
   "cell_type": "code",
   "execution_count": 153,
   "metadata": {
    "pycharm": {
     "name": "#%%\n"
    }
   },
   "outputs": [
    {
     "data": {
      "text/plain": [
       "file_id                          2435\n",
       "num_create_seq                   2435\n",
       "num_tables_without_create_seq    2435\n",
       "num_distinct_tables              2435\n",
       "num_tables                       2435\n",
       "num_distinct_columns             2435\n",
       "num_distinct_schemas             2435\n",
       "num_distinct_dbs                 2435\n",
       "num_cols                         2435\n",
       "num_dbs                          2435\n",
       "num_schs                         2435\n",
       "num_vws                          2435\n",
       "table_list_chatgpt               2435\n",
       "table_list_str_chatgpt           2435\n",
       "table_list_str_pglast            2433\n",
       "column_list_str_chatgpt          2435\n",
       "column_list_str_pglast           2342\n",
       "view_list_str_chatgpt            2435\n",
       "view_list_str_pglast             54  \n",
       "db_list_str_chatgpt              2435\n",
       "db_list_str_pglast               43  \n",
       "schema_list_str                  2435\n",
       "sch_list_str                     1218\n",
       "num_ctr_notnull_chatgpt          2435\n",
       "num_ctr_notnull_pglast           2435\n",
       "num_ctr_unique_chatgpt           2435\n",
       "num_ctr_unique_pglast            2435\n",
       "num_ctr_primary_chatgpt          2435\n",
       "num_ctr_primary_pglast           2435\n",
       "num_ctr_foreign_chatgpt          2435\n",
       "num_ctr_foreign_pglast           2435\n",
       "dtype: int64"
      ]
     },
     "execution_count": 153,
     "metadata": {},
     "output_type": "execute_result"
    }
   ],
   "source": [
    "subset.count()"
   ]
  },
  {
   "cell_type": "code",
   "execution_count": 136,
   "metadata": {
    "pycharm": {
     "name": "#%%\n"
    }
   },
   "outputs": [],
   "source": [
    "for c in subset.columns:\n",
    "    if subset[c].dtype == int:\n",
    "        subset[c] = subset[c].astype(float)"
   ]
  },
  {
   "cell_type": "code",
   "execution_count": 137,
   "metadata": {
    "pycharm": {
     "name": "#%%\n"
    }
   },
   "outputs": [
    {
     "data": {
      "text/plain": [
       "1337"
      ]
     },
     "execution_count": 137,
     "metadata": {},
     "output_type": "execute_result"
    }
   ],
   "source": [
    "subset[\n",
    "    (subset.num_distinct_tables == 0) |\n",
    "    (subset.num_tables_without_create_seq == subset.num_tables)\n",
    "]['file_id'].count()\n",
    "\n",
    "# no create seq -> 1337\n",
    "# with create seq 11 96"
   ]
  },
  {
   "cell_type": "code",
   "execution_count": 138,
   "metadata": {
    "pycharm": {
     "name": "#%%\n"
    }
   },
   "outputs": [
    {
     "data": {
      "text/plain": [
       "1376"
      ]
     },
     "execution_count": 138,
     "metadata": {},
     "output_type": "execute_result"
    }
   ],
   "source": [
    "subset[\n",
    "    #(subset.num_distinct_columns == 0) |\n",
    "    (subset.num_distinct_columns == subset.num_cols)\n",
    "]['file_id'].count()"
   ]
  },
  {
   "cell_type": "code",
   "execution_count": 139,
   "metadata": {
    "pycharm": {
     "name": "#%%\n"
    }
   },
   "outputs": [
    {
     "data": {
      "text/plain": [
       "1564"
      ]
     },
     "execution_count": 139,
     "metadata": {},
     "output_type": "execute_result"
    }
   ],
   "source": [
    "subset[\n",
    "    #(subset.num_distinct_schemas == 0) |\n",
    "    (subset.num_distinct_schemas == subset.num_schs)\n",
    "]['file_id'].count()"
   ]
  },
  {
   "cell_type": "code",
   "execution_count": 140,
   "metadata": {
    "pycharm": {
     "name": "#%%\n"
    }
   },
   "outputs": [
    {
     "data": {
      "text/plain": [
       "732"
      ]
     },
     "execution_count": 140,
     "metadata": {},
     "output_type": "execute_result"
    }
   ],
   "source": [
    "subset[\n",
    "    #(subset.num_distinct_schemas == 0) |\n",
    "    (subset.num_distinct_dbs == subset.num_dbs)\n",
    "]['file_id'].count()"
   ]
  },
  {
   "cell_type": "code",
   "execution_count": 141,
   "metadata": {
    "pycharm": {
     "name": "#%%\n"
    }
   },
   "outputs": [
    {
     "data": {
      "text/plain": [
       "2368"
      ]
     },
     "execution_count": 141,
     "metadata": {},
     "output_type": "execute_result"
    }
   ],
   "source": [
    "subset[\n",
    "    (subset.num_vws == 0) |\n",
    "    (subset.view_list_str_pglast == subset.view_list_str_chatgpt)\n",
    "]['file_id'].count()"
   ]
  },
  {
   "cell_type": "code",
   "execution_count": 142,
   "metadata": {
    "pycharm": {
     "name": "#%%\n"
    }
   },
   "outputs": [
    {
     "data": {
      "text/plain": [
       "1131"
      ]
     },
     "execution_count": 142,
     "metadata": {},
     "output_type": "execute_result"
    }
   ],
   "source": [
    "subset[\n",
    "    (subset.num_distinct_tables == 0) |\n",
    "    (subset.table_list_str_chatgpt == subset.table_list_str_pglast)\n",
    "]['file_id'].count()"
   ]
  },
  {
   "cell_type": "code",
   "execution_count": 143,
   "metadata": {
    "pycharm": {
     "name": "#%%\n"
    }
   },
   "outputs": [
    {
     "data": {
      "text/plain": [
       "1443"
      ]
     },
     "execution_count": 143,
     "metadata": {},
     "output_type": "execute_result"
    }
   ],
   "source": [
    "subset[\n",
    "    (subset.num_distinct_columns == 0) |\n",
    "    (subset.column_list_str_chatgpt == subset.column_list_str_pglast)\n",
    "]['file_id'].count()"
   ]
  },
  {
   "cell_type": "code",
   "execution_count": 144,
   "metadata": {
    "pycharm": {
     "name": "#%%\n"
    }
   },
   "outputs": [
    {
     "data": {
      "text/plain": [
       "2434"
      ]
     },
     "execution_count": 144,
     "metadata": {},
     "output_type": "execute_result"
    }
   ],
   "source": [
    "subset[\n",
    "    (subset.num_distinct_dbs == 0) |\n",
    "    (subset.db_list_str_chatgpt == subset.db_list_str_pglast)\n",
    "]['file_id'].count()"
   ]
  },
  {
   "cell_type": "code",
   "execution_count": 145,
   "metadata": {
    "pycharm": {
     "name": "#%%\n"
    }
   },
   "outputs": [
    {
     "data": {
      "text/plain": [
       "1782"
      ]
     },
     "execution_count": 145,
     "metadata": {},
     "output_type": "execute_result"
    }
   ],
   "source": [
    "subset[\n",
    "    (subset.num_distinct_schemas == 0) |\n",
    "    (subset.schema_list_str == subset.sch_list_str)\n",
    "]['file_id'].count()"
   ]
  },
  {
   "cell_type": "code",
   "execution_count": 146,
   "metadata": {
    "pycharm": {
     "name": "#%%\n"
    }
   },
   "outputs": [
    {
     "data": {
      "text/plain": [
       "641"
      ]
     },
     "execution_count": 146,
     "metadata": {},
     "output_type": "execute_result"
    }
   ],
   "source": [
    "subset[\n",
    "    #(subset.num_ctr_notnull_pglast == 0) |\n",
    "    (subset.num_ctr_notnull_chatgpt == subset.num_ctr_notnull_pglast)\n",
    "]['file_id'].count()"
   ]
  },
  {
   "cell_type": "code",
   "execution_count": 152,
   "metadata": {
    "pycharm": {
     "name": "#%%\n"
    }
   },
   "outputs": [
    {
     "data": {
      "text/html": [
       "<div>\n",
       "<style scoped>\n",
       "    .dataframe tbody tr th:only-of-type {\n",
       "        vertical-align: middle;\n",
       "    }\n",
       "\n",
       "    .dataframe tbody tr th {\n",
       "        vertical-align: top;\n",
       "    }\n",
       "\n",
       "    .dataframe thead th {\n",
       "        text-align: right;\n",
       "    }\n",
       "</style>\n",
       "<table border=\"1\" class=\"dataframe\">\n",
       "  <thead>\n",
       "    <tr style=\"text-align: right;\">\n",
       "      <th></th>\n",
       "      <th>file_id</th>\n",
       "      <th>num_ctr_notnull_chatgpt</th>\n",
       "      <th>num_ctr_notnull_pglast</th>\n",
       "    </tr>\n",
       "  </thead>\n",
       "  <tbody>\n",
       "    <tr>\n",
       "      <th>1</th>\n",
       "      <td>510377</td>\n",
       "      <td>13</td>\n",
       "      <td>11.0</td>\n",
       "    </tr>\n",
       "    <tr>\n",
       "      <th>2</th>\n",
       "      <td>511137</td>\n",
       "      <td>4</td>\n",
       "      <td>3.0</td>\n",
       "    </tr>\n",
       "    <tr>\n",
       "      <th>3</th>\n",
       "      <td>511246</td>\n",
       "      <td>1</td>\n",
       "      <td>3.0</td>\n",
       "    </tr>\n",
       "    <tr>\n",
       "      <th>4</th>\n",
       "      <td>511567</td>\n",
       "      <td>10</td>\n",
       "      <td>7.0</td>\n",
       "    </tr>\n",
       "    <tr>\n",
       "      <th>5</th>\n",
       "      <td>511967</td>\n",
       "      <td>0</td>\n",
       "      <td>19.0</td>\n",
       "    </tr>\n",
       "  </tbody>\n",
       "</table>\n",
       "</div>"
      ],
      "text/plain": [
       "  file_id  num_ctr_notnull_chatgpt  num_ctr_notnull_pglast\n",
       "1  510377  13                       11.0                  \n",
       "2  511137  4                        3.0                   \n",
       "3  511246  1                        3.0                   \n",
       "4  511567  10                       7.0                   \n",
       "5  511967  0                        19.0                  "
      ]
     },
     "execution_count": 152,
     "metadata": {},
     "output_type": "execute_result"
    }
   ],
   "source": [
    "subset[\n",
    "    #(subset.num_ctr_notnull_pglast == 0) |\n",
    "    (subset.num_ctr_notnull_chatgpt != subset.num_ctr_notnull_pglast)\n",
    "][['file_id','num_ctr_notnull_chatgpt','num_ctr_notnull_pglast']].head()"
   ]
  },
  {
   "cell_type": "code",
   "execution_count": 147,
   "metadata": {
    "pycharm": {
     "name": "#%%\n"
    }
   },
   "outputs": [
    {
     "data": {
      "text/plain": [
       "1633"
      ]
     },
     "execution_count": 147,
     "metadata": {},
     "output_type": "execute_result"
    }
   ],
   "source": [
    "subset[\n",
    "    #(subset.num_ctr_unique_pglast == 0) |\n",
    "    (subset.num_ctr_unique_chatgpt == subset.num_ctr_unique_pglast)\n",
    "]['file_id'].count()"
   ]
  },
  {
   "cell_type": "code",
   "execution_count": 148,
   "metadata": {
    "pycharm": {
     "name": "#%%\n"
    }
   },
   "outputs": [
    {
     "data": {
      "text/plain": [
       "1558"
      ]
     },
     "execution_count": 148,
     "metadata": {},
     "output_type": "execute_result"
    }
   ],
   "source": [
    "subset[\n",
    "    #(subset.num_ctr_primary_pglast == 0) |\n",
    "    (subset.num_ctr_primary_chatgpt == subset.num_ctr_primary_pglast)\n",
    "]['file_id'].count()"
   ]
  },
  {
   "cell_type": "code",
   "execution_count": 149,
   "metadata": {
    "pycharm": {
     "name": "#%%\n"
    }
   },
   "outputs": [
    {
     "data": {
      "text/plain": [
       "1715"
      ]
     },
     "execution_count": 149,
     "metadata": {},
     "output_type": "execute_result"
    }
   ],
   "source": [
    "subset[\n",
    "    #(subset.num_ctr_foreign_pglast == 0) |\n",
    "    (subset.num_ctr_foreign_chatgpt == subset.num_ctr_foreign_pglast)\n",
    "]['file_id'].count()"
   ]
  }
 ],
 "metadata": {
  "kernelspec": {
   "display_name": "windows",
   "language": "python",
   "name": "python3"
  },
  "language_info": {
   "codemirror_mode": {
    "name": "ipython",
    "version": 3
   },
   "file_extension": ".py",
   "mimetype": "text/x-python",
   "name": "python",
   "nbconvert_exporter": "python",
   "pygments_lexer": "ipython3",
   "version": "3.8.10"
  },
  "orig_nbformat": 4
 },
 "nbformat": 4,
 "nbformat_minor": 2
}