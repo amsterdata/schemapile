{
 "cells": [
  {
   "attachments": {},
   "cell_type": "markdown",
   "metadata": {
    "pycharm": {
     "name": "#%% md\n"
    }
   },
   "source": [
    "# Prep & Read all"
   ]
  },
  {
   "cell_type": "code",
   "execution_count": 1,
   "metadata": {
    "pycharm": {
     "name": "#%%\n"
    }
   },
   "outputs": [
    {
     "name": "stderr",
     "output_type": "stream",
     "text": [
      "C:\\Users\\geacu\\AppData\\Local\\Temp\\ipykernel_1772\\668518853.py:27: FutureWarning: Passing a negative integer is deprecated in version 1.0 and will not be supported in future version. Instead, use None to not limit the column width.\n",
      "  pd.set_option('max_colwidth', -1)\n"
     ]
    }
   ],
   "source": [
    "import pyarrow as pa\n",
    "import pyarrow.parquet as pq\n",
    "import pyarrow.compute as pc\n",
    "\n",
    "import matplotlib.pyplot as plt\n",
    "import seaborn as sns\n",
    "\n",
    "sns.set_theme()\n",
    "sns.set_style(\"ticks\")\n",
    "\n",
    "import os\n",
    "import sys\n",
    "sys.path.insert(0,'..')\n",
    "\n",
    "import pandas as pd\n",
    "import json\n",
    "import numpy as np\n",
    "\n",
    "import dask.dataframe as dd\n",
    "from dask.dataframe.utils import make_meta\n",
    "\n",
    "pd.set_option('display.max_rows', 500)\n",
    "pd.set_option('display.max_columns', 500)\n",
    "pd.set_option('display.width', 1000)\n",
    "pd.set_option('display.max_columns', None)\n",
    "pd.set_option('display.expand_frame_repr', False)\n",
    "pd.set_option('max_colwidth', -1)\n",
    "\n",
    "from src_new.utils import SQLParserSchema, PGLastSchema, get_file_encodings, SQLGlotSchema, SimpleDDLParserSchema,TIDBMysqlSchema, JSqlParserSchema, RustParserSchema\n",
    "\n",
    "from dask.diagnostics import ProgressBar\n",
    "ProgressBar().register()\n",
    "\n",
    "def read_partial(parser, schema_type, cols):\n",
    "    _outdir = '../out_new/'\n",
    "\n",
    "    if parser == 'sqlparser':\n",
    "        p = SQLParserSchema()\n",
    "        _outdir += 'sqlparser'\n",
    "    elif parser == 'pglast':\n",
    "        p = PGLastSchema()\n",
    "        _outdir += 'pglast'\n",
    "    elif parser == 'sqlglot':\n",
    "        p = SQLGlotSchema()\n",
    "        _outdir += 'sqlglot'\n",
    "    elif parser == 'simple':\n",
    "        p = SimpleDDLParserSchema()\n",
    "        _outdir += 'simpleddlparser'\n",
    "    elif parser == 'tidb':\n",
    "        p = TIDBMysqlSchema()\n",
    "        _outdir += 'tidb_mysql'\n",
    "    elif parser == 'jsqlparser':\n",
    "        p = JSqlParserSchema()\n",
    "        _outdir += 'jsqlparser'\n",
    "    elif parser == 'rustparser':\n",
    "        p = RustParserSchema()\n",
    "        _outdir += 'rustparser'\n",
    "\n",
    "    if schema_type == 'file':\n",
    "        _schema = p.file_level_schema\n",
    "        _outdir += '/'\n",
    "    elif schema_type == 'stmt':\n",
    "        _schema = p.statement_list_sch\n",
    "        _outdir += '_details/'\n",
    "    \n",
    "    ddf = dd.read_parquet(_outdir,columns=cols, schema=_schema, split_row_groups=True, calculate_divisions=True,engine='pyarrow')\n",
    "    return ddf\n",
    "\n",
    "# Read file details\n",
    "fd = []\n",
    "for file in os.listdir('../out_new/filedetails/'):\n",
    "        full_filename = \"%s/%s\" % ('../out_new/filedetails/', file)\n",
    "        with open(full_filename,'r') as fi:\n",
    "            dict = json.load(fi)\n",
    "            for item in dict:\n",
    "                  fd.append(item)\n",
    "\n",
    "filedetails_df = pd.DataFrame.from_dict(fd)\n",
    "del fd"
   ]
  },
  {
   "attachments": {},
   "cell_type": "markdown",
   "metadata": {
    "pycharm": {
     "name": "#%% md\n"
    }
   },
   "source": [
    "## Schema Prep"
   ]
  },
  {
   "cell_type": "code",
   "execution_count": 2,
   "metadata": {
    "pycharm": {
     "name": "#%%\n"
    }
   },
   "outputs": [],
   "source": [
    "# schema prep\n",
    "join_schema = pa.schema([])\n",
    "join_schema = join_schema.append(pa.field(\"file_id\",pa.string()))\n",
    "\n",
    "# pglast prep\n",
    "\n",
    "pglast_ddf = read_partial('pglast','file',PGLastSchema().file_level_schema.names)\n",
    "\n",
    "import ast\n",
    "pglast_ddf['x'] = pglast_ddf.apply(\n",
    "    lambda row:\n",
    "    #'a',\n",
    "    [] if row['counter_str'] is None else [item for item in ast.literal_eval(row['counter_str'] or 'None') if 'CreateSeqStmt' in item],\n",
    "    axis=1,\n",
    "    meta=('x', 'string'))\n",
    "\n",
    "pglast_ddf['num_create_seq'] = pglast_ddf.apply(\n",
    "    lambda row:\n",
    "    row['x'][0]['CreateSeqStmt'] if len(row['x']) > 0 else 0,\n",
    "    axis=1,\n",
    "    meta=('num_create_seq', 'float'))\n",
    "\n",
    "pglast_ddf = pglast_ddf.drop(columns=['x'])  \n",
    "\n",
    "pglast_ddf['num_tables_without_create_seq'] = pglast_ddf['num_distinct_tables'] - pglast_ddf['num_create_seq']\n",
    "\n",
    "pglast_ddf['table_list_str'] = pglast_ddf.apply(\n",
    "    lambda row:\n",
    "    \"|\".join(str(x) for x in sorted(row['table_list'])) if row['table_list'] is not None else None,\n",
    "    axis=1,\n",
    "    meta=('table_list_str', 'string'))\n",
    "pglast_ddf['column_list_str'] = pglast_ddf.apply(\n",
    "    lambda row:\n",
    "    \"|\".join(str(x) for x in sorted(row['columns_list'])) if row['columns_list'] is not None else None,\n",
    "    axis=1,\n",
    "    meta=('column_list_str', 'string'))\n",
    "pglast_ddf['schema_list_str'] = pglast_ddf.apply(\n",
    "    lambda row:\n",
    "    \"|\".join(str(x) for x in sorted(row['schema_list'])) if row['schema_list'] is not None else None,\n",
    "    axis=1,\n",
    "    meta=('schema_list_str', 'string'))\n",
    "pglast_ddf['view_list_str'] = pglast_ddf.apply(\n",
    "    lambda row:\n",
    "    \"|\".join(str(x) for x in sorted(row['view_list'])) if row['view_list'] is not None else None,\n",
    "    axis=1,\n",
    "    meta=('view_list_str', 'string'))\n",
    "pglast_ddf['db_list_str'] = pglast_ddf.apply(\n",
    "    lambda row:\n",
    "    \"|\".join(str(x) for x in sorted(row['db_list'])) if row['db_list'] is not None else None,\n",
    "    axis=1,\n",
    "    meta=('db_list_str', 'string'))\n",
    "\n",
    "try:\n",
    "    del dict\n",
    "except:\n",
    "    pass\n",
    "pglast_ddf = pglast_ddf.rename(columns=dict(zip(pglast_ddf.columns, [item.replace(\"pglast_file_id\",\"file_id\") for item in [\"pglast_\" + item for item in pglast_ddf.columns]])))\n",
    "\n",
    "for item in PGLastSchema().file_level_schema:\n",
    "    if item.name != 'file_id':\n",
    "        join_schema = join_schema.append(pa.field(\"pglast_\" + item.name,item.type))\n",
    "join_schema = join_schema.append(pa.field(\"pglast_num_create_seq\", pa.float64()))\n",
    "join_schema = join_schema.append(pa.field(\"pglast_num_tables_without_create_seq\", pa.float64()))\n",
    "\n",
    "join_schema = join_schema.append(pa.field(\"pglast_table_list_str\", pa.string()))\n",
    "join_schema = join_schema.append(pa.field(\"pglast_column_list_str\", pa.string()))\n",
    "join_schema = join_schema.append(pa.field(\"pglast_schema_list_str\", pa.string()))\n",
    "join_schema = join_schema.append(pa.field(\"pglast_view_list_str\", pa.string()))\n",
    "join_schema = join_schema.append(pa.field(\"pglast_db_list_str\", pa.string()))\n",
    "\n"
   ]
  },
  {
   "cell_type": "code",
   "execution_count": 3,
   "metadata": {
    "pycharm": {
     "name": "#%%\n"
    }
   },
   "outputs": [],
   "source": [
    "# sdp prep\n",
    "\n",
    "sdp_ddf = read_partial('simple','file',SimpleDDLParserSchema().file_level_schema.names)\n",
    "\n",
    "sdp_ddf['parsed_file_indulgent'] = sdp_ddf.apply(\n",
    "    lambda row:\n",
    "    1 if ((row['parsed_file'] == 1) | \n",
    "                    ((row['parsed_file'] == 2) & \n",
    "                    ((row['num_distinct_tables'] > 0) |\n",
    "                     (row['num_distinct_columns'] > 0) |\n",
    "                     (row['num_constraints'] > 0)\n",
    "                    )\n",
    "                  )) else 0,\n",
    "    axis=1,\n",
    "    meta=('parsed_file_indulgent', 'int'))\n",
    "\n",
    "sdp_ddf['table_list_str'] = sdp_ddf.apply(\n",
    "    lambda row:\n",
    "    \"|\".join(str(x) for x in sorted(row['table_list'])) if row['table_list'] is not None else None,\n",
    "    axis=1,\n",
    "    meta=('table_list_str', 'string'))\n",
    "sdp_ddf['column_list_str'] = sdp_ddf.apply(\n",
    "    lambda row:\n",
    "    \"|\".join(str(x) for x in sorted(row['column_list'])) if row['column_list'] is not None else None,\n",
    "    axis=1,\n",
    "    meta=('column_list_str', 'string'))\n",
    "sdp_ddf['schema_list_str'] = sdp_ddf.apply(\n",
    "    lambda row:\n",
    "    \"|\".join(str(x) for x in sorted(row['schema_list'])) if row['schema_list'] is not None else None,\n",
    "    axis=1,\n",
    "    meta=('schema_list_str', 'string'))\n",
    "sdp_ddf['view_list_str'] = sdp_ddf.apply(\n",
    "    lambda row:\n",
    "    \"|\".join(str(x) for x in sorted(row['view_list'])) if row['view_list'] is not None else None,\n",
    "    axis=1,\n",
    "    meta=('view_list_str', 'string'))\n",
    "sdp_ddf['db_list_str'] = sdp_ddf.apply(\n",
    "    lambda row:\n",
    "    \"|\".join(str(x) for x in sorted(row['db_list'])) if row['db_list'] is not None else None,\n",
    "    axis=1,\n",
    "    meta=('db_list_str', 'string'))\n",
    "\n",
    "# renaming cols\n",
    "sdp_ddf = sdp_ddf.rename(columns=dict(zip(sdp_ddf.columns, [item.replace(\"sdp_file_id\",\"file_id\") for item in [\"sdp_\" + item for item in sdp_ddf.columns]])))\n",
    "\n",
    "for item in SimpleDDLParserSchema().file_level_schema:\n",
    "    if item.name != 'file_id':\n",
    "        join_schema = join_schema.append(pa.field(\"sdp_\" + item.name,item.type))\n",
    "\n",
    "join_schema = join_schema.append(pa.field(\"sdp_parsed_file_indulgent\", pa.int64()))\n",
    "\n",
    "join_schema = join_schema.append(pa.field(\"sdp_table_list_str\", pa.string()))\n",
    "join_schema = join_schema.append(pa.field(\"sdp_column_list_str\", pa.string()))\n",
    "join_schema = join_schema.append(pa.field(\"sdp_schema_list_str\", pa.string()))\n",
    "join_schema = join_schema.append(pa.field(\"sdp_view_list_str\", pa.string()))\n",
    "join_schema = join_schema.append(pa.field(\"sdp_db_list_str\", pa.string()))\n"
   ]
  },
  {
   "cell_type": "code",
   "execution_count": 4,
   "metadata": {
    "pycharm": {
     "name": "#%%\n"
    }
   },
   "outputs": [],
   "source": [
    "sqlglot_ddf = read_partial('sqlglot','file',SQLGlotSchema().file_level_schema.names)\n",
    "\n",
    "sqlglot_ddf['table_list_str'] = sqlglot_ddf.apply(\n",
    "    lambda row:\n",
    "    \"|\".join(str(x) for x in sorted(row['table_list'])) if row['table_list'] is not None else None,\n",
    "    axis=1,\n",
    "    meta=('table_list_str', 'string'))\n",
    "sqlglot_ddf['column_list_str'] = sqlglot_ddf.apply(\n",
    "    lambda row:\n",
    "    \"|\".join(str(x) for x in sorted(row['column_list'])) if row['column_list'] is not None else None,\n",
    "    axis=1,\n",
    "    meta=('column_list_str', 'string'))\n",
    "sqlglot_ddf['schema_list_str'] = sqlglot_ddf.apply(\n",
    "    lambda row:\n",
    "    \"|\".join(str(x) for x in sorted(row['schema_list'])) if row['schema_list'] is not None else None,\n",
    "    axis=1,\n",
    "    meta=('schema_list_str', 'string'))\n",
    "sqlglot_ddf['view_list_str'] = sqlglot_ddf.apply(\n",
    "    lambda row:\n",
    "    \"|\".join(str(x) for x in sorted(row['view_list'])) if row['view_list'] is not None else None,\n",
    "    axis=1,\n",
    "    meta=('view_list_str', 'string'))\n",
    "sqlglot_ddf['db_list_str'] = sqlglot_ddf.apply(\n",
    "    lambda row:\n",
    "    \"|\".join(str(x) for x in sorted(row['db_list'])) if row['db_list'] is not None else None,\n",
    "    axis=1,\n",
    "    meta=('db_list_str', 'string'))\n",
    "\n",
    "\n",
    "\n",
    "sqlglot_ddf['postgres_table_list_str'] = sqlglot_ddf.apply(\n",
    "    lambda row:\n",
    "    \"|\".join(str(x) for x in sorted(row['postgres_table_list'])) if row['postgres_table_list'] is not None else None,\n",
    "    axis=1,\n",
    "    meta=('postgres_table_list_str', 'string'))\n",
    "sqlglot_ddf['postgres_column_list_str'] = sqlglot_ddf.apply(\n",
    "    lambda row:\n",
    "    \"|\".join(str(x) for x in sorted(row['postgres_column_list'])) if row['postgres_column_list'] is not None else None,\n",
    "    axis=1,\n",
    "    meta=('postgres_column_list_str', 'string'))\n",
    "sqlglot_ddf['postgres_schema_list_str'] = sqlglot_ddf.apply(\n",
    "    lambda row:\n",
    "    \"|\".join(str(x) for x in sorted(row['postgres_schema_list'])) if row['postgres_schema_list'] is not None else None,\n",
    "    axis=1,\n",
    "    meta=('postgres_schema_list_str', 'string'))\n",
    "sqlglot_ddf['postgres_view_list_str'] = sqlglot_ddf.apply(\n",
    "    lambda row:\n",
    "    \"|\".join(str(x) for x in sorted(row['postgres_view_list'])) if row['postgres_view_list'] is not None else None,\n",
    "    axis=1,\n",
    "    meta=('postgres_view_list_str', 'string'))\n",
    "sqlglot_ddf['postgres_db_list_str'] = sqlglot_ddf.apply(\n",
    "    lambda row:\n",
    "    \"|\".join(str(x) for x in sorted(row['postgres_db_list'])) if row['postgres_db_list'] is not None else None,\n",
    "    axis=1,\n",
    "    meta=('postgres_db_list_str', 'string'))\n",
    "\n",
    "sqlglot_ddf = sqlglot_ddf.rename(columns=dict(zip(sqlglot_ddf.columns, [item.replace(\"sqlglot_file_id\",\"file_id\") for item in [\"sqlglot_\" + item for item in sqlglot_ddf.columns]])))\n",
    "\n",
    "for item in SQLGlotSchema().file_level_schema:\n",
    "    if item.name != 'file_id':\n",
    "        join_schema = join_schema.append(pa.field(\"sqlglot_\" + item.name,item.type))\n",
    "\n",
    "join_schema = join_schema.append(pa.field(\"sqlglot_table_list_str\", pa.string()))\n",
    "join_schema = join_schema.append(pa.field(\"sqlglot_column_list_str\", pa.string()))\n",
    "join_schema = join_schema.append(pa.field(\"sqlglot_schema_list_str\", pa.string()))\n",
    "join_schema = join_schema.append(pa.field(\"sqlglot_view_list_str\", pa.string()))\n",
    "join_schema = join_schema.append(pa.field(\"sqlglot_db_list_str\", pa.string()))\n",
    "\n",
    "join_schema = join_schema.append(pa.field(\"sqlglot_postgres_table_list_str\", pa.string()))\n",
    "join_schema = join_schema.append(pa.field(\"sqlglot_postgres_column_list_str\", pa.string()))\n",
    "join_schema = join_schema.append(pa.field(\"sqlglot_postgres_schema_list_str\", pa.string()))\n",
    "join_schema = join_schema.append(pa.field(\"sqlglot_postgres_view_list_str\", pa.string()))\n",
    "join_schema = join_schema.append(pa.field(\"sqlglot_postgres_db_list_str\", pa.string()))"
   ]
  },
  {
   "cell_type": "code",
   "execution_count": 5,
   "metadata": {
    "pycharm": {
     "name": "#%%\n"
    }
   },
   "outputs": [],
   "source": [
    "rust_ddf = read_partial('rustparser','file',RustParserSchema().file_level_schema.names)\n",
    "\n",
    "rust_ddf['table_list_str'] = rust_ddf.apply(\n",
    "    lambda row:\n",
    "    \"|\".join(str(x) for x in sorted(row['table_list'])) if row['table_list'] is not None else None,\n",
    "    axis=1,\n",
    "    meta=('table_list_str', 'string'))\n",
    "rust_ddf['column_list_str'] = rust_ddf.apply(\n",
    "    lambda row:\n",
    "    \"|\".join(str(x) for x in sorted(row['column_list'])) if row['column_list'] is not None else None,\n",
    "    axis=1,\n",
    "    meta=('column_list_str', 'string'))\n",
    "rust_ddf['schema_list_str'] = rust_ddf.apply(\n",
    "    lambda row:\n",
    "    \"|\".join(str(x) for x in sorted(row['schema_list'])) if row['schema_list'] is not None else None,\n",
    "    axis=1,\n",
    "    meta=('schema_list_str', 'string'))\n",
    "rust_ddf['view_list_str'] = rust_ddf.apply(\n",
    "    lambda row:\n",
    "    \"|\".join(str(x) for x in sorted(row['view_list'])) if row['view_list'] is not None else None,\n",
    "    axis=1,\n",
    "    meta=('view_list_str', 'string'))\n",
    "rust_ddf['db_list_str'] = rust_ddf.apply(\n",
    "    lambda row:\n",
    "    \"|\".join(str(x) for x in sorted(row['db_list'])) if row['db_list'] is not None else None,\n",
    "    axis=1,\n",
    "    meta=('db_list_str', 'string'))\n",
    "\n",
    "\n",
    "\n",
    "rust_ddf['postgres_table_list_str'] = rust_ddf.apply(\n",
    "    lambda row:\n",
    "    \"|\".join(str(x) for x in sorted(row['postgres_table_list'])) if row['postgres_table_list'] is not None else None,\n",
    "    axis=1,\n",
    "    meta=('postgres_table_list_str', 'string'))\n",
    "rust_ddf['postgres_column_list_str'] = rust_ddf.apply(\n",
    "    lambda row:\n",
    "    \"|\".join(str(x) for x in sorted(row['postgres_column_list'])) if row['postgres_column_list'] is not None else None,\n",
    "    axis=1,\n",
    "    meta=('postgres_column_list_str', 'string'))\n",
    "rust_ddf['postgres_schema_list_str'] = rust_ddf.apply(\n",
    "    lambda row:\n",
    "    \"|\".join(str(x) for x in sorted(row['postgres_schema_list'])) if row['postgres_schema_list'] is not None else None,\n",
    "    axis=1,\n",
    "    meta=('postgres_schema_list_str', 'string'))\n",
    "rust_ddf['postgres_view_list_str'] = rust_ddf.apply(\n",
    "    lambda row:\n",
    "    \"|\".join(str(x) for x in sorted(row['postgres_view_list'])) if row['postgres_view_list'] is not None else None,\n",
    "    axis=1,\n",
    "    meta=('postgres_view_list_str', 'string'))\n",
    "rust_ddf['postgres_db_list_str'] = rust_ddf.apply(\n",
    "    lambda row:\n",
    "    \"|\".join(str(x) for x in sorted(row['postgres_db_list'])) if row['postgres_db_list'] is not None else None,\n",
    "    axis=1,\n",
    "    meta=('postgres_db_list_str', 'string'))\n",
    "\n",
    "rust_ddf = rust_ddf.rename(columns=dict(zip(rust_ddf.columns, [item.replace(\"rustparser_file_id\",\"file_id\") for item in [\"rustparser_\" + item for item in rust_ddf.columns]])))\n",
    "\n",
    "for item in RustParserSchema().file_level_schema:\n",
    "    if item.name != 'file_id':\n",
    "        join_schema = join_schema.append(pa.field(\"rustparser_\" + item.name,item.type))\n",
    "\n",
    "join_schema = join_schema.append(pa.field(\"rustparser_table_list_str\", pa.string()))\n",
    "join_schema = join_schema.append(pa.field(\"rustparser_column_list_str\", pa.string()))\n",
    "join_schema = join_schema.append(pa.field(\"rustparser_schema_list_str\", pa.string()))\n",
    "join_schema = join_schema.append(pa.field(\"rustparser_view_list_str\", pa.string()))\n",
    "join_schema = join_schema.append(pa.field(\"rustparser_db_list_str\", pa.string()))\n",
    "\n",
    "join_schema = join_schema.append(pa.field(\"rustparser_postgres_table_list_str\", pa.string()))\n",
    "join_schema = join_schema.append(pa.field(\"rustparser_postgres_column_list_str\", pa.string()))\n",
    "join_schema = join_schema.append(pa.field(\"rustparser_postgres_schema_list_str\", pa.string()))\n",
    "join_schema = join_schema.append(pa.field(\"rustparser_postgres_view_list_str\", pa.string()))\n",
    "join_schema = join_schema.append(pa.field(\"rustparser_postgres_db_list_str\", pa.string()))"
   ]
  },
  {
   "cell_type": "code",
   "execution_count": 6,
   "metadata": {
    "pycharm": {
     "name": "#%%\n"
    }
   },
   "outputs": [],
   "source": [
    "tidb_ddf = read_partial('tidb','file',TIDBMysqlSchema().file_level_schema.names)\n",
    "\n",
    "\n",
    "tidb_ddf['table_list_str'] = tidb_ddf.apply(\n",
    "    lambda row:\n",
    "    \"|\".join(str(x) for x in sorted(row['table_list'])) if row['table_list'] is not None else None,\n",
    "    axis=1,\n",
    "    meta=('table_list_str', 'string'))\n",
    "tidb_ddf['column_list_str'] = tidb_ddf.apply(\n",
    "    lambda row:\n",
    "    \"|\".join(str(x) for x in sorted(row['column_list'])) if row['column_list'] is not None else None,\n",
    "    axis=1,\n",
    "    meta=('column_list_str', 'string'))\n",
    "tidb_ddf['schema_list_str'] = tidb_ddf.apply(\n",
    "    lambda row:\n",
    "    \"|\".join(str(x) for x in sorted(row['schema_list'])) if row['schema_list'] is not None else None,\n",
    "    axis=1,\n",
    "    meta=('schema_list_str', 'string'))\n",
    "tidb_ddf['view_list_str'] = tidb_ddf.apply(\n",
    "    lambda row:\n",
    "    \"|\".join(str(x) for x in sorted(row['view_list'])) if row['view_list'] is not None else None,\n",
    "    axis=1,\n",
    "    meta=('view_list_str', 'string'))\n",
    "tidb_ddf['db_list_str'] = tidb_ddf.apply(\n",
    "    lambda row:\n",
    "    \"|\".join(str(x) for x in sorted(row['db_list'])) if row['db_list'] is not None else None,\n",
    "    axis=1,\n",
    "    meta=('db_list_str', 'string'))\n",
    "\n",
    "# renaming cols\n",
    "tidb_ddf = tidb_ddf.rename(columns=dict(zip(tidb_ddf.columns, [item.replace(\"tidb_file_id\",\"file_id\") for item in [\"tidb_\" + item for item in tidb_ddf.columns]])))\n",
    "\n",
    "for item in TIDBMysqlSchema().file_level_schema:\n",
    "    if item.name != 'file_id':\n",
    "        join_schema = join_schema.append(pa.field(\"tidb_\" + item.name,item.type))\n",
    "\n",
    "join_schema = join_schema.append(pa.field(\"tidb_table_list_str\", pa.string()))\n",
    "join_schema = join_schema.append(pa.field(\"tidb_column_list_str\", pa.string()))\n",
    "join_schema = join_schema.append(pa.field(\"tidb_schema_list_str\", pa.string()))\n",
    "join_schema = join_schema.append(pa.field(\"tidb_view_list_str\", pa.string()))\n",
    "join_schema = join_schema.append(pa.field(\"tidb_db_list_str\", pa.string()))\n"
   ]
  },
  {
   "cell_type": "code",
   "execution_count": 7,
   "metadata": {
    "pycharm": {
     "name": "#%%\n"
    }
   },
   "outputs": [],
   "source": [
    "jsql_ddf = read_partial('jsqlparser','file',JSqlParserSchema().file_level_schema.names)\n",
    "\n",
    "\n",
    "jsql_ddf['table_list_str'] = jsql_ddf.apply(\n",
    "    lambda row:\n",
    "    \"|\".join(str(x) for x in sorted(row['table_list'])) if row['table_list'] is not None else None,\n",
    "    axis=1,\n",
    "    meta=('table_list_str', 'string'))\n",
    "jsql_ddf['column_list_str'] = jsql_ddf.apply(\n",
    "    lambda row:\n",
    "    \"|\".join(str(x) for x in sorted(row['column_list'])) if row['column_list'] is not None else None,\n",
    "    axis=1,\n",
    "    meta=('column_list_str', 'string'))\n",
    "jsql_ddf['schema_list_str'] = jsql_ddf.apply(\n",
    "    lambda row:\n",
    "    \"|\".join(str(x) for x in sorted(row['schema_list'])) if row['schema_list'] is not None else None,\n",
    "    axis=1,\n",
    "    meta=('schema_list_str', 'string'))\n",
    "jsql_ddf['view_list_str'] = jsql_ddf.apply(\n",
    "    lambda row:\n",
    "    \"|\".join(str(x) for x in sorted(row['view_list'])) if row['view_list'] is not None else None,\n",
    "    axis=1,\n",
    "    meta=('view_list_str', 'string'))\n",
    "jsql_ddf['db_list_str'] = jsql_ddf.apply(\n",
    "    lambda row:\n",
    "    \"|\".join(str(x) for x in sorted(row['db_list'])) if row['db_list'] is not None else None,\n",
    "    axis=1,\n",
    "    meta=('db_list_str', 'string'))\n",
    "\n",
    "# renaming cols\n",
    "jsql_ddf = jsql_ddf.rename(columns=dict(zip(jsql_ddf.columns, [item.replace(\"jsql_file_id\",\"file_id\") for item in [\"jsql_\" + item for item in jsql_ddf.columns]])))\n",
    "\n",
    "for item in JSqlParserSchema().file_level_schema:\n",
    "    if item.name != 'file_id':\n",
    "        join_schema = join_schema.append(pa.field(\"jsql_\" + item.name,item.type))\n",
    "\n",
    "join_schema = join_schema.append(pa.field(\"jsql_table_list_str\", pa.string()))\n",
    "join_schema = join_schema.append(pa.field(\"jsql_column_list_str\", pa.string()))\n",
    "join_schema = join_schema.append(pa.field(\"jsql_schema_list_str\", pa.string()))\n",
    "join_schema = join_schema.append(pa.field(\"jsql_view_list_str\", pa.string()))\n",
    "join_schema = join_schema.append(pa.field(\"jsql_db_list_str\", pa.string()))\n"
   ]
  },
  {
   "attachments": {},
   "cell_type": "markdown",
   "metadata": {
    "pycharm": {
     "name": "#%% md\n"
    }
   },
   "source": [
    "### Stmt level"
   ]
  },
  {
   "cell_type": "code",
   "execution_count": 8,
   "metadata": {
    "pycharm": {
     "name": "#%%\n"
    }
   },
   "outputs": [],
   "source": [
    "# schema prep\n",
    "stmt_join_schema = pa.schema([])\n",
    "stmt_join_schema = stmt_join_schema.append(pa.field(\"file_id\",pa.string()))\n",
    "stmt_join_schema = stmt_join_schema.append(pa.field(\"statement_nr\",pa.string()))\n",
    "\n",
    "jsql_details_ddf = read_partial('jsqlparser','stmt',['file_id','statement_nr','parsed','parse_error','parse_error_with_brackets','valid_ansi','valid_oracle','valid_mysql','valid_postgres','valid_sqlserver'])\n",
    "for item in JSqlParserSchema().statement_list_sch:\n",
    "    if item.name != 'file_id' and item.name != 'statement_nr' and item.name != 'statement_id' and item.name in jsql_details_ddf.columns:\n",
    "        stmt_join_schema = stmt_join_schema.append(pa.field(\"jsql_\" + item.name,item.type))\n",
    "try:\n",
    "    del dict\n",
    "except:\n",
    "    pass\n",
    "jsql_details_ddf = jsql_details_ddf.rename(columns=dict(zip(jsql_details_ddf.columns, [item.replace(\"jsql_file_id\",\"file_id\").replace('jsql_statement_nr','statement_nr') for item in [\"jsql_\" + item for item in jsql_details_ddf.columns]])))\n",
    "jsql_details_ddf['statement_nr'] = jsql_details_ddf['statement_nr'].apply(lambda x: str(x),meta=('statement_nr','string'))  \n",
    "\n",
    "pglast_details_ddf = read_partial('pglast','stmt',['file_id','statement_nr','parsed','parse_error'])\n",
    "for item in PGLastSchema().statement_list_sch:\n",
    "    if item.name != 'file_id' and item.name != 'statement_nr' and item.name != 'statement_id' and item.name in pglast_details_ddf.columns:\n",
    "        stmt_join_schema = stmt_join_schema.append(pa.field(\"pglast_\" + item.name,item.type))\n",
    "try:\n",
    "    del dict\n",
    "except:\n",
    "    pass\n",
    "pglast_details_ddf = pglast_details_ddf.rename(columns=dict(zip(pglast_details_ddf.columns, [item.replace(\"pglast_file_id\",\"file_id\").replace('pglast_statement_nr','statement_nr') for item in [\"pglast_\" + item for item in pglast_details_ddf.columns]])))\n",
    "pglast_details_ddf['statement_nr'] = pglast_details_ddf['statement_nr'].apply(lambda x: str(x),meta=('statement_nr','string')) \n",
    "\n",
    "tidb_details_ddf = read_partial('tidb','stmt',['file_id','statement_nr','parsed','parse_error'])\n",
    "for item in TIDBMysqlSchema().statement_list_sch:\n",
    "    if item.name != 'file_id' and item.name != 'statement_nr' and item.name != 'statement_id' and item.name in tidb_details_ddf.columns:\n",
    "        stmt_join_schema = stmt_join_schema.append(pa.field(\"tidb_\" + item.name,item.type))\n",
    "try:\n",
    "    del dict\n",
    "except:\n",
    "    pass\n",
    "tidb_details_ddf = tidb_details_ddf.rename(columns=dict(zip(tidb_details_ddf.columns, [item.replace(\"tidb_file_id\",\"file_id\").replace('tidb_statement_nr','statement_nr') for item in [\"tidb_\" + item for item in tidb_details_ddf.columns]])))\n",
    "tidb_details_ddf['statement_nr'] = tidb_details_ddf['statement_nr'].apply(lambda x: str(x),meta=('statement_nr','string')) \n",
    "\n",
    "rust_details_ddf = read_partial('rustparser','stmt',['file_id','statement_id','parsed','parsed_generic','parsed_ansi','parsed_postgres','parsed_mysql','parsed_ms','dialect','parse_error'])\n",
    "rust_details_ddf['statement_nr'] = rust_details_ddf['statement_id']\n",
    "rust_details_ddf = rust_details_ddf[['file_id','statement_nr','parsed','parsed_generic','parsed_ansi','parsed_postgres','parsed_mysql','parsed_ms','dialect','parse_error']]\n",
    "for item in RustParserSchema().statement_list_sch:\n",
    "    if item.name != 'file_id' and item.name != 'statement_nr' and item.name != 'statement_id' and item.name in rust_details_ddf.columns:\n",
    "        stmt_join_schema = stmt_join_schema.append(pa.field(\"rust_\" + item.name,item.type))\n",
    "try:\n",
    "    del dict\n",
    "except:\n",
    "    pass\n",
    "rust_details_ddf = rust_details_ddf.rename(columns=dict(zip(rust_details_ddf.columns, [item.replace(\"rust_file_id\",\"file_id\").replace('rust_statement_nr','statement_nr') for item in [\"rust_\" + item for item in rust_details_ddf.columns]])))\n",
    "rust_details_ddf['statement_nr'] = rust_details_ddf['statement_nr'].apply(lambda x: str(x),meta=('statement_nr','string')) \n",
    "\n",
    "sqlglot_details_ddf = read_partial('sqlglot','stmt',['file_id','statement_id','parsed','parsed_none','parsed_postgres','parsed_mysql','parsed_tsql','dialect','parse_error','file_parse_error_start_context','file_parse_error_highlight'])\n",
    "sqlglot_details_ddf['statement_nr'] = sqlglot_details_ddf['statement_id']\n",
    "sqlglot_details_ddf = sqlglot_details_ddf[['file_id','statement_nr','parsed','parsed_none','parsed_postgres','parsed_mysql','parsed_tsql','dialect','parse_error','file_parse_error_start_context','file_parse_error_highlight']]\n",
    "for item in SQLGlotSchema().statement_list_sch:\n",
    "    if item.name != 'file_id' and item.name != 'statement_nr' and item.name != 'statement_id' and item.name in sqlglot_details_ddf.columns:\n",
    "        stmt_join_schema = stmt_join_schema.append(pa.field(\"sqlglot_\" + item.name,item.type))\n",
    "try:\n",
    "    del dict\n",
    "except:\n",
    "    pass\n",
    "sqlglot_details_ddf = sqlglot_details_ddf.rename(columns=dict(zip(sqlglot_details_ddf.columns, [item.replace(\"sqlglot_file_id\",\"file_id\").replace('sqlglot_statement_nr','statement_nr') for item in [\"sqlglot_\" + item for item in sqlglot_details_ddf.columns]])))\n",
    "sqlglot_details_ddf['statement_nr'] = sqlglot_details_ddf['statement_nr'].apply(lambda x: str(x),meta=('statement_nr','string')) \n"
   ]
  },
  {
   "attachments": {},
   "cell_type": "markdown",
   "metadata": {
    "pycharm": {
     "name": "#%% md\n"
    }
   },
   "source": [
    "## Read"
   ]
  },
  {
   "cell_type": "code",
   "execution_count": 9,
   "metadata": {
    "pycharm": {
     "name": "#%%\n"
    }
   },
   "outputs": [],
   "source": [
    "joined_ddf = dd.read_parquet('../out_new/join__parsed__all/', columns = join_schema.names ,schema=join_schema, split_row_groups=True, calculate_divisions=True,engine='pyarrow')"
   ]
  },
  {
   "cell_type": "code",
   "execution_count": 13,
   "metadata": {
    "pycharm": {
     "name": "#%%\n"
    }
   },
   "outputs": [],
   "source": [
    "stmt_joined_ddf = dd.read_parquet('../out_new/stmt_join__parsed__all_final/', columns = stmt_join_schema.names ,schema=stmt_join_schema, split_row_groups=True, calculate_divisions=True,engine='pyarrow')"
   ]
  },
  {
   "cell_type": "code",
   "execution_count": 11,
   "metadata": {
    "pycharm": {
     "name": "#%%\n"
    }
   },
   "outputs": [
    {
     "name": "stdout",
     "output_type": "stream",
     "text": [
      "[########################################] | 100% Completed | 19.58 s\n"
     ]
    },
    {
     "data": {
      "text/plain": [
       "file_id                                          256429\n",
       "pglast_file_path                                 256429\n",
       "pglast_errors_at_read                            256429\n",
       "pglast_num_statements                            63937 \n",
       "pglast_parsed_file                               256429\n",
       "pglast_file_parse_error                          192492\n",
       "pglast_num_distinct_tables                       63937 \n",
       "pglast_table_list                                63261 \n",
       "pglast_num_distinct_columns                      63937 \n",
       "pglast_columns_list                              60823 \n",
       "pglast_num_distinct_schemas                      63937 \n",
       "pglast_schema_list                               10907 \n",
       "pglast_num_distinct_dbs                          63937 \n",
       "pglast_db_list                                   1158  \n",
       "pglast_view_list                                 2381  \n",
       "pglast_num_constraints                           63937 \n",
       "pglast_num_ctr_notnull                           63937 \n",
       "pglast_num_ctr_unique                            63937 \n",
       "pglast_num_ctr_primary                           63937 \n",
       "pglast_num_ctr_foreign                           63937 \n",
       "pglast_counter_str                               63937 \n",
       "pglast_original                                  192492\n",
       "pglast_original_highlight                        192491\n",
       "pglast_file_comment_count                        63937 \n",
       "pglast_num_drop_stmt                             63937 \n",
       "pglast_num_drop_like_stmt                        63937 \n",
       "pglast_num_create_stmt                           63937 \n",
       "pglast_num_create_like_stmt                      63937 \n",
       "pglast_num_insert_stmt                           63937 \n",
       "pglast_num_insert_like_stmt                      63937 \n",
       "pglast_num_alter_stmt                            63937 \n",
       "pglast_num_alter_like_stmt                       63937 \n",
       "pglast_num_select_stmt                           63937 \n",
       "pglast_num_view_stmt                             63937 \n",
       "pglast_num_truncate_stmt                         63937 \n",
       "pglast_num_update_stmt                           63937 \n",
       "pglast_num_comment_stmt                          63937 \n",
       "pglast_num_delete_stmt                           63937 \n",
       "pglast_num_set_like_stmt                         63937 \n",
       "pglast_num_execute_like_stmt                     63937 \n",
       "pglast_num_index_like_stmt                       63937 \n",
       "pglast_num_transaction_like_stmt                 63937 \n",
       "pglast_num_create_seq                            256429\n",
       "pglast_num_tables_without_create_seq             63937 \n",
       "pglast_table_list_str                            63261 \n",
       "pglast_column_list_str                           60823 \n",
       "pglast_schema_list_str                           10907 \n",
       "pglast_view_list_str                             2381  \n",
       "pglast_db_list_str                               1158  \n",
       "sdp_file_path                                    256429\n",
       "sdp_errors_at_read                               256429\n",
       "sdp_num_statements                               0     \n",
       "sdp_parsed_file                                  256429\n",
       "sdp_file_parse_error                             212511\n",
       "sdp_value_error_present                          256429\n",
       "sdp_num_distinct_tables                          230437\n",
       "sdp_table_list                                   141464\n",
       "sdp_num_distinct_columns                         230437\n",
       "sdp_column_list                                  110206\n",
       "sdp_num_distinct_schemas                         230437\n",
       "sdp_schema_list                                  16023 \n",
       "sdp_num_distinct_dbs                             230437\n",
       "sdp_db_list                                      20271 \n",
       "sdp_view_list                                    0     \n",
       "sdp_num_constraints                              0     \n",
       "sdp_num_ctr_notnull                              230437\n",
       "sdp_num_ctr_unique                               230437\n",
       "sdp_num_ctr_primary                              230437\n",
       "sdp_num_ctr_foreign                              230437\n",
       "sdp_file_comment_count                           0     \n",
       "sdp_num_drop_stmt                                0     \n",
       "sdp_num_drop_like_stmt                           0     \n",
       "sdp_num_create_stmt                              0     \n",
       "sdp_num_create_like_stmt                         0     \n",
       "sdp_num_insert_stmt                              0     \n",
       "sdp_num_insert_like_stmt                         0     \n",
       "sdp_num_alter_stmt                               230437\n",
       "sdp_num_alter_like_stmt                          0     \n",
       "sdp_num_select_stmt                              0     \n",
       "sdp_num_view_stmt                                0     \n",
       "sdp_num_truncate_stmt                            0     \n",
       "sdp_num_update_stmt                              0     \n",
       "sdp_num_comment_stmt                             0     \n",
       "sdp_num_delete_stmt                              0     \n",
       "sdp_num_set_like_stmt                            0     \n",
       "sdp_num_execute_like_stmt                        0     \n",
       "sdp_num_index_like_stmt                          0     \n",
       "sdp_num_transaction_like_stmt                    0     \n",
       "sdp_parsed_file_indulgent                        256429\n",
       "sdp_table_list_str                               141464\n",
       "sdp_column_list_str                              110206\n",
       "sdp_schema_list_str                              16023 \n",
       "sdp_view_list_str                                0     \n",
       "sdp_db_list_str                                  20271 \n",
       "sqlglot_file_path                                256429\n",
       "sqlglot_errors_at_read                           256429\n",
       "sqlglot_parsed                                   256429\n",
       "sqlglot_parsed_none                              256429\n",
       "sqlglot_parsed_postgres                          256429\n",
       "sqlglot_parsed_mysql                             256429\n",
       "sqlglot_parsed_tsql                              256429\n",
       "sqlglot_dialect                                  25829 \n",
       "sqlglot_parse_error                              180920\n",
       "sqlglot_file_parse_error_start_context           180920\n",
       "sqlglot_file_parse_error_highlight               180920\n",
       "sqlglot_num_statements                           256429\n",
       "sqlglot_num_distinct_tables                      256429\n",
       "sqlglot_table_list                               73587 \n",
       "sqlglot_num_distinct_columns                     256429\n",
       "sqlglot_column_list                              71185 \n",
       "sqlglot_num_distinct_schemas                     256429\n",
       "sqlglot_schema_list                              1776  \n",
       "sqlglot_num_distinct_dbs                         256429\n",
       "sqlglot_db_list                                  14495 \n",
       "sqlglot_view_list                                1260  \n",
       "sqlglot_num_constraints                          256429\n",
       "sqlglot_num_ctr_notnull                          256429\n",
       "sqlglot_num_ctr_unique                           256429\n",
       "sqlglot_num_ctr_primary                          256429\n",
       "sqlglot_num_ctr_foreign                          256429\n",
       "sqlglot_comment_count                            256429\n",
       "sqlglot_num_drop_stmt                            256429\n",
       "sqlglot_num_drop_like_stmt                       256429\n",
       "sqlglot_num_create_stmt                          256429\n",
       "sqlglot_num_create_like_stmt                     256429\n",
       "sqlglot_num_insert_stmt                          256429\n",
       "sqlglot_num_insert_like_stmt                     256429\n",
       "sqlglot_num_alter_stmt                           256429\n",
       "sqlglot_num_alter_like_stmt                      256429\n",
       "sqlglot_num_select_stmt                          256429\n",
       "sqlglot_num_view_stmt                            256429\n",
       "sqlglot_num_truncate_stmt                        256429\n",
       "sqlglot_num_update_stmt                          256429\n",
       "sqlglot_num_comment_stmt                         256429\n",
       "sqlglot_num_delete_stmt                          256429\n",
       "sqlglot_num_set_like_stmt                        256429\n",
       "sqlglot_num_execute_like_stmt                    256429\n",
       "sqlglot_num_index_like_stmt                      256429\n",
       "sqlglot_num_transaction_like_stmt                256429\n",
       "sqlglot_num_command_stmt                         256429\n",
       "sqlglot_num_command_alter_stmt                   256429\n",
       "sqlglot_counter_str                              256429\n",
       "sqlglot_postgres_num_statements                  256429\n",
       "sqlglot_postgres_num_distinct_tables             256429\n",
       "sqlglot_postgres_table_list                      63010 \n",
       "sqlglot_postgres_num_distinct_columns            256429\n",
       "sqlglot_postgres_column_list                     60967 \n",
       "sqlglot_postgres_num_distinct_schemas            256429\n",
       "sqlglot_postgres_schema_list                     984   \n",
       "sqlglot_postgres_num_distinct_dbs                256429\n",
       "sqlglot_postgres_db_list                         11188 \n",
       "sqlglot_postgres_view_list                       1038  \n",
       "sqlglot_postgres_num_constraints                 256429\n",
       "sqlglot_postgres_num_ctr_notnull                 256429\n",
       "sqlglot_postgres_num_ctr_unique                  256429\n",
       "sqlglot_postgres_num_ctr_primary                 256429\n",
       "sqlglot_postgres_num_ctr_foreign                 256429\n",
       "sqlglot_postgres_comment_count                   256429\n",
       "sqlglot_postgres_num_drop_stmt                   256429\n",
       "sqlglot_postgres_num_drop_like_stmt              256429\n",
       "sqlglot_postgres_num_create_stmt                 256429\n",
       "sqlglot_postgres_num_create_like_stmt            256429\n",
       "sqlglot_postgres_num_insert_stmt                 256429\n",
       "sqlglot_postgres_num_insert_like_stmt            256429\n",
       "sqlglot_postgres_num_alter_stmt                  256429\n",
       "sqlglot_postgres_num_alter_like_stmt             256429\n",
       "sqlglot_postgres_num_select_stmt                 256429\n",
       "sqlglot_postgres_num_view_stmt                   256429\n",
       "sqlglot_postgres_num_truncate_stmt               256429\n",
       "sqlglot_postgres_num_update_stmt                 256429\n",
       "sqlglot_postgres_num_comment_stmt                256429\n",
       "sqlglot_postgres_num_delete_stmt                 256429\n",
       "sqlglot_postgres_num_set_like_stmt               256429\n",
       "sqlglot_postgres_num_execute_like_stmt           256429\n",
       "sqlglot_postgres_num_index_like_stmt             256429\n",
       "sqlglot_postgres_num_transaction_like_stmt       256429\n",
       "sqlglot_postgres_num_command_stmt                256429\n",
       "sqlglot_postgres_num_command_alter_stmt          256429\n",
       "sqlglot_postgres_counter_str                     0     \n",
       "sqlglot_table_list_str                           73587 \n",
       "sqlglot_column_list_str                          71185 \n",
       "sqlglot_schema_list_str                          1776  \n",
       "sqlglot_view_list_str                            1260  \n",
       "sqlglot_db_list_str                              14495 \n",
       "sqlglot_postgres_table_list_str                  63010 \n",
       "sqlglot_postgres_column_list_str                 60967 \n",
       "sqlglot_postgres_schema_list_str                 984   \n",
       "sqlglot_postgres_view_list_str                   1038  \n",
       "sqlglot_postgres_db_list_str                     11188 \n",
       "rustparser_file_path                             256429\n",
       "rustparser_errors_at_read                        256429\n",
       "rustparser_parsed                                256429\n",
       "rustparser_parsed_generic                        256429\n",
       "rustparser_parsed_ansi                           256429\n",
       "rustparser_parsed_postgres                       256429\n",
       "rustparser_parsed_mysql                          256429\n",
       "rustparser_parsed_ms                             256429\n",
       "rustparser_dialect                               83296 \n",
       "rustparser_parse_error                           173133\n",
       "rustparser_num_statements                        256429\n",
       "rustparser_num_distinct_tables                   256429\n",
       "rustparser_table_list                            82410 \n",
       "rustparser_num_distinct_columns                  256429\n",
       "rustparser_column_list                           79523 \n",
       "rustparser_num_distinct_schemas                  256429\n",
       "rustparser_schema_list                           7101  \n",
       "rustparser_num_distinct_dbs                      256429\n",
       "rustparser_db_list                               14072 \n",
       "rustparser_view_list                             2039  \n",
       "rustparser_num_constraints                       256429\n",
       "rustparser_num_ctr_notnull                       256429\n",
       "rustparser_num_ctr_unique                        256429\n",
       "rustparser_num_ctr_primary                       256429\n",
       "rustparser_num_ctr_foreign                       256429\n",
       "rustparser_comment_count                         173133\n",
       "rustparser_num_drop_stmt                         256429\n",
       "rustparser_num_drop_like_stmt                    256429\n",
       "rustparser_num_create_stmt                       256429\n",
       "rustparser_num_create_like_stmt                  256429\n",
       "rustparser_num_insert_stmt                       256429\n",
       "rustparser_num_insert_like_stmt                  256429\n",
       "rustparser_num_alter_stmt                        256429\n",
       "rustparser_num_alter_like_stmt                   256429\n",
       "rustparser_num_select_stmt                       256429\n",
       "rustparser_num_view_stmt                         256429\n",
       "rustparser_num_truncate_stmt                     256429\n",
       "rustparser_num_update_stmt                       256429\n",
       "rustparser_num_comment_stmt                      256429\n",
       "rustparser_num_delete_stmt                       256429\n",
       "rustparser_num_set_like_stmt                     256429\n",
       "rustparser_num_execute_like_stmt                 256429\n",
       "rustparser_num_index_like_stmt                   256429\n",
       "rustparser_num_transaction_like_stmt             256429\n",
       "rustparser_num_command_stmt                      256429\n",
       "rustparser_num_command_alter_stmt                256429\n",
       "rustparser_counter_str                           0     \n",
       "rustparser_postgres_num_statements               256429\n",
       "rustparser_postgres_num_distinct_tables          256429\n",
       "rustparser_postgres_table_list                   59019 \n",
       "rustparser_postgres_num_distinct_columns         256429\n",
       "rustparser_postgres_column_list                  56714 \n",
       "rustparser_postgres_num_distinct_schemas         256429\n",
       "rustparser_postgres_schema_list                  4993  \n",
       "rustparser_postgres_num_distinct_dbs             256429\n",
       "rustparser_postgres_db_list                      7448  \n",
       "rustparser_postgres_view_list                    1830  \n",
       "rustparser_postgres_num_constraints              256429\n",
       "rustparser_postgres_num_ctr_notnull              256429\n",
       "rustparser_postgres_num_ctr_unique               256429\n",
       "rustparser_postgres_num_ctr_primary              256429\n",
       "rustparser_postgres_num_ctr_foreign              256429\n",
       "rustparser_postgres_comment_count                196585\n",
       "rustparser_postgres_num_drop_stmt                256429\n",
       "rustparser_postgres_num_drop_like_stmt           256429\n",
       "rustparser_postgres_num_create_stmt              256429\n",
       "rustparser_postgres_num_create_like_stmt         256429\n",
       "rustparser_postgres_num_insert_stmt              256429\n",
       "rustparser_postgres_num_insert_like_stmt         256429\n",
       "rustparser_postgres_num_alter_stmt               256429\n",
       "rustparser_postgres_num_alter_like_stmt          256429\n",
       "rustparser_postgres_num_select_stmt              256429\n",
       "rustparser_postgres_num_view_stmt                256429\n",
       "rustparser_postgres_num_truncate_stmt            256429\n",
       "rustparser_postgres_num_update_stmt              256429\n",
       "rustparser_postgres_num_comment_stmt             256429\n",
       "rustparser_postgres_num_delete_stmt              256429\n",
       "rustparser_postgres_num_set_like_stmt            256429\n",
       "rustparser_postgres_num_execute_like_stmt        256429\n",
       "rustparser_postgres_num_index_like_stmt          256429\n",
       "rustparser_postgres_num_transaction_like_stmt    256429\n",
       "rustparser_postgres_num_command_stmt             256429\n",
       "rustparser_postgres_num_command_alter_stmt       256429\n",
       "rustparser_postgres_counter_str                  0     \n",
       "rustparser_table_list_str                        82410 \n",
       "rustparser_column_list_str                       79523 \n",
       "rustparser_schema_list_str                       7101  \n",
       "rustparser_view_list_str                         2039  \n",
       "rustparser_db_list_str                           14072 \n",
       "rustparser_postgres_table_list_str               59019 \n",
       "rustparser_postgres_column_list_str              56714 \n",
       "rustparser_postgres_schema_list_str              4993  \n",
       "rustparser_postgres_view_list_str                1830  \n",
       "rustparser_postgres_db_list_str                  7448  \n",
       "tidb_file_path                                   256429\n",
       "tidb_errors_at_read                              256429\n",
       "tidb_num_statements                              256429\n",
       "tidb_parsed_file                                 256429\n",
       "tidb_file_parse_error                            47296 \n",
       "tidb_num_distinct_tables                         256429\n",
       "tidb_table_list                                  208591\n",
       "tidb_num_distinct_columns                        256429\n",
       "tidb_column_list                                 205626\n",
       "tidb_num_distinct_schemas                        256429\n",
       "tidb_schema_list                                 13056 \n",
       "tidb_num_distinct_dbs                            256429\n",
       "tidb_db_list                                     60207 \n",
       "tidb_view_list                                   3570  \n",
       "tidb_num_constraints                             256429\n",
       "tidb_num_ctr_notnull                             256429\n",
       "tidb_num_ctr_unique                              256429\n",
       "tidb_num_ctr_primary                             256429\n",
       "tidb_num_ctr_foreign                             256429\n",
       "tidb_counter_str                                 0     \n",
       "tidb_original                                    0     \n",
       "tidb_original_highlight                          0     \n",
       "tidb_file_comment_count                          0     \n",
       "tidb_num_drop_stmt                               256429\n",
       "tidb_num_drop_like_stmt                          256429\n",
       "tidb_num_create_stmt                             256429\n",
       "tidb_num_create_like_stmt                        256429\n",
       "tidb_num_insert_stmt                             256429\n",
       "tidb_num_insert_like_stmt                        256429\n",
       "tidb_num_alter_stmt                              256429\n",
       "tidb_num_alter_like_stmt                         256429\n",
       "tidb_num_select_stmt                             256429\n",
       "tidb_num_view_stmt                               256429\n",
       "tidb_num_truncate_stmt                           256429\n",
       "tidb_num_update_stmt                             256429\n",
       "tidb_num_comment_stmt                            256429\n",
       "tidb_num_delete_stmt                             256429\n",
       "tidb_num_set_like_stmt                           256429\n",
       "tidb_num_execute_like_stmt                       256429\n",
       "tidb_num_index_like_stmt                         256429\n",
       "tidb_num_transaction_like_stmt                   256429\n",
       "tidb_table_list_str                              208591\n",
       "tidb_column_list_str                             205626\n",
       "tidb_schema_list_str                             13056 \n",
       "tidb_view_list_str                               3570  \n",
       "tidb_db_list_str                                 60207 \n",
       "jsql_file_path                                   256429\n",
       "jsql_errors_at_read                              256429\n",
       "jsql_num_statements                              256429\n",
       "jsql_parsed_file                                 256429\n",
       "jsql_file_parse_error                            156318\n",
       "jsql_file_parse_error_with_brackets              156295\n",
       "jsql_valid_ansi                                  100111\n",
       "jsql_valid_oracle                                100111\n",
       "jsql_valid_mysql                                 100111\n",
       "jsql_valid_postgres                              100111\n",
       "jsql_valid_sqlserver                             100111\n",
       "jsql_num_distinct_tables                         256429\n",
       "jsql_table_list                                  99948 \n",
       "jsql_num_distinct_columns                        256429\n",
       "jsql_column_list                                 97472 \n",
       "jsql_num_distinct_schemas                        256429\n",
       "jsql_schema_list                                 6228  \n",
       "jsql_num_distinct_dbs                            256429\n",
       "jsql_db_list                                     32    \n",
       "jsql_view_list                                   1956  \n",
       "jsql_num_constraints                             256429\n",
       "jsql_num_ctr_notnull                             256429\n",
       "jsql_num_ctr_unique                              256429\n",
       "jsql_num_ctr_primary                             256429\n",
       "jsql_num_ctr_foreign                             256429\n",
       "jsql_counter_str                                 0     \n",
       "jsql_original                                    0     \n",
       "jsql_original_highlight                          0     \n",
       "jsql_file_comment_count                          0     \n",
       "jsql_num_drop_stmt                               256429\n",
       "jsql_num_drop_like_stmt                          256429\n",
       "jsql_num_create_stmt                             256429\n",
       "jsql_num_create_like_stmt                        256429\n",
       "jsql_num_insert_stmt                             256429\n",
       "jsql_num_insert_like_stmt                        256429\n",
       "jsql_num_alter_stmt                              256429\n",
       "jsql_num_alter_like_stmt                         256429\n",
       "jsql_num_select_stmt                             256429\n",
       "jsql_num_view_stmt                               256429\n",
       "jsql_num_truncate_stmt                           256429\n",
       "jsql_num_update_stmt                             256429\n",
       "jsql_num_comment_stmt                            256429\n",
       "jsql_num_delete_stmt                             256429\n",
       "jsql_num_set_like_stmt                           256429\n",
       "jsql_num_execute_like_stmt                       256429\n",
       "jsql_num_index_like_stmt                         256429\n",
       "jsql_num_transaction_like_stmt                   256429\n",
       "jsql_table_list_str                              99948 \n",
       "jsql_column_list_str                             97472 \n",
       "jsql_schema_list_str                             6228  \n",
       "jsql_view_list_str                               1956  \n",
       "jsql_db_list_str                                 32    \n",
       "dtype: int64"
      ]
     },
     "execution_count": 11,
     "metadata": {},
     "output_type": "execute_result"
    }
   ],
   "source": [
    "joined_ddf[(joined_ddf.pglast_parsed_file == 1) | (joined_ddf.tidb_parsed_file == 1)].count().compute()"
   ]
  },
  {
   "attachments": {},
   "cell_type": "markdown",
   "metadata": {
    "pycharm": {
     "name": "#%% md\n"
    }
   },
   "source": [
    "Incl sqlparser"
   ]
  },
  {
   "cell_type": "code",
   "execution_count": 11,
   "metadata": {
    "pycharm": {
     "name": "#%%\n"
    }
   },
   "outputs": [],
   "source": [
    "# excluding SDP\n",
    "stmt_parsed_ddf = stmt_joined_ddf\n",
    "\n",
    "sum_cols = [\"pglast_parsed\", \"sqlglot_parsed\", \"tidb_parsed\", \"rust_parsed\", \"jsql_parsed\"]\n",
    "\n",
    "stmt_parsed_ddf['parsed_by_number'] = stmt_parsed_ddf[sum_cols].sum(axis=1)"
   ]
  },
  {
   "cell_type": "code",
   "execution_count": 12,
   "metadata": {
    "pycharm": {
     "name": "#%%\n"
    }
   },
   "outputs": [],
   "source": [
    "sqlparser_join_schema = stmt_join_schema\n",
    "sqlparser_join_schema = sqlparser_join_schema.append(pa.field(\"parsed_by_number\",pa.int64()))\n",
    "\n",
    "\n",
    "sqlparser_cols = ['file_id','statement_nr','statement_type','has_comments','original','Token.Keyword']\n",
    "sqlparser_details_ddf = dd.read_parquet('../out/sqlparser_details', #columns=SQLParserSchema().statement_list_sch.names,\n",
    "                                         columns = sqlparser_cols,\n",
    "                                         schema=SQLParserSchema().statement_list_sch, split_row_groups=True, calculate_divisions=True,engine='pyarrow')\n",
    "\n",
    "for item in SQLParserSchema().statement_list_sch:\n",
    "    if item.name != 'file_id' and item.name != 'statement_nr' and item.name != 'statement_id' and item.name in sqlparser_details_ddf.columns:\n",
    "        sqlparser_join_schema = sqlparser_join_schema.append(pa.field(\"sqlparser_\" + item.name,item.type))\n",
    "try:\n",
    "    del dict\n",
    "except:\n",
    "    pass\n",
    "sqlparser_details_ddf = sqlparser_details_ddf.rename(columns=dict(zip(sqlparser_details_ddf.columns, [item.replace(\"sqlparser_file_id\",\"file_id\").replace('sqlparser_statement_nr','statement_nr') for item in [\"sqlparser_\" + item for item in sqlparser_details_ddf.columns]])))\n",
    "\n",
    "stmt_parsed_ddf['statement_nr'] = stmt_parsed_ddf['statement_nr'].apply(lambda x: str(x),meta=('statement_nr','string')) \n",
    "sqlparser_details_ddf['statement_nr'] = sqlparser_details_ddf['statement_nr'].apply(lambda x: str(x),meta=('statement_nr','string')) \n",
    "\n",
    "stmt_parsed_ddf_merged_sqlparser = dd.merge(\n",
    "    stmt_parsed_ddf,\n",
    "    sqlparser_details_ddf,\n",
    "    on=['file_id','statement_nr'],\n",
    "    how='inner',indicator=False,suffixes=[None,'_sqlparser'])\n",
    "#stmt_parsed_ddf_merged_sqlparser.to_parquet('../out_new/stmt_join__parsed__all_incl_sqlparser/',schema=sqlparser_join_schema,overwrite=True)"
   ]
  },
  {
   "cell_type": "code",
   "execution_count": 13,
   "metadata": {
    "pycharm": {
     "name": "#%%\n"
    }
   },
   "outputs": [],
   "source": [
    "stmt_level_incl_sqlparser = dd.read_parquet('../out_new/stmt_join__parsed__all_incl_sqlparser/', columns = sqlparser_join_schema.names ,schema=sqlparser_join_schema, split_row_groups=True, calculate_divisions=True,engine='pyarrow')"
   ]
  },
  {
   "attachments": {},
   "cell_type": "markdown",
   "metadata": {
    "pycharm": {
     "name": "#%% md\n"
    }
   },
   "source": [
    "# Errors - file level"
   ]
  },
  {
   "cell_type": "code",
   "execution_count": 14,
   "metadata": {
    "pycharm": {
     "name": "#%%\n"
    }
   },
   "outputs": [
    {
     "name": "stdout",
     "output_type": "stream",
     "text": [
      "[########################################] | 100% Completed | 9.36 ss\n"
     ]
    },
    {
     "data": {
      "text/plain": [
       "24624837"
      ]
     },
     "execution_count": 14,
     "metadata": {},
     "output_type": "execute_result"
    }
   ],
   "source": [
    "stmt_level_incl_sqlparser['file_id'].count().compute()"
   ]
  },
  {
   "attachments": {},
   "cell_type": "markdown",
   "metadata": {
    "pycharm": {
     "name": "#%% md\n"
    }
   },
   "source": [
    "### Reading tidb file-ids left that are difficult to parse"
   ]
  },
  {
   "cell_type": "code",
   "execution_count": 14,
   "metadata": {
    "pycharm": {
     "name": "#%%\n"
    }
   },
   "outputs": [],
   "source": [
    "still_not_parsed_by_tidb = pd.read_csv('tidb_files_left_difficult_to_parse.csv',dtype={'file_id': str})\n"
   ]
  },
  {
   "cell_type": "code",
   "execution_count": 10,
   "metadata": {
    "pycharm": {
     "name": "#%%\n"
    }
   },
   "outputs": [],
   "source": [
    "# excluding SDP\n",
    "cols = [\"file_id\",\n",
    "        \"pglast_parsed_file\", \"pglast_file_parse_error\", \"pglast_errors_at_read\", \"pglast_original\", \"pglast_original_highlight\",\n",
    "        \"sqlglot_parsed\", \"sqlglot_parsed_none\", \"sqlglot_parsed_postgres\", \"sqlglot_parsed_mysql\", \"sqlglot_parsed_tsql\", \"sqlglot_dialect\", \"sqlglot_parse_error\", \"sqlglot_file_parse_error_start_context\", \"sqlglot_file_parse_error_highlight\", \"sqlglot_errors_at_read\",\n",
    "        \"tidb_parsed_file\", \"tidb_file_parse_error\", \"tidb_errors_at_read\",\n",
    "        \"rustparser_parsed\", \"rustparser_parsed_generic\", \"rustparser_parsed_ansi\", \"rustparser_parsed_postgres\", \"rustparser_parsed_mysql\", \"rustparser_parsed_ms\", \"rustparser_dialect\", \"rustparser_parse_error\", \"rustparser_errors_at_read\",\n",
    "        \"jsql_errors_at_read\", \"jsql_parsed_file\", \"jsql_file_parse_error\", \"jsql_file_parse_error_with_brackets\"\n",
    "]\n",
    "\n",
    "sum_cols = [\"pglast_parsed_file\", \"sqlglot_parsed\", \"tidb_parsed_file\", \"rustparser_parsed\", \"jsql_parsed_file\"]\n",
    "\n",
    "parsed_ddf = joined_ddf[cols]\n",
    "\n",
    "parsed_ddf['parsed_by_number'] = parsed_ddf[sum_cols].sum(axis=1)"
   ]
  },
  {
   "cell_type": "code",
   "execution_count": 11,
   "metadata": {
    "pycharm": {
     "name": "#%%\n"
    }
   },
   "outputs": [
    {
     "name": "stdout",
     "output_type": "stream",
     "text": [
      "[########################################] | 100% Completed | 6.51 ss\n"
     ]
    },
    {
     "data": {
      "text/plain": [
       "89693"
      ]
     },
     "execution_count": 11,
     "metadata": {},
     "output_type": "execute_result"
    }
   ],
   "source": [
    "not_parsable = parsed_ddf[parsed_ddf.parsed_by_number == 0].compute(scheduler='processes')\n",
    "not_parsable['file_id'].count()"
   ]
  },
  {
   "cell_type": "code",
   "execution_count": 17,
   "metadata": {
    "pycharm": {
     "name": "#%%\n"
    }
   },
   "outputs": [
    {
     "data": {
      "text/plain": [
       "50419"
      ]
     },
     "execution_count": 17,
     "metadata": {},
     "output_type": "execute_result"
    }
   ],
   "source": [
    "not_parsable_tidb_hard = not_parsable.merge(still_not_parsed_by_tidb, left_on='file_id', right_on='file_id',\n",
    "          suffixes=('_left', '_right'),how='inner')\n",
    "not_parsable_tidb_hard['file_id'].count()"
   ]
  },
  {
   "attachments": {},
   "cell_type": "markdown",
   "metadata": {
    "pycharm": {
     "name": "#%% md\n"
    }
   },
   "source": [
    "### adding difficult jsql files"
   ]
  },
  {
   "cell_type": "code",
   "execution_count": 18,
   "metadata": {
    "pycharm": {
     "name": "#%%\n"
    }
   },
   "outputs": [],
   "source": [
    "still_not_parsed_by_jsql = pd.read_csv('jsqlparser_files_left_difficult_to_parse.csv',dtype={'file_id': str})"
   ]
  },
  {
   "cell_type": "code",
   "execution_count": 19,
   "metadata": {
    "pycharm": {
     "name": "#%%\n"
    }
   },
   "outputs": [
    {
     "data": {
      "text/plain": [
       "35634"
      ]
     },
     "execution_count": 19,
     "metadata": {},
     "output_type": "execute_result"
    }
   ],
   "source": [
    "not_parsable_tidb_and_jsql_hard = not_parsable_tidb_hard.merge(still_not_parsed_by_jsql, left_on='file_id', right_on='file_id',\n",
    "          suffixes=('_left', '_right'),how='inner')\n",
    "not_parsable_tidb_and_jsql_hard['file_id'].count()"
   ]
  },
  {
   "attachments": {},
   "cell_type": "markdown",
   "metadata": {
    "pycharm": {
     "name": "#%% md\n"
    }
   },
   "source": [
    "# Seeing if correlation btwn file details and parsability"
   ]
  },
  {
   "cell_type": "code",
   "execution_count": 13,
   "metadata": {
    "pycharm": {
     "name": "#%%\n"
    }
   },
   "outputs": [
    {
     "name": "stdout",
     "output_type": "stream",
     "text": [
      "[                                        ] | 0% Completed | 1.09 ms"
     ]
    },
    {
     "name": "stdout",
     "output_type": "stream",
     "text": [
      "[########################################] | 100% Completed | 3.93 sms\n"
     ]
    }
   ],
   "source": [
    "parsed_subset_file_corr = parsed_ddf[['file_id','parsed_by_number', 'pglast_errors_at_read']].compute()"
   ]
  },
  {
   "attachments": {},
   "cell_type": "markdown",
   "metadata": {
    "pycharm": {
     "name": "#%% md\n"
    }
   },
   "source": [
    "Char counts/line counts (aka file size)"
   ]
  },
  {
   "cell_type": "code",
   "execution_count": 14,
   "metadata": {
    "pycharm": {
     "name": "#%%\n"
    }
   },
   "outputs": [],
   "source": [
    "import warnings\n",
    "warnings.filterwarnings(\"ignore\", 'Boolean inputs to the `inclusive` argument are deprecated in favour of `both` or `neither`.')\n",
    "\n",
    "filedetails_df['char_count_bucket'] = np.select(\n",
    "    [\n",
    "        filedetails_df['char_nr'].between(0, 1000, inclusive=True),\n",
    "        filedetails_df['char_nr'].between(1001, 5000, inclusive=True),\n",
    "        filedetails_df['char_nr'].between(5001, 25000, inclusive=True),\n",
    "        filedetails_df['char_nr'].between(25001, 100000, inclusive=True),\n",
    "        filedetails_df['char_nr'].between(100001, 200000, inclusive=True),\n",
    "        filedetails_df['char_nr'].between(200001, 300000, inclusive=True),\n",
    "        filedetails_df['char_nr'].between(300001, 500000, inclusive=True)\n",
    "    ], \n",
    "    [\n",
    "        1,2,3,4,5,6,7\n",
    "    ], \n",
    "    default=8\n",
    ")\n",
    "\n",
    "filedetails_df['line_count_bucket'] = np.select(\n",
    "    [\n",
    "        filedetails_df['line_nr'].between(0, 50, inclusive=True),\n",
    "        filedetails_df['line_nr'].between(51, 150, inclusive=True),\n",
    "        filedetails_df['line_nr'].between(151, 500, inclusive=True),\n",
    "        filedetails_df['line_nr'].between(501, 1000, inclusive=True),\n",
    "        filedetails_df['line_nr'].between(1001, 10000, inclusive=True),\n",
    "        filedetails_df['line_nr'].between(10001, 50000, inclusive=True)\n",
    "    ], \n",
    "    [\n",
    "        1,2,3,4,5,6\n",
    "    ], \n",
    "    default=7\n",
    ")"
   ]
  },
  {
   "cell_type": "code",
   "execution_count": 15,
   "metadata": {
    "pycharm": {
     "name": "#%%\n"
    }
   },
   "outputs": [],
   "source": [
    "file_correlation = parsed_subset_file_corr.merge(filedetails_df,on=['file_id'])"
   ]
  },
  {
   "cell_type": "code",
   "execution_count": 17,
   "metadata": {
    "pycharm": {
     "name": "#%%\n"
    }
   },
   "outputs": [
    {
     "data": {
      "text/html": [
       "<div>\n",
       "<style scoped>\n",
       "    .dataframe tbody tr th:only-of-type {\n",
       "        vertical-align: middle;\n",
       "    }\n",
       "\n",
       "    .dataframe tbody tr th {\n",
       "        vertical-align: top;\n",
       "    }\n",
       "\n",
       "    .dataframe thead th {\n",
       "        text-align: right;\n",
       "    }\n",
       "</style>\n",
       "<table border=\"1\" class=\"dataframe\">\n",
       "  <thead>\n",
       "    <tr style=\"text-align: right;\">\n",
       "      <th></th>\n",
       "      <th>file_id</th>\n",
       "      <th>parsed_by_number</th>\n",
       "      <th>pglast_errors_at_read</th>\n",
       "      <th>file_path</th>\n",
       "      <th>file_size</th>\n",
       "      <th>line_nr</th>\n",
       "      <th>char_nr</th>\n",
       "      <th>encoding</th>\n",
       "      <th>encoding_confidence</th>\n",
       "      <th>char_count_bucket</th>\n",
       "      <th>line_count_bucket</th>\n",
       "    </tr>\n",
       "  </thead>\n",
       "  <tbody>\n",
       "    <tr>\n",
       "      <th>0</th>\n",
       "      <td>502790</td>\n",
       "      <td>0</td>\n",
       "      <td>0</td>\n",
       "      <td>../sqlfiles/502790_qsystem_H2.sql</td>\n",
       "      <td>50684</td>\n",
       "      <td>863</td>\n",
       "      <td>50684</td>\n",
       "      <td>utf-8</td>\n",
       "      <td>0.99</td>\n",
       "      <td>4</td>\n",
       "      <td>4</td>\n",
       "    </tr>\n",
       "    <tr>\n",
       "      <th>1</th>\n",
       "      <td>494894</td>\n",
       "      <td>1</td>\n",
       "      <td>0</td>\n",
       "      <td>../sqlfiles/494894_init.sql</td>\n",
       "      <td>709</td>\n",
       "      <td>22</td>\n",
       "      <td>709</td>\n",
       "      <td>ascii</td>\n",
       "      <td>1.00</td>\n",
       "      <td>1</td>\n",
       "      <td>1</td>\n",
       "    </tr>\n",
       "    <tr>\n",
       "      <th>2</th>\n",
       "      <td>286801</td>\n",
       "      <td>1</td>\n",
       "      <td>0</td>\n",
       "      <td>../sqlfiles/286801_basededatos.sql</td>\n",
       "      <td>15004</td>\n",
       "      <td>258</td>\n",
       "      <td>15004</td>\n",
       "      <td>utf-8</td>\n",
       "      <td>0.99</td>\n",
       "      <td>3</td>\n",
       "      <td>3</td>\n",
       "    </tr>\n",
       "    <tr>\n",
       "      <th>3</th>\n",
       "      <td>202803</td>\n",
       "      <td>4</td>\n",
       "      <td>0</td>\n",
       "      <td>../sqlfiles/202803_integrityDBCreation.sql</td>\n",
       "      <td>9458</td>\n",
       "      <td>173</td>\n",
       "      <td>9458</td>\n",
       "      <td>ascii</td>\n",
       "      <td>1.00</td>\n",
       "      <td>3</td>\n",
       "      <td>3</td>\n",
       "    </tr>\n",
       "    <tr>\n",
       "      <th>4</th>\n",
       "      <td>435266</td>\n",
       "      <td>1</td>\n",
       "      <td>0</td>\n",
       "      <td>../sqlfiles/435266_openmrs_warehouse_mw_epilepsy_initial.sql</td>\n",
       "      <td>5457</td>\n",
       "      <td>117</td>\n",
       "      <td>5457</td>\n",
       "      <td>ascii</td>\n",
       "      <td>1.00</td>\n",
       "      <td>3</td>\n",
       "      <td>2</td>\n",
       "    </tr>\n",
       "  </tbody>\n",
       "</table>\n",
       "</div>"
      ],
      "text/plain": [
       "  file_id  parsed_by_number  pglast_errors_at_read                                                     file_path  file_size  line_nr  char_nr encoding  encoding_confidence  char_count_bucket  line_count_bucket\n",
       "0  502790  0                 0                      ../sqlfiles/502790_qsystem_H2.sql                             50684      863      50684    utf-8    0.99                 4                  4                \n",
       "1  494894  1                 0                      ../sqlfiles/494894_init.sql                                   709        22       709      ascii    1.00                 1                  1                \n",
       "2  286801  1                 0                      ../sqlfiles/286801_basededatos.sql                            15004      258      15004    utf-8    0.99                 3                  3                \n",
       "3  202803  4                 0                      ../sqlfiles/202803_integrityDBCreation.sql                    9458       173      9458     ascii    1.00                 3                  3                \n",
       "4  435266  1                 0                      ../sqlfiles/435266_openmrs_warehouse_mw_epilepsy_initial.sql  5457       117      5457     ascii    1.00                 3                  2                "
      ]
     },
     "execution_count": 17,
     "metadata": {},
     "output_type": "execute_result"
    }
   ],
   "source": [
    "file_correlation.head()"
   ]
  },
  {
   "cell_type": "code",
   "execution_count": 16,
   "metadata": {
    "pycharm": {
     "name": "#%%\n"
    }
   },
   "outputs": [],
   "source": [
    "line_counts = file_correlation.groupby(['line_count_bucket'],as_index=False)['file_id'].count().rename(columns= {'file_id':'line_count_total_per_bucket'})\n",
    "line_count_corr = file_correlation.groupby(['line_count_bucket','parsed_by_number'],as_index=False)['file_id'].count().rename(columns={'file_id': 'parsed_count_per_bucket'})\n",
    "line_count_corr = line_count_corr.merge(line_counts,on=['line_count_bucket'])\n",
    "line_count_corr['parsed_count_per_bucket_perc'] = line_count_corr['parsed_count_per_bucket']*100/line_count_corr['line_count_total_per_bucket']\n",
    "line_count_corr = line_count_corr.drop(columns=['line_count_total_per_bucket'])\n",
    "\n",
    "char_counts = file_correlation.groupby(['char_count_bucket'],as_index=False)['file_id'].count().rename(columns={'file_id': 'char_count_total_per_bucket'})\n",
    "char_count_corr = file_correlation.groupby(['char_count_bucket','parsed_by_number'],as_index=False)['file_id'].count().rename(columns={'file_id': 'parsed_count_per_bucket'})\n",
    "char_count_corr = char_count_corr.merge(char_counts,on=['char_count_bucket'])\n",
    "char_count_corr['parsed_count_per_bucket_perc'] = char_count_corr['parsed_count_per_bucket']*100/char_count_corr['char_count_total_per_bucket']\n",
    "char_count_corr = char_count_corr.drop(columns=['char_count_total_per_bucket'])"
   ]
  },
  {
   "cell_type": "code",
   "execution_count": 83,
   "metadata": {
    "pycharm": {
     "name": "#%%\n"
    }
   },
   "outputs": [],
   "source": [
    "#display(line_count_corr)\n",
    "# for bucket 6 -> 94 files (46% of bucket) isn't parsable by any compared to roughly 25% for others\n",
    "\n",
    "#display(char_count_corr)\n",
    "# no info from this#"
   ]
  },
  {
   "attachments": {},
   "cell_type": "markdown",
   "metadata": {
    "pycharm": {
     "name": "#%% md\n"
    }
   },
   "source": [
    "Difficulty at read"
   ]
  },
  {
   "cell_type": "code",
   "execution_count": 88,
   "metadata": {
    "pycharm": {
     "name": "#%%\n"
    }
   },
   "outputs": [
    {
     "data": {
      "text/html": [
       "<div>\n",
       "<style scoped>\n",
       "    .dataframe tbody tr th:only-of-type {\n",
       "        vertical-align: middle;\n",
       "    }\n",
       "\n",
       "    .dataframe tbody tr th {\n",
       "        vertical-align: top;\n",
       "    }\n",
       "\n",
       "    .dataframe thead th {\n",
       "        text-align: right;\n",
       "    }\n",
       "</style>\n",
       "<table border=\"1\" class=\"dataframe\">\n",
       "  <thead>\n",
       "    <tr style=\"text-align: right;\">\n",
       "      <th></th>\n",
       "      <th>parsed_by_number</th>\n",
       "      <th>pglast_errors_at_read</th>\n",
       "      <th>parsed_count_per_errors</th>\n",
       "      <th>parsed_count_perc</th>\n",
       "    </tr>\n",
       "  </thead>\n",
       "  <tbody>\n",
       "    <tr>\n",
       "      <th>0</th>\n",
       "      <td>0</td>\n",
       "      <td>0</td>\n",
       "      <td>89542</td>\n",
       "      <td>99.831648</td>\n",
       "    </tr>\n",
       "    <tr>\n",
       "      <th>1</th>\n",
       "      <td>0</td>\n",
       "      <td>1</td>\n",
       "      <td>151</td>\n",
       "      <td>0.168352</td>\n",
       "    </tr>\n",
       "    <tr>\n",
       "      <th>2</th>\n",
       "      <td>1</td>\n",
       "      <td>0</td>\n",
       "      <td>134890</td>\n",
       "      <td>99.704339</td>\n",
       "    </tr>\n",
       "    <tr>\n",
       "      <th>3</th>\n",
       "      <td>1</td>\n",
       "      <td>1</td>\n",
       "      <td>400</td>\n",
       "      <td>0.295661</td>\n",
       "    </tr>\n",
       "    <tr>\n",
       "      <th>4</th>\n",
       "      <td>2</td>\n",
       "      <td>0</td>\n",
       "      <td>62819</td>\n",
       "      <td>99.907756</td>\n",
       "    </tr>\n",
       "    <tr>\n",
       "      <th>5</th>\n",
       "      <td>2</td>\n",
       "      <td>1</td>\n",
       "      <td>58</td>\n",
       "      <td>0.092244</td>\n",
       "    </tr>\n",
       "    <tr>\n",
       "      <th>6</th>\n",
       "      <td>3</td>\n",
       "      <td>0</td>\n",
       "      <td>38780</td>\n",
       "      <td>99.961335</td>\n",
       "    </tr>\n",
       "    <tr>\n",
       "      <th>7</th>\n",
       "      <td>3</td>\n",
       "      <td>1</td>\n",
       "      <td>15</td>\n",
       "      <td>0.038665</td>\n",
       "    </tr>\n",
       "    <tr>\n",
       "      <th>8</th>\n",
       "      <td>4</td>\n",
       "      <td>0</td>\n",
       "      <td>34507</td>\n",
       "      <td>99.976822</td>\n",
       "    </tr>\n",
       "    <tr>\n",
       "      <th>9</th>\n",
       "      <td>4</td>\n",
       "      <td>1</td>\n",
       "      <td>8</td>\n",
       "      <td>0.023178</td>\n",
       "    </tr>\n",
       "    <tr>\n",
       "      <th>10</th>\n",
       "      <td>5</td>\n",
       "      <td>0</td>\n",
       "      <td>11981</td>\n",
       "      <td>99.958285</td>\n",
       "    </tr>\n",
       "    <tr>\n",
       "      <th>11</th>\n",
       "      <td>5</td>\n",
       "      <td>1</td>\n",
       "      <td>5</td>\n",
       "      <td>0.041715</td>\n",
       "    </tr>\n",
       "  </tbody>\n",
       "</table>\n",
       "</div>"
      ],
      "text/plain": [
       "    parsed_by_number  pglast_errors_at_read  parsed_count_per_errors  parsed_count_perc\n",
       "0   0                 0                      89542                    99.831648        \n",
       "1   0                 1                      151                      0.168352         \n",
       "2   1                 0                      134890                   99.704339        \n",
       "3   1                 1                      400                      0.295661         \n",
       "4   2                 0                      62819                    99.907756        \n",
       "5   2                 1                      58                       0.092244         \n",
       "6   3                 0                      38780                    99.961335        \n",
       "7   3                 1                      15                       0.038665         \n",
       "8   4                 0                      34507                    99.976822        \n",
       "9   4                 1                      8                        0.023178         \n",
       "10  5                 0                      11981                    99.958285        \n",
       "11  5                 1                      5                        0.041715         "
      ]
     },
     "metadata": {},
     "output_type": "display_data"
    }
   ],
   "source": [
    "parsed_subset_file_corr.groupby(['parsed_by_number','pglast_errors_at_read'])['file_id'].count()\n",
    "\n",
    "parsed_counts = parsed_subset_file_corr.groupby(['parsed_by_number'],as_index=False)['file_id'].count().rename(columns= {'file_id':'parsed_by_number_total'})\n",
    "errors_at_read_corr = parsed_subset_file_corr.groupby(['parsed_by_number','pglast_errors_at_read'],as_index=False)['file_id'].count().rename(columns={'file_id': 'parsed_count_per_errors'})\n",
    "\n",
    "errors_at_read_corr = errors_at_read_corr.merge(parsed_counts,on=['parsed_by_number'])\n",
    "\n",
    "errors_at_read_corr['parsed_count_perc'] = errors_at_read_corr['parsed_count_per_errors']*100/errors_at_read_corr['parsed_by_number_total']\n",
    "errors_at_read_corr = errors_at_read_corr.drop(columns=['parsed_by_number_total'])\n",
    "display(errors_at_read_corr)"
   ]
  },
  {
   "attachments": {},
   "cell_type": "markdown",
   "metadata": {
    "pycharm": {
     "name": "#%% md\n"
    }
   },
   "source": [
    "Encoding"
   ]
  },
  {
   "cell_type": "code",
   "execution_count": 92,
   "metadata": {
    "pycharm": {
     "name": "#%%\n"
    }
   },
   "outputs": [
    {
     "data": {
      "text/html": [
       "<div>\n",
       "<style scoped>\n",
       "    .dataframe tbody tr th:only-of-type {\n",
       "        vertical-align: middle;\n",
       "    }\n",
       "\n",
       "    .dataframe tbody tr th {\n",
       "        vertical-align: top;\n",
       "    }\n",
       "\n",
       "    .dataframe thead th {\n",
       "        text-align: right;\n",
       "    }\n",
       "</style>\n",
       "<table border=\"1\" class=\"dataframe\">\n",
       "  <thead>\n",
       "    <tr style=\"text-align: right;\">\n",
       "      <th></th>\n",
       "      <th>encoding</th>\n",
       "      <th>parsed_by_number</th>\n",
       "      <th>parsed_count_per_encoding</th>\n",
       "      <th>encoding_total_per_parsed_by_number</th>\n",
       "      <th>parsed_count_perc</th>\n",
       "    </tr>\n",
       "  </thead>\n",
       "  <tbody>\n",
       "    <tr>\n",
       "      <th>0</th>\n",
       "      <td>Big5</td>\n",
       "      <td>0</td>\n",
       "      <td>18</td>\n",
       "      <td>41</td>\n",
       "      <td>43.902439</td>\n",
       "    </tr>\n",
       "    <tr>\n",
       "      <th>6</th>\n",
       "      <td>CP932</td>\n",
       "      <td>0</td>\n",
       "      <td>1</td>\n",
       "      <td>2</td>\n",
       "      <td>50.000000</td>\n",
       "    </tr>\n",
       "    <tr>\n",
       "      <th>8</th>\n",
       "      <td>CP949</td>\n",
       "      <td>0</td>\n",
       "      <td>16</td>\n",
       "      <td>30</td>\n",
       "      <td>53.333333</td>\n",
       "    </tr>\n",
       "    <tr>\n",
       "      <th>13</th>\n",
       "      <td>EUC-JP</td>\n",
       "      <td>0</td>\n",
       "      <td>17</td>\n",
       "      <td>73</td>\n",
       "      <td>23.287671</td>\n",
       "    </tr>\n",
       "    <tr>\n",
       "      <th>19</th>\n",
       "      <td>EUC-KR</td>\n",
       "      <td>0</td>\n",
       "      <td>578</td>\n",
       "      <td>1151</td>\n",
       "      <td>50.217202</td>\n",
       "    </tr>\n",
       "    <tr>\n",
       "      <th>25</th>\n",
       "      <td>GB2312</td>\n",
       "      <td>0</td>\n",
       "      <td>714</td>\n",
       "      <td>1230</td>\n",
       "      <td>58.048780</td>\n",
       "    </tr>\n",
       "    <tr>\n",
       "      <th>31</th>\n",
       "      <td>IBM866</td>\n",
       "      <td>0</td>\n",
       "      <td>7</td>\n",
       "      <td>13</td>\n",
       "      <td>53.846154</td>\n",
       "    </tr>\n",
       "    <tr>\n",
       "      <th>34</th>\n",
       "      <td>ISO-8859-1</td>\n",
       "      <td>0</td>\n",
       "      <td>2158</td>\n",
       "      <td>4192</td>\n",
       "      <td>51.479008</td>\n",
       "    </tr>\n",
       "    <tr>\n",
       "      <th>40</th>\n",
       "      <td>ISO-8859-5</td>\n",
       "      <td>0</td>\n",
       "      <td>1</td>\n",
       "      <td>4</td>\n",
       "      <td>25.000000</td>\n",
       "    </tr>\n",
       "    <tr>\n",
       "      <th>44</th>\n",
       "      <td>ISO-8859-7</td>\n",
       "      <td>0</td>\n",
       "      <td>5</td>\n",
       "      <td>6</td>\n",
       "      <td>83.333333</td>\n",
       "    </tr>\n",
       "    <tr>\n",
       "      <th>46</th>\n",
       "      <td>ISO-8859-8</td>\n",
       "      <td>0</td>\n",
       "      <td>3</td>\n",
       "      <td>3</td>\n",
       "      <td>100.000000</td>\n",
       "    </tr>\n",
       "    <tr>\n",
       "      <th>47</th>\n",
       "      <td>ISO-8859-9</td>\n",
       "      <td>0</td>\n",
       "      <td>23</td>\n",
       "      <td>69</td>\n",
       "      <td>33.333333</td>\n",
       "    </tr>\n",
       "    <tr>\n",
       "      <th>52</th>\n",
       "      <td>Johab</td>\n",
       "      <td>0</td>\n",
       "      <td>33</td>\n",
       "      <td>103</td>\n",
       "      <td>32.038835</td>\n",
       "    </tr>\n",
       "    <tr>\n",
       "      <th>58</th>\n",
       "      <td>KOI8-R</td>\n",
       "      <td>0</td>\n",
       "      <td>12</td>\n",
       "      <td>73</td>\n",
       "      <td>16.438356</td>\n",
       "    </tr>\n",
       "    <tr>\n",
       "      <th>62</th>\n",
       "      <td>MacCyrillic</td>\n",
       "      <td>0</td>\n",
       "      <td>31</td>\n",
       "      <td>38</td>\n",
       "      <td>81.578947</td>\n",
       "    </tr>\n",
       "    <tr>\n",
       "      <th>67</th>\n",
       "      <td>MacRoman</td>\n",
       "      <td>0</td>\n",
       "      <td>739</td>\n",
       "      <td>3376</td>\n",
       "      <td>21.889810</td>\n",
       "    </tr>\n",
       "    <tr>\n",
       "      <th>73</th>\n",
       "      <td>SHIFT_JIS</td>\n",
       "      <td>0</td>\n",
       "      <td>23</td>\n",
       "      <td>62</td>\n",
       "      <td>37.096774</td>\n",
       "    </tr>\n",
       "    <tr>\n",
       "      <th>79</th>\n",
       "      <td>TIS-620</td>\n",
       "      <td>0</td>\n",
       "      <td>11</td>\n",
       "      <td>57</td>\n",
       "      <td>19.298246</td>\n",
       "    </tr>\n",
       "    <tr>\n",
       "      <th>85</th>\n",
       "      <td>UTF-8-SIG</td>\n",
       "      <td>0</td>\n",
       "      <td>15425</td>\n",
       "      <td>22898</td>\n",
       "      <td>67.363962</td>\n",
       "    </tr>\n",
       "    <tr>\n",
       "      <th>91</th>\n",
       "      <td>Windows-1252</td>\n",
       "      <td>0</td>\n",
       "      <td>855</td>\n",
       "      <td>2214</td>\n",
       "      <td>38.617886</td>\n",
       "    </tr>\n",
       "    <tr>\n",
       "      <th>98</th>\n",
       "      <td>Windows-1254</td>\n",
       "      <td>0</td>\n",
       "      <td>42</td>\n",
       "      <td>199</td>\n",
       "      <td>21.105528</td>\n",
       "    </tr>\n",
       "    <tr>\n",
       "      <th>104</th>\n",
       "      <td>ascii</td>\n",
       "      <td>0</td>\n",
       "      <td>54454</td>\n",
       "      <td>249076</td>\n",
       "      <td>21.862403</td>\n",
       "    </tr>\n",
       "    <tr>\n",
       "      <th>110</th>\n",
       "      <td>utf-8</td>\n",
       "      <td>0</td>\n",
       "      <td>13880</td>\n",
       "      <td>87128</td>\n",
       "      <td>15.930585</td>\n",
       "    </tr>\n",
       "    <tr>\n",
       "      <th>116</th>\n",
       "      <td>windows-1251</td>\n",
       "      <td>0</td>\n",
       "      <td>600</td>\n",
       "      <td>939</td>\n",
       "      <td>63.897764</td>\n",
       "    </tr>\n",
       "    <tr>\n",
       "      <th>122</th>\n",
       "      <td>windows-1255</td>\n",
       "      <td>0</td>\n",
       "      <td>12</td>\n",
       "      <td>12</td>\n",
       "      <td>100.000000</td>\n",
       "    </tr>\n",
       "  </tbody>\n",
       "</table>\n",
       "</div>"
      ],
      "text/plain": [
       "         encoding  parsed_by_number  parsed_count_per_encoding  encoding_total_per_parsed_by_number  parsed_count_perc\n",
       "0    Big5          0                 18                         41                                   43.902439        \n",
       "6    CP932         0                 1                          2                                    50.000000        \n",
       "8    CP949         0                 16                         30                                   53.333333        \n",
       "13   EUC-JP        0                 17                         73                                   23.287671        \n",
       "19   EUC-KR        0                 578                        1151                                 50.217202        \n",
       "25   GB2312        0                 714                        1230                                 58.048780        \n",
       "31   IBM866        0                 7                          13                                   53.846154        \n",
       "34   ISO-8859-1    0                 2158                       4192                                 51.479008        \n",
       "40   ISO-8859-5    0                 1                          4                                    25.000000        \n",
       "44   ISO-8859-7    0                 5                          6                                    83.333333        \n",
       "46   ISO-8859-8    0                 3                          3                                    100.000000       \n",
       "47   ISO-8859-9    0                 23                         69                                   33.333333        \n",
       "52   Johab         0                 33                         103                                  32.038835        \n",
       "58   KOI8-R        0                 12                         73                                   16.438356        \n",
       "62   MacCyrillic   0                 31                         38                                   81.578947        \n",
       "67   MacRoman      0                 739                        3376                                 21.889810        \n",
       "73   SHIFT_JIS     0                 23                         62                                   37.096774        \n",
       "79   TIS-620       0                 11                         57                                   19.298246        \n",
       "85   UTF-8-SIG     0                 15425                      22898                                67.363962        \n",
       "91   Windows-1252  0                 855                        2214                                 38.617886        \n",
       "98   Windows-1254  0                 42                         199                                  21.105528        \n",
       "104  ascii         0                 54454                      249076                               21.862403        \n",
       "110  utf-8         0                 13880                      87128                                15.930585        \n",
       "116  windows-1251  0                 600                        939                                  63.897764        \n",
       "122  windows-1255  0                 12                         12                                   100.000000       "
      ]
     },
     "metadata": {},
     "output_type": "display_data"
    }
   ],
   "source": [
    "encodings = file_correlation.groupby(['encoding'],as_index=False)['file_id'].count().rename(columns= {'file_id':'encoding_total_per_parsed_by_number'})\n",
    "encoding_corr = file_correlation.groupby(['encoding','parsed_by_number'],as_index=False)['file_id'].count().rename(columns={'file_id': 'parsed_count_per_encoding'})\n",
    "encoding_corr = encoding_corr.merge(encodings,on=['encoding'])\n",
    "encoding_corr['parsed_count_perc'] = encoding_corr['parsed_count_per_encoding']*100/encoding_corr['encoding_total_per_parsed_by_number']\n",
    "\n",
    "#encoding_corr = encoding_corr.drop(columns=['encoding_total_per_parsed_by_number'])\n",
    "\n",
    "display(encoding_corr[encoding_corr.parsed_by_number == 0])"
   ]
  },
  {
   "attachments": {},
   "cell_type": "markdown",
   "metadata": {
    "pycharm": {
     "name": "#%% md\n"
    }
   },
   "source": [
    "# TODO - see if correlation btwn number of statements in file and parse counts"
   ]
  },
  {
   "attachments": {},
   "cell_type": "markdown",
   "metadata": {
    "pycharm": {
     "name": "#%% md\n"
    }
   },
   "source": [
    "# Errors - stmt level"
   ]
  },
  {
   "cell_type": "code",
   "execution_count": 14,
   "metadata": {
    "pycharm": {
     "name": "#%%\n"
    }
   },
   "outputs": [],
   "source": [
    "# excluding SDP\n",
    "stmt_parsed_ddf = stmt_joined_ddf\n",
    "\n",
    "sum_cols = [\"pglast_parsed\", \"sqlglot_parsed\", \"tidb_parsed\", \"rust_parsed\", \"jsql_parsed\"]\n",
    "\n",
    "stmt_parsed_ddf['parsed_by_number'] = stmt_parsed_ddf[sum_cols].sum(axis=1)"
   ]
  },
  {
   "cell_type": "code",
   "execution_count": 15,
   "metadata": {
    "pycharm": {
     "name": "#%%\n"
    }
   },
   "outputs": [
    {
     "name": "stdout",
     "output_type": "stream",
     "text": [
      "[########################################] | 100% Completed | 43.74 s\n"
     ]
    },
    {
     "data": {
      "text/plain": [
       "23609965"
      ]
     },
     "execution_count": 15,
     "metadata": {},
     "output_type": "execute_result"
    }
   ],
   "source": [
    "stmt_parsed_ddf[(stmt_parsed_ddf.pglast_parsed == 1) | (stmt_parsed_ddf.tidb_parsed == 1)]['file_id'].count().compute()"
   ]
  },
  {
   "cell_type": "code",
   "execution_count": 19,
   "metadata": {
    "pycharm": {
     "name": "#%%\n"
    }
   },
   "outputs": [
    {
     "name": "stdout",
     "output_type": "stream",
     "text": [
      "[########################################] | 100% Completed | 23.66 s\n"
     ]
    },
    {
     "data": {
      "text/plain": [
       "114167"
      ]
     },
     "execution_count": 19,
     "metadata": {},
     "output_type": "execute_result"
    }
   ],
   "source": [
    "stmt_parsed_ddf[(stmt_parsed_ddf.pglast_parsed == 0) & (stmt_parsed_ddf.tidb_parsed == 0)]['file_id'].nunique().compute(scheduler='processes')"
   ]
  },
  {
   "cell_type": "code",
   "execution_count": 18,
   "metadata": {
    "pycharm": {
     "name": "#%%\n"
    }
   },
   "outputs": [
    {
     "name": "stdout",
     "output_type": "stream",
     "text": [
      "[########################################] | 100% Completed | 31.62 s\n"
     ]
    },
    {
     "data": {
      "text/plain": [
       "parsed_by_number\n",
       "0.0    454392  \n",
       "1.0    1109560 \n",
       "2.0    1890663 \n",
       "3.0    2318162 \n",
       "4.0    14289614\n",
       "5.0    4565115 \n",
       "Name: parsed_by_number, dtype: int64"
      ]
     },
     "execution_count": 18,
     "metadata": {},
     "output_type": "execute_result"
    }
   ],
   "source": [
    "stmt_parsed_ddf.groupby('parsed_by_number')['parsed_by_number'].count().compute(scheduler='processes')"
   ]
  },
  {
   "cell_type": "code",
   "execution_count": 19,
   "metadata": {
    "pycharm": {
     "name": "#%%\n"
    }
   },
   "outputs": [
    {
     "name": "stdout",
     "output_type": "stream",
     "text": [
      "[########################################] | 100% Completed | 30.15 s\n"
     ]
    },
    {
     "data": {
      "text/plain": [
       "76713"
      ]
     },
     "execution_count": 19,
     "metadata": {},
     "output_type": "execute_result"
    }
   ],
   "source": [
    "stmt_not_parsable_by_any = stmt_parsed_ddf[stmt_parsed_ddf.parsed_by_number == 0]\n",
    "stmt_not_parsable_by_any['file_id'].nunique().compute(scheduler='processes')\n",
    "\n",
    "# 76 713"
   ]
  },
  {
   "attachments": {},
   "cell_type": "markdown",
   "metadata": {
    "pycharm": {
     "name": "#%% md\n"
    }
   },
   "source": [
    "Joining with sqlparser info"
   ]
  },
  {
   "cell_type": "code",
   "execution_count": 20,
   "metadata": {
    "pycharm": {
     "name": "#%%\n"
    }
   },
   "outputs": [
    {
     "name": "stdout",
     "output_type": "stream",
     "text": [
      "[########################################] | 100% Completed | 3.35 ss\n"
     ]
    },
    {
     "data": {
      "text/plain": [
       "parsed_by_number\n",
       "0    454389  \n",
       "1    1109370 \n",
       "2    1890300 \n",
       "3    2318040 \n",
       "4    14287811\n",
       "5    4564927 \n",
       "Name: parsed_by_number, dtype: int64"
      ]
     },
     "execution_count": 20,
     "metadata": {},
     "output_type": "execute_result"
    }
   ],
   "source": [
    "stmt_level_incl_sqlparser.groupby('parsed_by_number')['parsed_by_number'].count().compute(scheduler='processes')"
   ]
  },
  {
   "cell_type": "code",
   "execution_count": 21,
   "metadata": {
    "pycharm": {
     "name": "#%%\n"
    }
   },
   "outputs": [],
   "source": [
    "not_parsable_incl_jsqlparser = stmt_level_incl_sqlparser[stmt_level_incl_sqlparser.parsed_by_number == 0]"
   ]
  },
  {
   "cell_type": "code",
   "execution_count": 76,
   "metadata": {
    "pycharm": {
     "name": "#%%\n"
    }
   },
   "outputs": [
    {
     "name": "stdout",
     "output_type": "stream",
     "text": [
      "[########################################] | 100% Completed | 62.72 s\n"
     ]
    },
    {
     "data": {
      "text/plain": [
       "parsed_by_number\n",
       "0    435639\n",
       "Name: parsed_by_number, dtype: int64"
      ]
     },
     "execution_count": 76,
     "metadata": {},
     "output_type": "execute_result"
    }
   ],
   "source": [
    "# excluding {INSTALL:DROP_TABLES} + {INSTALL:DB_OPTIONS} -> is this a PHP thing? (see https://github.com/intelliants/eSyndiCat/tree/master)\n",
    "\n",
    "not_parsable_incl_jsqlparser = not_parsable_incl_jsqlparser[\n",
    "    ~(not_parsable_incl_jsqlparser.sqlparser_original.str.contains(\"{INSTALL:\",regex=False,case=False))]\n",
    "not_parsable_incl_jsqlparser.groupby('parsed_by_number')['parsed_by_number'].count().compute(scheduler='processes')"
   ]
  },
  {
   "cell_type": "code",
   "execution_count": 77,
   "metadata": {
    "pycharm": {
     "name": "#%%\n"
    }
   },
   "outputs": [
    {
     "name": "stdout",
     "output_type": "stream",
     "text": [
      "[########################################] | 100% Completed | 58.18 s\n"
     ]
    },
    {
     "data": {
      "text/plain": [
       "sqlparser_statement_type\n",
       "ALTER                  30728 \n",
       "COMMIT                 171   \n",
       "CREATE                 90702 \n",
       "CREATE OR REPLACE      519   \n",
       "DELETE                 709   \n",
       "DROP                   9629  \n",
       "INSERT                 13148 \n",
       "MERGE                  39    \n",
       "SELECT                 11235 \n",
       "UNKNOWN                276558\n",
       "UPDATE                 2112  \n",
       "REPLACE                7     \n",
       "START                  33    \n",
       "ROLLBACK               46    \n",
       "CREATE \\nOR REPLACE    1     \n",
       "CREATE  OR REPLACE     2     \n",
       "Name: sqlparser_statement_type, dtype: int64"
      ]
     },
     "execution_count": 77,
     "metadata": {},
     "output_type": "execute_result"
    }
   ],
   "source": [
    "not_parsable_incl_jsqlparser.groupby('sqlparser_statement_type')['sqlparser_statement_type'].count().compute(scheduler='processes')\n",
    "\n",
    "# as hardest to parse we can consider the \"UNKNOWN\"\n",
    "# can also merge with not_parsable_tidb_and_jsql_hard"
   ]
  },
  {
   "attachments": {},
   "cell_type": "markdown",
   "metadata": {
    "pycharm": {
     "name": "#%% md\n"
    }
   },
   "source": [
    "Getting keywords in not parsed statements"
   ]
  },
  {
   "cell_type": "code",
   "execution_count": 78,
   "metadata": {
    "pycharm": {
     "name": "#%%\n"
    }
   },
   "outputs": [
    {
     "name": "stdout",
     "output_type": "stream",
     "text": [
      "[########################################] | 100% Completed | 68.96 s\n"
     ]
    }
   ],
   "source": [
    "getting_keywords = not_parsable_incl_jsqlparser['sqlparser_Token.Keyword'].compute(scheduler='processes')"
   ]
  },
  {
   "cell_type": "code",
   "execution_count": null,
   "metadata": {
    "pycharm": {
     "name": "#%%\n"
    }
   },
   "outputs": [],
   "source": [
    "from collections import Counter\n",
    "kword_counter = Counter()\n",
    "for lst in getting_keywords:\n",
    "    for item in lst:\n",
    "        kword_counter.update({item:1})\n",
    "kword_counter.most_common(50)"
   ]
  },
  {
   "attachments": {},
   "cell_type": "markdown",
   "metadata": {
    "pycharm": {
     "name": "#%% md\n"
    }
   },
   "source": [
    "### Looking at GO keyword => GO is not a part of the TSQL language. It's a batch separator used by SQLCMD and SSMS.\n"
   ]
  },
  {
   "cell_type": "code",
   "execution_count": 80,
   "metadata": {
    "pycharm": {
     "name": "#%%\n"
    }
   },
   "outputs": [
    {
     "name": "stdout",
     "output_type": "stream",
     "text": [
      "[########################################] | 100% Completed | 68.06 s\n"
     ]
    },
    {
     "data": {
      "text/plain": [
       "6674"
      ]
     },
     "execution_count": 80,
     "metadata": {},
     "output_type": "execute_result"
    }
   ],
   "source": [
    "go_test = not_parsable_incl_jsqlparser\n",
    "go_test['ok'] = go_test.apply(\n",
    "    lambda row:\n",
    "    1 if \"GO\" in row[\"sqlparser_Token.Keyword\"] else 0,\n",
    "    axis=1,\n",
    "    meta=('ok', 'int'))\n",
    "go_file_ids = go_test[go_test.ok == 1]['file_id'].unique().compute(scheduler='processes')\n",
    "go_file_ids.count()\n",
    "\n",
    "# 6674"
   ]
  },
  {
   "cell_type": "code",
   "execution_count": 81,
   "metadata": {
    "pycharm": {
     "name": "#%%\n"
    }
   },
   "outputs": [
    {
     "name": "stdout",
     "output_type": "stream",
     "text": [
      "[########################################] | 100% Completed | 5.26 ss\n"
     ]
    },
    {
     "data": {
      "text/plain": [
       "parsed_by_number\n",
       "0    6667\n",
       "1    7   \n",
       "Name: file_id, dtype: int64"
      ]
     },
     "execution_count": 81,
     "metadata": {},
     "output_type": "execute_result"
    }
   ],
   "source": [
    "x = go_file_ids.reset_index()\n",
    "\n",
    "test_go_file_level = parsed_ddf[['file_id','parsed_by_number']].compute()\n",
    "test_go_file_level = test_go_file_level.merge(x, on=['file_id'])\n",
    "\n",
    "#test_go_file_level.count()\n",
    "# 6674\n",
    "\n",
    "test_go_file_level.groupby('parsed_by_number')['file_id'].count()\n",
    "\n",
    "# but are there some that are parsed though??"
   ]
  },
  {
   "cell_type": "code",
   "execution_count": 82,
   "metadata": {
    "pycharm": {
     "name": "#%%\n"
    }
   },
   "outputs": [],
   "source": [
    "go_test2 = stmt_level_incl_sqlparser[stmt_level_incl_sqlparser.parsed_by_number > 0]\n",
    "go_test2['ok'] = go_test2.apply(\n",
    "    lambda row:\n",
    "    1 if \"GO\" in row[\"sqlparser_Token.Keyword\"] else 0,\n",
    "    axis=1,\n",
    "    meta=('ok', 'int'))\n",
    "\n",
    "go_test2 = go_test2[go_test2.ok == 1]\n",
    "\n",
    "# go_file_ids2.count() yep, 1913\n",
    "# 6674"
   ]
  },
  {
   "cell_type": "code",
   "execution_count": 83,
   "metadata": {
    "pycharm": {
     "name": "#%%\n"
    }
   },
   "outputs": [
    {
     "name": "stdout",
     "output_type": "stream",
     "text": [
      "[########################################] | 100% Completed | 225.14 s\n"
     ]
    }
   ],
   "source": [
    "go_file_ids2 = go_test2[go_test2.ok == 1]['file_id'].unique().compute(scheduler='processes')"
   ]
  },
  {
   "cell_type": "code",
   "execution_count": 85,
   "metadata": {
    "pycharm": {
     "name": "#%%\n"
    }
   },
   "outputs": [
    {
     "name": "stdout",
     "output_type": "stream",
     "text": [
      "[########################################] | 100% Completed | 4.95 sms\n"
     ]
    },
    {
     "data": {
      "text/plain": [
       "parsed_by_number\n",
       "0    1121\n",
       "1    824 \n",
       "Name: file_id, dtype: int64"
      ]
     },
     "execution_count": 85,
     "metadata": {},
     "output_type": "execute_result"
    }
   ],
   "source": [
    "y = go_file_ids2.reset_index()\n",
    "\n",
    "test_go_file_level2 = parsed_ddf[['file_id','parsed_by_number']].compute()\n",
    "test_go_file_level2 = test_go_file_level2.merge(y, on=['file_id'])\n",
    "\n",
    "test_go_file_level2.groupby('parsed_by_number')['file_id'].count()"
   ]
  },
  {
   "cell_type": "code",
   "execution_count": 84,
   "metadata": {
    "pycharm": {
     "name": "#%%\n"
    }
   },
   "outputs": [
    {
     "name": "stdout",
     "output_type": "stream",
     "text": [
      "[########################################] | 100% Completed | 208.44 s\n"
     ]
    },
    {
     "data": {
      "text/plain": [
       "file_id                                   3048\n",
       "statement_nr                              3048\n",
       "jsql_parsed                               3048\n",
       "jsql_parse_error                          3048\n",
       "jsql_parse_error_with_brackets            3048\n",
       "jsql_valid_ansi                           728 \n",
       "jsql_valid_oracle                         728 \n",
       "jsql_valid_mysql                          728 \n",
       "jsql_valid_postgres                       728 \n",
       "jsql_valid_sqlserver                      728 \n",
       "pglast_parsed                             3048\n",
       "pglast_parse_error                        3041\n",
       "tidb_parsed                               3048\n",
       "tidb_parse_error                          3029\n",
       "rust_parsed                               3048\n",
       "rust_parsed_generic                       0   \n",
       "rust_parsed_ansi                          0   \n",
       "rust_parsed_postgres                      0   \n",
       "rust_parsed_mysql                         0   \n",
       "rust_parsed_ms                            0   \n",
       "rust_dialect                              18  \n",
       "rust_parse_error                          3030\n",
       "sqlglot_parsed                            3048\n",
       "sqlglot_parsed_none                       0   \n",
       "sqlglot_parsed_postgres                   0   \n",
       "sqlglot_parsed_mysql                      0   \n",
       "sqlglot_parsed_tsql                       0   \n",
       "sqlglot_dialect                           394 \n",
       "sqlglot_parse_error                       703 \n",
       "sqlglot_file_parse_error_start_context    703 \n",
       "sqlglot_file_parse_error_highlight        703 \n",
       "parsed_by_number                          3048\n",
       "sqlparser_statement_type                  3048\n",
       "sqlparser_has_comments                    3048\n",
       "sqlparser_original                        3048\n",
       "sqlparser_Token.Keyword                   3048\n",
       "ok                                        3048\n",
       "dtype: int64"
      ]
     },
     "execution_count": 84,
     "metadata": {},
     "output_type": "execute_result"
    }
   ],
   "source": [
    "go_test2.count().compute(scheduler='processes')"
   ]
  },
  {
   "attachments": {},
   "cell_type": "markdown",
   "metadata": {
    "pycharm": {
     "name": "#%% md\n"
    }
   },
   "source": [
    "### Nevertheless can exclude GO for now"
   ]
  },
  {
   "cell_type": "code",
   "execution_count": 87,
   "metadata": {
    "pycharm": {
     "name": "#%%\n"
    }
   },
   "outputs": [
    {
     "name": "stdout",
     "output_type": "stream",
     "text": [
      "[########################################] | 100% Completed | 75.07 s\n"
     ]
    },
    {
     "data": {
      "text/plain": [
       "365015"
      ]
     },
     "execution_count": 87,
     "metadata": {},
     "output_type": "execute_result"
    }
   ],
   "source": [
    "excluding_go = not_parsable_incl_jsqlparser\n",
    "excluding_go['go_ok'] = excluding_go.apply(\n",
    "    lambda row:\n",
    "    1 if \"GO\" in row[\"sqlparser_Token.Keyword\"] else 0,\n",
    "    axis=1,\n",
    "    meta=('go_ok', 'int'))\n",
    "excluding_go = excluding_go[excluding_go.go_ok == 0]\n",
    "\n",
    "excluding_go['file_id'].count().compute(scheduler='processes')"
   ]
  },
  {
   "attachments": {},
   "cell_type": "markdown",
   "metadata": {
    "pycharm": {
     "name": "#%% md\n"
    }
   },
   "source": [
    "Getting keywords again"
   ]
  },
  {
   "cell_type": "code",
   "execution_count": 88,
   "metadata": {
    "pycharm": {
     "name": "#%%\n"
    }
   },
   "outputs": [
    {
     "name": "stdout",
     "output_type": "stream",
     "text": [
      "[########################################] | 100% Completed | 75.82 s\n"
     ]
    },
    {
     "data": {
      "text/plain": [
       "[('TABLE', 124961),\n",
       " ('KEY', 84015),\n",
       " ('NOT NULL', 79380),\n",
       " ('PRIMARY', 77128),\n",
       " ('FROM', 58348),\n",
       " ('CONSTRAINT', 53384),\n",
       " ('REFERENCES', 47943),\n",
       " ('FOREIGN', 47592),\n",
       " ('table', 42769),\n",
       " ('DEFAULT', 41844),\n",
       " ('ON', 40019),\n",
       " ('INTO', 35868),\n",
       " ('NULL', 32247),\n",
       " ('WHERE', 30392),\n",
       " ('SET', 29028),\n",
       " ('BEGIN', 28951),\n",
       " ('DELIMITER', 28866),\n",
       " ('VALUES', 28202),\n",
       " ('ADD', 27722),\n",
       " ('END', 27517),\n",
       " ('IF', 26106),\n",
       " ('key', 24234),\n",
       " ('INDEX', 23306),\n",
       " ('from', 23304),\n",
       " ('COPY', 20084),\n",
       " ('stdin', 19925),\n",
       " ('primary', 19109),\n",
       " ('PROCEDURE', 18670),\n",
       " ('THEN', 18621),\n",
       " ('UNIQUE', 18596),\n",
       " ('TABLESPACE', 18397),\n",
       " ('into', 17864),\n",
       " ('not null', 17744),\n",
       " ('constraint', 17077),\n",
       " ('PCTFREE', 16788),\n",
       " ('where', 16474),\n",
       " ('INITRANS', 16195),\n",
       " ('INITIAL', 15915),\n",
       " ('MAXEXTENTS', 15645),\n",
       " ('NEXT', 15642),\n",
       " ('MINEXTENTS', 15582),\n",
       " ('END IF', 15572),\n",
       " ('on', 15487),\n",
       " ('AUTO_INCREMENT', 15035),\n",
       " ('ENABLE', 14838),\n",
       " ('EXISTS', 14833),\n",
       " ('MAXTRANS', 14647),\n",
       " ('AND', 14554),\n",
       " ('PCTINCREASE', 14445),\n",
       " ('foreign', 14140)]"
      ]
     },
     "execution_count": 88,
     "metadata": {},
     "output_type": "execute_result"
    }
   ],
   "source": [
    "getting_keywords = excluding_go['sqlparser_Token.Keyword'].compute(scheduler='processes')\n",
    "from collections import Counter\n",
    "kword_counter = Counter()\n",
    "for lst in getting_keywords:\n",
    "    for item in lst:\n",
    "        kword_counter.update({item:1})\n",
    "kword_counter.most_common(50)"
   ]
  },
  {
   "attachments": {},
   "cell_type": "markdown",
   "metadata": {
    "pycharm": {
     "name": "#%% md\n"
    }
   },
   "source": [
    "### Looking further at ENABLE"
   ]
  },
  {
   "cell_type": "code",
   "execution_count": 89,
   "metadata": {
    "pycharm": {
     "name": "#%%\n"
    }
   },
   "outputs": [],
   "source": [
    "excluding_go = excluding_go [['file_id','statement_nr', 'sqlparser_original',\n",
    "                               'sqlparser_statement_type','sqlparser_Token.Keyword',\n",
    "                              'jsql_parse_error','jsql_parse_error_with_brackets', 'pglast_parse_error', 'tidb_parse_error','rust_parse_error','sqlglot_parse_error','sqlglot_file_parse_error_start_context','sqlglot_file_parse_error_highlight']]"
   ]
  },
  {
   "cell_type": "code",
   "execution_count": 93,
   "metadata": {
    "pycharm": {
     "name": "#%%\n"
    }
   },
   "outputs": [
    {
     "name": "stdout",
     "output_type": "stream",
     "text": [
      "[########################################] | 100% Completed | 162.50 s\n"
     ]
    },
    {
     "data": {
      "text/plain": [
       "14838"
      ]
     },
     "execution_count": 93,
     "metadata": {},
     "output_type": "execute_result"
    }
   ],
   "source": [
    "enable_test = excluding_go\n",
    "enable_test['enable_ok'] = enable_test.apply(\n",
    "    lambda row:\n",
    "    1 if \"ENABLE\" in row[\"sqlparser_Token.Keyword\"] else 0,\n",
    "    axis=1,\n",
    "    meta=('enable_ok', 'int'))\n",
    "\n",
    "enable_test[enable_test.enable_ok == 1]['file_id'].count().compute(scheduler='processes')\n"
   ]
  },
  {
   "cell_type": "code",
   "execution_count": 96,
   "metadata": {
    "pycharm": {
     "name": "#%%\n"
    }
   },
   "outputs": [
    {
     "name": "stdout",
     "output_type": "stream",
     "text": [
      "[########################################] | 100% Completed | 293.53 s\n"
     ]
    },
    {
     "data": {
      "text/plain": [
       "17027"
      ]
     },
     "execution_count": 96,
     "metadata": {},
     "output_type": "execute_result"
    }
   ],
   "source": [
    "# seeing if it's parsed anywhere\n",
    "enable_test_check = stmt_level_incl_sqlparser[stmt_level_incl_sqlparser.parsed_by_number > 0]\n",
    "enable_test_check['enable_ok'] = enable_test_check.apply(\n",
    "    lambda row:\n",
    "    1 if \"ENABLE\" in row[\"sqlparser_Token.Keyword\"] else 0,\n",
    "    axis=1,\n",
    "    meta=('enable_ok', 'int'))\n",
    "\n",
    "enable_test_check['modify_check'] = enable_test_check.apply(\n",
    "    lambda row:\n",
    "    1 if \"MODIFY\" in row[\"sqlparser_Token.Keyword\"] else 0,\n",
    "    axis=1,\n",
    "    meta=('modify_check', 'int'))\n",
    "\n",
    "enable_test_check[(enable_test_check.enable_ok == 1) & (enable_test_check.modify_check == 0)]['file_id'].count().compute(scheduler='processes')\n",
    "\n",
    "# roughly 36k parsed with ENABLE in list; jsqlparser should be capable of doing it, seems like sqlglot can do it to if it's a MODIFY type and not a new ctr\n",
    "\n",
    "# roughly 17k without modify"
   ]
  },
  {
   "cell_type": "code",
   "execution_count": 99,
   "metadata": {
    "pycharm": {
     "name": "#%%\n"
    }
   },
   "outputs": [
    {
     "name": "stdout",
     "output_type": "stream",
     "text": [
      "[########################################] | 100% Completed | 335.45 s\n"
     ]
    },
    {
     "data": {
      "text/plain": [
       "237"
      ]
     },
     "execution_count": 99,
     "metadata": {},
     "output_type": "execute_result"
    }
   ],
   "source": [
    "enable_test_check[(enable_test_check.enable_ok == 1) & (enable_test_check.modify_check == 0) &\n",
    "                  (enable_test_check.jsql_parsed == 0)]['file_id'].count().compute(scheduler='processes')"
   ]
  },
  {
   "attachments": {},
   "cell_type": "markdown",
   "metadata": {
    "pycharm": {
     "name": "#%% md\n"
    }
   },
   "source": [
    "### Removing ENABLE, looking further"
   ]
  },
  {
   "cell_type": "code",
   "execution_count": 101,
   "metadata": {
    "pycharm": {
     "name": "#%%\n"
    }
   },
   "outputs": [
    {
     "name": "stdout",
     "output_type": "stream",
     "text": [
      "[########################################] | 100% Completed | 74.55 s\n"
     ]
    },
    {
     "data": {
      "text/plain": [
       "350177"
      ]
     },
     "execution_count": 101,
     "metadata": {},
     "output_type": "execute_result"
    }
   ],
   "source": [
    "excluding_go_and_enable = excluding_go\n",
    "excluding_go_and_enable['enable_ok'] = excluding_go_and_enable.apply(\n",
    "    lambda row:\n",
    "    1 if \"ENABLE\" in row[\"sqlparser_Token.Keyword\"] else 0,\n",
    "    axis=1,\n",
    "    meta=('enable_ok', 'int'))\n",
    "excluding_go_and_enable = excluding_go_and_enable[excluding_go.enable_ok == 0]\n",
    "\n",
    "excluding_go_and_enable['file_id'].count().compute(scheduler='processes')"
   ]
  },
  {
   "cell_type": "code",
   "execution_count": 102,
   "metadata": {
    "pycharm": {
     "name": "#%%\n"
    }
   },
   "outputs": [
    {
     "name": "stdout",
     "output_type": "stream",
     "text": [
      "[########################################] | 100% Completed | 79.43 s\n"
     ]
    }
   ],
   "source": [
    "# to pandas\n",
    "excluding_go_and_enable_pd = excluding_go_and_enable.compute(scheduler='processes')"
   ]
  },
  {
   "cell_type": "code",
   "execution_count": 105,
   "metadata": {
    "pycharm": {
     "name": "#%%\n"
    }
   },
   "outputs": [
    {
     "data": {
      "text/plain": [
       "[('TABLE', 110326),\n",
       " ('NOT NULL', 74341),\n",
       " ('KEY', 72692),\n",
       " ('PRIMARY', 67804),\n",
       " ('FROM', 58200),\n",
       " ('REFERENCES', 44037),\n",
       " ('FOREIGN', 43712),\n",
       " ('table', 42587),\n",
       " ('CONSTRAINT', 42327),\n",
       " ('ON', 38325),\n",
       " ('DEFAULT', 35908),\n",
       " ('INTO', 35772),\n",
       " ('NULL', 31757),\n",
       " ('WHERE', 30245),\n",
       " ('BEGIN', 28868),\n",
       " ('SET', 28840),\n",
       " ('DELIMITER', 28787),\n",
       " ('VALUES', 28091),\n",
       " ('END', 27430),\n",
       " ('IF', 26057)]"
      ]
     },
     "execution_count": 105,
     "metadata": {},
     "output_type": "execute_result"
    }
   ],
   "source": [
    "# keywords\n",
    "getting_keywords = excluding_go_and_enable_pd['sqlparser_Token.Keyword']\n",
    "from collections import Counter\n",
    "kword_counter = Counter()\n",
    "for lst in getting_keywords:\n",
    "    for item in lst:\n",
    "        kword_counter.update({item:1})\n",
    "kword_counter.most_common(20)"
   ]
  },
  {
   "cell_type": "code",
   "execution_count": 109,
   "metadata": {
    "pycharm": {
     "name": "#%%\n"
    }
   },
   "outputs": [],
   "source": [
    "test_values = excluding_go_and_enable_pd\n",
    "test_values['values_ok'] = test_values.apply(\n",
    "    lambda row:\n",
    "    1 if \"VALUES\" in row[\"sqlparser_Token.Keyword\"] else 0,\n",
    "    axis=1)\n",
    "test_values = test_values[test_values.values_ok == 1]"
   ]
  },
  {
   "cell_type": "code",
   "execution_count": null,
   "metadata": {
    "pycharm": {
     "name": "#%%\n"
    }
   },
   "outputs": [],
   "source": []
  },
  {
   "attachments": {},
   "cell_type": "markdown",
   "metadata": {
    "pycharm": {
     "name": "#%% md\n"
    }
   },
   "source": [
    "# Going back to file level - reducing amount of files using stmt level"
   ]
  },
  {
   "cell_type": "code",
   "execution_count": 20,
   "metadata": {
    "pycharm": {
     "name": "#%%\n"
    }
   },
   "outputs": [
    {
     "data": {
      "text/plain": [
       "35634"
      ]
     },
     "execution_count": 20,
     "metadata": {},
     "output_type": "execute_result"
    }
   ],
   "source": [
    "not_parsable_tidb_and_jsql_hard['file_id'].count()\n",
    "\n",
    "# have 35 634 difficult files -> trying to see statement counts at least"
   ]
  },
  {
   "cell_type": "code",
   "execution_count": 21,
   "metadata": {
    "pycharm": {
     "name": "#%%\n"
    }
   },
   "outputs": [
    {
     "name": "stdout",
     "output_type": "stream",
     "text": [
      "[########################################] | 100% Completed | 153.44 s\n"
     ]
    }
   ],
   "source": [
    "stmt__for_file_level_join = stmt_parsed_ddf\n",
    "\n",
    "stmt__for_file_level_join['parsed_by_something'] = stmt__for_file_level_join.apply(\n",
    "    lambda row:\n",
    "    1 if row['parsed_by_number'] > 0 else 0,\n",
    "    axis=1,\n",
    "    meta=('parsed_by_something', 'int'))\n",
    "\n",
    "stmt__for_file_level_join = stmt__for_file_level_join[['file_id','statement_nr','parsed_by_something']]\n",
    "\n",
    "stmt__for_file_level_join_pd = stmt__for_file_level_join.groupby(['file_id','parsed_by_something'])['statement_nr'].count().compute(scheduler='processes')"
   ]
  },
  {
   "cell_type": "code",
   "execution_count": 22,
   "metadata": {
    "pycharm": {
     "name": "#%%\n"
    }
   },
   "outputs": [],
   "source": [
    "stmt__for_file_level_join_pd = stmt__for_file_level_join_pd.reset_index()"
   ]
  },
  {
   "cell_type": "code",
   "execution_count": 150,
   "metadata": {
    "pycharm": {
     "name": "#%%\n"
    }
   },
   "outputs": [
    {
     "data": {
      "text/plain": [
       "file_id                419711\n",
       "parsed_by_something    419711\n",
       "statement_nr           419711\n",
       "dtype: int64"
      ]
     },
     "execution_count": 150,
     "metadata": {},
     "output_type": "execute_result"
    }
   ],
   "source": [
    "stmt__for_file_level_join_pd.count()"
   ]
  },
  {
   "cell_type": "code",
   "execution_count": 23,
   "metadata": {
    "pycharm": {
     "name": "#%%\n"
    }
   },
   "outputs": [],
   "source": [
    "merged_file_stmt_info = not_parsable_tidb_and_jsql_hard.merge(\n",
    "    stmt__for_file_level_join_pd,\n",
    "    on=['file_id'],how='left'\n",
    ")"
   ]
  },
  {
   "cell_type": "code",
   "execution_count": 24,
   "metadata": {
    "pycharm": {
     "name": "#%%\n"
    }
   },
   "outputs": [
    {
     "data": {
      "text/plain": [
       "parsed_by_something\n",
       "0    30317\n",
       "1    31668\n",
       "Name: file_id, dtype: int64"
      ]
     },
     "execution_count": 24,
     "metadata": {},
     "output_type": "execute_result"
    }
   ],
   "source": [
    "merged_file_stmt_info.groupby('parsed_by_something')['file_id'].count()"
   ]
  },
  {
   "cell_type": "code",
   "execution_count": 25,
   "metadata": {
    "pycharm": {
     "name": "#%%\n"
    }
   },
   "outputs": [
    {
     "name": "stderr",
     "output_type": "stream",
     "text": [
      "C:\\Users\\geacu\\AppData\\Local\\Temp\\ipykernel_13012\\4087206868.py:5: SettingWithCopyWarning: \n",
      "A value is trying to be set on a copy of a slice from a DataFrame.\n",
      "Try using .loc[row_indexer,col_indexer] = value instead\n",
      "\n",
      "See the caveats in the documentation: https://pandas.pydata.org/pandas-docs/stable/user_guide/indexing.html#returning-a-view-versus-a-copy\n",
      "  not_parsed_merged_stmt_info['unparsed_stmts_bucket'] = np.select(\n"
     ]
    },
    {
     "data": {
      "text/plain": [
       "unparsed_stmts_bucket\n",
       "1    12941\n",
       "2    6611 \n",
       "3    2762 \n",
       "4    3029 \n",
       "5    2429 \n",
       "6    1300 \n",
       "7    1235 \n",
       "8    10   \n",
       "Name: file_id, dtype: int64"
      ]
     },
     "execution_count": 25,
     "metadata": {},
     "output_type": "execute_result"
    }
   ],
   "source": [
    "import warnings\n",
    "warnings.filterwarnings(\"ignore\", 'Boolean inputs to the `inclusive` argument are deprecated in favour of `both` or `neither`.')\n",
    "\n",
    "not_parsed_merged_stmt_info = merged_file_stmt_info[merged_file_stmt_info.parsed_by_something == 0]\n",
    "not_parsed_merged_stmt_info['unparsed_stmts_bucket'] = np.select(\n",
    "    [\n",
    "        not_parsed_merged_stmt_info['statement_nr'].between(0, 1, inclusive=True),\n",
    "        not_parsed_merged_stmt_info['statement_nr'].between(2, 3, inclusive=True),\n",
    "        not_parsed_merged_stmt_info['statement_nr'].between(4, 5, inclusive=True),\n",
    "        not_parsed_merged_stmt_info['statement_nr'].between(6, 10, inclusive=True),\n",
    "        not_parsed_merged_stmt_info['statement_nr'].between(11, 20, inclusive=True),\n",
    "        not_parsed_merged_stmt_info['statement_nr'].between(21, 45, inclusive=True),\n",
    "        not_parsed_merged_stmt_info['statement_nr'].between(46, 1000, inclusive=True)\n",
    "    ], \n",
    "    [\n",
    "        1,2,3,4,5,6,7\n",
    "    ], \n",
    "    default=8\n",
    ")\n",
    "not_parsed_merged_stmt_info.groupby('unparsed_stmts_bucket')['file_id'].count()"
   ]
  },
  {
   "cell_type": "code",
   "execution_count": 37,
   "metadata": {
    "pycharm": {
     "name": "#%%\n"
    }
   },
   "outputs": [],
   "source": [
    "not_parsed_merged_stmt_info_relevant_cols = not_parsed_merged_stmt_info.copy()\n",
    "not_parsed_merged_stmt_info_relevant_cols = not_parsed_merged_stmt_info_relevant_cols[\n",
    "    ['file_id','statement_nr','pglast_file_parse_error','pglast_original_highlight',\n",
    "    'sqlglot_parse_error','sqlglot_file_parse_error_start_context','sqlglot_file_parse_error_highlight',\n",
    "    'tidb_file_parse_error','rustparser_parse_error','jsql_file_parse_error','jsql_file_parse_error_with_brackets']\n",
    "]\n",
    "not_parsed_merged_stmt_info_relevant_cols['pglast_file_parse_error'] = not_parsed_merged_stmt_info_relevant_cols['pglast_file_parse_error'].str.slice(0,50)\n",
    "not_parsed_merged_stmt_info_relevant_cols['pglast_original_highlight'] = not_parsed_merged_stmt_info_relevant_cols['pglast_original_highlight'].str.slice(0,50)\n",
    "\n",
    "not_parsed_merged_stmt_info_relevant_cols['sqlglot_parse_error'] = not_parsed_merged_stmt_info_relevant_cols['sqlglot_parse_error'].str.slice(0,50)\n",
    "not_parsed_merged_stmt_info_relevant_cols['sqlglot_file_parse_error_start_context'] = not_parsed_merged_stmt_info_relevant_cols['sqlglot_file_parse_error_start_context'].str.slice(0,50)\n",
    "not_parsed_merged_stmt_info_relevant_cols['sqlglot_file_parse_error_highlight'] = not_parsed_merged_stmt_info_relevant_cols['sqlglot_file_parse_error_highlight'].str.slice(0,50)\n",
    "\n",
    "not_parsed_merged_stmt_info_relevant_cols['tidb_file_parse_error'] = not_parsed_merged_stmt_info_relevant_cols['tidb_file_parse_error'].str.slice(0,50)\n",
    "not_parsed_merged_stmt_info_relevant_cols['rustparser_parse_error'] = not_parsed_merged_stmt_info_relevant_cols['rustparser_parse_error'].str.slice(0,150)\n",
    "\n",
    "\n",
    "not_parsed_merged_stmt_info_relevant_cols['jsql_file_parse_error'] = not_parsed_merged_stmt_info_relevant_cols['jsql_file_parse_error'].str.slice(0,80)\n",
    "not_parsed_merged_stmt_info_relevant_cols['jsql_file_parse_error_with_brackets'] = not_parsed_merged_stmt_info_relevant_cols['jsql_file_parse_error_with_brackets'].str.slice(0,80)"
   ]
  },
  {
   "cell_type": "code",
   "execution_count": 38,
   "metadata": {
    "pycharm": {
     "name": "#%%\n"
    }
   },
   "outputs": [
    {
     "data": {
      "text/html": [
       "<div>\n",
       "<style scoped>\n",
       "    .dataframe tbody tr th:only-of-type {\n",
       "        vertical-align: middle;\n",
       "    }\n",
       "\n",
       "    .dataframe tbody tr th {\n",
       "        vertical-align: top;\n",
       "    }\n",
       "\n",
       "    .dataframe thead th {\n",
       "        text-align: right;\n",
       "    }\n",
       "</style>\n",
       "<table border=\"1\" class=\"dataframe\">\n",
       "  <thead>\n",
       "    <tr style=\"text-align: right;\">\n",
       "      <th></th>\n",
       "      <th>file_id</th>\n",
       "      <th>statement_nr</th>\n",
       "      <th>pglast_file_parse_error</th>\n",
       "      <th>pglast_original_highlight</th>\n",
       "      <th>sqlglot_parse_error</th>\n",
       "      <th>sqlglot_file_parse_error_start_context</th>\n",
       "      <th>sqlglot_file_parse_error_highlight</th>\n",
       "      <th>tidb_file_parse_error</th>\n",
       "      <th>rustparser_parse_error</th>\n",
       "      <th>jsql_file_parse_error</th>\n",
       "      <th>jsql_file_parse_error_with_brackets</th>\n",
       "    </tr>\n",
       "  </thead>\n",
       "  <tbody>\n",
       "    <tr>\n",
       "      <th>2</th>\n",
       "      <td>622076</td>\n",
       "      <td>1</td>\n",
       "      <td>syntax error at or near \"IDENTITY\", at index 46</td>\n",
       "      <td>IDENTITY(1,1),\\n    Name NVARCHAR(255) NOT NULL\\n);</td>\n",
       "      <td>Expecting (|Expecting )|Invalid expression / Unexp</td>\n",
       "      <td>PRIMARY KEY IDENTITY(1,1),\\n    Title NVARCHAR(255</td>\n",
       "      <td>REFERENCES|Authors|</td>\n",
       "      <td>line 2 column 32 near \"IDENTITY(1,1),\\n    Name NVA</td>\n",
       "      <td>PARSER_ERROR|Query parsing failed.\\n\\tsql parser error: Expected ',' or ')' after column definition, found: IDENTITY</td>\n",
       "      <td>Encountered unexpected token: \"INSERT\" \"INSERT\"\\n    at line 15, column 1.\\n\\nWas e</td>\n",
       "      <td>Encountered unexpected token: \"INSERT\" \"INSERT\"\\n    at line 15, column 1.\\n\\nWas e</td>\n",
       "    </tr>\n",
       "    <tr>\n",
       "      <th>3</th>\n",
       "      <td>396373</td>\n",
       "      <td>1</td>\n",
       "      <td>syntax error at or near \"TRAN\", at index 45</td>\n",
       "      <td>TRAN\\nDECLARE @nInterCo\\t\\t\\t\\t\\tINT\\n,@stredfPrecision\\t</td>\n",
       "      <td>Invalid expression / Unexpected token|</td>\n",
       "      <td>---spEXPExpenseSheetHdrCreateGLJournal\\nBEGIN TRAN\\n</td>\n",
       "      <td>@|</td>\n",
       "      <td>line 1 column 1 near \"---spEXPExpenseSheetHdrCreat</td>\n",
       "      <td>PARSER_ERROR|Query parsing failed.\\n\\tsql parser error: Expected end of statement, found: TRAN</td>\n",
       "      <td>Encountered unexpected token: \"TRAN\" &lt;S_IDENTIFIER&gt;\\n    at line 2, column 7.\\n\\nWa</td>\n",
       "      <td>Encountered unexpected token: \"TRAN\" &lt;S_IDENTIFIER&gt;\\n    at line 2, column 7.\\n\\nWa</td>\n",
       "    </tr>\n",
       "    <tr>\n",
       "      <th>5</th>\n",
       "      <td>581137</td>\n",
       "      <td>1</td>\n",
       "      <td>syntax error at or near \"if\", at index 267</td>\n",
       "      <td>==*/\\n\\n\\nif exists (select 1\\n   from sys.sysreferenc</td>\n",
       "      <td>Required keyword: 'true' missing for &lt;class 'sqlgl</td>\n",
       "      <td>keyid = object_id('Textbook.ApprovalDeclaration')</td>\n",
       "      <td>alter|</td>\n",
       "      <td>line 7 column 3 near \"if exists (select 1\\n   from</td>\n",
       "      <td>PARSER_ERROR|Query parsing failed.\\n\\tsql parser error: Expected an SQL statement, found: if</td>\n",
       "      <td>Encountered unexpected token: \"go\" &lt;S_IDENTIFIER&gt;\\n    at line 12, column 1.\\n\\nWas</td>\n",
       "      <td>Encountered unexpected token: \"go\" &lt;S_IDENTIFIER&gt;\\n    at line 12, column 1.\\n\\nWas</td>\n",
       "    </tr>\n",
       "    <tr>\n",
       "      <th>7</th>\n",
       "      <td>666969</td>\n",
       "      <td>55</td>\n",
       "      <td>syntax error at or near \"OFF\", at index 416</td>\n",
       "      <td>OFF;\\nGO\\nUSE [ffstats];\\nGO\\nIF SCHEMA_ID(N'dbo') IS</td>\n",
       "      <td>Invalid expression / Unexpected token|</td>\n",
       "      <td>StatsData.edmx\\n-- --------------------------------</td>\n",
       "      <td>USE|</td>\n",
       "      <td>line 9 column 26 near \"OFF;\\nGO\\nUSE [ffstats];\\nGO\\nI</td>\n",
       "      <td>PARSER_ERROR|Query parsing failed.\\n\\tsql parser error: Expected equals sign or TO, found: OFF</td>\n",
       "      <td>Encountered unexpected token: \"OFF\" \"OFF\"\\n    at line 9, column 23.\\n\\nWas expecti</td>\n",
       "      <td>Encountered unexpected token: \"OFF\" \"OFF\"\\n    at line 9, column 23.\\n\\nWas expecti</td>\n",
       "    </tr>\n",
       "    <tr>\n",
       "      <th>9</th>\n",
       "      <td>059263</td>\n",
       "      <td>1</td>\n",
       "      <td>syntax error at or near \"/\", at index 19</td>\n",
       "      <td>y/\\nDROP VIEW v_author/\\nDROP VIEW v_book/\\n\\nDROP TRI</td>\n",
       "      <td>Invalid expression / Unexpected token|</td>\n",
       "      <td>DROP VIEW v_library|</td>\n",
       "      <td>/|</td>\n",
       "      <td>line 1 column 20 near \"/\\nDROP VIEW v_author/\\nDROP</td>\n",
       "      <td>PARSER_ERROR|Query parsing failed.\\n\\tsql parser error: Expected end of statement, found: /</td>\n",
       "      <td>Encountered unexpected token: \"/\" \"/\"\\n    at line 1, column 20.\\n\\nWas expecting o</td>\n",
       "      <td>Encountered unexpected token: \"/\" \"/\"\\n    at line 1, column 20.\\n\\nWas expecting o</td>\n",
       "    </tr>\n",
       "  </tbody>\n",
       "</table>\n",
       "</div>"
      ],
      "text/plain": [
       "  file_id  statement_nr                          pglast_file_parse_error                                   pglast_original_highlight                                 sqlglot_parse_error                sqlglot_file_parse_error_start_context sqlglot_file_parse_error_highlight                                   tidb_file_parse_error                                                                                                rustparser_parse_error                                                                jsql_file_parse_error                                                  jsql_file_parse_error_with_brackets\n",
       "2  622076  1             syntax error at or near \"IDENTITY\", at index 46   IDENTITY(1,1),\\n    Name NVARCHAR(255) NOT NULL\\n);        Expecting (|Expecting )|Invalid expression / Unexp   PRIMARY KEY IDENTITY(1,1),\\n    Title NVARCHAR(255   REFERENCES|Authors|                line 2 column 32 near \"IDENTITY(1,1),\\n    Name NVA     PARSER_ERROR|Query parsing failed.\\n\\tsql parser error: Expected ',' or ')' after column definition, found: IDENTITY  Encountered unexpected token: \"INSERT\" \"INSERT\"\\n    at line 15, column 1.\\n\\nWas e  Encountered unexpected token: \"INSERT\" \"INSERT\"\\n    at line 15, column 1.\\n\\nWas e\n",
       "3  396373  1             syntax error at or near \"TRAN\", at index 45       TRAN\\nDECLARE @nInterCo\\t\\t\\t\\t\\tINT\\n,@stredfPrecision\\t  Invalid expression / Unexpected token|              ---spEXPExpenseSheetHdrCreateGLJournal\\nBEGIN TRAN\\n  @|                                 line 1 column 1 near \"---spEXPExpenseSheetHdrCreat      PARSER_ERROR|Query parsing failed.\\n\\tsql parser error: Expected end of statement, found: TRAN                        Encountered unexpected token: \"TRAN\" <S_IDENTIFIER>\\n    at line 2, column 7.\\n\\nWa  Encountered unexpected token: \"TRAN\" <S_IDENTIFIER>\\n    at line 2, column 7.\\n\\nWa\n",
       "5  581137  1             syntax error at or near \"if\", at index 267       ==*/\\n\\n\\nif exists (select 1\\n   from sys.sysreferenc      Required keyword: 'true' missing for <class 'sqlgl  keyid = object_id('Textbook.ApprovalDeclaration')     alter|                             line 7 column 3 near \"if exists (select 1\\n   from      PARSER_ERROR|Query parsing failed.\\n\\tsql parser error: Expected an SQL statement, found: if                          Encountered unexpected token: \"go\" <S_IDENTIFIER>\\n    at line 12, column 1.\\n\\nWas  Encountered unexpected token: \"go\" <S_IDENTIFIER>\\n    at line 12, column 1.\\n\\nWas\n",
       "7  666969  55            syntax error at or near \"OFF\", at index 416       OFF;\\nGO\\nUSE [ffstats];\\nGO\\nIF SCHEMA_ID(N'dbo') IS      Invalid expression / Unexpected token|              StatsData.edmx\\n-- --------------------------------   USE|                               line 9 column 26 near \"OFF;\\nGO\\nUSE [ffstats];\\nGO\\nI  PARSER_ERROR|Query parsing failed.\\n\\tsql parser error: Expected equals sign or TO, found: OFF                        Encountered unexpected token: \"OFF\" \"OFF\"\\n    at line 9, column 23.\\n\\nWas expecti  Encountered unexpected token: \"OFF\" \"OFF\"\\n    at line 9, column 23.\\n\\nWas expecti\n",
       "9  059263  1             syntax error at or near \"/\", at index 19         y/\\nDROP VIEW v_author/\\nDROP VIEW v_book/\\n\\nDROP TRI      Invalid expression / Unexpected token|              DROP VIEW v_library|                                  /|                                 line 1 column 20 near \"/\\nDROP VIEW v_author/\\nDROP     PARSER_ERROR|Query parsing failed.\\n\\tsql parser error: Expected end of statement, found: /                           Encountered unexpected token: \"/\" \"/\"\\n    at line 1, column 20.\\n\\nWas expecting o  Encountered unexpected token: \"/\" \"/\"\\n    at line 1, column 20.\\n\\nWas expecting o"
      ]
     },
     "execution_count": 38,
     "metadata": {},
     "output_type": "execute_result"
    }
   ],
   "source": [
    "not_parsed_merged_stmt_info_relevant_cols.head()"
   ]
  }
 ],
 "metadata": {
  "kernelspec": {
   "display_name": "windows",
   "language": "python",
   "name": "python3"
  },
  "language_info": {
   "codemirror_mode": {
    "name": "ipython",
    "version": 3
   },
   "file_extension": ".py",
   "mimetype": "text/x-python",
   "name": "python",
   "nbconvert_exporter": "python",
   "pygments_lexer": "ipython3",
   "version": "3.8.10"
  },
  "orig_nbformat": 4
 },
 "nbformat": 4,
 "nbformat_minor": 2
}