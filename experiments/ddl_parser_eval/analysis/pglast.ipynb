{
 "cells": [
  {
   "attachments": {},
   "cell_type": "markdown",
   "metadata": {},
   "source": [
    "# Imports and file details"
   ]
  },
  {
   "cell_type": "code",
   "execution_count": 1,
   "metadata": {},
   "outputs": [
    {
     "name": "stderr",
     "output_type": "stream",
     "text": [
      "C:\\Users\\geacu\\AppData\\Local\\Temp\\ipykernel_2772\\672650208.py:27: FutureWarning: Passing a negative integer is deprecated in version 1.0 and will not be supported in future version. Instead, use None to not limit the column width.\n",
      "  pd.set_option('max_colwidth', -1)\n"
     ]
    }
   ],
   "source": [
    "import pyarrow as pa\n",
    "import pyarrow.parquet as pq\n",
    "import pyarrow.compute as pc\n",
    "\n",
    "import matplotlib.pyplot as plt\n",
    "import seaborn as sns\n",
    "\n",
    "sns.set_theme()\n",
    "sns.set_style(\"ticks\")\n",
    "\n",
    "import os\n",
    "import sys\n",
    "sys.path.insert(0,'..')\n",
    "\n",
    "import pandas as pd\n",
    "import json\n",
    "import numpy as np\n",
    "\n",
    "import dask.dataframe as dd\n",
    "from dask.dataframe.utils import make_meta\n",
    "\n",
    "pd.set_option('display.max_rows', 500)\n",
    "pd.set_option('display.max_columns', 500)\n",
    "pd.set_option('display.width', 1000)\n",
    "pd.set_option('display.max_columns', None)\n",
    "pd.set_option('display.expand_frame_repr', False)\n",
    "pd.set_option('max_colwidth', -1)\n",
    "\n",
    "from src_new.utils import SQLParserSchema, PGLastSchema, get_file_encodings, SQLGlotSchema, SimpleDDLParserSchema,TIDBMysqlSchema\n",
    "\n",
    "from dask.diagnostics import ProgressBar\n",
    "ProgressBar().register()"
   ]
  },
  {
   "cell_type": "code",
   "execution_count": 2,
   "metadata": {},
   "outputs": [],
   "source": [
    "def read_partial(parser, schema_type, cols):\n",
    "    _outdir = '../out_new/'\n",
    "\n",
    "    if parser == 'sqlparser':\n",
    "        p = SQLParserSchema()\n",
    "        _outdir += 'sqlparser'\n",
    "    elif parser == 'pglast':\n",
    "        p = PGLastSchema()\n",
    "        _outdir += 'pglast'\n",
    "    elif parser == 'sqlglot':\n",
    "        p = SQLGlotSchema()\n",
    "        _outdir += 'sqlglot'\n",
    "    elif parser == 'simple':\n",
    "        p = SimpleDDLParserSchema()\n",
    "        _outdir += 'simpleddlparser'\n",
    "    elif parser == 'tidb':\n",
    "        p = TIDBMysqlSchema()\n",
    "        _outdir += 'tidb_mysql'\n",
    "    \n",
    "    if schema_type == 'file':\n",
    "        _schema = p.file_level_schema\n",
    "        _outdir += '/'\n",
    "    elif schema_type == 'stmt':\n",
    "        _schema = p.statement_list_sch\n",
    "        _outdir += '_details/'\n",
    "    \n",
    "    ddf = dd.read_parquet(_outdir,columns=cols, schema=_schema, split_row_groups=True, calculate_divisions=True,engine='pyarrow')\n",
    "    return ddf"
   ]
  },
  {
   "cell_type": "code",
   "execution_count": 3,
   "metadata": {},
   "outputs": [],
   "source": [
    "# Read file details\n",
    "fd = []\n",
    "for file in os.listdir('../out_new/filedetails/'):\n",
    "        full_filename = \"%s/%s\" % ('../out_new/filedetails/', file)\n",
    "        with open(full_filename,'r') as fi:\n",
    "            dict = json.load(fi)\n",
    "            for item in dict:\n",
    "                  fd.append(item)\n",
    "\n",
    "filedetails_df = pd.DataFrame.from_dict(fd)\n",
    "del fd"
   ]
  },
  {
   "cell_type": "code",
   "execution_count": 4,
   "metadata": {},
   "outputs": [],
   "source": [
    "pglast_ddf = read_partial('pglast','file',PGLastSchema().file_level_schema.names)\n",
    "pglast_details_ddf = read_partial('pglast','stmt',PGLastSchema().statement_list_sch.names)"
   ]
  },
  {
   "cell_type": "code",
   "execution_count": 5,
   "metadata": {},
   "outputs": [
    {
     "name": "stdout",
     "output_type": "stream",
     "text": [
      "[########################################] | 100% Completed | 3.01 ss\n"
     ]
    },
    {
     "data": {
      "text/plain": [
       "parsed\n",
       "0    13573275\n",
       "1    11054231\n",
       "Name: parsed, dtype: int64"
      ]
     },
     "execution_count": 5,
     "metadata": {},
     "output_type": "execute_result"
    }
   ],
   "source": [
    "pglast_details_ddf.groupby('parsed')['parsed'].count().compute(scheduler='processes')"
   ]
  },
  {
   "cell_type": "code",
   "execution_count": 6,
   "metadata": {},
   "outputs": [
    {
     "name": "stdout",
     "output_type": "stream",
     "text": [
      "[########################################] | 100% Completed | 4.00 ss\n"
     ]
    },
    {
     "data": {
      "text/plain": [
       "295066"
      ]
     },
     "execution_count": 6,
     "metadata": {},
     "output_type": "execute_result"
    }
   ],
   "source": [
    "parsed = pglast_details_ddf[pglast_details_ddf.parsed == 1]\n",
    "parsed['file_id'].nunique().compute(scheduler='processes')"
   ]
  },
  {
   "cell_type": "code",
   "execution_count": 7,
   "metadata": {},
   "outputs": [
    {
     "name": "stdout",
     "output_type": "stream",
     "text": [
      "[########################################] | 100% Completed | 4.12 ss\n"
     ]
    },
    {
     "data": {
      "text/plain": [
       "309224"
      ]
     },
     "execution_count": 7,
     "metadata": {},
     "output_type": "execute_result"
    }
   ],
   "source": [
    "not_parsed = pglast_details_ddf[pglast_details_ddf.parsed == 0]\n",
    "not_parsed['file_id'].nunique().compute(scheduler='processes')"
   ]
  },
  {
   "attachments": {},
   "cell_type": "markdown",
   "metadata": {},
   "source": [
    "# Err analysis at stmt level"
   ]
  },
  {
   "cell_type": "code",
   "execution_count": 8,
   "metadata": {},
   "outputs": [],
   "source": [
    "def get_stmt_and_file_count(dask_df):\n",
    "    x = dask_df['file_id'].nunique().compute(scheduler='processes')\n",
    "    y = dask_df['file_id'].count().compute(scheduler='processes')\n",
    "    return y,x"
   ]
  },
  {
   "attachments": {},
   "cell_type": "markdown",
   "metadata": {},
   "source": [
    "## Cutting down\n",
    "SCHEMA HERE"
   ]
  },
  {
   "cell_type": "code",
   "execution_count": 9,
   "metadata": {},
   "outputs": [
    {
     "name": "stdout",
     "output_type": "stream",
     "text": [
      "[########################################] | 100% Completed | 31.60 s\n"
     ]
    },
    {
     "data": {
      "text/plain": [
       "13515500"
      ]
     },
     "execution_count": 9,
     "metadata": {},
     "output_type": "execute_result"
    }
   ],
   "source": [
    "not_parsed[\n",
    "    (not_parsed.parse_error.str.contains(\"syntax error at or near\",case=False,regex=False))\n",
    "]['file_id'].count().compute(scheduler='processes')"
   ]
  },
  {
   "cell_type": "code",
   "execution_count": 10,
   "metadata": {},
   "outputs": [],
   "source": [
    "not_parsed = not_parsed[\n",
    "    ['file_id','statement_nr','parse_error','original','original_highlight']\n",
    "]"
   ]
  },
  {
   "cell_type": "code",
   "execution_count": 11,
   "metadata": {},
   "outputs": [],
   "source": [
    "no_syntax_err = not_parsed[\n",
    "    ~(not_parsed.parse_error.str.contains(\"syntax error at or near\",case=False,regex=False))\n",
    "]"
   ]
  },
  {
   "cell_type": "code",
   "execution_count": 12,
   "metadata": {},
   "outputs": [],
   "source": [
    "not_parsed['trunc_err'] = not_parsed.apply(\n",
    "    lambda row:\n",
    "    row['parse_error'].split('syntax error at or near')[1].strip().split(',')[0].strip() if \"syntax error at or near\" in row['parse_error'] else row['parse_error'][0:70], \n",
    "    axis=1,\n",
    "    meta=('trunc_err', 'string'))"
   ]
  },
  {
   "cell_type": "code",
   "execution_count": 13,
   "metadata": {},
   "outputs": [],
   "source": [
    "not_parsed_schema = pa.schema([])\n",
    "not_parsed_schema = not_parsed_schema.append(pa.field(\"file_id\",pa.string()))\n",
    "not_parsed_schema = not_parsed_schema.append(pa.field(\"statement_nr\",pa.int64()))\n",
    "not_parsed_schema = not_parsed_schema.append(pa.field(\"trunc_err\",pa.string()))\n",
    "not_parsed_schema = not_parsed_schema.append(pa.field(\"parse_error\",pa.string()))\n",
    "not_parsed_schema = not_parsed_schema.append(pa.field(\"original_highlight\",pa.string()))\n",
    "not_parsed_schema = not_parsed_schema.append(pa.field(\"original\",pa.string()))"
   ]
  },
  {
   "cell_type": "code",
   "execution_count": 14,
   "metadata": {},
   "outputs": [
    {
     "name": "stdout",
     "output_type": "stream",
     "text": [
      "[########################################] | 100% Completed | 84.82 s\n"
     ]
    }
   ],
   "source": [
    "not_parsed.to_parquet('../out_new/pglast_details_not_parsed_only/',schema=not_parsed_schema,overwrite=True,\n",
    "                      compute_kwargs={'scheduler':'processes'})"
   ]
  },
  {
   "attachments": {},
   "cell_type": "markdown",
   "metadata": {},
   "source": [
    "## Reading only not parsed"
   ]
  },
  {
   "cell_type": "code",
   "execution_count": 15,
   "metadata": {},
   "outputs": [],
   "source": [
    "not_parsed_trunc = dd.read_parquet('../out_new/pglast_details_not_parsed_only/', columns = not_parsed_schema.names ,schema=not_parsed_schema, split_row_groups=True, calculate_divisions=True,engine='pyarrow')"
   ]
  },
  {
   "cell_type": "code",
   "execution_count": 16,
   "metadata": {},
   "outputs": [
    {
     "name": "stdout",
     "output_type": "stream",
     "text": [
      "[########################################] | 100% Completed | 4.63 ss\n",
      "[########################################] | 100% Completed | 4.01 ss\n",
      "(13573275, 309224)\n"
     ]
    }
   ],
   "source": [
    "print(get_stmt_and_file_count(not_parsed_trunc))"
   ]
  },
  {
   "cell_type": "code",
   "execution_count": 18,
   "metadata": {},
   "outputs": [
    {
     "name": "stdout",
     "output_type": "stream",
     "text": [
      "[########################################] | 100% Completed | 4.89 ss\n"
     ]
    }
   ],
   "source": [
    "errcounts = not_parsed_trunc['trunc_err'].value_counts().compute(scheduler='processes')\n",
    "err_df = pd.DataFrame({'err':errcounts.index, 'cnt':errcounts.values})"
   ]
  },
  {
   "attachments": {},
   "cell_type": "markdown",
   "metadata": {},
   "source": [
    "### MYSQL separator"
   ]
  },
  {
   "cell_type": "code",
   "execution_count": 20,
   "metadata": {},
   "outputs": [
    {
     "name": "stdout",
     "output_type": "stream",
     "text": [
      "[########################################] | 100% Completed | 5.28 ss\n",
      "[########################################] | 100% Completed | 4.56 ss\n",
      "(11007489, 163161)\n"
     ]
    }
   ],
   "source": [
    "mysql_check = not_parsed_trunc[\n",
    "    (not_parsed_trunc.trunc_err == '\"`\"')\n",
    "]\n",
    "print(get_stmt_and_file_count(mysql_check))"
   ]
  },
  {
   "cell_type": "code",
   "execution_count": 21,
   "metadata": {},
   "outputs": [
    {
     "name": "stdout",
     "output_type": "stream",
     "text": [
      "[########################################] | 100% Completed | 409.01 ms\n"
     ]
    },
    {
     "data": {
      "text/html": [
       "<div>\n",
       "<style scoped>\n",
       "    .dataframe tbody tr th:only-of-type {\n",
       "        vertical-align: middle;\n",
       "    }\n",
       "\n",
       "    .dataframe tbody tr th {\n",
       "        vertical-align: top;\n",
       "    }\n",
       "\n",
       "    .dataframe thead th {\n",
       "        text-align: right;\n",
       "    }\n",
       "</style>\n",
       "<table border=\"1\" class=\"dataframe\">\n",
       "  <thead>\n",
       "    <tr style=\"text-align: right;\">\n",
       "      <th></th>\n",
       "      <th>file_id</th>\n",
       "      <th>statement_nr</th>\n",
       "      <th>trunc_err</th>\n",
       "      <th>parse_error</th>\n",
       "      <th>original_highlight</th>\n",
       "      <th>original</th>\n",
       "    </tr>\n",
       "  </thead>\n",
       "  <tbody>\n",
       "    <tr>\n",
       "      <th>0</th>\n",
       "      <td>503958</td>\n",
       "      <td>0</td>\n",
       "      <td>\"`\"</td>\n",
       "      <td>syntax error at or near \"`\", at index 15</td>\n",
       "      <td>ABLE `sys_menu` (\\n  `menu_id` bigint NOT NULL AUTO_INCREMENT,\\n  `parent_id` bigint COMMENT '父菜单ID，一级菜单为0',\\n  `name` varchar(50) COMMENT '菜单名称',\\n  `url` varchar(200) COMMENT '菜单URL',\\n  `perms` varchar(500) COMMENT '授权(多个用逗号分隔，如：user:list,user:create)',\\n  `type` int COMMENT '类型   0：目录   1：菜单   2：按钮',\\n  `icon` varchar(50) COMMENT '菜单图标',\\n  `order_num` int COMMENT '排序',\\n  PRIMARY KEY (`menu_id`)\\n) ENGINE=InnoDB DEFAULT CHARSET=utf8 COMMENT='菜单管理';</td>\n",
       "      <td>-- 菜单\\nCREATE TABLE `sys_menu` (\\n  `menu_id` bigint NOT NULL AUTO_INCREMENT,\\n  `parent_id` bigint COMMENT '父菜单ID，一级菜单为0',\\n  `name` varchar(50) COMMENT '菜单名称',\\n  `url` varchar(200) COMMENT '菜单URL',\\n  `perms` varchar(500) COMMENT '授权(多个用逗号分隔，如：user:list,user:create)',\\n  `type` int COMMENT '类型   0：目录   1：菜单   2：按钮',\\n  `icon` varchar(50) COMMENT '菜单图标',\\n  `order_num` int COMMENT '排序',\\n  PRIMARY KEY (`menu_id`)\\n) ENGINE=InnoDB DEFAULT CHARSET=utf8 COMMENT='菜单管理';</td>\n",
       "    </tr>\n",
       "    <tr>\n",
       "      <th>1</th>\n",
       "      <td>503958</td>\n",
       "      <td>1</td>\n",
       "      <td>\"`\"</td>\n",
       "      <td>syntax error at or near \"`\", at index 15</td>\n",
       "      <td>ABLE `sys_dept` (\\n  `dept_id` bigint NOT NULL AUTO_INCREMENT,\\n  `parent_id` bigint COMMENT '上级部门ID，一级部门为0',\\n  `name` varchar(50) COMMENT '部门名称',\\n  `order_num` int COMMENT '排序',\\n  `del_flag` tinyint DEFAULT 0 COMMENT '是否删除  -1：已删除  0：正常',\\n  PRIMARY KEY (`dept_id`)\\n) ENGINE=InnoDB DEFAULT CHARSET=utf8 COMMENT='部门管理';</td>\n",
       "      <td>-- 部门\\nCREATE TABLE `sys_dept` (\\n  `dept_id` bigint NOT NULL AUTO_INCREMENT,\\n  `parent_id` bigint COMMENT '上级部门ID，一级部门为0',\\n  `name` varchar(50) COMMENT '部门名称',\\n  `order_num` int COMMENT '排序',\\n  `del_flag` tinyint DEFAULT 0 COMMENT '是否删除  -1：已删除  0：正常',\\n  PRIMARY KEY (`dept_id`)\\n) ENGINE=InnoDB DEFAULT CHARSET=utf8 COMMENT='部门管理';</td>\n",
       "    </tr>\n",
       "    <tr>\n",
       "      <th>2</th>\n",
       "      <td>503958</td>\n",
       "      <td>2</td>\n",
       "      <td>\"`\"</td>\n",
       "      <td>syntax error at or near \"`\", at index 13</td>\n",
       "      <td>TE TABLE `sys_user` (\\n  `user_id` bigint NOT NULL AUTO_INCREMENT,\\n  `username` varchar(50) NOT NULL COMMENT '用户名',\\n  `password` varchar(100) COMMENT '密码',\\n  `salt` varchar(20) COMMENT '盐',\\n  `email` varchar(100) COMMENT '邮箱',\\n  `mobile` varchar(100) COMMENT '手机号',\\n  `status` tinyint COMMENT '状态  0：禁用   1：正常',\\n  `dept_id` bigint(20) COMMENT '部门ID',\\n  `create_time` datetime COMMENT '创建时间',\\n  PRIMARY KEY (`user_id`),\\n  UNIQUE INDEX (`username`)\\n) ENGINE=InnoDB DEFAULT CHARSET=utf8 COMMENT='系统用户';</td>\n",
       "      <td>-- 系统用户\\nCREATE TABLE `sys_user` (\\n  `user_id` bigint NOT NULL AUTO_INCREMENT,\\n  `username` varchar(50) NOT NULL COMMENT '用户名',\\n  `password` varchar(100) COMMENT '密码',\\n  `salt` varchar(20) COMMENT '盐',\\n  `email` varchar(100) COMMENT '邮箱',\\n  `mobile` varchar(100) COMMENT '手机号',\\n  `status` tinyint COMMENT '状态  0：禁用   1：正常',\\n  `dept_id` bigint(20) COMMENT '部门ID',\\n  `create_time` datetime COMMENT '创建时间',\\n  PRIMARY KEY (`user_id`),\\n  UNIQUE INDEX (`username`)\\n) ENGINE=InnoDB DEFAULT CHARSET=utf8 COMMENT='系统用户';</td>\n",
       "    </tr>\n",
       "    <tr>\n",
       "      <th>3</th>\n",
       "      <td>503958</td>\n",
       "      <td>3</td>\n",
       "      <td>\"`\"</td>\n",
       "      <td>syntax error at or near \"`\", at index 18</td>\n",
       "      <td>TE TABLE `sys_user_token` (\\n  `user_id` bigint(20) NOT NULL,\\n  `token` varchar(100) NOT NULL COMMENT 'token',\\n  `expire_time` datetime DEFAULT NULL COMMENT '过期时间',\\n  `update_time` datetime DEFAULT NULL COMMENT '更新时间',\\n  PRIMARY KEY (`user_id`),\\n  UNIQUE KEY `token` (`token`)\\n) ENGINE=InnoDB DEFAULT CHARSET=utf8 COMMENT='系统用户Token';</td>\n",
       "      <td>-- 系统用户Token\\nCREATE TABLE `sys_user_token` (\\n  `user_id` bigint(20) NOT NULL,\\n  `token` varchar(100) NOT NULL COMMENT 'token',\\n  `expire_time` datetime DEFAULT NULL COMMENT '过期时间',\\n  `update_time` datetime DEFAULT NULL COMMENT '更新时间',\\n  PRIMARY KEY (`user_id`),\\n  UNIQUE KEY `token` (`token`)\\n) ENGINE=InnoDB DEFAULT CHARSET=utf8 COMMENT='系统用户Token';</td>\n",
       "    </tr>\n",
       "    <tr>\n",
       "      <th>4</th>\n",
       "      <td>503958</td>\n",
       "      <td>4</td>\n",
       "      <td>\"`\"</td>\n",
       "      <td>syntax error at or near \"`\", at index 15</td>\n",
       "      <td>ABLE `sys_role` (\\n  `role_id` bigint NOT NULL AUTO_INCREMENT,\\n  `role_name` varchar(100) COMMENT '角色名称',\\n  `remark` varchar(100) COMMENT '备注',\\n  `dept_id` bigint(20) COMMENT '部门ID',\\n  `create_time` datetime COMMENT '创建时间',\\n  PRIMARY KEY (`role_id`)\\n) ENGINE=InnoDB DEFAULT CHARSET=utf8 COMMENT='角色';</td>\n",
       "      <td>-- 角色\\nCREATE TABLE `sys_role` (\\n  `role_id` bigint NOT NULL AUTO_INCREMENT,\\n  `role_name` varchar(100) COMMENT '角色名称',\\n  `remark` varchar(100) COMMENT '备注',\\n  `dept_id` bigint(20) COMMENT '部门ID',\\n  `create_time` datetime COMMENT '创建时间',\\n  PRIMARY KEY (`role_id`)\\n) ENGINE=InnoDB DEFAULT CHARSET=utf8 COMMENT='角色';</td>\n",
       "    </tr>\n",
       "  </tbody>\n",
       "</table>\n",
       "</div>"
      ],
      "text/plain": [
       "  file_id  statement_nr trunc_err                               parse_error                                                                                                                                                                                                                                                                                                                                                                                                                                                                                                              original_highlight                                                                                                                                                                                                                                                                                                                                                                                                                                                                                                                                     original\n",
       "0  503958  0             \"`\"       syntax error at or near \"`\", at index 15  ABLE `sys_menu` (\\n  `menu_id` bigint NOT NULL AUTO_INCREMENT,\\n  `parent_id` bigint COMMENT '父菜单ID，一级菜单为0',\\n  `name` varchar(50) COMMENT '菜单名称',\\n  `url` varchar(200) COMMENT '菜单URL',\\n  `perms` varchar(500) COMMENT '授权(多个用逗号分隔，如：user:list,user:create)',\\n  `type` int COMMENT '类型   0：目录   1：菜单   2：按钮',\\n  `icon` varchar(50) COMMENT '菜单图标',\\n  `order_num` int COMMENT '排序',\\n  PRIMARY KEY (`menu_id`)\\n) ENGINE=InnoDB DEFAULT CHARSET=utf8 COMMENT='菜单管理';                                                       -- 菜单\\nCREATE TABLE `sys_menu` (\\n  `menu_id` bigint NOT NULL AUTO_INCREMENT,\\n  `parent_id` bigint COMMENT '父菜单ID，一级菜单为0',\\n  `name` varchar(50) COMMENT '菜单名称',\\n  `url` varchar(200) COMMENT '菜单URL',\\n  `perms` varchar(500) COMMENT '授权(多个用逗号分隔，如：user:list,user:create)',\\n  `type` int COMMENT '类型   0：目录   1：菜单   2：按钮',\\n  `icon` varchar(50) COMMENT '菜单图标',\\n  `order_num` int COMMENT '排序',\\n  PRIMARY KEY (`menu_id`)\\n) ENGINE=InnoDB DEFAULT CHARSET=utf8 COMMENT='菜单管理';                                                   \n",
       "1  503958  1             \"`\"       syntax error at or near \"`\", at index 15  ABLE `sys_dept` (\\n  `dept_id` bigint NOT NULL AUTO_INCREMENT,\\n  `parent_id` bigint COMMENT '上级部门ID，一级部门为0',\\n  `name` varchar(50) COMMENT '部门名称',\\n  `order_num` int COMMENT '排序',\\n  `del_flag` tinyint DEFAULT 0 COMMENT '是否删除  -1：已删除  0：正常',\\n  PRIMARY KEY (`dept_id`)\\n) ENGINE=InnoDB DEFAULT CHARSET=utf8 COMMENT='部门管理';                                                                                                                                                                                             -- 部门\\nCREATE TABLE `sys_dept` (\\n  `dept_id` bigint NOT NULL AUTO_INCREMENT,\\n  `parent_id` bigint COMMENT '上级部门ID，一级部门为0',\\n  `name` varchar(50) COMMENT '部门名称',\\n  `order_num` int COMMENT '排序',\\n  `del_flag` tinyint DEFAULT 0 COMMENT '是否删除  -1：已删除  0：正常',\\n  PRIMARY KEY (`dept_id`)\\n) ENGINE=InnoDB DEFAULT CHARSET=utf8 COMMENT='部门管理';                                                                                                                                                                                         \n",
       "2  503958  2             \"`\"       syntax error at or near \"`\", at index 13  TE TABLE `sys_user` (\\n  `user_id` bigint NOT NULL AUTO_INCREMENT,\\n  `username` varchar(50) NOT NULL COMMENT '用户名',\\n  `password` varchar(100) COMMENT '密码',\\n  `salt` varchar(20) COMMENT '盐',\\n  `email` varchar(100) COMMENT '邮箱',\\n  `mobile` varchar(100) COMMENT '手机号',\\n  `status` tinyint COMMENT '状态  0：禁用   1：正常',\\n  `dept_id` bigint(20) COMMENT '部门ID',\\n  `create_time` datetime COMMENT '创建时间',\\n  PRIMARY KEY (`user_id`),\\n  UNIQUE INDEX (`username`)\\n) ENGINE=InnoDB DEFAULT CHARSET=utf8 COMMENT='系统用户';  -- 系统用户\\nCREATE TABLE `sys_user` (\\n  `user_id` bigint NOT NULL AUTO_INCREMENT,\\n  `username` varchar(50) NOT NULL COMMENT '用户名',\\n  `password` varchar(100) COMMENT '密码',\\n  `salt` varchar(20) COMMENT '盐',\\n  `email` varchar(100) COMMENT '邮箱',\\n  `mobile` varchar(100) COMMENT '手机号',\\n  `status` tinyint COMMENT '状态  0：禁用   1：正常',\\n  `dept_id` bigint(20) COMMENT '部门ID',\\n  `create_time` datetime COMMENT '创建时间',\\n  PRIMARY KEY (`user_id`),\\n  UNIQUE INDEX (`username`)\\n) ENGINE=InnoDB DEFAULT CHARSET=utf8 COMMENT='系统用户';\n",
       "3  503958  3             \"`\"       syntax error at or near \"`\", at index 18  TE TABLE `sys_user_token` (\\n  `user_id` bigint(20) NOT NULL,\\n  `token` varchar(100) NOT NULL COMMENT 'token',\\n  `expire_time` datetime DEFAULT NULL COMMENT '过期时间',\\n  `update_time` datetime DEFAULT NULL COMMENT '更新时间',\\n  PRIMARY KEY (`user_id`),\\n  UNIQUE KEY `token` (`token`)\\n) ENGINE=InnoDB DEFAULT CHARSET=utf8 COMMENT='系统用户Token';                                                                                                                                                                            -- 系统用户Token\\nCREATE TABLE `sys_user_token` (\\n  `user_id` bigint(20) NOT NULL,\\n  `token` varchar(100) NOT NULL COMMENT 'token',\\n  `expire_time` datetime DEFAULT NULL COMMENT '过期时间',\\n  `update_time` datetime DEFAULT NULL COMMENT '更新时间',\\n  PRIMARY KEY (`user_id`),\\n  UNIQUE KEY `token` (`token`)\\n) ENGINE=InnoDB DEFAULT CHARSET=utf8 COMMENT='系统用户Token';                                                                                                                                                                     \n",
       "4  503958  4             \"`\"       syntax error at or near \"`\", at index 15  ABLE `sys_role` (\\n  `role_id` bigint NOT NULL AUTO_INCREMENT,\\n  `role_name` varchar(100) COMMENT '角色名称',\\n  `remark` varchar(100) COMMENT '备注',\\n  `dept_id` bigint(20) COMMENT '部门ID',\\n  `create_time` datetime COMMENT '创建时间',\\n  PRIMARY KEY (`role_id`)\\n) ENGINE=InnoDB DEFAULT CHARSET=utf8 COMMENT='角色';                                                                                                                                                                                                              -- 角色\\nCREATE TABLE `sys_role` (\\n  `role_id` bigint NOT NULL AUTO_INCREMENT,\\n  `role_name` varchar(100) COMMENT '角色名称',\\n  `remark` varchar(100) COMMENT '备注',\\n  `dept_id` bigint(20) COMMENT '部门ID',\\n  `create_time` datetime COMMENT '创建时间',\\n  PRIMARY KEY (`role_id`)\\n) ENGINE=InnoDB DEFAULT CHARSET=utf8 COMMENT='角色';                                                                                                                                                                                                          "
      ]
     },
     "execution_count": 21,
     "metadata": {},
     "output_type": "execute_result"
    }
   ],
   "source": [
    "mysql_check.head()"
   ]
  },
  {
   "attachments": {},
   "cell_type": "markdown",
   "metadata": {},
   "source": [
    "### Writing down without mysql"
   ]
  },
  {
   "cell_type": "code",
   "execution_count": 22,
   "metadata": {},
   "outputs": [],
   "source": [
    "no_mysql = not_parsed_trunc[\n",
    "    ~(not_parsed_trunc.trunc_err == '\"`\"')\n",
    "]"
   ]
  },
  {
   "cell_type": "code",
   "execution_count": 23,
   "metadata": {},
   "outputs": [
    {
     "name": "stdout",
     "output_type": "stream",
     "text": [
      "[########################################] | 100% Completed | 20.39 s\n"
     ]
    }
   ],
   "source": [
    "no_mysql.to_parquet('../out_new/pglast_details_not_parsed_only_without_mysql/',schema=not_parsed_schema,overwrite=True,\n",
    "                      compute_kwargs={'scheduler':'processes'})"
   ]
  },
  {
   "attachments": {},
   "cell_type": "markdown",
   "metadata": {},
   "source": [
    "## Reading without mysql"
   ]
  },
  {
   "cell_type": "code",
   "execution_count": 24,
   "metadata": {},
   "outputs": [],
   "source": [
    "not_parsed_no_mysql = dd.read_parquet('../out_new/pglast_details_not_parsed_only_without_mysql/', columns = not_parsed_schema.names ,schema=not_parsed_schema, split_row_groups=True, calculate_divisions=True,engine='pyarrow')"
   ]
  },
  {
   "cell_type": "code",
   "execution_count": 25,
   "metadata": {},
   "outputs": [
    {
     "name": "stdout",
     "output_type": "stream",
     "text": [
      "[########################################] | 100% Completed | 4.04 ss\n",
      "[########################################] | 100% Completed | 5.83 ss\n",
      "(2565786, 247094)\n"
     ]
    }
   ],
   "source": [
    "print(get_stmt_and_file_count(not_parsed_no_mysql))"
   ]
  },
  {
   "cell_type": "code",
   "execution_count": 26,
   "metadata": {},
   "outputs": [
    {
     "name": "stdout",
     "output_type": "stream",
     "text": [
      "[########################################] | 100% Completed | 5.37 ss\n"
     ]
    }
   ],
   "source": [
    "errcounts = not_parsed_no_mysql['trunc_err'].value_counts().compute(scheduler='processes')\n",
    "err_df = pd.DataFrame({'err':errcounts.index, 'cnt':errcounts.values})"
   ]
  },
  {
   "attachments": {},
   "cell_type": "markdown",
   "metadata": {},
   "source": [
    "### UNLOCK"
   ]
  },
  {
   "cell_type": "code",
   "execution_count": 28,
   "metadata": {},
   "outputs": [
    {
     "name": "stdout",
     "output_type": "stream",
     "text": [
      "[########################################] | 100% Completed | 4.48 ss\n",
      "[########################################] | 100% Completed | 4.95 ss\n",
      "(450253, 46582)\n"
     ]
    }
   ],
   "source": [
    "unlock_check = not_parsed_no_mysql[\n",
    "    (not_parsed_no_mysql.trunc_err.str.contains('UNLOCK',case=False,regex=False))\n",
    "]\n",
    "print(get_stmt_and_file_count(unlock_check))"
   ]
  },
  {
   "cell_type": "code",
   "execution_count": 29,
   "metadata": {},
   "outputs": [
    {
     "name": "stdout",
     "output_type": "stream",
     "text": [
      "[########################################] | 100% Completed | 115.06 ms\n"
     ]
    },
    {
     "data": {
      "text/html": [
       "<div>\n",
       "<style scoped>\n",
       "    .dataframe tbody tr th:only-of-type {\n",
       "        vertical-align: middle;\n",
       "    }\n",
       "\n",
       "    .dataframe tbody tr th {\n",
       "        vertical-align: top;\n",
       "    }\n",
       "\n",
       "    .dataframe thead th {\n",
       "        text-align: right;\n",
       "    }\n",
       "</style>\n",
       "<table border=\"1\" class=\"dataframe\">\n",
       "  <thead>\n",
       "    <tr style=\"text-align: right;\">\n",
       "      <th></th>\n",
       "      <th>file_id</th>\n",
       "      <th>statement_nr</th>\n",
       "      <th>trunc_err</th>\n",
       "      <th>parse_error</th>\n",
       "      <th>original_highlight</th>\n",
       "      <th>original</th>\n",
       "    </tr>\n",
       "  </thead>\n",
       "  <tbody>\n",
       "    <tr>\n",
       "      <th>99</th>\n",
       "      <td>503990</td>\n",
       "      <td>19</td>\n",
       "      <td>\"UNLOCK\"</td>\n",
       "      <td>syntax error at or near \"UNLOCK\", at index 0</td>\n",
       "      <td>;</td>\n",
       "      <td>UNLOCK TABLES;</td>\n",
       "    </tr>\n",
       "    <tr>\n",
       "      <th>104</th>\n",
       "      <td>504003</td>\n",
       "      <td>18</td>\n",
       "      <td>\"UNLOCK\"</td>\n",
       "      <td>syntax error at or near \"UNLOCK\", at index 0</td>\n",
       "      <td>;</td>\n",
       "      <td>UNLOCK TABLES;</td>\n",
       "    </tr>\n",
       "    <tr>\n",
       "      <th>105</th>\n",
       "      <td>504003</td>\n",
       "      <td>28</td>\n",
       "      <td>\"UNLOCK\"</td>\n",
       "      <td>syntax error at or near \"UNLOCK\", at index 0</td>\n",
       "      <td>;</td>\n",
       "      <td>UNLOCK TABLES;</td>\n",
       "    </tr>\n",
       "    <tr>\n",
       "      <th>106</th>\n",
       "      <td>504003</td>\n",
       "      <td>38</td>\n",
       "      <td>\"UNLOCK\"</td>\n",
       "      <td>syntax error at or near \"UNLOCK\", at index 0</td>\n",
       "      <td>;</td>\n",
       "      <td>UNLOCK TABLES;</td>\n",
       "    </tr>\n",
       "    <tr>\n",
       "      <th>107</th>\n",
       "      <td>504003</td>\n",
       "      <td>48</td>\n",
       "      <td>\"UNLOCK\"</td>\n",
       "      <td>syntax error at or near \"UNLOCK\", at index 0</td>\n",
       "      <td>;</td>\n",
       "      <td>UNLOCK TABLES;</td>\n",
       "    </tr>\n",
       "  </tbody>\n",
       "</table>\n",
       "</div>"
      ],
      "text/plain": [
       "    file_id  statement_nr trunc_err                                   parse_error original_highlight        original\n",
       "99   503990  19            \"UNLOCK\"  syntax error at or near \"UNLOCK\", at index 0  ;                  UNLOCK TABLES;\n",
       "104  504003  18            \"UNLOCK\"  syntax error at or near \"UNLOCK\", at index 0  ;                  UNLOCK TABLES;\n",
       "105  504003  28            \"UNLOCK\"  syntax error at or near \"UNLOCK\", at index 0  ;                  UNLOCK TABLES;\n",
       "106  504003  38            \"UNLOCK\"  syntax error at or near \"UNLOCK\", at index 0  ;                  UNLOCK TABLES;\n",
       "107  504003  48            \"UNLOCK\"  syntax error at or near \"UNLOCK\", at index 0  ;                  UNLOCK TABLES;"
      ]
     },
     "execution_count": 29,
     "metadata": {},
     "output_type": "execute_result"
    }
   ],
   "source": [
    "unlock_check.head()"
   ]
  },
  {
   "attachments": {},
   "cell_type": "markdown",
   "metadata": {},
   "source": [
    "### HASHTAG"
   ]
  },
  {
   "cell_type": "code",
   "execution_count": 32,
   "metadata": {},
   "outputs": [
    {
     "name": "stdout",
     "output_type": "stream",
     "text": [
      "[########################################] | 100% Completed | 5.93 ss\n",
      "[########################################] | 100% Completed | 4.98 ss\n",
      "(149320, 14357)\n"
     ]
    }
   ],
   "source": [
    "no_unlock = not_parsed_no_mysql[\n",
    "    ~(not_parsed_no_mysql.trunc_err.str.contains('UNLOCK',case=False,regex=False))\n",
    "]\n",
    "hashtag_check = no_unlock[\n",
    "    (no_unlock.trunc_err == '\"#\"')\n",
    "]\n",
    "print(get_stmt_and_file_count(hashtag_check))"
   ]
  },
  {
   "cell_type": "code",
   "execution_count": 34,
   "metadata": {},
   "outputs": [
    {
     "name": "stdout",
     "output_type": "stream",
     "text": [
      "[########################################] | 100% Completed | 113.61 ms\n"
     ]
    },
    {
     "data": {
      "text/html": [
       "<div>\n",
       "<style scoped>\n",
       "    .dataframe tbody tr th:only-of-type {\n",
       "        vertical-align: middle;\n",
       "    }\n",
       "\n",
       "    .dataframe tbody tr th {\n",
       "        vertical-align: top;\n",
       "    }\n",
       "\n",
       "    .dataframe thead th {\n",
       "        text-align: right;\n",
       "    }\n",
       "</style>\n",
       "<table border=\"1\" class=\"dataframe\">\n",
       "  <thead>\n",
       "    <tr style=\"text-align: right;\">\n",
       "      <th></th>\n",
       "      <th>file_id</th>\n",
       "      <th>statement_nr</th>\n",
       "      <th>trunc_err</th>\n",
       "      <th>parse_error</th>\n",
       "      <th>original_highlight</th>\n",
       "      <th>original</th>\n",
       "    </tr>\n",
       "  </thead>\n",
       "  <tbody>\n",
       "    <tr>\n",
       "      <th>11722</th>\n",
       "      <td>507553</td>\n",
       "      <td>13</td>\n",
       "      <td>\"#\"</td>\n",
       "      <td>syntax error at or near \"#\", at index 0</td>\n",
       "      <td>;</td>\n",
       "      <td># Dump of table company_oauth\\n# ------------------------------------------------------------\\n\\nDROP TABLE IF EXISTS `company_oauth`;</td>\n",
       "    </tr>\n",
       "    <tr>\n",
       "      <th>5879</th>\n",
       "      <td>506212</td>\n",
       "      <td>72</td>\n",
       "      <td>\"#\"</td>\n",
       "      <td>syntax error at or near \"#\", at index 0</td>\n",
       "      <td>;</td>\n",
       "      <td>#\\n# Litter table new columns and allow birthdate to be null\\n#\\nALTER TABLE `Litter` ADD COLUMN `_litterType_key` INT(11) NOT NULL  AFTER `version` , \\nADD COLUMN `harvestDate`  DATE NULL DEFAULT NULL  AFTER `_litterType_key`,\\nADD COLUMN `numberHarvested` INT(11) NULL DEFAULT NULL  AFTER `harvestDate` ;</td>\n",
       "    </tr>\n",
       "    <tr>\n",
       "      <th>3650</th>\n",
       "      <td>505399</td>\n",
       "      <td>119</td>\n",
       "      <td>\"#\"</td>\n",
       "      <td>syntax error at or near \"#\", at index 0</td>\n",
       "      <td>;</td>\n",
       "      <td>#\\n# Table structure of table `tecno_world_woocommerce_tax_rates`\\n#\\n\\nCREATE TABLE `tecno_world_woocommerce_tax_rates` (\\n  `tax_rate_id` bigint(20) unsigned NOT NULL AUTO_INCREMENT,\\n  `tax_rate_country` varchar(2) COLLATE utf8mb4_unicode_ci NOT NULL DEFAULT '',\\n  `tax_rate_state` varchar(200) COLLATE utf8mb4_unicode_ci NOT NULL DEFAULT '',\\n  `tax_rate` varchar(8) COLLATE utf8mb4_unicode_ci NOT NULL DEFAULT '',\\n  `tax_rate_name` varchar(200) COLLATE utf8mb4_unicode_ci NOT NULL DEFAULT '',\\n  `tax_rate_priority` bigint(20) unsigned NOT NULL,\\n  `tax_rate_compound` int(1) NOT NULL DEFAULT 0,\\n  `tax_rate_shipping` int(1) NOT NULL DEFAULT 1,\\n  `tax_rate_order` bigint(20) unsigned NOT NULL,\\n  `tax_rate_class` varchar(200) COLLATE utf8mb4_unicode_ci NOT NULL DEFAULT '',\\n  PRIMARY KEY (`tax_rate_id`),</td>\n",
       "    </tr>\n",
       "    <tr>\n",
       "      <th>3595</th>\n",
       "      <td>505399</td>\n",
       "      <td>64</td>\n",
       "      <td>\"#\"</td>\n",
       "      <td>syntax error at or near \"#\", at index 0</td>\n",
       "      <td>;</td>\n",
       "      <td>#\\n# Data contents of table `tecno_world_wc_admin_note_actions`\\n#\\nINSERT INTO `tecno_world_wc_admin_note_actions` ( `action_id`, `note_id`, `name`, `label`, `query`, `status`, `is_primary`) VALUES\\n(1, 1, 'learn-more', 'Learn more', 'https://woocommerce.wordpress.com/', 'actioned', 0),\\n(2, 2, 'open-customizer', 'Open Customizer', 'customize.php', 'actioned', 0),\\n(3, 3, 'connect', 'Connect', '?page=wc-addons&amp;section=helper', 'actioned', 0) ;</td>\n",
       "    </tr>\n",
       "    <tr>\n",
       "      <th>15237</th>\n",
       "      <td>509010</td>\n",
       "      <td>10</td>\n",
       "      <td>\"#\"</td>\n",
       "      <td>syntax error at or near \"#\", at index 0</td>\n",
       "      <td>;</td>\n",
       "      <td>#Remover uma coluna em aluno\\nALTER TABLE aluno DROP cpf;</td>\n",
       "    </tr>\n",
       "  </tbody>\n",
       "</table>\n",
       "</div>"
      ],
      "text/plain": [
       "      file_id  statement_nr trunc_err                              parse_error original_highlight                                                                                                                                                                                                                                                                                                                                                                                                                                                                                                                                                                                                                                                                                                                                                                                                                                         original\n",
       "11722  507553  13            \"#\"       syntax error at or near \"#\", at index 0  ;                  # Dump of table company_oauth\\n# ------------------------------------------------------------\\n\\nDROP TABLE IF EXISTS `company_oauth`;                                                                                                                                                                                                                                                                                                                                                                                                                                                                                                                                                                                                                                                                                                         \n",
       "5879   506212  72            \"#\"       syntax error at or near \"#\", at index 0  ;                  #\\n# Litter table new columns and allow birthdate to be null\\n#\\nALTER TABLE `Litter` ADD COLUMN `_litterType_key` INT(11) NOT NULL  AFTER `version` , \\nADD COLUMN `harvestDate`  DATE NULL DEFAULT NULL  AFTER `_litterType_key`,\\nADD COLUMN `numberHarvested` INT(11) NULL DEFAULT NULL  AFTER `harvestDate` ;                                                                                                                                                                                                                                                                                                                                                                                                                                                                                                                             \n",
       "3650   505399  119           \"#\"       syntax error at or near \"#\", at index 0  ;                  #\\n# Table structure of table `tecno_world_woocommerce_tax_rates`\\n#\\n\\nCREATE TABLE `tecno_world_woocommerce_tax_rates` (\\n  `tax_rate_id` bigint(20) unsigned NOT NULL AUTO_INCREMENT,\\n  `tax_rate_country` varchar(2) COLLATE utf8mb4_unicode_ci NOT NULL DEFAULT '',\\n  `tax_rate_state` varchar(200) COLLATE utf8mb4_unicode_ci NOT NULL DEFAULT '',\\n  `tax_rate` varchar(8) COLLATE utf8mb4_unicode_ci NOT NULL DEFAULT '',\\n  `tax_rate_name` varchar(200) COLLATE utf8mb4_unicode_ci NOT NULL DEFAULT '',\\n  `tax_rate_priority` bigint(20) unsigned NOT NULL,\\n  `tax_rate_compound` int(1) NOT NULL DEFAULT 0,\\n  `tax_rate_shipping` int(1) NOT NULL DEFAULT 1,\\n  `tax_rate_order` bigint(20) unsigned NOT NULL,\\n  `tax_rate_class` varchar(200) COLLATE utf8mb4_unicode_ci NOT NULL DEFAULT '',\\n  PRIMARY KEY (`tax_rate_id`),\n",
       "3595   505399  64            \"#\"       syntax error at or near \"#\", at index 0  ;                  #\\n# Data contents of table `tecno_world_wc_admin_note_actions`\\n#\\nINSERT INTO `tecno_world_wc_admin_note_actions` ( `action_id`, `note_id`, `name`, `label`, `query`, `status`, `is_primary`) VALUES\\n(1, 1, 'learn-more', 'Learn more', 'https://woocommerce.wordpress.com/', 'actioned', 0),\\n(2, 2, 'open-customizer', 'Open Customizer', 'customize.php', 'actioned', 0),\\n(3, 3, 'connect', 'Connect', '?page=wc-addons&section=helper', 'actioned', 0) ;                                                                                                                                                                                                                                                                                                                                                                               \n",
       "15237  509010  10            \"#\"       syntax error at or near \"#\", at index 0  ;                  #Remover uma coluna em aluno\\nALTER TABLE aluno DROP cpf;                                                                                                                                                                                                                                                                                                                                                                                                                                                                                                                                                                                                                                                                                                                                                                                      "
      ]
     },
     "execution_count": 34,
     "metadata": {},
     "output_type": "execute_result"
    }
   ],
   "source": [
    "hashtag_check.sample(frac=0.6).head()"
   ]
  },
  {
   "attachments": {},
   "cell_type": "markdown",
   "metadata": {},
   "source": [
    "### ("
   ]
  },
  {
   "cell_type": "code",
   "execution_count": 35,
   "metadata": {},
   "outputs": [
    {
     "name": "stdout",
     "output_type": "stream",
     "text": [
      "[########################################] | 100% Completed | 6.77 ss\n",
      "[########################################] | 100% Completed | 6.87 ss\n",
      "(127732, 18756)\n"
     ]
    }
   ],
   "source": [
    "no_hashtag = no_unlock[\n",
    "    ~(no_unlock.trunc_err == '\"#\"')\n",
    "]\n",
    "parant_check = no_hashtag[\n",
    "    (no_hashtag.trunc_err == '\"(\"')\n",
    "]\n",
    "print(get_stmt_and_file_count(parant_check))"
   ]
  },
  {
   "cell_type": "code",
   "execution_count": 48,
   "metadata": {},
   "outputs": [
    {
     "name": "stdout",
     "output_type": "stream",
     "text": [
      "[########################################] | 100% Completed | 17.18 s\n",
      "[########################################] | 100% Completed | 22.27 s\n",
      "(99984, 14276)\n"
     ]
    }
   ],
   "source": [
    "int_parant_check = no_hashtag[\n",
    "    (no_hashtag.trunc_err == '\"(\"') &\n",
    "    (\n",
    "        (\n",
    "            (no_hashtag.original.str.contains('int\\(\\d+\\)',regex=True,case=False)) |\n",
    "            (no_hashtag.original.str.contains('INT\\(\\d+\\)',regex=True,case=False))\n",
    "        ) |\n",
    "        (\n",
    "            (no_hashtag.original_highlight.str.contains('int\\(\\d+\\)',regex=True,case=False)) |\n",
    "            (no_hashtag.original_highlight.str.contains('INT\\(\\d+\\)',regex=True,case=False))\n",
    "        ) |\n",
    "        (\n",
    "            (no_hashtag.original_highlight.str.contains('integer\\(\\d+\\)',regex=True,case=False)) |\n",
    "            (no_hashtag.original_highlight.str.contains('INTEGER\\(\\d+\\)',regex=True,case=False))\n",
    "        ) |\n",
    "        (\n",
    "            (no_hashtag.original_highlight.str.contains('UNSIGNED',regex=True,case=False))\n",
    "        )\n",
    "    )   \n",
    "]\n",
    "print(get_stmt_and_file_count(int_parant_check))"
   ]
  },
  {
   "cell_type": "code",
   "execution_count": 49,
   "metadata": {},
   "outputs": [
    {
     "name": "stdout",
     "output_type": "stream",
     "text": [
      "[########################################] | 100% Completed | 18.79 s\n",
      "[########################################] | 100% Completed | 18.89 s\n",
      "(2418, 1258)\n"
     ]
    }
   ],
   "source": [
    "index_in_create_table_check = no_hashtag[\n",
    "    (no_hashtag.trunc_err == '\"(\"') &\n",
    "    ~(\n",
    "        (\n",
    "            (no_hashtag.original.str.contains('int\\(\\d+\\)',regex=True,case=False)) |\n",
    "            (no_hashtag.original.str.contains('INT\\(\\d+\\)',regex=True,case=False))\n",
    "        ) |\n",
    "        (\n",
    "            (no_hashtag.original_highlight.str.contains('int\\(\\d+\\)',regex=True,case=False)) |\n",
    "            (no_hashtag.original_highlight.str.contains('INT\\(\\d+\\)',regex=True,case=False))\n",
    "        ) |\n",
    "        (\n",
    "            (no_hashtag.original_highlight.str.contains('integer\\(\\d+\\)',regex=True,case=False)) |\n",
    "            (no_hashtag.original_highlight.str.contains('INTEGER\\(\\d+\\)',regex=True,case=False))\n",
    "        ) |\n",
    "        (\n",
    "            (no_hashtag.original_highlight.str.contains('UNSIGNED',regex=True,case=False))\n",
    "        )\n",
    "    ) &\n",
    "    (\n",
    "        (no_hashtag.original.str.contains('CREATE TABLE',regex=False,case=False)) &\n",
    "        (no_hashtag.original.str.contains('INDEX',regex=False,case=False))\n",
    "    )\n",
    "]\n",
    "print(get_stmt_and_file_count(index_in_create_table_check))"
   ]
  },
  {
   "cell_type": "code",
   "execution_count": 50,
   "metadata": {},
   "outputs": [
    {
     "name": "stdout",
     "output_type": "stream",
     "text": [
      "[########################################] | 100% Completed | 19.78 s\n",
      "[########################################] | 100% Completed | 19.63 s\n",
      "(836, 235)\n"
     ]
    }
   ],
   "source": [
    "alter_table_add_index_check = no_hashtag[\n",
    "    (no_hashtag.trunc_err == '\"(\"') &\n",
    "    ~(\n",
    "        (\n",
    "            (no_hashtag.original.str.contains('int\\(\\d+\\)',regex=True,case=False)) |\n",
    "            (no_hashtag.original.str.contains('INT\\(\\d+\\)',regex=True,case=False))\n",
    "        ) |\n",
    "        (\n",
    "            (no_hashtag.original_highlight.str.contains('int\\(\\d+\\)',regex=True,case=False)) |\n",
    "            (no_hashtag.original_highlight.str.contains('INT\\(\\d+\\)',regex=True,case=False))\n",
    "        ) |\n",
    "        (\n",
    "            (no_hashtag.original_highlight.str.contains('integer\\(\\d+\\)',regex=True,case=False)) |\n",
    "            (no_hashtag.original_highlight.str.contains('INTEGER\\(\\d+\\)',regex=True,case=False))\n",
    "        ) |\n",
    "        (\n",
    "            (no_hashtag.original_highlight.str.contains('UNSIGNED',regex=True,case=False))\n",
    "        )\n",
    "    ) &\n",
    "    ~(\n",
    "        (no_hashtag.original.str.contains('CREATE TABLE',regex=False,case=False)) &\n",
    "        (no_hashtag.original.str.contains('INDEX',regex=False,case=False))\n",
    "    ) &\n",
    "    (\n",
    "        (no_hashtag.original.str.contains('alter table',regex=False,case=False)) &\n",
    "        (no_hashtag.original.str.contains('add index',regex=False,case=False))\n",
    "    )\n",
    "]\n",
    "print(get_stmt_and_file_count(alter_table_add_index_check))"
   ]
  },
  {
   "cell_type": "code",
   "execution_count": 53,
   "metadata": {},
   "outputs": [
    {
     "name": "stdout",
     "output_type": "stream",
     "text": [
      "[########################################] | 100% Completed | 18.07 s\n",
      "[########################################] | 100% Completed | 19.15 s\n",
      "(15910, 2267)\n"
     ]
    }
   ],
   "source": [
    "alter_table_other_check = no_hashtag[\n",
    "    (no_hashtag.trunc_err == '\"(\"') &\n",
    "    ~(\n",
    "        (\n",
    "            (no_hashtag.original.str.contains('int\\(\\d+\\)',regex=True,case=False)) |\n",
    "            (no_hashtag.original.str.contains('INT\\(\\d+\\)',regex=True,case=False))\n",
    "        ) |\n",
    "        (\n",
    "            (no_hashtag.original_highlight.str.contains('int\\(\\d+\\)',regex=True,case=False)) |\n",
    "            (no_hashtag.original_highlight.str.contains('INT\\(\\d+\\)',regex=True,case=False))\n",
    "        ) |\n",
    "        (\n",
    "            (no_hashtag.original_highlight.str.contains('integer\\(\\d+\\)',regex=True,case=False)) |\n",
    "            (no_hashtag.original_highlight.str.contains('INTEGER\\(\\d+\\)',regex=True,case=False))\n",
    "        ) |\n",
    "        (\n",
    "            (no_hashtag.original_highlight.str.contains('UNSIGNED',regex=True,case=False))\n",
    "        )\n",
    "    ) &\n",
    "    ~(\n",
    "        (no_hashtag.original.str.contains('CREATE TABLE',regex=False,case=False)) &\n",
    "        (no_hashtag.original.str.contains('INDEX',regex=False,case=False))\n",
    "    ) &\n",
    "    ~(\n",
    "        (no_hashtag.original.str.contains('alter table',regex=False,case=False)) &\n",
    "        (no_hashtag.original.str.contains('add index',regex=False,case=False))\n",
    "    ) &\n",
    "    (\n",
    "        (no_hashtag.original.str.contains('alter table',regex=False,case=False))\n",
    "    )\n",
    "]\n",
    "print(get_stmt_and_file_count(alter_table_other_check))"
   ]
  },
  {
   "cell_type": "code",
   "execution_count": 58,
   "metadata": {},
   "outputs": [
    {
     "name": "stdout",
     "output_type": "stream",
     "text": [
      "[########################################] | 100% Completed | 471.01 ms\n"
     ]
    },
    {
     "data": {
      "text/html": [
       "<div>\n",
       "<style scoped>\n",
       "    .dataframe tbody tr th:only-of-type {\n",
       "        vertical-align: middle;\n",
       "    }\n",
       "\n",
       "    .dataframe tbody tr th {\n",
       "        vertical-align: top;\n",
       "    }\n",
       "\n",
       "    .dataframe thead th {\n",
       "        text-align: right;\n",
       "    }\n",
       "</style>\n",
       "<table border=\"1\" class=\"dataframe\">\n",
       "  <thead>\n",
       "    <tr style=\"text-align: right;\">\n",
       "      <th></th>\n",
       "      <th>file_id</th>\n",
       "      <th>statement_nr</th>\n",
       "      <th>trunc_err</th>\n",
       "      <th>parse_error</th>\n",
       "      <th>original_highlight</th>\n",
       "      <th>original</th>\n",
       "    </tr>\n",
       "  </thead>\n",
       "  <tbody>\n",
       "    <tr>\n",
       "      <th>4137</th>\n",
       "      <td>505577</td>\n",
       "      <td>114</td>\n",
       "      <td>\"(\"</td>\n",
       "      <td>syntax error at or near \"(\", at index 48</td>\n",
       "      <td>(\\n  CONSTRAINT SE_REGISTRATIONS_EVENTS_FK02 \\n  FOREIGN KEY (REGISTRATION_ID) \\n  REFERENCES DB_CORE.SE_REGISTRATIONS (REGISTRATION_ID)\\n  ENABLE VALIDATE);</td>\n",
       "      <td>ALTER TABLE DB_CORE.SE_REGISTRATIONS_EVENTS ADD (\\n  CONSTRAINT SE_REGISTRATIONS_EVENTS_FK02 \\n  FOREIGN KEY (REGISTRATION_ID) \\n  REFERENCES DB_CORE.SE_REGISTRATIONS (REGISTRATION_ID)\\n  ENABLE VALIDATE);</td>\n",
       "    </tr>\n",
       "    <tr>\n",
       "      <th>1346</th>\n",
       "      <td>504557</td>\n",
       "      <td>19</td>\n",
       "      <td>\"(\"</td>\n",
       "      <td>syntax error at or near \"(\", at index 33</td>\n",
       "      <td>(\\n  CONSTRAINT FK854E14CE10A7F131 \\n  FOREIGN KEY (BANKLIBRARY_ID) \\n  REFERENCES KT.T_BANKLIBRARY (ID)\\n  ENABLE VALIDATE,\\n  CONSTRAINT FK854E14CE53BDD502 \\n  FOREIGN KEY (USER_ID) \\n  REFERENCES KT.SYS_USER (ID)\\n  ENABLE VALIDATE,\\n  CONSTRAINT FK854E14CE760A509C \\n  FOREIGN KEY (FKQRUSER_ID) \\n  REFERENCES KT.SYS_USER (ID)\\n  ENABLE VALIDATE,\\n  CONSTRAINT FK854E14CE8A7CBCAE \\n  FOREIGN KEY (ACCOUNT_ACCOUNTID_) \\n  REFERENCES KT.SYS_ACCOUNT (ACCOUNTID_)\\n  ENABLE VALIDATE,\\n  CONSTRAINT FK854E14CEC5A7F31</td>\n",
       "      <td>ALTER TABLE KT.T_ACCOUNTDEAL ADD (\\n  CONSTRAINT FK854E14CE10A7F131 \\n  FOREIGN KEY (BANKLIBRARY_ID) \\n  REFERENCES KT.T_BANKLIBRARY (ID)\\n  ENABLE VALIDATE,\\n  CONSTRAINT FK854E14CE53BDD502 \\n  FOREIGN KEY (USER_ID) \\n  REFERENCES KT.SYS_USER (ID)\\n  ENABLE VALIDATE,\\n  CONSTRAINT FK854E14CE760A509C \\n  FOREIGN KEY (FKQRUSER_ID) \\n  REFERENCES KT.SYS_USER (ID)\\n  ENABLE VALIDATE,\\n  CONSTRAINT FK854E14CE8A7CBCAE \\n  FOREIGN KEY (ACCOUNT_ACCOUNTID_) \\n  REFERENCES KT.SYS_ACCOUNT (ACCOUNTID_)\\n  ENABLE VALIDATE,\\n  CONSTRAINT FK854E14CEC5A7F31 \\n  FOREIGN KEY (ACCOUNTDEAL_ID) \\n  REFERENCES KT.T_ACCOUNTDEAL (ID)\\n  ENABLE VALIDATE,\\n  CONSTRAINT FK854E14CEECE7B6FA \\n  FOREIGN KEY (CHECKUSER_ID) \\n  REFERENCES KT.SYS_USER (ID)\\n  ENABLE VALIDATE,\\n  CONSTRAINT FK854E14CEFAA8AE9F \\n  FOREIGN KEY (HKUSER_ID) \\n  REFEREN</td>\n",
       "    </tr>\n",
       "    <tr>\n",
       "      <th>4125</th>\n",
       "      <td>505577</td>\n",
       "      <td>102</td>\n",
       "      <td>\"(\"</td>\n",
       "      <td>syntax error at or near \"(\", at index 47</td>\n",
       "      <td>(\\n  CONSTRAINT SE_NOTIFICATIONS_USERS_FK01 \\n  FOREIGN KEY (NOTIFICATION_ID) \\n  REFERENCES DB_CORE.SE_NOTIFICATIONS (NOTIFICATION_ID)\\n  ENABLE VALIDATE);</td>\n",
       "      <td>ALTER TABLE DB_CORE.SE_NOTIFICATIONS_USERS ADD (\\n  CONSTRAINT SE_NOTIFICATIONS_USERS_FK01 \\n  FOREIGN KEY (NOTIFICATION_ID) \\n  REFERENCES DB_CORE.SE_NOTIFICATIONS (NOTIFICATION_ID)\\n  ENABLE VALIDATE);</td>\n",
       "    </tr>\n",
       "    <tr>\n",
       "      <th>13612</th>\n",
       "      <td>508376</td>\n",
       "      <td>32</td>\n",
       "      <td>\"(\"</td>\n",
       "      <td>syntax error at or near \"(\", at index 23</td>\n",
       "      <td>(telClient NUMBER(12) NOT NULL);</td>\n",
       "      <td>ALTER TABLE Client ADD (telClient NUMBER(12) NOT NULL);</td>\n",
       "    </tr>\n",
       "    <tr>\n",
       "      <th>4117</th>\n",
       "      <td>505577</td>\n",
       "      <td>94</td>\n",
       "      <td>\"(\"</td>\n",
       "      <td>syntax error at or near \"(\", at index 45</td>\n",
       "      <td>(\\n  CONSTRAINT SE_ROLES_PERMISSIONS_FK02 \\n  FOREIGN KEY (PERMISSION_ID) \\n  REFERENCES DB_CORE.SE_PERMISSIONS (PERMISSION_ID)\\n  ENABLE VALIDATE);</td>\n",
       "      <td>ALTER TABLE DB_CORE.SE_ROLES_PERMISSIONS ADD (\\n  CONSTRAINT SE_ROLES_PERMISSIONS_FK02 \\n  FOREIGN KEY (PERMISSION_ID) \\n  REFERENCES DB_CORE.SE_PERMISSIONS (PERMISSION_ID)\\n  ENABLE VALIDATE);</td>\n",
       "    </tr>\n",
       "  </tbody>\n",
       "</table>\n",
       "</div>"
      ],
      "text/plain": [
       "      file_id  statement_nr trunc_err                               parse_error                                                                                                                                                                                                                                                                                                                                                                                                                                                                                                                     original_highlight                                                                                                                                                                                                                                                                                                                                                                                                                                                                                                                                                                                                                                                                                                                                                                                                                                                     original\n",
       "4137   505577  114           \"(\"       syntax error at or near \"(\", at index 48   (\\n  CONSTRAINT SE_REGISTRATIONS_EVENTS_FK02 \\n  FOREIGN KEY (REGISTRATION_ID) \\n  REFERENCES DB_CORE.SE_REGISTRATIONS (REGISTRATION_ID)\\n  ENABLE VALIDATE);                                                                                                                                                                                                                                                                                                                                                                         ALTER TABLE DB_CORE.SE_REGISTRATIONS_EVENTS ADD (\\n  CONSTRAINT SE_REGISTRATIONS_EVENTS_FK02 \\n  FOREIGN KEY (REGISTRATION_ID) \\n  REFERENCES DB_CORE.SE_REGISTRATIONS (REGISTRATION_ID)\\n  ENABLE VALIDATE);                                                                                                                                                                                                                                                                                                                                                                                                                                                                                                                                                                                                                                              \n",
       "1346   504557  19            \"(\"       syntax error at or near \"(\", at index 33   (\\n  CONSTRAINT FK854E14CE10A7F131 \\n  FOREIGN KEY (BANKLIBRARY_ID) \\n  REFERENCES KT.T_BANKLIBRARY (ID)\\n  ENABLE VALIDATE,\\n  CONSTRAINT FK854E14CE53BDD502 \\n  FOREIGN KEY (USER_ID) \\n  REFERENCES KT.SYS_USER (ID)\\n  ENABLE VALIDATE,\\n  CONSTRAINT FK854E14CE760A509C \\n  FOREIGN KEY (FKQRUSER_ID) \\n  REFERENCES KT.SYS_USER (ID)\\n  ENABLE VALIDATE,\\n  CONSTRAINT FK854E14CE8A7CBCAE \\n  FOREIGN KEY (ACCOUNT_ACCOUNTID_) \\n  REFERENCES KT.SYS_ACCOUNT (ACCOUNTID_)\\n  ENABLE VALIDATE,\\n  CONSTRAINT FK854E14CEC5A7F31   ALTER TABLE KT.T_ACCOUNTDEAL ADD (\\n  CONSTRAINT FK854E14CE10A7F131 \\n  FOREIGN KEY (BANKLIBRARY_ID) \\n  REFERENCES KT.T_BANKLIBRARY (ID)\\n  ENABLE VALIDATE,\\n  CONSTRAINT FK854E14CE53BDD502 \\n  FOREIGN KEY (USER_ID) \\n  REFERENCES KT.SYS_USER (ID)\\n  ENABLE VALIDATE,\\n  CONSTRAINT FK854E14CE760A509C \\n  FOREIGN KEY (FKQRUSER_ID) \\n  REFERENCES KT.SYS_USER (ID)\\n  ENABLE VALIDATE,\\n  CONSTRAINT FK854E14CE8A7CBCAE \\n  FOREIGN KEY (ACCOUNT_ACCOUNTID_) \\n  REFERENCES KT.SYS_ACCOUNT (ACCOUNTID_)\\n  ENABLE VALIDATE,\\n  CONSTRAINT FK854E14CEC5A7F31 \\n  FOREIGN KEY (ACCOUNTDEAL_ID) \\n  REFERENCES KT.T_ACCOUNTDEAL (ID)\\n  ENABLE VALIDATE,\\n  CONSTRAINT FK854E14CEECE7B6FA \\n  FOREIGN KEY (CHECKUSER_ID) \\n  REFERENCES KT.SYS_USER (ID)\\n  ENABLE VALIDATE,\\n  CONSTRAINT FK854E14CEFAA8AE9F \\n  FOREIGN KEY (HKUSER_ID) \\n  REFEREN\n",
       "4125   505577  102           \"(\"       syntax error at or near \"(\", at index 47   (\\n  CONSTRAINT SE_NOTIFICATIONS_USERS_FK01 \\n  FOREIGN KEY (NOTIFICATION_ID) \\n  REFERENCES DB_CORE.SE_NOTIFICATIONS (NOTIFICATION_ID)\\n  ENABLE VALIDATE);                                                                                                                                                                                                                                                                                                                                                                          ALTER TABLE DB_CORE.SE_NOTIFICATIONS_USERS ADD (\\n  CONSTRAINT SE_NOTIFICATIONS_USERS_FK01 \\n  FOREIGN KEY (NOTIFICATION_ID) \\n  REFERENCES DB_CORE.SE_NOTIFICATIONS (NOTIFICATION_ID)\\n  ENABLE VALIDATE);                                                                                                                                                                                                                                                                                                                                                                                                                                                                                                                                                                                                                                                \n",
       "13612  508376  32            \"(\"       syntax error at or near \"(\", at index 23   (telClient NUMBER(12) NOT NULL);                                                                                                                                                                                                                                                                                                                                                                                                                                                                                                      ALTER TABLE Client ADD (telClient NUMBER(12) NOT NULL);                                                                                                                                                                                                                                                                                                                                                                                                                                                                                                                                                                                                                                                                                                                                                                                                    \n",
       "4117   505577  94            \"(\"       syntax error at or near \"(\", at index 45   (\\n  CONSTRAINT SE_ROLES_PERMISSIONS_FK02 \\n  FOREIGN KEY (PERMISSION_ID) \\n  REFERENCES DB_CORE.SE_PERMISSIONS (PERMISSION_ID)\\n  ENABLE VALIDATE);                                                                                                                                                                                                                                                                                                                                                                                  ALTER TABLE DB_CORE.SE_ROLES_PERMISSIONS ADD (\\n  CONSTRAINT SE_ROLES_PERMISSIONS_FK02 \\n  FOREIGN KEY (PERMISSION_ID) \\n  REFERENCES DB_CORE.SE_PERMISSIONS (PERMISSION_ID)\\n  ENABLE VALIDATE);                                                                                                                                                                                                                                                                                                                                                                                                                                                                                                                                                                                                                                                          "
      ]
     },
     "execution_count": 58,
     "metadata": {},
     "output_type": "execute_result"
    }
   ],
   "source": [
    "alter_table_other_check.sample(frac=0.6).head().head()"
   ]
  },
  {
   "attachments": {},
   "cell_type": "markdown",
   "metadata": {},
   "source": [
    "### AUTO_INCREMENT"
   ]
  },
  {
   "cell_type": "code",
   "execution_count": 63,
   "metadata": {},
   "outputs": [
    {
     "name": "stdout",
     "output_type": "stream",
     "text": [
      "[########################################] | 100% Completed | 5.56 ss\n",
      "[########################################] | 100% Completed | 5.79 ss\n",
      "(180370, 39171)\n"
     ]
    }
   ],
   "source": [
    "no_parant = no_hashtag[\n",
    "    ~(no_hashtag.trunc_err == '\"(\"')\n",
    "]\n",
    "auto_incr_check = no_parant[\n",
    "    (no_parant.trunc_err.str.contains(\"AUTO_INCREMENT\",case=False,regex=False))\n",
    "]\n",
    "print(get_stmt_and_file_count(auto_incr_check))\n",
    "#auto_incr_check.sample(frac=0.6).head()"
   ]
  },
  {
   "cell_type": "code",
   "execution_count": 60,
   "metadata": {},
   "outputs": [
    {
     "name": "stdout",
     "output_type": "stream",
     "text": [
      "[########################################] | 100% Completed | 118.96 ms\n"
     ]
    },
    {
     "data": {
      "text/html": [
       "<div>\n",
       "<style scoped>\n",
       "    .dataframe tbody tr th:only-of-type {\n",
       "        vertical-align: middle;\n",
       "    }\n",
       "\n",
       "    .dataframe tbody tr th {\n",
       "        vertical-align: top;\n",
       "    }\n",
       "\n",
       "    .dataframe thead th {\n",
       "        text-align: right;\n",
       "    }\n",
       "</style>\n",
       "<table border=\"1\" class=\"dataframe\">\n",
       "  <thead>\n",
       "    <tr style=\"text-align: right;\">\n",
       "      <th></th>\n",
       "      <th>file_id</th>\n",
       "      <th>statement_nr</th>\n",
       "      <th>trunc_err</th>\n",
       "      <th>parse_error</th>\n",
       "      <th>original_highlight</th>\n",
       "      <th>original</th>\n",
       "    </tr>\n",
       "  </thead>\n",
       "  <tbody>\n",
       "    <tr>\n",
       "      <th>5405</th>\n",
       "      <td>506072</td>\n",
       "      <td>190</td>\n",
       "      <td>\"AUTO_INCREMENT\"</td>\n",
       "      <td>syntax error at or near \"AUTO_INCREMENT\", at index 84</td>\n",
       "      <td>AUTO_INCREMENT,\\n            NAME VARCHAR(255) NOT NULL,\\n            DISPLAY_NAME VARCHAR(255) NOT NULL,\\n            DESCRIPTION VARCHAR(512),\\n            TENANT_ID INTEGER NOT NULL DEFAULT -1,\\n            PRIMARY KEY (SCOPE_ID)\\n)ENGINE INNODB;</td>\n",
       "      <td>CREATE TABLE IF NOT EXISTS IDN_OAUTH2_SCOPE (\\n            SCOPE_ID INTEGER NOT NULL AUTO_INCREMENT,\\n            NAME VARCHAR(255) NOT NULL,\\n            DISPLAY_NAME VARCHAR(255) NOT NULL,\\n            DESCRIPTION VARCHAR(512),\\n            TENANT_ID INTEGER NOT NULL DEFAULT -1,\\n            PRIMARY KEY (SCOPE_ID)\\n)ENGINE INNODB;</td>\n",
       "    </tr>\n",
       "    <tr>\n",
       "      <th>15561</th>\n",
       "      <td>509135</td>\n",
       "      <td>0</td>\n",
       "      <td>\"AUTO_INCREMENT\"</td>\n",
       "      <td>syntax error at or near \"AUTO_INCREMENT\", at index 58</td>\n",
       "      <td>AUTO_INCREMENT,\\n    FIRST_NAME         \\t\\tVARCHAR(100) NOT NULL,\\n    LAST_NAME          \\t\\tVARCHAR(50) NOT NULL,  -- changed the size of lastname\\n    COMPANY_NAME       \\t\\tVARCHAR(500),\\n    NATIVE_LANGUAGE    \\t\\tVARCHAR(50),\\n    EMAIL              \\t\\tVARCHAR(75) NOT NULL UNIQUE,  -- changed length, added unique constraint\\n    PRIMARY_MOBILE     \\t\\tVARCHAR(15) NOT NULL,  -- changed length \\t\\n    SECONDARY_MOBILE   \\t\\tVARCHAR(15),  -- changed length\\n--    USER_NAME          \\t\\tVARCHAR(50) NOT NULL UNIQUE,</td>\n",
       "      <td>CREATE TABLE USERS(\\n    USER_ID            \\t\\tINT NOT NULL AUTO_INCREMENT,\\n    FIRST_NAME         \\t\\tVARCHAR(100) NOT NULL,\\n    LAST_NAME          \\t\\tVARCHAR(50) NOT NULL,  -- changed the size of lastname\\n    COMPANY_NAME       \\t\\tVARCHAR(500),\\n    NATIVE_LANGUAGE    \\t\\tVARCHAR(50),\\n    EMAIL              \\t\\tVARCHAR(75) NOT NULL UNIQUE,  -- changed length, added unique constraint\\n    PRIMARY_MOBILE     \\t\\tVARCHAR(15) NOT NULL,  -- changed length \\t\\n    SECONDARY_MOBILE   \\t\\tVARCHAR(15),  -- changed length\\n--    USER_NAME          \\t\\tVARCHAR(50) NOT NULL UNIQUE,\\n--    PASSWORD           \\t\\tVARCHAR(50) NOT NULL,\\n    USER_TYPE\\t\\t\\t\\tVARCHAR(50) NOT NULL,  -- Added\\n    REMARKS            \\t\\tTEXT,\\n\\tSTATUS\\t\\t\\t\\t\\tVARCHAR(30) NOT NULL,\\n    MOBILE_VERIFIED_FLAG \\tCHAR(1) NOT NULL DEFAULT 'N',\\n    ID_VERIFIED_FLAG</td>\n",
       "    </tr>\n",
       "    <tr>\n",
       "      <th>6792</th>\n",
       "      <td>506480</td>\n",
       "      <td>7</td>\n",
       "      <td>\"AUTO_INCREMENT\"</td>\n",
       "      <td>syntax error at or near \"AUTO_INCREMENT\", at index 71</td>\n",
       "      <td>AUTO_INCREMENT PRIMARY KEY,\\n    status\\tVARCHAR(20)    DEFAULT 'pending',\\n\\tname    VARCHAR(200)       DEFAULT 'none',\\n    user_id    MEDIUMINT       DEFAULT 1,\\n    street_address VARCHAR(200)\\tDEFAULT 'none',\\n    city VARCHAR(200)\\tDEFAULT 'none',\\n    state VARCHAR(50)\\tDEFAULT 'none',\\n    zip VARCHAR(20)\\tDEFAULT 'none',\\n    attention VARCHAR(200)\\tDEFAULT 'none',\\n    active\\tVARCHAR(20)    DEFAULT 'true',\\n    dt    TIMESTAMP NOT NULL DEFAULT CURRENT_TIMESTAMP,\\n\\n    FOREIGN KEY (user_id) REFERENCES u</td>\n",
       "      <td>CREATE TABLE IF NOT EXISTS invoice(\\n    invoice_id\\tMEDIUMINT \\tNOT NULL AUTO_INCREMENT PRIMARY KEY,\\n    status\\tVARCHAR(20)    DEFAULT 'pending',\\n\\tname    VARCHAR(200)       DEFAULT 'none',\\n    user_id    MEDIUMINT       DEFAULT 1,\\n    street_address VARCHAR(200)\\tDEFAULT 'none',\\n    city VARCHAR(200)\\tDEFAULT 'none',\\n    state VARCHAR(50)\\tDEFAULT 'none',\\n    zip VARCHAR(20)\\tDEFAULT 'none',\\n    attention VARCHAR(200)\\tDEFAULT 'none',\\n    active\\tVARCHAR(20)    DEFAULT 'true',\\n    dt    TIMESTAMP NOT NULL DEFAULT CURRENT_TIMESTAMP,\\n\\n    FOREIGN KEY (user_id) REFERENCES user(user_id)\\n)ENGINE = InnoDB;</td>\n",
       "    </tr>\n",
       "    <tr>\n",
       "      <th>26</th>\n",
       "      <td>503960</td>\n",
       "      <td>50</td>\n",
       "      <td>\"AUTO_INCREMENT\"</td>\n",
       "      <td>syntax error at or near \"AUTO_INCREMENT\", at index 46</td>\n",
       "      <td>AUTO_INCREMENT PRIMARY KEY,\\n\\tpatient_fk      INTEGER,\\n\\tsps_id\\t\\t\\tVARCHAR(250) BINARY NOT NULL,\\n\\tstart_datetime\\tDATETIME NOT NULL,\\n\\tstation_aet     VARCHAR(250) BINARY NOT NULL,\\n\\tmodality\\t    VARCHAR(250) BINARY NOT NULL,\\n\\tperf_physician  VARCHAR(250),\\n\\treq_proc_id    \\tVARCHAR(250) BINARY NOT NULL,\\n\\taccession_no\\tVARCHAR(250) BINARY,\\n\\titem_attrs\\t\\tBLOB,\\nFOREIGN KEY (patient_fk) REFERENCES patient(pk)\\n);</td>\n",
       "      <td>CREATE TABLE mwl_item (\\n\\tpk          \\tINTEGER AUTO_INCREMENT PRIMARY KEY,\\n\\tpatient_fk      INTEGER,\\n\\tsps_id\\t\\t\\tVARCHAR(250) BINARY NOT NULL,\\n\\tstart_datetime\\tDATETIME NOT NULL,\\n\\tstation_aet     VARCHAR(250) BINARY NOT NULL,\\n\\tmodality\\t    VARCHAR(250) BINARY NOT NULL,\\n\\tperf_physician  VARCHAR(250),\\n\\treq_proc_id    \\tVARCHAR(250) BINARY NOT NULL,\\n\\taccession_no\\tVARCHAR(250) BINARY,\\n\\titem_attrs\\t\\tBLOB,\\nFOREIGN KEY (patient_fk) REFERENCES patient(pk)\\n);</td>\n",
       "    </tr>\n",
       "    <tr>\n",
       "      <th>14260</th>\n",
       "      <td>508732</td>\n",
       "      <td>7</td>\n",
       "      <td>\"AUTO_INCREMENT\"</td>\n",
       "      <td>syntax error at or near \"AUTO_INCREMENT\", at index 48</td>\n",
       "      <td>AUTO_INCREMENT,\\n    role_name VARCHAR(255)\\n);</td>\n",
       "      <td>CREATE TABLE role (\\n    role_id INT PRIMARY KEY AUTO_INCREMENT,\\n    role_name VARCHAR(255)\\n);</td>\n",
       "    </tr>\n",
       "  </tbody>\n",
       "</table>\n",
       "</div>"
      ],
      "text/plain": [
       "      file_id  statement_nr         trunc_err                                            parse_error                                                                                                                                                                                                                                                                                                                                                                                                                                                                                                                             original_highlight                                                                                                                                                                                                                                                                                                                                                                                                                                                                                                                                                                                                                                                                                                                                                                                                                                                                           original\n",
       "5405   506072  190           \"AUTO_INCREMENT\"  syntax error at or near \"AUTO_INCREMENT\", at index 84   AUTO_INCREMENT,\\n            NAME VARCHAR(255) NOT NULL,\\n            DISPLAY_NAME VARCHAR(255) NOT NULL,\\n            DESCRIPTION VARCHAR(512),\\n            TENANT_ID INTEGER NOT NULL DEFAULT -1,\\n            PRIMARY KEY (SCOPE_ID)\\n)ENGINE INNODB;                                                                                                                                                                                                                                                                                     CREATE TABLE IF NOT EXISTS IDN_OAUTH2_SCOPE (\\n            SCOPE_ID INTEGER NOT NULL AUTO_INCREMENT,\\n            NAME VARCHAR(255) NOT NULL,\\n            DISPLAY_NAME VARCHAR(255) NOT NULL,\\n            DESCRIPTION VARCHAR(512),\\n            TENANT_ID INTEGER NOT NULL DEFAULT -1,\\n            PRIMARY KEY (SCOPE_ID)\\n)ENGINE INNODB;                                                                                                                                                                                                                                                                                                                                                                                                                                                                                                                                   \n",
       "15561  509135  0             \"AUTO_INCREMENT\"  syntax error at or near \"AUTO_INCREMENT\", at index 58   AUTO_INCREMENT,\\n    FIRST_NAME         \\t\\tVARCHAR(100) NOT NULL,\\n    LAST_NAME          \\t\\tVARCHAR(50) NOT NULL,  -- changed the size of lastname\\n    COMPANY_NAME       \\t\\tVARCHAR(500),\\n    NATIVE_LANGUAGE    \\t\\tVARCHAR(50),\\n    EMAIL              \\t\\tVARCHAR(75) NOT NULL UNIQUE,  -- changed length, added unique constraint\\n    PRIMARY_MOBILE     \\t\\tVARCHAR(15) NOT NULL,  -- changed length \\t\\n    SECONDARY_MOBILE   \\t\\tVARCHAR(15),  -- changed length\\n--    USER_NAME          \\t\\tVARCHAR(50) NOT NULL UNIQUE,  CREATE TABLE USERS(\\n    USER_ID            \\t\\tINT NOT NULL AUTO_INCREMENT,\\n    FIRST_NAME         \\t\\tVARCHAR(100) NOT NULL,\\n    LAST_NAME          \\t\\tVARCHAR(50) NOT NULL,  -- changed the size of lastname\\n    COMPANY_NAME       \\t\\tVARCHAR(500),\\n    NATIVE_LANGUAGE    \\t\\tVARCHAR(50),\\n    EMAIL              \\t\\tVARCHAR(75) NOT NULL UNIQUE,  -- changed length, added unique constraint\\n    PRIMARY_MOBILE     \\t\\tVARCHAR(15) NOT NULL,  -- changed length \\t\\n    SECONDARY_MOBILE   \\t\\tVARCHAR(15),  -- changed length\\n--    USER_NAME          \\t\\tVARCHAR(50) NOT NULL UNIQUE,\\n--    PASSWORD           \\t\\tVARCHAR(50) NOT NULL,\\n    USER_TYPE\\t\\t\\t\\tVARCHAR(50) NOT NULL,  -- Added\\n    REMARKS            \\t\\tTEXT,\\n\\tSTATUS\\t\\t\\t\\t\\tVARCHAR(30) NOT NULL,\\n    MOBILE_VERIFIED_FLAG \\tCHAR(1) NOT NULL DEFAULT 'N',\\n    ID_VERIFIED_FLAG   \n",
       "6792   506480  7             \"AUTO_INCREMENT\"  syntax error at or near \"AUTO_INCREMENT\", at index 71   AUTO_INCREMENT PRIMARY KEY,\\n    status\\tVARCHAR(20)    DEFAULT 'pending',\\n\\tname    VARCHAR(200)       DEFAULT 'none',\\n    user_id    MEDIUMINT       DEFAULT 1,\\n    street_address VARCHAR(200)\\tDEFAULT 'none',\\n    city VARCHAR(200)\\tDEFAULT 'none',\\n    state VARCHAR(50)\\tDEFAULT 'none',\\n    zip VARCHAR(20)\\tDEFAULT 'none',\\n    attention VARCHAR(200)\\tDEFAULT 'none',\\n    active\\tVARCHAR(20)    DEFAULT 'true',\\n    dt    TIMESTAMP NOT NULL DEFAULT CURRENT_TIMESTAMP,\\n\\n    FOREIGN KEY (user_id) REFERENCES u       CREATE TABLE IF NOT EXISTS invoice(\\n    invoice_id\\tMEDIUMINT \\tNOT NULL AUTO_INCREMENT PRIMARY KEY,\\n    status\\tVARCHAR(20)    DEFAULT 'pending',\\n\\tname    VARCHAR(200)       DEFAULT 'none',\\n    user_id    MEDIUMINT       DEFAULT 1,\\n    street_address VARCHAR(200)\\tDEFAULT 'none',\\n    city VARCHAR(200)\\tDEFAULT 'none',\\n    state VARCHAR(50)\\tDEFAULT 'none',\\n    zip VARCHAR(20)\\tDEFAULT 'none',\\n    attention VARCHAR(200)\\tDEFAULT 'none',\\n    active\\tVARCHAR(20)    DEFAULT 'true',\\n    dt    TIMESTAMP NOT NULL DEFAULT CURRENT_TIMESTAMP,\\n\\n    FOREIGN KEY (user_id) REFERENCES user(user_id)\\n)ENGINE = InnoDB;                                                                                                                                                                                                                                 \n",
       "26     503960  50            \"AUTO_INCREMENT\"  syntax error at or near \"AUTO_INCREMENT\", at index 46   AUTO_INCREMENT PRIMARY KEY,\\n\\tpatient_fk      INTEGER,\\n\\tsps_id\\t\\t\\tVARCHAR(250) BINARY NOT NULL,\\n\\tstart_datetime\\tDATETIME NOT NULL,\\n\\tstation_aet     VARCHAR(250) BINARY NOT NULL,\\n\\tmodality\\t    VARCHAR(250) BINARY NOT NULL,\\n\\tperf_physician  VARCHAR(250),\\n\\treq_proc_id    \\tVARCHAR(250) BINARY NOT NULL,\\n\\taccession_no\\tVARCHAR(250) BINARY,\\n\\titem_attrs\\t\\tBLOB,\\nFOREIGN KEY (patient_fk) REFERENCES patient(pk)\\n);                                                                                               CREATE TABLE mwl_item (\\n\\tpk          \\tINTEGER AUTO_INCREMENT PRIMARY KEY,\\n\\tpatient_fk      INTEGER,\\n\\tsps_id\\t\\t\\tVARCHAR(250) BINARY NOT NULL,\\n\\tstart_datetime\\tDATETIME NOT NULL,\\n\\tstation_aet     VARCHAR(250) BINARY NOT NULL,\\n\\tmodality\\t    VARCHAR(250) BINARY NOT NULL,\\n\\tperf_physician  VARCHAR(250),\\n\\treq_proc_id    \\tVARCHAR(250) BINARY NOT NULL,\\n\\taccession_no\\tVARCHAR(250) BINARY,\\n\\titem_attrs\\t\\tBLOB,\\nFOREIGN KEY (patient_fk) REFERENCES patient(pk)\\n);                                                                                                                                                                                                                                                                                                                                                                                 \n",
       "14260  508732  7             \"AUTO_INCREMENT\"  syntax error at or near \"AUTO_INCREMENT\", at index 48   AUTO_INCREMENT,\\n    role_name VARCHAR(255)\\n);                                                                                                                                                                                                                                                                                                                                                                                                                                                                                               CREATE TABLE role (\\n    role_id INT PRIMARY KEY AUTO_INCREMENT,\\n    role_name VARCHAR(255)\\n);                                                                                                                                                                                                                                                                                                                                                                                                                                                                                                                                                                                                                                                                                                                                                                                 "
      ]
     },
     "execution_count": 60,
     "metadata": {},
     "output_type": "execute_result"
    }
   ],
   "source": [
    "auto_incr_check.sample(frac=0.6).head()"
   ]
  },
  {
   "attachments": {},
   "cell_type": "markdown",
   "metadata": {},
   "source": [
    "### @"
   ]
  },
  {
   "cell_type": "code",
   "execution_count": 64,
   "metadata": {},
   "outputs": [
    {
     "name": "stdout",
     "output_type": "stream",
     "text": [
      "[########################################] | 100% Completed | 6.33 ss\n",
      "[########################################] | 100% Completed | 5.51 ss\n",
      "(85724, 11244)\n"
     ]
    }
   ],
   "source": [
    "no_autoincr = no_parant[\n",
    "    ~(no_parant.trunc_err.str.contains(\"AUTO_INCREMENT\",case=False,regex=False))\n",
    "]\n",
    "arond_check = no_autoincr[\n",
    "    (no_autoincr.trunc_err == '\"@\"')\n",
    "]\n",
    "print(get_stmt_and_file_count(arond_check))\n",
    "#auto_incr_check.sample(frac=0.6).head()"
   ]
  },
  {
   "cell_type": "code",
   "execution_count": 62,
   "metadata": {},
   "outputs": [
    {
     "name": "stdout",
     "output_type": "stream",
     "text": [
      "[########################################] | 100% Completed | 120.69 ms\n"
     ]
    },
    {
     "data": {
      "text/html": [
       "<div>\n",
       "<style scoped>\n",
       "    .dataframe tbody tr th:only-of-type {\n",
       "        vertical-align: middle;\n",
       "    }\n",
       "\n",
       "    .dataframe tbody tr th {\n",
       "        vertical-align: top;\n",
       "    }\n",
       "\n",
       "    .dataframe thead th {\n",
       "        text-align: right;\n",
       "    }\n",
       "</style>\n",
       "<table border=\"1\" class=\"dataframe\">\n",
       "  <thead>\n",
       "    <tr style=\"text-align: right;\">\n",
       "      <th></th>\n",
       "      <th>file_id</th>\n",
       "      <th>statement_nr</th>\n",
       "      <th>trunc_err</th>\n",
       "      <th>parse_error</th>\n",
       "      <th>original_highlight</th>\n",
       "      <th>original</th>\n",
       "    </tr>\n",
       "  </thead>\n",
       "  <tbody>\n",
       "    <tr>\n",
       "      <th>15360</th>\n",
       "      <td>509022</td>\n",
       "      <td>351</td>\n",
       "      <td>\"@\"</td>\n",
       "      <td>syntax error at or near \"@\", at index 4</td>\n",
       "      <td>@saved_cs_client     = @@character_set_client;</td>\n",
       "      <td>SET @saved_cs_client     = @@character_set_client;</td>\n",
       "    </tr>\n",
       "    <tr>\n",
       "      <th>14075</th>\n",
       "      <td>508659</td>\n",
       "      <td>33</td>\n",
       "      <td>\"@\"</td>\n",
       "      <td>syntax error at or near \"@\", at index 47</td>\n",
       "      <td>\"@\"localhost\";</td>\n",
       "      <td>/*making users*/\\nDROP USER IF EXISTS \"readonly\"@\"localhost\";</td>\n",
       "    </tr>\n",
       "    <tr>\n",
       "      <th>7578</th>\n",
       "      <td>506766</td>\n",
       "      <td>2</td>\n",
       "      <td>\"@\"</td>\n",
       "      <td>syntax error at or near \"@\", at index 4</td>\n",
       "      <td>@OLD_SQL_MODE=@@SQL_MODE, SQL_MODE='ONLY_FULL_GROUP_BY,STRICT_TRANS_TABLES,NO_ZERO_IN_DATE,NO_ZERO_DATE,ERROR_FOR_DIVISION_BY_ZERO,NO_ENGINE_SUBSTITUTION';</td>\n",
       "      <td>SET @OLD_SQL_MODE=@@SQL_MODE, SQL_MODE='ONLY_FULL_GROUP_BY,STRICT_TRANS_TABLES,NO_ZERO_IN_DATE,NO_ZERO_DATE,ERROR_FOR_DIVISION_BY_ZERO,NO_ENGINE_SUBSTITUTION';</td>\n",
       "    </tr>\n",
       "    <tr>\n",
       "      <th>1808</th>\n",
       "      <td>504759</td>\n",
       "      <td>129</td>\n",
       "      <td>\"@\"</td>\n",
       "      <td>syntax error at or near \"@\", at index 4</td>\n",
       "      <td>@id := (SELECT LAST_INSERT_ID());</td>\n",
       "      <td>SET @id := (SELECT LAST_INSERT_ID());</td>\n",
       "    </tr>\n",
       "    <tr>\n",
       "      <th>3748</th>\n",
       "      <td>505426</td>\n",
       "      <td>0</td>\n",
       "      <td>\"@\"</td>\n",
       "      <td>syntax error at or near \"@\", at index 4</td>\n",
       "      <td>@OLD_UNIQUE_CHECKS=@@UNIQUE_CHECKS, UNIQUE_CHECKS=0;</td>\n",
       "      <td>SET @OLD_UNIQUE_CHECKS=@@UNIQUE_CHECKS, UNIQUE_CHECKS=0;</td>\n",
       "    </tr>\n",
       "  </tbody>\n",
       "</table>\n",
       "</div>"
      ],
      "text/plain": [
       "      file_id  statement_nr trunc_err                               parse_error                                                                                                                                            original_highlight                                                                                                                                                         original\n",
       "15360  509022  351           \"@\"       syntax error at or near \"@\", at index 4    @saved_cs_client     = @@character_set_client;                                                                                                               SET @saved_cs_client     = @@character_set_client;                                                                                                             \n",
       "14075  508659  33            \"@\"       syntax error at or near \"@\", at index 47  \"@\"localhost\";                                                                                                                                                /*making users*/\\nDROP USER IF EXISTS \"readonly\"@\"localhost\";                                                                                                  \n",
       "7578   506766  2             \"@\"       syntax error at or near \"@\", at index 4    @OLD_SQL_MODE=@@SQL_MODE, SQL_MODE='ONLY_FULL_GROUP_BY,STRICT_TRANS_TABLES,NO_ZERO_IN_DATE,NO_ZERO_DATE,ERROR_FOR_DIVISION_BY_ZERO,NO_ENGINE_SUBSTITUTION';  SET @OLD_SQL_MODE=@@SQL_MODE, SQL_MODE='ONLY_FULL_GROUP_BY,STRICT_TRANS_TABLES,NO_ZERO_IN_DATE,NO_ZERO_DATE,ERROR_FOR_DIVISION_BY_ZERO,NO_ENGINE_SUBSTITUTION';\n",
       "1808   504759  129           \"@\"       syntax error at or near \"@\", at index 4    @id := (SELECT LAST_INSERT_ID());                                                                                                                            SET @id := (SELECT LAST_INSERT_ID());                                                                                                                          \n",
       "3748   505426  0             \"@\"       syntax error at or near \"@\", at index 4    @OLD_UNIQUE_CHECKS=@@UNIQUE_CHECKS, UNIQUE_CHECKS=0;                                                                                                         SET @OLD_UNIQUE_CHECKS=@@UNIQUE_CHECKS, UNIQUE_CHECKS=0;                                                                                                       "
      ]
     },
     "execution_count": 62,
     "metadata": {},
     "output_type": "execute_result"
    }
   ],
   "source": [
    "arond_check.sample(frac=0.6).head()"
   ]
  },
  {
   "attachments": {},
   "cell_type": "markdown",
   "metadata": {},
   "source": [
    "### USE"
   ]
  },
  {
   "cell_type": "code",
   "execution_count": 73,
   "metadata": {},
   "outputs": [
    {
     "name": "stdout",
     "output_type": "stream",
     "text": [
      "[########################################] | 100% Completed | 6.30 ss\n",
      "[########################################] | 100% Completed | 6.13 ss\n",
      "(124250, 78847)\n"
     ]
    }
   ],
   "source": [
    "no_arond = no_autoincr[\n",
    "    ~(no_autoincr.trunc_err == '\"@\"')\n",
    "]\n",
    "use_check = no_arond[\n",
    "    (no_arond.trunc_err.str.contains('USE',case=False,regex=False))\n",
    "]\n",
    "print(get_stmt_and_file_count(use_check))\n",
    "#auto_incr_check.sample(frac=0.6).head()"
   ]
  },
  {
   "cell_type": "code",
   "execution_count": 66,
   "metadata": {},
   "outputs": [
    {
     "name": "stdout",
     "output_type": "stream",
     "text": [
      "[########################################] | 100% Completed | 108.12 ms\n"
     ]
    },
    {
     "data": {
      "text/html": [
       "<div>\n",
       "<style scoped>\n",
       "    .dataframe tbody tr th:only-of-type {\n",
       "        vertical-align: middle;\n",
       "    }\n",
       "\n",
       "    .dataframe tbody tr th {\n",
       "        vertical-align: top;\n",
       "    }\n",
       "\n",
       "    .dataframe thead th {\n",
       "        text-align: right;\n",
       "    }\n",
       "</style>\n",
       "<table border=\"1\" class=\"dataframe\">\n",
       "  <thead>\n",
       "    <tr style=\"text-align: right;\">\n",
       "      <th></th>\n",
       "      <th>file_id</th>\n",
       "      <th>statement_nr</th>\n",
       "      <th>trunc_err</th>\n",
       "      <th>parse_error</th>\n",
       "      <th>original_highlight</th>\n",
       "      <th>original</th>\n",
       "    </tr>\n",
       "  </thead>\n",
       "  <tbody>\n",
       "    <tr>\n",
       "      <th>13826</th>\n",
       "      <td>508522</td>\n",
       "      <td>81</td>\n",
       "      <td>\"USE\"</td>\n",
       "      <td>syntax error at or near \"USE\", at index 0</td>\n",
       "      <td>;</td>\n",
       "      <td>USE `android2k17`;</td>\n",
       "    </tr>\n",
       "    <tr>\n",
       "      <th>12510</th>\n",
       "      <td>507908</td>\n",
       "      <td>1</td>\n",
       "      <td>\"USE\"</td>\n",
       "      <td>syntax error at or near \"USE\", at index 0</td>\n",
       "      <td>;</td>\n",
       "      <td>USE Hotel;</td>\n",
       "    </tr>\n",
       "    <tr>\n",
       "      <th>13919</th>\n",
       "      <td>508572</td>\n",
       "      <td>1</td>\n",
       "      <td>\"USE\"</td>\n",
       "      <td>syntax error at or near \"USE\", at index 0</td>\n",
       "      <td>;</td>\n",
       "      <td>USE `desafio_3`;</td>\n",
       "    </tr>\n",
       "    <tr>\n",
       "      <th>15690</th>\n",
       "      <td>509150</td>\n",
       "      <td>1503</td>\n",
       "      <td>\"USE\"</td>\n",
       "      <td>syntax error at or near \"USE\", at index 0</td>\n",
       "      <td>;</td>\n",
       "      <td>USE CURSORES;</td>\n",
       "    </tr>\n",
       "    <tr>\n",
       "      <th>17672</th>\n",
       "      <td>509761</td>\n",
       "      <td>1</td>\n",
       "      <td>\"USE\"</td>\n",
       "      <td>syntax error at or near \"USE\", at index 0</td>\n",
       "      <td>;</td>\n",
       "      <td>USE `finalyearproject`;</td>\n",
       "    </tr>\n",
       "  </tbody>\n",
       "</table>\n",
       "</div>"
      ],
      "text/plain": [
       "      file_id  statement_nr trunc_err                                parse_error original_highlight                 original\n",
       "13826  508522  81            \"USE\"     syntax error at or near \"USE\", at index 0  ;                  USE `android2k17`;     \n",
       "12510  507908  1             \"USE\"     syntax error at or near \"USE\", at index 0  ;                  USE Hotel;             \n",
       "13919  508572  1             \"USE\"     syntax error at or near \"USE\", at index 0  ;                  USE `desafio_3`;       \n",
       "15690  509150  1503          \"USE\"     syntax error at or near \"USE\", at index 0  ;                  USE CURSORES;          \n",
       "17672  509761  1             \"USE\"     syntax error at or near \"USE\", at index 0  ;                  USE `finalyearproject`;"
      ]
     },
     "execution_count": 66,
     "metadata": {},
     "output_type": "execute_result"
    }
   ],
   "source": [
    "use_check.sample(frac=0.6).head()"
   ]
  },
  {
   "attachments": {},
   "cell_type": "markdown",
   "metadata": {},
   "source": [
    "### DELIMITER"
   ]
  },
  {
   "cell_type": "code",
   "execution_count": 74,
   "metadata": {},
   "outputs": [
    {
     "name": "stdout",
     "output_type": "stream",
     "text": [
      "[########################################] | 100% Completed | 6.29 ss\n",
      "[########################################] | 100% Completed | 8.07 ss\n",
      "(73288, 8597)\n"
     ]
    }
   ],
   "source": [
    "no_use = no_arond[\n",
    "    ~(no_arond.trunc_err.str.contains('USE',case=False,regex=False))\n",
    "]\n",
    "delimiter_check = no_use[\n",
    "    (no_use.trunc_err == '\"DELIMITER\"')\n",
    "]\n",
    "print(get_stmt_and_file_count(delimiter_check))\n",
    "#auto_incr_check.sample(frac=0.6).head()"
   ]
  },
  {
   "cell_type": "code",
   "execution_count": 69,
   "metadata": {},
   "outputs": [
    {
     "name": "stdout",
     "output_type": "stream",
     "text": [
      "[########################################] | 100% Completed | 107.57 ms\n"
     ]
    },
    {
     "data": {
      "text/html": [
       "<div>\n",
       "<style scoped>\n",
       "    .dataframe tbody tr th:only-of-type {\n",
       "        vertical-align: middle;\n",
       "    }\n",
       "\n",
       "    .dataframe tbody tr th {\n",
       "        vertical-align: top;\n",
       "    }\n",
       "\n",
       "    .dataframe thead th {\n",
       "        text-align: right;\n",
       "    }\n",
       "</style>\n",
       "<table border=\"1\" class=\"dataframe\">\n",
       "  <thead>\n",
       "    <tr style=\"text-align: right;\">\n",
       "      <th></th>\n",
       "      <th>file_id</th>\n",
       "      <th>statement_nr</th>\n",
       "      <th>trunc_err</th>\n",
       "      <th>parse_error</th>\n",
       "      <th>original_highlight</th>\n",
       "      <th>original</th>\n",
       "    </tr>\n",
       "  </thead>\n",
       "  <tbody>\n",
       "    <tr>\n",
       "      <th>8805</th>\n",
       "      <td>507198</td>\n",
       "      <td>260</td>\n",
       "      <td>\"DELIMITER\"</td>\n",
       "      <td>syntax error at or near \"DELIMITER\", at index 0</td>\n",
       "      <td>;</td>\n",
       "      <td>DELIMITER ;</td>\n",
       "    </tr>\n",
       "    <tr>\n",
       "      <th>13199</th>\n",
       "      <td>508137</td>\n",
       "      <td>257</td>\n",
       "      <td>\"DELIMITER\"</td>\n",
       "      <td>syntax error at or near \"DELIMITER\", at index 0</td>\n",
       "      <td>;</td>\n",
       "      <td>DELIMITER ;</td>\n",
       "    </tr>\n",
       "    <tr>\n",
       "      <th>6340</th>\n",
       "      <td>506361</td>\n",
       "      <td>158</td>\n",
       "      <td>\"DELIMITER\"</td>\n",
       "      <td>syntax error at or near \"DELIMITER\", at index 0</td>\n",
       "      <td>;</td>\n",
       "      <td>DELIMITER $$\\n\\n/*!50003 CREATE DEFINER=`root`@`localhost` PROCEDURE `table_reservation_detail_update_table_by_idTable_idReservation`(IN idReservation INT,IN idTable INT, IN idTableChange INT)\\nBEGIN\\n\\tUPDATE table_reservation_detail\\n\\tSET table_reservation_detail.id_table_id=idTableChange\\n\\tWHERE table_reservation_detail.id_table_reservation_id=idReservation AND table_reservation_detail.id_table_id=idTable;\\nEND */$$\\nDELIMITER ;</td>\n",
       "    </tr>\n",
       "    <tr>\n",
       "      <th>6954</th>\n",
       "      <td>506520</td>\n",
       "      <td>42</td>\n",
       "      <td>\"DELIMITER\"</td>\n",
       "      <td>syntax error at or near \"DELIMITER\", at index 31</td>\n",
       "      <td>\\nDELIMITER $$\\nCREATE TRIGGER `order_user_BEFORE_INSERT` BEFORE INSERT ON `order_user` FOR EACH ROW BEGIN\\n\\tIF ((NEW.mode_pay != 'Cash on Delivery') AND (NEW.mode_pay != 'Online Banking')) THEN\\n\\t\\tSIGNAL SQLSTATE '45000' SET MESSAGE_TEXT='Invalid Mode of Payment!';\\n\\tEND IF;\\nEND\\n$$\\nDELIMITER ;</td>\n",
       "      <td>--\\n-- Triggers `order_user`\\n--\\nDELIMITER $$\\nCREATE TRIGGER `order_user_BEFORE_INSERT` BEFORE INSERT ON `order_user` FOR EACH ROW BEGIN\\n\\tIF ((NEW.mode_pay != 'Cash on Delivery') AND (NEW.mode_pay != 'Online Banking')) THEN\\n\\t\\tSIGNAL SQLSTATE '45000' SET MESSAGE_TEXT='Invalid Mode of Payment!';\\n\\tEND IF;\\nEND\\n$$\\nDELIMITER ;</td>\n",
       "    </tr>\n",
       "    <tr>\n",
       "      <th>14252</th>\n",
       "      <td>508723</td>\n",
       "      <td>8</td>\n",
       "      <td>\"DELIMITER\"</td>\n",
       "      <td>syntax error at or near \"DELIMITER\", at index 30</td>\n",
       "      <td>\\nDELIMITER $$\\n--\\n-- Procedures\\n--\\nCREATE DEFINER=`root`@`localhost` PROCEDURE `proc1` (IN `pid` INT(10))  SELECT P.*,S.songName,SI.singerName,M.movieName,S.language,S.genre FROM playlist P,songs S,singers SI,movies M WHERE playlistID=pid AND S.songId=P.songID AND S.movieID=M.movieID AND S.singerID=SI.singerID$$\\n\\nDELIMITER ;</td>\n",
       "      <td>--\\n-- Database: `musicdb`\\n--\\n\\nDELIMITER $$\\n--\\n-- Procedures\\n--\\nCREATE DEFINER=`root`@`localhost` PROCEDURE `proc1` (IN `pid` INT(10))  SELECT P.*,S.songName,SI.singerName,M.movieName,S.language,S.genre FROM playlist P,songs S,singers SI,movies M WHERE playlistID=pid AND S.songId=P.songID AND S.movieID=M.movieID AND S.singerID=SI.singerID$$\\n\\nDELIMITER ;</td>\n",
       "    </tr>\n",
       "  </tbody>\n",
       "</table>\n",
       "</div>"
      ],
      "text/plain": [
       "      file_id  statement_nr    trunc_err                                       parse_error                                                                                                                                                                                                                                                                                                                            original_highlight                                                                                                                                                                                                                                                                                                                                                                                                                                               original\n",
       "8805   507198  260           \"DELIMITER\"  syntax error at or near \"DELIMITER\", at index 0   ;                                                                                                                                                                                                                                                                                                                                             DELIMITER ;                                                                                                                                                                                                                                                                                                                                                                                                                                          \n",
       "13199  508137  257           \"DELIMITER\"  syntax error at or near \"DELIMITER\", at index 0   ;                                                                                                                                                                                                                                                                                                                                             DELIMITER ;                                                                                                                                                                                                                                                                                                                                                                                                                                          \n",
       "6340   506361  158           \"DELIMITER\"  syntax error at or near \"DELIMITER\", at index 0   ;                                                                                                                                                                                                                                                                                                                                             DELIMITER $$\\n\\n/*!50003 CREATE DEFINER=`root`@`localhost` PROCEDURE `table_reservation_detail_update_table_by_idTable_idReservation`(IN idReservation INT,IN idTable INT, IN idTableChange INT)\\nBEGIN\\n\\tUPDATE table_reservation_detail\\n\\tSET table_reservation_detail.id_table_id=idTableChange\\n\\tWHERE table_reservation_detail.id_table_reservation_id=idReservation AND table_reservation_detail.id_table_id=idTable;\\nEND */$$\\nDELIMITER ;\n",
       "6954   506520  42            \"DELIMITER\"  syntax error at or near \"DELIMITER\", at index 31  \\nDELIMITER $$\\nCREATE TRIGGER `order_user_BEFORE_INSERT` BEFORE INSERT ON `order_user` FOR EACH ROW BEGIN\\n\\tIF ((NEW.mode_pay != 'Cash on Delivery') AND (NEW.mode_pay != 'Online Banking')) THEN\\n\\t\\tSIGNAL SQLSTATE '45000' SET MESSAGE_TEXT='Invalid Mode of Payment!';\\n\\tEND IF;\\nEND\\n$$\\nDELIMITER ;                                --\\n-- Triggers `order_user`\\n--\\nDELIMITER $$\\nCREATE TRIGGER `order_user_BEFORE_INSERT` BEFORE INSERT ON `order_user` FOR EACH ROW BEGIN\\n\\tIF ((NEW.mode_pay != 'Cash on Delivery') AND (NEW.mode_pay != 'Online Banking')) THEN\\n\\t\\tSIGNAL SQLSTATE '45000' SET MESSAGE_TEXT='Invalid Mode of Payment!';\\n\\tEND IF;\\nEND\\n$$\\nDELIMITER ;                                                                                                       \n",
       "14252  508723  8             \"DELIMITER\"  syntax error at or near \"DELIMITER\", at index 30  \\nDELIMITER $$\\n--\\n-- Procedures\\n--\\nCREATE DEFINER=`root`@`localhost` PROCEDURE `proc1` (IN `pid` INT(10))  SELECT P.*,S.songName,SI.singerName,M.movieName,S.language,S.genre FROM playlist P,songs S,singers SI,movies M WHERE playlistID=pid AND S.songId=P.songID AND S.movieID=M.movieID AND S.singerID=SI.singerID$$\\n\\nDELIMITER ;  --\\n-- Database: `musicdb`\\n--\\n\\nDELIMITER $$\\n--\\n-- Procedures\\n--\\nCREATE DEFINER=`root`@`localhost` PROCEDURE `proc1` (IN `pid` INT(10))  SELECT P.*,S.songName,SI.singerName,M.movieName,S.language,S.genre FROM playlist P,songs S,singers SI,movies M WHERE playlistID=pid AND S.songId=P.songID AND S.movieID=M.movieID AND S.singerID=SI.singerID$$\\n\\nDELIMITER ;                                                                         "
      ]
     },
     "execution_count": 69,
     "metadata": {},
     "output_type": "execute_result"
    }
   ],
   "source": [
    "delimiter_check.sample(frac=0.6).head()"
   ]
  },
  {
   "attachments": {},
   "cell_type": "markdown",
   "metadata": {},
   "source": [
    "### GO"
   ]
  },
  {
   "cell_type": "code",
   "execution_count": 75,
   "metadata": {},
   "outputs": [
    {
     "name": "stdout",
     "output_type": "stream",
     "text": [
      "[########################################] | 100% Completed | 6.89 ss\n",
      "[########################################] | 100% Completed | 7.18 ss\n",
      "(67834, 3388)\n"
     ]
    }
   ],
   "source": [
    "no_delimiter = no_use[\n",
    "    ~(no_use.trunc_err == '\"DELIMITER\"')\n",
    "]\n",
    "go_check = no_delimiter[\n",
    "    (no_delimiter.trunc_err == '\"GO\"')\n",
    "]\n",
    "print(get_stmt_and_file_count(go_check))\n",
    "#auto_incr_check.sample(frac=0.6).head()"
   ]
  },
  {
   "cell_type": "code",
   "execution_count": 70,
   "metadata": {},
   "outputs": [
    {
     "name": "stdout",
     "output_type": "stream",
     "text": [
      "[########################################] | 100% Completed | 116.43 ms\n"
     ]
    },
    {
     "data": {
      "text/html": [
       "<div>\n",
       "<style scoped>\n",
       "    .dataframe tbody tr th:only-of-type {\n",
       "        vertical-align: middle;\n",
       "    }\n",
       "\n",
       "    .dataframe tbody tr th {\n",
       "        vertical-align: top;\n",
       "    }\n",
       "\n",
       "    .dataframe thead th {\n",
       "        text-align: right;\n",
       "    }\n",
       "</style>\n",
       "<table border=\"1\" class=\"dataframe\">\n",
       "  <thead>\n",
       "    <tr style=\"text-align: right;\">\n",
       "      <th></th>\n",
       "      <th>file_id</th>\n",
       "      <th>statement_nr</th>\n",
       "      <th>trunc_err</th>\n",
       "      <th>parse_error</th>\n",
       "      <th>original_highlight</th>\n",
       "      <th>original</th>\n",
       "    </tr>\n",
       "  </thead>\n",
       "  <tbody>\n",
       "    <tr>\n",
       "      <th>8512</th>\n",
       "      <td>507151</td>\n",
       "      <td>3</td>\n",
       "      <td>\"GO\"</td>\n",
       "      <td>syntax error at or near \"GO\", at index 0</td>\n",
       "      <td>;</td>\n",
       "      <td>GO\\n\\n-- --------------------------------------------------\\n-- Dropping existing FOREIGN KEY constraints\\n-- --------------------------------------------------\\n\\nIF OBJECT_ID(N'[dbo].[FK_CategoryGAME_CATEGORY]', 'F') IS NOT NULL\\n    ALTER TABLE [dbo].[GAME_CATEGORY] DROP CONSTRAINT [FK_CategoryGAME_CATEGORY];</td>\n",
       "    </tr>\n",
       "    <tr>\n",
       "      <th>14968</th>\n",
       "      <td>508867</td>\n",
       "      <td>2</td>\n",
       "      <td>\"GO\"</td>\n",
       "      <td>syntax error at or near \"GO\", at index 0</td>\n",
       "      <td>;</td>\n",
       "      <td>GO\\n------------------------------Script to create tables---------------------------------------\\n\\n\\n------------------------------Script to create aiport table----------------------------------\\nCREATE TABLE [dbo].[Airport](\\n\\t[Id] [int] IDENTITY(1,1) NOT NULL,\\n\\t[Name] [varchar](56) NULL,\\n\\t[Code] [varchar](3) NULL,\\n\\t[StateCode] [varchar](2) NULL,\\n\\t[CountryCode] [varchar](2) NULL,\\n\\t[CountryName] [varchar](32) NULL,\\n CONSTRAINT [PK_AIRPORT] PRIMARY KEY CLUSTERED \\n(\\n\\t[Id] ASC\\n)WITH (PAD_INDEX = OFF, STATISTICS_NORECOMPUTE = OFF, IGNORE_DUP_KEY = OFF, ALLOW_ROW_LOCKS = ON, ALLOW_PAGE_LOCKS = ON, OPTIMIZE_FOR_SEQUENTIAL_KEY = OFF) ON [PRIMARY]\\n) ON [PRIMARY]\\nGO\\n\\n\\n------------------------------Script to create transportation table---------------------------------\\nCREATE TABLE [dbo].[Transportation](</td>\n",
       "    </tr>\n",
       "    <tr>\n",
       "      <th>4686</th>\n",
       "      <td>505796</td>\n",
       "      <td>82</td>\n",
       "      <td>\"GO\"</td>\n",
       "      <td>syntax error at or near \"GO\", at index 0</td>\n",
       "      <td>;</td>\n",
       "      <td>GO\\n\\n-- Creating foreign key on [TrainingCourseId] in table 'CourseBookings'\\nALTER TABLE [dbo].[CourseBookings]\\nADD CONSTRAINT [FK_TrainingCourseCourseBooking]\\n    FOREIGN KEY ([TrainingCourseId])\\n    REFERENCES [dbo].[TrainingCourses]\\n        ([Id])\\n    ON DELETE CASCADE ON UPDATE NO ACTION;</td>\n",
       "    </tr>\n",
       "    <tr>\n",
       "      <th>4620</th>\n",
       "      <td>505796</td>\n",
       "      <td>16</td>\n",
       "      <td>\"GO\"</td>\n",
       "      <td>syntax error at or near \"GO\", at index 0</td>\n",
       "      <td>;</td>\n",
       "      <td>GO\\nIF OBJECT_ID(N'[dbo].[FK_AspNetUserTrainningCourseCoach]', 'F') IS NOT NULL\\n    ALTER TABLE [dbo].[TrainningCourseCoaches] DROP CONSTRAINT [FK_AspNetUserTrainningCourseCoach];</td>\n",
       "    </tr>\n",
       "    <tr>\n",
       "      <th>4661</th>\n",
       "      <td>505796</td>\n",
       "      <td>57</td>\n",
       "      <td>\"GO\"</td>\n",
       "      <td>syntax error at or near \"GO\", at index 0</td>\n",
       "      <td>;</td>\n",
       "      <td>GO\\n\\n-- Creating non-clustered index for FOREIGN KEY 'FK_TrainingCourseTimetableTrainningCourseCoach'\\nCREATE INDEX [IX_FK_TrainingCourseTimetableTrainningCourseCoach]\\nON [dbo].[TrainningCourseCoaches]\\n    ([TrainingCourseTimetableId]);</td>\n",
       "    </tr>\n",
       "  </tbody>\n",
       "</table>\n",
       "</div>"
      ],
      "text/plain": [
       "      file_id  statement_nr trunc_err                               parse_error original_highlight                                                                                                                                                                                                                                                                                                                                                                                                                                                                                                                                                                                                                                                                                                                                                                                                                                                      original\n",
       "8512   507151  3             \"GO\"      syntax error at or near \"GO\", at index 0  ;                  GO\\n\\n-- --------------------------------------------------\\n-- Dropping existing FOREIGN KEY constraints\\n-- --------------------------------------------------\\n\\nIF OBJECT_ID(N'[dbo].[FK_CategoryGAME_CATEGORY]', 'F') IS NOT NULL\\n    ALTER TABLE [dbo].[GAME_CATEGORY] DROP CONSTRAINT [FK_CategoryGAME_CATEGORY];                                                                                                                                                                                                                                                                                                                                                                                                                                                                                                                                   \n",
       "14968  508867  2             \"GO\"      syntax error at or near \"GO\", at index 0  ;                  GO\\n------------------------------Script to create tables---------------------------------------\\n\\n\\n------------------------------Script to create aiport table----------------------------------\\nCREATE TABLE [dbo].[Airport](\\n\\t[Id] [int] IDENTITY(1,1) NOT NULL,\\n\\t[Name] [varchar](56) NULL,\\n\\t[Code] [varchar](3) NULL,\\n\\t[StateCode] [varchar](2) NULL,\\n\\t[CountryCode] [varchar](2) NULL,\\n\\t[CountryName] [varchar](32) NULL,\\n CONSTRAINT [PK_AIRPORT] PRIMARY KEY CLUSTERED \\n(\\n\\t[Id] ASC\\n)WITH (PAD_INDEX = OFF, STATISTICS_NORECOMPUTE = OFF, IGNORE_DUP_KEY = OFF, ALLOW_ROW_LOCKS = ON, ALLOW_PAGE_LOCKS = ON, OPTIMIZE_FOR_SEQUENTIAL_KEY = OFF) ON [PRIMARY]\\n) ON [PRIMARY]\\nGO\\n\\n\\n------------------------------Script to create transportation table---------------------------------\\nCREATE TABLE [dbo].[Transportation](\n",
       "4686   505796  82            \"GO\"      syntax error at or near \"GO\", at index 0  ;                  GO\\n\\n-- Creating foreign key on [TrainingCourseId] in table 'CourseBookings'\\nALTER TABLE [dbo].[CourseBookings]\\nADD CONSTRAINT [FK_TrainingCourseCourseBooking]\\n    FOREIGN KEY ([TrainingCourseId])\\n    REFERENCES [dbo].[TrainingCourses]\\n        ([Id])\\n    ON DELETE CASCADE ON UPDATE NO ACTION;                                                                                                                                                                                                                                                                                                                                                                                                                                                                                                                                                \n",
       "4620   505796  16            \"GO\"      syntax error at or near \"GO\", at index 0  ;                  GO\\nIF OBJECT_ID(N'[dbo].[FK_AspNetUserTrainningCourseCoach]', 'F') IS NOT NULL\\n    ALTER TABLE [dbo].[TrainningCourseCoaches] DROP CONSTRAINT [FK_AspNetUserTrainningCourseCoach];                                                                                                                                                                                                                                                                                                                                                                                                                                                                                                                                                                                                                                                                        \n",
       "4661   505796  57            \"GO\"      syntax error at or near \"GO\", at index 0  ;                  GO\\n\\n-- Creating non-clustered index for FOREIGN KEY 'FK_TrainingCourseTimetableTrainningCourseCoach'\\nCREATE INDEX [IX_FK_TrainingCourseTimetableTrainningCourseCoach]\\nON [dbo].[TrainningCourseCoaches]\\n    ([TrainingCourseTimetableId]);                                                                                                                                                                                                                                                                                                                                                                                                                                                                                                                                                                                                             "
      ]
     },
     "execution_count": 70,
     "metadata": {},
     "output_type": "execute_result"
    }
   ],
   "source": [
    "go_check.sample(frac=0.6).head()"
   ]
  },
  {
   "attachments": {},
   "cell_type": "markdown",
   "metadata": {},
   "source": [
    "### ["
   ]
  },
  {
   "cell_type": "code",
   "execution_count": 76,
   "metadata": {},
   "outputs": [
    {
     "name": "stdout",
     "output_type": "stream",
     "text": [
      "[########################################] | 100% Completed | 9.12 ss\n",
      "[########################################] | 100% Completed | 9.36 ss\n",
      "(56019, 20900)\n"
     ]
    }
   ],
   "source": [
    "no_go = no_delimiter[\n",
    "    ~(no_delimiter.trunc_err == '\"GO\"')\n",
    "]\n",
    "tsql_check = no_go[\n",
    "    (no_go.trunc_err == '\"[\"')\n",
    "]\n",
    "print(get_stmt_and_file_count(tsql_check))\n",
    "#auto_incr_check.sample(frac=0.6).head()"
   ]
  },
  {
   "cell_type": "code",
   "execution_count": 72,
   "metadata": {},
   "outputs": [
    {
     "name": "stdout",
     "output_type": "stream",
     "text": [
      "[########################################] | 100% Completed | 121.42 ms\n"
     ]
    },
    {
     "data": {
      "text/html": [
       "<div>\n",
       "<style scoped>\n",
       "    .dataframe tbody tr th:only-of-type {\n",
       "        vertical-align: middle;\n",
       "    }\n",
       "\n",
       "    .dataframe tbody tr th {\n",
       "        vertical-align: top;\n",
       "    }\n",
       "\n",
       "    .dataframe thead th {\n",
       "        text-align: right;\n",
       "    }\n",
       "</style>\n",
       "<table border=\"1\" class=\"dataframe\">\n",
       "  <thead>\n",
       "    <tr style=\"text-align: right;\">\n",
       "      <th></th>\n",
       "      <th>file_id</th>\n",
       "      <th>statement_nr</th>\n",
       "      <th>trunc_err</th>\n",
       "      <th>parse_error</th>\n",
       "      <th>original_highlight</th>\n",
       "      <th>original</th>\n",
       "    </tr>\n",
       "  </thead>\n",
       "  <tbody>\n",
       "    <tr>\n",
       "      <th>17934</th>\n",
       "      <td>509823</td>\n",
       "      <td>45</td>\n",
       "      <td>\"[\"</td>\n",
       "      <td>syntax error at or near \"[\", at index 12</td>\n",
       "      <td>[Isik] ADD CONSTRAINT [AK_Isik_e_meil] UNIQUE ([e_meil])\\n;</td>\n",
       "      <td>ALTER TABLE [Isik] ADD CONSTRAINT [AK_Isik_e_meil] UNIQUE ([e_meil])\\n;</td>\n",
       "    </tr>\n",
       "    <tr>\n",
       "      <th>17941</th>\n",
       "      <td>509823</td>\n",
       "      <td>52</td>\n",
       "      <td>\"[\"</td>\n",
       "      <td>syntax error at or near \"[\", at index 12</td>\n",
       "      <td>[Laua_kategooria_tyyp] ADD CONSTRAINT [PK_Laua_kategooria_tyyp]\\n\\tPRIMARY KEY ([laua_kategooria_tyyp_kood])\\n;</td>\n",
       "      <td>ALTER TABLE [Laua_kategooria_tyyp] ADD CONSTRAINT [PK_Laua_kategooria_tyyp]\\n\\tPRIMARY KEY ([laua_kategooria_tyyp_kood])\\n;</td>\n",
       "    </tr>\n",
       "    <tr>\n",
       "      <th>13724</th>\n",
       "      <td>508482</td>\n",
       "      <td>0</td>\n",
       "      <td>\"[\"</td>\n",
       "      <td>syntax error at or near \"[\", at index 13</td>\n",
       "      <td>[dbo].[AnnouncementDocument] (\\n    [DocId]  INT            IDENTITY (1, 1) NOT NULL,\\n    [AnncId] INT            NOT NULL,\\n    [Name]   NVARCHAR (150) NOT NULL,\\n    [Path]   NVARCHAR (350) NULL,\\n    [Size]   FLOAT (53)     NULL,\\n    CONSTRAINT [PK_AnnouncementDocument] PRIMARY KEY CLUSTERED ([DocId] ASC),\\n    CONSTRAINT [FK_AnnouncementDocument_Announcement] FOREIGN KEY ([AnncId]) REFERENCES [dbo].[Announcement] ([AnncId])\\n);</td>\n",
       "      <td>CREATE TABLE [dbo].[AnnouncementDocument] (\\n    [DocId]  INT            IDENTITY (1, 1) NOT NULL,\\n    [AnncId] INT            NOT NULL,\\n    [Name]   NVARCHAR (150) NOT NULL,\\n    [Path]   NVARCHAR (350) NULL,\\n    [Size]   FLOAT (53)     NULL,\\n    CONSTRAINT [PK_AnnouncementDocument] PRIMARY KEY CLUSTERED ([DocId] ASC),\\n    CONSTRAINT [FK_AnnouncementDocument_Announcement] FOREIGN KEY ([AnncId]) REFERENCES [dbo].[Announcement] ([AnncId])\\n);</td>\n",
       "    </tr>\n",
       "    <tr>\n",
       "      <th>16507</th>\n",
       "      <td>509338</td>\n",
       "      <td>0</td>\n",
       "      <td>\"[\"</td>\n",
       "      <td>syntax error at or near \"[\", at index 13</td>\n",
       "      <td>[relational].[Reviews]\\n(\\n\\t--This is a surrogate key\\n\\treview_id INT NOT NULL PRIMARY KEY IDENTITY,\\n\\treview_date DATE NULL,\\n\\t--This enforces a constraint which not always holds\\n\\tmovie_id VARCHAR(20) NOT NULL FOREIGN KEY REFERENCES [relational].[Movies](movie_id),\\n\\t[user_id] VARCHAR(20) NULL,\\n\\tis_spoiler BIT NULL,\\n\\treview_text NVARCHAR(MAX) NULL,\\n\\trating DECIMAL(3,1) NULL,\\n\\treview_summary NVARCHAR(MAX) NULL\\n)</td>\n",
       "      <td>CREATE TABLE [relational].[Reviews]\\n(\\n\\t--This is a surrogate key\\n\\treview_id INT NOT NULL PRIMARY KEY IDENTITY,\\n\\treview_date DATE NULL,\\n\\t--This enforces a constraint which not always holds\\n\\tmovie_id VARCHAR(20) NOT NULL FOREIGN KEY REFERENCES [relational].[Movies](movie_id),\\n\\t[user_id] VARCHAR(20) NULL,\\n\\tis_spoiler BIT NULL,\\n\\treview_text NVARCHAR(MAX) NULL,\\n\\trating DECIMAL(3,1) NULL,\\n\\treview_summary NVARCHAR(MAX) NULL\\n)</td>\n",
       "    </tr>\n",
       "    <tr>\n",
       "      <th>17944</th>\n",
       "      <td>509823</td>\n",
       "      <td>55</td>\n",
       "      <td>\"[\"</td>\n",
       "      <td>syntax error at or near \"[\", at index 12</td>\n",
       "      <td>[Riik] ADD CONSTRAINT [PK_Riik]\\n\\tPRIMARY KEY ([kood])\\n;</td>\n",
       "      <td>ALTER TABLE [Riik] ADD CONSTRAINT [PK_Riik]\\n\\tPRIMARY KEY ([kood])\\n;</td>\n",
       "    </tr>\n",
       "  </tbody>\n",
       "</table>\n",
       "</div>"
      ],
      "text/plain": [
       "      file_id  statement_nr trunc_err                               parse_error                                                                                                                                                                                                                                                                                                                                                                                                                                      original_highlight                                                                                                                                                                                                                                                                                                                                                                                                                                                            original\n",
       "17934  509823  45            \"[\"       syntax error at or near \"[\", at index 12   [Isik] ADD CONSTRAINT [AK_Isik_e_meil] UNIQUE ([e_meil])\\n;                                                                                                                                                                                                                                                                                                                                                                                            ALTER TABLE [Isik] ADD CONSTRAINT [AK_Isik_e_meil] UNIQUE ([e_meil])\\n;                                                                                                                                                                                                                                                                                                                                                                                           \n",
       "17941  509823  52            \"[\"       syntax error at or near \"[\", at index 12   [Laua_kategooria_tyyp] ADD CONSTRAINT [PK_Laua_kategooria_tyyp]\\n\\tPRIMARY KEY ([laua_kategooria_tyyp_kood])\\n;                                                                                                                                                                                                                                                                                                                                        ALTER TABLE [Laua_kategooria_tyyp] ADD CONSTRAINT [PK_Laua_kategooria_tyyp]\\n\\tPRIMARY KEY ([laua_kategooria_tyyp_kood])\\n;                                                                                                                                                                                                                                                                                                                                       \n",
       "13724  508482  0             \"[\"       syntax error at or near \"[\", at index 13   [dbo].[AnnouncementDocument] (\\n    [DocId]  INT            IDENTITY (1, 1) NOT NULL,\\n    [AnncId] INT            NOT NULL,\\n    [Name]   NVARCHAR (150) NOT NULL,\\n    [Path]   NVARCHAR (350) NULL,\\n    [Size]   FLOAT (53)     NULL,\\n    CONSTRAINT [PK_AnnouncementDocument] PRIMARY KEY CLUSTERED ([DocId] ASC),\\n    CONSTRAINT [FK_AnnouncementDocument_Announcement] FOREIGN KEY ([AnncId]) REFERENCES [dbo].[Announcement] ([AnncId])\\n);  CREATE TABLE [dbo].[AnnouncementDocument] (\\n    [DocId]  INT            IDENTITY (1, 1) NOT NULL,\\n    [AnncId] INT            NOT NULL,\\n    [Name]   NVARCHAR (150) NOT NULL,\\n    [Path]   NVARCHAR (350) NULL,\\n    [Size]   FLOAT (53)     NULL,\\n    CONSTRAINT [PK_AnnouncementDocument] PRIMARY KEY CLUSTERED ([DocId] ASC),\\n    CONSTRAINT [FK_AnnouncementDocument_Announcement] FOREIGN KEY ([AnncId]) REFERENCES [dbo].[Announcement] ([AnncId])\\n);\n",
       "16507  509338  0             \"[\"       syntax error at or near \"[\", at index 13   [relational].[Reviews]\\n(\\n\\t--This is a surrogate key\\n\\treview_id INT NOT NULL PRIMARY KEY IDENTITY,\\n\\treview_date DATE NULL,\\n\\t--This enforces a constraint which not always holds\\n\\tmovie_id VARCHAR(20) NOT NULL FOREIGN KEY REFERENCES [relational].[Movies](movie_id),\\n\\t[user_id] VARCHAR(20) NULL,\\n\\tis_spoiler BIT NULL,\\n\\treview_text NVARCHAR(MAX) NULL,\\n\\trating DECIMAL(3,1) NULL,\\n\\treview_summary NVARCHAR(MAX) NULL\\n)        CREATE TABLE [relational].[Reviews]\\n(\\n\\t--This is a surrogate key\\n\\treview_id INT NOT NULL PRIMARY KEY IDENTITY,\\n\\treview_date DATE NULL,\\n\\t--This enforces a constraint which not always holds\\n\\tmovie_id VARCHAR(20) NOT NULL FOREIGN KEY REFERENCES [relational].[Movies](movie_id),\\n\\t[user_id] VARCHAR(20) NULL,\\n\\tis_spoiler BIT NULL,\\n\\treview_text NVARCHAR(MAX) NULL,\\n\\trating DECIMAL(3,1) NULL,\\n\\treview_summary NVARCHAR(MAX) NULL\\n)      \n",
       "17944  509823  55            \"[\"       syntax error at or near \"[\", at index 12   [Riik] ADD CONSTRAINT [PK_Riik]\\n\\tPRIMARY KEY ([kood])\\n;                                                                                                                                                                                                                                                                                                                                                                                             ALTER TABLE [Riik] ADD CONSTRAINT [PK_Riik]\\n\\tPRIMARY KEY ([kood])\\n;                                                                                                                                                                                                                                                                                                                                                                                            "
      ]
     },
     "execution_count": 72,
     "metadata": {},
     "output_type": "execute_result"
    }
   ],
   "source": [
    "tsql_check.sample(frac=0.6).head()"
   ]
  },
  {
   "attachments": {},
   "cell_type": "markdown",
   "metadata": {},
   "source": [
    "### ENGINE"
   ]
  },
  {
   "cell_type": "code",
   "execution_count": 77,
   "metadata": {},
   "outputs": [
    {
     "name": "stdout",
     "output_type": "stream",
     "text": [
      "[########################################] | 100% Completed | 10.47 s\n",
      "[########################################] | 100% Completed | 8.33 ss\n",
      "(48115, 6921)\n"
     ]
    }
   ],
   "source": [
    "no_tsql = no_go[\n",
    "    ~(no_go.trunc_err == '\"[\"')\n",
    "]\n",
    "engine_check = no_tsql[\n",
    "    (no_tsql.trunc_err.str.contains('engine',case=False,regex=False))\n",
    "]\n",
    "print(get_stmt_and_file_count(engine_check))\n",
    "#auto_incr_check.sample(frac=0.6).head()"
   ]
  },
  {
   "cell_type": "code",
   "execution_count": 78,
   "metadata": {},
   "outputs": [
    {
     "name": "stdout",
     "output_type": "stream",
     "text": [
      "[########################################] | 100% Completed | 256.60 ms\n"
     ]
    },
    {
     "data": {
      "text/html": [
       "<div>\n",
       "<style scoped>\n",
       "    .dataframe tbody tr th:only-of-type {\n",
       "        vertical-align: middle;\n",
       "    }\n",
       "\n",
       "    .dataframe tbody tr th {\n",
       "        vertical-align: top;\n",
       "    }\n",
       "\n",
       "    .dataframe thead th {\n",
       "        text-align: right;\n",
       "    }\n",
       "</style>\n",
       "<table border=\"1\" class=\"dataframe\">\n",
       "  <thead>\n",
       "    <tr style=\"text-align: right;\">\n",
       "      <th></th>\n",
       "      <th>file_id</th>\n",
       "      <th>statement_nr</th>\n",
       "      <th>trunc_err</th>\n",
       "      <th>parse_error</th>\n",
       "      <th>original_highlight</th>\n",
       "      <th>original</th>\n",
       "    </tr>\n",
       "  </thead>\n",
       "  <tbody>\n",
       "    <tr>\n",
       "      <th>5691</th>\n",
       "      <td>506131</td>\n",
       "      <td>30</td>\n",
       "      <td>\"ENGINE\"</td>\n",
       "      <td>syntax error at or near \"ENGINE\", at index 184</td>\n",
       "      <td>ENGINE=InnoDB CHARACTER SET='utf8';</td>\n",
       "      <td>CREATE TABLE media_library_media_language\\n(\\n    id CHAR(36) NOT NULL,\\n    name VARCHAR(120) NOT NULL,\\n    shortcut CHAR(3) NOT NULL,\\n    PRIMARY KEY (id),\\n    INDEX nameIndex (name)\\n) ENGINE=InnoDB CHARACTER SET='utf8';</td>\n",
       "    </tr>\n",
       "    <tr>\n",
       "      <th>2519</th>\n",
       "      <td>505004</td>\n",
       "      <td>12</td>\n",
       "      <td>\"ENGINE\"</td>\n",
       "      <td>syntax error at or near \"ENGINE\", at index 197</td>\n",
       "      <td>ENGINE=InnoDB DEFAULT CHARSET=utf8 COLLATE utf8_bin;</td>\n",
       "      <td>create table ld_recipient (ld_messageid bigint not null, ld_name varchar(255) not null, ld_address varchar(255) not null, ld_mode varchar(255) not null, ld_type int not null, ld_read int not null) ENGINE=InnoDB DEFAULT CHARSET=utf8 COLLATE utf8_bin;</td>\n",
       "    </tr>\n",
       "    <tr>\n",
       "      <th>5337</th>\n",
       "      <td>506072</td>\n",
       "      <td>100</td>\n",
       "      <td>\"ENGINE\"</td>\n",
       "      <td>syntax error at or near \"ENGINE\", at index 258</td>\n",
       "      <td>)ENGINE INNODB;</td>\n",
       "      <td>CREATE TABLE IF NOT EXISTS REG_CLUSTER_LOCK (\\n             REG_LOCK_NAME VARCHAR (20),\\n             REG_LOCK_STATUS VARCHAR (20),\\n             REG_LOCKED_TIME TIMESTAMP,\\n             REG_TENANT_ID INTEGER DEFAULT 0,\\n             PRIMARY KEY (REG_LOCK_NAME)\\n)ENGINE INNODB;</td>\n",
       "    </tr>\n",
       "    <tr>\n",
       "      <th>1102</th>\n",
       "      <td>504447</td>\n",
       "      <td>4</td>\n",
       "      <td>\"ENGINE\"</td>\n",
       "      <td>syntax error at or near \"ENGINE\", at index 252</td>\n",
       "      <td>ENGINE=InnoDB DEFAULT CHARSET=latin1;</td>\n",
       "      <td>CREATE TABLE lti_share_key (\\n  share_key_id varchar(32) NOT NULL,\\n  primary_consumer_key varchar(255) NOT NULL,\\n  primary_context_id varchar(255) NOT NULL,\\n  auto_approve tinyint(1) NOT NULL,\\n  expires datetime NOT NULL,\\n  PRIMARY KEY (share_key_id)\\n) ENGINE=InnoDB DEFAULT CHARSET=latin1;</td>\n",
       "    </tr>\n",
       "    <tr>\n",
       "      <th>6570</th>\n",
       "      <td>506385</td>\n",
       "      <td>10</td>\n",
       "      <td>\"engine\"</td>\n",
       "      <td>syntax error at or near \"engine\", at index 130</td>\n",
       "      <td>\\nengine=innodb;</td>\n",
       "      <td>CREATE TABLE restaurante_forma_pagamento\\n  (\\n     restaurante_id     BIGINT NOT NULL,\\n     forma_pagamento_id BIGINT NOT NULL\\n  )\\nengine=innodb;</td>\n",
       "    </tr>\n",
       "  </tbody>\n",
       "</table>\n",
       "</div>"
      ],
      "text/plain": [
       "     file_id  statement_nr trunc_err                                     parse_error                                     original_highlight                                                                                                                                                                                                                                                                                                  original\n",
       "5691  506131  30            \"ENGINE\"  syntax error at or near \"ENGINE\", at index 184   ENGINE=InnoDB CHARACTER SET='utf8';                   CREATE TABLE media_library_media_language\\n(\\n    id CHAR(36) NOT NULL,\\n    name VARCHAR(120) NOT NULL,\\n    shortcut CHAR(3) NOT NULL,\\n    PRIMARY KEY (id),\\n    INDEX nameIndex (name)\\n) ENGINE=InnoDB CHARACTER SET='utf8';                                                                      \n",
       "2519  505004  12            \"ENGINE\"  syntax error at or near \"ENGINE\", at index 197   ENGINE=InnoDB DEFAULT CHARSET=utf8 COLLATE utf8_bin;  create table ld_recipient (ld_messageid bigint not null, ld_name varchar(255) not null, ld_address varchar(255) not null, ld_mode varchar(255) not null, ld_type int not null, ld_read int not null) ENGINE=InnoDB DEFAULT CHARSET=utf8 COLLATE utf8_bin;                                               \n",
       "5337  506072  100           \"ENGINE\"  syntax error at or near \"ENGINE\", at index 258  )ENGINE INNODB;                                        CREATE TABLE IF NOT EXISTS REG_CLUSTER_LOCK (\\n             REG_LOCK_NAME VARCHAR (20),\\n             REG_LOCK_STATUS VARCHAR (20),\\n             REG_LOCKED_TIME TIMESTAMP,\\n             REG_TENANT_ID INTEGER DEFAULT 0,\\n             PRIMARY KEY (REG_LOCK_NAME)\\n)ENGINE INNODB;                  \n",
       "1102  504447  4             \"ENGINE\"  syntax error at or near \"ENGINE\", at index 252   ENGINE=InnoDB DEFAULT CHARSET=latin1;                 CREATE TABLE lti_share_key (\\n  share_key_id varchar(32) NOT NULL,\\n  primary_consumer_key varchar(255) NOT NULL,\\n  primary_context_id varchar(255) NOT NULL,\\n  auto_approve tinyint(1) NOT NULL,\\n  expires datetime NOT NULL,\\n  PRIMARY KEY (share_key_id)\\n) ENGINE=InnoDB DEFAULT CHARSET=latin1;\n",
       "6570  506385  10            \"engine\"  syntax error at or near \"engine\", at index 130  \\nengine=innodb;                                       CREATE TABLE restaurante_forma_pagamento\\n  (\\n     restaurante_id     BIGINT NOT NULL,\\n     forma_pagamento_id BIGINT NOT NULL\\n  )\\nengine=innodb;                                                                                                                                                   "
      ]
     },
     "execution_count": 78,
     "metadata": {},
     "output_type": "execute_result"
    }
   ],
   "source": [
    "engine_check.sample(frac=0.6).head()"
   ]
  },
  {
   "attachments": {},
   "cell_type": "markdown",
   "metadata": {},
   "source": [
    "### UNSIGNED"
   ]
  },
  {
   "cell_type": "code",
   "execution_count": 79,
   "metadata": {},
   "outputs": [
    {
     "name": "stdout",
     "output_type": "stream",
     "text": [
      "[########################################] | 100% Completed | 7.99 ss\n",
      "[########################################] | 100% Completed | 6.28 ss\n",
      "(57602, 7312)\n"
     ]
    }
   ],
   "source": [
    "no_engine = no_tsql[\n",
    "    ~(no_tsql.trunc_err.str.contains('engine',case=False,regex=False))\n",
    "]\n",
    "unsigned_check = no_engine[\n",
    "    (no_engine.trunc_err.str.contains('signed',case=False,regex=False))\n",
    "]\n",
    "print(get_stmt_and_file_count(unsigned_check))\n",
    "#auto_incr_check.sample(frac=0.6).head()"
   ]
  },
  {
   "cell_type": "code",
   "execution_count": 80,
   "metadata": {},
   "outputs": [
    {
     "name": "stdout",
     "output_type": "stream",
     "text": [
      "[########################################] | 100% Completed | 106.19 ms\n"
     ]
    },
    {
     "data": {
      "text/html": [
       "<div>\n",
       "<style scoped>\n",
       "    .dataframe tbody tr th:only-of-type {\n",
       "        vertical-align: middle;\n",
       "    }\n",
       "\n",
       "    .dataframe tbody tr th {\n",
       "        vertical-align: top;\n",
       "    }\n",
       "\n",
       "    .dataframe thead th {\n",
       "        text-align: right;\n",
       "    }\n",
       "</style>\n",
       "<table border=\"1\" class=\"dataframe\">\n",
       "  <thead>\n",
       "    <tr style=\"text-align: right;\">\n",
       "      <th></th>\n",
       "      <th>file_id</th>\n",
       "      <th>statement_nr</th>\n",
       "      <th>trunc_err</th>\n",
       "      <th>parse_error</th>\n",
       "      <th>original_highlight</th>\n",
       "      <th>original</th>\n",
       "    </tr>\n",
       "  </thead>\n",
       "  <tbody>\n",
       "    <tr>\n",
       "      <th>39</th>\n",
       "      <td>503965</td>\n",
       "      <td>2</td>\n",
       "      <td>\"UNSIGNED\"</td>\n",
       "      <td>syntax error at or near \"UNSIGNED\", at index 47</td>\n",
       "      <td>UNSIGNED NOT NULL AUTO_INCREMENT,\\n  LOGINNAME         VARCHAR(128) not null,\\n  PASSWORD          VARCHAR(128) not null,\\n  ENABLED           CHAR(1) default 'Y',\\n  LAST_UPDATE_DATE  DATETIME,\\n  LAST_UPDATED_BY   VARCHAR(128),\\n  CREATION_DATE     DATETIME,\\n  CREATED_BY        VARCHAR(128),\\n  PRIMARY KEY (ID)\\n);</td>\n",
       "      <td>create table P_USERS\\n(\\n  ID                INT UNSIGNED NOT NULL AUTO_INCREMENT,\\n  LOGINNAME         VARCHAR(128) not null,\\n  PASSWORD          VARCHAR(128) not null,\\n  ENABLED           CHAR(1) default 'Y',\\n  LAST_UPDATE_DATE  DATETIME,\\n  LAST_UPDATED_BY   VARCHAR(128),\\n  CREATION_DATE     DATETIME,\\n  CREATED_BY        VARCHAR(128),\\n  PRIMARY KEY (ID)\\n);</td>\n",
       "    </tr>\n",
       "    <tr>\n",
       "      <th>40</th>\n",
       "      <td>503965</td>\n",
       "      <td>3</td>\n",
       "      <td>\"UNSIGNED\"</td>\n",
       "      <td>syntax error at or near \"UNSIGNED\", at index 51</td>\n",
       "      <td>UNSIGNED NOT NULL  AUTO_INCREMENT,\\n  IDENTIFICATION    VARCHAR(1024) NOT NULL COMMENT '受保护的资源定义,例如URL,业务层方法等。 ',\\n  R_TYPE     \\t\\tCHAR(32)\\t   NOT NULL COMMENT 'URL : URL层资源，  METHOD : 方法层资源， DAO ： DAO层资源 ',\\n  ENABLE        \\tCHAR(1)\\t DEFAULT 'Y'\\t COMMENT 'Y ： 资源有效， N ： 资源无效 ',  \\n  DESCRIPTION       VARCHAR(1000)\\t\\t\\t COMMENT '备注信息 ',  \\n  PRIMARY KEY (ID)\\n);</td>\n",
       "      <td>CREATE TABLE P_RESOURCES\\n(\\n  ID                INT UNSIGNED NOT NULL  AUTO_INCREMENT,\\n  IDENTIFICATION    VARCHAR(1024) NOT NULL COMMENT '受保护的资源定义,例如URL,业务层方法等。 ',\\n  R_TYPE     \\t\\tCHAR(32)\\t   NOT NULL COMMENT 'URL : URL层资源，  METHOD : 方法层资源， DAO ： DAO层资源 ',\\n  ENABLE        \\tCHAR(1)\\t DEFAULT 'Y'\\t COMMENT 'Y ： 资源有效， N ： 资源无效 ',  \\n  DESCRIPTION       VARCHAR(1000)\\t\\t\\t COMMENT '备注信息 ',  \\n  PRIMARY KEY (ID)\\n);</td>\n",
       "    </tr>\n",
       "    <tr>\n",
       "      <th>41</th>\n",
       "      <td>503965</td>\n",
       "      <td>4</td>\n",
       "      <td>\"UNSIGNED\"</td>\n",
       "      <td>syntax error at or near \"UNSIGNED\", at index 55</td>\n",
       "      <td>UNSIGNED NOT NULL  AUTO_INCREMENT,\\n  NAME              VARCHAR(128)\\t\\t\\t COMMENT '受保护的资源相关的属性 ',  \\n  A_TYPE     \\t\\tCHAR(32)\\t NOT NULL\\t DEFAULT 'ROLE_' COMMENT 'ROLE : 角色类属性 ',\\n  ENABLE        \\tCHAR(1)\\t DEFAULT 'Y'\\t COMMENT 'Y ： 资源有效， N ： 资源无效 ',  \\n  MEMO        \\t\\tVARCHAR(2000)\\t\\t\\t COMMENT '备注信息 ',  \\n  PRIMARY KEY (ID)\\n);</td>\n",
       "      <td>CREATE TABLE P_RES_ATTRIBUTE\\n(\\n  ID                INT UNSIGNED NOT NULL  AUTO_INCREMENT,\\n  NAME              VARCHAR(128)\\t\\t\\t COMMENT '受保护的资源相关的属性 ',  \\n  A_TYPE     \\t\\tCHAR(32)\\t NOT NULL\\t DEFAULT 'ROLE_' COMMENT 'ROLE : 角色类属性 ',\\n  ENABLE        \\tCHAR(1)\\t DEFAULT 'Y'\\t COMMENT 'Y ： 资源有效， N ： 资源无效 ',  \\n  MEMO        \\t\\tVARCHAR(2000)\\t\\t\\t COMMENT '备注信息 ',  \\n  PRIMARY KEY (ID)\\n);</td>\n",
       "    </tr>\n",
       "    <tr>\n",
       "      <th>42</th>\n",
       "      <td>503965</td>\n",
       "      <td>5</td>\n",
       "      <td>\"UNSIGNED\"</td>\n",
       "      <td>syntax error at or near \"UNSIGNED\", at index 54</td>\n",
       "      <td>UNSIGNED NOT NULL AUTO_INCREMENT,\\n  ATTRIBUTE_ID     \\tINT NOT NULL,\\n  RESOURCE_ID       INT NOT NULL,\\n  PRIMARY KEY (ID),\\n  UNIQUE KEY RES_ATTR_MAP_U1 (RESOURCE_ID, ATTRIBUTE_ID)\\n);</td>\n",
       "      <td>CREATE TABLE P_RES_ATTR_MAP\\n(\\n  ID                INT UNSIGNED NOT NULL AUTO_INCREMENT,\\n  ATTRIBUTE_ID     \\tINT NOT NULL,\\n  RESOURCE_ID       INT NOT NULL,\\n  PRIMARY KEY (ID),\\n  UNIQUE KEY RES_ATTR_MAP_U1 (RESOURCE_ID, ATTRIBUTE_ID)\\n);</td>\n",
       "    </tr>\n",
       "    <tr>\n",
       "      <th>43</th>\n",
       "      <td>503965</td>\n",
       "      <td>6</td>\n",
       "      <td>\"UNSIGNED\"</td>\n",
       "      <td>syntax error at or near \"UNSIGNED\", at index 57</td>\n",
       "      <td>UNSIGNED NOT NULL AUTO_INCREMENT,\\n  USER_ID         \\tINT not null,\\n  RES_ATTRIBUTE_ID  INT not null,\\n  PRIMARY KEY (ID)\\n);</td>\n",
       "      <td>create table P_USER_PERMISSION\\n(\\n  ID                INT UNSIGNED NOT NULL AUTO_INCREMENT,\\n  USER_ID         \\tINT not null,\\n  RES_ATTRIBUTE_ID  INT not null,\\n  PRIMARY KEY (ID)\\n);</td>\n",
       "    </tr>\n",
       "  </tbody>\n",
       "</table>\n",
       "</div>"
      ],
      "text/plain": [
       "   file_id  statement_nr   trunc_err                                      parse_error                                                                                                                                                                                                                                                                                                                                                                  original_highlight                                                                                                                                                                                                                                                                                                                                                                                                                                original\n",
       "39  503965  2             \"UNSIGNED\"  syntax error at or near \"UNSIGNED\", at index 47   UNSIGNED NOT NULL AUTO_INCREMENT,\\n  LOGINNAME         VARCHAR(128) not null,\\n  PASSWORD          VARCHAR(128) not null,\\n  ENABLED           CHAR(1) default 'Y',\\n  LAST_UPDATE_DATE  DATETIME,\\n  LAST_UPDATED_BY   VARCHAR(128),\\n  CREATION_DATE     DATETIME,\\n  CREATED_BY        VARCHAR(128),\\n  PRIMARY KEY (ID)\\n);                                                    create table P_USERS\\n(\\n  ID                INT UNSIGNED NOT NULL AUTO_INCREMENT,\\n  LOGINNAME         VARCHAR(128) not null,\\n  PASSWORD          VARCHAR(128) not null,\\n  ENABLED           CHAR(1) default 'Y',\\n  LAST_UPDATE_DATE  DATETIME,\\n  LAST_UPDATED_BY   VARCHAR(128),\\n  CREATION_DATE     DATETIME,\\n  CREATED_BY        VARCHAR(128),\\n  PRIMARY KEY (ID)\\n);                                                      \n",
       "40  503965  3             \"UNSIGNED\"  syntax error at or near \"UNSIGNED\", at index 51   UNSIGNED NOT NULL  AUTO_INCREMENT,\\n  IDENTIFICATION    VARCHAR(1024) NOT NULL COMMENT '受保护的资源定义,例如URL,业务层方法等。 ',\\n  R_TYPE     \\t\\tCHAR(32)\\t   NOT NULL COMMENT 'URL : URL层资源，  METHOD : 方法层资源， DAO ： DAO层资源 ',\\n  ENABLE        \\tCHAR(1)\\t DEFAULT 'Y'\\t COMMENT 'Y ： 资源有效， N ： 资源无效 ',  \\n  DESCRIPTION       VARCHAR(1000)\\t\\t\\t COMMENT '备注信息 ',  \\n  PRIMARY KEY (ID)\\n);  CREATE TABLE P_RESOURCES\\n(\\n  ID                INT UNSIGNED NOT NULL  AUTO_INCREMENT,\\n  IDENTIFICATION    VARCHAR(1024) NOT NULL COMMENT '受保护的资源定义,例如URL,业务层方法等。 ',\\n  R_TYPE     \\t\\tCHAR(32)\\t   NOT NULL COMMENT 'URL : URL层资源，  METHOD : 方法层资源， DAO ： DAO层资源 ',\\n  ENABLE        \\tCHAR(1)\\t DEFAULT 'Y'\\t COMMENT 'Y ： 资源有效， N ： 资源无效 ',  \\n  DESCRIPTION       VARCHAR(1000)\\t\\t\\t COMMENT '备注信息 ',  \\n  PRIMARY KEY (ID)\\n);\n",
       "41  503965  4             \"UNSIGNED\"  syntax error at or near \"UNSIGNED\", at index 55   UNSIGNED NOT NULL  AUTO_INCREMENT,\\n  NAME              VARCHAR(128)\\t\\t\\t COMMENT '受保护的资源相关的属性 ',  \\n  A_TYPE     \\t\\tCHAR(32)\\t NOT NULL\\t DEFAULT 'ROLE_' COMMENT 'ROLE : 角色类属性 ',\\n  ENABLE        \\tCHAR(1)\\t DEFAULT 'Y'\\t COMMENT 'Y ： 资源有效， N ： 资源无效 ',  \\n  MEMO        \\t\\tVARCHAR(2000)\\t\\t\\t COMMENT '备注信息 ',  \\n  PRIMARY KEY (ID)\\n);                                CREATE TABLE P_RES_ATTRIBUTE\\n(\\n  ID                INT UNSIGNED NOT NULL  AUTO_INCREMENT,\\n  NAME              VARCHAR(128)\\t\\t\\t COMMENT '受保护的资源相关的属性 ',  \\n  A_TYPE     \\t\\tCHAR(32)\\t NOT NULL\\t DEFAULT 'ROLE_' COMMENT 'ROLE : 角色类属性 ',\\n  ENABLE        \\tCHAR(1)\\t DEFAULT 'Y'\\t COMMENT 'Y ： 资源有效， N ： 资源无效 ',  \\n  MEMO        \\t\\tVARCHAR(2000)\\t\\t\\t COMMENT '备注信息 ',  \\n  PRIMARY KEY (ID)\\n);                          \n",
       "42  503965  5             \"UNSIGNED\"  syntax error at or near \"UNSIGNED\", at index 54   UNSIGNED NOT NULL AUTO_INCREMENT,\\n  ATTRIBUTE_ID     \\tINT NOT NULL,\\n  RESOURCE_ID       INT NOT NULL,\\n  PRIMARY KEY (ID),\\n  UNIQUE KEY RES_ATTR_MAP_U1 (RESOURCE_ID, ATTRIBUTE_ID)\\n);                                                                                                                                                                                        CREATE TABLE P_RES_ATTR_MAP\\n(\\n  ID                INT UNSIGNED NOT NULL AUTO_INCREMENT,\\n  ATTRIBUTE_ID     \\tINT NOT NULL,\\n  RESOURCE_ID       INT NOT NULL,\\n  PRIMARY KEY (ID),\\n  UNIQUE KEY RES_ATTR_MAP_U1 (RESOURCE_ID, ATTRIBUTE_ID)\\n);                                                                                                                                                                                   \n",
       "43  503965  6             \"UNSIGNED\"  syntax error at or near \"UNSIGNED\", at index 57   UNSIGNED NOT NULL AUTO_INCREMENT,\\n  USER_ID         \\tINT not null,\\n  RES_ATTRIBUTE_ID  INT not null,\\n  PRIMARY KEY (ID)\\n);                                                                                                                                                                                                                                                    create table P_USER_PERMISSION\\n(\\n  ID                INT UNSIGNED NOT NULL AUTO_INCREMENT,\\n  USER_ID         \\tINT not null,\\n  RES_ATTRIBUTE_ID  INT not null,\\n  PRIMARY KEY (ID)\\n);                                                                                                                                                                                                                                            "
      ]
     },
     "execution_count": 80,
     "metadata": {},
     "output_type": "execute_result"
    }
   ],
   "source": [
    "unsigned_check.head()"
   ]
  },
  {
   "attachments": {},
   "cell_type": "markdown",
   "metadata": {},
   "source": [
    "### Doing err counts again"
   ]
  },
  {
   "cell_type": "code",
   "execution_count": 81,
   "metadata": {},
   "outputs": [
    {
     "name": "stdout",
     "output_type": "stream",
     "text": [
      "[########################################] | 100% Completed | 6.99 ss\n",
      "[########################################] | 100% Completed | 6.82 ss\n",
      "(1145279, 131307)\n"
     ]
    }
   ],
   "source": [
    "no_sign = no_engine[\n",
    "    ~(no_engine.trunc_err.str.contains('signed',case=False,regex=False))\n",
    "]\n",
    "unsigned_check = no_engine[\n",
    "    (no_engine.trunc_err.str.contains('signed',case=False,regex=False))\n",
    "]\n",
    "print(get_stmt_and_file_count(no_sign))\n",
    "#auto_incr_check.sample(frac=0.6).head()"
   ]
  },
  {
   "cell_type": "code",
   "execution_count": 82,
   "metadata": {},
   "outputs": [
    {
     "name": "stdout",
     "output_type": "stream",
     "text": [
      "[########################################] | 100% Completed | 7.72 ss\n"
     ]
    }
   ],
   "source": [
    "errcounts = no_sign['trunc_err'].value_counts().compute(scheduler='processes')\n",
    "err_df = pd.DataFrame({'err':errcounts.index, 'cnt':errcounts.values})"
   ]
  },
  {
   "attachments": {},
   "cell_type": "markdown",
   "metadata": {},
   "source": [
    "### ORACLE STUFF"
   ]
  },
  {
   "cell_type": "code",
   "execution_count": 85,
   "metadata": {},
   "outputs": [
    {
     "name": "stdout",
     "output_type": "stream",
     "text": [
      "[########################################] | 100% Completed | 7.23 ss\n",
      "[########################################] | 100% Completed | 7.25 ss\n",
      "(20548, 2333)\n"
     ]
    }
   ],
   "source": [
    "ora_check = no_sign[\n",
    "    (no_sign.trunc_err.str.contains('initrans',case=False,regex=False)) |\n",
    "    (no_sign.trunc_err.str.contains('pctfree',case=False,regex=False)) |\n",
    "    (no_sign.trunc_err.str.contains('maxtrans',case=False,regex=False)) |\n",
    "    (no_sign.trunc_err.str.contains('logging',case=False,regex=False)) |\n",
    "    (no_sign.trunc_err.str.contains('maxtrans',case=False,regex=False))\n",
    "]\n",
    "print(get_stmt_and_file_count(ora_check))\n",
    "#auto_incr_check.sample(frac=0.6).head()"
   ]
  },
  {
   "cell_type": "code",
   "execution_count": 86,
   "metadata": {},
   "outputs": [
    {
     "name": "stdout",
     "output_type": "stream",
     "text": [
      "[########################################] | 100% Completed | 110.70 ms\n"
     ]
    },
    {
     "data": {
      "text/html": [
       "<div>\n",
       "<style scoped>\n",
       "    .dataframe tbody tr th:only-of-type {\n",
       "        vertical-align: middle;\n",
       "    }\n",
       "\n",
       "    .dataframe tbody tr th {\n",
       "        vertical-align: top;\n",
       "    }\n",
       "\n",
       "    .dataframe thead th {\n",
       "        text-align: right;\n",
       "    }\n",
       "</style>\n",
       "<table border=\"1\" class=\"dataframe\">\n",
       "  <thead>\n",
       "    <tr style=\"text-align: right;\">\n",
       "      <th></th>\n",
       "      <th>file_id</th>\n",
       "      <th>statement_nr</th>\n",
       "      <th>trunc_err</th>\n",
       "      <th>parse_error</th>\n",
       "      <th>original_highlight</th>\n",
       "      <th>original</th>\n",
       "    </tr>\n",
       "  </thead>\n",
       "  <tbody>\n",
       "    <tr>\n",
       "      <th>11417</th>\n",
       "      <td>507469</td>\n",
       "      <td>2</td>\n",
       "      <td>\"pctfree\"</td>\n",
       "      <td>syntax error at or near \"pctfree\", at index 246</td>\n",
       "      <td>pctfree 10\\n  initrans 1\\n  maxtrans 255\\n  storage\\n  (\\n    initial 2M\\n    next 2M\\n    minextents 1\\n    maxextents unlimited\\n  )\\nnologging;</td>\n",
       "      <td>-- Create table\\ncreate table MODEL_CALCULATES\\n(\\n  id_calc   NUMBER not null,\\n  calc_type CHAR(1) not null,\\n  pnpt_id   NUMBER(12) not null,\\n  rfpm_id   VARCHAR2(8) not null,\\n  summ_all  NUMBER(19,2) not null,\\n  date_stop DATE\\n)\\ntablespace DATA\\n  pctfree 10\\n  initrans 1\\n  maxtrans 255\\n  storage\\n  (\\n    initial 2M\\n    next 2M\\n    minextents 1\\n    maxextents unlimited\\n  )\\nnologging;</td>\n",
       "    </tr>\n",
       "    <tr>\n",
       "      <th>16958</th>\n",
       "      <td>509523</td>\n",
       "      <td>10</td>\n",
       "      <td>\"nologging\"</td>\n",
       "      <td>syntax error at or near \"nologging\", at index 21</td>\n",
       "      <td>nologging;</td>\n",
       "      <td>alter index PID_ATTR nologging;</td>\n",
       "    </tr>\n",
       "    <tr>\n",
       "      <th>7292</th>\n",
       "      <td>506625</td>\n",
       "      <td>112</td>\n",
       "      <td>\"INITRANS\"</td>\n",
       "      <td>syntax error at or near \"INITRANS\", at index 118</td>\n",
       "      <td>INITRANS 1 MAXTRANS 255 NOCACHE;</td>\n",
       "      <td>-- R_ALARM_MAIL\\nCREATE TABLE \"R_ALARM_MAIL\"(\\n\\t\"ID_MAIL\" Number(19,0) NOT NULL, \\n\\t\"ID_ALARM\" Varchar2(100) NOT NULL \\n) INITRANS 1 MAXTRANS 255 NOCACHE;</td>\n",
       "    </tr>\n",
       "    <tr>\n",
       "      <th>17176</th>\n",
       "      <td>509569</td>\n",
       "      <td>375</td>\n",
       "      <td>\"PCTFREE\"</td>\n",
       "      <td>syntax error at or near \"PCTFREE\", at index 244</td>\n",
       "      <td>PCTFREE 10 INITRANS 2 MAXTRANS 255 COMPUTE STATISTICS \\n  STORAGE(INITIAL 65536 NEXT 1048576 MINEXTENTS 1 MAXEXTENTS 2147483645\\n  PCTINCREASE 0 FREELISTS 1 FREELIST GROUPS 1 BUFFER_POOL DEFAULT FLASH_CACHE DEFAULT CELL_FLASH_CACHE DEFAULT)\\n  TABLESPACE \"SYSTEM\"  ENABLE;</td>\n",
       "      <td>--------------------------------------------------------\\n--  Constraints for Table COMPANY_ONE2ONE\\n--------------------------------------------------------\\n\\n  ALTER TABLE \"USERID\".\"COMPANY_ONE2ONE\" ADD PRIMARY KEY (\"ONE2ONE_IDX\")\\n  USING INDEX PCTFREE 10 INITRANS 2 MAXTRANS 255 COMPUTE STATISTICS \\n  STORAGE(INITIAL 65536 NEXT 1048576 MINEXTENTS 1 MAXEXTENTS 2147483645\\n  PCTINCREASE 0 FREELISTS 1 FREELIST GROUPS 1 BUFFER_POOL DEFAULT FLASH_CACHE DEFAULT CELL_FLASH_CACHE DEFAULT)\\n  TABLESPACE \"SYSTEM\"  ENABLE;</td>\n",
       "    </tr>\n",
       "    <tr>\n",
       "      <th>18548</th>\n",
       "      <td>510062</td>\n",
       "      <td>174</td>\n",
       "      <td>\"PCTFREE\"</td>\n",
       "      <td>syntax error at or near \"PCTFREE\", at index 223</td>\n",
       "      <td>PCTFREE 10 INITRANS 2 MAXTRANS 255 COMPUTE STATISTICS \\n  STORAGE(INITIAL 65536 NEXT 1048576 MINEXTENTS 1 MAXEXTENTS 2147483645\\n  PCTINCREASE 0 FREELISTS 1 FREELIST GROUPS 1 BUFFER_POOL DEFAULT FLASH_CACHE DEFAULT CELL_FLASH_CACHE DEFAULT)\\n  TABLESPACE \"SYSTEM\"  ENABLE;</td>\n",
       "      <td>--------------------------------------------------------\\n--  Constraints for Table COMMENTS\\n--------------------------------------------------------\\n\\n  ALTER TABLE \"JBLOG\".\"COMMENTS\" ADD PRIMARY KEY (\"CMTNO\")\\n  USING INDEX PCTFREE 10 INITRANS 2 MAXTRANS 255 COMPUTE STATISTICS \\n  STORAGE(INITIAL 65536 NEXT 1048576 MINEXTENTS 1 MAXEXTENTS 2147483645\\n  PCTINCREASE 0 FREELISTS 1 FREELIST GROUPS 1 BUFFER_POOL DEFAULT FLASH_CACHE DEFAULT CELL_FLASH_CACHE DEFAULT)\\n  TABLESPACE \"SYSTEM\"  ENABLE;</td>\n",
       "    </tr>\n",
       "  </tbody>\n",
       "</table>\n",
       "</div>"
      ],
      "text/plain": [
       "      file_id  statement_nr    trunc_err                                       parse_error                                                                                                                                                                                                                                                                 original_highlight                                                                                                                                                                                                                                                                                                                                                                                                                                                                                                                                   original\n",
       "11417  507469  2             \"pctfree\"    syntax error at or near \"pctfree\", at index 246    pctfree 10\\n  initrans 1\\n  maxtrans 255\\n  storage\\n  (\\n    initial 2M\\n    next 2M\\n    minextents 1\\n    maxextents unlimited\\n  )\\nnologging;                                                                                                                                -- Create table\\ncreate table MODEL_CALCULATES\\n(\\n  id_calc   NUMBER not null,\\n  calc_type CHAR(1) not null,\\n  pnpt_id   NUMBER(12) not null,\\n  rfpm_id   VARCHAR2(8) not null,\\n  summ_all  NUMBER(19,2) not null,\\n  date_stop DATE\\n)\\ntablespace DATA\\n  pctfree 10\\n  initrans 1\\n  maxtrans 255\\n  storage\\n  (\\n    initial 2M\\n    next 2M\\n    minextents 1\\n    maxextents unlimited\\n  )\\nnologging;                                                                                                                      \n",
       "16958  509523  10            \"nologging\"  syntax error at or near \"nologging\", at index 21   nologging;                                                                                                                                                                                                                                                                        alter index PID_ATTR nologging;                                                                                                                                                                                                                                                                                                                                                                                                                                                                                                          \n",
       "7292   506625  112           \"INITRANS\"   syntax error at or near \"INITRANS\", at index 118   INITRANS 1 MAXTRANS 255 NOCACHE;                                                                                                                                                                                                                                                  -- R_ALARM_MAIL\\nCREATE TABLE \"R_ALARM_MAIL\"(\\n\\t\"ID_MAIL\" Number(19,0) NOT NULL, \\n\\t\"ID_ALARM\" Varchar2(100) NOT NULL \\n) INITRANS 1 MAXTRANS 255 NOCACHE;                                                                                                                                                                                                                                                                                                                                                                             \n",
       "17176  509569  375           \"PCTFREE\"    syntax error at or near \"PCTFREE\", at index 244    PCTFREE 10 INITRANS 2 MAXTRANS 255 COMPUTE STATISTICS \\n  STORAGE(INITIAL 65536 NEXT 1048576 MINEXTENTS 1 MAXEXTENTS 2147483645\\n  PCTINCREASE 0 FREELISTS 1 FREELIST GROUPS 1 BUFFER_POOL DEFAULT FLASH_CACHE DEFAULT CELL_FLASH_CACHE DEFAULT)\\n  TABLESPACE \"SYSTEM\"  ENABLE;  --------------------------------------------------------\\n--  Constraints for Table COMPANY_ONE2ONE\\n--------------------------------------------------------\\n\\n  ALTER TABLE \"USERID\".\"COMPANY_ONE2ONE\" ADD PRIMARY KEY (\"ONE2ONE_IDX\")\\n  USING INDEX PCTFREE 10 INITRANS 2 MAXTRANS 255 COMPUTE STATISTICS \\n  STORAGE(INITIAL 65536 NEXT 1048576 MINEXTENTS 1 MAXEXTENTS 2147483645\\n  PCTINCREASE 0 FREELISTS 1 FREELIST GROUPS 1 BUFFER_POOL DEFAULT FLASH_CACHE DEFAULT CELL_FLASH_CACHE DEFAULT)\\n  TABLESPACE \"SYSTEM\"  ENABLE;\n",
       "18548  510062  174           \"PCTFREE\"    syntax error at or near \"PCTFREE\", at index 223    PCTFREE 10 INITRANS 2 MAXTRANS 255 COMPUTE STATISTICS \\n  STORAGE(INITIAL 65536 NEXT 1048576 MINEXTENTS 1 MAXEXTENTS 2147483645\\n  PCTINCREASE 0 FREELISTS 1 FREELIST GROUPS 1 BUFFER_POOL DEFAULT FLASH_CACHE DEFAULT CELL_FLASH_CACHE DEFAULT)\\n  TABLESPACE \"SYSTEM\"  ENABLE;  --------------------------------------------------------\\n--  Constraints for Table COMMENTS\\n--------------------------------------------------------\\n\\n  ALTER TABLE \"JBLOG\".\"COMMENTS\" ADD PRIMARY KEY (\"CMTNO\")\\n  USING INDEX PCTFREE 10 INITRANS 2 MAXTRANS 255 COMPUTE STATISTICS \\n  STORAGE(INITIAL 65536 NEXT 1048576 MINEXTENTS 1 MAXEXTENTS 2147483645\\n  PCTINCREASE 0 FREELISTS 1 FREELIST GROUPS 1 BUFFER_POOL DEFAULT FLASH_CACHE DEFAULT CELL_FLASH_CACHE DEFAULT)\\n  TABLESPACE \"SYSTEM\"  ENABLE;                     "
      ]
     },
     "execution_count": 86,
     "metadata": {},
     "output_type": "execute_result"
    }
   ],
   "source": [
    "ora_check.sample(frac=0.6).head()"
   ]
  },
  {
   "attachments": {},
   "cell_type": "markdown",
   "metadata": {},
   "source": [
    "### MODIFY"
   ]
  },
  {
   "cell_type": "code",
   "execution_count": 90,
   "metadata": {},
   "outputs": [
    {
     "name": "stdout",
     "output_type": "stream",
     "text": [
      "[########################################] | 100% Completed | 8.55 ss\n",
      "[########################################] | 100% Completed | 8.14 ss\n",
      "(37184, 3383)\n"
     ]
    }
   ],
   "source": [
    "no_ora = no_sign[\n",
    "    ~((no_sign.trunc_err.str.contains('initrans',case=False,regex=False)) |\n",
    "    (no_sign.trunc_err.str.contains('pctfree',case=False,regex=False)) |\n",
    "    (no_sign.trunc_err.str.contains('maxtrans',case=False,regex=False)) |\n",
    "    (no_sign.trunc_err.str.contains('logging',case=False,regex=False)) |\n",
    "    (no_sign.trunc_err.str.contains('maxtrans',case=False,regex=False)))\n",
    "]\n",
    "modify_check = no_ora[\n",
    "    (no_ora.trunc_err == '\"MODIFY\"') &\n",
    "    (no_ora.original.str.contains('ALTER TABLE',case=False,regex=False))\n",
    "]\n",
    "print(get_stmt_and_file_count(modify_check))\n",
    "#auto_incr_check.sample(frac=0.6).head()"
   ]
  },
  {
   "cell_type": "code",
   "execution_count": 89,
   "metadata": {},
   "outputs": [
    {
     "name": "stdout",
     "output_type": "stream",
     "text": [
      "[########################################] | 100% Completed | 107.05 ms\n"
     ]
    },
    {
     "data": {
      "text/html": [
       "<div>\n",
       "<style scoped>\n",
       "    .dataframe tbody tr th:only-of-type {\n",
       "        vertical-align: middle;\n",
       "    }\n",
       "\n",
       "    .dataframe tbody tr th {\n",
       "        vertical-align: top;\n",
       "    }\n",
       "\n",
       "    .dataframe thead th {\n",
       "        text-align: right;\n",
       "    }\n",
       "</style>\n",
       "<table border=\"1\" class=\"dataframe\">\n",
       "  <thead>\n",
       "    <tr style=\"text-align: right;\">\n",
       "      <th></th>\n",
       "      <th>file_id</th>\n",
       "      <th>statement_nr</th>\n",
       "      <th>trunc_err</th>\n",
       "      <th>parse_error</th>\n",
       "      <th>original_highlight</th>\n",
       "      <th>original</th>\n",
       "    </tr>\n",
       "  </thead>\n",
       "  <tbody>\n",
       "    <tr>\n",
       "      <th>6911</th>\n",
       "      <td>506497</td>\n",
       "      <td>26</td>\n",
       "      <td>\"MODIFY\"</td>\n",
       "      <td>syntax error at or near \"MODIFY\", at index 24</td>\n",
       "      <td>MODIFY `order_id` int(11) NOT NULL;</td>\n",
       "      <td>ALTER TABLE order_items MODIFY `order_id` int(11) NOT NULL;</td>\n",
       "    </tr>\n",
       "    <tr>\n",
       "      <th>6142</th>\n",
       "      <td>506269</td>\n",
       "      <td>220</td>\n",
       "      <td>\"MODIFY\"</td>\n",
       "      <td>syntax error at or near \"MODIFY\", at index 42</td>\n",
       "      <td>MODIFY  HSM_SEQ_NUM varchar2(4);</td>\n",
       "      <td>ALTER TABLE RCRA_HD_SEC_MATERIAL_ACTIVITY MODIFY  HSM_SEQ_NUM varchar2(4);</td>\n",
       "    </tr>\n",
       "    <tr>\n",
       "      <th>17182</th>\n",
       "      <td>509569</td>\n",
       "      <td>381</td>\n",
       "      <td>\"MODIFY\"</td>\n",
       "      <td>syntax error at or near \"MODIFY\", at index 36</td>\n",
       "      <td>MODIFY (\"SALENOL\" NOT NULL ENABLE);</td>\n",
       "      <td>ALTER TABLE \"USERID\".\"MONEY_TBL_02\" MODIFY (\"SALENOL\" NOT NULL ENABLE);</td>\n",
       "    </tr>\n",
       "    <tr>\n",
       "      <th>13962</th>\n",
       "      <td>508610</td>\n",
       "      <td>13</td>\n",
       "      <td>\"MODIFY\"</td>\n",
       "      <td>syntax error at or near \"MODIFY\", at index 34</td>\n",
       "      <td>MODIFY (\"ID_PRESSERV\" NOT NULL ENABLE);</td>\n",
       "      <td>ALTER TABLE \"SYSTEM\".\"PREST_SERV\" MODIFY (\"ID_PRESSERV\" NOT NULL ENABLE);</td>\n",
       "    </tr>\n",
       "    <tr>\n",
       "      <th>1761</th>\n",
       "      <td>504754</td>\n",
       "      <td>3</td>\n",
       "      <td>\"MODIFY\"</td>\n",
       "      <td>syntax error at or near \"MODIFY\", at index 32</td>\n",
       "      <td>MODIFY (\"SUPPLIER_WEIGHT\" NOT NULL ENABLE);</td>\n",
       "      <td>ALTER TABLE \"SUPPLIER_IN_STOCK\" MODIFY (\"SUPPLIER_WEIGHT\" NOT NULL ENABLE);</td>\n",
       "    </tr>\n",
       "  </tbody>\n",
       "</table>\n",
       "</div>"
      ],
      "text/plain": [
       "      file_id  statement_nr trunc_err                                    parse_error                            original_highlight                                                                     original\n",
       "6911   506497  26            \"MODIFY\"  syntax error at or near \"MODIFY\", at index 24   MODIFY `order_id` int(11) NOT NULL;          ALTER TABLE order_items MODIFY `order_id` int(11) NOT NULL;                \n",
       "6142   506269  220           \"MODIFY\"  syntax error at or near \"MODIFY\", at index 42   MODIFY  HSM_SEQ_NUM varchar2(4);             ALTER TABLE RCRA_HD_SEC_MATERIAL_ACTIVITY MODIFY  HSM_SEQ_NUM varchar2(4); \n",
       "17182  509569  381           \"MODIFY\"  syntax error at or near \"MODIFY\", at index 36   MODIFY (\"SALENOL\" NOT NULL ENABLE);          ALTER TABLE \"USERID\".\"MONEY_TBL_02\" MODIFY (\"SALENOL\" NOT NULL ENABLE);    \n",
       "13962  508610  13            \"MODIFY\"  syntax error at or near \"MODIFY\", at index 34   MODIFY (\"ID_PRESSERV\" NOT NULL ENABLE);      ALTER TABLE \"SYSTEM\".\"PREST_SERV\" MODIFY (\"ID_PRESSERV\" NOT NULL ENABLE);  \n",
       "1761   504754  3             \"MODIFY\"  syntax error at or near \"MODIFY\", at index 32   MODIFY (\"SUPPLIER_WEIGHT\" NOT NULL ENABLE);  ALTER TABLE \"SUPPLIER_IN_STOCK\" MODIFY (\"SUPPLIER_WEIGHT\" NOT NULL ENABLE);"
      ]
     },
     "execution_count": 89,
     "metadata": {},
     "output_type": "execute_result"
    }
   ],
   "source": [
    "modify_check.sample(frac=0.6).head()"
   ]
  },
  {
   "attachments": {},
   "cell_type": "markdown",
   "metadata": {},
   "source": [
    "### no modify, stop"
   ]
  },
  {
   "cell_type": "code",
   "execution_count": 91,
   "metadata": {},
   "outputs": [
    {
     "name": "stdout",
     "output_type": "stream",
     "text": [
      "[########################################] | 100% Completed | 6.93 ss\n",
      "[########################################] | 100% Completed | 6.94 ss\n",
      "(1087547, 129901)\n"
     ]
    }
   ],
   "source": [
    "no_modify = no_ora[\n",
    "    ~((no_ora.trunc_err == '\"MODIFY\"') &\n",
    "    (no_ora.original.str.contains('ALTER TABLE',case=False,regex=False)))\n",
    "]\n",
    "\n",
    "print(get_stmt_and_file_count(no_modify))\n",
    "#auto_incr_check.sample(frac=0.6).head()"
   ]
  },
  {
   "attachments": {},
   "cell_type": "markdown",
   "metadata": {},
   "source": [
    "### TBD"
   ]
  },
  {
   "cell_type": "code",
   "execution_count": 84,
   "metadata": {},
   "outputs": [
    {
     "data": {
      "text/html": [
       "<div>\n",
       "<style scoped>\n",
       "    .dataframe tbody tr th:only-of-type {\n",
       "        vertical-align: middle;\n",
       "    }\n",
       "\n",
       "    .dataframe tbody tr th {\n",
       "        vertical-align: top;\n",
       "    }\n",
       "\n",
       "    .dataframe thead th {\n",
       "        text-align: right;\n",
       "    }\n",
       "</style>\n",
       "<table border=\"1\" class=\"dataframe\">\n",
       "  <thead>\n",
       "    <tr style=\"text-align: right;\">\n",
       "      <th></th>\n",
       "      <th>err</th>\n",
       "      <th>cnt</th>\n",
       "    </tr>\n",
       "  </thead>\n",
       "  <tbody>\n",
       "    <tr>\n",
       "      <th>0</th>\n",
       "      <td>\"MODIFY\"</td>\n",
       "      <td>37240</td>\n",
       "    </tr>\n",
       "    <tr>\n",
       "      <th>1</th>\n",
       "      <td>\"$\"</td>\n",
       "      <td>27632</td>\n",
       "    </tr>\n",
       "    <tr>\n",
       "      <th>2</th>\n",
       "      <td>\"`#\"</td>\n",
       "      <td>25789</td>\n",
       "    </tr>\n",
       "    <tr>\n",
       "      <th>3</th>\n",
       "      <td>\"NOT\"</td>\n",
       "      <td>25648</td>\n",
       "    </tr>\n",
       "    <tr>\n",
       "      <th>4</th>\n",
       "      <td>\"REPLACE\"</td>\n",
       "      <td>25175</td>\n",
       "    </tr>\n",
       "    <tr>\n",
       "      <th>5</th>\n",
       "      <td>\"###\"</td>\n",
       "      <td>24371</td>\n",
       "    </tr>\n",
       "    <tr>\n",
       "      <th>6</th>\n",
       "      <td>\"=@\"</td>\n",
       "      <td>22106</td>\n",
       "    </tr>\n",
       "    <tr>\n",
       "      <th>7</th>\n",
       "      <td>\"IF\"</td>\n",
       "      <td>21453</td>\n",
       "    </tr>\n",
       "    <tr>\n",
       "      <th>8</th>\n",
       "      <td>\"IDENTITY\"</td>\n",
       "      <td>21429</td>\n",
       "    </tr>\n",
       "    <tr>\n",
       "      <th>9</th>\n",
       "      <td>\"IGNORE\"</td>\n",
       "      <td>20481</td>\n",
       "    </tr>\n",
       "    <tr>\n",
       "      <th>10</th>\n",
       "      <td>\".\"</td>\n",
       "      <td>19613</td>\n",
       "    </tr>\n",
       "    <tr>\n",
       "      <th>11</th>\n",
       "      <td>\"ENABLE\"</td>\n",
       "      <td>18380</td>\n",
       "    </tr>\n",
       "    <tr>\n",
       "      <th>12</th>\n",
       "      <td>\"\\\"</td>\n",
       "      <td>18304</td>\n",
       "    </tr>\n",
       "    <tr>\n",
       "      <th>13</th>\n",
       "      <td>operator too long at or near \"########################################</td>\n",
       "      <td>18123</td>\n",
       "    </tr>\n",
       "    <tr>\n",
       "      <th>14</th>\n",
       "      <td>\"foreign\"</td>\n",
       "      <td>16875</td>\n",
       "    </tr>\n",
       "    <tr>\n",
       "      <th>15</th>\n",
       "      <td>\"AUTOINCREMENT\"</td>\n",
       "      <td>16095</td>\n",
       "    </tr>\n",
       "    <tr>\n",
       "      <th>16</th>\n",
       "      <td>\"DEFINER\"</td>\n",
       "      <td>14156</td>\n",
       "    </tr>\n",
       "    <tr>\n",
       "      <th>17</th>\n",
       "      <td>\"{\"</td>\n",
       "      <td>14109</td>\n",
       "    </tr>\n",
       "    <tr>\n",
       "      <th>18</th>\n",
       "      <td>\"CONSTRAINTS\"</td>\n",
       "      <td>13455</td>\n",
       "    </tr>\n",
       "    <tr>\n",
       "      <th>19</th>\n",
       "      <td>\"constraints\"</td>\n",
       "      <td>12055</td>\n",
       "    </tr>\n",
       "    <tr>\n",
       "      <th>20</th>\n",
       "      <td>\"COMMENT\"</td>\n",
       "      <td>11781</td>\n",
       "    </tr>\n",
       "    <tr>\n",
       "      <th>21</th>\n",
       "      <td>\"FOREIGN\"</td>\n",
       "      <td>11505</td>\n",
       "    </tr>\n",
       "    <tr>\n",
       "      <th>22</th>\n",
       "      <td>\"/\"</td>\n",
       "      <td>10601</td>\n",
       "    </tr>\n",
       "    <tr>\n",
       "      <th>23</th>\n",
       "      <td>\"BYTE\"</td>\n",
       "      <td>9982</td>\n",
       "    </tr>\n",
       "    <tr>\n",
       "      <th>24</th>\n",
       "      <td>\"`&lt;&lt;\"</td>\n",
       "      <td>9556</td>\n",
       "    </tr>\n",
       "    <tr>\n",
       "      <th>25</th>\n",
       "      <td>\"utf8mb4\"</td>\n",
       "      <td>9151</td>\n",
       "    </tr>\n",
       "    <tr>\n",
       "      <th>26</th>\n",
       "      <td>\"CREATE\"</td>\n",
       "      <td>9137</td>\n",
       "    </tr>\n",
       "    <tr>\n",
       "      <th>27</th>\n",
       "      <td>\"if\"</td>\n",
       "      <td>8658</td>\n",
       "    </tr>\n",
       "    <tr>\n",
       "      <th>28</th>\n",
       "      <td>\"NULL\"</td>\n",
       "      <td>8527</td>\n",
       "    </tr>\n",
       "    <tr>\n",
       "      <th>29</th>\n",
       "      <td>\")\"</td>\n",
       "      <td>8527</td>\n",
       "    </tr>\n",
       "    <tr>\n",
       "      <th>30</th>\n",
       "      <td>\"delimiter\"</td>\n",
       "      <td>8150</td>\n",
       "    </tr>\n",
       "    <tr>\n",
       "      <th>31</th>\n",
       "      <td>\"`%\"</td>\n",
       "      <td>7328</td>\n",
       "    </tr>\n",
       "    <tr>\n",
       "      <th>32</th>\n",
       "      <td>\"identity\"</td>\n",
       "      <td>7127</td>\n",
       "    </tr>\n",
       "    <tr>\n",
       "      <th>33</th>\n",
       "      <td>\"</td>\n",
       "      <td>7056</td>\n",
       "    </tr>\n",
       "    <tr>\n",
       "      <th>34</th>\n",
       "      <td>\"value\"</td>\n",
       "      <td>7048</td>\n",
       "    </tr>\n",
       "    <tr>\n",
       "      <th>35</th>\n",
       "      <td>\"PRAGMA\"</td>\n",
       "      <td>6945</td>\n",
       "    </tr>\n",
       "    <tr>\n",
       "      <th>36</th>\n",
       "      <td>\"comment\"</td>\n",
       "      <td>6759</td>\n",
       "    </tr>\n",
       "    <tr>\n",
       "      <th>37</th>\n",
       "      <td>\"modify\"</td>\n",
       "      <td>6620</td>\n",
       "    </tr>\n",
       "    <tr>\n",
       "      <th>38</th>\n",
       "      <td>\"1\"</td>\n",
       "      <td>6586</td>\n",
       "    </tr>\n",
       "    <tr>\n",
       "      <th>39</th>\n",
       "      <td>\"INITRANS\"</td>\n",
       "      <td>6471</td>\n",
       "    </tr>\n",
       "    <tr>\n",
       "      <th>40</th>\n",
       "      <td>\"CHANGE\"</td>\n",
       "      <td>6397</td>\n",
       "    </tr>\n",
       "    <tr>\n",
       "      <th>41</th>\n",
       "      <td>\"REM\"</td>\n",
       "      <td>6246</td>\n",
       "    </tr>\n",
       "    <tr>\n",
       "      <th>42</th>\n",
       "      <td>\"ON\"</td>\n",
       "      <td>6192</td>\n",
       "    </tr>\n",
       "    <tr>\n",
       "      <th>43</th>\n",
       "      <td>\"BEGIN\"</td>\n",
       "      <td>6074</td>\n",
       "    </tr>\n",
       "    <tr>\n",
       "      <th>44</th>\n",
       "      <td>\"prompt\"</td>\n",
       "      <td>5786</td>\n",
       "    </tr>\n",
       "    <tr>\n",
       "      <th>45</th>\n",
       "      <td>\"VALUE\"</td>\n",
       "      <td>5764</td>\n",
       "    </tr>\n",
       "    <tr>\n",
       "      <th>46</th>\n",
       "      <td>\"FROM\"</td>\n",
       "      <td>5656</td>\n",
       "    </tr>\n",
       "    <tr>\n",
       "      <th>47</th>\n",
       "      <td>\"PCTFREE\"</td>\n",
       "      <td>5609</td>\n",
       "    </tr>\n",
       "    <tr>\n",
       "      <th>48</th>\n",
       "      <td>\";\"</td>\n",
       "      <td>5463</td>\n",
       "    </tr>\n",
       "    <tr>\n",
       "      <th>49</th>\n",
       "      <td>\"PURGE\"</td>\n",
       "      <td>5350</td>\n",
       "    </tr>\n",
       "    <tr>\n",
       "      <th>50</th>\n",
       "      <td>\"char\"</td>\n",
       "      <td>5236</td>\n",
       "    </tr>\n",
       "    <tr>\n",
       "      <th>51</th>\n",
       "      <td>\"pctfree\"</td>\n",
       "      <td>5213</td>\n",
       "    </tr>\n",
       "    <tr>\n",
       "      <th>52</th>\n",
       "      <td>\"cached\"</td>\n",
       "      <td>5024</td>\n",
       "    </tr>\n",
       "    <tr>\n",
       "      <th>53</th>\n",
       "      <td>\"//\"</td>\n",
       "      <td>4645</td>\n",
       "    </tr>\n",
       "    <tr>\n",
       "      <th>54</th>\n",
       "      <td>\"DATA\"</td>\n",
       "      <td>4450</td>\n",
       "    </tr>\n",
       "    <tr>\n",
       "      <th>55</th>\n",
       "      <td>\"OR\"</td>\n",
       "      <td>4384</td>\n",
       "    </tr>\n",
       "    <tr>\n",
       "      <th>56</th>\n",
       "      <td>\"SET\"</td>\n",
       "      <td>4100</td>\n",
       "    </tr>\n",
       "    <tr>\n",
       "      <th>57</th>\n",
       "      <td>\"CHAR\"</td>\n",
       "      <td>4075</td>\n",
       "    </tr>\n",
       "    <tr>\n",
       "      <th>58</th>\n",
       "      <td>\"SELECT\"</td>\n",
       "      <td>4051</td>\n",
       "    </tr>\n",
       "    <tr>\n",
       "      <th>59</th>\n",
       "      <td>\"utf8\"</td>\n",
       "      <td>3951</td>\n",
       "    </tr>\n",
       "    <tr>\n",
       "      <th>60</th>\n",
       "      <td>\"ALGORITHM\"</td>\n",
       "      <td>3936</td>\n",
       "    </tr>\n",
       "    <tr>\n",
       "      <th>61</th>\n",
       "      <td>\"*\"</td>\n",
       "      <td>3865</td>\n",
       "    </tr>\n",
       "    <tr>\n",
       "      <th>62</th>\n",
       "      <td>\"AFTER\"</td>\n",
       "      <td>3749</td>\n",
       "    </tr>\n",
       "    <tr>\n",
       "      <th>63</th>\n",
       "      <td>\"##\"</td>\n",
       "      <td>3737</td>\n",
       "    </tr>\n",
       "    <tr>\n",
       "      <th>64</th>\n",
       "      <td>\"&gt;\"</td>\n",
       "      <td>3574</td>\n",
       "    </tr>\n",
       "    <tr>\n",
       "      <th>65</th>\n",
       "      <td>\"CHARACTER\"</td>\n",
       "      <td>3562</td>\n",
       "    </tr>\n",
       "    <tr>\n",
       "      <th>66</th>\n",
       "      <td>\"desc\"</td>\n",
       "      <td>3537</td>\n",
       "    </tr>\n",
       "    <tr>\n",
       "      <th>67</th>\n",
       "      <td>\":\"</td>\n",
       "      <td>3469</td>\n",
       "    </tr>\n",
       "    <tr>\n",
       "      <th>68</th>\n",
       "      <td>\"EXCEPTION\"</td>\n",
       "      <td>3223</td>\n",
       "    </tr>\n",
       "    <tr>\n",
       "      <th>69</th>\n",
       "      <td>\"WITH\"</td>\n",
       "      <td>3205</td>\n",
       "    </tr>\n",
       "    <tr>\n",
       "      <th>70</th>\n",
       "      <td>\"on\"</td>\n",
       "      <td>3092</td>\n",
       "    </tr>\n",
       "    <tr>\n",
       "      <th>71</th>\n",
       "      <td>\"create\"</td>\n",
       "      <td>3058</td>\n",
       "    </tr>\n",
       "    <tr>\n",
       "      <th>72</th>\n",
       "      <td>\"PREPARE\"</td>\n",
       "      <td>3054</td>\n",
       "    </tr>\n",
       "    <tr>\n",
       "      <th>73</th>\n",
       "      <td>\"TO\"</td>\n",
       "      <td>3047</td>\n",
       "    </tr>\n",
       "    <tr>\n",
       "      <th>74</th>\n",
       "      <td>\"as\"</td>\n",
       "      <td>3030</td>\n",
       "    </tr>\n",
       "    <tr>\n",
       "      <th>75</th>\n",
       "      <td>\"LOGGING\"</td>\n",
       "      <td>2978</td>\n",
       "    </tr>\n",
       "    <tr>\n",
       "      <th>76</th>\n",
       "      <td>\"USING\"</td>\n",
       "      <td>2971</td>\n",
       "    </tr>\n",
       "    <tr>\n",
       "      <th>77</th>\n",
       "      <td>\"select\"</td>\n",
       "      <td>2825</td>\n",
       "    </tr>\n",
       "    <tr>\n",
       "      <th>78</th>\n",
       "      <td>\"DESC\"</td>\n",
       "      <td>2809</td>\n",
       "    </tr>\n",
       "    <tr>\n",
       "      <th>79</th>\n",
       "      <td>\"DEFAULT\"</td>\n",
       "      <td>2688</td>\n",
       "    </tr>\n",
       "    <tr>\n",
       "      <th>80</th>\n",
       "      <td>\"after\"</td>\n",
       "      <td>2641</td>\n",
       "    </tr>\n",
       "    <tr>\n",
       "      <th>81</th>\n",
       "      <td>\"}\"</td>\n",
       "      <td>2612</td>\n",
       "    </tr>\n",
       "    <tr>\n",
       "      <th>82</th>\n",
       "      <td>\"CLUSTERED\"</td>\n",
       "      <td>2500</td>\n",
       "    </tr>\n",
       "    <tr>\n",
       "      <th>83</th>\n",
       "      <td>\"EXECUTE\"</td>\n",
       "      <td>2457</td>\n",
       "    </tr>\n",
       "    <tr>\n",
       "      <th>84</th>\n",
       "      <td>\"exec\"</td>\n",
       "      <td>2455</td>\n",
       "    </tr>\n",
       "    <tr>\n",
       "      <th>85</th>\n",
       "      <td>\"go\"</td>\n",
       "      <td>2402</td>\n",
       "    </tr>\n",
       "    <tr>\n",
       "      <th>86</th>\n",
       "      <td>\"PRIMARY\"</td>\n",
       "      <td>2393</td>\n",
       "    </tr>\n",
       "    <tr>\n",
       "      <th>87</th>\n",
       "      <td>\"eval\"</td>\n",
       "      <td>2385</td>\n",
       "    </tr>\n",
       "    <tr>\n",
       "      <th>88</th>\n",
       "      <td>\"INDEX\"</td>\n",
       "      <td>2246</td>\n",
       "    </tr>\n",
       "    <tr>\n",
       "      <th>89</th>\n",
       "      <td>\"KEY\"</td>\n",
       "      <td>2201</td>\n",
       "    </tr>\n",
       "    <tr>\n",
       "      <th>90</th>\n",
       "      <td>\"ignore\"</td>\n",
       "      <td>2170</td>\n",
       "    </tr>\n",
       "    <tr>\n",
       "      <th>91</th>\n",
       "      <td>\"EXEC\"</td>\n",
       "      <td>2153</td>\n",
       "    </tr>\n",
       "    <tr>\n",
       "      <th>92</th>\n",
       "      <td>\"@@\"</td>\n",
       "      <td>2130</td>\n",
       "    </tr>\n",
       "    <tr>\n",
       "      <th>93</th>\n",
       "      <td>\"END$$\"</td>\n",
       "      <td>2115</td>\n",
       "    </tr>\n",
       "    <tr>\n",
       "      <th>94</th>\n",
       "      <td>\"set\"</td>\n",
       "      <td>2086</td>\n",
       "    </tr>\n",
       "    <tr>\n",
       "      <th>95</th>\n",
       "      <td>\":=\"</td>\n",
       "      <td>2077</td>\n",
       "    </tr>\n",
       "    <tr>\n",
       "      <th>96</th>\n",
       "      <td>\"&amp;\"</td>\n",
       "      <td>2052</td>\n",
       "    </tr>\n",
       "    <tr>\n",
       "      <th>97</th>\n",
       "      <td>\"DESCRIBE\"</td>\n",
       "      <td>2030</td>\n",
       "    </tr>\n",
       "    <tr>\n",
       "      <th>98</th>\n",
       "      <td>\"s\"</td>\n",
       "      <td>2021</td>\n",
       "    </tr>\n",
       "    <tr>\n",
       "      <th>99</th>\n",
       "      <td>\"INSERT\"</td>\n",
       "      <td>2001</td>\n",
       "    </tr>\n",
       "  </tbody>\n",
       "</table>\n",
       "</div>"
      ],
      "text/plain": [
       "                                                                       err    cnt\n",
       "0   \"MODIFY\"                                                                37240\n",
       "1   \"$\"                                                                     27632\n",
       "2   \"`#\"                                                                    25789\n",
       "3   \"NOT\"                                                                   25648\n",
       "4   \"REPLACE\"                                                               25175\n",
       "5   \"###\"                                                                   24371\n",
       "6   \"=@\"                                                                    22106\n",
       "7   \"IF\"                                                                    21453\n",
       "8   \"IDENTITY\"                                                              21429\n",
       "9   \"IGNORE\"                                                                20481\n",
       "10  \".\"                                                                     19613\n",
       "11  \"ENABLE\"                                                                18380\n",
       "12  \"\\\"                                                                     18304\n",
       "13  operator too long at or near \"########################################  18123\n",
       "14  \"foreign\"                                                               16875\n",
       "15  \"AUTOINCREMENT\"                                                         16095\n",
       "16  \"DEFINER\"                                                               14156\n",
       "17  \"{\"                                                                     14109\n",
       "18  \"CONSTRAINTS\"                                                           13455\n",
       "19  \"constraints\"                                                           12055\n",
       "20  \"COMMENT\"                                                               11781\n",
       "21  \"FOREIGN\"                                                               11505\n",
       "22  \"/\"                                                                     10601\n",
       "23  \"BYTE\"                                                                  9982 \n",
       "24  \"`<<\"                                                                   9556 \n",
       "25  \"utf8mb4\"                                                               9151 \n",
       "26  \"CREATE\"                                                                9137 \n",
       "27  \"if\"                                                                    8658 \n",
       "28  \"NULL\"                                                                  8527 \n",
       "29  \")\"                                                                     8527 \n",
       "30  \"delimiter\"                                                             8150 \n",
       "31  \"`%\"                                                                    7328 \n",
       "32  \"identity\"                                                              7127 \n",
       "33  \"                                                                       7056 \n",
       "34  \"value\"                                                                 7048 \n",
       "35  \"PRAGMA\"                                                                6945 \n",
       "36  \"comment\"                                                               6759 \n",
       "37  \"modify\"                                                                6620 \n",
       "38  \"1\"                                                                     6586 \n",
       "39  \"INITRANS\"                                                              6471 \n",
       "40  \"CHANGE\"                                                                6397 \n",
       "41  \"REM\"                                                                   6246 \n",
       "42  \"ON\"                                                                    6192 \n",
       "43  \"BEGIN\"                                                                 6074 \n",
       "44  \"prompt\"                                                                5786 \n",
       "45  \"VALUE\"                                                                 5764 \n",
       "46  \"FROM\"                                                                  5656 \n",
       "47  \"PCTFREE\"                                                               5609 \n",
       "48  \";\"                                                                     5463 \n",
       "49  \"PURGE\"                                                                 5350 \n",
       "50  \"char\"                                                                  5236 \n",
       "51  \"pctfree\"                                                               5213 \n",
       "52  \"cached\"                                                                5024 \n",
       "53  \"//\"                                                                    4645 \n",
       "54  \"DATA\"                                                                  4450 \n",
       "55  \"OR\"                                                                    4384 \n",
       "56  \"SET\"                                                                   4100 \n",
       "57  \"CHAR\"                                                                  4075 \n",
       "58  \"SELECT\"                                                                4051 \n",
       "59  \"utf8\"                                                                  3951 \n",
       "60  \"ALGORITHM\"                                                             3936 \n",
       "61  \"*\"                                                                     3865 \n",
       "62  \"AFTER\"                                                                 3749 \n",
       "63  \"##\"                                                                    3737 \n",
       "64  \">\"                                                                     3574 \n",
       "65  \"CHARACTER\"                                                             3562 \n",
       "66  \"desc\"                                                                  3537 \n",
       "67  \":\"                                                                     3469 \n",
       "68  \"EXCEPTION\"                                                             3223 \n",
       "69  \"WITH\"                                                                  3205 \n",
       "70  \"on\"                                                                    3092 \n",
       "71  \"create\"                                                                3058 \n",
       "72  \"PREPARE\"                                                               3054 \n",
       "73  \"TO\"                                                                    3047 \n",
       "74  \"as\"                                                                    3030 \n",
       "75  \"LOGGING\"                                                               2978 \n",
       "76  \"USING\"                                                                 2971 \n",
       "77  \"select\"                                                                2825 \n",
       "78  \"DESC\"                                                                  2809 \n",
       "79  \"DEFAULT\"                                                               2688 \n",
       "80  \"after\"                                                                 2641 \n",
       "81  \"}\"                                                                     2612 \n",
       "82  \"CLUSTERED\"                                                             2500 \n",
       "83  \"EXECUTE\"                                                               2457 \n",
       "84  \"exec\"                                                                  2455 \n",
       "85  \"go\"                                                                    2402 \n",
       "86  \"PRIMARY\"                                                               2393 \n",
       "87  \"eval\"                                                                  2385 \n",
       "88  \"INDEX\"                                                                 2246 \n",
       "89  \"KEY\"                                                                   2201 \n",
       "90  \"ignore\"                                                                2170 \n",
       "91  \"EXEC\"                                                                  2153 \n",
       "92  \"@@\"                                                                    2130 \n",
       "93  \"END$$\"                                                                 2115 \n",
       "94  \"set\"                                                                   2086 \n",
       "95  \":=\"                                                                    2077 \n",
       "96  \"&\"                                                                     2052 \n",
       "97  \"DESCRIBE\"                                                              2030 \n",
       "98  \"s\"                                                                     2021 \n",
       "99  \"INSERT\"                                                                2001 "
      ]
     },
     "execution_count": 84,
     "metadata": {},
     "output_type": "execute_result"
    }
   ],
   "source": [
    "err_df.head(100)"
   ]
  }
 ],
 "metadata": {
  "kernelspec": {
   "display_name": "windows",
   "language": "python",
   "name": "python3"
  },
  "language_info": {
   "codemirror_mode": {
    "name": "ipython",
    "version": 3
   },
   "file_extension": ".py",
   "mimetype": "text/x-python",
   "name": "python",
   "nbconvert_exporter": "python",
   "pygments_lexer": "ipython3",
   "version": "3.8.10"
  },
  "orig_nbformat": 4
 },
 "nbformat": 4,
 "nbformat_minor": 2
}
