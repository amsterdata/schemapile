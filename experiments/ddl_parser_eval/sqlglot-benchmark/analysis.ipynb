{
 "cells": [
  {
   "cell_type": "markdown",
   "id": "9b0ab207-2cb7-4f9d-9b70-2c72d7b15d4d",
   "metadata": {},
   "source": [
    "# Setup / Parsing"
   ]
  },
  {
   "cell_type": "code",
   "execution_count": null,
   "id": "383ce590-026a-4412-b924-a44cb5400264",
   "metadata": {},
   "outputs": [],
   "source": [
    "-- Download data\n",
    "!mkdir data\n",
    "!mkdir output\n",
    "!curl -o data/schemapile-perm-sqlfiles.tar.gz https://zenodo.org/records/12682521/files/schemapile-perm-sqlfiles.tar.gz\n",
    "!tar -xf schemapile-perm-sqlfiles.tar.gz data/sqlfiles_permissive"
   ]
  },
  {
   "cell_type": "code",
   "execution_count": null,
   "id": "ad41363b-8451-47aa-a069-ed6cdb3eb156",
   "metadata": {},
   "outputs": [],
   "source": [
    "-- Parse SQLGlot 11\n",
    "!pip install sqlparse pyarrow duckdb sqlglot==11.4.1 \n",
    "!mkdir output/sqlglot-11\n",
    "!python sqlglot_eval_11.py"
   ]
  },
  {
   "cell_type": "code",
   "execution_count": null,
   "id": "a198e3e2-1e80-48ac-b5d6-4fb562747efb",
   "metadata": {},
   "outputs": [],
   "source": [
    "-- Parse SQLGlot 25\n",
    "!pip install sqlglot==25.5.1\n",
    "!mkdir output/sqlglot-25\n",
    "!python sqlglot_eval_25.py"
   ]
  },
  {
   "cell_type": "code",
   "execution_count": null,
   "id": "355d64d1-09ac-40f6-acd6-49a263487f17",
   "metadata": {},
   "outputs": [],
   "source": [
    "-- Parse pglast baseline\n",
    "!pip install pglast==6.2\n",
    "!mkdir output/pglast\n",
    "!python pglast_eval.py"
   ]
  },
  {
   "cell_type": "markdown",
   "id": "4b7092b4-68cf-443b-8e47-0ca91b28629d",
   "metadata": {},
   "source": [
    "# Eval"
   ]
  },
  {
   "cell_type": "code",
   "execution_count": 250,
   "id": "d4fc8d0a-869d-4481-8e5a-e7d7b40e6db5",
   "metadata": {},
   "outputs": [],
   "source": [
    "import os\n",
    "import json\n",
    "import duckdb\n",
    "import pandas as pd"
   ]
  },
  {
   "cell_type": "code",
   "execution_count": 251,
   "id": "3b21ebc3-41a7-44e3-bbd2-90cca8ee2ffa",
   "metadata": {},
   "outputs": [],
   "source": [
    "con = duckdb.connect('output/ddl_bench.ddb')"
   ]
  },
  {
   "cell_type": "code",
   "execution_count": 266,
   "id": "d0dd6085-dd44-46ee-8b17-1f6092da0231",
   "metadata": {},
   "outputs": [
    {
     "data": {
      "application/vnd.jupyter.widget-view+json": {
       "model_id": "6f1b985b751f47e9b68ce9eba253649d",
       "version_major": 2,
       "version_minor": 0
      },
      "text/plain": [
       "FloatProgress(value=0.0, layout=Layout(width='auto'), style=ProgressStyle(bar_color='black'))"
      ]
     },
     "metadata": {},
     "output_type": "display_data"
    },
    {
     "data": {
      "text/plain": [
       "1395799"
      ]
     },
     "execution_count": 266,
     "metadata": {},
     "output_type": "execute_result"
    }
   ],
   "source": [
    "output = \"output/sqlglot-11/\"\n",
    "\n",
    "files = os.listdir(output)\n",
    "\n",
    "all = []\n",
    "count = 0\n",
    "for i, file in enumerate(files):\n",
    "    if \".ipynb\" in file:\n",
    "        continue\n",
    "    ast = json.load(open(output + file))[2]\n",
    "    all.extend(ast)\n",
    "    count += sum([a['parsed'] for a in ast])\n",
    "\n",
    "df = pd.DataFrame.from_records(all)\n",
    "con.execute(\"CREATE OR REPLACE TABLE sqlglot_11 AS SELECT * FROM df\")\n",
    "count"
   ]
  },
  {
   "cell_type": "code",
   "execution_count": 243,
   "id": "f52d54b9-20c8-4506-8838-a285948d8082",
   "metadata": {
    "scrolled": true
   },
   "outputs": [
    {
     "data": {
      "application/vnd.jupyter.widget-view+json": {
       "model_id": "87c667770380441693fdac8c6bc32e37",
       "version_major": 2,
       "version_minor": 0
      },
      "text/plain": [
       "FloatProgress(value=0.0, layout=Layout(width='auto'), style=ProgressStyle(bar_color='black'))"
      ]
     },
     "metadata": {},
     "output_type": "display_data"
    },
    {
     "data": {
      "text/plain": [
       "<duckdb.duckdb.DuckDBPyConnection at 0x8f13184f0>"
      ]
     },
     "execution_count": 243,
     "metadata": {},
     "output_type": "execute_result"
    }
   ],
   "source": [
    "output = \"output/sqlglot-25/\"\n",
    "\n",
    "files = os.listdir(output)\n",
    "\n",
    "all = []\n",
    "count = 0\n",
    "for i, file in enumerate(files):\n",
    "    if \".ipynb\" in file:\n",
    "        continue\n",
    "    ast = json.load(open(output + file))[2]\n",
    "    all.extend(ast)\n",
    "    count += sum([a['parsed'] for a in ast])\n",
    "\n",
    "df = pd.DataFrame.from_records(all)\n",
    "con.execute(\"CREATE OR REPLACE TABLE sqlglot_25 AS SELECT * FROM df\")"
   ]
  },
  {
   "cell_type": "code",
   "execution_count": 245,
   "id": "e2cb92c2-6b58-4a75-862c-fde930b40759",
   "metadata": {},
   "outputs": [
    {
     "data": {
      "application/vnd.jupyter.widget-view+json": {
       "model_id": "2f53ebfeed164473ad5e342fed10eef5",
       "version_major": 2,
       "version_minor": 0
      },
      "text/plain": [
       "FloatProgress(value=0.0, layout=Layout(width='auto'), style=ProgressStyle(bar_color='black'))"
      ]
     },
     "metadata": {},
     "output_type": "display_data"
    },
    {
     "data": {
      "text/plain": [
       "1263565"
      ]
     },
     "execution_count": 245,
     "metadata": {},
     "output_type": "execute_result"
    }
   ],
   "source": [
    "output = \"output/pglast/\"\n",
    "\n",
    "files = os.listdir(output)\n",
    "\n",
    "all = []\n",
    "count = 0\n",
    "for i, file in enumerate(files):\n",
    "    if \".ipynb\" in file:\n",
    "        continue\n",
    "    ast = json.load(open(output + file))[2]\n",
    "    all.extend(ast)\n",
    "    count += sum([a['parsed'] for a in ast])\n",
    "\n",
    "df = pd.DataFrame.from_records(all)\n",
    "con.execute(\"CREATE OR REPLACE TABLE pglast AS SELECT * FROM df\")\n",
    "count"
   ]
  },
  {
   "cell_type": "code",
   "execution_count": 269,
   "id": "d66577da-9b4f-46e8-99db-38f8000e4214",
   "metadata": {},
   "outputs": [
    {
     "data": {
      "text/html": [
       "<div>\n",
       "<style scoped>\n",
       "    .dataframe tbody tr th:only-of-type {\n",
       "        vertical-align: middle;\n",
       "    }\n",
       "\n",
       "    .dataframe tbody tr th {\n",
       "        vertical-align: top;\n",
       "    }\n",
       "\n",
       "    .dataframe thead th {\n",
       "        text-align: right;\n",
       "    }\n",
       "</style>\n",
       "<table border=\"1\" class=\"dataframe\">\n",
       "  <thead>\n",
       "    <tr style=\"text-align: right;\">\n",
       "      <th></th>\n",
       "      <th>parsed</th>\n",
       "      <th>tables</th>\n",
       "      <th>columns</th>\n",
       "      <th>unique</th>\n",
       "      <th>notnull</th>\n",
       "      <th>primary</th>\n",
       "      <th>foreign</th>\n",
       "    </tr>\n",
       "  </thead>\n",
       "  <tbody>\n",
       "    <tr>\n",
       "      <th>0</th>\n",
       "      <td>0.93404</td>\n",
       "      <td>0.778929</td>\n",
       "      <td>0.857807</td>\n",
       "      <td>0.982371</td>\n",
       "      <td>0.974702</td>\n",
       "      <td>0.970468</td>\n",
       "      <td>0.962652</td>\n",
       "    </tr>\n",
       "  </tbody>\n",
       "</table>\n",
       "</div>"
      ],
      "text/plain": [
       "    parsed    tables   columns    unique   notnull   primary   foreign\n",
       "0  0.93404  0.778929  0.857807  0.982371  0.974702  0.970468  0.962652"
      ]
     },
     "execution_count": 269,
     "metadata": {},
     "output_type": "execute_result"
    }
   ],
   "source": [
    "con.execute(\"\"\"SELECT sum(s.parsed)/sum(p.parsed) as parsed, \n",
    "sum((len(list_intersect(list_transform(p.table_list, x -> lower(x)), list_transform(s.table_list, x -> lower(x)))) = len(p.table_list))::int) / sum((p.table_list is not null)::int) as tables, \n",
    "sum((len(list_intersect(list_transform(p.columns_list, x -> lower(x)), list_transform(s.column_list, x -> lower(x)))) = len(p.columns_list))::int) / sum((p.columns_list is not null)::int) as columns,\n",
    "sum((p.num_ctr_unique = s.num_ctr_unique)::int) / count(*) as unique,\n",
    "sum((p.num_ctr_notnull = s.num_ctr_notnull)::int) / count(*) as notnull,\n",
    "sum((p.num_ctr_primary = s.num_ctr_primary)::int) / count(*) as primary,\n",
    "sum((p.num_ctr_foreign = s.num_ctr_foreign)::int) / count(*) as foreign,\n",
    "FROM pglast as p INNER JOIN sqlglot_11 as s \n",
    "ON p.file_id = s.file_id AND p.statement_nr = s.statement_id \n",
    "WHERE p.parsed = 1\n",
    "\"\"\").fetchdf()"
   ]
  },
  {
   "cell_type": "code",
   "execution_count": 264,
   "id": "714965db-ef9c-43fc-917a-c04849260d70",
   "metadata": {},
   "outputs": [
    {
     "data": {
      "text/html": [
       "<div>\n",
       "<style scoped>\n",
       "    .dataframe tbody tr th:only-of-type {\n",
       "        vertical-align: middle;\n",
       "    }\n",
       "\n",
       "    .dataframe tbody tr th {\n",
       "        vertical-align: top;\n",
       "    }\n",
       "\n",
       "    .dataframe thead th {\n",
       "        text-align: right;\n",
       "    }\n",
       "</style>\n",
       "<table border=\"1\" class=\"dataframe\">\n",
       "  <thead>\n",
       "    <tr style=\"text-align: right;\">\n",
       "      <th></th>\n",
       "      <th>parsed</th>\n",
       "      <th>total</th>\n",
       "      <th>success_rate</th>\n",
       "    </tr>\n",
       "  </thead>\n",
       "  <tbody>\n",
       "    <tr>\n",
       "      <th>0</th>\n",
       "      <td>2282491.0</td>\n",
       "      <td>2713000</td>\n",
       "      <td>0.841316</td>\n",
       "    </tr>\n",
       "  </tbody>\n",
       "</table>\n",
       "</div>"
      ],
      "text/plain": [
       "      parsed    total  success_rate\n",
       "0  2282491.0  2713000      0.841316"
      ]
     },
     "execution_count": 264,
     "metadata": {},
     "output_type": "execute_result"
    }
   ],
   "source": [
    "con.execute(\"\"\"SELECT sum(parsed) as parsed, count(*) as total, sum(parsed)/count(*) as success_rate FROM sqlglot_11\"\"\").fetchdf()"
   ]
  },
  {
   "cell_type": "code",
   "execution_count": 258,
   "id": "cad4c0ce-61e0-4562-9dc4-9807faaa4022",
   "metadata": {},
   "outputs": [
    {
     "data": {
      "text/html": [
       "<div>\n",
       "<style scoped>\n",
       "    .dataframe tbody tr th:only-of-type {\n",
       "        vertical-align: middle;\n",
       "    }\n",
       "\n",
       "    .dataframe tbody tr th {\n",
       "        vertical-align: top;\n",
       "    }\n",
       "\n",
       "    .dataframe thead th {\n",
       "        text-align: right;\n",
       "    }\n",
       "</style>\n",
       "<table border=\"1\" class=\"dataframe\">\n",
       "  <thead>\n",
       "    <tr style=\"text-align: right;\">\n",
       "      <th></th>\n",
       "      <th>parsed</th>\n",
       "      <th>tables</th>\n",
       "      <th>columns</th>\n",
       "      <th>unique</th>\n",
       "      <th>notnull</th>\n",
       "      <th>primary</th>\n",
       "      <th>foreign</th>\n",
       "    </tr>\n",
       "  </thead>\n",
       "  <tbody>\n",
       "    <tr>\n",
       "      <th>0</th>\n",
       "      <td>0.978623</td>\n",
       "      <td>0.954494</td>\n",
       "      <td>0.942057</td>\n",
       "      <td>0.999555</td>\n",
       "      <td>0.982652</td>\n",
       "      <td>0.984404</td>\n",
       "      <td>0.989454</td>\n",
       "    </tr>\n",
       "  </tbody>\n",
       "</table>\n",
       "</div>"
      ],
      "text/plain": [
       "     parsed    tables   columns    unique   notnull   primary   foreign\n",
       "0  0.978623  0.954494  0.942057  0.999555  0.982652  0.984404  0.989454"
      ]
     },
     "execution_count": 258,
     "metadata": {},
     "output_type": "execute_result"
    }
   ],
   "source": [
    "con.execute(\"\"\"SELECT sum(s.parsed)/sum(p.parsed) as parsed, \n",
    "sum((len(list_intersect(list_transform(p.table_list, x -> lower(x)), list_transform(s.table_list, x -> lower(x)))) = len(p.table_list))::int) / sum((p.table_list is not null)::int) as tables, \n",
    "sum((len(list_intersect(list_transform(p.columns_list, x -> lower(x)), list_transform(s.column_list, x -> lower(x)))) = len(p.columns_list))::int) / sum((p.columns_list is not null)::int) as columns,\n",
    "sum((p.num_ctr_unique = s.num_ctr_unique)::int) / count(*) as unique,\n",
    "sum((p.num_ctr_notnull = s.num_ctr_notnull)::int) / count(*) as notnull,\n",
    "sum((p.num_ctr_primary = s.num_ctr_primary)::int) / count(*) as primary,\n",
    "sum((p.num_ctr_foreign = s.num_ctr_foreign)::int) / count(*) as foreign,\n",
    "FROM pglast as p INNER JOIN sqlglot_25 as s \n",
    "ON p.file_id = s.file_id AND p.statement_nr = s.statement_id \n",
    "WHERE p.parsed = 1\n",
    "\"\"\").fetchdf()"
   ]
  },
  {
   "cell_type": "code",
   "execution_count": 259,
   "id": "92fe7de2-4454-4b17-a7b2-dbf6392b3f98",
   "metadata": {},
   "outputs": [
    {
     "data": {
      "text/html": [
       "<div>\n",
       "<style scoped>\n",
       "    .dataframe tbody tr th:only-of-type {\n",
       "        vertical-align: middle;\n",
       "    }\n",
       "\n",
       "    .dataframe tbody tr th {\n",
       "        vertical-align: top;\n",
       "    }\n",
       "\n",
       "    .dataframe thead th {\n",
       "        text-align: right;\n",
       "    }\n",
       "</style>\n",
       "<table border=\"1\" class=\"dataframe\">\n",
       "  <thead>\n",
       "    <tr style=\"text-align: right;\">\n",
       "      <th></th>\n",
       "      <th>parsed</th>\n",
       "      <th>tables</th>\n",
       "      <th>columns</th>\n",
       "      <th>unique</th>\n",
       "      <th>notnull</th>\n",
       "      <th>primary</th>\n",
       "      <th>foreign</th>\n",
       "    </tr>\n",
       "  </thead>\n",
       "  <tbody>\n",
       "    <tr>\n",
       "      <th>0</th>\n",
       "      <td>0.978623</td>\n",
       "      <td>0.954494</td>\n",
       "      <td>0.942057</td>\n",
       "      <td>0.999555</td>\n",
       "      <td>0.982652</td>\n",
       "      <td>0.984404</td>\n",
       "      <td>0.989454</td>\n",
       "    </tr>\n",
       "  </tbody>\n",
       "</table>\n",
       "</div>"
      ],
      "text/plain": [
       "     parsed    tables   columns    unique   notnull   primary   foreign\n",
       "0  0.978623  0.954494  0.942057  0.999555  0.982652  0.984404  0.989454"
      ]
     },
     "execution_count": 259,
     "metadata": {},
     "output_type": "execute_result"
    }
   ],
   "source": [
    "con.execute(\"\"\"SELECT sum(s.parsed)/sum(p.parsed) as parsed, \n",
    "sum((len(list_intersect(list_transform(p.table_list, x -> lower(x)), list_transform(s.table_list, x -> lower(x)))) = len(p.table_list))::int) / sum((p.table_list is not null)::int) as tables, \n",
    "sum((len(list_intersect(list_transform(p.columns_list, x -> lower(x)), list_transform(s.column_list, x -> lower(x)))) = len(p.columns_list))::int) / sum((p.columns_list is not null)::int) as columns,\n",
    "sum((p.num_ctr_unique = s.num_ctr_unique)::int) / count(*) as unique,\n",
    "sum((p.num_ctr_notnull = s.num_ctr_notnull)::int) / count(*) as notnull,\n",
    "sum((p.num_ctr_primary = s.num_ctr_primary)::int) / count(*) as primary,\n",
    "sum((p.num_ctr_foreign = s.num_ctr_foreign)::int) / count(*) as foreign,\n",
    "FROM pglast as p INNER JOIN sqlglot_25 as s \n",
    "ON p.file_id = s.file_id AND p.statement_nr = s.statement_id \n",
    "WHERE p.parsed = 1\n",
    "\"\"\").fetchdf()"
   ]
  },
  {
   "cell_type": "code",
   "execution_count": 265,
   "id": "b21c46a3-1be1-448b-8d08-da2bdbab8ade",
   "metadata": {},
   "outputs": [
    {
     "data": {
      "text/html": [
       "<div>\n",
       "<style scoped>\n",
       "    .dataframe tbody tr th:only-of-type {\n",
       "        vertical-align: middle;\n",
       "    }\n",
       "\n",
       "    .dataframe tbody tr th {\n",
       "        vertical-align: top;\n",
       "    }\n",
       "\n",
       "    .dataframe thead th {\n",
       "        text-align: right;\n",
       "    }\n",
       "</style>\n",
       "<table border=\"1\" class=\"dataframe\">\n",
       "  <thead>\n",
       "    <tr style=\"text-align: right;\">\n",
       "      <th></th>\n",
       "      <th>parsed</th>\n",
       "      <th>total</th>\n",
       "      <th>success_rate</th>\n",
       "    </tr>\n",
       "  </thead>\n",
       "  <tbody>\n",
       "    <tr>\n",
       "      <th>0</th>\n",
       "      <td>2630500.0</td>\n",
       "      <td>2713000</td>\n",
       "      <td>0.969591</td>\n",
       "    </tr>\n",
       "  </tbody>\n",
       "</table>\n",
       "</div>"
      ],
      "text/plain": [
       "      parsed    total  success_rate\n",
       "0  2630500.0  2713000      0.969591"
      ]
     },
     "execution_count": 265,
     "metadata": {},
     "output_type": "execute_result"
    }
   ],
   "source": [
    "con.execute(\"\"\"SELECT sum(parsed) as parsed, count(*) as total, sum(parsed)/count(*) as success_rate FROM sqlglot_25\"\"\").fetchdf()"
   ]
  }
 ],
 "metadata": {
  "kernelspec": {
   "display_name": "Python 3 (ipykernel)",
   "language": "python",
   "name": "python3"
  },
  "language_info": {
   "codemirror_mode": {
    "name": "ipython",
    "version": 3
   },
   "file_extension": ".py",
   "mimetype": "text/x-python",
   "name": "python",
   "nbconvert_exporter": "python",
   "pygments_lexer": "ipython3",
   "version": "3.11.5"
  }
 },
 "nbformat": 4,
 "nbformat_minor": 5
}
