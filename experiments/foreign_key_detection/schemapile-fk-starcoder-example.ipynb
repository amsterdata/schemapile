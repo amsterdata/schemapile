{
 "cells": [
  {
   "cell_type": "code",
   "execution_count": null,
   "id": "c23cb9e8",
   "metadata": {},
   "outputs": [],
   "source": [
    "!pip install git+https://github.com/tdoehmen/jsonformer.git"
   ]
  },
  {
   "cell_type": "code",
   "execution_count": null,
   "id": "3f839650",
   "metadata": {
    "scrolled": true
   },
   "outputs": [],
   "source": [
    "import argparse\n",
    "import torch\n",
    "from transformers import (AutoModelForCausalLM, AutoTokenizer,\n",
    "                          GenerationConfig, set_seed)\n",
    "from jsonformer import Jsonformer\n",
    "\n",
    "model_id = \"tdoehmen/schemapile-fk-starcoder\"\n",
    "tokenizer = AutoTokenizer.from_pretrained(model_id)\n",
    "tokenizer.eos_token_id = tokenizer.convert_tokens_to_ids(\"<|end|>\")\n",
    "tokenizer.eos_token_id = tokenizer.eos_token_id\n",
    "generation_config = GenerationConfig(\n",
    "    temperature=float(0.01),\n",
    "    top_k=50,\n",
    "    top_p=0.95,\n",
    "    repetition_penalty=1.2,\n",
    "    do_sample=True,\n",
    "    pad_token_id=tokenizer.eos_token_id,\n",
    "    eos_token_id=tokenizer.convert_tokens_to_ids(dialogue_template.end_token),\n",
    "    min_new_tokens=32,\n",
    "    max_new_tokens=512,\n",
    ")\n",
    "\n",
    "model = AutoModelForCausalLM.from_pretrained(\n",
    "    model_id, load_in_8bit=True, device_map=\"auto\", torch_dtype=torch.float16\n",
    ")"
   ]
  },
  {
   "cell_type": "code",
   "execution_count": 15,
   "id": "e5ba87a0",
   "metadata": {},
   "outputs": [],
   "source": [
    "import os\n",
    "import json\n",
    "\n",
    "# patch jsonformer\n",
    "def patch_jsonformer(jsonformer):\n",
    "    def generate_array(item_schema, obj) -> list:\n",
    "        for _ in range(jsonformer.max_array_length):\n",
    "            # forces array to have at least one element\n",
    "            element = jsonformer.generate_value(item_schema, obj)\n",
    "            obj[-1] = element\n",
    "\n",
    "            obj.append(jsonformer.generation_marker)\n",
    "            input_prompt = jsonformer.get_prompt()\n",
    "            obj.pop()\n",
    "            input_tensor = jsonformer.tokenizer.encode(input_prompt, return_tensors=\"pt\")\n",
    "            output = jsonformer.model.forward(input_tensor.to(jsonformer.model.device))\n",
    "            logits = output.logits[0, -1]\n",
    "\n",
    "\n",
    "            top_indices = logits.topk(30).indices\n",
    "            sorted_token_ids = top_indices[logits[top_indices].argsort(descending=True)]\n",
    "\n",
    "            found_comma = False\n",
    "            found_close_bracket = False\n",
    "            for token_id in sorted_token_ids:\n",
    "                decoded_token = jsonformer.tokenizer.decode(token_id)\n",
    "                if '{' in decoded_token:\n",
    "                    found_comma = True\n",
    "                    break\n",
    "                if ']' in decoded_token:\n",
    "                    found_close_bracket = True\n",
    "                    break\n",
    "\n",
    "            if found_close_bracket or not found_comma:\n",
    "                break\n",
    "\n",
    "        return obj\n",
    "    \n",
    "    def get_prompt():\n",
    "        template = \"\"\"{prompt}{progress}\"\"\"\n",
    "        progress = json.dumps(jsonformer.value)\n",
    "        gen_marker_index = progress.find(f'\"{jsonformer.generation_marker}\"')\n",
    "        if gen_marker_index != -1:\n",
    "            progress = progress[:gen_marker_index]\n",
    "        else:\n",
    "            raise ValueError(\"Failed to find generation marker\")\n",
    "\n",
    "        prompt = template.format(\n",
    "            prompt=jsonformer.prompt,\n",
    "            #schema=json.dumps(jsonformer.json_schema),\n",
    "            progress=progress,\n",
    "        )\n",
    "\n",
    "        return prompt\n",
    "    jsonformer.get_prompt = get_prompt \n",
    "    jsonformer.generate_array = generate_array\n",
    "    return jsonformer\n",
    "\n",
    "def get_enums_from_prompt_text(prompt_text):\n",
    "    src = prompt_text.split(\"\\n\")[1]\n",
    "    trg = prompt_text.split(\"\\n\")[2]\n",
    "    src_table = src[:src.find(\"(\")]\n",
    "    src_cols = src[src.find(\"(\")+1:src.find(\")\")].split(\", \")\n",
    "    trg_table = trg[:trg.find(\"(\")]\n",
    "    trg_cols = trg[trg.find(\"(\")+1:trg.find(\")\")].split(\", \")\n",
    "    return src_table, src_cols, trg_table, trg_cols\n",
    "\n",
    "def generate_response_as_json_starcoder(prompt):\n",
    "    src_table, src_cols, trg_table, trg_cols = get_enums_from_prompt_text(prompt)\n",
    "        \n",
    "    json_schema_fk = {\n",
    "            \"type\": \"object\",\n",
    "            \"properties\": {\n",
    "                      \"table\": { \n",
    "                          \"type\": \"enum\",\n",
    "                          \"values\": [src_table]\n",
    "                      },\n",
    "                      \"column\": { \n",
    "                        \"type\": \"enum\",\n",
    "                        \"values\": src_cols\n",
    "                      },\n",
    "                      \"referencedTable\": { \n",
    "                          \"type\": \"enum\",\n",
    "                          \"values\": [trg_table]\n",
    "                      },\n",
    "                      \"referencedColumn\": { \n",
    "                        \"type\": \"enum\",\n",
    "                        \"values\": trg_cols\n",
    "                      },\n",
    "                    },\n",
    "            \"required\": [\"table\", \"column\", \"referencedTable\", \"referencedColumn\"],\n",
    "    }\n",
    "    \n",
    "    formatted_prompt = f\"<|system|>\\n<|end|>\\n<|user|>\\n{prompt}<|end|>\\n<|assistant|>\"\n",
    "    \n",
    "\n",
    "    jsonformer = Jsonformer(model, tokenizer, json_schema_fk, formatted_prompt, debug = False)\n",
    "    patch_jsonformer(jsonformer)\n",
    "    result_json = jsonformer()\n",
    "    \n",
    "    return result_json"
   ]
  },
  {
   "cell_type": "code",
   "execution_count": 14,
   "id": "044ef1a2",
   "metadata": {},
   "outputs": [
    {
     "name": "stdout",
     "output_type": "stream",
     "text": [
      "You are given the following SQL database tables: \n",
      "staff(staff_id, staff_address_id, nickname, first_name, middle_name, last_name, date_of_birth, date_joined_staff, date_left_staff)\n",
      "addresses(address_id, line_1_number_building, city, zip_postcode, state_province_county, country)\n",
      "Output a json string with the following schema {table, column, referencedTable, referencedColumn} that contains the foreign key relationship between the two tables.\n"
     ]
    }
   ],
   "source": [
    "text = 'You are given the following SQL database tables: \\nstaff(staff_id, staff_address_id, nickname, first_name, middle_name, last_name, date_of_birth, date_joined_staff, date_left_staff)\\naddresses(address_id, line_1_number_building, city, zip_postcode, state_province_county, country)\\nOutput a json string with the following schema {table, column, referencedTable, referencedColumn} that contains the foreign key relationship between the two tables.'\n",
    "print(text)"
   ]
  },
  {
   "cell_type": "code",
   "execution_count": 16,
   "id": "0c8dcf9d",
   "metadata": {},
   "outputs": [
    {
     "data": {
      "text/plain": [
       "{'table': 'staff',\n",
       " 'column': 'staff_address_id',\n",
       " 'referencedTable': 'addresses',\n",
       " 'referencedColumn': 'address_id'}"
      ]
     },
     "execution_count": 16,
     "metadata": {},
     "output_type": "execute_result"
    }
   ],
   "source": [
    "generate_response_as_json_starcoder(text)"
   ]
  }
 ],
 "metadata": {
  "kernelspec": {
   "display_name": "Python 3 (ipykernel)",
   "language": "python",
   "name": "python3"
  },
  "language_info": {
   "codemirror_mode": {
    "name": "ipython",
    "version": 3
   },
   "file_extension": ".py",
   "mimetype": "text/x-python",
   "name": "python",
   "nbconvert_exporter": "python",
   "pygments_lexer": "ipython3",
   "version": "3.11.5"
  }
 },
 "nbformat": 4,
 "nbformat_minor": 5
}
