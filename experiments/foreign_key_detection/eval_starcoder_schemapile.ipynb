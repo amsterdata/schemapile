{
 "cells": [
  {
   "cell_type": "code",
   "execution_count": null,
   "outputs": [],
   "source": [
    "# prepare starcoder "
   ],
   "metadata": {
    "collapsed": false,
    "pycharm": {
     "name": "#%%\n"
    }
   }
  },
  {
   "cell_type": "code",
   "execution_count": null,
   "id": "4bb4a844",
   "metadata": {
    "pycharm": {
     "name": "#%%\n",
     "is_executing": true
    }
   },
   "outputs": [],
   "source": [
    "!pip install jsonformer"
   ]
  },
  {
   "cell_type": "code",
   "execution_count": 1,
   "id": "3bbaf8af",
   "metadata": {
    "pycharm": {
     "name": "#%%\n"
    }
   },
   "outputs": [],
   "source": [
    "# patch jsonformer\n",
    "def apply_generate_array_fix(jsonformer):\n",
    "    def generate_array(item_schema, obj) -> list:\n",
    "        for _ in range(jsonformer.max_array_length):\n",
    "            # forces array to have at least one element\n",
    "            element = jsonformer.generate_value(item_schema, obj)\n",
    "            obj[-1] = element\n",
    "\n",
    "            obj.append(jsonformer.generation_marker)\n",
    "            input_prompt = jsonformer.get_prompt()\n",
    "            obj.pop()\n",
    "            input_tensor = jsonformer.tokenizer.encode(input_prompt, return_tensors=\"pt\")\n",
    "            output = jsonformer.model.forward(input_tensor.to(jsonformer.model.device))\n",
    "            logits = output.logits[0, -1]\n",
    "\n",
    "\n",
    "            top_indices = logits.topk(30).indices\n",
    "            sorted_token_ids = top_indices[logits[top_indices].argsort(descending=True)]\n",
    "\n",
    "            found_comma = False\n",
    "            found_close_bracket = False\n",
    "            for token_id in sorted_token_ids:\n",
    "                decoded_token = jsonformer.tokenizer.decode(token_id)\n",
    "                if '{' in decoded_token:\n",
    "                    found_comma = True\n",
    "                    break\n",
    "                if ']' in decoded_token:\n",
    "                    found_close_bracket = True\n",
    "                    break\n",
    "\n",
    "            if found_close_bracket or not found_comma:\n",
    "                break\n",
    "\n",
    "        return obj\n",
    "    \n",
    "    def get_prompt():\n",
    "        template = \"\"\"{prompt}{progress}\"\"\"\n",
    "        progress = json.dumps(jsonformer.value)\n",
    "        gen_marker_index = progress.find(f'\"{jsonformer.generation_marker}\"')\n",
    "        if gen_marker_index != -1:\n",
    "            progress = progress[:gen_marker_index]\n",
    "        else:\n",
    "            raise ValueError(\"Failed to find generation marker\")\n",
    "\n",
    "        prompt = template.format(\n",
    "            prompt=jsonformer.prompt,\n",
    "            #schema=json.dumps(jsonformer.json_schema),\n",
    "            progress=progress,\n",
    "        )\n",
    "\n",
    "        return prompt\n",
    "    jsonformer.get_prompt = get_prompt \n",
    "    jsonformer.generate_array = generate_array\n",
    "    return jsonformer"
   ]
  },
  {
   "cell_type": "code",
   "execution_count": 2,
   "id": "682debb5",
   "metadata": {
    "pycharm": {
     "name": "#%%\n"
    }
   },
   "outputs": [
    {
     "name": "stderr",
     "output_type": "stream",
     "text": [
      "2023-08-28 14:51:14.437471: I tensorflow/core/util/port.cc:110] oneDNN custom operations are on. You may see slightly different numerical results due to floating-point round-off errors from different computation orders. To turn them off, set the environment variable `TF_ENABLE_ONEDNN_OPTS=0`.\n",
      "2023-08-28 14:51:14.724011: I tensorflow/core/platform/cpu_feature_guard.cc:182] This TensorFlow binary is optimized to use available CPU instructions in performance-critical operations.\n",
      "To enable the following instructions: AVX2 AVX512F AVX512_VNNI FMA, in other operations, rebuild TensorFlow with the appropriate compiler flags.\n",
      "2023-08-28 14:51:16.530171: W tensorflow/compiler/tf2tensorrt/utils/py_utils.cc:38] TF-TRT Warning: Could not find TensorRT\n"
     ]
    }
   ],
   "source": [
    "import argparse\n",
    "import torch\n",
    "from starcoder_finetune.dialogues import DialogueTemplate, get_dialogue_template\n",
    "from transformers import (AutoModelForCausalLM, AutoTokenizer,\n",
    "                          GenerationConfig, set_seed)\n",
    "from jsonformer import Jsonformer\n",
    "\n",
    "def initialize_model(model_id):\n",
    "    revision = None\n",
    "    system_prompt = None\n",
    "    set_seed(42)\n",
    "    \n",
    "    try:\n",
    "        dialogue_template = DialogueTemplate.from_pretrained(model_id, revision=revision)\n",
    "    except Exception:\n",
    "        print(\"No dialogue template found in model repo. Defaulting to the `no_system` template.\")\n",
    "        dialogue_template = get_dialogue_template(\"no_system\")\n",
    "\n",
    "    tokenizer = AutoTokenizer.from_pretrained(model_id, revision=revision)\n",
    "    tokenizer.eos_token_id = tokenizer.convert_tokens_to_ids(dialogue_template.end_token)\n",
    "    tokenizer.eos_token_id = tokenizer.eos_token_id\n",
    "    generation_config = GenerationConfig(\n",
    "        temperature=float(0.01),\n",
    "        top_k=50,\n",
    "        top_p=0.95,\n",
    "        repetition_penalty=1.2,\n",
    "        do_sample=True,\n",
    "        pad_token_id=tokenizer.eos_token_id,\n",
    "        eos_token_id=tokenizer.convert_tokens_to_ids(dialogue_template.end_token),\n",
    "        min_new_tokens=32,\n",
    "        max_new_tokens=512,\n",
    "    )\n",
    "    \n",
    "    device = \"cuda\" if torch.cuda.is_available() else \"cpu\"\n",
    "    model = AutoModelForCausalLM.from_pretrained(\n",
    "        model_id, revision=revision, load_in_8bit=True, device_map=\"auto\", torch_dtype=torch.float16\n",
    "    )\n",
    "    \n",
    "    return model, tokenizer, dialogue_template"
   ]
  },
  {
   "cell_type": "code",
   "execution_count": null,
   "outputs": [],
   "source": [
    "def generate_response_as_json_starcoder(prompt_text):\n",
    "    prompt =[\n",
    "        {\n",
    "            \"role\": \"user\",\n",
    "            \"content\": prompt_text,\n",
    "        }\n",
    "    ]\n",
    "    dialogue_template.messages = [prompt] if isinstance(prompt, dict) else prompt\n",
    "    formatted_prompt = dialogue_template.get_inference_prompt()\n",
    "\n",
    "    src_table, src_cols, trg_table, trg_cols = get_enums_from_prompt_text(prompt_text)\n",
    "    \n",
    "    json_schema_fk = {\n",
    "            \"type\": \"object\",\n",
    "            \"properties\": {\n",
    "                      \"table\": { \n",
    "                          \"type\": \"enum\",\n",
    "                          \"values\": [src_table]\n",
    "                      },\n",
    "                      \"column\": { \n",
    "                        \"type\": \"enum\",\n",
    "                        \"values\": src_cols\n",
    "                      },\n",
    "                      \"referencedTable\": { \n",
    "                          \"type\": \"enum\",\n",
    "                          \"values\": [trg_table]\n",
    "                      },\n",
    "                      \"referencedColumn\": { \n",
    "                        \"type\": \"enum\",\n",
    "                        \"values\": trg_cols\n",
    "                      },\n",
    "                    },\n",
    "            \"required\": [\"table\", \"column\", \"referencedTable\", \"referencedColumn\"],\n",
    "    }\n",
    "    \n",
    "\n",
    "    jsonformer = Jsonformer(model, tokenizer, json_schema_fk, formatted_prompt, debug = False)\n",
    "    apply_generate_array_fix(jsonformer)\n",
    "    result_json = jsonformer()\n",
    "    \n",
    "    return result_json"
   ],
   "metadata": {
    "collapsed": false,
    "pycharm": {
     "name": "#%%\n"
    }
   }
  },
  {
   "cell_type": "code",
   "execution_count": null,
   "outputs": [],
   "source": [
    "# prepare openai"
   ],
   "metadata": {
    "collapsed": false,
    "pycharm": {
     "name": "#%%\n"
    }
   }
  },
  {
   "cell_type": "code",
   "execution_count": 4,
   "id": "b6a3f488",
   "metadata": {
    "pycharm": {
     "name": "#%%\n"
    }
   },
   "outputs": [],
   "source": [
    "import openai\n",
    "\n",
    "openai.api_key = \"sk-...\"\n",
    "\n",
    "from tenacity import retry, wait_random_exponential, stop_after_attempt\n",
    "@retry(wait=wait_random_exponential(multiplier=1, max=40), stop=stop_after_attempt(3))\n",
    "def generate_response_as_json_gpt35(prompt_text):\n",
    "        src_table, src_cols, trg_table, trg_cols = get_enums_from_prompt_text(prompt_text)\n",
    "\n",
    "        functions = [\n",
    "        {\n",
    "            \"name\": \"get_foreign_key\",\n",
    "            \"description\": \"Get foreign keys\",\n",
    "            \"parameters\": {\n",
    "                \"type\": \"object\",\n",
    "                \"properties\": {\n",
    "                    \"table\": { \n",
    "                        \"type\": \"string\" ,\n",
    "                        \"values\": [src_table]\n",
    "                      },\n",
    "                      \"column\": { \n",
    "                        \"type\": \"string\",\n",
    "                        \"values\": src_cols\n",
    "                      },\n",
    "                      \"referencedTable\": { \n",
    "                        \"type\": \"string\", \n",
    "                        \"values\": [trg_table]\n",
    "                      },\n",
    "                      \"referencedColumn\": { \n",
    "                        \"type\": \"string\",\n",
    "                        \"values\": trg_cols\n",
    "                      },\n",
    "                },\n",
    "                \"required\": [\"table\", \"column\", \"referencedTable\", \"referencedColumn\"],\n",
    "            },\n",
    "        }]\n",
    "        foreign_keys_llm = openai.ChatCompletion.create(\n",
    "            model=\"gpt-3.5-turbo\",\n",
    "            messages=[\n",
    "                {\"role\": \"system\", \"content\": \"You are a helpful assistant that always returns responses in JSON without any additional explanations. Only Respond with the desired JSON, NOTHING else, no explanations.\"},\n",
    "                {\"role\": \"user\", \"content\": prompt_text},\n",
    "            ],\n",
    "            functions = functions,\n",
    "            temperature=0,\n",
    "        )[\"choices\"][0][\"message\"]\n",
    "        \n",
    "        return json.loads(foreign_keys_llm[\"function_call\"][\"arguments\"])"
   ]
  },
  {
   "cell_type": "code",
   "execution_count": null,
   "outputs": [],
   "source": [
    "# generate predictions"
   ],
   "metadata": {
    "collapsed": false,
    "pycharm": {
     "name": "#%%\n"
    }
   }
  },
  {
   "cell_type": "code",
   "execution_count": 5,
   "id": "759facf0",
   "metadata": {
    "pycharm": {
     "name": "#%%\n"
    }
   },
   "outputs": [],
   "source": [
    "import json\n",
    "import os\n",
    "prompts_ground_truth_spider = json.load(open(f\"prompts_ground_truth_spider.json\"))\n",
    "prompts_ground_truth_bird = json.load(open(f\"prompts_ground_truth_bird.json\"))\n",
    "prompts_ground_truth_ctu = json.load(open(f\"prompts_ground_truth_ctu.json\"))"
   ]
  },
  {
   "cell_type": "code",
   "execution_count": 6,
   "id": "dc8cef57",
   "metadata": {
    "pycharm": {
     "name": "#%%\n"
    }
   },
   "outputs": [],
   "source": [
    "def get_enums_from_prompt_text(prompt_text):\n",
    "    src = prompt_text.split(\"\\n\")[1]\n",
    "    trg = prompt_text.split(\"\\n\")[2]\n",
    "    src_table = src[:src.find(\"(\")]\n",
    "    src_cols = src[src.find(\"(\")+1:src.find(\")\")].split(\", \")\n",
    "    trg_table = trg[:trg.find(\"(\")]\n",
    "    trg_cols = trg[trg.find(\"(\")+1:trg.find(\")\")].split(\", \")\n",
    "    return src_table, src_cols, trg_table, trg_cols\n",
    "\n",
    "def generate_responses(prompts_ground_truth, method, output_file, recompute=False):\n",
    "    responses = {}\n",
    "    if os.path.exists(output_file) and not recompute:\n",
    "        responses = json.load(open(output_file))\n",
    "    \n",
    "    generate_response_as_json = method\n",
    "    for dataset_name in prompts_ground_truth:\n",
    "        if dataset_name in responses:\n",
    "            continue\n",
    "            \n",
    "        print(f\"determining fk's for: {dataset_name}\")\n",
    "        \n",
    "        prompt = prompts_ground_truth[dataset_name][\"prompt\"]\n",
    "        response_json = None\n",
    "        try:\n",
    "            response_json = generate_response_as_json(prompt)\n",
    "        except Exception as e:\n",
    "            print(f\"error with prompt {dataset_name}: {str(e)}\")\n",
    "        responses[dataset_name] = response_json\n",
    "        \n",
    "        with open(output_file, \"w+\") as f:\n",
    "            json.dump(responses, f)\n",
    "    return responses "
   ]
  },
  {
   "cell_type": "code",
   "execution_count": null,
   "outputs": [],
   "source": [
    "## generate predictions starcoder schemapile"
   ],
   "metadata": {
    "collapsed": false,
    "pycharm": {
     "name": "#%%\n"
    }
   }
  },
  {
   "cell_type": "code",
   "execution_count": 19,
   "id": "d4852cd3",
   "metadata": {
    "pycharm": {
     "name": "#%%\n"
    }
   },
   "outputs": [
    {
     "name": "stdout",
     "output_type": "stream",
     "text": [
      "No dialogue template found in model repo. Defaulting to the `no_system` template.\n"
     ]
    },
    {
     "name": "stderr",
     "output_type": "stream",
     "text": [
      "This model has some weights that should be kept in higher precision, you need to upgrade `accelerate` to properly deal with them (`pip install --upgrade accelerate`).\n"
     ]
    },
    {
     "data": {
      "application/vnd.jupyter.widget-view+json": {
       "model_id": "473798b133a24b9e92bb091b9202792d",
       "version_major": 2,
       "version_minor": 0
      },
      "text/plain": [
       "Loading checkpoint shards:   0%|          | 0/7 [00:00<?, ?it/s]"
      ]
     },
     "metadata": {},
     "output_type": "display_data"
    }
   ],
   "source": [
    "model, tokenizer, dialogue_template = initialize_model(\"starcoder-schemapile\")"
   ]
  },
  {
   "cell_type": "code",
   "execution_count": 22,
   "id": "c30bd107",
   "metadata": {
    "scrolled": true,
    "pycharm": {
     "name": "#%%\n"
    }
   },
   "outputs": [],
   "source": [
    "responses_starcoder_schemapile_spider = generate_responses(prompts_ground_truth_spider,\n",
    "                               generate_response_as_json_starcoder, \"responses_starcoder_schemapile_spider.json\")"
   ]
  },
  {
   "cell_type": "code",
   "execution_count": 23,
   "id": "f25367fd",
   "metadata": {
    "scrolled": true,
    "pycharm": {
     "name": "#%%\n"
    }
   },
   "outputs": [],
   "source": [
    "responses_starcoder_schemapile_bird = generate_responses(prompts_ground_truth_bird,\n",
    "                               generate_response_as_json_starcoder, \"responses_starcoder_schemapile_bird.json\")"
   ]
  },
  {
   "cell_type": "code",
   "execution_count": 24,
   "id": "566bf622",
   "metadata": {
    "scrolled": true,
    "pycharm": {
     "name": "#%%\n"
    }
   },
   "outputs": [],
   "source": [
    "responses_starcoder_schemapile_ctu = generate_responses(prompts_ground_truth_ctu,\n",
    "                               generate_response_as_json_starcoder, \"responses_starcoder_schemapile_ctu.json\")"
   ]
  },
  {
   "cell_type": "code",
   "execution_count": null,
   "outputs": [],
   "source": [
    "## generate predictions starcoder alpha"
   ],
   "metadata": {
    "collapsed": false,
    "pycharm": {
     "name": "#%%\n"
    }
   }
  },
  {
   "cell_type": "code",
   "execution_count": 16,
   "id": "9e2102a2",
   "metadata": {
    "pycharm": {
     "name": "#%%\n"
    }
   },
   "outputs": [
    {
     "name": "stderr",
     "output_type": "stream",
     "text": [
      "This model has some weights that should be kept in higher precision, you need to upgrade `accelerate` to properly deal with them (`pip install --upgrade accelerate`).\n"
     ]
    },
    {
     "data": {
      "application/vnd.jupyter.widget-view+json": {
       "model_id": "6ed62738434f4505aa73ae971fd2655a",
       "version_major": 2,
       "version_minor": 0
      },
      "text/plain": [
       "Loading checkpoint shards:   0%|          | 0/4 [00:00<?, ?it/s]"
      ]
     },
     "metadata": {},
     "output_type": "display_data"
    }
   ],
   "source": [
    "model, tokenizer, dialogue_template = initialize_model(\"HuggingFaceH4/starchat-alpha\")"
   ]
  },
  {
   "cell_type": "code",
   "execution_count": 25,
   "id": "11a99c2d",
   "metadata": {
    "pycharm": {
     "name": "#%%\n"
    }
   },
   "outputs": [],
   "source": [
    "responses_starcoder_alpha_spider = generate_responses(prompts_ground_truth_spider, \n",
    "                               generate_response_as_json_starcoder, \"responses_starcoder_alpha_spider.json\")"
   ]
  },
  {
   "cell_type": "code",
   "execution_count": 26,
   "id": "fee5efc4",
   "metadata": {
    "scrolled": true,
    "pycharm": {
     "name": "#%%\n"
    }
   },
   "outputs": [],
   "source": [
    "responses_starcoder_alpha_bird = generate_responses(prompts_ground_truth_bird, \n",
    "                               generate_response_as_json_starcoder, \"responses_starcoder_alpha_bird.json\")"
   ]
  },
  {
   "cell_type": "code",
   "execution_count": null,
   "id": "b2a64256",
   "metadata": {
    "scrolled": true,
    "pycharm": {
     "name": "#%%\n"
    }
   },
   "outputs": [],
   "source": [
    "responses_starcoder_alpha_ctu = generate_responses(prompts_ground_truth_ctu, \n",
    "                               generate_response_as_json_starcoder, \"responses_starcoder_alpha_ctu.json\")"
   ]
  },
  {
   "cell_type": "code",
   "execution_count": null,
   "outputs": [],
   "source": [
    "## generate predictions gpt3.5"
   ],
   "metadata": {
    "collapsed": false,
    "pycharm": {
     "name": "#%%\n"
    }
   }
  },
  {
   "cell_type": "code",
   "execution_count": 20,
   "id": "d8cff927",
   "metadata": {
    "scrolled": true,
    "pycharm": {
     "name": "#%%\n"
    }
   },
   "outputs": [
    {
     "name": "stdout",
     "output_type": "stream",
     "text": [
      "determining fk's for: college_1_sqlite_class_course\n",
      "determining fk's for: college_1_sqlite_course_department\n",
      "determining fk's for: college_1_sqlite_department_employee\n",
      "determining fk's for: college_1_sqlite_enroll_student\n",
      "determining fk's for: college_1_sqlite_enroll_class\n",
      "determining fk's for: college_1_sqlite_professor_department\n",
      "determining fk's for: college_1_sqlite_professor_employee\n",
      "determining fk's for: college_1_sqlite_student_department\n",
      "determining fk's for: perpetrator_sqlite_perpetrator_people\n",
      "determining fk's for: wine_1_sqlite_wine_appellations\n",
      "determining fk's for: riding_club_sqlite_coach_club\n",
      "determining fk's for: riding_club_sqlite_player_coach_coach\n",
      "determining fk's for: riding_club_sqlite_player_coach_player\n",
      "determining fk's for: riding_club_sqlite_match_result_club\n",
      "determining fk's for: insurance_and_eClaims_sqlite_policies_customers\n",
      "determining fk's for: insurance_and_eClaims_sqlite_claim_headers_policies\n",
      "determining fk's for: insurance_and_eClaims_sqlite_claims_documents_staff\n",
      "determining fk's for: insurance_and_eClaims_sqlite_claims_documents_claim_headers\n",
      "determining fk's for: insurance_and_eClaims_sqlite_claims_processing_staff\n",
      "determining fk's for: insurance_and_eClaims_sqlite_claims_processing_claim_headers\n",
      "determining fk's for: student_transcripts_tracking_sqlite_degree_programs_departments\n",
      "determining fk's for: student_transcripts_tracking_sqlite_sections_courses\n",
      "determining fk's for: student_transcripts_tracking_sqlite_student_enrolment_students\n",
      "determining fk's for: student_transcripts_tracking_sqlite_student_enrolment_courses_courses\n",
      "determining fk's for: cre_Doc_Control_Systems_sqlite_documents_ref_shipping_agents\n",
      "determining fk's for: cre_Doc_Control_Systems_sqlite_documents_ref_document_status\n",
      "determining fk's for: cre_Doc_Control_Systems_sqlite_documents_ref_document_types\n",
      "determining fk's for: cre_Doc_Control_Systems_sqlite_employees_roles\n",
      "determining fk's for: cre_Doc_Control_Systems_sqlite_document_drafts_documents\n",
      "determining fk's for: cre_Doc_Control_Systems_sqlite_circulation_history_employees\n",
      "determining fk's for: cre_Doc_Control_Systems_sqlite_circulation_history_draft_copies\n",
      "determining fk's for: cre_Doc_Control_Systems_sqlite_documents_mailed_addresses\n",
      "determining fk's for: cre_Doc_Control_Systems_sqlite_documents_mailed_documents\n",
      "determining fk's for: device_sqlite_stock_device\n",
      "determining fk's for: device_sqlite_stock_shop\n",
      "determining fk's for: local_govt_and_lot_sqlite_residents_properties\n",
      "determining fk's for: local_govt_and_lot_sqlite_services_organizations\n",
      "determining fk's for: local_govt_and_lot_sqlite_residents_services_residents\n",
      "determining fk's for: local_govt_and_lot_sqlite_residents_services_services\n",
      "determining fk's for: local_govt_and_lot_sqlite_things_organizations\n",
      "determining fk's for: local_govt_and_lot_sqlite_customer_events_residents\n",
      "determining fk's for: local_govt_and_lot_sqlite_customer_events_customers\n",
      "determining fk's for: local_govt_and_lot_sqlite_customer_events_things\n",
      "determining fk's for: local_govt_and_lot_sqlite_customer_event_notes_customer_events\n",
      "determining fk's for: local_govt_and_lot_sqlite_timed_status_of_things_things\n",
      "determining fk's for: local_govt_and_lot_sqlite_timed_locations_of_things_things\n",
      "determining fk's for: wta_1_sqlite_rankings_players\n",
      "determining fk's for: candidate_poll_sqlite_candidate_people\n",
      "determining fk's for: party_people_sqlite_party_region\n",
      "determining fk's for: party_people_sqlite_member_party\n",
      "determining fk's for: party_people_sqlite_party_events_member\n",
      "determining fk's for: party_people_sqlite_party_events_party\n",
      "determining fk's for: station_weather_sqlite_route_station\n",
      "determining fk's for: station_weather_sqlite_route_train\n",
      "determining fk's for: station_weather_sqlite_weekly_weather_station\n",
      "determining fk's for: school_player_sqlite_school_details_school\n",
      "determining fk's for: school_player_sqlite_school_performance_school\n",
      "determining fk's for: school_player_sqlite_player_school\n",
      "determining fk's for: film_rank_sqlite_film_market_estimation_market\n",
      "determining fk's for: film_rank_sqlite_film_market_estimation_film\n",
      "determining fk's for: insurance_policies_sqlite_customer_policies_customers\n",
      "determining fk's for: insurance_policies_sqlite_claims_customer_policies\n",
      "determining fk's for: insurance_policies_sqlite_settlements_claims\n",
      "determining fk's for: insurance_policies_sqlite_payments_settlements\n",
      "determining fk's for: program_share_sqlite_broadcast_program\n",
      "determining fk's for: program_share_sqlite_broadcast_channel\n",
      "determining fk's for: program_share_sqlite_broadcast_share_program\n",
      "determining fk's for: program_share_sqlite_broadcast_share_channel\n",
      "determining fk's for: local_govt_mdm_sqlite_cmi_cross_references_customer_master_index\n",
      "determining fk's for: local_govt_mdm_sqlite_council_tax_cmi_cross_references\n",
      "determining fk's for: local_govt_mdm_sqlite_business_rates_cmi_cross_references\n",
      "determining fk's for: local_govt_mdm_sqlite_benefits_overpayments_cmi_cross_references\n",
      "determining fk's for: local_govt_mdm_sqlite_parking_fines_cmi_cross_references\n",
      "determining fk's for: local_govt_mdm_sqlite_rent_arrears_cmi_cross_references\n",
      "determining fk's for: local_govt_mdm_sqlite_electoral_register_cmi_cross_references\n",
      "determining fk's for: book_2_sqlite_publication_book\n",
      "determining fk's for: orchestra_sqlite_orchestra_conductor\n",
      "determining fk's for: orchestra_sqlite_performance_orchestra\n",
      "determining fk's for: orchestra_sqlite_show_performance\n",
      "determining fk's for: music_4_sqlite_volume_artist\n",
      "determining fk's for: music_4_sqlite_music_festival_volume\n",
      "determining fk's for: journal_committee_sqlite_journal_committee_journal\n",
      "determining fk's for: journal_committee_sqlite_journal_committee_editor\n",
      "determining fk's for: browser_web_sqlite_accelerator_compatible_browser_browser\n",
      "determining fk's for: browser_web_sqlite_accelerator_compatible_browser_web_client_accelerator\n",
      "determining fk's for: school_bus_sqlite_school_bus_driver\n",
      "determining fk's for: school_bus_sqlite_school_bus_school\n",
      "determining fk's for: city_record_sqlite_temperature_city\n",
      "determining fk's for: city_record_sqlite_hosting_city_match\n",
      "determining fk's for: city_record_sqlite_hosting_city_city\n",
      "determining fk's for: manufactory_1_sqlite_products_manufacturers\n",
      "determining fk's for: sports_competition_sqlite_club_rank_club\n",
      "determining fk's for: sports_competition_sqlite_player_club\n",
      "determining fk's for: sports_competition_sqlite_competition_result_competition\n",
      "determining fk's for: college_3_sqlite_member_of_department\n",
      "determining fk's for: college_3_sqlite_member_of_faculty\n",
      "determining fk's for: college_3_sqlite_course_department\n",
      "determining fk's for: college_3_sqlite_course_faculty\n",
      "determining fk's for: college_3_sqlite_minor_in_department\n",
      "determining fk's for: college_3_sqlite_minor_in_student\n",
      "determining fk's for: college_3_sqlite_enrolled_in_gradeconversion\n",
      "determining fk's for: college_3_sqlite_enrolled_in_course\n",
      "determining fk's for: college_3_sqlite_enrolled_in_student\n",
      "determining fk's for: student_assessment_sqlite_students_people\n",
      "determining fk's for: student_assessment_sqlite_people_addresses_addresses\n",
      "determining fk's for: student_assessment_sqlite_people_addresses_people\n",
      "determining fk's for: student_assessment_sqlite_student_course_registrations_courses\n",
      "determining fk's for: student_assessment_sqlite_student_course_registrations_students\n",
      "determining fk's for: student_assessment_sqlite_candidates_people\n",
      "determining fk's for: student_assessment_sqlite_candidate_assessments_candidates\n",
      "determining fk's for: storm_record_sqlite_affected_region_storm\n",
      "determining fk's for: storm_record_sqlite_affected_region_region\n",
      "determining fk's for: gymnast_sqlite_gymnast_people\n",
      "determining fk's for: party_host_sqlite_party_host_party\n",
      "determining fk's for: party_host_sqlite_party_host_host\n",
      "determining fk's for: voter_2_sqlite_voting_record_student\n",
      "determining fk's for: debate_sqlite_debate_people_debate\n",
      "determining fk's for: scholar_sqlite_paper_venue\n",
      "determining fk's for: scholar_sqlite_paper_journal\n",
      "determining fk's for: scholar_sqlite_paperkeyphrase_keyphrase\n",
      "determining fk's for: scholar_sqlite_paperkeyphrase_paper\n",
      "determining fk's for: scholar_sqlite_writes_author\n",
      "determining fk's for: scholar_sqlite_writes_paper\n"
     ]
    },
    {
     "name": "stdout",
     "output_type": "stream",
     "text": [
      "determining fk's for: swimming_sqlite_event_stadium\n",
      "determining fk's for: swimming_sqlite_record_swimmer\n",
      "determining fk's for: swimming_sqlite_record_event\n",
      "determining fk's for: protein_institute_sqlite_institution_building\n",
      "determining fk's for: protein_institute_sqlite_protein_institution\n",
      "determining fk's for: geo_sqlite_city_state\n",
      "determining fk's for: geo_sqlite_highlow_state\n",
      "determining fk's for: geo_sqlite_mountain_state\n",
      "determining fk's for: geo_sqlite_river_state\n",
      "determining fk's for: farm_sqlite_farm_competition_city\n",
      "determining fk's for: farm_sqlite_competition_record_farm\n",
      "determining fk's for: farm_sqlite_competition_record_farm_competition\n",
      "determining fk's for: medicine_enzyme_interaction_sqlite_medicine_enzyme_interaction_medicine\n",
      "determining fk's for: medicine_enzyme_interaction_sqlite_medicine_enzyme_interaction_enzyme\n",
      "determining fk's for: tracking_software_problems_sqlite_problem_log_problem_status_codes\n",
      "determining fk's for: tracking_software_problems_sqlite_problem_log_problems\n",
      "determining fk's for: tracking_software_problems_sqlite_problem_log_staff\n",
      "determining fk's for: tracking_software_problems_sqlite_problem_log_problem_category_codes\n",
      "determining fk's for: tracking_software_problems_sqlite_problems_product\n",
      "determining fk's for: restaurants_sqlite_restaurant_geographic\n",
      "determining fk's for: restaurants_sqlite_location_geographic\n",
      "determining fk's for: dorm_1_sqlite_has_amenity_dorm_amenity\n",
      "determining fk's for: dorm_1_sqlite_has_amenity_dorm\n",
      "determining fk's for: dorm_1_sqlite_lives_in_dorm\n",
      "determining fk's for: dorm_1_sqlite_lives_in_student\n",
      "determining fk's for: tracking_orders_sqlite_orders_customers\n",
      "determining fk's for: tracking_orders_sqlite_order_items_products\n",
      "determining fk's for: tracking_orders_sqlite_order_items_orders\n",
      "determining fk's for: tracking_orders_sqlite_shipments_invoices\n",
      "determining fk's for: tracking_orders_sqlite_shipments_orders\n",
      "determining fk's for: tracking_orders_sqlite_shipment_items_shipments\n",
      "determining fk's for: tracking_orders_sqlite_shipment_items_order_items\n",
      "determining fk's for: gas_company_sqlite_station_company_company\n",
      "determining fk's for: gas_company_sqlite_station_company_gas_station\n",
      "determining fk's for: musical_sqlite_actor_actor\n",
      "determining fk's for: company_employee_sqlite_employment_people\n",
      "determining fk's for: company_employee_sqlite_employment_company\n",
      "determining fk's for: cinema_sqlite_schedule_cinema\n",
      "determining fk's for: cinema_sqlite_schedule_film\n",
      "determining fk's for: culture_company_sqlite_culture_company_movie\n",
      "determining fk's for: culture_company_sqlite_culture_company_book_club\n",
      "determining fk's for: products_gen_characteristics_sqlite_characteristics_ref_characteristic_types\n",
      "determining fk's for: products_gen_characteristics_sqlite_products_ref_colors\n",
      "determining fk's for: products_gen_characteristics_sqlite_products_ref_product_categories\n",
      "determining fk's for: products_gen_characteristics_sqlite_product_characteristics_products\n",
      "determining fk's for: products_gen_characteristics_sqlite_product_characteristics_characteristics\n",
      "determining fk's for: tracking_share_transactions_sqlite_lots_investors\n",
      "determining fk's for: tracking_share_transactions_sqlite_transactions_ref_transaction_types\n",
      "determining fk's for: tracking_share_transactions_sqlite_transactions_investors\n",
      "determining fk's for: tracking_share_transactions_sqlite_sales_transactions\n",
      "determining fk's for: tracking_share_transactions_sqlite_purchases_transactions\n",
      "determining fk's for: tracking_share_transactions_sqlite_transactions_lots_transactions\n",
      "determining fk's for: tracking_share_transactions_sqlite_transactions_lots_lots\n",
      "determining fk's for: cre_Doc_Tracking_DB_sqlite_all_documents_ref_calendar\n",
      "determining fk's for: cre_Doc_Tracking_DB_sqlite_all_documents_ref_document_types\n",
      "determining fk's for: cre_Doc_Tracking_DB_sqlite_employees_roles\n",
      "determining fk's for: cre_Doc_Tracking_DB_sqlite_document_locations_all_documents\n",
      "determining fk's for: cre_Doc_Tracking_DB_sqlite_document_locations_ref_locations\n",
      "determining fk's for: cre_Doc_Tracking_DB_sqlite_documents_to_be_destroyed_all_documents\n",
      "determining fk's for: game_1_sqlite_plays_games_student\n",
      "determining fk's for: game_1_sqlite_plays_games_video_games\n",
      "determining fk's for: game_1_sqlite_sportsinfo_student\n"
     ]
    }
   ],
   "source": [
    "responses_gpt35_spider = generate_responses(prompts_ground_truth_spider, \n",
    "                   generate_response_as_json_gpt35, \"responses_gpt35_spider.json\")"
   ]
  },
  {
   "cell_type": "code",
   "execution_count": 52,
   "id": "b2abecf3",
   "metadata": {
    "pycharm": {
     "name": "#%%\n"
    }
   },
   "outputs": [
    {
     "name": "stdout",
     "output_type": "stream",
     "text": [
      "determining fk's for: college_completion_sqlite_state_sector_grads_state_sector_details\n"
     ]
    }
   ],
   "source": [
    "responses_gpt35_bird = generate_responses(prompts_ground_truth_bird, \n",
    "                   generate_response_as_json_gpt35, \"responses_gpt35_bird.json\")"
   ]
  },
  {
   "cell_type": "code",
   "execution_count": null,
   "id": "dc7a4525",
   "metadata": {
    "scrolled": true,
    "pycharm": {
     "name": "#%%\n"
    }
   },
   "outputs": [],
   "source": [
    "responses_gpt35_ctu = generate_responses(prompts_ground_truth_ctu, \n",
    "                   generate_response_as_json_gpt35, \"responses_gpt35_ctu.json\")"
   ]
  },
  {
   "cell_type": "code",
   "execution_count": null,
   "outputs": [],
   "source": [
    "# evaluation"
   ],
   "metadata": {
    "collapsed": false,
    "pycharm": {
     "name": "#%%\n"
    }
   }
  },
  {
   "cell_type": "code",
   "execution_count": 25,
   "id": "c23c67f5",
   "metadata": {
    "pycharm": {
     "name": "#%%\n"
    }
   },
   "outputs": [],
   "source": [
    "def evaluate_responses(responses, prompts_ground_truth):\n",
    "    error = 0\n",
    "    match = 0\n",
    "    no_match = 0\n",
    "\n",
    "    for dataset_name in responses:\n",
    "        if dataset_name not in prompts_ground_truth:\n",
    "            print(f\"dataset {dataset_name} not found in ground truth, skipping\")\n",
    "            continue\n",
    "        \n",
    "        foreign_key_ground_truth = json.loads(prompts_ground_truth[dataset_name][\"foreign_key\"])\n",
    "        foreign_key_prediction = responses[dataset_name]\n",
    "        \n",
    "        if foreign_key_prediction is None:\n",
    "            error += 1\n",
    "            continue\n",
    "            \n",
    "        if (list(foreign_key_prediction.keys()) == list(foreign_key_ground_truth.keys()) and\n",
    "            (list(foreign_key_prediction.values()) == list(foreign_key_ground_truth.values()))):\n",
    "            match += 1\n",
    "        else:\n",
    "            no_match += 1  \n",
    "\n",
    "    print(\"match: \"+str(match))\n",
    "    print(\"no match: \"+str(no_match))\n",
    "    print(\"error: \"+str(error))\n",
    "    print(\"success rate: \"+str(match/(match+no_match+error)))"
   ]
  },
  {
   "cell_type": "code",
   "execution_count": 21,
   "id": "f9fc1bcd",
   "metadata": {
    "pycharm": {
     "name": "#%%\n"
    }
   },
   "outputs": [
    {
     "name": "stdout",
     "output_type": "stream",
     "text": [
      "match: 458\n",
      "no match: 65\n",
      "error: 0\n",
      "success rate: 0.875717017208413\n"
     ]
    }
   ],
   "source": [
    "evaluate_responses(responses_gpt35_spider, prompts_ground_truth_spider)"
   ]
  },
  {
   "cell_type": "code",
   "execution_count": 74,
   "id": "bd56c7c1",
   "metadata": {
    "scrolled": true,
    "pycharm": {
     "name": "#%%\n"
    }
   },
   "outputs": [
    {
     "name": "stdout",
     "output_type": "stream",
     "text": [
      "match: 229\n",
      "no match: 48\n",
      "error: 1\n",
      "success rate: 0.8237410071942446\n"
     ]
    }
   ],
   "source": [
    "evaluate_responses(responses_gpt35_bird, prompts_ground_truth_bird)"
   ]
  },
  {
   "cell_type": "code",
   "execution_count": 75,
   "id": "3b33c43d",
   "metadata": {
    "scrolled": false,
    "pycharm": {
     "name": "#%%\n"
    }
   },
   "outputs": [
    {
     "name": "stdout",
     "output_type": "stream",
     "text": [
      "match: 539\n",
      "no match: 86\n",
      "error: 0\n",
      "success rate: 0.8624\n"
     ]
    }
   ],
   "source": [
    "evaluate_responses(responses_gpt35_ctu, prompts_ground_truth_ctu)"
   ]
  },
  {
   "cell_type": "code",
   "execution_count": 27,
   "id": "521bc4a0",
   "metadata": {
    "pycharm": {
     "name": "#%%\n"
    }
   },
   "outputs": [
    {
     "name": "stdout",
     "output_type": "stream",
     "text": [
      "match: 338\n",
      "no match: 185\n",
      "error: 0\n",
      "success rate: 0.6462715105162524\n"
     ]
    }
   ],
   "source": [
    "evaluate_responses(responses_starcoder_alpha_spider, prompts_ground_truth_spider)"
   ]
  },
  {
   "cell_type": "code",
   "execution_count": 28,
   "id": "e3fe622e",
   "metadata": {
    "pycharm": {
     "name": "#%%\n"
    }
   },
   "outputs": [
    {
     "name": "stdout",
     "output_type": "stream",
     "text": [
      "match: 171\n",
      "no match: 107\n",
      "error: 0\n",
      "success rate: 0.6151079136690647\n"
     ]
    }
   ],
   "source": [
    "evaluate_responses(responses_starcoder_alpha_bird, prompts_ground_truth_bird)"
   ]
  },
  {
   "cell_type": "code",
   "execution_count": 10,
   "id": "beea8478",
   "metadata": {
    "pycharm": {
     "name": "#%%\n"
    }
   },
   "outputs": [
    {
     "name": "stdout",
     "output_type": "stream",
     "text": [
      "match: 513\n",
      "no match: 112\n",
      "error: 0\n",
      "success rate: 0.8208\n"
     ]
    }
   ],
   "source": [
    "evaluate_responses(responses_starcoder_alpha_ctu, prompts_ground_truth_ctu)"
   ]
  },
  {
   "cell_type": "code",
   "execution_count": 26,
   "id": "7ce7c34d",
   "metadata": {
    "pycharm": {
     "name": "#%%\n"
    }
   },
   "outputs": [
    {
     "name": "stdout",
     "output_type": "stream",
     "text": [
      "match: 506\n",
      "no match: 17\n",
      "error: 0\n",
      "success rate: 0.9674952198852772\n"
     ]
    }
   ],
   "source": [
    "evaluate_responses(responses_starcoder_schemapile_spider, prompts_ground_truth_spider)"
   ]
  },
  {
   "cell_type": "code",
   "execution_count": 27,
   "id": "6d11f7d5",
   "metadata": {
    "pycharm": {
     "name": "#%%\n"
    }
   },
   "outputs": [
    {
     "name": "stdout",
     "output_type": "stream",
     "text": [
      "match: 263\n",
      "no match: 15\n",
      "error: 0\n",
      "success rate: 0.9460431654676259\n"
     ]
    }
   ],
   "source": [
    "evaluate_responses(responses_starcoder_schemapile_bird, prompts_ground_truth_bird)"
   ]
  },
  {
   "cell_type": "code",
   "execution_count": 28,
   "id": "b96865c5",
   "metadata": {
    "scrolled": true,
    "pycharm": {
     "name": "#%%\n"
    }
   },
   "outputs": [
    {
     "name": "stdout",
     "output_type": "stream",
     "text": [
      "match: 609\n",
      "no match: 16\n",
      "error: 0\n",
      "success rate: 0.9744\n"
     ]
    }
   ],
   "source": [
    "evaluate_responses(responses_starcoder_schemapile_ctu, prompts_ground_truth_ctu)"
   ]
  },
  {
   "cell_type": "code",
   "execution_count": null,
   "id": "b7f06dba",
   "metadata": {
    "pycharm": {
     "name": "#%%\n",
     "is_executing": true
    }
   },
   "outputs": [],
   "source": [
    "import matplotlib.pyplot as plt\n",
    "import numpy as np\n",
    "import seaborn as sns\n",
    "\n",
    "\n",
    "# Define the models and group data\n",
    "models = ['jaccard', 'gpt-3.5', 'starcoder-alpha', 'starcoder-schemapile']\n",
    "groups = ['spider', 'bird', 'ctu']\n",
    "group_data = np.array([[0.58, 0.88, 0.64, 0.97], [0.63, 0.82,0.61, 0.95], [0.36, 0.86, 0.82, 0.97]])\n",
    "\n",
    "# Define a list of colors\n",
    "colors = sns.color_palette('deep')[0:4]\n",
    "\n",
    "barWidth = 0.20\n",
    "\n",
    "# Create bars\n",
    "for i in range(len(models)):  # for each model\n",
    "    r = [j + barWidth*i for j in range(len(groups))]\n",
    "    plt.bar(r, group_data[:, i], width=barWidth, color=colors[i], edgecolor='grey', label=models[i])\n",
    "\n",
    "# Adding xticks\n",
    "plt.xlabel('Groups', fontweight='bold')\n",
    "plt.xticks([r + barWidth for r in range(len(groups))], groups)\n",
    "\n",
    "# Add ylabel\n",
    "plt.ylabel('recall@k=1')\n",
    "\n",
    "# Add a legend\n",
    "plt.legend(loc='upper left', bbox_to_anchor=(1,1), ncol=1)\n",
    "\n",
    "# Show the plot\n",
    "plt.show()"
   ]
  }
 ],
 "metadata": {
  "kernelspec": {
   "display_name": "Python 3 (ipykernel)",
   "language": "python",
   "name": "python3"
  },
  "language_info": {
   "codemirror_mode": {
    "name": "ipython",
    "version": 3
   },
   "file_extension": ".py",
   "mimetype": "text/x-python",
   "name": "python",
   "nbconvert_exporter": "python",
   "pygments_lexer": "ipython3",
   "version": "3.9.5"
  }
 },
 "nbformat": 4,
 "nbformat_minor": 5
}
