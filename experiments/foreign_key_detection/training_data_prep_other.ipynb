{
 "cells": [
  {
   "cell_type": "code",
   "execution_count": 2,
   "id": "8aa6faa5",
   "metadata": {
    "pycharm": {
     "name": "#%%\n"
    }
   },
   "outputs": [],
   "source": [
    "# helper functions\n",
    "\n",
    "def get_columns_and_types(table_name, cursor):\n",
    "    columns_and_types = cursor.execute(f\"PRAGMA table_info('{table_name}');\").fetchall()\n",
    "    return [column[1] for column in columns_and_types], [column[2] for column in columns_and_types]\n",
    "\n",
    "def make_table_string(table_name, columns, sort=False):\n",
    "    if sort:\n",
    "        columns = sorted(columns)\n",
    "    return table_name.lower()+\"(\"+ \", \".join([column.lower() for column in columns])+\")\""
   ]
  },
  {
   "cell_type": "code",
   "execution_count": 3,
   "id": "b7dfb0b4",
   "metadata": {
    "pycharm": {
     "name": "#%%\n"
    }
   },
   "outputs": [],
   "source": [
    "# collect foreign keys from databases\n",
    "\n",
    "import sqlite3\n",
    "\n",
    "llm_max_chars = 8000\n",
    "\n",
    "def collect_foreign_keys(databases_path):\n",
    "    databases = os.listdir(databases_path)\n",
    "    foreign_keys_list = []\n",
    "    for database in databases:\n",
    "        database_name = database.replace(\".sqlite\",\"\")\n",
    "        con = sqlite3.connect(f\"{databases_path}/{database}\")\n",
    "        cursor = con.cursor()\n",
    "        cursor.execute(\"SELECT name FROM sqlite_master WHERE type='table';\")\n",
    "        tables = cursor.fetchall()\n",
    "        table_columns = {}\n",
    "        table_types = {}\n",
    "        \n",
    "        # collect schema information for lookup\n",
    "        for table in tables:\n",
    "            table_name = table[0]\n",
    "            columns, types = get_columns_and_types(table_name, cursor)\n",
    "            table_columns[table_name] = columns\n",
    "            table_types[table_name] = types\n",
    "            \n",
    "        # collect foreign keys\n",
    "        for table in tables:\n",
    "            table_name = table[0]\n",
    "            cursor.execute(f\"PRAGMA foreign_key_list('{table_name}');\")\n",
    "            foreign_keys_by_id = {}\n",
    "            for fk_id, seq_id, foreign_table, column, referred_column, _, _, _ in cursor.fetchall():\n",
    "                if fk_id in foreign_keys_by_id:\n",
    "                    print(f\"{database}.{table_name} removed composite primary key: {fk_id}.{seq_id}\")\n",
    "                    del foreign_keys_by_id[fk_id]\n",
    "                elif foreign_table in table_columns and referred_column in table_columns[foreign_table] and column in table_columns[table_name]:  \n",
    "                    table_string = make_table_string(table_name, table_columns[table_name])\n",
    "                    foreign_table_string = make_table_string(foreign_table, table_columns[foreign_table])\n",
    "                    too_large_for_llm = len(table_string) + len(foreign_table_string) > llm_max_chars\n",
    "                    if too_large_for_llm:\n",
    "                        print(f\"{database}.{table_name}/{foreign_table} schema too large for llm: {len(table_string)}+{len(foreign_table_string)}>{llm_max_chars}\")\n",
    "                    \n",
    "                    foreign_keys_by_id[fk_id] = {\"database\": database,\n",
    "                                        \"table\": table_name, \n",
    "                                        \"table_string\": table_string,\n",
    "                                        \"table_columns\": table_columns[table_name],\n",
    "                                        \"table_types\": table_types[table_name],\n",
    "                                        \"column\": column, \n",
    "                                        \"foreign_table\": foreign_table, \n",
    "                                        \"foreign_table_string\": foreign_table_string, \n",
    "                                        \"foreign_table_columns\": table_columns[foreign_table],\n",
    "                                        \"foreign_table_types\": table_types[foreign_table],\n",
    "                                        \"referred_column\": referred_column,\n",
    "                                        \"too_large_for_llm\": too_large_for_llm}\n",
    "            \n",
    "            # don't include foreign key pairs if there are multiple between two tables   \n",
    "            foreign_keys_by_table_combination = {}\n",
    "            for key_id in list(foreign_keys_by_id.keys()):\n",
    "                foreign_key_pair = foreign_keys_by_id[key_id]\n",
    "                table_combination = (foreign_key_pair[\"table\"], foreign_key_pair[\"foreign_table\"])\n",
    "                if table_combination in foreign_keys_by_table_combination:\n",
    "                    print(f\"{foreign_key_pair['database']} multiple pairs removed for {table_combination}\")\n",
    "                    del foreign_keys_by_table_combination[table_combination]\n",
    "                else:\n",
    "                    foreign_keys_by_table_combination[table_combination] = foreign_key_pair\n",
    "\n",
    "            foreign_keys_list.extend(list(foreign_keys_by_table_combination.values()))\n",
    "    return foreign_keys_list"
   ]
  },
  {
   "cell_type": "code",
   "execution_count": 4,
   "id": "b9704931",
   "metadata": {
    "scrolled": true,
    "pycharm": {
     "name": "#%%\n"
    }
   },
   "outputs": [
    {
     "name": "stdout",
     "output_type": "stream",
     "text": [
      "network_1.sqlite multiple pairs removed for ('Friend', 'Highschooler')\n",
      "network_1.sqlite multiple pairs removed for ('Likes', 'Highschooler')\n",
      "wedding.sqlite multiple pairs removed for ('wedding', 'people')\n",
      "solvency_ii.sqlite multiple pairs removed for ('Assets_in_Events', 'Events')\n",
      "twitter_1.sqlite multiple pairs removed for ('follows', 'user_profiles')\n",
      "cre_Drama_Workshop_Groups.sqlite.Invoice_Items removed composite primary key: 0.1\n",
      "network_2.sqlite multiple pairs removed for ('PersonFriend', 'Person')\n",
      "dog_kennels.sqlite multiple pairs removed for ('Dogs', 'Owners')\n",
      "flight_4.sqlite multiple pairs removed for ('routes', 'airports')\n",
      "insurance_fnol.sqlite.First_Notification_of_Loss removed composite primary key: 0.1\n",
      "soccer_1.sqlite multiple pairs removed for ('Player_Attributes', 'Player')\n",
      "soccer_1.sqlite multiple pairs removed for ('Team_Attributes', 'Team')\n",
      "student_transcripts_tracking.sqlite multiple pairs removed for ('Students', 'Addresses')\n",
      "cre_Doc_Control_Systems.sqlite.Draft_Copies removed composite primary key: 0.1\n",
      "cre_Doc_Control_Systems.sqlite.Circulation_History removed composite primary key: 1.1\n",
      "epinions_1.sqlite multiple pairs removed for ('trust', 'useracct')\n",
      "local_govt_and_lot.sqlite.Residents_Services removed composite primary key: 0.1\n",
      "local_govt_and_lot.sqlite.Customer_Events removed composite primary key: 0.1\n",
      "wta_1.sqlite multiple pairs removed for ('matches', 'players')\n",
      "sports_competition.sqlite multiple pairs removed for ('competition_result', 'club')\n",
      "student_assessment.sqlite.Student_Course_Attendance removed composite primary key: 0.1\n",
      "voter_2.sqlite multiple pairs removed for ('Voting_record', 'Student')\n",
      "voter_2.sqlite multiple pairs removed for ('Voting_record', 'Student')\n",
      "voter_2.sqlite multiple pairs removed for ('Voting_record', 'Student')\n",
      "debate.sqlite multiple pairs removed for ('debate_people', 'people')\n",
      "scholar.sqlite multiple pairs removed for ('cite', 'paper')\n",
      "geo.sqlite multiple pairs removed for ('border_info', 'state')\n",
      "tracking_software_problems.sqlite multiple pairs removed for ('Problems', 'Staff')\n",
      "cre_Doc_Tracking_DB.sqlite multiple pairs removed for ('Document_Locations', 'Ref_Calendar')\n",
      "cre_Doc_Tracking_DB.sqlite multiple pairs removed for ('Documents_to_be_Destroyed', 'Ref_Calendar')\n",
      "cre_Doc_Tracking_DB.sqlite multiple pairs removed for ('Documents_to_be_Destroyed', 'Employees')\n"
     ]
    },
    {
     "data": {
      "text/plain": [
       "555"
      ]
     },
     "execution_count": 4,
     "metadata": {},
     "output_type": "execute_result"
    }
   ],
   "source": [
    "foreign_keys_list_spider = collect_foreign_keys(\"spider_dbs/\")\n",
    "len(foreign_keys_list_spider)"
   ]
  },
  {
   "cell_type": "code",
   "execution_count": 5,
   "id": "a887cdf7",
   "metadata": {
    "scrolled": true,
    "pycharm": {
     "name": "#%%\n"
    }
   },
   "outputs": [
    {
     "name": "stdout",
     "output_type": "stream",
     "text": [
      "professional_basketball.sqlite.coaches removed composite primary key: 0.1\n",
      "professional_basketball.sqlite.draft removed composite primary key: 0.1\n",
      "professional_basketball.sqlite.awards_coaches removed composite primary key: 0.1\n",
      "professional_basketball.sqlite.players_teams removed composite primary key: 0.1\n",
      "professional_basketball.sqlite.series_post removed composite primary key: 0.1\n",
      "professional_basketball.sqlite.series_post removed composite primary key: 1.1\n",
      "codebase_community.sqlite multiple pairs removed for ('postLinks', 'posts')\n",
      "codebase_community.sqlite multiple pairs removed for ('posts', 'users')\n",
      "language_corpus.sqlite multiple pairs removed for ('biwords', 'words')\n",
      "image_and_language.sqlite.IMG_OBJ_ATT removed composite primary key: 0.1\n",
      "image_and_language.sqlite.IMG_REL removed composite primary key: 0.1\n",
      "image_and_language.sqlite.IMG_REL removed composite primary key: 1.1\n",
      "movie_platform.sqlite multiple pairs removed for ('lists_users', 'lists')\n",
      "hockey.sqlite.Coaches removed composite primary key: 0.1\n",
      "hockey.sqlite multiple pairs removed for ('CombinedShutouts', 'Master')\n",
      "hockey.sqlite.Goalies removed composite primary key: 1.1\n",
      "hockey.sqlite.GoaliesSC removed composite primary key: 1.1\n",
      "hockey.sqlite.GoaliesShootout removed composite primary key: 1.1\n",
      "hockey.sqlite.Scoring removed composite primary key: 1.1\n",
      "hockey.sqlite.ScoringSC removed composite primary key: 1.1\n",
      "hockey.sqlite.ScoringShootout removed composite primary key: 1.1\n",
      "hockey.sqlite.SeriesPost removed composite primary key: 0.1\n",
      "hockey.sqlite.SeriesPost removed composite primary key: 1.1\n",
      "hockey.sqlite.TeamSplits removed composite primary key: 0.1\n",
      "hockey.sqlite.TeamVsTeam removed composite primary key: 0.1\n",
      "hockey.sqlite.TeamVsTeam removed composite primary key: 1.1\n",
      "hockey.sqlite.TeamsHalf removed composite primary key: 0.1\n",
      "hockey.sqlite.TeamsPost removed composite primary key: 0.1\n",
      "hockey.sqlite.TeamsSC removed composite primary key: 0.1\n",
      "toxicology.sqlite multiple pairs removed for ('connected', 'atom')\n",
      "works_cycles.sqlite.SalesOrderDetail removed composite primary key: 0.1\n",
      "superstore.sqlite.central_superstore removed composite primary key: 0.1\n",
      "superstore.sqlite.central_superstore removed composite primary key: 1.1\n",
      "superstore.sqlite.east_superstore removed composite primary key: 0.1\n",
      "superstore.sqlite.east_superstore removed composite primary key: 1.1\n",
      "superstore.sqlite.south_superstore removed composite primary key: 0.1\n",
      "superstore.sqlite.south_superstore removed composite primary key: 1.1\n",
      "superstore.sqlite.west_superstore removed composite primary key: 0.1\n",
      "superstore.sqlite.west_superstore removed composite primary key: 1.1\n",
      "superhero.sqlite multiple pairs removed for ('superhero', 'colour')\n",
      "airline.sqlite multiple pairs removed for ('Airlines', 'Airports')\n",
      "soccer_2016.sqlite multiple pairs removed for ('Match', 'Team')\n",
      "soccer_2016.sqlite multiple pairs removed for ('Match', 'Team')\n",
      "soccer_2016.sqlite multiple pairs removed for ('Wicket_Taken', 'Player')\n",
      "genes.sqlite multiple pairs removed for ('Interactions', 'Classification')\n",
      "european_football_2.sqlite multiple pairs removed for ('Player_Attributes', 'Player')\n",
      "european_football_2.sqlite multiple pairs removed for ('Team_Attributes', 'Team')\n",
      "european_football_2.sqlite multiple pairs removed for ('Match', 'Player')\n",
      "european_football_2.sqlite multiple pairs removed for ('Match', 'Player')\n",
      "european_football_2.sqlite multiple pairs removed for ('Match', 'Player')\n",
      "european_football_2.sqlite multiple pairs removed for ('Match', 'Player')\n",
      "european_football_2.sqlite multiple pairs removed for ('Match', 'Player')\n",
      "european_football_2.sqlite multiple pairs removed for ('Match', 'Player')\n",
      "european_football_2.sqlite multiple pairs removed for ('Match', 'Player')\n",
      "european_football_2.sqlite multiple pairs removed for ('Match', 'Player')\n",
      "european_football_2.sqlite multiple pairs removed for ('Match', 'Player')\n",
      "european_football_2.sqlite multiple pairs removed for ('Match', 'Player')\n",
      "european_football_2.sqlite multiple pairs removed for ('Match', 'Player')\n",
      "european_football_2.sqlite multiple pairs removed for ('Match', 'Team')\n",
      "computer_student.sqlite.advisedBy removed composite primary key: 0.1\n"
     ]
    },
    {
     "data": {
      "text/plain": [
       "386"
      ]
     },
     "execution_count": 5,
     "metadata": {},
     "output_type": "execute_result"
    }
   ],
   "source": [
    "foreign_keys_list_bird = collect_foreign_keys(\"bird_dbs/\")\n",
    "len(foreign_keys_list_bird)"
   ]
  },
  {
   "cell_type": "code",
   "execution_count": 22,
   "id": "0423d619",
   "metadata": {
    "scrolled": true,
    "pycharm": {
     "name": "#%%\n"
    }
   },
   "outputs": [
    {
     "name": "stdout",
     "output_type": "stream",
     "text": [
      "Biodegradability.sqlite multiple pairs removed for ('bond', 'atom')\n",
      "AdventureWorks2014.sqlite multiple pairs removed for ('BillOfMaterials', 'Product')\n",
      "AdventureWorks2014.sqlite multiple pairs removed for ('CurrencyRate', 'Currency')\n",
      "AdventureWorks2014.sqlite multiple pairs removed for ('Product', 'UnitMeasure')\n",
      "AdventureWorks2014.sqlite.SalesOrderDetail removed composite primary key: 0.1\n",
      "AdventureWorks2014.sqlite multiple pairs removed for ('SalesOrderHeader', 'Address')\n",
      "stats_CEB.sqlite multiple pairs removed for ('postLinks', 'posts')\n",
      "stats_CEB.sqlite multiple pairs removed for ('posts', 'users')\n",
      "CORA.sqlite multiple pairs removed for ('cites', 'paper')\n",
      "WebKP.sqlite multiple pairs removed for ('cites', 'webpage')\n",
      "Credit.sqlite multiple pairs removed for ('charge', 'member')\n",
      "Grants.sqlite.institution_awards removed composite primary key: 0.1\n",
      "mutagenesis.sqlite multiple pairs removed for ('bond', 'atom')\n",
      "SAT.sqlite multiple pairs removed for ('succ', 'time')\n",
      "UW_std.sqlite multiple pairs removed for ('advisedBy', 'person')\n",
      "NBA.sqlite multiple pairs removed for ('Game', 'Team')\n",
      "Hockey.sqlite.Coaches removed composite primary key: 0.1\n",
      "Hockey.sqlite multiple pairs removed for ('CombinedShutouts', 'Master')\n",
      "Hockey.sqlite.Goalies removed composite primary key: 0.1\n",
      "Hockey.sqlite.GoaliesSC removed composite primary key: 0.1\n",
      "Hockey.sqlite.GoaliesShootout removed composite primary key: 0.1\n",
      "Hockey.sqlite.Scoring removed composite primary key: 0.1\n",
      "Hockey.sqlite.ScoringSC removed composite primary key: 0.1\n",
      "Hockey.sqlite.ScoringShootout removed composite primary key: 0.1\n",
      "Hockey.sqlite.SeriesPost removed composite primary key: 0.1\n",
      "Hockey.sqlite.SeriesPost removed composite primary key: 1.1\n",
      "Hockey.sqlite.TeamSplits removed composite primary key: 0.1\n",
      "Hockey.sqlite.TeamVsTeam removed composite primary key: 0.1\n",
      "Hockey.sqlite.TeamVsTeam removed composite primary key: 1.1\n",
      "Hockey.sqlite.TeamsHalf removed composite primary key: 0.1\n",
      "Hockey.sqlite.TeamsPost removed composite primary key: 0.1\n",
      "Hockey.sqlite.TeamsSC removed composite primary key: 0.1\n",
      "Facebook.sqlite multiple pairs removed for ('edges', 'feat')\n",
      "Toxicology.sqlite multiple pairs removed for ('connected', 'atom')\n",
      "Same_gen.sqlite multiple pairs removed for ('parent', 'person')\n",
      "Same_gen.sqlite multiple pairs removed for ('same_gen', 'person')\n",
      "Same_gen.sqlite multiple pairs removed for ('target', 'person')\n",
      "cs.sqlite multiple pairs removed for ('ACCOUNT_TRANSACTIONS', 'ACCOUNTS')\n",
      "cs.sqlite multiple pairs removed for ('ACCOUNT_TRANSACTIONS', 'ACCOUNT_TYPES')\n",
      "Basketball_women.sqlite.coaches removed composite primary key: 0.1\n",
      "Basketball_women.sqlite.draft removed composite primary key: 0.1\n",
      "Basketball_women.sqlite.players_teams removed composite primary key: 0.1\n",
      "Basketball_women.sqlite.series_post removed composite primary key: 0.1\n",
      "Basketball_women.sqlite.series_post removed composite primary key: 1.1\n",
      "Basketball_women.sqlite.teams_post removed composite primary key: 0.1\n",
      "tpch.sqlite.lineitem removed composite primary key: 0.1\n",
      "GOSales.sqlite.go_1k removed composite primary key: 0.1\n",
      "NCAA.sqlite multiple pairs removed for ('regular_season_compact_results', 'teams')\n",
      "NCAA.sqlite multiple pairs removed for ('regular_season_detailed_results', 'teams')\n",
      "NCAA.sqlite multiple pairs removed for ('target', 'teams')\n",
      "NCAA.sqlite multiple pairs removed for ('tourney_compact_results', 'teams')\n",
      "NCAA.sqlite multiple pairs removed for ('tourney_detailed_results', 'teams')\n",
      "mutagenesis_188.sqlite multiple pairs removed for ('bonds', 'atoms')\n",
      "AustralianFootball.sqlite multiple pairs removed for ('matches', 'teams')\n",
      "Bench4.sqlite multiple pairs removed for ('comp_adaptor', 'type_end_form')\n",
      "Bench4.sqlite multiple pairs removed for ('comp_adaptor', 'type_connection')\n",
      "Bench4.sqlite multiple pairs removed for ('comp_threaded', 'type_end_form')\n",
      "Bench4.sqlite multiple pairs removed for ('comp_threaded', 'type_end_form')\n",
      "Bench4.sqlite multiple pairs removed for ('comp_threaded', 'type_connection')\n",
      "Bench4.sqlite multiple pairs removed for ('comp_threaded', 'type_connection')\n",
      "Bench4.sqlite multiple pairs removed for ('tube', 'tube_end_form')\n",
      "lahman_2014.sqlite multiple pairs removed for ('seriespost', 'teams')\n",
      "mutagenesis_42.sqlite multiple pairs removed for ('bonds', 'atoms')\n",
      "Mondial_Tutorial.sqlite multiple pairs removed for ('Borders', 'Country')\n",
      "Carcinogenesis.sqlite multiple pairs removed for ('sbond_1', 'atom')\n",
      "Carcinogenesis.sqlite multiple pairs removed for ('sbond_2', 'atom')\n",
      "Carcinogenesis.sqlite multiple pairs removed for ('sbond_3', 'atom')\n",
      "Carcinogenesis.sqlite multiple pairs removed for ('sbond_7', 'atom')\n",
      "PremierLeague.sqlite multiple pairs removed for ('Matches', 'Teams')\n",
      "YelpDataset3_disc_clean.sqlite multiple pairs removed for ('Checkins', 'Days')\n",
      "YelpDataset3_disc_clean.sqlite multiple pairs removed for ('Checkins', 'Business')\n",
      "tpcc.sqlite.C_History removed composite primary key: 0.1\n",
      "tpcc.sqlite.C_History removed composite primary key: 1.1\n",
      "tpcc.sqlite.C_New_Order removed composite primary key: 0.1\n",
      "tpcc.sqlite.C_Order removed composite primary key: 0.1\n",
      "tpcc.sqlite.C_Order_Line removed composite primary key: 0.1\n",
      "tpcc.sqlite.C_Order_Line removed composite primary key: 1.1\n",
      "tpce.sqlite multiple pairs removed for ('E_COMPANY_COMPETITOR', 'E_COMPANY')\n",
      "tpce.sqlite.E_HOLDING removed composite primary key: 1.1\n",
      "Bench5.sqlite multiple pairs removed for ('BillOfMaterials', 'Product')\n",
      "Bench5.sqlite multiple pairs removed for ('CurrencyRate', 'Currency')\n",
      "Bench5.sqlite multiple pairs removed for ('Product', 'UnitMeasure')\n",
      "Bench5.sqlite.SalesOrderDetail removed composite primary key: 0.1\n",
      "Bench5.sqlite multiple pairs removed for ('SalesOrderHeader', 'Address')\n",
      "Bench5.sqlite multiple pairs removed for ('edges', 'feat')\n",
      "Basketball_men.sqlite.awards_coaches removed composite primary key: 0.1\n",
      "Basketball_men.sqlite.coaches removed composite primary key: 0.1\n",
      "Basketball_men.sqlite.draft removed composite primary key: 0.1\n",
      "Basketball_men.sqlite.players_teams removed composite primary key: 0.1\n",
      "Basketball_men.sqlite.series_post removed composite primary key: 0.1\n",
      "Basketball_men.sqlite.series_post removed composite primary key: 1.1\n",
      "Airline.sqlite multiple pairs removed for ('On_Time_On_Time_Performance_2016_1', 'L_AIRPORT_SEQ_ID')\n",
      "Airline.sqlite multiple pairs removed for ('On_Time_On_Time_Performance_2016_1', 'L_AIRPORT_ID')\n",
      "Airline.sqlite multiple pairs removed for ('On_Time_On_Time_Performance_2016_1', 'L_AIRPORT')\n",
      "Airline.sqlite multiple pairs removed for ('On_Time_On_Time_Performance_2016_1', 'L_WORLD_AREA_CODES')\n",
      "Airline.sqlite multiple pairs removed for ('On_Time_On_Time_Performance_2016_1', 'L_STATE_ABR_AVIATION')\n",
      "Airline.sqlite multiple pairs removed for ('On_Time_On_Time_Performance_2016_1', 'L_STATE_FIPS')\n",
      "Airline.sqlite multiple pairs removed for ('On_Time_On_Time_Performance_2016_1', 'L_CITY_MARKET_ID')\n",
      "Airline.sqlite multiple pairs removed for ('On_Time_On_Time_Performance_2016_1', 'L_AIRPORT_SEQ_ID')\n",
      "Airline.sqlite multiple pairs removed for ('On_Time_On_Time_Performance_2016_1', 'L_AIRPORT_ID')\n",
      "Airline.sqlite multiple pairs removed for ('On_Time_On_Time_Performance_2016_1', 'L_YESNO_RESP')\n",
      "Airline.sqlite multiple pairs removed for ('On_Time_On_Time_Performance_2016_1', 'L_ONTIME_DELAY_GROUPS')\n",
      "Airline.sqlite multiple pairs removed for ('On_Time_On_Time_Performance_2016_1', 'L_YESNO_RESP')\n",
      "TubePricing.sqlite multiple pairs removed for ('comp_adaptor', 'type_end_form')\n",
      "TubePricing.sqlite multiple pairs removed for ('comp_adaptor', 'type_connection')\n",
      "TubePricing.sqlite multiple pairs removed for ('comp_threaded', 'type_end_form')\n",
      "TubePricing.sqlite multiple pairs removed for ('comp_threaded', 'type_end_form')\n",
      "TubePricing.sqlite multiple pairs removed for ('comp_threaded', 'type_connection')\n",
      "TubePricing.sqlite multiple pairs removed for ('comp_threaded', 'type_connection')\n",
      "TubePricing.sqlite multiple pairs removed for ('tube', 'tube_end_form')\n",
      "OpenML_2016.sqlite multiple pairs removed for ('implementation_component', 'implementation')\n",
      "OpenML_2016.sqlite multiple pairs removed for ('setup_differences', 'algorithm_setup')\n",
      "VisualGenome.sqlite.IMG_OBJ_ATT removed composite primary key: 0.1\n",
      "VisualGenome.sqlite.IMG_REL removed composite primary key: 0.1\n",
      "VisualGenome.sqlite.IMG_REL removed composite primary key: 1.1\n"
     ]
    },
    {
     "name": "stdout",
     "output_type": "stream",
     "text": [
      "genes.sqlite multiple pairs removed for ('Interactions', 'Classification')\n",
      "Elti.sqlite multiple pairs removed for ('brother', 'person')\n",
      "Elti.sqlite multiple pairs removed for ('daughter', 'person')\n",
      "Elti.sqlite multiple pairs removed for ('elti', 'person')\n",
      "Elti.sqlite multiple pairs removed for ('father', 'person')\n",
      "Elti.sqlite multiple pairs removed for ('husband', 'person')\n",
      "Elti.sqlite multiple pairs removed for ('mother', 'person')\n",
      "Elti.sqlite multiple pairs removed for ('sister', 'person')\n",
      "Elti.sqlite multiple pairs removed for ('son', 'person')\n",
      "Elti.sqlite multiple pairs removed for ('target', 'person')\n",
      "Elti.sqlite multiple pairs removed for ('wife', 'person')\n",
      "nations.sqlite multiple pairs removed for ('relation', 'country')\n",
      "Dunur.sqlite multiple pairs removed for ('aunt', 'person')\n",
      "Dunur.sqlite multiple pairs removed for ('brother', 'person')\n",
      "Dunur.sqlite multiple pairs removed for ('daughter', 'person')\n",
      "Dunur.sqlite multiple pairs removed for ('dunur', 'person')\n",
      "Dunur.sqlite multiple pairs removed for ('father', 'person')\n",
      "Dunur.sqlite multiple pairs removed for ('husband', 'person')\n",
      "Dunur.sqlite multiple pairs removed for ('husband2', 'person')\n",
      "Dunur.sqlite multiple pairs removed for ('mother', 'person')\n",
      "Dunur.sqlite multiple pairs removed for ('nephew', 'person')\n",
      "Dunur.sqlite multiple pairs removed for ('niece', 'person')\n",
      "Dunur.sqlite multiple pairs removed for ('sister', 'person')\n",
      "Dunur.sqlite multiple pairs removed for ('son', 'person')\n",
      "Dunur.sqlite multiple pairs removed for ('target', 'person')\n",
      "Dunur.sqlite multiple pairs removed for ('uncle', 'person')\n",
      "Dunur.sqlite multiple pairs removed for ('wife', 'person')\n",
      "Dunur.sqlite multiple pairs removed for ('wife2', 'person')\n",
      "PubMed_Diabetes.sqlite multiple pairs removed for ('cites', 'paper')\n",
      "sakila.sqlite multiple pairs removed for ('film', 'language')\n",
      "stats.sqlite multiple pairs removed for ('postLinks', 'posts')\n",
      "stats.sqlite multiple pairs removed for ('posts', 'users')\n",
      "PTE.sqlite multiple pairs removed for ('pte_bond', 'pte_atm')\n",
      "voc.sqlite.craftsmen removed composite primary key: 0.1\n",
      "voc.sqlite.impotenten removed composite primary key: 0.1\n",
      "voc.sqlite.invoices removed composite primary key: 0.1\n",
      "voc.sqlite.passengers removed composite primary key: 0.1\n",
      "voc.sqlite.seafarers removed composite primary key: 0.1\n",
      "voc.sqlite.soldiers removed composite primary key: 0.1\n",
      "voc.sqlite.total removed composite primary key: 0.1\n",
      "Mooney_Family.sqlite multiple pairs removed for ('aunt', 'person')\n",
      "Mooney_Family.sqlite multiple pairs removed for ('aunt1', 'person')\n",
      "Mooney_Family.sqlite multiple pairs removed for ('aunt2', 'person')\n",
      "Mooney_Family.sqlite multiple pairs removed for ('aunt3', 'person')\n",
      "Mooney_Family.sqlite multiple pairs removed for ('aunt4', 'person')\n",
      "Mooney_Family.sqlite multiple pairs removed for ('aunt5', 'person')\n",
      "Mooney_Family.sqlite multiple pairs removed for ('brother', 'person')\n",
      "Mooney_Family.sqlite multiple pairs removed for ('brother1', 'person')\n",
      "Mooney_Family.sqlite multiple pairs removed for ('brother2', 'person')\n",
      "Mooney_Family.sqlite multiple pairs removed for ('brother3', 'person')\n",
      "Mooney_Family.sqlite multiple pairs removed for ('brother4', 'person')\n",
      "Mooney_Family.sqlite multiple pairs removed for ('brother5', 'person')\n",
      "Mooney_Family.sqlite multiple pairs removed for ('daughter', 'person')\n",
      "Mooney_Family.sqlite multiple pairs removed for ('daughter1', 'person')\n",
      "Mooney_Family.sqlite multiple pairs removed for ('daughter2', 'person')\n",
      "Mooney_Family.sqlite multiple pairs removed for ('daughter3', 'person')\n",
      "Mooney_Family.sqlite multiple pairs removed for ('daughter4', 'person')\n",
      "Mooney_Family.sqlite multiple pairs removed for ('daughter5', 'person')\n",
      "Mooney_Family.sqlite multiple pairs removed for ('father', 'person')\n",
      "Mooney_Family.sqlite multiple pairs removed for ('father1', 'person')\n",
      "Mooney_Family.sqlite multiple pairs removed for ('father2', 'person')\n",
      "Mooney_Family.sqlite multiple pairs removed for ('father3', 'person')\n",
      "Mooney_Family.sqlite multiple pairs removed for ('father4', 'person')\n",
      "Mooney_Family.sqlite multiple pairs removed for ('father5', 'person')\n",
      "Mooney_Family.sqlite multiple pairs removed for ('husband', 'person')\n",
      "Mooney_Family.sqlite multiple pairs removed for ('husband1', 'person')\n",
      "Mooney_Family.sqlite multiple pairs removed for ('husband2', 'person')\n",
      "Mooney_Family.sqlite multiple pairs removed for ('husband3', 'person')\n",
      "Mooney_Family.sqlite multiple pairs removed for ('husband4', 'person')\n",
      "Mooney_Family.sqlite multiple pairs removed for ('husband5', 'person')\n",
      "Mooney_Family.sqlite multiple pairs removed for ('mother', 'person')\n",
      "Mooney_Family.sqlite multiple pairs removed for ('mother1', 'person')\n",
      "Mooney_Family.sqlite multiple pairs removed for ('mother2', 'person')\n",
      "Mooney_Family.sqlite multiple pairs removed for ('mother3', 'person')\n",
      "Mooney_Family.sqlite multiple pairs removed for ('mother4', 'person')\n",
      "Mooney_Family.sqlite multiple pairs removed for ('mother5', 'person')\n",
      "Mooney_Family.sqlite multiple pairs removed for ('nephew', 'person')\n",
      "Mooney_Family.sqlite multiple pairs removed for ('nephew1', 'person')\n",
      "Mooney_Family.sqlite multiple pairs removed for ('nephew2', 'person')\n",
      "Mooney_Family.sqlite multiple pairs removed for ('nephew3', 'person')\n",
      "Mooney_Family.sqlite multiple pairs removed for ('nephew4', 'person')\n",
      "Mooney_Family.sqlite multiple pairs removed for ('nephew5', 'person')\n",
      "Mooney_Family.sqlite multiple pairs removed for ('niece', 'person')\n",
      "Mooney_Family.sqlite multiple pairs removed for ('niece1', 'person')\n",
      "Mooney_Family.sqlite multiple pairs removed for ('niece2', 'person')\n",
      "Mooney_Family.sqlite multiple pairs removed for ('niece3', 'person')\n",
      "Mooney_Family.sqlite multiple pairs removed for ('niece4', 'person')\n",
      "Mooney_Family.sqlite multiple pairs removed for ('niece5', 'person')\n",
      "Mooney_Family.sqlite multiple pairs removed for ('sister', 'person')\n",
      "Mooney_Family.sqlite multiple pairs removed for ('sister1', 'person')\n",
      "Mooney_Family.sqlite multiple pairs removed for ('sister2', 'person')\n",
      "Mooney_Family.sqlite multiple pairs removed for ('sister3', 'person')\n",
      "Mooney_Family.sqlite multiple pairs removed for ('sister4', 'person')\n",
      "Mooney_Family.sqlite multiple pairs removed for ('sister5', 'person')\n",
      "Mooney_Family.sqlite multiple pairs removed for ('son', 'person')\n",
      "Mooney_Family.sqlite multiple pairs removed for ('son1', 'person')\n",
      "Mooney_Family.sqlite multiple pairs removed for ('son2', 'person')\n",
      "Mooney_Family.sqlite multiple pairs removed for ('son3', 'person')\n",
      "Mooney_Family.sqlite multiple pairs removed for ('son4', 'person')\n",
      "Mooney_Family.sqlite multiple pairs removed for ('son5', 'person')\n",
      "Mooney_Family.sqlite multiple pairs removed for ('uncle', 'person')\n",
      "Mooney_Family.sqlite multiple pairs removed for ('uncle1', 'person')\n",
      "Mooney_Family.sqlite multiple pairs removed for ('uncle2', 'person')\n",
      "Mooney_Family.sqlite multiple pairs removed for ('uncle3', 'person')\n",
      "Mooney_Family.sqlite multiple pairs removed for ('uncle4', 'person')\n",
      "Mooney_Family.sqlite multiple pairs removed for ('uncle5', 'person')\n",
      "Mooney_Family.sqlite multiple pairs removed for ('wife', 'person')\n",
      "tpcd.sqlite.dss_partsupp removed composite primary key: 0.1\n",
      "twitterfromsearch4_20101001.sqlite multiple pairs removed for ('active_follower_real', 'distinct_users_from_search_table_real_map')\n",
      "Bench3.sqlite multiple pairs removed for ('film', 'language')\n",
      "Mesh.sqlite multiple pairs removed for ('equal', 'element')\n",
      "Mesh.sqlite multiple pairs removed for ('neighbour_xy', 'element')\n",
      "Mesh.sqlite multiple pairs removed for ('neighbour_yz', 'element')\n",
      "Mesh.sqlite multiple pairs removed for ('neighbour_zx', 'element')\n",
      "Mesh.sqlite multiple pairs removed for ('opposite', 'element')\n",
      "legalActs.sqlite multiple pairs removed for ('legalact_link', 'legalacts')\n"
     ]
    },
    {
     "data": {
      "text/plain": [
       "877"
      ]
     },
     "execution_count": 22,
     "metadata": {},
     "output_type": "execute_result"
    }
   ],
   "source": [
    "foreign_keys_list_ctu = collect_foreign_keys(\"ctu_dbs/\")\n",
    "len(foreign_keys_list_ctu)"
   ]
  },
  {
   "cell_type": "code",
   "execution_count": 23,
   "id": "84e27133",
   "metadata": {
    "pycharm": {
     "name": "#%%\n"
    }
   },
   "outputs": [],
   "source": [
    "foreign_keys_list = foreign_keys_list_ctu"
   ]
  },
  {
   "cell_type": "code",
   "execution_count": 24,
   "id": "cbc2dc64",
   "metadata": {
    "pycharm": {
     "name": "#%%\n"
    }
   },
   "outputs": [],
   "source": [
    "# deduplicate\n",
    "\n",
    "table_combinations = set()\n",
    "foreign_keys_list_deduped = []\n",
    "for foreign_key_pair in foreign_keys_list:\n",
    "    table_combination = (foreign_key_pair[\"table_string\"],foreign_key_pair[\"foreign_table_string\"], foreign_key_pair[\"column\"], foreign_key_pair[\"referred_column\"])\n",
    "    if table_combination not in table_combinations:\n",
    "        foreign_keys_list_deduped.append(foreign_key_pair)\n",
    "        table_combinations.add(table_combination)"
   ]
  },
  {
   "cell_type": "code",
   "execution_count": 25,
   "id": "eb96ed74",
   "metadata": {
    "pycharm": {
     "name": "#%%\n"
    }
   },
   "outputs": [],
   "source": [
    "# remove overlaps with eval dataset \n",
    "\n",
    "def clean_overlapping_foreign_key_pairs(foreign_key_pairs, foreign_key_pairs_others):\n",
    "    print(f\"before: {len(foreign_key_pairs)}\")\n",
    "    foreign_key_pairs_cleaned = []\n",
    "    for foreign_key_pair in foreign_key_pairs:\n",
    "        foreign_key_table_string = make_table_string(foreign_key_pair[\"table\"], foreign_key_pair[\"table_columns\"], True)\n",
    "        foreign_key_foreign_table_string = make_table_string(foreign_key_pair[\"foreign_table\"], foreign_key_pair[\"foreign_table_columns\"], True)\n",
    "        \n",
    "        occurs_in_other = False\n",
    "        for foreign_key_pair_other in foreign_key_pairs_others:\n",
    "            foreign_key_table_string_other = make_table_string(foreign_key_pair_other[\"table\"], foreign_key_pair_other[\"table_columns\"], True)\n",
    "            foreign_key_foreign_table_string_other = make_table_string(foreign_key_pair_other[\"foreign_table\"], foreign_key_pair_other[\"foreign_table_columns\"], True)\n",
    "            \n",
    "            if foreign_key_table_string == foreign_key_table_string_other and foreign_key_foreign_table_string == foreign_key_foreign_table_string_other:\n",
    "                occurs_in_other = True\n",
    "        \n",
    "        if not occurs_in_other:\n",
    "            foreign_key_pairs_cleaned.append(foreign_key_pair)\n",
    "            \n",
    "    print(f\"after: {len(foreign_key_pairs_cleaned)}, removed {len(foreign_key_pairs)-len(foreign_key_pairs_cleaned)}\")\n",
    "    return foreign_key_pairs_cleaned"
   ]
  },
  {
   "cell_type": "code",
   "execution_count": 26,
   "id": "adca551a",
   "metadata": {
    "pycharm": {
     "name": "#%%\n"
    }
   },
   "outputs": [
    {
     "name": "stdout",
     "output_type": "stream",
     "text": [
      "before: 725\n",
      "after: 706, removed 19\n"
     ]
    }
   ],
   "source": [
    "# clean ctu from foreign keys that occur in spider\n",
    "foreign_keys_list_deduped = clean_overlapping_foreign_key_pairs(foreign_keys_list_deduped, foreign_keys_list_spider)"
   ]
  },
  {
   "cell_type": "code",
   "execution_count": 27,
   "id": "38ef6599",
   "metadata": {
    "pycharm": {
     "name": "#%%\n"
    }
   },
   "outputs": [],
   "source": [
    "# create training data for foreign key detection from schemapile\n",
    "import json\n",
    "alphabetically_sorted = False\n",
    "instruction_pairs = []\n",
    "\n",
    "question_template = \"You are given the following SQL database tables: \\n{tables}\\nOutput a json string with the following schema {{table, column, referencedTable, referencedColumn}} that contains the foreign key relationship between the two tables.\" \n",
    "for foreign_key_pair in foreign_keys_list_deduped: \n",
    "    table = foreign_key_pair[\"table\"].lower()\n",
    "    foreign_table = foreign_key_pair[\"foreign_table\"].lower()\n",
    "\n",
    "    if alphabetically_sorted:\n",
    "        prompt = question_template.format(tables=\"\\n\".join(sorted([foreign_key_pair[\"table_string\"], foreign_key_pair[\"foreign_table_string\"]])))\n",
    "    else:\n",
    "        prompt = question_template.format(tables=\"\\n\".join([foreign_key_pair[\"table_string\"], foreign_key_pair[\"foreign_table_string\"]]))\n",
    "    ground_truth = json.dumps({\"table\": foreign_key_pair[\"table\"].lower(), \"column\": foreign_key_pair[\"column\"].lower(), \"referencedTable\": foreign_key_pair[\"foreign_table\"].lower(), \"referencedColumn\": foreign_key_pair[\"referred_column\"].lower()})\n",
    "    \n",
    "    instruction_pairs.append([{\"content\": prompt, \"role\": \"user\"}, {\"content\": ground_truth, \"role\": \"assistant\"}])"
   ]
  },
  {
   "cell_type": "code",
   "execution_count": 29,
   "id": "3aea854e",
   "metadata": {
    "pycharm": {
     "name": "#%%\n"
    }
   },
   "outputs": [],
   "source": [
    "import os\n",
    "import pandas as pd\n",
    "output_path = \"foreign_keys_instruction_data_ctu\"\n",
    "os.makedirs(output_path, exist_ok=True)\n",
    "train = pd.DataFrame({\"messages\": instruction_pairs})\n",
    "train.reset_index().drop(\"index\",axis=1).to_parquet(f\"{output_path}/train.parquet\")"
   ]
  }
 ],
 "metadata": {
  "kernelspec": {
   "display_name": "Python 3 (ipykernel)",
   "language": "python",
   "name": "python3"
  },
  "language_info": {
   "codemirror_mode": {
    "name": "ipython",
    "version": 3
   },
   "file_extension": ".py",
   "mimetype": "text/x-python",
   "name": "python",
   "nbconvert_exporter": "python",
   "pygments_lexer": "ipython3",
   "version": "3.9.5"
  }
 },
 "nbformat": 4,
 "nbformat_minor": 5
}