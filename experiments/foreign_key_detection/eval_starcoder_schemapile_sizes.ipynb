{
 "cells": [
  {
   "cell_type": "code",
   "execution_count": null,
   "outputs": [],
   "source": [
    "!pip install jsonformer"
   ],
   "metadata": {
    "collapsed": false,
    "pycharm": {
     "name": "#%%\n"
    }
   }
  },
  {
   "cell_type": "code",
   "execution_count": 1,
   "outputs": [],
   "source": [
    "# fix jsonformer\n",
    "def apply_generate_array_fix(jsonformer):\n",
    "    def generate_array(item_schema, obj) -> list:\n",
    "        for _ in range(jsonformer.max_array_length):\n",
    "            # forces array to have at least one element\n",
    "            element = jsonformer.generate_value(item_schema, obj)\n",
    "            obj[-1] = element\n",
    "\n",
    "            obj.append(jsonformer.generation_marker)\n",
    "            input_prompt = jsonformer.get_prompt()\n",
    "            obj.pop()\n",
    "            input_tensor = jsonformer.tokenizer.encode(input_prompt, return_tensors=\"pt\")\n",
    "            output = jsonformer.model.forward(input_tensor.to(jsonformer.model.device))\n",
    "            logits = output.logits[0, -1]\n",
    "\n",
    "\n",
    "            top_indices = logits.topk(30).indices\n",
    "            sorted_token_ids = top_indices[logits[top_indices].argsort(descending=True)]\n",
    "\n",
    "            found_comma = False\n",
    "            found_close_bracket = False\n",
    "            for token_id in sorted_token_ids:\n",
    "                decoded_token = jsonformer.tokenizer.decode(token_id)\n",
    "                if '{' in decoded_token:\n",
    "                    found_comma = True\n",
    "                    break\n",
    "                if ']' in decoded_token:\n",
    "                    found_close_bracket = True\n",
    "                    break\n",
    "\n",
    "            if found_close_bracket or not found_comma:\n",
    "                break\n",
    "\n",
    "        return obj\n",
    "\n",
    "    def get_prompt():\n",
    "        template = \"\"\"{prompt}{progress}\"\"\"\n",
    "        progress = json.dumps(jsonformer.value)\n",
    "        gen_marker_index = progress.find(f'\"{jsonformer.generation_marker}\"')\n",
    "        if gen_marker_index != -1:\n",
    "            progress = progress[:gen_marker_index]\n",
    "        else:\n",
    "            raise ValueError(\"Failed to find generation marker\")\n",
    "\n",
    "        prompt = template.format(\n",
    "            prompt=jsonformer.prompt,\n",
    "            #schema=json.dumps(jsonformer.json_schema),\n",
    "            progress=progress,\n",
    "        )\n",
    "\n",
    "        return prompt\n",
    "    jsonformer.get_prompt = get_prompt\n",
    "    jsonformer.generate_array = generate_array\n",
    "    return jsonformer"
   ],
   "metadata": {
    "collapsed": false,
    "pycharm": {
     "name": "#%%\n"
    }
   }
  },
  {
   "cell_type": "code",
   "execution_count": 2,
   "id": "682debb5",
   "metadata": {
    "pycharm": {
     "name": "#%%\n"
    }
   },
   "outputs": [
    {
     "name": "stderr",
     "output_type": "stream",
     "text": [
      "2023-08-31 14:09:50.171333: I tensorflow/core/util/port.cc:110] oneDNN custom operations are on. You may see slightly different numerical results due to floating-point round-off errors from different computation orders. To turn them off, set the environment variable `TF_ENABLE_ONEDNN_OPTS=0`.\n",
      "2023-08-31 14:09:50.226255: I tensorflow/core/platform/cpu_feature_guard.cc:182] This TensorFlow binary is optimized to use available CPU instructions in performance-critical operations.\n",
      "To enable the following instructions: AVX2 AVX512F AVX512_VNNI FMA, in other operations, rebuild TensorFlow with the appropriate compiler flags.\n",
      "2023-08-31 14:09:51.733089: W tensorflow/compiler/tf2tensorrt/utils/py_utils.cc:38] TF-TRT Warning: Could not find TensorRT\n"
     ]
    }
   ],
   "source": [
    "import argparse\n",
    "import torch\n",
    "from starcoder_finetune.dialogues import DialogueTemplate, get_dialogue_template\n",
    "from transformers import (AutoModelForCausalLM, AutoTokenizer,\n",
    "                          GenerationConfig, set_seed)\n",
    "from jsonformer import Jsonformer\n",
    "\n",
    "def initialize_model(model_id):\n",
    "    revision = None\n",
    "    system_prompt = None\n",
    "    set_seed(42)\n",
    "    \n",
    "    try:\n",
    "        dialogue_template = DialogueTemplate.from_pretrained(model_id, revision=revision)\n",
    "    except Exception:\n",
    "        print(\"No dialogue template found in model repo. Defaulting to the `no_system` template.\")\n",
    "        dialogue_template = get_dialogue_template(\"no_system\")\n",
    "\n",
    "    tokenizer = AutoTokenizer.from_pretrained(model_id, revision=revision)\n",
    "    tokenizer.eos_token_id = tokenizer.convert_tokens_to_ids(dialogue_template.end_token)\n",
    "    tokenizer.eos_token_id = tokenizer.eos_token_id\n",
    "    generation_config = GenerationConfig(\n",
    "        temperature=float(0.01),\n",
    "        top_k=50,\n",
    "        top_p=0.95,\n",
    "        repetition_penalty=1.2,\n",
    "        do_sample=True,\n",
    "        pad_token_id=tokenizer.eos_token_id,\n",
    "        eos_token_id=tokenizer.convert_tokens_to_ids(dialogue_template.end_token),\n",
    "        min_new_tokens=32,\n",
    "        max_new_tokens=512,\n",
    "    )\n",
    "    \n",
    "    device = \"cuda\" if torch.cuda.is_available() else \"cpu\"\n",
    "    model = AutoModelForCausalLM.from_pretrained(\n",
    "        model_id, revision=revision, load_in_8bit=True, device_map=\"auto\", torch_dtype=torch.float16\n",
    "    )\n",
    "    \n",
    "    return model, tokenizer, dialogue_template"
   ]
  },
  {
   "cell_type": "code",
   "execution_count": 3,
   "id": "713548a9",
   "metadata": {
    "pycharm": {
     "name": "#%%\n"
    }
   },
   "outputs": [],
   "source": [
    "def generate_response_as_json_starcoder(prompt_text):\n",
    "    prompt =[\n",
    "        {\n",
    "            \"role\": \"user\",\n",
    "            \"content\": prompt_text,\n",
    "        }\n",
    "    ]\n",
    "    dialogue_template.messages = [prompt] if isinstance(prompt, dict) else prompt\n",
    "    formatted_prompt = dialogue_template.get_inference_prompt()\n",
    "\n",
    "    src_table, src_cols, trg_table, trg_cols = get_enums_from_prompt_text(prompt_text)\n",
    "    \n",
    "    json_schema_fk = {\n",
    "            \"type\": \"object\",\n",
    "            \"properties\": {\n",
    "                      \"table\": { \n",
    "                          \"type\": \"enum\",\n",
    "                          \"values\": [src_table]\n",
    "                      },\n",
    "                      \"column\": { \n",
    "                        \"type\": \"enum\",\n",
    "                        \"values\": src_cols\n",
    "                      },\n",
    "                      \"referencedTable\": { \n",
    "                          \"type\": \"enum\",\n",
    "                          \"values\": [trg_table]\n",
    "                      },\n",
    "                      \"referencedColumn\": { \n",
    "                        \"type\": \"enum\",\n",
    "                        \"values\": trg_cols\n",
    "                      },\n",
    "                    },\n",
    "            \"required\": [\"table\", \"column\", \"referencedTable\", \"referencedColumn\"],\n",
    "    }\n",
    "    \n",
    "\n",
    "    jsonformer = Jsonformer(model, tokenizer, json_schema_fk, formatted_prompt, debug = False)\n",
    "    apply_generate_array_fix(jsonformer)\n",
    "    result_json = jsonformer()\n",
    "    \n",
    "    return result_json"
   ]
  },
  {
   "cell_type": "code",
   "execution_count": null,
   "outputs": [],
   "source": [
    "# generate predictions"
   ],
   "metadata": {
    "collapsed": false,
    "pycharm": {
     "name": "#%%\n"
    }
   }
  },
  {
   "cell_type": "code",
   "execution_count": 4,
   "id": "759facf0",
   "metadata": {
    "pycharm": {
     "name": "#%%\n"
    }
   },
   "outputs": [],
   "source": [
    "import json\n",
    "prompts_ground_truth_spider = json.load(open(f\"prompts_ground_truth_spider.json\"))\n",
    "prompts_ground_truth_bird = json.load(open(f\"prompts_ground_truth_bird.json\"))\n",
    "prompts_ground_truth_ctu = json.load(open(f\"prompts_ground_truth_ctu.json\"))"
   ]
  },
  {
   "cell_type": "code",
   "execution_count": 5,
   "id": "dc8cef57",
   "metadata": {
    "pycharm": {
     "name": "#%%\n"
    }
   },
   "outputs": [],
   "source": [
    "def get_enums_from_prompt_text(prompt_text):\n",
    "    src = prompt_text.split(\"\\n\")[1]\n",
    "    trg = prompt_text.split(\"\\n\")[2]\n",
    "    src_table = src[:src.find(\"(\")]\n",
    "    src_cols = src[src.find(\"(\")+1:src.find(\")\")].split(\", \")\n",
    "    trg_table = trg[:trg.find(\"(\")]\n",
    "    trg_cols = trg[trg.find(\"(\")+1:trg.find(\")\")].split(\", \")\n",
    "    return src_table, src_cols, trg_table, trg_cols\n",
    "\n",
    "def generate_responses(prompts_ground_truth, method, output_file, recompute=False):\n",
    "    responses = {}\n",
    "    if os.path.exists(output_file) and not recompute:\n",
    "        responses = json.load(open(output_file))\n",
    "    \n",
    "    generate_response_as_json = method\n",
    "    for dataset_name in prompts_ground_truth:\n",
    "        if dataset_name in responses:\n",
    "            continue\n",
    "            \n",
    "        print(f\"determining fk's for: {dataset_name}\")\n",
    "        \n",
    "        prompt = prompts_ground_truth[dataset_name][\"prompt\"]\n",
    "        response_json = None\n",
    "        try:\n",
    "            response_json = generate_response_as_json(prompt)\n",
    "        except Exception as e:\n",
    "            print(f\"error with prompt {dataset_name}: {str(e)}\")\n",
    "        responses[dataset_name] = response_json\n",
    "        \n",
    "        with open(output_file, \"w+\") as f:\n",
    "            json.dump(responses, f)\n",
    "    return responses"
   ]
  },
  {
   "cell_type": "markdown",
   "source": [
    "## generate predictions starcoder schemapile"
   ],
   "metadata": {
    "collapsed": false,
    "pycharm": {
     "name": "#%% md\n"
    }
   }
  },
  {
   "cell_type": "code",
   "execution_count": 30,
   "id": "4f8a048e",
   "metadata": {
    "pycharm": {
     "name": "#%%\n"
    }
   },
   "outputs": [],
   "source": [
    "dataset_sizes = [\"0\", \"300\", \"1000\",  \"3000\", \"10000\", \"30000\", \"100000\", \"468770\"] "
   ]
  },
  {
   "cell_type": "code",
   "execution_count": 31,
   "id": "566bf622",
   "metadata": {
    "scrolled": true,
    "pycharm": {
     "name": "#%%\n"
    }
   },
   "outputs": [],
   "source": [
    "responses_by_dataset_sizes = {}\n",
    "for dataset_size in dataset_sizes:\n",
    "    model_name = \"\"\n",
    "    if dataset_size == \"0\":\n",
    "        model_name = \"bigcode/starcoderbase\"\n",
    "    else:\n",
    "        model_name = f\"starcoder-schemapile-{dataset_size}\"\n",
    "    model, tokenizer, dialogue_template = initialize_model(model_name)\n",
    "    responses_by_dataset_sizes[dataset_size] = generate_responses(prompts_ground_truth_ctu, \n",
    "                                   generate_response_as_json_starcoder, f\"responses_starcoder_{dataset_size}_ctu.json\")\n",
    "    del model, tokenizer, dialogue_template"
   ]
  },
  {
   "cell_type": "code",
   "execution_count": null,
   "outputs": [],
   "source": [
    "# evaluation"
   ],
   "metadata": {
    "collapsed": false,
    "pycharm": {
     "name": "#%%\n"
    }
   }
  },
  {
   "cell_type": "code",
   "execution_count": 37,
   "id": "f05fb6d6",
   "metadata": {
    "pycharm": {
     "name": "#%%\n"
    }
   },
   "outputs": [],
   "source": [
    "import json\n",
    "import os"
   ]
  },
  {
   "cell_type": "code",
   "execution_count": 38,
   "id": "188c5121",
   "metadata": {
    "pycharm": {
     "name": "#%%\n"
    }
   },
   "outputs": [],
   "source": [
    "datasets = [\"ctu\", \"bird\", \"spider\"]\n",
    "dataset_sizes = [\"0\", \"300\", \"1000\",  \"3000\", \"10000\", \"30000\", \"100000\", \"468770\"] "
   ]
  },
  {
   "cell_type": "code",
   "execution_count": 39,
   "id": "a187973d",
   "metadata": {
    "pycharm": {
     "name": "#%%\n"
    }
   },
   "outputs": [],
   "source": [
    "responses_by_dataset_by_dataset_sizes = {}\n",
    "\n",
    "for dataset in datasets:\n",
    "    responses_by_dataset_sizes = {}\n",
    "    prompts_ground_truth = json.load(open(f\"prompts_ground_truth_{dataset}.json\"))\n",
    "    for dataset_size in dataset_sizes:\n",
    "        if os.path.exists(output_file) and not recompute:\n",
    "            responses = json.load(open(output_file))\n",
    "        responses_by_dataset_sizes[dataset_size] = generate_responses(prompts_ground_truth, \n",
    "                                       None, f\"responses_starcoder_{dataset_size}_{dataset}.json\")\n",
    "    responses_by_dataset_by_dataset_sizes[dataset] = responses_by_dataset_sizes"
   ]
  },
  {
   "cell_type": "code",
   "execution_count": 32,
   "id": "c23c67f5",
   "metadata": {
    "pycharm": {
     "name": "#%%\n"
    }
   },
   "outputs": [],
   "source": [
    "def evaluate_responses(responses, prompts_ground_truth):\n",
    "    error = 0\n",
    "    match = 0\n",
    "    no_match = 0\n",
    "\n",
    "    for dataset_name in responses:\n",
    "        if dataset_name not in prompts_ground_truth:\n",
    "            print(f\"dataset {dataset_name} not found in ground truth, skipping\")\n",
    "            continue\n",
    "        \n",
    "        foreign_key_ground_truth = json.loads(prompts_ground_truth[dataset_name][\"foreign_key\"])\n",
    "        foreign_key_prediction = responses[dataset_name]\n",
    "        \n",
    "        if foreign_key_prediction is None:\n",
    "            error += 1\n",
    "            continue\n",
    "            \n",
    "        if (list(foreign_key_prediction.keys()) == list(foreign_key_ground_truth.keys()) and\n",
    "            (list(foreign_key_prediction.values()) == list(foreign_key_ground_truth.values()))):\n",
    "            match += 1\n",
    "        else:\n",
    "            no_match += 1  \n",
    "\n",
    "    print(\"match: \"+str(match))\n",
    "    print(\"no match: \"+str(no_match))\n",
    "    print(\"error: \"+str(error))\n",
    "    accuracy = match/(match+no_match+error)\n",
    "    print(\"accuracy: \"+str(accuracy))\n",
    "    \n",
    "    return accuracy"
   ]
  },
  {
   "cell_type": "code",
   "execution_count": 42,
   "id": "f9fc1bcd",
   "metadata": {
    "pycharm": {
     "name": "#%%\n"
    }
   },
   "outputs": [
    {
     "name": "stdout",
     "output_type": "stream",
     "text": [
      "ctu - size: 0\n",
      "match: 406\n",
      "no match: 219\n",
      "error: 0\n",
      "accuracy: 0.6496\n",
      "ctu - size: 300\n",
      "match: 401\n",
      "no match: 224\n",
      "error: 0\n",
      "accuracy: 0.6416\n",
      "ctu - size: 1000\n",
      "match: 456\n",
      "no match: 169\n",
      "error: 0\n",
      "accuracy: 0.7296\n",
      "ctu - size: 3000\n",
      "match: 573\n",
      "no match: 52\n",
      "error: 0\n",
      "accuracy: 0.9168\n",
      "ctu - size: 10000\n",
      "match: 605\n",
      "no match: 20\n",
      "error: 0\n",
      "accuracy: 0.968\n",
      "ctu - size: 30000\n",
      "match: 599\n",
      "no match: 26\n",
      "error: 0\n",
      "accuracy: 0.9584\n",
      "ctu - size: 100000\n",
      "match: 603\n",
      "no match: 22\n",
      "error: 0\n",
      "accuracy: 0.9648\n",
      "ctu - size: 468770\n",
      "match: 608\n",
      "no match: 17\n",
      "error: 0\n",
      "accuracy: 0.9728\n",
      "bird - size: 0\n",
      "match: 174\n",
      "no match: 104\n",
      "error: 0\n",
      "accuracy: 0.6258992805755396\n",
      "bird - size: 300\n",
      "match: 167\n",
      "no match: 111\n",
      "error: 0\n",
      "accuracy: 0.6007194244604317\n",
      "bird - size: 1000\n",
      "match: 212\n",
      "no match: 66\n",
      "error: 0\n",
      "accuracy: 0.762589928057554\n",
      "bird - size: 3000\n",
      "match: 256\n",
      "no match: 22\n",
      "error: 0\n",
      "accuracy: 0.920863309352518\n",
      "bird - size: 10000\n",
      "match: 261\n",
      "no match: 17\n",
      "error: 0\n",
      "accuracy: 0.9388489208633094\n",
      "bird - size: 30000\n",
      "match: 260\n",
      "no match: 18\n",
      "error: 0\n",
      "accuracy: 0.935251798561151\n",
      "bird - size: 100000\n",
      "match: 255\n",
      "no match: 23\n",
      "error: 0\n",
      "accuracy: 0.9172661870503597\n",
      "bird - size: 468770\n",
      "match: 259\n",
      "no match: 19\n",
      "error: 0\n",
      "accuracy: 0.9316546762589928\n",
      "spider - size: 0\n",
      "match: 358\n",
      "no match: 165\n",
      "error: 0\n",
      "accuracy: 0.6845124282982792\n",
      "spider - size: 300\n",
      "match: 361\n",
      "no match: 162\n",
      "error: 0\n",
      "accuracy: 0.6902485659655831\n",
      "spider - size: 1000\n",
      "match: 394\n",
      "no match: 129\n",
      "error: 0\n",
      "accuracy: 0.7533460803059273\n",
      "spider - size: 3000\n",
      "match: 507\n",
      "no match: 16\n",
      "error: 0\n",
      "accuracy: 0.9694072657743786\n",
      "spider - size: 10000\n",
      "match: 500\n",
      "no match: 23\n",
      "error: 0\n",
      "accuracy: 0.9560229445506692\n",
      "spider - size: 30000\n",
      "match: 505\n",
      "no match: 18\n",
      "error: 0\n",
      "accuracy: 0.9655831739961759\n",
      "spider - size: 100000\n",
      "match: 513\n",
      "no match: 10\n",
      "error: 0\n",
      "accuracy: 0.9808795411089866\n",
      "spider - size: 468770\n",
      "match: 512\n",
      "no match: 11\n",
      "error: 0\n",
      "accuracy: 0.9789674952198852\n"
     ]
    }
   ],
   "source": [
    "accuracy_by_dataset_by_dataset_sizes = {}\n",
    "for dataset in datasets:\n",
    "    accuracy_by_dataset_sizes = {}\n",
    "    prompts_ground_truth = json.load(open(f\"prompts_ground_truth_{dataset}.json\"))\n",
    "    for dataset_size in dataset_sizes:\n",
    "        print(f\"{dataset} - size: {dataset_size}\")\n",
    "        responses_for_dataset_size = json.load(open(f\"responses_starcoder_{dataset_size}_{dataset}.json\"))\n",
    "        accuracy_by_dataset_sizes[dataset_size] = evaluate_responses(responses_for_dataset_size, prompts_ground_truth)\n",
    "    accuracy_by_dataset_by_dataset_sizes[dataset] = accuracy_by_dataset_sizes"
   ]
  },
  {
   "cell_type": "code",
   "execution_count": 44,
   "id": "307f5c3d",
   "metadata": {
    "scrolled": true,
    "pycharm": {
     "name": "#%%\n"
    }
   },
   "outputs": [
    {
     "data": {
      "text/plain": [
       "{'ctu': {'0': 0.6496,\n",
       "  '300': 0.6416,\n",
       "  '1000': 0.7296,\n",
       "  '3000': 0.9168,\n",
       "  '10000': 0.968,\n",
       "  '30000': 0.9584,\n",
       "  '100000': 0.9648,\n",
       "  '468770': 0.9728},\n",
       " 'bird': {'0': 0.6258992805755396,\n",
       "  '300': 0.6007194244604317,\n",
       "  '1000': 0.762589928057554,\n",
       "  '3000': 0.920863309352518,\n",
       "  '10000': 0.9388489208633094,\n",
       "  '30000': 0.935251798561151,\n",
       "  '100000': 0.9172661870503597,\n",
       "  '468770': 0.9316546762589928},\n",
       " 'spider': {'0': 0.6845124282982792,\n",
       "  '300': 0.6902485659655831,\n",
       "  '1000': 0.7533460803059273,\n",
       "  '3000': 0.9694072657743786,\n",
       "  '10000': 0.9560229445506692,\n",
       "  '30000': 0.9655831739961759,\n",
       "  '100000': 0.9808795411089866,\n",
       "  '468770': 0.9789674952198852}}"
      ]
     },
     "execution_count": 44,
     "metadata": {},
     "output_type": "execute_result"
    }
   ],
   "source": [
    "accuracy_by_dataset_by_dataset_sizes"
   ]
  },
  {
   "cell_type": "code",
   "execution_count": 46,
   "id": "f5ad3016",
   "metadata": {
    "pycharm": {
     "name": "#%%\n"
    }
   },
   "outputs": [
    {
     "data": {
      "image/png": "[encoded data removed]",
      "text/plain": [
       "<Figure size 720x360 with 1 Axes>"
      ]
     },
     "metadata": {
      "needs_background": "light"
     },
     "output_type": "display_data"
    }
   ],
   "source": [
    "import matplotlib.pyplot as plt\n",
    "\n",
    "x = [int(dataset_size) for dataset_size in dataset_sizes]\n",
    "\n",
    "# accuracy for \"ctu\", \"bird\", \"spider\" datasets\n",
    "y_ctu = list(accuracy_by_dataset_by_dataset_sizes[\"ctu\"].values())\n",
    "y_bird = list(accuracy_by_dataset_by_dataset_sizes[\"bird\"].values())\n",
    "y_spider = list(accuracy_by_dataset_by_dataset_sizes[\"spider\"].values())\n",
    "\n",
    "plt.figure(figsize=(10,5))\n",
    "\n",
    "plt.semilogx(x, y_ctu, marker=\"o\", color=\"blue\", label=\"ctu\")\n",
    "plt.semilogx(x, y_bird, marker=\"o\", color=\"red\", label=\"bird\")\n",
    "plt.semilogx(x, y_spider, marker=\"o\", color=\"green\", label=\"spider\")\n",
    "\n",
    "plt.xlim([100, 500000])\n",
    "plt.ylim([0.5, 1])\n",
    "\n",
    "# Continued from earlier code \n",
    "plt.xlabel(\"number of samples in training dataset\")\n",
    "plt.ylabel(\"accuracy\")\n",
    "plt.grid(True)\n",
    "\n",
    "# Add a legend to the plot\n",
    "plt.legend(loc='lower right')\n",
    "\n",
    "plt.show()"
   ]
  }
 ],
 "metadata": {
  "kernelspec": {
   "display_name": "Python 3 (ipykernel)",
   "language": "python",
   "name": "python3"
  },
  "language_info": {
   "codemirror_mode": {
    "name": "ipython",
    "version": 3
   },
   "file_extension": ".py",
   "mimetype": "text/x-python",
   "name": "python",
   "nbconvert_exporter": "python",
   "pygments_lexer": "ipython3",
   "version": "3.9.5"
  }
 },
 "nbformat": 4,
 "nbformat_minor": 5
}