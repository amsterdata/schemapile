{
 "cells": [
  {
   "cell_type": "code",
   "execution_count": 247,
   "id": "f0ca033e-6f6c-4cf9-a326-cee976b0f4d1",
   "metadata": {
    "pycharm": {
     "name": "#%%\n"
    }
   },
   "outputs": [],
   "source": [
    "import os\n",
    "import json \n",
    "\n",
    "output_path = \"valentine_output_valentine_original\"\n",
    "schemapile_responses_path = \"responses_starcoder_schemapile_valentine.json\"\n",
    "valentine_ground_truth_path = \"valentine_ground_truth_valentine\"\n",
    "output_path_combined = \"output/JaccardLevenMatcher/\"\n",
    "hybrid = True\n",
    "\n",
    "files = {}\n",
    "for filename in os.listdir(output_path):\n",
    "    if os.path.isfile(os.path.join(output_path, filename)):\n",
    "        files[filename] = json.load(open(os.path.join(output_path, filename)))"
   ]
  },
  {
   "cell_type": "code",
   "execution_count": 248,
   "id": "22574175-78bb-47e4-a9b6-d22e3ad91efd",
   "metadata": {
    "pycharm": {
     "name": "#%%\n"
    }
   },
   "outputs": [],
   "source": [
    "import json\n",
    "schemapile_valentine = json.load(open(schemapile_responses_path))\n",
    "schemapile_valentine_clean = {}\n",
    "for dataset in schemapile_valentine:\n",
    "    dataset_name = dataset[dataset.rfind(\"/\")+1:]\n",
    "    schemapile_valentine_clean[dataset_name] = schemapile_valentine[dataset]"
   ]
  },
  {
   "cell_type": "code",
   "execution_count": 249,
   "id": "ec8cc52e-b334-48d7-86b6-203a6e2e871a",
   "metadata": {
    "pycharm": {
     "name": "#%%\n"
    }
   },
   "outputs": [],
   "source": [
    "def find_schemapile_numbers(name):\n",
    "    data = None\n",
    "    found = 0\n",
    "    for dataset in schemapile_valentine_clean:\n",
    "        if dataset.startswith(name):\n",
    "            found += 1\n",
    "            data = schemapile_valentine_clean[dataset]\n",
    "    if found > 1:\n",
    "        print(\"more than 1 candidate found, taking last one: \"+name)\n",
    "    return data"
   ]
  },
  {
   "cell_type": "code",
   "execution_count": 250,
   "id": "06fcaf8c-8f5b-451f-825e-af234985711b",
   "metadata": {
    "pycharm": {
     "name": "#%%\n"
    }
   },
   "outputs": [],
   "source": [
    "import ast\n",
    "from data_loader.golden_standard_loader import GoldenStandardLoader\n",
    "from utils.utils import get_project_root, create_folder\n",
    "import metrics.metrics as module_metric\n",
    "\n",
    "metric_names=[\"precision\",\n",
    "\"recall\",\n",
    "\"f1_score\",\n",
    "\"precision_at_n_percent\",\n",
    "\"recall_at_sizeof_ground_truth\"]\n",
    "\n",
    "metric_fns = [getattr(module_metric, met) for met in metric_names]"
   ]
  },
  {
   "cell_type": "code",
   "execution_count": 251,
   "id": "1a64defc-946e-4630-b62c-49a7d9d72586",
   "metadata": {
    "scrolled": true,
    "pycharm": {
     "name": "#%%\n"
    }
   },
   "outputs": [],
   "source": [
    "for file in files:\n",
    "    name = file.split(\"__\")[0]\n",
    "    files[file][\"schemapile\"] = find_schemapile_numbers(name)\n",
    "    matches = files[file][\"matches\"]\n",
    "    \n",
    "    if files[file][\"schemapile\"] is None:\n",
    "        print(\"skipped, because not file found: \"+file)\n",
    "        continue\n",
    "\n",
    "    match_found = None\n",
    "    for match in matches:  \n",
    "        match_rating = matches[match]\n",
    "        source_col = ast.literal_eval(match)[0][1].lower()\n",
    "        target_col = ast.literal_eval(match)[1][1].lower()\n",
    "        \n",
    "        if source_col == files[file][\"schemapile\"][\"column\"] and target_col == files[file][\"schemapile\"][\"referencedColumn\"]:\n",
    "            match_found = match\n",
    "            if hybrid:\n",
    "                matches[match] = 1.1\n",
    "    \n",
    "    if not hybrid:\n",
    "        matches = {}\n",
    "        if match_found:\n",
    "            matches[match_found] = 1\n",
    "        else:\n",
    "            match = f'((\"{files[file][\"schemapile\"][\"table\"]}\", \"{files[file][\"schemapile\"][\"column\"]}\"), (\"{files[file][\"schemapile\"][\"referencedTable\"]}\", \"{files[file][\"schemapile\"][\"referencedColumn\"]}\"))'\n",
    "            matches[match] = 1.1\n",
    "        files[file][\"matches\"] = matches\n",
    "        matches = dict(sorted(matches.items(), key=lambda item: -item[1]))\n",
    "            \n",
    "    if match_found:\n",
    "        matches = dict(sorted(matches.items(), key=lambda item: -item[1]))\n",
    "    \n",
    "    files[file][\"matches\"] = matches\n",
    "\n",
    "    golden_standard = GoldenStandardLoader(f\"{valentine_ground_truth_path}/{name}/{name}_mapping.json\")\n",
    "    matches_structured = {ast.literal_eval(k): v for k,v in files[file][\"matches\"].items()}\n",
    "\n",
    "    if len(golden_standard.expected_matches) != 1:\n",
    "        continue\n",
    "\n",
    "    updated_metrics = {}\n",
    "    \n",
    "    for metric in metric_fns:\n",
    "        if metric.__name__ != \"precision_at_n_percent\":\n",
    "            if metric.__name__ in ['precision', 'recall', 'f1_score']:\n",
    "                updated_metrics[metric.__name__] = metric(matches_structured, golden_standard, True)\n",
    "            else:\n",
    "                updated_metrics[metric.__name__] = metric(matches_structured, golden_standard)\n",
    "        else:\n",
    "            for n in range(10,100,10):\n",
    "                updated_metrics[metric.__name__.replace('_n_', '_' + str(n) + '_')] = metric(matches_structured, golden_standard, n)\n",
    "\n",
    "    files[file][\"metrics\"] = updated_metrics\n",
    "    json.dump(files[file],open(output_path_combined+file,\"w+\"))"
   ]
  }
 ],
 "metadata": {
  "kernelspec": {
   "display_name": "Python 3 (ipykernel)",
   "language": "python",
   "name": "python3"
  },
  "language_info": {
   "codemirror_mode": {
    "name": "ipython",
    "version": 3
   },
   "file_extension": ".py",
   "mimetype": "text/x-python",
   "name": "python",
   "nbconvert_exporter": "python",
   "pygments_lexer": "ipython3",
   "version": "3.11.5"
  }
 },
 "nbformat": 4,
 "nbformat_minor": 5
}