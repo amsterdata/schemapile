{
 "cells": [
  {
   "cell_type": "code",
   "execution_count": 1,
   "id": "a55821ec",
   "metadata": {
    "pycharm": {
     "name": "#%%\n"
    }
   },
   "outputs": [],
   "source": [
    "import gzip\n",
    "import json\n",
    "import pandas as pd"
   ]
  },
  {
   "cell_type": "code",
   "execution_count": 2,
   "id": "af86b318",
   "metadata": {
    "pycharm": {
     "name": "#%%\n"
    }
   },
   "outputs": [],
   "source": [
    "# open schemapile\n",
    "with gzip.open(\"../../data/schemapile.json.gz\", 'r') as f:\n",
    "    schemapile = json.loads(f.read().decode('utf-8'))"
   ]
  },
  {
   "cell_type": "code",
   "execution_count": 3,
   "id": "8aa6faa5",
   "metadata": {
    "pycharm": {
     "name": "#%%\n"
    }
   },
   "outputs": [],
   "source": [
    "# helper functions\n",
    "\n",
    "def get_columns_and_types(table_name, cursor):\n",
    "    columns_and_types = cursor.execute(f\"PRAGMA table_info('{table_name}');\").fetchall()\n",
    "    return [column[1] for column in columns_and_types], [column[2] for column in columns_and_types]\n",
    "\n",
    "def make_table_string(table_name, columns, sort=False):\n",
    "    if sort:\n",
    "        columns = sorted(columns)\n",
    "    return table_name.lower()+\"(\"+ \", \".join([column.lower() for column in columns])+\")\""
   ]
  },
  {
   "cell_type": "code",
   "execution_count": null,
   "id": "bdfad8bc",
   "metadata": {
    "pycharm": {
     "name": "#%%\n",
     "is_executing": true
    }
   },
   "outputs": [],
   "source": [
    "# collect foreign keys from schemapile\n",
    "\n",
    "import os\n",
    "llm_max_chars = 8000\n",
    "\n",
    "foreign_keys_list = []\n",
    "for schema_name in schemapile:\n",
    "    tables = list(schemapile[schema_name][\"TABLES\"].keys())\n",
    "    table_columns = {}\n",
    "    table_types = {}\n",
    "\n",
    "    # collect schema information for lookup\n",
    "    for table_name in tables:\n",
    "        columns_schemapile = schemapile[schema_name][\"TABLES\"][table_name][\"COLUMNS\"]\n",
    "        columns = list(columns_schemapile.keys())\n",
    "        types = [columns_schemapile[column][\"TYPE\"] for column in columns_schemapile]\n",
    "        table_columns[table_name] = columns\n",
    "        table_types[table_name] = types\n",
    "\n",
    "    # collect foreign keys\n",
    "    for table_name in tables:\n",
    "        foreign_keys_by_id = {}\n",
    "        foreign_keys_table = schemapile[schema_name][\"TABLES\"][table_name][\"FOREIGN_KEYS\"]\n",
    "        for i, foreign_key in enumerate(foreign_keys_table):\n",
    "            if len(foreign_key[\"COLUMNS\"]) > 1:\n",
    "                print(f\"{schema_name}.{table_name} not including composite primary key: {foreign_key}\")\n",
    "                continue\n",
    "                \n",
    "            column = foreign_key[\"COLUMNS\"][0]\n",
    "            foreign_table = foreign_key[\"FOREIGN_TABLE\"]\n",
    "            referred_column = foreign_key[\"REFERRED_COLUMNS\"][0]\n",
    "            if foreign_table in table_columns and referred_column in table_columns[foreign_table] and column in table_columns[table_name]:  \n",
    "                table_string = make_table_string(table_name, table_columns[table_name])\n",
    "                foreign_table_string = make_table_string(foreign_table, table_columns[foreign_table])\n",
    "                too_large_for_llm = len(table_string) + len(foreign_table_string) > llm_max_chars\n",
    "                if too_large_for_llm:\n",
    "                    print(f\"{schema_name}.{table_name}/{foreign_table} schema too large for llm: {len(table_string)}+{len(foreign_table_string)}>{llm_max_chars}\")\n",
    "                    \n",
    "                foreign_keys_by_id[i] = {\"database\": schema_name,\n",
    "                                    \"table\": table_name, \n",
    "                                    \"table_string\": table_string,\n",
    "                                    \"table_columns\": table_columns[table_name],\n",
    "                                    \"table_types\": table_types[table_name],\n",
    "                                    \"column\": column, \n",
    "                                    \"foreign_table\": foreign_table, \n",
    "                                    \"foreign_table_string\": foreign_table_string, \n",
    "                                    \"foreign_table_columns\": table_columns[foreign_table],\n",
    "                                    \"foreign_table_types\": table_types[foreign_table],\n",
    "                                    \"referred_column\": referred_column,\n",
    "                                    \"too_large_for_llm\": too_large_for_llm}\n",
    "\n",
    "        # don't include foreign key pairs if there are multiple between two tables   \n",
    "        foreign_keys_by_table_combination = {}\n",
    "        marked_for_deletion = []\n",
    "        for key_id in list(foreign_keys_by_id.keys()):\n",
    "            foreign_key_pair = foreign_keys_by_id[key_id]\n",
    "            table_combination = (foreign_key_pair[\"table\"], foreign_key_pair[\"foreign_table\"])\n",
    "            if table_combination in foreign_keys_by_table_combination:\n",
    "                print(f\"{foreign_key_pair['database']} multiple pairs removed for {table_combination}\")\n",
    "                marked_for_deletion.append(table_combination)\n",
    "            elif foreign_key_pair[\"too_large_for_llm\"]:\n",
    "                print(f\"{foreign_key_pair['database']} too large for llm {table_combination}\")\n",
    "                marked_for_deletion.append(table_combination)\n",
    "            else:\n",
    "                foreign_keys_by_table_combination[table_combination] = foreign_key_pair\n",
    "                \n",
    "        for table_combination in list(foreign_keys_by_table_combination.keys()):\n",
    "            if table_combination in marked_for_deletion:\n",
    "                del foreign_keys_by_table_combination[table_combination]\n",
    "\n",
    "        foreign_keys_list.extend(list(foreign_keys_by_table_combination.values()))"
   ]
  },
  {
   "cell_type": "code",
   "execution_count": 6,
   "id": "b9704931",
   "metadata": {
    "pycharm": {
     "name": "#%%\n"
    }
   },
   "outputs": [
    {
     "data": {
      "text/plain": [
       "666253"
      ]
     },
     "execution_count": 6,
     "metadata": {},
     "output_type": "execute_result"
    }
   ],
   "source": [
    "len(foreign_keys_list)"
   ]
  },
  {
   "cell_type": "code",
   "execution_count": 7,
   "id": "cbc2dc64",
   "metadata": {
    "pycharm": {
     "name": "#%%\n"
    }
   },
   "outputs": [],
   "source": [
    "# deduplicate\n",
    "\n",
    "table_combinations = set()\n",
    "foreign_keys_list_deduped = []\n",
    "for foreign_key_pair in foreign_keys_list:\n",
    "    table_combination = (foreign_key_pair[\"table_string\"],foreign_key_pair[\"foreign_table_string\"], foreign_key_pair[\"column\"], foreign_key_pair[\"referred_column\"])\n",
    "    if table_combination not in table_combinations:\n",
    "        foreign_keys_list_deduped.append(foreign_key_pair)\n",
    "        table_combinations.add(table_combination)"
   ]
  },
  {
   "cell_type": "code",
   "execution_count": 8,
   "id": "c73b561f",
   "metadata": {
    "pycharm": {
     "name": "#%%\n"
    }
   },
   "outputs": [
    {
     "data": {
      "text/plain": [
       "468770"
      ]
     },
     "execution_count": 8,
     "metadata": {},
     "output_type": "execute_result"
    }
   ],
   "source": [
    "len(foreign_keys_list_deduped)"
   ]
  },
  {
   "cell_type": "code",
   "execution_count": 9,
   "id": "38ef6599",
   "metadata": {
    "pycharm": {
     "name": "#%%\n"
    }
   },
   "outputs": [],
   "source": [
    "# create training data for foreign key detection from schemapile\n",
    "import json\n",
    "alphabetically_sorted = False\n",
    "instruction_pairs = []\n",
    "\n",
    "question_template = \"You are given the following SQL database tables: \\n{tables}\\nOutput a json string with the following schema {{table, column, referencedTable, referencedColumn}} that contains the foreign key relationship between the two tables.\" \n",
    "for foreign_key_pair in foreign_keys_list_deduped: \n",
    "    table = foreign_key_pair[\"table\"].lower()\n",
    "    foreign_table = foreign_key_pair[\"foreign_table\"].lower()\n",
    "\n",
    "    if alphabetically_sorted:\n",
    "        prompt = question_template.format(tables=\"\\n\".join(sorted([foreign_key_pair[\"table_string\"], foreign_key_pair[\"foreign_table_string\"]])))\n",
    "    else:\n",
    "        prompt = question_template.format(tables=\"\\n\".join([foreign_key_pair[\"table_string\"], foreign_key_pair[\"foreign_table_string\"]]))\n",
    "    ground_truth = json.dumps({\"table\": foreign_key_pair[\"table\"].lower(), \"column\": foreign_key_pair[\"column\"].lower(), \"referencedTable\": foreign_key_pair[\"foreign_table\"].lower(), \"referencedColumn\": foreign_key_pair[\"referred_column\"].lower()})\n",
    "    \n",
    "    instruction_pairs.append([{\"content\": prompt, \"role\": \"user\"}, {\"content\": ground_truth, \"role\": \"assistant\"}])"
   ]
  },
  {
   "cell_type": "code",
   "execution_count": 11,
   "id": "a21112ff",
   "metadata": {
    "pycharm": {
     "name": "#%%\n"
    }
   },
   "outputs": [],
   "source": [
    "train = pd.DataFrame({\"messages\": instruction_pairs})"
   ]
  },
  {
   "cell_type": "code",
   "execution_count": 12,
   "id": "3aea854e",
   "metadata": {
    "pycharm": {
     "name": "#%%\n"
    }
   },
   "outputs": [],
   "source": [
    "import os\n",
    "output_path = \"../../data/foreign_keys_instruction_data_schemapile\"\n",
    "os.makedirs(output_path, exist_ok=True)\n",
    "train.reset_index().drop(\"index\",axis=1).to_parquet(f\"{output_path}/train.parquet\")"
   ]
  },
  {
   "cell_type": "code",
   "execution_count": null,
   "id": "8b0e0be6",
   "metadata": {
    "pycharm": {
     "name": "#%%\n",
     "is_executing": true
    }
   },
   "outputs": [],
   "source": [
    "from datasets import load_dataset\n",
    "ds = load_dataset(\"parquet\", data_files={'train': f\"{output_path}/train.parquet\"})"
   ]
  },
  {
   "cell_type": "code",
   "execution_count": 15,
   "id": "049059fe",
   "metadata": {
    "pycharm": {
     "name": "#%%\n"
    }
   },
   "outputs": [
    {
     "data": {
      "text/plain": [
       "[{'content': 'You are given the following SQL database tables: \\naddress(id, uuid, flat_buil_number, locality, city, pincode, state_id)\\nstate(id, uuid, state_name)\\nOutput a json string with the following schema {table, column, referencedTable, referencedColumn} that contains the foreign key relationship between the two tables.',\n",
       "  'role': 'user'},\n",
       " {'content': '{\"table\": \"address\", \"column\": \"state_id\", \"referencedTable\": \"state\", \"referencedColumn\": \"id\"}',\n",
       "  'role': 'assistant'}]"
      ]
     },
     "execution_count": 15,
     "metadata": {},
     "output_type": "execute_result"
    }
   ],
   "source": [
    "ds[\"train\"][\"messages\"][0]"
   ]
  }
 ],
 "metadata": {
  "kernelspec": {
   "display_name": "Python 3 (ipykernel)",
   "language": "python",
   "name": "python3"
  },
  "language_info": {
   "codemirror_mode": {
    "name": "ipython",
    "version": 3
   },
   "file_extension": ".py",
   "mimetype": "text/x-python",
   "name": "python",
   "nbconvert_exporter": "python",
   "pygments_lexer": "ipython3",
   "version": "3.9.5"
  }
 },
 "nbformat": 4,
 "nbformat_minor": 5
}