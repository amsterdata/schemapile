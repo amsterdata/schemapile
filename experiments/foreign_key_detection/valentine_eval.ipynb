{
 "cells": [
  {
   "cell_type": "code",
   "execution_count": 100,
   "id": "29b14dcf",
   "metadata": {
    "pycharm": {
     "name": "#%%\n"
    }
   },
   "outputs": [],
   "source": [
    "import os\n",
    "import json\n",
    "import numpy as np\n",
    "\n",
    "def summarize_metrics(output_folder, hyperparams, dataset_folder):\n",
    "    input_datasets =  os.listdir(dataset_folder)\n",
    "    output_path = output_folder\n",
    "    output_files = os.listdir(output_path)\n",
    "    metrics = {}\n",
    "    count = 0\n",
    "    for output_file in output_files:\n",
    "        if output_file.replace(hyperparams+\".json\",\"\") not in input_datasets:\n",
    "            continue\n",
    "        count += 1\n",
    "        output_dict = json.load(open(f\"{output_path}/{output_file}\"))\n",
    "        algorithm_runtime = output_dict[\"run_times\"][\"algorithm_time\"]\n",
    "        recall_at_sizeof_ground_truth = output_dict[\"metrics\"][\"recall_at_sizeof_ground_truth\"]\n",
    "        if len(metrics) > 0:\n",
    "            for metric_name in metrics:\n",
    "                if metric_name == \"algorithm_runtime\":\n",
    "                    metrics[\"algorithm_runtime\"].append(algorithm_runtime)\n",
    "                if metric_name == \"accuracy\":\n",
    "                    metrics[\"accuracy\"].append(recall_at_sizeof_ground_truth)\n",
    "            \n",
    "        else:\n",
    "            metrics[\"algorithm_runtime\"] = [algorithm_runtime]\n",
    "            metrics[\"accuracy\"] = [recall_at_sizeof_ground_truth]\n",
    "        \n",
    "    metrics[\"algorithm_runtime\"] = (np.mean(metrics[\"algorithm_runtime\"]), np.max(metrics[\"algorithm_runtime\"]))\n",
    "    metrics[\"accuracy\"] = sum([value == 1 for value in metrics[\"accuracy\"]])/count\n",
    "    metrics[\"count\"] = count\n",
    "        \n",
    "    return metrics"
   ]
  },
  {
   "cell_type": "code",
   "execution_count": null,
   "id": "4631e79c",
   "metadata": {
    "pycharm": {
     "name": "#%%\n"
    }
   },
   "outputs": [],
   "source": []
  },
  {
   "cell_type": "code",
   "execution_count": 101,
   "id": "5bd99e73",
   "metadata": {
    "pycharm": {
     "name": "#%%\n"
    }
   },
   "outputs": [],
   "source": [
    "output_folder = \"valentine/output/JaccardLevenMatcher/\"\n",
    "hyperparams = \"__JaccardLevenMatcher_threshold_leven_0_8_process_num_4_\""
   ]
  },
  {
   "cell_type": "code",
   "execution_count": 102,
   "id": "0dc60b6a",
   "metadata": {
    "pycharm": {
     "name": "#%%\n"
    }
   },
   "outputs": [
    {
     "data": {
      "text/plain": [
       "{'algorithm_runtime': (12.555144831727109, 1272.5520548161585),\n",
       " 'accuracy': 0.5801217038539553,\n",
       " 'count': 493}"
      ]
     },
     "execution_count": 102,
     "metadata": {},
     "output_type": "execute_result"
    }
   ],
   "source": [
    "summarize_metrics(output_folder, hyperparams, \"valentine/data/spider\")"
   ]
  },
  {
   "cell_type": "code",
   "execution_count": 103,
   "id": "72f4150e",
   "metadata": {
    "pycharm": {
     "name": "#%%\n"
    }
   },
   "outputs": [
    {
     "data": {
      "text/plain": [
       "{'algorithm_runtime': (310.2682654519873, 15181.739863988012),\n",
       " 'accuracy': 0.632768361581921,\n",
       " 'count': 177}"
      ]
     },
     "execution_count": 103,
     "metadata": {},
     "output_type": "execute_result"
    }
   ],
   "source": [
    "summarize_metrics(output_folder, hyperparams, \"valentine/data/bird\")"
   ]
  },
  {
   "cell_type": "code",
   "execution_count": 104,
   "id": "e8ee74e5",
   "metadata": {
    "pycharm": {
     "name": "#%%\n"
    }
   },
   "outputs": [
    {
     "data": {
      "text/plain": [
       "{'algorithm_runtime': (213.38962514130276, 19344.522423089016),\n",
       " 'accuracy': 0.3564154786150713,\n",
       " 'count': 491}"
      ]
     },
     "execution_count": 104,
     "metadata": {},
     "output_type": "execute_result"
    }
   ],
   "source": [
    "summarize_metrics(output_folder, hyperparams, \"valentine/data/ctu\")"
   ]
  },
  {
   "cell_type": "code",
   "execution_count": null,
   "id": "65b97562",
   "metadata": {
    "pycharm": {
     "name": "#%%\n"
    }
   },
   "outputs": [],
   "source": []
  },
  {
   "cell_type": "code",
   "execution_count": null,
   "id": "a13da7c4",
   "metadata": {
    "pycharm": {
     "name": "#%%\n"
    }
   },
   "outputs": [],
   "source": []
  }
 ],
 "metadata": {
  "kernelspec": {
   "display_name": "Python 3 (ipykernel)",
   "language": "python",
   "name": "python3"
  },
  "language_info": {
   "codemirror_mode": {
    "name": "ipython",
    "version": 3
   },
   "file_extension": ".py",
   "mimetype": "text/x-python",
   "name": "python",
   "nbconvert_exporter": "python",
   "pygments_lexer": "ipython3",
   "version": "3.9.5"
  }
 },
 "nbformat": 4,
 "nbformat_minor": 5
}