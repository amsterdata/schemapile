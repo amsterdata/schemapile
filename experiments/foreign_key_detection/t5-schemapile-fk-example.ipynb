{
 "cells": [
  {
   "cell_type": "code",
   "execution_count": null,
   "id": "e9f9a10f",
   "metadata": {},
   "outputs": [],
   "source": [
    "from transformers import AutoTokenizer\n",
    "from transformers import AutoModelForSeq2SeqLM, DataCollatorForSeq2Seq,  Seq2SeqTrainingArguments, Seq2SeqTrainer\n",
    "\n",
    "model_id = \"tdoehmen/t5-schemapile-fk\"\n",
    "\n",
    "tokenizer = AutoTokenizer.from_pretrained(model_id)\n",
    "model = AutoModelForSeq2SeqLM.from_pretrained(model_id)\n",
    "max_input_length = 1024\n",
    "\n",
    "def generate_responses_as_json_t5(prompt):\n",
    "    inputs = [prompt]\n",
    "    inputs = tokenizer(inputs, max_length=max_input_length, truncation=True, return_tensors=\"pt\")\n",
    "    output = model.generate(**inputs, num_beams=8, do_sample=False, min_length=10, max_length=512)\n",
    "    decoded_output = tokenizer.batch_decode(output, skip_special_tokens=True)[0]\n",
    "    try:\n",
    "        output_json = json.loads('{'+decoded_output+\"}\")\n",
    "    except Exception as e:\n",
    "        print('{'+decoded_output+\"}\")\n",
    "        raise e\n",
    "    return output_json"
   ]
  },
  {
   "cell_type": "code",
   "execution_count": 14,
   "id": "044ef1a2",
   "metadata": {},
   "outputs": [
    {
     "name": "stdout",
     "output_type": "stream",
     "text": [
      "You are given the following SQL database tables: \n",
      "staff(staff_id, staff_address_id, nickname, first_name, middle_name, last_name, date_of_birth, date_joined_staff, date_left_staff)\n",
      "addresses(address_id, line_1_number_building, city, zip_postcode, state_province_county, country)\n",
      "Output a json string with the following schema {table, column, referencedTable, referencedColumn} that contains the foreign key relationship between the two tables.\n"
     ]
    }
   ],
   "source": [
    "text = 'You are given the following SQL database tables: \\nstaff(staff_id, staff_address_id, nickname, first_name, middle_name, last_name, date_of_birth, date_joined_staff, date_left_staff)\\naddresses(address_id, line_1_number_building, city, zip_postcode, state_province_county, country)\\nOutput a json string with the following schema {table, column, referencedTable, referencedColumn} that contains the foreign key relationship between the two tables.'\n",
    "print(text)"
   ]
  },
  {
   "cell_type": "code",
   "execution_count": 19,
   "id": "c5fd38bc",
   "metadata": {},
   "outputs": [
    {
     "data": {
      "text/plain": [
       "{'table': 'staff',\n",
       " 'column': 'staff_address_id',\n",
       " 'referencedTable': 'addresses',\n",
       " 'referencedColumn': 'address_id'}"
      ]
     },
     "execution_count": 19,
     "metadata": {},
     "output_type": "execute_result"
    }
   ],
   "source": [
    "generate_responses_as_json_t5(text)"
   ]
  }
 ],
 "metadata": {
  "kernelspec": {
   "display_name": "Python 3 (ipykernel)",
   "language": "python",
   "name": "python3"
  },
  "language_info": {
   "codemirror_mode": {
    "name": "ipython",
    "version": 3
   },
   "file_extension": ".py",
   "mimetype": "text/x-python",
   "name": "python",
   "nbconvert_exporter": "python",
   "pygments_lexer": "ipython3",
   "version": "3.11.5"
  }
 },
 "nbformat": 4,
 "nbformat_minor": 5
}
