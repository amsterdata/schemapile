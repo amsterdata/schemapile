{
 "cells": [
  {
   "cell_type": "code",
   "execution_count": null,
   "id": "baebdcd3",
   "metadata": {
    "pycharm": {
     "name": "#%%\n"
    }
   },
   "outputs": [],
   "source": [
    "import gzip\n",
    "import json\n",
    "\n",
    "# open schemapile\n",
    "with gzip.open(\"../../data/schemapile.json.gz\", 'r') as f:\n",
    "    schemapile = json.loads(f.read().decode('utf-8'))\n",
    "\n",
    "schemapile_table_strings = {}"
   ]
  },
  {
   "cell_type": "code",
   "execution_count": 53,
   "id": "87b7c996",
   "metadata": {
    "pycharm": {
     "name": "#%%\n"
    }
   },
   "outputs": [],
   "source": [
    "# helper functions\n",
    "\n",
    "def get_columns_and_types(table_name, cursor):\n",
    "    columns_and_types = cursor.execute(f\"PRAGMA table_info('{table_name}');\").fetchall()\n",
    "    return [column[1] for column in columns_and_types], [column[2] for column in columns_and_types]\n",
    "\n",
    "def make_table_string(table_name, columns, sort=False):\n",
    "    if sort:\n",
    "        columns = sorted(columns)\n",
    "    return table_name.lower()+\"(\"+ \", \".join([column.lower() for column in columns])+\")\"\n",
    "\n",
    "for database in schemapile:\n",
    "    schemapile_table_strings[database] = []\n",
    "    for table_name in schemapile[database][\"TABLES\"]:\n",
    "        columns = list(schemapile[database][\"TABLES\"][table_name][\"COLUMNS\"].keys())\n",
    "        schemapile_table_strings[database].append(make_table_string(table_name, columns, True))\n",
    "        \n",
    "def occurs_in_schemapile(table_string_sorted, foreign_table_string_sorted):\n",
    "    for database in schemapile_table_strings:\n",
    "        tables = schemapile_table_strings[database]\n",
    "        if table_string_sorted in tables and foreign_table_string_sorted in tables:\n",
    "            return True\n",
    "    return False"
   ]
  },
  {
   "cell_type": "code",
   "execution_count": 69,
   "id": "916f66c9",
   "metadata": {
    "pycharm": {
     "name": "#%%\n"
    }
   },
   "outputs": [],
   "source": [
    "# collect foreign keys from databases\n",
    "\n",
    "import os\n",
    "import sqlite3\n",
    "\n",
    "valentine_max_values = 42*23255 # (largest table in valentine: miller2_vertical_70_ac5_ev_source.csv)\n",
    "llm_max_chars = 8000\n",
    "\n",
    "def collect_foreign_keys(databases_path):\n",
    "    databases = os.listdir(databases_path)\n",
    "    foreign_keys_list = []\n",
    "    for database in databases:\n",
    "        database_name = database.replace(\".sqlite\",\"\")\n",
    "        con = sqlite3.connect(f\"{databases_path}/{database}\")\n",
    "        cursor = con.cursor()\n",
    "        cursor.execute(\"SELECT name FROM sqlite_master WHERE type='table';\")\n",
    "        tables = cursor.fetchall()\n",
    "        table_columns = {}\n",
    "        table_types = {}\n",
    "        table_too_large_for_valentine = {}\n",
    "        \n",
    "        # collect schema information for lookup\n",
    "        for table in tables:\n",
    "            table_name = table[0]\n",
    "            columns, types = get_columns_and_types(table_name, cursor)\n",
    "            table_columns[table_name] = columns\n",
    "            table_types[table_name] = types\n",
    "            rows = cursor.execute(f\"SELECT COUNT(*) FROM '{table_name}';\").fetchall()[0][0]\n",
    "            table_too_large_for_valentine[table_name] = rows * len(columns) > valentine_max_values\n",
    "            if table_too_large_for_valentine[table_name]:\n",
    "                print(f\"{database}.{table_name} too large - columns: {len(columns)}, rows: {rows}\")\n",
    "        \n",
    "        # collect foreign keys\n",
    "        for table in tables:\n",
    "            table_name = table[0]\n",
    "            cursor.execute(f\"PRAGMA foreign_key_list('{table_name}');\")\n",
    "            foreign_keys_by_id = {}\n",
    "            for fk_id, seq_id, foreign_table, column, referred_column, _, _, _ in cursor.fetchall():\n",
    "                if fk_id in foreign_keys_by_id:\n",
    "                    print(f\"{database}.{table_name} removed composite primary key: {fk_id}.{seq_id}\")\n",
    "                    del foreign_keys_by_id[fk_id]\n",
    "                elif foreign_table in table_columns and referred_column in table_columns[foreign_table] and column in table_columns[table_name]:  \n",
    "                    foreign_key_pair_occurs_in_schemapile = occurs_in_schemapile(make_table_string(table_name, table_columns[table_name], True),\n",
    "                                                                                 make_table_string(foreign_table, table_columns[foreign_table], True))\n",
    "                    if foreign_key_pair_occurs_in_schemapile:\n",
    "                        print(f\"{database}.{table_name}/{foreign_table} occurs in schemapile\")\n",
    "                    \n",
    "                    table_string = make_table_string(table_name, table_columns[table_name])\n",
    "                    foreign_table_string = make_table_string(foreign_table, table_columns[foreign_table])\n",
    "                    too_large_for_llm = len(table_string) + len(foreign_table_string) > llm_max_chars\n",
    "                    if too_large_for_llm:\n",
    "                        print(f\"{database}.{table_name}/{foreign_table} schema too large for llm: {len(table_string)}+{len(foreign_table_string)}>{llm_max_chars}\")\n",
    "                    \n",
    "                    foreign_keys_by_id[fk_id] = {\"database\": database,\n",
    "                                        \"table\": table_name, \n",
    "                                        \"table_string\": table_string,\n",
    "                                        \"table_columns\": table_columns[table_name],\n",
    "                                        \"table_types\": table_types[table_name],\n",
    "                                        \"column\": column, \n",
    "                                        \"foreign_table\": foreign_table, \n",
    "                                        \"foreign_table_string\": foreign_table_string, \n",
    "                                        \"foreign_table_columns\": table_columns[foreign_table],\n",
    "                                        \"foreign_table_types\": table_types[foreign_table],\n",
    "                                        \"referred_column\": referred_column,\n",
    "                                        \"occurs_in_schemapile\": foreign_key_pair_occurs_in_schemapile,\n",
    "                                        \"too_large_for_valentine\": table_too_large_for_valentine[table_name] or table_too_large_for_valentine[foreign_table],\n",
    "                                        \"too_large_for_llm\": too_large_for_llm}\n",
    "            \n",
    "            # don't include foreign key pairs if there are multiple between two tables   \n",
    "            foreign_keys_by_table_combination = {}\n",
    "            for key_id in list(foreign_keys_by_id.keys()):\n",
    "                foreign_key_pair = foreign_keys_by_id[key_id]\n",
    "                table_combination = (foreign_key_pair[\"table\"], foreign_key_pair[\"foreign_table\"])\n",
    "                if table_combination in foreign_keys_by_table_combination:\n",
    "                    print(f\"{foreign_key_pair['database']} multiple pairs removed for {table_combination}\")\n",
    "                    del foreign_keys_by_table_combination[table_combination]\n",
    "                else:\n",
    "                    foreign_keys_by_table_combination[table_combination] = foreign_key_pair\n",
    "\n",
    "            foreign_keys_list.extend(list(foreign_keys_by_table_combination.values()))\n",
    "    return foreign_keys_list"
   ]
  },
  {
   "cell_type": "code",
   "execution_count": null,
   "id": "bf3c4700",
   "metadata": {
    "pycharm": {
     "is_executing": true,
     "name": "#%%\n"
    },
    "scrolled": true
   },
   "outputs": [],
   "source": [
    "spider_foreign_keys = collect_foreign_keys(\"spider_dbs/\")"
   ]
  },
  {
   "cell_type": "code",
   "execution_count": null,
   "id": "112f4738",
   "metadata": {
    "pycharm": {
     "is_executing": true,
     "name": "#%%\n"
    },
    "scrolled": true
   },
   "outputs": [],
   "source": [
    "bird_foreign_keys = collect_foreign_keys(\"bird_dbs/\")"
   ]
  },
  {
   "cell_type": "code",
   "execution_count": null,
   "id": "c0ec5ac9",
   "metadata": {
    "pycharm": {
     "is_executing": true,
     "name": "#%%\n"
    }
   },
   "outputs": [],
   "source": [
    "ctu_foreign_keys = collect_foreign_keys(\"ctu_dbs/\")"
   ]
  },
  {
   "cell_type": "code",
   "execution_count": null,
   "id": "301eda38",
   "metadata": {
    "pycharm": {
     "name": "#%%\n"
    }
   },
   "outputs": [],
   "source": []
  },
  {
   "cell_type": "code",
   "execution_count": 155,
   "id": "9f279dad",
   "metadata": {
    "pycharm": {
     "name": "#%%\n"
    }
   },
   "outputs": [],
   "source": [
    "# filter foreign keys that should be excluded for valentine \n",
    "\n",
    "def print_filter_stats(foreign_key_pairs):\n",
    "    print(f\"occurs_in_schemapile: {sum([pair['occurs_in_schemapile'] for pair in foreign_key_pairs])}/{len(foreign_key_pairs)}\")\n",
    "    print(f\"too_large_for_valentine: {sum([pair['too_large_for_valentine'] for pair in foreign_key_pairs])}/{len(foreign_key_pairs)}\")\n",
    "    print(f\"too_large_for_llm: {sum([pair['too_large_for_llm'] for pair in foreign_key_pairs])}/{len(foreign_key_pairs)}\")\n",
    "    \n",
    "\n",
    "def filter_foreign_key_pairs(foreign_key_pairs, valentine=False):\n",
    "    print_filter_stats(foreign_key_pairs)\n",
    "    filtered_list = list(filter(lambda foreign_key_pair: not (foreign_key_pair[\"occurs_in_schemapile\"]\n",
    "                                                     or (valentine and foreign_key_pair[\"too_large_for_valentine\"]) \n",
    "                                                     or foreign_key_pair[\"too_large_for_llm\"]), \n",
    "                       foreign_key_pairs))\n",
    "    print(f\"kept: {len(filtered_list)}/{len(foreign_key_pairs)}\")\n",
    "    return filtered_list  "
   ]
  },
  {
   "cell_type": "code",
   "execution_count": null,
   "id": "e4f7d6a0",
   "metadata": {
    "pycharm": {
     "is_executing": true,
     "name": "#%%\n"
    }
   },
   "outputs": [],
   "source": [
    "spider_foreign_keys_filtered = filter_foreign_key_pairs(spider_foreign_keys)"
   ]
  },
  {
   "cell_type": "code",
   "execution_count": null,
   "id": "5dd4a6b9",
   "metadata": {
    "pycharm": {
     "is_executing": true,
     "name": "#%%\n"
    }
   },
   "outputs": [],
   "source": [
    "bird_foreign_keys_filtered = filter_foreign_key_pairs(bird_foreign_keys)"
   ]
  },
  {
   "cell_type": "code",
   "execution_count": null,
   "id": "ef66d28d",
   "metadata": {
    "pycharm": {
     "is_executing": true,
     "name": "#%%\n"
    }
   },
   "outputs": [],
   "source": [
    "ctu_foreign_keys_filtered = filter_foreign_key_pairs(ctu_foreign_keys)"
   ]
  },
  {
   "cell_type": "code",
   "execution_count": 164,
   "id": "2fdaec7d",
   "metadata": {
    "pycharm": {
     "name": "#%%\n"
    }
   },
   "outputs": [],
   "source": [
    "import json\n",
    "with open(\"foreign_keys_filtered_spider.json\", \"w+\") as f:\n",
    "    json.dump(spider_foreign_keys_filtered, f)"
   ]
  },
  {
   "cell_type": "code",
   "execution_count": 165,
   "id": "ebb9e3c4",
   "metadata": {
    "pycharm": {
     "name": "#%%\n"
    }
   },
   "outputs": [],
   "source": [
    "import json\n",
    "with open(\"foreign_keys_filtered_bird.json\", \"w+\") as f:\n",
    "    json.dump(bird_foreign_keys_filtered, f)"
   ]
  },
  {
   "cell_type": "code",
   "execution_count": null,
   "id": "37c201a5",
   "metadata": {
    "pycharm": {
     "name": "#%%\n"
    }
   },
   "outputs": [],
   "source": [
    "import json\n",
    "with open(\"foreign_keys_filtered_ctu.json\", \"w+\") as f:\n",
    "    json.dump(ctu_foreign_keys_filtered, f)"
   ]
  },
  {
   "cell_type": "code",
   "execution_count": null,
   "id": "448cb8f3",
   "metadata": {
    "pycharm": {
     "name": "#%%\n"
    }
   },
   "outputs": [],
   "source": []
  },
  {
   "cell_type": "code",
   "execution_count": null,
   "id": "e5572fc7",
   "metadata": {
    "pycharm": {
     "name": "#%%\n"
    }
   },
   "outputs": [],
   "source": [
    "# create evaluation data for valentine\n",
    "\n",
    "def map_data_type(data_type):\n",
    "    return data_type.lower()\n",
    "\n",
    "# Optional:\n",
    "# - make column names and table names lowercase\n",
    "# - determine types and make type mapping\n",
    "\n",
    "import csv\n",
    "import pandas as pd\n",
    "\n",
    "def create_valentine_data(databases_path, foreign_key_pairs, valentine_path):\n",
    "\n",
    "    for foreign_key_pair in foreign_key_pairs:\n",
    "        if foreign_key_pair[\"too_large_for_valentine\"]:\n",
    "            continue\n",
    "\n",
    "        database = foreign_key_pair['database'].replace(\".\",\"_\")\n",
    "        table = foreign_key_pair[\"table\"].lower()\n",
    "        column = foreign_key_pair[\"column\"].lower()\n",
    "        foreign_table = foreign_key_pair[\"foreign_table\"].lower()\n",
    "        referred_column = foreign_key_pair[\"referred_column\"].lower()\n",
    "        dataset_path = f\"{valentine_path}/{database}_{table}_{foreign_table}\"\n",
    "\n",
    "        # Create your connection.\n",
    "        mapping = {\"matches\": []}\n",
    "        mapping[\"matches\"].append(\n",
    "                {\n",
    "                    \"source_table\": table+\"_source\",\n",
    "                    \"source_column\": column,\n",
    "                    \"target_table\": foreign_table+\"_target\",\n",
    "                    \"target_column\": referred_column\n",
    "                }\n",
    "        )\n",
    "\n",
    "        con = sqlite3.connect(f\"{databases_path}/{foreign_key_pair['database']}\")\n",
    "\n",
    "        source_schema = {foreign_key_pair[\"table_columns\"][i].lower(): {\"type\": foreign_key_pair[\"table_types\"][i].lower()} for i in range(len(foreign_key_pair[\"table_columns\"]))}\n",
    "        target_schema = {foreign_key_pair[\"foreign_table_columns\"][i].lower(): {\"type\": foreign_key_pair[\"foreign_table_types\"][i].lower()} for i in range(len(foreign_key_pair[\"foreign_table_columns\"]))}\n",
    "\n",
    "        try:\n",
    "            os.makedirs(dataset_path)\n",
    "        except Exception as e:\n",
    "            print(e)\n",
    "            continue\n",
    "\n",
    "        with open(f\"{dataset_path}/{database}_{table}_{foreign_table}_mapping.json\", \"w\") as f:\n",
    "            json.dump(mapping, f, indent=4)\n",
    "\n",
    "        with open(f\"{dataset_path}/{mapping['matches'][0]['source_table']}.json\", \"w\") as f:\n",
    "            json.dump(source_schema, f, indent=4)\n",
    "\n",
    "        with open(f\"{dataset_path}/{mapping['matches'][0]['target_table']}.json\", \"w\") as f:\n",
    "            json.dump(target_schema, f, indent=4)\n",
    "\n",
    "        source_df = pd.read_sql_query(f\"SELECT * FROM '{foreign_key_pair['table']}'\", con)\n",
    "        source_df = source_df.rename(columns=str.lower)\n",
    "        source_df.to_csv(f\"{dataset_path}/{mapping['matches'][0]['source_table']}.csv\",index=False,header=True, quoting=csv.QUOTE_MINIMAL)\n",
    "\n",
    "        target_df = pd.read_sql_query(f\"SELECT * FROM '{foreign_key_pair['foreign_table']}'\", con)\n",
    "        target_df = target_df.rename(columns=str.lower)\n",
    "        target_df.to_csv(f\"{dataset_path}/{mapping['matches'][0]['target_table']}.csv\",index=False,header=True, quoting=csv.QUOTE_MINIMAL)"
   ]
  },
  {
   "cell_type": "code",
   "execution_count": null,
   "id": "0901f515",
   "metadata": {
    "pycharm": {
     "name": "#%%\n"
    }
   },
   "outputs": [],
   "source": [
    "create_valentine_data(\"spider_dbs/\", spider_foreign_keys_filtered, \"valentine/datasets/spider/\")"
   ]
  },
  {
   "cell_type": "code",
   "execution_count": null,
   "id": "c501c446",
   "metadata": {
    "pycharm": {
     "name": "#%%\n"
    }
   },
   "outputs": [],
   "source": [
    "create_valentine_data(\"bird_dbs/\", bird_foreign_keys_filtered, \"valentine/datasets/bird/\")"
   ]
  },
  {
   "cell_type": "code",
   "execution_count": null,
   "id": "c9fd7037",
   "metadata": {
    "pycharm": {
     "name": "#%%\n"
    }
   },
   "outputs": [],
   "source": [
    "create_valentine_data(\"ctu_dbs/\", ctu_foreign_keys_filtered, \"valentine/datasets/ctu/\")"
   ]
  },
  {
   "cell_type": "code",
   "execution_count": null,
   "id": "b59d20cb",
   "metadata": {
    "pycharm": {
     "name": "#%%\n"
    }
   },
   "outputs": [],
   "source": []
  },
  {
   "cell_type": "code",
   "execution_count": null,
   "id": "b15fd90b",
   "metadata": {
    "pycharm": {
     "name": "#%%\n"
    }
   },
   "outputs": [],
   "source": [
    "# create prompts and reference responses for LLM matcher\n",
    "\n",
    "import json\n",
    "spider_foreign_keys_filtered = json.load(open(\"foreign_keys_filtered_spider.json\"))\n",
    "bird_foreign_keys_filtered = json.load(open(\"foreign_keys_filtered_bird.json\"))\n",
    "ctu_foreign_keys_filtered = json.load(open(\"foreign_keys_filtered_ctu.json\"))"
   ]
  },
  {
   "cell_type": "code",
   "execution_count": null,
   "id": "2b5aed87",
   "metadata": {
    "pycharm": {
     "name": "#%%\n"
    }
   },
   "outputs": [],
   "source": [
    "def generate_prompts_and_responses(foreign_keys_filtered, alphabetically_sorted=False):\n",
    "    prompts_ground_truth = {}\n",
    "\n",
    "    question_template = \"You are given the following SQL database tables: \\n{tables}\\nOutput a json string with the following schema {{table, column, referencedTable, referencedColumn}} that contains the foreign key relationship between the two tables.\"\n",
    "    for foreign_key_pair in foreign_keys_filtered:\n",
    "        database = foreign_key_pair['database'].replace(\".\",\"_\")\n",
    "        table = foreign_key_pair[\"table\"].lower()\n",
    "        foreign_table = foreign_key_pair[\"foreign_table\"].lower()\n",
    "        dataset_name = f\"{database}_{table}_{foreign_table}\"\n",
    "\n",
    "        if alphabetically_sorted:\n",
    "            prompt = question_template.format(tables=\"\\n\".join(sorted([foreign_key_pair[\"table_string\"], foreign_key_pair[\"foreign_table_string\"]])))\n",
    "        else:\n",
    "            prompt = question_template.format(tables=\"\\n\".join([foreign_key_pair[\"table_string\"], foreign_key_pair[\"foreign_table_string\"]]))\n",
    "        ground_truth = json.dumps({\"table\": foreign_key_pair[\"table\"].lower(), \"column\": foreign_key_pair[\"column\"].lower(), \"referencedTable\": foreign_key_pair[\"foreign_table\"].lower(), \"referencedColumn\": foreign_key_pair[\"referred_column\"].lower()})\n",
    "        prompts_ground_truth[dataset_name] = {\"prompt\": prompt, \"foreign_key\": ground_truth}\n",
    "\n",
    "    return prompts_ground_truth"
   ]
  },
  {
   "cell_type": "code",
   "execution_count": null,
   "id": "b3e8aa7e",
   "metadata": {
    "pycharm": {
     "name": "#%%\n"
    }
   },
   "outputs": [],
   "source": [
    "prompts_ground_truth_spider = generate_prompts_and_responses(spider_foreign_keys_filtered)"
   ]
  },
  {
   "cell_type": "code",
   "execution_count": null,
   "id": "f25a2e02",
   "metadata": {
    "pycharm": {
     "name": "#%%\n"
    }
   },
   "outputs": [],
   "source": [
    "prompts_ground_truth_bird = generate_prompts_and_responses(bird_foreign_keys_filtered)"
   ]
  },
  {
   "cell_type": "code",
   "execution_count": null,
   "id": "d5a92e72",
   "metadata": {
    "pycharm": {
     "name": "#%%\n"
    }
   },
   "outputs": [],
   "source": [
    "prompts_ground_truth_ctu = generate_prompts_and_responses(ctu_foreign_keys_filtered)"
   ]
  },
  {
   "cell_type": "code",
   "execution_count": null,
   "id": "a93d1a04",
   "metadata": {
    "pycharm": {
     "name": "#%%\n"
    }
   },
   "outputs": [],
   "source": [
    "with open(\"prompts_ground_truth_spider.json\", \"w+\") as f:\n",
    "    json.dump(prompts_ground_truth_spider, f)"
   ]
  },
  {
   "cell_type": "code",
   "execution_count": null,
   "id": "208ceaf4",
   "metadata": {
    "pycharm": {
     "name": "#%%\n"
    }
   },
   "outputs": [],
   "source": [
    "with open(\"prompts_ground_truth_bird.json\", \"w+\") as f:\n",
    "    json.dump(prompts_ground_truth_bird, f)"
   ]
  },
  {
   "cell_type": "code",
   "execution_count": null,
   "id": "4f504788",
   "metadata": {
    "pycharm": {
     "name": "#%%\n"
    }
   },
   "outputs": [],
   "source": [
    "with open(\"prompts_ground_truth_ctu.json\", \"w+\") as f:\n",
    "    json.dump(prompts_ground_truth_ctu, f)"
   ]
  },
  {
   "cell_type": "code",
   "execution_count": null,
   "id": "a1587c25",
   "metadata": {
    "pycharm": {
     "name": "#%%\n"
    }
   },
   "outputs": [],
   "source": []
  }
 ],
 "metadata": {
  "kernelspec": {
   "display_name": "Python 3 (ipykernel)",
   "language": "python",
   "name": "python3"
  },
  "language_info": {
   "codemirror_mode": {
    "name": "ipython",
    "version": 3
   },
   "file_extension": ".py",
   "mimetype": "text/x-python",
   "name": "python",
   "nbconvert_exporter": "python",
   "pygments_lexer": "ipython3",
   "version": "3.10.11"
  }
 },
 "nbformat": 4,
 "nbformat_minor": 5
}